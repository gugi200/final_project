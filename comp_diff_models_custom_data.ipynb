{
  "nbformat": 4,
  "nbformat_minor": 0,
  "metadata": {
    "colab": {
      "provenance": [],
      "collapsed_sections": [
        "yjfTlsw_j54-",
        "hMLHUUjfkAZi",
        "BL122EEfkEh9",
        "ohYFiINTldY9",
        "1SnNAiTOyEP5",
        "8q08OtkLyKM2",
        "YaxOnCoHyORe",
        "VAUz5QoTyV7K",
        "g-eeIInryd-s",
        "uUIZwyrkyjth",
        "ntNdjuPRypL5",
        "K-sfqxqOyx0s",
        "0HUA-cMKy22s",
        "b6oRTJm8y8DM",
        "omAINKmrzArf"
      ],
      "gpuType": "T4",
      "authorship_tag": "ABX9TyP5ufDhI+HG+FiNGdaEWKsH",
      "include_colab_link": true
    },
    "kernelspec": {
      "name": "python3",
      "display_name": "Python 3"
    },
    "language_info": {
      "name": "python"
    },
    "accelerator": "GPU",
    "widgets": {
      "application/vnd.jupyter.widget-state+json": {
        "dab2797483124f628cced183ac7bc39f": {
          "model_module": "@jupyter-widgets/controls",
          "model_name": "VBoxModel",
          "model_module_version": "1.5.0",
          "state": {
            "_dom_classes": [],
            "_model_module": "@jupyter-widgets/controls",
            "_model_module_version": "1.5.0",
            "_model_name": "VBoxModel",
            "_view_count": null,
            "_view_module": "@jupyter-widgets/controls",
            "_view_module_version": "1.5.0",
            "_view_name": "VBoxView",
            "box_style": "",
            "children": [
              "IPY_MODEL_9b02eba8d6f94b348ed82c2df6c9c761",
              "IPY_MODEL_88cbfbe967ce450ba9a849c2a06a069b"
            ],
            "layout": "IPY_MODEL_b5b686cd899a44f1838cf8f2523da05f"
          }
        },
        "9b02eba8d6f94b348ed82c2df6c9c761": {
          "model_module": "@jupyter-widgets/controls",
          "model_name": "LabelModel",
          "model_module_version": "1.5.0",
          "state": {
            "_dom_classes": [],
            "_model_module": "@jupyter-widgets/controls",
            "_model_module_version": "1.5.0",
            "_model_name": "LabelModel",
            "_view_count": null,
            "_view_module": "@jupyter-widgets/controls",
            "_view_module_version": "1.5.0",
            "_view_name": "LabelView",
            "description": "",
            "description_tooltip": null,
            "layout": "IPY_MODEL_da2aec3db219444b879daf8a05fac8db",
            "placeholder": "​",
            "style": "IPY_MODEL_cdf29aa6841441899d3c6011ae881c29",
            "value": "0.011 MB of 0.011 MB uploaded\r"
          }
        },
        "88cbfbe967ce450ba9a849c2a06a069b": {
          "model_module": "@jupyter-widgets/controls",
          "model_name": "FloatProgressModel",
          "model_module_version": "1.5.0",
          "state": {
            "_dom_classes": [],
            "_model_module": "@jupyter-widgets/controls",
            "_model_module_version": "1.5.0",
            "_model_name": "FloatProgressModel",
            "_view_count": null,
            "_view_module": "@jupyter-widgets/controls",
            "_view_module_version": "1.5.0",
            "_view_name": "ProgressView",
            "bar_style": "",
            "description": "",
            "description_tooltip": null,
            "layout": "IPY_MODEL_53ff567d0a404dbeb9405ebef23bf20a",
            "max": 1,
            "min": 0,
            "orientation": "horizontal",
            "style": "IPY_MODEL_b73ce03f91b14458b9734bcf03c6397a",
            "value": 1
          }
        },
        "b5b686cd899a44f1838cf8f2523da05f": {
          "model_module": "@jupyter-widgets/base",
          "model_name": "LayoutModel",
          "model_module_version": "1.2.0",
          "state": {
            "_model_module": "@jupyter-widgets/base",
            "_model_module_version": "1.2.0",
            "_model_name": "LayoutModel",
            "_view_count": null,
            "_view_module": "@jupyter-widgets/base",
            "_view_module_version": "1.2.0",
            "_view_name": "LayoutView",
            "align_content": null,
            "align_items": null,
            "align_self": null,
            "border": null,
            "bottom": null,
            "display": null,
            "flex": null,
            "flex_flow": null,
            "grid_area": null,
            "grid_auto_columns": null,
            "grid_auto_flow": null,
            "grid_auto_rows": null,
            "grid_column": null,
            "grid_gap": null,
            "grid_row": null,
            "grid_template_areas": null,
            "grid_template_columns": null,
            "grid_template_rows": null,
            "height": null,
            "justify_content": null,
            "justify_items": null,
            "left": null,
            "margin": null,
            "max_height": null,
            "max_width": null,
            "min_height": null,
            "min_width": null,
            "object_fit": null,
            "object_position": null,
            "order": null,
            "overflow": null,
            "overflow_x": null,
            "overflow_y": null,
            "padding": null,
            "right": null,
            "top": null,
            "visibility": null,
            "width": null
          }
        },
        "da2aec3db219444b879daf8a05fac8db": {
          "model_module": "@jupyter-widgets/base",
          "model_name": "LayoutModel",
          "model_module_version": "1.2.0",
          "state": {
            "_model_module": "@jupyter-widgets/base",
            "_model_module_version": "1.2.0",
            "_model_name": "LayoutModel",
            "_view_count": null,
            "_view_module": "@jupyter-widgets/base",
            "_view_module_version": "1.2.0",
            "_view_name": "LayoutView",
            "align_content": null,
            "align_items": null,
            "align_self": null,
            "border": null,
            "bottom": null,
            "display": null,
            "flex": null,
            "flex_flow": null,
            "grid_area": null,
            "grid_auto_columns": null,
            "grid_auto_flow": null,
            "grid_auto_rows": null,
            "grid_column": null,
            "grid_gap": null,
            "grid_row": null,
            "grid_template_areas": null,
            "grid_template_columns": null,
            "grid_template_rows": null,
            "height": null,
            "justify_content": null,
            "justify_items": null,
            "left": null,
            "margin": null,
            "max_height": null,
            "max_width": null,
            "min_height": null,
            "min_width": null,
            "object_fit": null,
            "object_position": null,
            "order": null,
            "overflow": null,
            "overflow_x": null,
            "overflow_y": null,
            "padding": null,
            "right": null,
            "top": null,
            "visibility": null,
            "width": null
          }
        },
        "cdf29aa6841441899d3c6011ae881c29": {
          "model_module": "@jupyter-widgets/controls",
          "model_name": "DescriptionStyleModel",
          "model_module_version": "1.5.0",
          "state": {
            "_model_module": "@jupyter-widgets/controls",
            "_model_module_version": "1.5.0",
            "_model_name": "DescriptionStyleModel",
            "_view_count": null,
            "_view_module": "@jupyter-widgets/base",
            "_view_module_version": "1.2.0",
            "_view_name": "StyleView",
            "description_width": ""
          }
        },
        "53ff567d0a404dbeb9405ebef23bf20a": {
          "model_module": "@jupyter-widgets/base",
          "model_name": "LayoutModel",
          "model_module_version": "1.2.0",
          "state": {
            "_model_module": "@jupyter-widgets/base",
            "_model_module_version": "1.2.0",
            "_model_name": "LayoutModel",
            "_view_count": null,
            "_view_module": "@jupyter-widgets/base",
            "_view_module_version": "1.2.0",
            "_view_name": "LayoutView",
            "align_content": null,
            "align_items": null,
            "align_self": null,
            "border": null,
            "bottom": null,
            "display": null,
            "flex": null,
            "flex_flow": null,
            "grid_area": null,
            "grid_auto_columns": null,
            "grid_auto_flow": null,
            "grid_auto_rows": null,
            "grid_column": null,
            "grid_gap": null,
            "grid_row": null,
            "grid_template_areas": null,
            "grid_template_columns": null,
            "grid_template_rows": null,
            "height": null,
            "justify_content": null,
            "justify_items": null,
            "left": null,
            "margin": null,
            "max_height": null,
            "max_width": null,
            "min_height": null,
            "min_width": null,
            "object_fit": null,
            "object_position": null,
            "order": null,
            "overflow": null,
            "overflow_x": null,
            "overflow_y": null,
            "padding": null,
            "right": null,
            "top": null,
            "visibility": null,
            "width": null
          }
        },
        "b73ce03f91b14458b9734bcf03c6397a": {
          "model_module": "@jupyter-widgets/controls",
          "model_name": "ProgressStyleModel",
          "model_module_version": "1.5.0",
          "state": {
            "_model_module": "@jupyter-widgets/controls",
            "_model_module_version": "1.5.0",
            "_model_name": "ProgressStyleModel",
            "_view_count": null,
            "_view_module": "@jupyter-widgets/base",
            "_view_module_version": "1.2.0",
            "_view_name": "StyleView",
            "bar_color": null,
            "description_width": ""
          }
        },
        "1cab16eee93e45e3b8e0a64886e0b417": {
          "model_module": "@jupyter-widgets/controls",
          "model_name": "VBoxModel",
          "model_module_version": "1.5.0",
          "state": {
            "_dom_classes": [],
            "_model_module": "@jupyter-widgets/controls",
            "_model_module_version": "1.5.0",
            "_model_name": "VBoxModel",
            "_view_count": null,
            "_view_module": "@jupyter-widgets/controls",
            "_view_module_version": "1.5.0",
            "_view_name": "VBoxView",
            "box_style": "",
            "children": [
              "IPY_MODEL_6b9632c9a2014ab6a48bbaad60e42d7b",
              "IPY_MODEL_15036e07c0ae4c27b33f4a8431dc07d1"
            ],
            "layout": "IPY_MODEL_bb82d60b88de4c74a9cdd8ae89c77960"
          }
        },
        "6b9632c9a2014ab6a48bbaad60e42d7b": {
          "model_module": "@jupyter-widgets/controls",
          "model_name": "LabelModel",
          "model_module_version": "1.5.0",
          "state": {
            "_dom_classes": [],
            "_model_module": "@jupyter-widgets/controls",
            "_model_module_version": "1.5.0",
            "_model_name": "LabelModel",
            "_view_count": null,
            "_view_module": "@jupyter-widgets/controls",
            "_view_module_version": "1.5.0",
            "_view_name": "LabelView",
            "description": "",
            "description_tooltip": null,
            "layout": "IPY_MODEL_c820aed1ed5148f896c26834c6602085",
            "placeholder": "​",
            "style": "IPY_MODEL_f729e1e6bca24b3784631ca6e9706ffe",
            "value": "0.011 MB of 0.011 MB uploaded\r"
          }
        },
        "15036e07c0ae4c27b33f4a8431dc07d1": {
          "model_module": "@jupyter-widgets/controls",
          "model_name": "FloatProgressModel",
          "model_module_version": "1.5.0",
          "state": {
            "_dom_classes": [],
            "_model_module": "@jupyter-widgets/controls",
            "_model_module_version": "1.5.0",
            "_model_name": "FloatProgressModel",
            "_view_count": null,
            "_view_module": "@jupyter-widgets/controls",
            "_view_module_version": "1.5.0",
            "_view_name": "ProgressView",
            "bar_style": "",
            "description": "",
            "description_tooltip": null,
            "layout": "IPY_MODEL_5dc963e205ad4ced92f5721f1f82aaa8",
            "max": 1,
            "min": 0,
            "orientation": "horizontal",
            "style": "IPY_MODEL_41ecef4f175144b4b62bce2dcfdecd40",
            "value": 1
          }
        },
        "bb82d60b88de4c74a9cdd8ae89c77960": {
          "model_module": "@jupyter-widgets/base",
          "model_name": "LayoutModel",
          "model_module_version": "1.2.0",
          "state": {
            "_model_module": "@jupyter-widgets/base",
            "_model_module_version": "1.2.0",
            "_model_name": "LayoutModel",
            "_view_count": null,
            "_view_module": "@jupyter-widgets/base",
            "_view_module_version": "1.2.0",
            "_view_name": "LayoutView",
            "align_content": null,
            "align_items": null,
            "align_self": null,
            "border": null,
            "bottom": null,
            "display": null,
            "flex": null,
            "flex_flow": null,
            "grid_area": null,
            "grid_auto_columns": null,
            "grid_auto_flow": null,
            "grid_auto_rows": null,
            "grid_column": null,
            "grid_gap": null,
            "grid_row": null,
            "grid_template_areas": null,
            "grid_template_columns": null,
            "grid_template_rows": null,
            "height": null,
            "justify_content": null,
            "justify_items": null,
            "left": null,
            "margin": null,
            "max_height": null,
            "max_width": null,
            "min_height": null,
            "min_width": null,
            "object_fit": null,
            "object_position": null,
            "order": null,
            "overflow": null,
            "overflow_x": null,
            "overflow_y": null,
            "padding": null,
            "right": null,
            "top": null,
            "visibility": null,
            "width": null
          }
        },
        "c820aed1ed5148f896c26834c6602085": {
          "model_module": "@jupyter-widgets/base",
          "model_name": "LayoutModel",
          "model_module_version": "1.2.0",
          "state": {
            "_model_module": "@jupyter-widgets/base",
            "_model_module_version": "1.2.0",
            "_model_name": "LayoutModel",
            "_view_count": null,
            "_view_module": "@jupyter-widgets/base",
            "_view_module_version": "1.2.0",
            "_view_name": "LayoutView",
            "align_content": null,
            "align_items": null,
            "align_self": null,
            "border": null,
            "bottom": null,
            "display": null,
            "flex": null,
            "flex_flow": null,
            "grid_area": null,
            "grid_auto_columns": null,
            "grid_auto_flow": null,
            "grid_auto_rows": null,
            "grid_column": null,
            "grid_gap": null,
            "grid_row": null,
            "grid_template_areas": null,
            "grid_template_columns": null,
            "grid_template_rows": null,
            "height": null,
            "justify_content": null,
            "justify_items": null,
            "left": null,
            "margin": null,
            "max_height": null,
            "max_width": null,
            "min_height": null,
            "min_width": null,
            "object_fit": null,
            "object_position": null,
            "order": null,
            "overflow": null,
            "overflow_x": null,
            "overflow_y": null,
            "padding": null,
            "right": null,
            "top": null,
            "visibility": null,
            "width": null
          }
        },
        "f729e1e6bca24b3784631ca6e9706ffe": {
          "model_module": "@jupyter-widgets/controls",
          "model_name": "DescriptionStyleModel",
          "model_module_version": "1.5.0",
          "state": {
            "_model_module": "@jupyter-widgets/controls",
            "_model_module_version": "1.5.0",
            "_model_name": "DescriptionStyleModel",
            "_view_count": null,
            "_view_module": "@jupyter-widgets/base",
            "_view_module_version": "1.2.0",
            "_view_name": "StyleView",
            "description_width": ""
          }
        },
        "5dc963e205ad4ced92f5721f1f82aaa8": {
          "model_module": "@jupyter-widgets/base",
          "model_name": "LayoutModel",
          "model_module_version": "1.2.0",
          "state": {
            "_model_module": "@jupyter-widgets/base",
            "_model_module_version": "1.2.0",
            "_model_name": "LayoutModel",
            "_view_count": null,
            "_view_module": "@jupyter-widgets/base",
            "_view_module_version": "1.2.0",
            "_view_name": "LayoutView",
            "align_content": null,
            "align_items": null,
            "align_self": null,
            "border": null,
            "bottom": null,
            "display": null,
            "flex": null,
            "flex_flow": null,
            "grid_area": null,
            "grid_auto_columns": null,
            "grid_auto_flow": null,
            "grid_auto_rows": null,
            "grid_column": null,
            "grid_gap": null,
            "grid_row": null,
            "grid_template_areas": null,
            "grid_template_columns": null,
            "grid_template_rows": null,
            "height": null,
            "justify_content": null,
            "justify_items": null,
            "left": null,
            "margin": null,
            "max_height": null,
            "max_width": null,
            "min_height": null,
            "min_width": null,
            "object_fit": null,
            "object_position": null,
            "order": null,
            "overflow": null,
            "overflow_x": null,
            "overflow_y": null,
            "padding": null,
            "right": null,
            "top": null,
            "visibility": null,
            "width": null
          }
        },
        "41ecef4f175144b4b62bce2dcfdecd40": {
          "model_module": "@jupyter-widgets/controls",
          "model_name": "ProgressStyleModel",
          "model_module_version": "1.5.0",
          "state": {
            "_model_module": "@jupyter-widgets/controls",
            "_model_module_version": "1.5.0",
            "_model_name": "ProgressStyleModel",
            "_view_count": null,
            "_view_module": "@jupyter-widgets/base",
            "_view_module_version": "1.2.0",
            "_view_name": "StyleView",
            "bar_color": null,
            "description_width": ""
          }
        },
        "ae503938d8dd4fd2a567694cd3348f37": {
          "model_module": "@jupyter-widgets/controls",
          "model_name": "VBoxModel",
          "model_module_version": "1.5.0",
          "state": {
            "_dom_classes": [],
            "_model_module": "@jupyter-widgets/controls",
            "_model_module_version": "1.5.0",
            "_model_name": "VBoxModel",
            "_view_count": null,
            "_view_module": "@jupyter-widgets/controls",
            "_view_module_version": "1.5.0",
            "_view_name": "VBoxView",
            "box_style": "",
            "children": [
              "IPY_MODEL_5536e245ab9648d88baa545845bd16ce",
              "IPY_MODEL_511da199d4e54cac9603c943faa4d261"
            ],
            "layout": "IPY_MODEL_73c420bb8311437c88cb5a652fc6f87e"
          }
        },
        "5536e245ab9648d88baa545845bd16ce": {
          "model_module": "@jupyter-widgets/controls",
          "model_name": "LabelModel",
          "model_module_version": "1.5.0",
          "state": {
            "_dom_classes": [],
            "_model_module": "@jupyter-widgets/controls",
            "_model_module_version": "1.5.0",
            "_model_name": "LabelModel",
            "_view_count": null,
            "_view_module": "@jupyter-widgets/controls",
            "_view_module_version": "1.5.0",
            "_view_name": "LabelView",
            "description": "",
            "description_tooltip": null,
            "layout": "IPY_MODEL_4a13d1a2f02d4242b9e2a5a9332f93dc",
            "placeholder": "​",
            "style": "IPY_MODEL_a4fc3dd963724406bbb977af288e2867",
            "value": "Waiting for wandb.init()...\r"
          }
        },
        "511da199d4e54cac9603c943faa4d261": {
          "model_module": "@jupyter-widgets/controls",
          "model_name": "FloatProgressModel",
          "model_module_version": "1.5.0",
          "state": {
            "_dom_classes": [],
            "_model_module": "@jupyter-widgets/controls",
            "_model_module_version": "1.5.0",
            "_model_name": "FloatProgressModel",
            "_view_count": null,
            "_view_module": "@jupyter-widgets/controls",
            "_view_module_version": "1.5.0",
            "_view_name": "ProgressView",
            "bar_style": "",
            "description": "",
            "description_tooltip": null,
            "layout": "IPY_MODEL_0257a28717d6400793f2e3bcf8c5ebf0",
            "max": 1,
            "min": 0,
            "orientation": "horizontal",
            "style": "IPY_MODEL_0f7025356b1742889a05e51af1cce024",
            "value": 1
          }
        },
        "73c420bb8311437c88cb5a652fc6f87e": {
          "model_module": "@jupyter-widgets/base",
          "model_name": "LayoutModel",
          "model_module_version": "1.2.0",
          "state": {
            "_model_module": "@jupyter-widgets/base",
            "_model_module_version": "1.2.0",
            "_model_name": "LayoutModel",
            "_view_count": null,
            "_view_module": "@jupyter-widgets/base",
            "_view_module_version": "1.2.0",
            "_view_name": "LayoutView",
            "align_content": null,
            "align_items": null,
            "align_self": null,
            "border": null,
            "bottom": null,
            "display": null,
            "flex": null,
            "flex_flow": null,
            "grid_area": null,
            "grid_auto_columns": null,
            "grid_auto_flow": null,
            "grid_auto_rows": null,
            "grid_column": null,
            "grid_gap": null,
            "grid_row": null,
            "grid_template_areas": null,
            "grid_template_columns": null,
            "grid_template_rows": null,
            "height": null,
            "justify_content": null,
            "justify_items": null,
            "left": null,
            "margin": null,
            "max_height": null,
            "max_width": null,
            "min_height": null,
            "min_width": null,
            "object_fit": null,
            "object_position": null,
            "order": null,
            "overflow": null,
            "overflow_x": null,
            "overflow_y": null,
            "padding": null,
            "right": null,
            "top": null,
            "visibility": null,
            "width": null
          }
        },
        "4a13d1a2f02d4242b9e2a5a9332f93dc": {
          "model_module": "@jupyter-widgets/base",
          "model_name": "LayoutModel",
          "model_module_version": "1.2.0",
          "state": {
            "_model_module": "@jupyter-widgets/base",
            "_model_module_version": "1.2.0",
            "_model_name": "LayoutModel",
            "_view_count": null,
            "_view_module": "@jupyter-widgets/base",
            "_view_module_version": "1.2.0",
            "_view_name": "LayoutView",
            "align_content": null,
            "align_items": null,
            "align_self": null,
            "border": null,
            "bottom": null,
            "display": null,
            "flex": null,
            "flex_flow": null,
            "grid_area": null,
            "grid_auto_columns": null,
            "grid_auto_flow": null,
            "grid_auto_rows": null,
            "grid_column": null,
            "grid_gap": null,
            "grid_row": null,
            "grid_template_areas": null,
            "grid_template_columns": null,
            "grid_template_rows": null,
            "height": null,
            "justify_content": null,
            "justify_items": null,
            "left": null,
            "margin": null,
            "max_height": null,
            "max_width": null,
            "min_height": null,
            "min_width": null,
            "object_fit": null,
            "object_position": null,
            "order": null,
            "overflow": null,
            "overflow_x": null,
            "overflow_y": null,
            "padding": null,
            "right": null,
            "top": null,
            "visibility": null,
            "width": null
          }
        },
        "a4fc3dd963724406bbb977af288e2867": {
          "model_module": "@jupyter-widgets/controls",
          "model_name": "DescriptionStyleModel",
          "model_module_version": "1.5.0",
          "state": {
            "_model_module": "@jupyter-widgets/controls",
            "_model_module_version": "1.5.0",
            "_model_name": "DescriptionStyleModel",
            "_view_count": null,
            "_view_module": "@jupyter-widgets/base",
            "_view_module_version": "1.2.0",
            "_view_name": "StyleView",
            "description_width": ""
          }
        },
        "0257a28717d6400793f2e3bcf8c5ebf0": {
          "model_module": "@jupyter-widgets/base",
          "model_name": "LayoutModel",
          "model_module_version": "1.2.0",
          "state": {
            "_model_module": "@jupyter-widgets/base",
            "_model_module_version": "1.2.0",
            "_model_name": "LayoutModel",
            "_view_count": null,
            "_view_module": "@jupyter-widgets/base",
            "_view_module_version": "1.2.0",
            "_view_name": "LayoutView",
            "align_content": null,
            "align_items": null,
            "align_self": null,
            "border": null,
            "bottom": null,
            "display": null,
            "flex": null,
            "flex_flow": null,
            "grid_area": null,
            "grid_auto_columns": null,
            "grid_auto_flow": null,
            "grid_auto_rows": null,
            "grid_column": null,
            "grid_gap": null,
            "grid_row": null,
            "grid_template_areas": null,
            "grid_template_columns": null,
            "grid_template_rows": null,
            "height": null,
            "justify_content": null,
            "justify_items": null,
            "left": null,
            "margin": null,
            "max_height": null,
            "max_width": null,
            "min_height": null,
            "min_width": null,
            "object_fit": null,
            "object_position": null,
            "order": null,
            "overflow": null,
            "overflow_x": null,
            "overflow_y": null,
            "padding": null,
            "right": null,
            "top": null,
            "visibility": null,
            "width": null
          }
        },
        "0f7025356b1742889a05e51af1cce024": {
          "model_module": "@jupyter-widgets/controls",
          "model_name": "ProgressStyleModel",
          "model_module_version": "1.5.0",
          "state": {
            "_model_module": "@jupyter-widgets/controls",
            "_model_module_version": "1.5.0",
            "_model_name": "ProgressStyleModel",
            "_view_count": null,
            "_view_module": "@jupyter-widgets/base",
            "_view_module_version": "1.2.0",
            "_view_name": "StyleView",
            "bar_color": null,
            "description_width": ""
          }
        },
        "6a9ea9c0f21045f3b978d21f884f1d5f": {
          "model_module": "@jupyter-widgets/controls",
          "model_name": "VBoxModel",
          "model_module_version": "1.5.0",
          "state": {
            "_dom_classes": [],
            "_model_module": "@jupyter-widgets/controls",
            "_model_module_version": "1.5.0",
            "_model_name": "VBoxModel",
            "_view_count": null,
            "_view_module": "@jupyter-widgets/controls",
            "_view_module_version": "1.5.0",
            "_view_name": "VBoxView",
            "box_style": "",
            "children": [
              "IPY_MODEL_d281830498bd45c7871ff00dcdce632f",
              "IPY_MODEL_6ca845f932da4d9eab99ccfc95105df7"
            ],
            "layout": "IPY_MODEL_7bb49194b516430ebe18e11068c91749"
          }
        },
        "d281830498bd45c7871ff00dcdce632f": {
          "model_module": "@jupyter-widgets/controls",
          "model_name": "LabelModel",
          "model_module_version": "1.5.0",
          "state": {
            "_dom_classes": [],
            "_model_module": "@jupyter-widgets/controls",
            "_model_module_version": "1.5.0",
            "_model_name": "LabelModel",
            "_view_count": null,
            "_view_module": "@jupyter-widgets/controls",
            "_view_module_version": "1.5.0",
            "_view_name": "LabelView",
            "description": "",
            "description_tooltip": null,
            "layout": "IPY_MODEL_0f7463c96fcd46ccbee92715b1eb1ed0",
            "placeholder": "​",
            "style": "IPY_MODEL_337588f8edf3484d94e7b2c397cc03f2",
            "value": "0.011 MB of 0.011 MB uploaded\r"
          }
        },
        "6ca845f932da4d9eab99ccfc95105df7": {
          "model_module": "@jupyter-widgets/controls",
          "model_name": "FloatProgressModel",
          "model_module_version": "1.5.0",
          "state": {
            "_dom_classes": [],
            "_model_module": "@jupyter-widgets/controls",
            "_model_module_version": "1.5.0",
            "_model_name": "FloatProgressModel",
            "_view_count": null,
            "_view_module": "@jupyter-widgets/controls",
            "_view_module_version": "1.5.0",
            "_view_name": "ProgressView",
            "bar_style": "",
            "description": "",
            "description_tooltip": null,
            "layout": "IPY_MODEL_0f9881acb40c4c2e948ed02fc3262862",
            "max": 1,
            "min": 0,
            "orientation": "horizontal",
            "style": "IPY_MODEL_4de47b09b3b0415f8675541e0cdbd2fa",
            "value": 1
          }
        },
        "7bb49194b516430ebe18e11068c91749": {
          "model_module": "@jupyter-widgets/base",
          "model_name": "LayoutModel",
          "model_module_version": "1.2.0",
          "state": {
            "_model_module": "@jupyter-widgets/base",
            "_model_module_version": "1.2.0",
            "_model_name": "LayoutModel",
            "_view_count": null,
            "_view_module": "@jupyter-widgets/base",
            "_view_module_version": "1.2.0",
            "_view_name": "LayoutView",
            "align_content": null,
            "align_items": null,
            "align_self": null,
            "border": null,
            "bottom": null,
            "display": null,
            "flex": null,
            "flex_flow": null,
            "grid_area": null,
            "grid_auto_columns": null,
            "grid_auto_flow": null,
            "grid_auto_rows": null,
            "grid_column": null,
            "grid_gap": null,
            "grid_row": null,
            "grid_template_areas": null,
            "grid_template_columns": null,
            "grid_template_rows": null,
            "height": null,
            "justify_content": null,
            "justify_items": null,
            "left": null,
            "margin": null,
            "max_height": null,
            "max_width": null,
            "min_height": null,
            "min_width": null,
            "object_fit": null,
            "object_position": null,
            "order": null,
            "overflow": null,
            "overflow_x": null,
            "overflow_y": null,
            "padding": null,
            "right": null,
            "top": null,
            "visibility": null,
            "width": null
          }
        },
        "0f7463c96fcd46ccbee92715b1eb1ed0": {
          "model_module": "@jupyter-widgets/base",
          "model_name": "LayoutModel",
          "model_module_version": "1.2.0",
          "state": {
            "_model_module": "@jupyter-widgets/base",
            "_model_module_version": "1.2.0",
            "_model_name": "LayoutModel",
            "_view_count": null,
            "_view_module": "@jupyter-widgets/base",
            "_view_module_version": "1.2.0",
            "_view_name": "LayoutView",
            "align_content": null,
            "align_items": null,
            "align_self": null,
            "border": null,
            "bottom": null,
            "display": null,
            "flex": null,
            "flex_flow": null,
            "grid_area": null,
            "grid_auto_columns": null,
            "grid_auto_flow": null,
            "grid_auto_rows": null,
            "grid_column": null,
            "grid_gap": null,
            "grid_row": null,
            "grid_template_areas": null,
            "grid_template_columns": null,
            "grid_template_rows": null,
            "height": null,
            "justify_content": null,
            "justify_items": null,
            "left": null,
            "margin": null,
            "max_height": null,
            "max_width": null,
            "min_height": null,
            "min_width": null,
            "object_fit": null,
            "object_position": null,
            "order": null,
            "overflow": null,
            "overflow_x": null,
            "overflow_y": null,
            "padding": null,
            "right": null,
            "top": null,
            "visibility": null,
            "width": null
          }
        },
        "337588f8edf3484d94e7b2c397cc03f2": {
          "model_module": "@jupyter-widgets/controls",
          "model_name": "DescriptionStyleModel",
          "model_module_version": "1.5.0",
          "state": {
            "_model_module": "@jupyter-widgets/controls",
            "_model_module_version": "1.5.0",
            "_model_name": "DescriptionStyleModel",
            "_view_count": null,
            "_view_module": "@jupyter-widgets/base",
            "_view_module_version": "1.2.0",
            "_view_name": "StyleView",
            "description_width": ""
          }
        },
        "0f9881acb40c4c2e948ed02fc3262862": {
          "model_module": "@jupyter-widgets/base",
          "model_name": "LayoutModel",
          "model_module_version": "1.2.0",
          "state": {
            "_model_module": "@jupyter-widgets/base",
            "_model_module_version": "1.2.0",
            "_model_name": "LayoutModel",
            "_view_count": null,
            "_view_module": "@jupyter-widgets/base",
            "_view_module_version": "1.2.0",
            "_view_name": "LayoutView",
            "align_content": null,
            "align_items": null,
            "align_self": null,
            "border": null,
            "bottom": null,
            "display": null,
            "flex": null,
            "flex_flow": null,
            "grid_area": null,
            "grid_auto_columns": null,
            "grid_auto_flow": null,
            "grid_auto_rows": null,
            "grid_column": null,
            "grid_gap": null,
            "grid_row": null,
            "grid_template_areas": null,
            "grid_template_columns": null,
            "grid_template_rows": null,
            "height": null,
            "justify_content": null,
            "justify_items": null,
            "left": null,
            "margin": null,
            "max_height": null,
            "max_width": null,
            "min_height": null,
            "min_width": null,
            "object_fit": null,
            "object_position": null,
            "order": null,
            "overflow": null,
            "overflow_x": null,
            "overflow_y": null,
            "padding": null,
            "right": null,
            "top": null,
            "visibility": null,
            "width": null
          }
        },
        "4de47b09b3b0415f8675541e0cdbd2fa": {
          "model_module": "@jupyter-widgets/controls",
          "model_name": "ProgressStyleModel",
          "model_module_version": "1.5.0",
          "state": {
            "_model_module": "@jupyter-widgets/controls",
            "_model_module_version": "1.5.0",
            "_model_name": "ProgressStyleModel",
            "_view_count": null,
            "_view_module": "@jupyter-widgets/base",
            "_view_module_version": "1.2.0",
            "_view_name": "StyleView",
            "bar_color": null,
            "description_width": ""
          }
        },
        "dd0cdb63ccd040928324f03a4e3d4e43": {
          "model_module": "@jupyter-widgets/controls",
          "model_name": "VBoxModel",
          "model_module_version": "1.5.0",
          "state": {
            "_dom_classes": [],
            "_model_module": "@jupyter-widgets/controls",
            "_model_module_version": "1.5.0",
            "_model_name": "VBoxModel",
            "_view_count": null,
            "_view_module": "@jupyter-widgets/controls",
            "_view_module_version": "1.5.0",
            "_view_name": "VBoxView",
            "box_style": "",
            "children": [
              "IPY_MODEL_fa4d09073afb4f74b5dd636a1e6e1a4c",
              "IPY_MODEL_6ac14fb73e044736aebd4d5971b3494b"
            ],
            "layout": "IPY_MODEL_941fb47a6d014722a55b4def01225aab"
          }
        },
        "fa4d09073afb4f74b5dd636a1e6e1a4c": {
          "model_module": "@jupyter-widgets/controls",
          "model_name": "LabelModel",
          "model_module_version": "1.5.0",
          "state": {
            "_dom_classes": [],
            "_model_module": "@jupyter-widgets/controls",
            "_model_module_version": "1.5.0",
            "_model_name": "LabelModel",
            "_view_count": null,
            "_view_module": "@jupyter-widgets/controls",
            "_view_module_version": "1.5.0",
            "_view_name": "LabelView",
            "description": "",
            "description_tooltip": null,
            "layout": "IPY_MODEL_1855d1d77127447c98990a73acc8737a",
            "placeholder": "​",
            "style": "IPY_MODEL_3e9517200e1c404da7485053f66191d9",
            "value": "0.011 MB of 0.011 MB uploaded\r"
          }
        },
        "6ac14fb73e044736aebd4d5971b3494b": {
          "model_module": "@jupyter-widgets/controls",
          "model_name": "FloatProgressModel",
          "model_module_version": "1.5.0",
          "state": {
            "_dom_classes": [],
            "_model_module": "@jupyter-widgets/controls",
            "_model_module_version": "1.5.0",
            "_model_name": "FloatProgressModel",
            "_view_count": null,
            "_view_module": "@jupyter-widgets/controls",
            "_view_module_version": "1.5.0",
            "_view_name": "ProgressView",
            "bar_style": "",
            "description": "",
            "description_tooltip": null,
            "layout": "IPY_MODEL_2ec03d7d97b74574881e707363953b3a",
            "max": 1,
            "min": 0,
            "orientation": "horizontal",
            "style": "IPY_MODEL_09134015f92141cb8e63a2c4645b9d0d",
            "value": 1
          }
        },
        "941fb47a6d014722a55b4def01225aab": {
          "model_module": "@jupyter-widgets/base",
          "model_name": "LayoutModel",
          "model_module_version": "1.2.0",
          "state": {
            "_model_module": "@jupyter-widgets/base",
            "_model_module_version": "1.2.0",
            "_model_name": "LayoutModel",
            "_view_count": null,
            "_view_module": "@jupyter-widgets/base",
            "_view_module_version": "1.2.0",
            "_view_name": "LayoutView",
            "align_content": null,
            "align_items": null,
            "align_self": null,
            "border": null,
            "bottom": null,
            "display": null,
            "flex": null,
            "flex_flow": null,
            "grid_area": null,
            "grid_auto_columns": null,
            "grid_auto_flow": null,
            "grid_auto_rows": null,
            "grid_column": null,
            "grid_gap": null,
            "grid_row": null,
            "grid_template_areas": null,
            "grid_template_columns": null,
            "grid_template_rows": null,
            "height": null,
            "justify_content": null,
            "justify_items": null,
            "left": null,
            "margin": null,
            "max_height": null,
            "max_width": null,
            "min_height": null,
            "min_width": null,
            "object_fit": null,
            "object_position": null,
            "order": null,
            "overflow": null,
            "overflow_x": null,
            "overflow_y": null,
            "padding": null,
            "right": null,
            "top": null,
            "visibility": null,
            "width": null
          }
        },
        "1855d1d77127447c98990a73acc8737a": {
          "model_module": "@jupyter-widgets/base",
          "model_name": "LayoutModel",
          "model_module_version": "1.2.0",
          "state": {
            "_model_module": "@jupyter-widgets/base",
            "_model_module_version": "1.2.0",
            "_model_name": "LayoutModel",
            "_view_count": null,
            "_view_module": "@jupyter-widgets/base",
            "_view_module_version": "1.2.0",
            "_view_name": "LayoutView",
            "align_content": null,
            "align_items": null,
            "align_self": null,
            "border": null,
            "bottom": null,
            "display": null,
            "flex": null,
            "flex_flow": null,
            "grid_area": null,
            "grid_auto_columns": null,
            "grid_auto_flow": null,
            "grid_auto_rows": null,
            "grid_column": null,
            "grid_gap": null,
            "grid_row": null,
            "grid_template_areas": null,
            "grid_template_columns": null,
            "grid_template_rows": null,
            "height": null,
            "justify_content": null,
            "justify_items": null,
            "left": null,
            "margin": null,
            "max_height": null,
            "max_width": null,
            "min_height": null,
            "min_width": null,
            "object_fit": null,
            "object_position": null,
            "order": null,
            "overflow": null,
            "overflow_x": null,
            "overflow_y": null,
            "padding": null,
            "right": null,
            "top": null,
            "visibility": null,
            "width": null
          }
        },
        "3e9517200e1c404da7485053f66191d9": {
          "model_module": "@jupyter-widgets/controls",
          "model_name": "DescriptionStyleModel",
          "model_module_version": "1.5.0",
          "state": {
            "_model_module": "@jupyter-widgets/controls",
            "_model_module_version": "1.5.0",
            "_model_name": "DescriptionStyleModel",
            "_view_count": null,
            "_view_module": "@jupyter-widgets/base",
            "_view_module_version": "1.2.0",
            "_view_name": "StyleView",
            "description_width": ""
          }
        },
        "2ec03d7d97b74574881e707363953b3a": {
          "model_module": "@jupyter-widgets/base",
          "model_name": "LayoutModel",
          "model_module_version": "1.2.0",
          "state": {
            "_model_module": "@jupyter-widgets/base",
            "_model_module_version": "1.2.0",
            "_model_name": "LayoutModel",
            "_view_count": null,
            "_view_module": "@jupyter-widgets/base",
            "_view_module_version": "1.2.0",
            "_view_name": "LayoutView",
            "align_content": null,
            "align_items": null,
            "align_self": null,
            "border": null,
            "bottom": null,
            "display": null,
            "flex": null,
            "flex_flow": null,
            "grid_area": null,
            "grid_auto_columns": null,
            "grid_auto_flow": null,
            "grid_auto_rows": null,
            "grid_column": null,
            "grid_gap": null,
            "grid_row": null,
            "grid_template_areas": null,
            "grid_template_columns": null,
            "grid_template_rows": null,
            "height": null,
            "justify_content": null,
            "justify_items": null,
            "left": null,
            "margin": null,
            "max_height": null,
            "max_width": null,
            "min_height": null,
            "min_width": null,
            "object_fit": null,
            "object_position": null,
            "order": null,
            "overflow": null,
            "overflow_x": null,
            "overflow_y": null,
            "padding": null,
            "right": null,
            "top": null,
            "visibility": null,
            "width": null
          }
        },
        "09134015f92141cb8e63a2c4645b9d0d": {
          "model_module": "@jupyter-widgets/controls",
          "model_name": "ProgressStyleModel",
          "model_module_version": "1.5.0",
          "state": {
            "_model_module": "@jupyter-widgets/controls",
            "_model_module_version": "1.5.0",
            "_model_name": "ProgressStyleModel",
            "_view_count": null,
            "_view_module": "@jupyter-widgets/base",
            "_view_module_version": "1.2.0",
            "_view_name": "StyleView",
            "bar_color": null,
            "description_width": ""
          }
        },
        "9227b78c9b0a4ab39909f7ebe6022968": {
          "model_module": "@jupyter-widgets/controls",
          "model_name": "VBoxModel",
          "model_module_version": "1.5.0",
          "state": {
            "_dom_classes": [],
            "_model_module": "@jupyter-widgets/controls",
            "_model_module_version": "1.5.0",
            "_model_name": "VBoxModel",
            "_view_count": null,
            "_view_module": "@jupyter-widgets/controls",
            "_view_module_version": "1.5.0",
            "_view_name": "VBoxView",
            "box_style": "",
            "children": [
              "IPY_MODEL_7d4644e2fc604b6c8bab32a42b461c94",
              "IPY_MODEL_74437730786a487482b323f85880ef37"
            ],
            "layout": "IPY_MODEL_10db90c7f7c1442a9f37378579ce5169"
          }
        },
        "7d4644e2fc604b6c8bab32a42b461c94": {
          "model_module": "@jupyter-widgets/controls",
          "model_name": "LabelModel",
          "model_module_version": "1.5.0",
          "state": {
            "_dom_classes": [],
            "_model_module": "@jupyter-widgets/controls",
            "_model_module_version": "1.5.0",
            "_model_name": "LabelModel",
            "_view_count": null,
            "_view_module": "@jupyter-widgets/controls",
            "_view_module_version": "1.5.0",
            "_view_name": "LabelView",
            "description": "",
            "description_tooltip": null,
            "layout": "IPY_MODEL_64427a1eb4c54f8e93913c11817b9468",
            "placeholder": "​",
            "style": "IPY_MODEL_fb9f2f2a909344d2bd69a8528b47a7e3",
            "value": "0.012 MB of 0.012 MB uploaded\r"
          }
        },
        "74437730786a487482b323f85880ef37": {
          "model_module": "@jupyter-widgets/controls",
          "model_name": "FloatProgressModel",
          "model_module_version": "1.5.0",
          "state": {
            "_dom_classes": [],
            "_model_module": "@jupyter-widgets/controls",
            "_model_module_version": "1.5.0",
            "_model_name": "FloatProgressModel",
            "_view_count": null,
            "_view_module": "@jupyter-widgets/controls",
            "_view_module_version": "1.5.0",
            "_view_name": "ProgressView",
            "bar_style": "",
            "description": "",
            "description_tooltip": null,
            "layout": "IPY_MODEL_1eb3e010e65b43dd91632117275d191b",
            "max": 1,
            "min": 0,
            "orientation": "horizontal",
            "style": "IPY_MODEL_991b7e84ea7740bca6c8f4b46cc41520",
            "value": 1
          }
        },
        "10db90c7f7c1442a9f37378579ce5169": {
          "model_module": "@jupyter-widgets/base",
          "model_name": "LayoutModel",
          "model_module_version": "1.2.0",
          "state": {
            "_model_module": "@jupyter-widgets/base",
            "_model_module_version": "1.2.0",
            "_model_name": "LayoutModel",
            "_view_count": null,
            "_view_module": "@jupyter-widgets/base",
            "_view_module_version": "1.2.0",
            "_view_name": "LayoutView",
            "align_content": null,
            "align_items": null,
            "align_self": null,
            "border": null,
            "bottom": null,
            "display": null,
            "flex": null,
            "flex_flow": null,
            "grid_area": null,
            "grid_auto_columns": null,
            "grid_auto_flow": null,
            "grid_auto_rows": null,
            "grid_column": null,
            "grid_gap": null,
            "grid_row": null,
            "grid_template_areas": null,
            "grid_template_columns": null,
            "grid_template_rows": null,
            "height": null,
            "justify_content": null,
            "justify_items": null,
            "left": null,
            "margin": null,
            "max_height": null,
            "max_width": null,
            "min_height": null,
            "min_width": null,
            "object_fit": null,
            "object_position": null,
            "order": null,
            "overflow": null,
            "overflow_x": null,
            "overflow_y": null,
            "padding": null,
            "right": null,
            "top": null,
            "visibility": null,
            "width": null
          }
        },
        "64427a1eb4c54f8e93913c11817b9468": {
          "model_module": "@jupyter-widgets/base",
          "model_name": "LayoutModel",
          "model_module_version": "1.2.0",
          "state": {
            "_model_module": "@jupyter-widgets/base",
            "_model_module_version": "1.2.0",
            "_model_name": "LayoutModel",
            "_view_count": null,
            "_view_module": "@jupyter-widgets/base",
            "_view_module_version": "1.2.0",
            "_view_name": "LayoutView",
            "align_content": null,
            "align_items": null,
            "align_self": null,
            "border": null,
            "bottom": null,
            "display": null,
            "flex": null,
            "flex_flow": null,
            "grid_area": null,
            "grid_auto_columns": null,
            "grid_auto_flow": null,
            "grid_auto_rows": null,
            "grid_column": null,
            "grid_gap": null,
            "grid_row": null,
            "grid_template_areas": null,
            "grid_template_columns": null,
            "grid_template_rows": null,
            "height": null,
            "justify_content": null,
            "justify_items": null,
            "left": null,
            "margin": null,
            "max_height": null,
            "max_width": null,
            "min_height": null,
            "min_width": null,
            "object_fit": null,
            "object_position": null,
            "order": null,
            "overflow": null,
            "overflow_x": null,
            "overflow_y": null,
            "padding": null,
            "right": null,
            "top": null,
            "visibility": null,
            "width": null
          }
        },
        "fb9f2f2a909344d2bd69a8528b47a7e3": {
          "model_module": "@jupyter-widgets/controls",
          "model_name": "DescriptionStyleModel",
          "model_module_version": "1.5.0",
          "state": {
            "_model_module": "@jupyter-widgets/controls",
            "_model_module_version": "1.5.0",
            "_model_name": "DescriptionStyleModel",
            "_view_count": null,
            "_view_module": "@jupyter-widgets/base",
            "_view_module_version": "1.2.0",
            "_view_name": "StyleView",
            "description_width": ""
          }
        },
        "1eb3e010e65b43dd91632117275d191b": {
          "model_module": "@jupyter-widgets/base",
          "model_name": "LayoutModel",
          "model_module_version": "1.2.0",
          "state": {
            "_model_module": "@jupyter-widgets/base",
            "_model_module_version": "1.2.0",
            "_model_name": "LayoutModel",
            "_view_count": null,
            "_view_module": "@jupyter-widgets/base",
            "_view_module_version": "1.2.0",
            "_view_name": "LayoutView",
            "align_content": null,
            "align_items": null,
            "align_self": null,
            "border": null,
            "bottom": null,
            "display": null,
            "flex": null,
            "flex_flow": null,
            "grid_area": null,
            "grid_auto_columns": null,
            "grid_auto_flow": null,
            "grid_auto_rows": null,
            "grid_column": null,
            "grid_gap": null,
            "grid_row": null,
            "grid_template_areas": null,
            "grid_template_columns": null,
            "grid_template_rows": null,
            "height": null,
            "justify_content": null,
            "justify_items": null,
            "left": null,
            "margin": null,
            "max_height": null,
            "max_width": null,
            "min_height": null,
            "min_width": null,
            "object_fit": null,
            "object_position": null,
            "order": null,
            "overflow": null,
            "overflow_x": null,
            "overflow_y": null,
            "padding": null,
            "right": null,
            "top": null,
            "visibility": null,
            "width": null
          }
        },
        "991b7e84ea7740bca6c8f4b46cc41520": {
          "model_module": "@jupyter-widgets/controls",
          "model_name": "ProgressStyleModel",
          "model_module_version": "1.5.0",
          "state": {
            "_model_module": "@jupyter-widgets/controls",
            "_model_module_version": "1.5.0",
            "_model_name": "ProgressStyleModel",
            "_view_count": null,
            "_view_module": "@jupyter-widgets/base",
            "_view_module_version": "1.2.0",
            "_view_name": "StyleView",
            "bar_color": null,
            "description_width": ""
          }
        },
        "99378d88d9654e86bd8f2d5de35a4927": {
          "model_module": "@jupyter-widgets/controls",
          "model_name": "VBoxModel",
          "model_module_version": "1.5.0",
          "state": {
            "_dom_classes": [],
            "_model_module": "@jupyter-widgets/controls",
            "_model_module_version": "1.5.0",
            "_model_name": "VBoxModel",
            "_view_count": null,
            "_view_module": "@jupyter-widgets/controls",
            "_view_module_version": "1.5.0",
            "_view_name": "VBoxView",
            "box_style": "",
            "children": [
              "IPY_MODEL_9fd5445e78b94e6fa624740e516f4719",
              "IPY_MODEL_b21417beaedc473c882d4079dcfdbd79"
            ],
            "layout": "IPY_MODEL_80777c7753c940f2b93d0abd324d91a3"
          }
        },
        "9fd5445e78b94e6fa624740e516f4719": {
          "model_module": "@jupyter-widgets/controls",
          "model_name": "LabelModel",
          "model_module_version": "1.5.0",
          "state": {
            "_dom_classes": [],
            "_model_module": "@jupyter-widgets/controls",
            "_model_module_version": "1.5.0",
            "_model_name": "LabelModel",
            "_view_count": null,
            "_view_module": "@jupyter-widgets/controls",
            "_view_module_version": "1.5.0",
            "_view_name": "LabelView",
            "description": "",
            "description_tooltip": null,
            "layout": "IPY_MODEL_b34be4d9912840eabddcd8f708727be1",
            "placeholder": "​",
            "style": "IPY_MODEL_efb13619cac04b509378d5ff137c156f",
            "value": "0.011 MB of 0.011 MB uploaded\r"
          }
        },
        "b21417beaedc473c882d4079dcfdbd79": {
          "model_module": "@jupyter-widgets/controls",
          "model_name": "FloatProgressModel",
          "model_module_version": "1.5.0",
          "state": {
            "_dom_classes": [],
            "_model_module": "@jupyter-widgets/controls",
            "_model_module_version": "1.5.0",
            "_model_name": "FloatProgressModel",
            "_view_count": null,
            "_view_module": "@jupyter-widgets/controls",
            "_view_module_version": "1.5.0",
            "_view_name": "ProgressView",
            "bar_style": "",
            "description": "",
            "description_tooltip": null,
            "layout": "IPY_MODEL_d422a1799c044feabe19c3e5a93993b6",
            "max": 1,
            "min": 0,
            "orientation": "horizontal",
            "style": "IPY_MODEL_055881ab2f9e401f8b5e32bdd1580e85",
            "value": 1
          }
        },
        "80777c7753c940f2b93d0abd324d91a3": {
          "model_module": "@jupyter-widgets/base",
          "model_name": "LayoutModel",
          "model_module_version": "1.2.0",
          "state": {
            "_model_module": "@jupyter-widgets/base",
            "_model_module_version": "1.2.0",
            "_model_name": "LayoutModel",
            "_view_count": null,
            "_view_module": "@jupyter-widgets/base",
            "_view_module_version": "1.2.0",
            "_view_name": "LayoutView",
            "align_content": null,
            "align_items": null,
            "align_self": null,
            "border": null,
            "bottom": null,
            "display": null,
            "flex": null,
            "flex_flow": null,
            "grid_area": null,
            "grid_auto_columns": null,
            "grid_auto_flow": null,
            "grid_auto_rows": null,
            "grid_column": null,
            "grid_gap": null,
            "grid_row": null,
            "grid_template_areas": null,
            "grid_template_columns": null,
            "grid_template_rows": null,
            "height": null,
            "justify_content": null,
            "justify_items": null,
            "left": null,
            "margin": null,
            "max_height": null,
            "max_width": null,
            "min_height": null,
            "min_width": null,
            "object_fit": null,
            "object_position": null,
            "order": null,
            "overflow": null,
            "overflow_x": null,
            "overflow_y": null,
            "padding": null,
            "right": null,
            "top": null,
            "visibility": null,
            "width": null
          }
        },
        "b34be4d9912840eabddcd8f708727be1": {
          "model_module": "@jupyter-widgets/base",
          "model_name": "LayoutModel",
          "model_module_version": "1.2.0",
          "state": {
            "_model_module": "@jupyter-widgets/base",
            "_model_module_version": "1.2.0",
            "_model_name": "LayoutModel",
            "_view_count": null,
            "_view_module": "@jupyter-widgets/base",
            "_view_module_version": "1.2.0",
            "_view_name": "LayoutView",
            "align_content": null,
            "align_items": null,
            "align_self": null,
            "border": null,
            "bottom": null,
            "display": null,
            "flex": null,
            "flex_flow": null,
            "grid_area": null,
            "grid_auto_columns": null,
            "grid_auto_flow": null,
            "grid_auto_rows": null,
            "grid_column": null,
            "grid_gap": null,
            "grid_row": null,
            "grid_template_areas": null,
            "grid_template_columns": null,
            "grid_template_rows": null,
            "height": null,
            "justify_content": null,
            "justify_items": null,
            "left": null,
            "margin": null,
            "max_height": null,
            "max_width": null,
            "min_height": null,
            "min_width": null,
            "object_fit": null,
            "object_position": null,
            "order": null,
            "overflow": null,
            "overflow_x": null,
            "overflow_y": null,
            "padding": null,
            "right": null,
            "top": null,
            "visibility": null,
            "width": null
          }
        },
        "efb13619cac04b509378d5ff137c156f": {
          "model_module": "@jupyter-widgets/controls",
          "model_name": "DescriptionStyleModel",
          "model_module_version": "1.5.0",
          "state": {
            "_model_module": "@jupyter-widgets/controls",
            "_model_module_version": "1.5.0",
            "_model_name": "DescriptionStyleModel",
            "_view_count": null,
            "_view_module": "@jupyter-widgets/base",
            "_view_module_version": "1.2.0",
            "_view_name": "StyleView",
            "description_width": ""
          }
        },
        "d422a1799c044feabe19c3e5a93993b6": {
          "model_module": "@jupyter-widgets/base",
          "model_name": "LayoutModel",
          "model_module_version": "1.2.0",
          "state": {
            "_model_module": "@jupyter-widgets/base",
            "_model_module_version": "1.2.0",
            "_model_name": "LayoutModel",
            "_view_count": null,
            "_view_module": "@jupyter-widgets/base",
            "_view_module_version": "1.2.0",
            "_view_name": "LayoutView",
            "align_content": null,
            "align_items": null,
            "align_self": null,
            "border": null,
            "bottom": null,
            "display": null,
            "flex": null,
            "flex_flow": null,
            "grid_area": null,
            "grid_auto_columns": null,
            "grid_auto_flow": null,
            "grid_auto_rows": null,
            "grid_column": null,
            "grid_gap": null,
            "grid_row": null,
            "grid_template_areas": null,
            "grid_template_columns": null,
            "grid_template_rows": null,
            "height": null,
            "justify_content": null,
            "justify_items": null,
            "left": null,
            "margin": null,
            "max_height": null,
            "max_width": null,
            "min_height": null,
            "min_width": null,
            "object_fit": null,
            "object_position": null,
            "order": null,
            "overflow": null,
            "overflow_x": null,
            "overflow_y": null,
            "padding": null,
            "right": null,
            "top": null,
            "visibility": null,
            "width": null
          }
        },
        "055881ab2f9e401f8b5e32bdd1580e85": {
          "model_module": "@jupyter-widgets/controls",
          "model_name": "ProgressStyleModel",
          "model_module_version": "1.5.0",
          "state": {
            "_model_module": "@jupyter-widgets/controls",
            "_model_module_version": "1.5.0",
            "_model_name": "ProgressStyleModel",
            "_view_count": null,
            "_view_module": "@jupyter-widgets/base",
            "_view_module_version": "1.2.0",
            "_view_name": "StyleView",
            "bar_color": null,
            "description_width": ""
          }
        },
        "271a8be4d6654a40aee4d0681f00a490": {
          "model_module": "@jupyter-widgets/controls",
          "model_name": "VBoxModel",
          "model_module_version": "1.5.0",
          "state": {
            "_dom_classes": [],
            "_model_module": "@jupyter-widgets/controls",
            "_model_module_version": "1.5.0",
            "_model_name": "VBoxModel",
            "_view_count": null,
            "_view_module": "@jupyter-widgets/controls",
            "_view_module_version": "1.5.0",
            "_view_name": "VBoxView",
            "box_style": "",
            "children": [
              "IPY_MODEL_74898a5d3fcc49de9afe3239a1deed21",
              "IPY_MODEL_947704a703514ea98ac0ec556a7b11d2"
            ],
            "layout": "IPY_MODEL_0feef571d8114ea7b25a9826eb9155d9"
          }
        },
        "74898a5d3fcc49de9afe3239a1deed21": {
          "model_module": "@jupyter-widgets/controls",
          "model_name": "LabelModel",
          "model_module_version": "1.5.0",
          "state": {
            "_dom_classes": [],
            "_model_module": "@jupyter-widgets/controls",
            "_model_module_version": "1.5.0",
            "_model_name": "LabelModel",
            "_view_count": null,
            "_view_module": "@jupyter-widgets/controls",
            "_view_module_version": "1.5.0",
            "_view_name": "LabelView",
            "description": "",
            "description_tooltip": null,
            "layout": "IPY_MODEL_0c30ddfcf87c4602856297fcf3a47e77",
            "placeholder": "​",
            "style": "IPY_MODEL_0eb9a5b8d2014275822f68a0ac22f9a0",
            "value": "0.011 MB of 0.011 MB uploaded\r"
          }
        },
        "947704a703514ea98ac0ec556a7b11d2": {
          "model_module": "@jupyter-widgets/controls",
          "model_name": "FloatProgressModel",
          "model_module_version": "1.5.0",
          "state": {
            "_dom_classes": [],
            "_model_module": "@jupyter-widgets/controls",
            "_model_module_version": "1.5.0",
            "_model_name": "FloatProgressModel",
            "_view_count": null,
            "_view_module": "@jupyter-widgets/controls",
            "_view_module_version": "1.5.0",
            "_view_name": "ProgressView",
            "bar_style": "",
            "description": "",
            "description_tooltip": null,
            "layout": "IPY_MODEL_1147695019d746c99d9aade7f5aaca53",
            "max": 1,
            "min": 0,
            "orientation": "horizontal",
            "style": "IPY_MODEL_625864cd4dc54448b71073943d229fb9",
            "value": 1
          }
        },
        "0feef571d8114ea7b25a9826eb9155d9": {
          "model_module": "@jupyter-widgets/base",
          "model_name": "LayoutModel",
          "model_module_version": "1.2.0",
          "state": {
            "_model_module": "@jupyter-widgets/base",
            "_model_module_version": "1.2.0",
            "_model_name": "LayoutModel",
            "_view_count": null,
            "_view_module": "@jupyter-widgets/base",
            "_view_module_version": "1.2.0",
            "_view_name": "LayoutView",
            "align_content": null,
            "align_items": null,
            "align_self": null,
            "border": null,
            "bottom": null,
            "display": null,
            "flex": null,
            "flex_flow": null,
            "grid_area": null,
            "grid_auto_columns": null,
            "grid_auto_flow": null,
            "grid_auto_rows": null,
            "grid_column": null,
            "grid_gap": null,
            "grid_row": null,
            "grid_template_areas": null,
            "grid_template_columns": null,
            "grid_template_rows": null,
            "height": null,
            "justify_content": null,
            "justify_items": null,
            "left": null,
            "margin": null,
            "max_height": null,
            "max_width": null,
            "min_height": null,
            "min_width": null,
            "object_fit": null,
            "object_position": null,
            "order": null,
            "overflow": null,
            "overflow_x": null,
            "overflow_y": null,
            "padding": null,
            "right": null,
            "top": null,
            "visibility": null,
            "width": null
          }
        },
        "0c30ddfcf87c4602856297fcf3a47e77": {
          "model_module": "@jupyter-widgets/base",
          "model_name": "LayoutModel",
          "model_module_version": "1.2.0",
          "state": {
            "_model_module": "@jupyter-widgets/base",
            "_model_module_version": "1.2.0",
            "_model_name": "LayoutModel",
            "_view_count": null,
            "_view_module": "@jupyter-widgets/base",
            "_view_module_version": "1.2.0",
            "_view_name": "LayoutView",
            "align_content": null,
            "align_items": null,
            "align_self": null,
            "border": null,
            "bottom": null,
            "display": null,
            "flex": null,
            "flex_flow": null,
            "grid_area": null,
            "grid_auto_columns": null,
            "grid_auto_flow": null,
            "grid_auto_rows": null,
            "grid_column": null,
            "grid_gap": null,
            "grid_row": null,
            "grid_template_areas": null,
            "grid_template_columns": null,
            "grid_template_rows": null,
            "height": null,
            "justify_content": null,
            "justify_items": null,
            "left": null,
            "margin": null,
            "max_height": null,
            "max_width": null,
            "min_height": null,
            "min_width": null,
            "object_fit": null,
            "object_position": null,
            "order": null,
            "overflow": null,
            "overflow_x": null,
            "overflow_y": null,
            "padding": null,
            "right": null,
            "top": null,
            "visibility": null,
            "width": null
          }
        },
        "0eb9a5b8d2014275822f68a0ac22f9a0": {
          "model_module": "@jupyter-widgets/controls",
          "model_name": "DescriptionStyleModel",
          "model_module_version": "1.5.0",
          "state": {
            "_model_module": "@jupyter-widgets/controls",
            "_model_module_version": "1.5.0",
            "_model_name": "DescriptionStyleModel",
            "_view_count": null,
            "_view_module": "@jupyter-widgets/base",
            "_view_module_version": "1.2.0",
            "_view_name": "StyleView",
            "description_width": ""
          }
        },
        "1147695019d746c99d9aade7f5aaca53": {
          "model_module": "@jupyter-widgets/base",
          "model_name": "LayoutModel",
          "model_module_version": "1.2.0",
          "state": {
            "_model_module": "@jupyter-widgets/base",
            "_model_module_version": "1.2.0",
            "_model_name": "LayoutModel",
            "_view_count": null,
            "_view_module": "@jupyter-widgets/base",
            "_view_module_version": "1.2.0",
            "_view_name": "LayoutView",
            "align_content": null,
            "align_items": null,
            "align_self": null,
            "border": null,
            "bottom": null,
            "display": null,
            "flex": null,
            "flex_flow": null,
            "grid_area": null,
            "grid_auto_columns": null,
            "grid_auto_flow": null,
            "grid_auto_rows": null,
            "grid_column": null,
            "grid_gap": null,
            "grid_row": null,
            "grid_template_areas": null,
            "grid_template_columns": null,
            "grid_template_rows": null,
            "height": null,
            "justify_content": null,
            "justify_items": null,
            "left": null,
            "margin": null,
            "max_height": null,
            "max_width": null,
            "min_height": null,
            "min_width": null,
            "object_fit": null,
            "object_position": null,
            "order": null,
            "overflow": null,
            "overflow_x": null,
            "overflow_y": null,
            "padding": null,
            "right": null,
            "top": null,
            "visibility": null,
            "width": null
          }
        },
        "625864cd4dc54448b71073943d229fb9": {
          "model_module": "@jupyter-widgets/controls",
          "model_name": "ProgressStyleModel",
          "model_module_version": "1.5.0",
          "state": {
            "_model_module": "@jupyter-widgets/controls",
            "_model_module_version": "1.5.0",
            "_model_name": "ProgressStyleModel",
            "_view_count": null,
            "_view_module": "@jupyter-widgets/base",
            "_view_module_version": "1.2.0",
            "_view_name": "StyleView",
            "bar_color": null,
            "description_width": ""
          }
        },
        "905692c3d1e94495a9019a3d82f974f4": {
          "model_module": "@jupyter-widgets/controls",
          "model_name": "VBoxModel",
          "model_module_version": "1.5.0",
          "state": {
            "_dom_classes": [],
            "_model_module": "@jupyter-widgets/controls",
            "_model_module_version": "1.5.0",
            "_model_name": "VBoxModel",
            "_view_count": null,
            "_view_module": "@jupyter-widgets/controls",
            "_view_module_version": "1.5.0",
            "_view_name": "VBoxView",
            "box_style": "",
            "children": [
              "IPY_MODEL_a54765919b564c04ac564052ece88301",
              "IPY_MODEL_73bf46508f6647c180dbc4147c0348a7"
            ],
            "layout": "IPY_MODEL_f3cf02b7529d46ff95850f64f53e34ba"
          }
        },
        "a54765919b564c04ac564052ece88301": {
          "model_module": "@jupyter-widgets/controls",
          "model_name": "LabelModel",
          "model_module_version": "1.5.0",
          "state": {
            "_dom_classes": [],
            "_model_module": "@jupyter-widgets/controls",
            "_model_module_version": "1.5.0",
            "_model_name": "LabelModel",
            "_view_count": null,
            "_view_module": "@jupyter-widgets/controls",
            "_view_module_version": "1.5.0",
            "_view_name": "LabelView",
            "description": "",
            "description_tooltip": null,
            "layout": "IPY_MODEL_42e5e0e64d984af6a64f0b0760c85014",
            "placeholder": "​",
            "style": "IPY_MODEL_2f84152403da4278adaeddc27c9ead2a",
            "value": "0.011 MB of 0.011 MB uploaded\r"
          }
        },
        "73bf46508f6647c180dbc4147c0348a7": {
          "model_module": "@jupyter-widgets/controls",
          "model_name": "FloatProgressModel",
          "model_module_version": "1.5.0",
          "state": {
            "_dom_classes": [],
            "_model_module": "@jupyter-widgets/controls",
            "_model_module_version": "1.5.0",
            "_model_name": "FloatProgressModel",
            "_view_count": null,
            "_view_module": "@jupyter-widgets/controls",
            "_view_module_version": "1.5.0",
            "_view_name": "ProgressView",
            "bar_style": "",
            "description": "",
            "description_tooltip": null,
            "layout": "IPY_MODEL_12ae48b9f1b2467eaf8303b444484892",
            "max": 1,
            "min": 0,
            "orientation": "horizontal",
            "style": "IPY_MODEL_69271741670e476c99230f104eaf4443",
            "value": 1
          }
        },
        "f3cf02b7529d46ff95850f64f53e34ba": {
          "model_module": "@jupyter-widgets/base",
          "model_name": "LayoutModel",
          "model_module_version": "1.2.0",
          "state": {
            "_model_module": "@jupyter-widgets/base",
            "_model_module_version": "1.2.0",
            "_model_name": "LayoutModel",
            "_view_count": null,
            "_view_module": "@jupyter-widgets/base",
            "_view_module_version": "1.2.0",
            "_view_name": "LayoutView",
            "align_content": null,
            "align_items": null,
            "align_self": null,
            "border": null,
            "bottom": null,
            "display": null,
            "flex": null,
            "flex_flow": null,
            "grid_area": null,
            "grid_auto_columns": null,
            "grid_auto_flow": null,
            "grid_auto_rows": null,
            "grid_column": null,
            "grid_gap": null,
            "grid_row": null,
            "grid_template_areas": null,
            "grid_template_columns": null,
            "grid_template_rows": null,
            "height": null,
            "justify_content": null,
            "justify_items": null,
            "left": null,
            "margin": null,
            "max_height": null,
            "max_width": null,
            "min_height": null,
            "min_width": null,
            "object_fit": null,
            "object_position": null,
            "order": null,
            "overflow": null,
            "overflow_x": null,
            "overflow_y": null,
            "padding": null,
            "right": null,
            "top": null,
            "visibility": null,
            "width": null
          }
        },
        "42e5e0e64d984af6a64f0b0760c85014": {
          "model_module": "@jupyter-widgets/base",
          "model_name": "LayoutModel",
          "model_module_version": "1.2.0",
          "state": {
            "_model_module": "@jupyter-widgets/base",
            "_model_module_version": "1.2.0",
            "_model_name": "LayoutModel",
            "_view_count": null,
            "_view_module": "@jupyter-widgets/base",
            "_view_module_version": "1.2.0",
            "_view_name": "LayoutView",
            "align_content": null,
            "align_items": null,
            "align_self": null,
            "border": null,
            "bottom": null,
            "display": null,
            "flex": null,
            "flex_flow": null,
            "grid_area": null,
            "grid_auto_columns": null,
            "grid_auto_flow": null,
            "grid_auto_rows": null,
            "grid_column": null,
            "grid_gap": null,
            "grid_row": null,
            "grid_template_areas": null,
            "grid_template_columns": null,
            "grid_template_rows": null,
            "height": null,
            "justify_content": null,
            "justify_items": null,
            "left": null,
            "margin": null,
            "max_height": null,
            "max_width": null,
            "min_height": null,
            "min_width": null,
            "object_fit": null,
            "object_position": null,
            "order": null,
            "overflow": null,
            "overflow_x": null,
            "overflow_y": null,
            "padding": null,
            "right": null,
            "top": null,
            "visibility": null,
            "width": null
          }
        },
        "2f84152403da4278adaeddc27c9ead2a": {
          "model_module": "@jupyter-widgets/controls",
          "model_name": "DescriptionStyleModel",
          "model_module_version": "1.5.0",
          "state": {
            "_model_module": "@jupyter-widgets/controls",
            "_model_module_version": "1.5.0",
            "_model_name": "DescriptionStyleModel",
            "_view_count": null,
            "_view_module": "@jupyter-widgets/base",
            "_view_module_version": "1.2.0",
            "_view_name": "StyleView",
            "description_width": ""
          }
        },
        "12ae48b9f1b2467eaf8303b444484892": {
          "model_module": "@jupyter-widgets/base",
          "model_name": "LayoutModel",
          "model_module_version": "1.2.0",
          "state": {
            "_model_module": "@jupyter-widgets/base",
            "_model_module_version": "1.2.0",
            "_model_name": "LayoutModel",
            "_view_count": null,
            "_view_module": "@jupyter-widgets/base",
            "_view_module_version": "1.2.0",
            "_view_name": "LayoutView",
            "align_content": null,
            "align_items": null,
            "align_self": null,
            "border": null,
            "bottom": null,
            "display": null,
            "flex": null,
            "flex_flow": null,
            "grid_area": null,
            "grid_auto_columns": null,
            "grid_auto_flow": null,
            "grid_auto_rows": null,
            "grid_column": null,
            "grid_gap": null,
            "grid_row": null,
            "grid_template_areas": null,
            "grid_template_columns": null,
            "grid_template_rows": null,
            "height": null,
            "justify_content": null,
            "justify_items": null,
            "left": null,
            "margin": null,
            "max_height": null,
            "max_width": null,
            "min_height": null,
            "min_width": null,
            "object_fit": null,
            "object_position": null,
            "order": null,
            "overflow": null,
            "overflow_x": null,
            "overflow_y": null,
            "padding": null,
            "right": null,
            "top": null,
            "visibility": null,
            "width": null
          }
        },
        "69271741670e476c99230f104eaf4443": {
          "model_module": "@jupyter-widgets/controls",
          "model_name": "ProgressStyleModel",
          "model_module_version": "1.5.0",
          "state": {
            "_model_module": "@jupyter-widgets/controls",
            "_model_module_version": "1.5.0",
            "_model_name": "ProgressStyleModel",
            "_view_count": null,
            "_view_module": "@jupyter-widgets/base",
            "_view_module_version": "1.2.0",
            "_view_name": "StyleView",
            "bar_color": null,
            "description_width": ""
          }
        },
        "2e41df46be5441b59eafb7bfb2298159": {
          "model_module": "@jupyter-widgets/controls",
          "model_name": "VBoxModel",
          "model_module_version": "1.5.0",
          "state": {
            "_dom_classes": [],
            "_model_module": "@jupyter-widgets/controls",
            "_model_module_version": "1.5.0",
            "_model_name": "VBoxModel",
            "_view_count": null,
            "_view_module": "@jupyter-widgets/controls",
            "_view_module_version": "1.5.0",
            "_view_name": "VBoxView",
            "box_style": "",
            "children": [
              "IPY_MODEL_5118787cee664921993b0785ea2a949c",
              "IPY_MODEL_06d49dc1709d4692b038229b5c9e3392"
            ],
            "layout": "IPY_MODEL_ed8f5b606f054f9c96ae344428d8eeae"
          }
        },
        "5118787cee664921993b0785ea2a949c": {
          "model_module": "@jupyter-widgets/controls",
          "model_name": "LabelModel",
          "model_module_version": "1.5.0",
          "state": {
            "_dom_classes": [],
            "_model_module": "@jupyter-widgets/controls",
            "_model_module_version": "1.5.0",
            "_model_name": "LabelModel",
            "_view_count": null,
            "_view_module": "@jupyter-widgets/controls",
            "_view_module_version": "1.5.0",
            "_view_name": "LabelView",
            "description": "",
            "description_tooltip": null,
            "layout": "IPY_MODEL_c6c5f51aa0a54f648a157a92cc8768ea",
            "placeholder": "​",
            "style": "IPY_MODEL_a88536941b4e4b1e94fa16ebd289be71",
            "value": "0.012 MB of 0.012 MB uploaded\r"
          }
        },
        "06d49dc1709d4692b038229b5c9e3392": {
          "model_module": "@jupyter-widgets/controls",
          "model_name": "FloatProgressModel",
          "model_module_version": "1.5.0",
          "state": {
            "_dom_classes": [],
            "_model_module": "@jupyter-widgets/controls",
            "_model_module_version": "1.5.0",
            "_model_name": "FloatProgressModel",
            "_view_count": null,
            "_view_module": "@jupyter-widgets/controls",
            "_view_module_version": "1.5.0",
            "_view_name": "ProgressView",
            "bar_style": "",
            "description": "",
            "description_tooltip": null,
            "layout": "IPY_MODEL_ed9475894b064370ae5742e17504b042",
            "max": 1,
            "min": 0,
            "orientation": "horizontal",
            "style": "IPY_MODEL_ecc3d35a54334f9ea3d910ea645835fc",
            "value": 1
          }
        },
        "ed8f5b606f054f9c96ae344428d8eeae": {
          "model_module": "@jupyter-widgets/base",
          "model_name": "LayoutModel",
          "model_module_version": "1.2.0",
          "state": {
            "_model_module": "@jupyter-widgets/base",
            "_model_module_version": "1.2.0",
            "_model_name": "LayoutModel",
            "_view_count": null,
            "_view_module": "@jupyter-widgets/base",
            "_view_module_version": "1.2.0",
            "_view_name": "LayoutView",
            "align_content": null,
            "align_items": null,
            "align_self": null,
            "border": null,
            "bottom": null,
            "display": null,
            "flex": null,
            "flex_flow": null,
            "grid_area": null,
            "grid_auto_columns": null,
            "grid_auto_flow": null,
            "grid_auto_rows": null,
            "grid_column": null,
            "grid_gap": null,
            "grid_row": null,
            "grid_template_areas": null,
            "grid_template_columns": null,
            "grid_template_rows": null,
            "height": null,
            "justify_content": null,
            "justify_items": null,
            "left": null,
            "margin": null,
            "max_height": null,
            "max_width": null,
            "min_height": null,
            "min_width": null,
            "object_fit": null,
            "object_position": null,
            "order": null,
            "overflow": null,
            "overflow_x": null,
            "overflow_y": null,
            "padding": null,
            "right": null,
            "top": null,
            "visibility": null,
            "width": null
          }
        },
        "c6c5f51aa0a54f648a157a92cc8768ea": {
          "model_module": "@jupyter-widgets/base",
          "model_name": "LayoutModel",
          "model_module_version": "1.2.0",
          "state": {
            "_model_module": "@jupyter-widgets/base",
            "_model_module_version": "1.2.0",
            "_model_name": "LayoutModel",
            "_view_count": null,
            "_view_module": "@jupyter-widgets/base",
            "_view_module_version": "1.2.0",
            "_view_name": "LayoutView",
            "align_content": null,
            "align_items": null,
            "align_self": null,
            "border": null,
            "bottom": null,
            "display": null,
            "flex": null,
            "flex_flow": null,
            "grid_area": null,
            "grid_auto_columns": null,
            "grid_auto_flow": null,
            "grid_auto_rows": null,
            "grid_column": null,
            "grid_gap": null,
            "grid_row": null,
            "grid_template_areas": null,
            "grid_template_columns": null,
            "grid_template_rows": null,
            "height": null,
            "justify_content": null,
            "justify_items": null,
            "left": null,
            "margin": null,
            "max_height": null,
            "max_width": null,
            "min_height": null,
            "min_width": null,
            "object_fit": null,
            "object_position": null,
            "order": null,
            "overflow": null,
            "overflow_x": null,
            "overflow_y": null,
            "padding": null,
            "right": null,
            "top": null,
            "visibility": null,
            "width": null
          }
        },
        "a88536941b4e4b1e94fa16ebd289be71": {
          "model_module": "@jupyter-widgets/controls",
          "model_name": "DescriptionStyleModel",
          "model_module_version": "1.5.0",
          "state": {
            "_model_module": "@jupyter-widgets/controls",
            "_model_module_version": "1.5.0",
            "_model_name": "DescriptionStyleModel",
            "_view_count": null,
            "_view_module": "@jupyter-widgets/base",
            "_view_module_version": "1.2.0",
            "_view_name": "StyleView",
            "description_width": ""
          }
        },
        "ed9475894b064370ae5742e17504b042": {
          "model_module": "@jupyter-widgets/base",
          "model_name": "LayoutModel",
          "model_module_version": "1.2.0",
          "state": {
            "_model_module": "@jupyter-widgets/base",
            "_model_module_version": "1.2.0",
            "_model_name": "LayoutModel",
            "_view_count": null,
            "_view_module": "@jupyter-widgets/base",
            "_view_module_version": "1.2.0",
            "_view_name": "LayoutView",
            "align_content": null,
            "align_items": null,
            "align_self": null,
            "border": null,
            "bottom": null,
            "display": null,
            "flex": null,
            "flex_flow": null,
            "grid_area": null,
            "grid_auto_columns": null,
            "grid_auto_flow": null,
            "grid_auto_rows": null,
            "grid_column": null,
            "grid_gap": null,
            "grid_row": null,
            "grid_template_areas": null,
            "grid_template_columns": null,
            "grid_template_rows": null,
            "height": null,
            "justify_content": null,
            "justify_items": null,
            "left": null,
            "margin": null,
            "max_height": null,
            "max_width": null,
            "min_height": null,
            "min_width": null,
            "object_fit": null,
            "object_position": null,
            "order": null,
            "overflow": null,
            "overflow_x": null,
            "overflow_y": null,
            "padding": null,
            "right": null,
            "top": null,
            "visibility": null,
            "width": null
          }
        },
        "ecc3d35a54334f9ea3d910ea645835fc": {
          "model_module": "@jupyter-widgets/controls",
          "model_name": "ProgressStyleModel",
          "model_module_version": "1.5.0",
          "state": {
            "_model_module": "@jupyter-widgets/controls",
            "_model_module_version": "1.5.0",
            "_model_name": "ProgressStyleModel",
            "_view_count": null,
            "_view_module": "@jupyter-widgets/base",
            "_view_module_version": "1.2.0",
            "_view_name": "StyleView",
            "bar_color": null,
            "description_width": ""
          }
        },
        "56b340fad9bf4087ac83d71ac39bd136": {
          "model_module": "@jupyter-widgets/controls",
          "model_name": "VBoxModel",
          "model_module_version": "1.5.0",
          "state": {
            "_dom_classes": [],
            "_model_module": "@jupyter-widgets/controls",
            "_model_module_version": "1.5.0",
            "_model_name": "VBoxModel",
            "_view_count": null,
            "_view_module": "@jupyter-widgets/controls",
            "_view_module_version": "1.5.0",
            "_view_name": "VBoxView",
            "box_style": "",
            "children": [
              "IPY_MODEL_5833f667503a4c9ba3bfe56b53766fee",
              "IPY_MODEL_4fe0e0b1f0694bf0bf4e54e88c4cdb88"
            ],
            "layout": "IPY_MODEL_aa3f518fb59e40dea5b8d58de05e8292"
          }
        },
        "5833f667503a4c9ba3bfe56b53766fee": {
          "model_module": "@jupyter-widgets/controls",
          "model_name": "LabelModel",
          "model_module_version": "1.5.0",
          "state": {
            "_dom_classes": [],
            "_model_module": "@jupyter-widgets/controls",
            "_model_module_version": "1.5.0",
            "_model_name": "LabelModel",
            "_view_count": null,
            "_view_module": "@jupyter-widgets/controls",
            "_view_module_version": "1.5.0",
            "_view_name": "LabelView",
            "description": "",
            "description_tooltip": null,
            "layout": "IPY_MODEL_2f655e33fb45488aad7c181440f1d55f",
            "placeholder": "​",
            "style": "IPY_MODEL_0039cff1c9d44f9099581ce64eebc70e",
            "value": "0.011 MB of 0.011 MB uploaded\r"
          }
        },
        "4fe0e0b1f0694bf0bf4e54e88c4cdb88": {
          "model_module": "@jupyter-widgets/controls",
          "model_name": "FloatProgressModel",
          "model_module_version": "1.5.0",
          "state": {
            "_dom_classes": [],
            "_model_module": "@jupyter-widgets/controls",
            "_model_module_version": "1.5.0",
            "_model_name": "FloatProgressModel",
            "_view_count": null,
            "_view_module": "@jupyter-widgets/controls",
            "_view_module_version": "1.5.0",
            "_view_name": "ProgressView",
            "bar_style": "",
            "description": "",
            "description_tooltip": null,
            "layout": "IPY_MODEL_4f62ef9625294d5582aa728ea233e26e",
            "max": 1,
            "min": 0,
            "orientation": "horizontal",
            "style": "IPY_MODEL_acec3db300334d1a8e5b22fe12cf1478",
            "value": 1
          }
        },
        "aa3f518fb59e40dea5b8d58de05e8292": {
          "model_module": "@jupyter-widgets/base",
          "model_name": "LayoutModel",
          "model_module_version": "1.2.0",
          "state": {
            "_model_module": "@jupyter-widgets/base",
            "_model_module_version": "1.2.0",
            "_model_name": "LayoutModel",
            "_view_count": null,
            "_view_module": "@jupyter-widgets/base",
            "_view_module_version": "1.2.0",
            "_view_name": "LayoutView",
            "align_content": null,
            "align_items": null,
            "align_self": null,
            "border": null,
            "bottom": null,
            "display": null,
            "flex": null,
            "flex_flow": null,
            "grid_area": null,
            "grid_auto_columns": null,
            "grid_auto_flow": null,
            "grid_auto_rows": null,
            "grid_column": null,
            "grid_gap": null,
            "grid_row": null,
            "grid_template_areas": null,
            "grid_template_columns": null,
            "grid_template_rows": null,
            "height": null,
            "justify_content": null,
            "justify_items": null,
            "left": null,
            "margin": null,
            "max_height": null,
            "max_width": null,
            "min_height": null,
            "min_width": null,
            "object_fit": null,
            "object_position": null,
            "order": null,
            "overflow": null,
            "overflow_x": null,
            "overflow_y": null,
            "padding": null,
            "right": null,
            "top": null,
            "visibility": null,
            "width": null
          }
        },
        "2f655e33fb45488aad7c181440f1d55f": {
          "model_module": "@jupyter-widgets/base",
          "model_name": "LayoutModel",
          "model_module_version": "1.2.0",
          "state": {
            "_model_module": "@jupyter-widgets/base",
            "_model_module_version": "1.2.0",
            "_model_name": "LayoutModel",
            "_view_count": null,
            "_view_module": "@jupyter-widgets/base",
            "_view_module_version": "1.2.0",
            "_view_name": "LayoutView",
            "align_content": null,
            "align_items": null,
            "align_self": null,
            "border": null,
            "bottom": null,
            "display": null,
            "flex": null,
            "flex_flow": null,
            "grid_area": null,
            "grid_auto_columns": null,
            "grid_auto_flow": null,
            "grid_auto_rows": null,
            "grid_column": null,
            "grid_gap": null,
            "grid_row": null,
            "grid_template_areas": null,
            "grid_template_columns": null,
            "grid_template_rows": null,
            "height": null,
            "justify_content": null,
            "justify_items": null,
            "left": null,
            "margin": null,
            "max_height": null,
            "max_width": null,
            "min_height": null,
            "min_width": null,
            "object_fit": null,
            "object_position": null,
            "order": null,
            "overflow": null,
            "overflow_x": null,
            "overflow_y": null,
            "padding": null,
            "right": null,
            "top": null,
            "visibility": null,
            "width": null
          }
        },
        "0039cff1c9d44f9099581ce64eebc70e": {
          "model_module": "@jupyter-widgets/controls",
          "model_name": "DescriptionStyleModel",
          "model_module_version": "1.5.0",
          "state": {
            "_model_module": "@jupyter-widgets/controls",
            "_model_module_version": "1.5.0",
            "_model_name": "DescriptionStyleModel",
            "_view_count": null,
            "_view_module": "@jupyter-widgets/base",
            "_view_module_version": "1.2.0",
            "_view_name": "StyleView",
            "description_width": ""
          }
        },
        "4f62ef9625294d5582aa728ea233e26e": {
          "model_module": "@jupyter-widgets/base",
          "model_name": "LayoutModel",
          "model_module_version": "1.2.0",
          "state": {
            "_model_module": "@jupyter-widgets/base",
            "_model_module_version": "1.2.0",
            "_model_name": "LayoutModel",
            "_view_count": null,
            "_view_module": "@jupyter-widgets/base",
            "_view_module_version": "1.2.0",
            "_view_name": "LayoutView",
            "align_content": null,
            "align_items": null,
            "align_self": null,
            "border": null,
            "bottom": null,
            "display": null,
            "flex": null,
            "flex_flow": null,
            "grid_area": null,
            "grid_auto_columns": null,
            "grid_auto_flow": null,
            "grid_auto_rows": null,
            "grid_column": null,
            "grid_gap": null,
            "grid_row": null,
            "grid_template_areas": null,
            "grid_template_columns": null,
            "grid_template_rows": null,
            "height": null,
            "justify_content": null,
            "justify_items": null,
            "left": null,
            "margin": null,
            "max_height": null,
            "max_width": null,
            "min_height": null,
            "min_width": null,
            "object_fit": null,
            "object_position": null,
            "order": null,
            "overflow": null,
            "overflow_x": null,
            "overflow_y": null,
            "padding": null,
            "right": null,
            "top": null,
            "visibility": null,
            "width": null
          }
        },
        "acec3db300334d1a8e5b22fe12cf1478": {
          "model_module": "@jupyter-widgets/controls",
          "model_name": "ProgressStyleModel",
          "model_module_version": "1.5.0",
          "state": {
            "_model_module": "@jupyter-widgets/controls",
            "_model_module_version": "1.5.0",
            "_model_name": "ProgressStyleModel",
            "_view_count": null,
            "_view_module": "@jupyter-widgets/base",
            "_view_module_version": "1.2.0",
            "_view_name": "StyleView",
            "bar_color": null,
            "description_width": ""
          }
        },
        "13db8d09bd91467fb56a0cb0531fea7d": {
          "model_module": "@jupyter-widgets/controls",
          "model_name": "VBoxModel",
          "model_module_version": "1.5.0",
          "state": {
            "_dom_classes": [],
            "_model_module": "@jupyter-widgets/controls",
            "_model_module_version": "1.5.0",
            "_model_name": "VBoxModel",
            "_view_count": null,
            "_view_module": "@jupyter-widgets/controls",
            "_view_module_version": "1.5.0",
            "_view_name": "VBoxView",
            "box_style": "",
            "children": [
              "IPY_MODEL_de7cbf3100514a3985d44ac294ffdfab",
              "IPY_MODEL_c0682b429b1b4d5784aafa69f2b9083f"
            ],
            "layout": "IPY_MODEL_f9dc45a9cd854be4afd115f93f67f234"
          }
        },
        "de7cbf3100514a3985d44ac294ffdfab": {
          "model_module": "@jupyter-widgets/controls",
          "model_name": "LabelModel",
          "model_module_version": "1.5.0",
          "state": {
            "_dom_classes": [],
            "_model_module": "@jupyter-widgets/controls",
            "_model_module_version": "1.5.0",
            "_model_name": "LabelModel",
            "_view_count": null,
            "_view_module": "@jupyter-widgets/controls",
            "_view_module_version": "1.5.0",
            "_view_name": "LabelView",
            "description": "",
            "description_tooltip": null,
            "layout": "IPY_MODEL_eb6e0d97976a4f34994e690dcf3eade1",
            "placeholder": "​",
            "style": "IPY_MODEL_280c988c6cca4b45b2f388f620af1f0e",
            "value": "0.011 MB of 0.011 MB uploaded\r"
          }
        },
        "c0682b429b1b4d5784aafa69f2b9083f": {
          "model_module": "@jupyter-widgets/controls",
          "model_name": "FloatProgressModel",
          "model_module_version": "1.5.0",
          "state": {
            "_dom_classes": [],
            "_model_module": "@jupyter-widgets/controls",
            "_model_module_version": "1.5.0",
            "_model_name": "FloatProgressModel",
            "_view_count": null,
            "_view_module": "@jupyter-widgets/controls",
            "_view_module_version": "1.5.0",
            "_view_name": "ProgressView",
            "bar_style": "",
            "description": "",
            "description_tooltip": null,
            "layout": "IPY_MODEL_e50a625cc16e4e88a8422bf889ce8d0e",
            "max": 1,
            "min": 0,
            "orientation": "horizontal",
            "style": "IPY_MODEL_8875dc37393742509f1216847243d121",
            "value": 1
          }
        },
        "f9dc45a9cd854be4afd115f93f67f234": {
          "model_module": "@jupyter-widgets/base",
          "model_name": "LayoutModel",
          "model_module_version": "1.2.0",
          "state": {
            "_model_module": "@jupyter-widgets/base",
            "_model_module_version": "1.2.0",
            "_model_name": "LayoutModel",
            "_view_count": null,
            "_view_module": "@jupyter-widgets/base",
            "_view_module_version": "1.2.0",
            "_view_name": "LayoutView",
            "align_content": null,
            "align_items": null,
            "align_self": null,
            "border": null,
            "bottom": null,
            "display": null,
            "flex": null,
            "flex_flow": null,
            "grid_area": null,
            "grid_auto_columns": null,
            "grid_auto_flow": null,
            "grid_auto_rows": null,
            "grid_column": null,
            "grid_gap": null,
            "grid_row": null,
            "grid_template_areas": null,
            "grid_template_columns": null,
            "grid_template_rows": null,
            "height": null,
            "justify_content": null,
            "justify_items": null,
            "left": null,
            "margin": null,
            "max_height": null,
            "max_width": null,
            "min_height": null,
            "min_width": null,
            "object_fit": null,
            "object_position": null,
            "order": null,
            "overflow": null,
            "overflow_x": null,
            "overflow_y": null,
            "padding": null,
            "right": null,
            "top": null,
            "visibility": null,
            "width": null
          }
        },
        "eb6e0d97976a4f34994e690dcf3eade1": {
          "model_module": "@jupyter-widgets/base",
          "model_name": "LayoutModel",
          "model_module_version": "1.2.0",
          "state": {
            "_model_module": "@jupyter-widgets/base",
            "_model_module_version": "1.2.0",
            "_model_name": "LayoutModel",
            "_view_count": null,
            "_view_module": "@jupyter-widgets/base",
            "_view_module_version": "1.2.0",
            "_view_name": "LayoutView",
            "align_content": null,
            "align_items": null,
            "align_self": null,
            "border": null,
            "bottom": null,
            "display": null,
            "flex": null,
            "flex_flow": null,
            "grid_area": null,
            "grid_auto_columns": null,
            "grid_auto_flow": null,
            "grid_auto_rows": null,
            "grid_column": null,
            "grid_gap": null,
            "grid_row": null,
            "grid_template_areas": null,
            "grid_template_columns": null,
            "grid_template_rows": null,
            "height": null,
            "justify_content": null,
            "justify_items": null,
            "left": null,
            "margin": null,
            "max_height": null,
            "max_width": null,
            "min_height": null,
            "min_width": null,
            "object_fit": null,
            "object_position": null,
            "order": null,
            "overflow": null,
            "overflow_x": null,
            "overflow_y": null,
            "padding": null,
            "right": null,
            "top": null,
            "visibility": null,
            "width": null
          }
        },
        "280c988c6cca4b45b2f388f620af1f0e": {
          "model_module": "@jupyter-widgets/controls",
          "model_name": "DescriptionStyleModel",
          "model_module_version": "1.5.0",
          "state": {
            "_model_module": "@jupyter-widgets/controls",
            "_model_module_version": "1.5.0",
            "_model_name": "DescriptionStyleModel",
            "_view_count": null,
            "_view_module": "@jupyter-widgets/base",
            "_view_module_version": "1.2.0",
            "_view_name": "StyleView",
            "description_width": ""
          }
        },
        "e50a625cc16e4e88a8422bf889ce8d0e": {
          "model_module": "@jupyter-widgets/base",
          "model_name": "LayoutModel",
          "model_module_version": "1.2.0",
          "state": {
            "_model_module": "@jupyter-widgets/base",
            "_model_module_version": "1.2.0",
            "_model_name": "LayoutModel",
            "_view_count": null,
            "_view_module": "@jupyter-widgets/base",
            "_view_module_version": "1.2.0",
            "_view_name": "LayoutView",
            "align_content": null,
            "align_items": null,
            "align_self": null,
            "border": null,
            "bottom": null,
            "display": null,
            "flex": null,
            "flex_flow": null,
            "grid_area": null,
            "grid_auto_columns": null,
            "grid_auto_flow": null,
            "grid_auto_rows": null,
            "grid_column": null,
            "grid_gap": null,
            "grid_row": null,
            "grid_template_areas": null,
            "grid_template_columns": null,
            "grid_template_rows": null,
            "height": null,
            "justify_content": null,
            "justify_items": null,
            "left": null,
            "margin": null,
            "max_height": null,
            "max_width": null,
            "min_height": null,
            "min_width": null,
            "object_fit": null,
            "object_position": null,
            "order": null,
            "overflow": null,
            "overflow_x": null,
            "overflow_y": null,
            "padding": null,
            "right": null,
            "top": null,
            "visibility": null,
            "width": null
          }
        },
        "8875dc37393742509f1216847243d121": {
          "model_module": "@jupyter-widgets/controls",
          "model_name": "ProgressStyleModel",
          "model_module_version": "1.5.0",
          "state": {
            "_model_module": "@jupyter-widgets/controls",
            "_model_module_version": "1.5.0",
            "_model_name": "ProgressStyleModel",
            "_view_count": null,
            "_view_module": "@jupyter-widgets/base",
            "_view_module_version": "1.2.0",
            "_view_name": "StyleView",
            "bar_color": null,
            "description_width": ""
          }
        },
        "2a3f7988d4e84600b07f51a762d6539e": {
          "model_module": "@jupyter-widgets/controls",
          "model_name": "VBoxModel",
          "model_module_version": "1.5.0",
          "state": {
            "_dom_classes": [],
            "_model_module": "@jupyter-widgets/controls",
            "_model_module_version": "1.5.0",
            "_model_name": "VBoxModel",
            "_view_count": null,
            "_view_module": "@jupyter-widgets/controls",
            "_view_module_version": "1.5.0",
            "_view_name": "VBoxView",
            "box_style": "",
            "children": [
              "IPY_MODEL_4cbb66bc18ce4bbc9d6f97854af03e21",
              "IPY_MODEL_c941af28ac314a0687242c21540fd628"
            ],
            "layout": "IPY_MODEL_f6e52c2c78614f8a8e8c36552000a03a"
          }
        },
        "4cbb66bc18ce4bbc9d6f97854af03e21": {
          "model_module": "@jupyter-widgets/controls",
          "model_name": "LabelModel",
          "model_module_version": "1.5.0",
          "state": {
            "_dom_classes": [],
            "_model_module": "@jupyter-widgets/controls",
            "_model_module_version": "1.5.0",
            "_model_name": "LabelModel",
            "_view_count": null,
            "_view_module": "@jupyter-widgets/controls",
            "_view_module_version": "1.5.0",
            "_view_name": "LabelView",
            "description": "",
            "description_tooltip": null,
            "layout": "IPY_MODEL_a4e4ee95c2ca4b3fb832573929a93325",
            "placeholder": "​",
            "style": "IPY_MODEL_a2315b44276a4ad4ae47670195f2cfce",
            "value": "0.011 MB of 0.011 MB uploaded\r"
          }
        },
        "c941af28ac314a0687242c21540fd628": {
          "model_module": "@jupyter-widgets/controls",
          "model_name": "FloatProgressModel",
          "model_module_version": "1.5.0",
          "state": {
            "_dom_classes": [],
            "_model_module": "@jupyter-widgets/controls",
            "_model_module_version": "1.5.0",
            "_model_name": "FloatProgressModel",
            "_view_count": null,
            "_view_module": "@jupyter-widgets/controls",
            "_view_module_version": "1.5.0",
            "_view_name": "ProgressView",
            "bar_style": "",
            "description": "",
            "description_tooltip": null,
            "layout": "IPY_MODEL_80d106f8770f4ac59db7ad715da2725a",
            "max": 1,
            "min": 0,
            "orientation": "horizontal",
            "style": "IPY_MODEL_087e912a75b744618781fb60259a177c",
            "value": 1
          }
        },
        "f6e52c2c78614f8a8e8c36552000a03a": {
          "model_module": "@jupyter-widgets/base",
          "model_name": "LayoutModel",
          "model_module_version": "1.2.0",
          "state": {
            "_model_module": "@jupyter-widgets/base",
            "_model_module_version": "1.2.0",
            "_model_name": "LayoutModel",
            "_view_count": null,
            "_view_module": "@jupyter-widgets/base",
            "_view_module_version": "1.2.0",
            "_view_name": "LayoutView",
            "align_content": null,
            "align_items": null,
            "align_self": null,
            "border": null,
            "bottom": null,
            "display": null,
            "flex": null,
            "flex_flow": null,
            "grid_area": null,
            "grid_auto_columns": null,
            "grid_auto_flow": null,
            "grid_auto_rows": null,
            "grid_column": null,
            "grid_gap": null,
            "grid_row": null,
            "grid_template_areas": null,
            "grid_template_columns": null,
            "grid_template_rows": null,
            "height": null,
            "justify_content": null,
            "justify_items": null,
            "left": null,
            "margin": null,
            "max_height": null,
            "max_width": null,
            "min_height": null,
            "min_width": null,
            "object_fit": null,
            "object_position": null,
            "order": null,
            "overflow": null,
            "overflow_x": null,
            "overflow_y": null,
            "padding": null,
            "right": null,
            "top": null,
            "visibility": null,
            "width": null
          }
        },
        "a4e4ee95c2ca4b3fb832573929a93325": {
          "model_module": "@jupyter-widgets/base",
          "model_name": "LayoutModel",
          "model_module_version": "1.2.0",
          "state": {
            "_model_module": "@jupyter-widgets/base",
            "_model_module_version": "1.2.0",
            "_model_name": "LayoutModel",
            "_view_count": null,
            "_view_module": "@jupyter-widgets/base",
            "_view_module_version": "1.2.0",
            "_view_name": "LayoutView",
            "align_content": null,
            "align_items": null,
            "align_self": null,
            "border": null,
            "bottom": null,
            "display": null,
            "flex": null,
            "flex_flow": null,
            "grid_area": null,
            "grid_auto_columns": null,
            "grid_auto_flow": null,
            "grid_auto_rows": null,
            "grid_column": null,
            "grid_gap": null,
            "grid_row": null,
            "grid_template_areas": null,
            "grid_template_columns": null,
            "grid_template_rows": null,
            "height": null,
            "justify_content": null,
            "justify_items": null,
            "left": null,
            "margin": null,
            "max_height": null,
            "max_width": null,
            "min_height": null,
            "min_width": null,
            "object_fit": null,
            "object_position": null,
            "order": null,
            "overflow": null,
            "overflow_x": null,
            "overflow_y": null,
            "padding": null,
            "right": null,
            "top": null,
            "visibility": null,
            "width": null
          }
        },
        "a2315b44276a4ad4ae47670195f2cfce": {
          "model_module": "@jupyter-widgets/controls",
          "model_name": "DescriptionStyleModel",
          "model_module_version": "1.5.0",
          "state": {
            "_model_module": "@jupyter-widgets/controls",
            "_model_module_version": "1.5.0",
            "_model_name": "DescriptionStyleModel",
            "_view_count": null,
            "_view_module": "@jupyter-widgets/base",
            "_view_module_version": "1.2.0",
            "_view_name": "StyleView",
            "description_width": ""
          }
        },
        "80d106f8770f4ac59db7ad715da2725a": {
          "model_module": "@jupyter-widgets/base",
          "model_name": "LayoutModel",
          "model_module_version": "1.2.0",
          "state": {
            "_model_module": "@jupyter-widgets/base",
            "_model_module_version": "1.2.0",
            "_model_name": "LayoutModel",
            "_view_count": null,
            "_view_module": "@jupyter-widgets/base",
            "_view_module_version": "1.2.0",
            "_view_name": "LayoutView",
            "align_content": null,
            "align_items": null,
            "align_self": null,
            "border": null,
            "bottom": null,
            "display": null,
            "flex": null,
            "flex_flow": null,
            "grid_area": null,
            "grid_auto_columns": null,
            "grid_auto_flow": null,
            "grid_auto_rows": null,
            "grid_column": null,
            "grid_gap": null,
            "grid_row": null,
            "grid_template_areas": null,
            "grid_template_columns": null,
            "grid_template_rows": null,
            "height": null,
            "justify_content": null,
            "justify_items": null,
            "left": null,
            "margin": null,
            "max_height": null,
            "max_width": null,
            "min_height": null,
            "min_width": null,
            "object_fit": null,
            "object_position": null,
            "order": null,
            "overflow": null,
            "overflow_x": null,
            "overflow_y": null,
            "padding": null,
            "right": null,
            "top": null,
            "visibility": null,
            "width": null
          }
        },
        "087e912a75b744618781fb60259a177c": {
          "model_module": "@jupyter-widgets/controls",
          "model_name": "ProgressStyleModel",
          "model_module_version": "1.5.0",
          "state": {
            "_model_module": "@jupyter-widgets/controls",
            "_model_module_version": "1.5.0",
            "_model_name": "ProgressStyleModel",
            "_view_count": null,
            "_view_module": "@jupyter-widgets/base",
            "_view_module_version": "1.2.0",
            "_view_name": "StyleView",
            "bar_color": null,
            "description_width": ""
          }
        },
        "916b153262a0484e9f1be7276ec906b6": {
          "model_module": "@jupyter-widgets/controls",
          "model_name": "VBoxModel",
          "model_module_version": "1.5.0",
          "state": {
            "_dom_classes": [],
            "_model_module": "@jupyter-widgets/controls",
            "_model_module_version": "1.5.0",
            "_model_name": "VBoxModel",
            "_view_count": null,
            "_view_module": "@jupyter-widgets/controls",
            "_view_module_version": "1.5.0",
            "_view_name": "VBoxView",
            "box_style": "",
            "children": [
              "IPY_MODEL_0fd87bbb89474856accbe8ba41eaec62",
              "IPY_MODEL_483d16be63204f87b9259bcd812fae5c"
            ],
            "layout": "IPY_MODEL_0e1e3914844347b48db2d8b76203760c"
          }
        },
        "0fd87bbb89474856accbe8ba41eaec62": {
          "model_module": "@jupyter-widgets/controls",
          "model_name": "LabelModel",
          "model_module_version": "1.5.0",
          "state": {
            "_dom_classes": [],
            "_model_module": "@jupyter-widgets/controls",
            "_model_module_version": "1.5.0",
            "_model_name": "LabelModel",
            "_view_count": null,
            "_view_module": "@jupyter-widgets/controls",
            "_view_module_version": "1.5.0",
            "_view_name": "LabelView",
            "description": "",
            "description_tooltip": null,
            "layout": "IPY_MODEL_f7fc7316e3714714b6c4252a0f27f367",
            "placeholder": "​",
            "style": "IPY_MODEL_0ce0fae5100c46d5af3ae8d77d5a9c5a",
            "value": "0.012 MB of 0.012 MB uploaded\r"
          }
        },
        "483d16be63204f87b9259bcd812fae5c": {
          "model_module": "@jupyter-widgets/controls",
          "model_name": "FloatProgressModel",
          "model_module_version": "1.5.0",
          "state": {
            "_dom_classes": [],
            "_model_module": "@jupyter-widgets/controls",
            "_model_module_version": "1.5.0",
            "_model_name": "FloatProgressModel",
            "_view_count": null,
            "_view_module": "@jupyter-widgets/controls",
            "_view_module_version": "1.5.0",
            "_view_name": "ProgressView",
            "bar_style": "",
            "description": "",
            "description_tooltip": null,
            "layout": "IPY_MODEL_3e9b506c8ac645be8808e4e71c6c4c79",
            "max": 1,
            "min": 0,
            "orientation": "horizontal",
            "style": "IPY_MODEL_44acf05b78ea40f6be4e64c6b4182d25",
            "value": 1
          }
        },
        "0e1e3914844347b48db2d8b76203760c": {
          "model_module": "@jupyter-widgets/base",
          "model_name": "LayoutModel",
          "model_module_version": "1.2.0",
          "state": {
            "_model_module": "@jupyter-widgets/base",
            "_model_module_version": "1.2.0",
            "_model_name": "LayoutModel",
            "_view_count": null,
            "_view_module": "@jupyter-widgets/base",
            "_view_module_version": "1.2.0",
            "_view_name": "LayoutView",
            "align_content": null,
            "align_items": null,
            "align_self": null,
            "border": null,
            "bottom": null,
            "display": null,
            "flex": null,
            "flex_flow": null,
            "grid_area": null,
            "grid_auto_columns": null,
            "grid_auto_flow": null,
            "grid_auto_rows": null,
            "grid_column": null,
            "grid_gap": null,
            "grid_row": null,
            "grid_template_areas": null,
            "grid_template_columns": null,
            "grid_template_rows": null,
            "height": null,
            "justify_content": null,
            "justify_items": null,
            "left": null,
            "margin": null,
            "max_height": null,
            "max_width": null,
            "min_height": null,
            "min_width": null,
            "object_fit": null,
            "object_position": null,
            "order": null,
            "overflow": null,
            "overflow_x": null,
            "overflow_y": null,
            "padding": null,
            "right": null,
            "top": null,
            "visibility": null,
            "width": null
          }
        },
        "f7fc7316e3714714b6c4252a0f27f367": {
          "model_module": "@jupyter-widgets/base",
          "model_name": "LayoutModel",
          "model_module_version": "1.2.0",
          "state": {
            "_model_module": "@jupyter-widgets/base",
            "_model_module_version": "1.2.0",
            "_model_name": "LayoutModel",
            "_view_count": null,
            "_view_module": "@jupyter-widgets/base",
            "_view_module_version": "1.2.0",
            "_view_name": "LayoutView",
            "align_content": null,
            "align_items": null,
            "align_self": null,
            "border": null,
            "bottom": null,
            "display": null,
            "flex": null,
            "flex_flow": null,
            "grid_area": null,
            "grid_auto_columns": null,
            "grid_auto_flow": null,
            "grid_auto_rows": null,
            "grid_column": null,
            "grid_gap": null,
            "grid_row": null,
            "grid_template_areas": null,
            "grid_template_columns": null,
            "grid_template_rows": null,
            "height": null,
            "justify_content": null,
            "justify_items": null,
            "left": null,
            "margin": null,
            "max_height": null,
            "max_width": null,
            "min_height": null,
            "min_width": null,
            "object_fit": null,
            "object_position": null,
            "order": null,
            "overflow": null,
            "overflow_x": null,
            "overflow_y": null,
            "padding": null,
            "right": null,
            "top": null,
            "visibility": null,
            "width": null
          }
        },
        "0ce0fae5100c46d5af3ae8d77d5a9c5a": {
          "model_module": "@jupyter-widgets/controls",
          "model_name": "DescriptionStyleModel",
          "model_module_version": "1.5.0",
          "state": {
            "_model_module": "@jupyter-widgets/controls",
            "_model_module_version": "1.5.0",
            "_model_name": "DescriptionStyleModel",
            "_view_count": null,
            "_view_module": "@jupyter-widgets/base",
            "_view_module_version": "1.2.0",
            "_view_name": "StyleView",
            "description_width": ""
          }
        },
        "3e9b506c8ac645be8808e4e71c6c4c79": {
          "model_module": "@jupyter-widgets/base",
          "model_name": "LayoutModel",
          "model_module_version": "1.2.0",
          "state": {
            "_model_module": "@jupyter-widgets/base",
            "_model_module_version": "1.2.0",
            "_model_name": "LayoutModel",
            "_view_count": null,
            "_view_module": "@jupyter-widgets/base",
            "_view_module_version": "1.2.0",
            "_view_name": "LayoutView",
            "align_content": null,
            "align_items": null,
            "align_self": null,
            "border": null,
            "bottom": null,
            "display": null,
            "flex": null,
            "flex_flow": null,
            "grid_area": null,
            "grid_auto_columns": null,
            "grid_auto_flow": null,
            "grid_auto_rows": null,
            "grid_column": null,
            "grid_gap": null,
            "grid_row": null,
            "grid_template_areas": null,
            "grid_template_columns": null,
            "grid_template_rows": null,
            "height": null,
            "justify_content": null,
            "justify_items": null,
            "left": null,
            "margin": null,
            "max_height": null,
            "max_width": null,
            "min_height": null,
            "min_width": null,
            "object_fit": null,
            "object_position": null,
            "order": null,
            "overflow": null,
            "overflow_x": null,
            "overflow_y": null,
            "padding": null,
            "right": null,
            "top": null,
            "visibility": null,
            "width": null
          }
        },
        "44acf05b78ea40f6be4e64c6b4182d25": {
          "model_module": "@jupyter-widgets/controls",
          "model_name": "ProgressStyleModel",
          "model_module_version": "1.5.0",
          "state": {
            "_model_module": "@jupyter-widgets/controls",
            "_model_module_version": "1.5.0",
            "_model_name": "ProgressStyleModel",
            "_view_count": null,
            "_view_module": "@jupyter-widgets/base",
            "_view_module_version": "1.2.0",
            "_view_name": "StyleView",
            "bar_color": null,
            "description_width": ""
          }
        },
        "57ba399c736646ac944f2d494ec02db1": {
          "model_module": "@jupyter-widgets/controls",
          "model_name": "VBoxModel",
          "model_module_version": "1.5.0",
          "state": {
            "_dom_classes": [],
            "_model_module": "@jupyter-widgets/controls",
            "_model_module_version": "1.5.0",
            "_model_name": "VBoxModel",
            "_view_count": null,
            "_view_module": "@jupyter-widgets/controls",
            "_view_module_version": "1.5.0",
            "_view_name": "VBoxView",
            "box_style": "",
            "children": [
              "IPY_MODEL_0c009c6960fd413d8597015248875c4f",
              "IPY_MODEL_b9e2811cf52c45a4904c5a3123f7d572"
            ],
            "layout": "IPY_MODEL_685d2fa9e2e343e5a15832b8d0923595"
          }
        },
        "0c009c6960fd413d8597015248875c4f": {
          "model_module": "@jupyter-widgets/controls",
          "model_name": "LabelModel",
          "model_module_version": "1.5.0",
          "state": {
            "_dom_classes": [],
            "_model_module": "@jupyter-widgets/controls",
            "_model_module_version": "1.5.0",
            "_model_name": "LabelModel",
            "_view_count": null,
            "_view_module": "@jupyter-widgets/controls",
            "_view_module_version": "1.5.0",
            "_view_name": "LabelView",
            "description": "",
            "description_tooltip": null,
            "layout": "IPY_MODEL_7486b43487134d209f4b95f7c122cfa9",
            "placeholder": "​",
            "style": "IPY_MODEL_9fe9988a59ad4702bd230e5b80f278ac",
            "value": "0.012 MB of 0.012 MB uploaded\r"
          }
        },
        "b9e2811cf52c45a4904c5a3123f7d572": {
          "model_module": "@jupyter-widgets/controls",
          "model_name": "FloatProgressModel",
          "model_module_version": "1.5.0",
          "state": {
            "_dom_classes": [],
            "_model_module": "@jupyter-widgets/controls",
            "_model_module_version": "1.5.0",
            "_model_name": "FloatProgressModel",
            "_view_count": null,
            "_view_module": "@jupyter-widgets/controls",
            "_view_module_version": "1.5.0",
            "_view_name": "ProgressView",
            "bar_style": "",
            "description": "",
            "description_tooltip": null,
            "layout": "IPY_MODEL_2307ff5f34b04049b224349c79f329e0",
            "max": 1,
            "min": 0,
            "orientation": "horizontal",
            "style": "IPY_MODEL_82037ca4afcb4b7e8f31d4445a7b01e3",
            "value": 1
          }
        },
        "685d2fa9e2e343e5a15832b8d0923595": {
          "model_module": "@jupyter-widgets/base",
          "model_name": "LayoutModel",
          "model_module_version": "1.2.0",
          "state": {
            "_model_module": "@jupyter-widgets/base",
            "_model_module_version": "1.2.0",
            "_model_name": "LayoutModel",
            "_view_count": null,
            "_view_module": "@jupyter-widgets/base",
            "_view_module_version": "1.2.0",
            "_view_name": "LayoutView",
            "align_content": null,
            "align_items": null,
            "align_self": null,
            "border": null,
            "bottom": null,
            "display": null,
            "flex": null,
            "flex_flow": null,
            "grid_area": null,
            "grid_auto_columns": null,
            "grid_auto_flow": null,
            "grid_auto_rows": null,
            "grid_column": null,
            "grid_gap": null,
            "grid_row": null,
            "grid_template_areas": null,
            "grid_template_columns": null,
            "grid_template_rows": null,
            "height": null,
            "justify_content": null,
            "justify_items": null,
            "left": null,
            "margin": null,
            "max_height": null,
            "max_width": null,
            "min_height": null,
            "min_width": null,
            "object_fit": null,
            "object_position": null,
            "order": null,
            "overflow": null,
            "overflow_x": null,
            "overflow_y": null,
            "padding": null,
            "right": null,
            "top": null,
            "visibility": null,
            "width": null
          }
        },
        "7486b43487134d209f4b95f7c122cfa9": {
          "model_module": "@jupyter-widgets/base",
          "model_name": "LayoutModel",
          "model_module_version": "1.2.0",
          "state": {
            "_model_module": "@jupyter-widgets/base",
            "_model_module_version": "1.2.0",
            "_model_name": "LayoutModel",
            "_view_count": null,
            "_view_module": "@jupyter-widgets/base",
            "_view_module_version": "1.2.0",
            "_view_name": "LayoutView",
            "align_content": null,
            "align_items": null,
            "align_self": null,
            "border": null,
            "bottom": null,
            "display": null,
            "flex": null,
            "flex_flow": null,
            "grid_area": null,
            "grid_auto_columns": null,
            "grid_auto_flow": null,
            "grid_auto_rows": null,
            "grid_column": null,
            "grid_gap": null,
            "grid_row": null,
            "grid_template_areas": null,
            "grid_template_columns": null,
            "grid_template_rows": null,
            "height": null,
            "justify_content": null,
            "justify_items": null,
            "left": null,
            "margin": null,
            "max_height": null,
            "max_width": null,
            "min_height": null,
            "min_width": null,
            "object_fit": null,
            "object_position": null,
            "order": null,
            "overflow": null,
            "overflow_x": null,
            "overflow_y": null,
            "padding": null,
            "right": null,
            "top": null,
            "visibility": null,
            "width": null
          }
        },
        "9fe9988a59ad4702bd230e5b80f278ac": {
          "model_module": "@jupyter-widgets/controls",
          "model_name": "DescriptionStyleModel",
          "model_module_version": "1.5.0",
          "state": {
            "_model_module": "@jupyter-widgets/controls",
            "_model_module_version": "1.5.0",
            "_model_name": "DescriptionStyleModel",
            "_view_count": null,
            "_view_module": "@jupyter-widgets/base",
            "_view_module_version": "1.2.0",
            "_view_name": "StyleView",
            "description_width": ""
          }
        },
        "2307ff5f34b04049b224349c79f329e0": {
          "model_module": "@jupyter-widgets/base",
          "model_name": "LayoutModel",
          "model_module_version": "1.2.0",
          "state": {
            "_model_module": "@jupyter-widgets/base",
            "_model_module_version": "1.2.0",
            "_model_name": "LayoutModel",
            "_view_count": null,
            "_view_module": "@jupyter-widgets/base",
            "_view_module_version": "1.2.0",
            "_view_name": "LayoutView",
            "align_content": null,
            "align_items": null,
            "align_self": null,
            "border": null,
            "bottom": null,
            "display": null,
            "flex": null,
            "flex_flow": null,
            "grid_area": null,
            "grid_auto_columns": null,
            "grid_auto_flow": null,
            "grid_auto_rows": null,
            "grid_column": null,
            "grid_gap": null,
            "grid_row": null,
            "grid_template_areas": null,
            "grid_template_columns": null,
            "grid_template_rows": null,
            "height": null,
            "justify_content": null,
            "justify_items": null,
            "left": null,
            "margin": null,
            "max_height": null,
            "max_width": null,
            "min_height": null,
            "min_width": null,
            "object_fit": null,
            "object_position": null,
            "order": null,
            "overflow": null,
            "overflow_x": null,
            "overflow_y": null,
            "padding": null,
            "right": null,
            "top": null,
            "visibility": null,
            "width": null
          }
        },
        "82037ca4afcb4b7e8f31d4445a7b01e3": {
          "model_module": "@jupyter-widgets/controls",
          "model_name": "ProgressStyleModel",
          "model_module_version": "1.5.0",
          "state": {
            "_model_module": "@jupyter-widgets/controls",
            "_model_module_version": "1.5.0",
            "_model_name": "ProgressStyleModel",
            "_view_count": null,
            "_view_module": "@jupyter-widgets/base",
            "_view_module_version": "1.2.0",
            "_view_name": "StyleView",
            "bar_color": null,
            "description_width": ""
          }
        },
        "37c79c230bf648c59f77d8e08ad15175": {
          "model_module": "@jupyter-widgets/controls",
          "model_name": "VBoxModel",
          "model_module_version": "1.5.0",
          "state": {
            "_dom_classes": [],
            "_model_module": "@jupyter-widgets/controls",
            "_model_module_version": "1.5.0",
            "_model_name": "VBoxModel",
            "_view_count": null,
            "_view_module": "@jupyter-widgets/controls",
            "_view_module_version": "1.5.0",
            "_view_name": "VBoxView",
            "box_style": "",
            "children": [
              "IPY_MODEL_6d072aeba68043ccb47225fd57282865",
              "IPY_MODEL_b9327bc88c194ca0a063fe9c929ec4ff"
            ],
            "layout": "IPY_MODEL_8ff0f0c338174ecb9897cd72f0377ef8"
          }
        },
        "6d072aeba68043ccb47225fd57282865": {
          "model_module": "@jupyter-widgets/controls",
          "model_name": "LabelModel",
          "model_module_version": "1.5.0",
          "state": {
            "_dom_classes": [],
            "_model_module": "@jupyter-widgets/controls",
            "_model_module_version": "1.5.0",
            "_model_name": "LabelModel",
            "_view_count": null,
            "_view_module": "@jupyter-widgets/controls",
            "_view_module_version": "1.5.0",
            "_view_name": "LabelView",
            "description": "",
            "description_tooltip": null,
            "layout": "IPY_MODEL_ef93dffb76fc41d9a6b5ae01b9353b29",
            "placeholder": "​",
            "style": "IPY_MODEL_cbe2b685225043c38811e4ff378bc8f6",
            "value": "0.011 MB of 0.011 MB uploaded\r"
          }
        },
        "b9327bc88c194ca0a063fe9c929ec4ff": {
          "model_module": "@jupyter-widgets/controls",
          "model_name": "FloatProgressModel",
          "model_module_version": "1.5.0",
          "state": {
            "_dom_classes": [],
            "_model_module": "@jupyter-widgets/controls",
            "_model_module_version": "1.5.0",
            "_model_name": "FloatProgressModel",
            "_view_count": null,
            "_view_module": "@jupyter-widgets/controls",
            "_view_module_version": "1.5.0",
            "_view_name": "ProgressView",
            "bar_style": "",
            "description": "",
            "description_tooltip": null,
            "layout": "IPY_MODEL_06400ac5c8d544ba87cca762e6e0147f",
            "max": 1,
            "min": 0,
            "orientation": "horizontal",
            "style": "IPY_MODEL_0eb3de3d94db4b3c8a0e2be8b550de4a",
            "value": 1
          }
        },
        "8ff0f0c338174ecb9897cd72f0377ef8": {
          "model_module": "@jupyter-widgets/base",
          "model_name": "LayoutModel",
          "model_module_version": "1.2.0",
          "state": {
            "_model_module": "@jupyter-widgets/base",
            "_model_module_version": "1.2.0",
            "_model_name": "LayoutModel",
            "_view_count": null,
            "_view_module": "@jupyter-widgets/base",
            "_view_module_version": "1.2.0",
            "_view_name": "LayoutView",
            "align_content": null,
            "align_items": null,
            "align_self": null,
            "border": null,
            "bottom": null,
            "display": null,
            "flex": null,
            "flex_flow": null,
            "grid_area": null,
            "grid_auto_columns": null,
            "grid_auto_flow": null,
            "grid_auto_rows": null,
            "grid_column": null,
            "grid_gap": null,
            "grid_row": null,
            "grid_template_areas": null,
            "grid_template_columns": null,
            "grid_template_rows": null,
            "height": null,
            "justify_content": null,
            "justify_items": null,
            "left": null,
            "margin": null,
            "max_height": null,
            "max_width": null,
            "min_height": null,
            "min_width": null,
            "object_fit": null,
            "object_position": null,
            "order": null,
            "overflow": null,
            "overflow_x": null,
            "overflow_y": null,
            "padding": null,
            "right": null,
            "top": null,
            "visibility": null,
            "width": null
          }
        },
        "ef93dffb76fc41d9a6b5ae01b9353b29": {
          "model_module": "@jupyter-widgets/base",
          "model_name": "LayoutModel",
          "model_module_version": "1.2.0",
          "state": {
            "_model_module": "@jupyter-widgets/base",
            "_model_module_version": "1.2.0",
            "_model_name": "LayoutModel",
            "_view_count": null,
            "_view_module": "@jupyter-widgets/base",
            "_view_module_version": "1.2.0",
            "_view_name": "LayoutView",
            "align_content": null,
            "align_items": null,
            "align_self": null,
            "border": null,
            "bottom": null,
            "display": null,
            "flex": null,
            "flex_flow": null,
            "grid_area": null,
            "grid_auto_columns": null,
            "grid_auto_flow": null,
            "grid_auto_rows": null,
            "grid_column": null,
            "grid_gap": null,
            "grid_row": null,
            "grid_template_areas": null,
            "grid_template_columns": null,
            "grid_template_rows": null,
            "height": null,
            "justify_content": null,
            "justify_items": null,
            "left": null,
            "margin": null,
            "max_height": null,
            "max_width": null,
            "min_height": null,
            "min_width": null,
            "object_fit": null,
            "object_position": null,
            "order": null,
            "overflow": null,
            "overflow_x": null,
            "overflow_y": null,
            "padding": null,
            "right": null,
            "top": null,
            "visibility": null,
            "width": null
          }
        },
        "cbe2b685225043c38811e4ff378bc8f6": {
          "model_module": "@jupyter-widgets/controls",
          "model_name": "DescriptionStyleModel",
          "model_module_version": "1.5.0",
          "state": {
            "_model_module": "@jupyter-widgets/controls",
            "_model_module_version": "1.5.0",
            "_model_name": "DescriptionStyleModel",
            "_view_count": null,
            "_view_module": "@jupyter-widgets/base",
            "_view_module_version": "1.2.0",
            "_view_name": "StyleView",
            "description_width": ""
          }
        },
        "06400ac5c8d544ba87cca762e6e0147f": {
          "model_module": "@jupyter-widgets/base",
          "model_name": "LayoutModel",
          "model_module_version": "1.2.0",
          "state": {
            "_model_module": "@jupyter-widgets/base",
            "_model_module_version": "1.2.0",
            "_model_name": "LayoutModel",
            "_view_count": null,
            "_view_module": "@jupyter-widgets/base",
            "_view_module_version": "1.2.0",
            "_view_name": "LayoutView",
            "align_content": null,
            "align_items": null,
            "align_self": null,
            "border": null,
            "bottom": null,
            "display": null,
            "flex": null,
            "flex_flow": null,
            "grid_area": null,
            "grid_auto_columns": null,
            "grid_auto_flow": null,
            "grid_auto_rows": null,
            "grid_column": null,
            "grid_gap": null,
            "grid_row": null,
            "grid_template_areas": null,
            "grid_template_columns": null,
            "grid_template_rows": null,
            "height": null,
            "justify_content": null,
            "justify_items": null,
            "left": null,
            "margin": null,
            "max_height": null,
            "max_width": null,
            "min_height": null,
            "min_width": null,
            "object_fit": null,
            "object_position": null,
            "order": null,
            "overflow": null,
            "overflow_x": null,
            "overflow_y": null,
            "padding": null,
            "right": null,
            "top": null,
            "visibility": null,
            "width": null
          }
        },
        "0eb3de3d94db4b3c8a0e2be8b550de4a": {
          "model_module": "@jupyter-widgets/controls",
          "model_name": "ProgressStyleModel",
          "model_module_version": "1.5.0",
          "state": {
            "_model_module": "@jupyter-widgets/controls",
            "_model_module_version": "1.5.0",
            "_model_name": "ProgressStyleModel",
            "_view_count": null,
            "_view_module": "@jupyter-widgets/base",
            "_view_module_version": "1.2.0",
            "_view_name": "StyleView",
            "bar_color": null,
            "description_width": ""
          }
        },
        "7f5a14374c1142e0ae682fca8b39ce8d": {
          "model_module": "@jupyter-widgets/controls",
          "model_name": "VBoxModel",
          "model_module_version": "1.5.0",
          "state": {
            "_dom_classes": [],
            "_model_module": "@jupyter-widgets/controls",
            "_model_module_version": "1.5.0",
            "_model_name": "VBoxModel",
            "_view_count": null,
            "_view_module": "@jupyter-widgets/controls",
            "_view_module_version": "1.5.0",
            "_view_name": "VBoxView",
            "box_style": "",
            "children": [
              "IPY_MODEL_5a8aaadcedd84e3380f455e39accbfa7",
              "IPY_MODEL_6a66d2ae0f7f4ebbb4207cf2a200fcca"
            ],
            "layout": "IPY_MODEL_c40445d2d91a40aea5b7fe805cfbdff0"
          }
        },
        "5a8aaadcedd84e3380f455e39accbfa7": {
          "model_module": "@jupyter-widgets/controls",
          "model_name": "LabelModel",
          "model_module_version": "1.5.0",
          "state": {
            "_dom_classes": [],
            "_model_module": "@jupyter-widgets/controls",
            "_model_module_version": "1.5.0",
            "_model_name": "LabelModel",
            "_view_count": null,
            "_view_module": "@jupyter-widgets/controls",
            "_view_module_version": "1.5.0",
            "_view_name": "LabelView",
            "description": "",
            "description_tooltip": null,
            "layout": "IPY_MODEL_2baf3835fddb49fc9d4ed34c76166d4e",
            "placeholder": "​",
            "style": "IPY_MODEL_a49f215174be4301b86365fdd294b92d",
            "value": "0.011 MB of 0.011 MB uploaded\r"
          }
        },
        "6a66d2ae0f7f4ebbb4207cf2a200fcca": {
          "model_module": "@jupyter-widgets/controls",
          "model_name": "FloatProgressModel",
          "model_module_version": "1.5.0",
          "state": {
            "_dom_classes": [],
            "_model_module": "@jupyter-widgets/controls",
            "_model_module_version": "1.5.0",
            "_model_name": "FloatProgressModel",
            "_view_count": null,
            "_view_module": "@jupyter-widgets/controls",
            "_view_module_version": "1.5.0",
            "_view_name": "ProgressView",
            "bar_style": "",
            "description": "",
            "description_tooltip": null,
            "layout": "IPY_MODEL_dcb7ce73321d459fb24a15973eedfa3b",
            "max": 1,
            "min": 0,
            "orientation": "horizontal",
            "style": "IPY_MODEL_ad76730261d6422fab17d97f826f87f5",
            "value": 1
          }
        },
        "c40445d2d91a40aea5b7fe805cfbdff0": {
          "model_module": "@jupyter-widgets/base",
          "model_name": "LayoutModel",
          "model_module_version": "1.2.0",
          "state": {
            "_model_module": "@jupyter-widgets/base",
            "_model_module_version": "1.2.0",
            "_model_name": "LayoutModel",
            "_view_count": null,
            "_view_module": "@jupyter-widgets/base",
            "_view_module_version": "1.2.0",
            "_view_name": "LayoutView",
            "align_content": null,
            "align_items": null,
            "align_self": null,
            "border": null,
            "bottom": null,
            "display": null,
            "flex": null,
            "flex_flow": null,
            "grid_area": null,
            "grid_auto_columns": null,
            "grid_auto_flow": null,
            "grid_auto_rows": null,
            "grid_column": null,
            "grid_gap": null,
            "grid_row": null,
            "grid_template_areas": null,
            "grid_template_columns": null,
            "grid_template_rows": null,
            "height": null,
            "justify_content": null,
            "justify_items": null,
            "left": null,
            "margin": null,
            "max_height": null,
            "max_width": null,
            "min_height": null,
            "min_width": null,
            "object_fit": null,
            "object_position": null,
            "order": null,
            "overflow": null,
            "overflow_x": null,
            "overflow_y": null,
            "padding": null,
            "right": null,
            "top": null,
            "visibility": null,
            "width": null
          }
        },
        "2baf3835fddb49fc9d4ed34c76166d4e": {
          "model_module": "@jupyter-widgets/base",
          "model_name": "LayoutModel",
          "model_module_version": "1.2.0",
          "state": {
            "_model_module": "@jupyter-widgets/base",
            "_model_module_version": "1.2.0",
            "_model_name": "LayoutModel",
            "_view_count": null,
            "_view_module": "@jupyter-widgets/base",
            "_view_module_version": "1.2.0",
            "_view_name": "LayoutView",
            "align_content": null,
            "align_items": null,
            "align_self": null,
            "border": null,
            "bottom": null,
            "display": null,
            "flex": null,
            "flex_flow": null,
            "grid_area": null,
            "grid_auto_columns": null,
            "grid_auto_flow": null,
            "grid_auto_rows": null,
            "grid_column": null,
            "grid_gap": null,
            "grid_row": null,
            "grid_template_areas": null,
            "grid_template_columns": null,
            "grid_template_rows": null,
            "height": null,
            "justify_content": null,
            "justify_items": null,
            "left": null,
            "margin": null,
            "max_height": null,
            "max_width": null,
            "min_height": null,
            "min_width": null,
            "object_fit": null,
            "object_position": null,
            "order": null,
            "overflow": null,
            "overflow_x": null,
            "overflow_y": null,
            "padding": null,
            "right": null,
            "top": null,
            "visibility": null,
            "width": null
          }
        },
        "a49f215174be4301b86365fdd294b92d": {
          "model_module": "@jupyter-widgets/controls",
          "model_name": "DescriptionStyleModel",
          "model_module_version": "1.5.0",
          "state": {
            "_model_module": "@jupyter-widgets/controls",
            "_model_module_version": "1.5.0",
            "_model_name": "DescriptionStyleModel",
            "_view_count": null,
            "_view_module": "@jupyter-widgets/base",
            "_view_module_version": "1.2.0",
            "_view_name": "StyleView",
            "description_width": ""
          }
        },
        "dcb7ce73321d459fb24a15973eedfa3b": {
          "model_module": "@jupyter-widgets/base",
          "model_name": "LayoutModel",
          "model_module_version": "1.2.0",
          "state": {
            "_model_module": "@jupyter-widgets/base",
            "_model_module_version": "1.2.0",
            "_model_name": "LayoutModel",
            "_view_count": null,
            "_view_module": "@jupyter-widgets/base",
            "_view_module_version": "1.2.0",
            "_view_name": "LayoutView",
            "align_content": null,
            "align_items": null,
            "align_self": null,
            "border": null,
            "bottom": null,
            "display": null,
            "flex": null,
            "flex_flow": null,
            "grid_area": null,
            "grid_auto_columns": null,
            "grid_auto_flow": null,
            "grid_auto_rows": null,
            "grid_column": null,
            "grid_gap": null,
            "grid_row": null,
            "grid_template_areas": null,
            "grid_template_columns": null,
            "grid_template_rows": null,
            "height": null,
            "justify_content": null,
            "justify_items": null,
            "left": null,
            "margin": null,
            "max_height": null,
            "max_width": null,
            "min_height": null,
            "min_width": null,
            "object_fit": null,
            "object_position": null,
            "order": null,
            "overflow": null,
            "overflow_x": null,
            "overflow_y": null,
            "padding": null,
            "right": null,
            "top": null,
            "visibility": null,
            "width": null
          }
        },
        "ad76730261d6422fab17d97f826f87f5": {
          "model_module": "@jupyter-widgets/controls",
          "model_name": "ProgressStyleModel",
          "model_module_version": "1.5.0",
          "state": {
            "_model_module": "@jupyter-widgets/controls",
            "_model_module_version": "1.5.0",
            "_model_name": "ProgressStyleModel",
            "_view_count": null,
            "_view_module": "@jupyter-widgets/base",
            "_view_module_version": "1.2.0",
            "_view_name": "StyleView",
            "bar_color": null,
            "description_width": ""
          }
        },
        "dccb3e29e2cf4175bd5aae6fef16ba42": {
          "model_module": "@jupyter-widgets/controls",
          "model_name": "VBoxModel",
          "model_module_version": "1.5.0",
          "state": {
            "_dom_classes": [],
            "_model_module": "@jupyter-widgets/controls",
            "_model_module_version": "1.5.0",
            "_model_name": "VBoxModel",
            "_view_count": null,
            "_view_module": "@jupyter-widgets/controls",
            "_view_module_version": "1.5.0",
            "_view_name": "VBoxView",
            "box_style": "",
            "children": [
              "IPY_MODEL_feda0d7a73ea4c6aba94aa9b08b8e36f",
              "IPY_MODEL_8151faf12964475283aefa01f4625987"
            ],
            "layout": "IPY_MODEL_58d67d5687d742e49d0ad68d1ffdc064"
          }
        },
        "feda0d7a73ea4c6aba94aa9b08b8e36f": {
          "model_module": "@jupyter-widgets/controls",
          "model_name": "LabelModel",
          "model_module_version": "1.5.0",
          "state": {
            "_dom_classes": [],
            "_model_module": "@jupyter-widgets/controls",
            "_model_module_version": "1.5.0",
            "_model_name": "LabelModel",
            "_view_count": null,
            "_view_module": "@jupyter-widgets/controls",
            "_view_module_version": "1.5.0",
            "_view_name": "LabelView",
            "description": "",
            "description_tooltip": null,
            "layout": "IPY_MODEL_67a0591ffec8457b955a95d17a7043e9",
            "placeholder": "​",
            "style": "IPY_MODEL_473d077eea7247aa9fb8e71ea92bd612",
            "value": "0.011 MB of 0.011 MB uploaded\r"
          }
        },
        "8151faf12964475283aefa01f4625987": {
          "model_module": "@jupyter-widgets/controls",
          "model_name": "FloatProgressModel",
          "model_module_version": "1.5.0",
          "state": {
            "_dom_classes": [],
            "_model_module": "@jupyter-widgets/controls",
            "_model_module_version": "1.5.0",
            "_model_name": "FloatProgressModel",
            "_view_count": null,
            "_view_module": "@jupyter-widgets/controls",
            "_view_module_version": "1.5.0",
            "_view_name": "ProgressView",
            "bar_style": "",
            "description": "",
            "description_tooltip": null,
            "layout": "IPY_MODEL_4bb3b4ccae344f2f9e6a1760aca19fc9",
            "max": 1,
            "min": 0,
            "orientation": "horizontal",
            "style": "IPY_MODEL_e6e570b115274d8ab1f93e150ba9fee3",
            "value": 1
          }
        },
        "58d67d5687d742e49d0ad68d1ffdc064": {
          "model_module": "@jupyter-widgets/base",
          "model_name": "LayoutModel",
          "model_module_version": "1.2.0",
          "state": {
            "_model_module": "@jupyter-widgets/base",
            "_model_module_version": "1.2.0",
            "_model_name": "LayoutModel",
            "_view_count": null,
            "_view_module": "@jupyter-widgets/base",
            "_view_module_version": "1.2.0",
            "_view_name": "LayoutView",
            "align_content": null,
            "align_items": null,
            "align_self": null,
            "border": null,
            "bottom": null,
            "display": null,
            "flex": null,
            "flex_flow": null,
            "grid_area": null,
            "grid_auto_columns": null,
            "grid_auto_flow": null,
            "grid_auto_rows": null,
            "grid_column": null,
            "grid_gap": null,
            "grid_row": null,
            "grid_template_areas": null,
            "grid_template_columns": null,
            "grid_template_rows": null,
            "height": null,
            "justify_content": null,
            "justify_items": null,
            "left": null,
            "margin": null,
            "max_height": null,
            "max_width": null,
            "min_height": null,
            "min_width": null,
            "object_fit": null,
            "object_position": null,
            "order": null,
            "overflow": null,
            "overflow_x": null,
            "overflow_y": null,
            "padding": null,
            "right": null,
            "top": null,
            "visibility": null,
            "width": null
          }
        },
        "67a0591ffec8457b955a95d17a7043e9": {
          "model_module": "@jupyter-widgets/base",
          "model_name": "LayoutModel",
          "model_module_version": "1.2.0",
          "state": {
            "_model_module": "@jupyter-widgets/base",
            "_model_module_version": "1.2.0",
            "_model_name": "LayoutModel",
            "_view_count": null,
            "_view_module": "@jupyter-widgets/base",
            "_view_module_version": "1.2.0",
            "_view_name": "LayoutView",
            "align_content": null,
            "align_items": null,
            "align_self": null,
            "border": null,
            "bottom": null,
            "display": null,
            "flex": null,
            "flex_flow": null,
            "grid_area": null,
            "grid_auto_columns": null,
            "grid_auto_flow": null,
            "grid_auto_rows": null,
            "grid_column": null,
            "grid_gap": null,
            "grid_row": null,
            "grid_template_areas": null,
            "grid_template_columns": null,
            "grid_template_rows": null,
            "height": null,
            "justify_content": null,
            "justify_items": null,
            "left": null,
            "margin": null,
            "max_height": null,
            "max_width": null,
            "min_height": null,
            "min_width": null,
            "object_fit": null,
            "object_position": null,
            "order": null,
            "overflow": null,
            "overflow_x": null,
            "overflow_y": null,
            "padding": null,
            "right": null,
            "top": null,
            "visibility": null,
            "width": null
          }
        },
        "473d077eea7247aa9fb8e71ea92bd612": {
          "model_module": "@jupyter-widgets/controls",
          "model_name": "DescriptionStyleModel",
          "model_module_version": "1.5.0",
          "state": {
            "_model_module": "@jupyter-widgets/controls",
            "_model_module_version": "1.5.0",
            "_model_name": "DescriptionStyleModel",
            "_view_count": null,
            "_view_module": "@jupyter-widgets/base",
            "_view_module_version": "1.2.0",
            "_view_name": "StyleView",
            "description_width": ""
          }
        },
        "4bb3b4ccae344f2f9e6a1760aca19fc9": {
          "model_module": "@jupyter-widgets/base",
          "model_name": "LayoutModel",
          "model_module_version": "1.2.0",
          "state": {
            "_model_module": "@jupyter-widgets/base",
            "_model_module_version": "1.2.0",
            "_model_name": "LayoutModel",
            "_view_count": null,
            "_view_module": "@jupyter-widgets/base",
            "_view_module_version": "1.2.0",
            "_view_name": "LayoutView",
            "align_content": null,
            "align_items": null,
            "align_self": null,
            "border": null,
            "bottom": null,
            "display": null,
            "flex": null,
            "flex_flow": null,
            "grid_area": null,
            "grid_auto_columns": null,
            "grid_auto_flow": null,
            "grid_auto_rows": null,
            "grid_column": null,
            "grid_gap": null,
            "grid_row": null,
            "grid_template_areas": null,
            "grid_template_columns": null,
            "grid_template_rows": null,
            "height": null,
            "justify_content": null,
            "justify_items": null,
            "left": null,
            "margin": null,
            "max_height": null,
            "max_width": null,
            "min_height": null,
            "min_width": null,
            "object_fit": null,
            "object_position": null,
            "order": null,
            "overflow": null,
            "overflow_x": null,
            "overflow_y": null,
            "padding": null,
            "right": null,
            "top": null,
            "visibility": null,
            "width": null
          }
        },
        "e6e570b115274d8ab1f93e150ba9fee3": {
          "model_module": "@jupyter-widgets/controls",
          "model_name": "ProgressStyleModel",
          "model_module_version": "1.5.0",
          "state": {
            "_model_module": "@jupyter-widgets/controls",
            "_model_module_version": "1.5.0",
            "_model_name": "ProgressStyleModel",
            "_view_count": null,
            "_view_module": "@jupyter-widgets/base",
            "_view_module_version": "1.2.0",
            "_view_name": "StyleView",
            "bar_color": null,
            "description_width": ""
          }
        },
        "51543146c2d54deaa713a6961f53b774": {
          "model_module": "@jupyter-widgets/controls",
          "model_name": "VBoxModel",
          "model_module_version": "1.5.0",
          "state": {
            "_dom_classes": [],
            "_model_module": "@jupyter-widgets/controls",
            "_model_module_version": "1.5.0",
            "_model_name": "VBoxModel",
            "_view_count": null,
            "_view_module": "@jupyter-widgets/controls",
            "_view_module_version": "1.5.0",
            "_view_name": "VBoxView",
            "box_style": "",
            "children": [
              "IPY_MODEL_76a9f45799a44be08af23547d72256b4",
              "IPY_MODEL_bd4ec327d0d24d459807d04b9704379e"
            ],
            "layout": "IPY_MODEL_aae50c5f6f9b43c3a8ead6a993b07ee8"
          }
        },
        "76a9f45799a44be08af23547d72256b4": {
          "model_module": "@jupyter-widgets/controls",
          "model_name": "LabelModel",
          "model_module_version": "1.5.0",
          "state": {
            "_dom_classes": [],
            "_model_module": "@jupyter-widgets/controls",
            "_model_module_version": "1.5.0",
            "_model_name": "LabelModel",
            "_view_count": null,
            "_view_module": "@jupyter-widgets/controls",
            "_view_module_version": "1.5.0",
            "_view_name": "LabelView",
            "description": "",
            "description_tooltip": null,
            "layout": "IPY_MODEL_2d28f9a8f10e4c88afbba4eca17dda48",
            "placeholder": "​",
            "style": "IPY_MODEL_951127e5cd084162a47061506fe8a2c8",
            "value": "0.012 MB of 0.012 MB uploaded\r"
          }
        },
        "bd4ec327d0d24d459807d04b9704379e": {
          "model_module": "@jupyter-widgets/controls",
          "model_name": "FloatProgressModel",
          "model_module_version": "1.5.0",
          "state": {
            "_dom_classes": [],
            "_model_module": "@jupyter-widgets/controls",
            "_model_module_version": "1.5.0",
            "_model_name": "FloatProgressModel",
            "_view_count": null,
            "_view_module": "@jupyter-widgets/controls",
            "_view_module_version": "1.5.0",
            "_view_name": "ProgressView",
            "bar_style": "",
            "description": "",
            "description_tooltip": null,
            "layout": "IPY_MODEL_429bf41491744e5bb5297805f9bf8646",
            "max": 1,
            "min": 0,
            "orientation": "horizontal",
            "style": "IPY_MODEL_d6fccc40f4b44540a37667bfb9a6778a",
            "value": 1
          }
        },
        "aae50c5f6f9b43c3a8ead6a993b07ee8": {
          "model_module": "@jupyter-widgets/base",
          "model_name": "LayoutModel",
          "model_module_version": "1.2.0",
          "state": {
            "_model_module": "@jupyter-widgets/base",
            "_model_module_version": "1.2.0",
            "_model_name": "LayoutModel",
            "_view_count": null,
            "_view_module": "@jupyter-widgets/base",
            "_view_module_version": "1.2.0",
            "_view_name": "LayoutView",
            "align_content": null,
            "align_items": null,
            "align_self": null,
            "border": null,
            "bottom": null,
            "display": null,
            "flex": null,
            "flex_flow": null,
            "grid_area": null,
            "grid_auto_columns": null,
            "grid_auto_flow": null,
            "grid_auto_rows": null,
            "grid_column": null,
            "grid_gap": null,
            "grid_row": null,
            "grid_template_areas": null,
            "grid_template_columns": null,
            "grid_template_rows": null,
            "height": null,
            "justify_content": null,
            "justify_items": null,
            "left": null,
            "margin": null,
            "max_height": null,
            "max_width": null,
            "min_height": null,
            "min_width": null,
            "object_fit": null,
            "object_position": null,
            "order": null,
            "overflow": null,
            "overflow_x": null,
            "overflow_y": null,
            "padding": null,
            "right": null,
            "top": null,
            "visibility": null,
            "width": null
          }
        },
        "2d28f9a8f10e4c88afbba4eca17dda48": {
          "model_module": "@jupyter-widgets/base",
          "model_name": "LayoutModel",
          "model_module_version": "1.2.0",
          "state": {
            "_model_module": "@jupyter-widgets/base",
            "_model_module_version": "1.2.0",
            "_model_name": "LayoutModel",
            "_view_count": null,
            "_view_module": "@jupyter-widgets/base",
            "_view_module_version": "1.2.0",
            "_view_name": "LayoutView",
            "align_content": null,
            "align_items": null,
            "align_self": null,
            "border": null,
            "bottom": null,
            "display": null,
            "flex": null,
            "flex_flow": null,
            "grid_area": null,
            "grid_auto_columns": null,
            "grid_auto_flow": null,
            "grid_auto_rows": null,
            "grid_column": null,
            "grid_gap": null,
            "grid_row": null,
            "grid_template_areas": null,
            "grid_template_columns": null,
            "grid_template_rows": null,
            "height": null,
            "justify_content": null,
            "justify_items": null,
            "left": null,
            "margin": null,
            "max_height": null,
            "max_width": null,
            "min_height": null,
            "min_width": null,
            "object_fit": null,
            "object_position": null,
            "order": null,
            "overflow": null,
            "overflow_x": null,
            "overflow_y": null,
            "padding": null,
            "right": null,
            "top": null,
            "visibility": null,
            "width": null
          }
        },
        "951127e5cd084162a47061506fe8a2c8": {
          "model_module": "@jupyter-widgets/controls",
          "model_name": "DescriptionStyleModel",
          "model_module_version": "1.5.0",
          "state": {
            "_model_module": "@jupyter-widgets/controls",
            "_model_module_version": "1.5.0",
            "_model_name": "DescriptionStyleModel",
            "_view_count": null,
            "_view_module": "@jupyter-widgets/base",
            "_view_module_version": "1.2.0",
            "_view_name": "StyleView",
            "description_width": ""
          }
        },
        "429bf41491744e5bb5297805f9bf8646": {
          "model_module": "@jupyter-widgets/base",
          "model_name": "LayoutModel",
          "model_module_version": "1.2.0",
          "state": {
            "_model_module": "@jupyter-widgets/base",
            "_model_module_version": "1.2.0",
            "_model_name": "LayoutModel",
            "_view_count": null,
            "_view_module": "@jupyter-widgets/base",
            "_view_module_version": "1.2.0",
            "_view_name": "LayoutView",
            "align_content": null,
            "align_items": null,
            "align_self": null,
            "border": null,
            "bottom": null,
            "display": null,
            "flex": null,
            "flex_flow": null,
            "grid_area": null,
            "grid_auto_columns": null,
            "grid_auto_flow": null,
            "grid_auto_rows": null,
            "grid_column": null,
            "grid_gap": null,
            "grid_row": null,
            "grid_template_areas": null,
            "grid_template_columns": null,
            "grid_template_rows": null,
            "height": null,
            "justify_content": null,
            "justify_items": null,
            "left": null,
            "margin": null,
            "max_height": null,
            "max_width": null,
            "min_height": null,
            "min_width": null,
            "object_fit": null,
            "object_position": null,
            "order": null,
            "overflow": null,
            "overflow_x": null,
            "overflow_y": null,
            "padding": null,
            "right": null,
            "top": null,
            "visibility": null,
            "width": null
          }
        },
        "d6fccc40f4b44540a37667bfb9a6778a": {
          "model_module": "@jupyter-widgets/controls",
          "model_name": "ProgressStyleModel",
          "model_module_version": "1.5.0",
          "state": {
            "_model_module": "@jupyter-widgets/controls",
            "_model_module_version": "1.5.0",
            "_model_name": "ProgressStyleModel",
            "_view_count": null,
            "_view_module": "@jupyter-widgets/base",
            "_view_module_version": "1.2.0",
            "_view_name": "StyleView",
            "bar_color": null,
            "description_width": ""
          }
        },
        "b40d6b9ec3fa40e68a66ad8277e3f600": {
          "model_module": "@jupyter-widgets/controls",
          "model_name": "VBoxModel",
          "model_module_version": "1.5.0",
          "state": {
            "_dom_classes": [],
            "_model_module": "@jupyter-widgets/controls",
            "_model_module_version": "1.5.0",
            "_model_name": "VBoxModel",
            "_view_count": null,
            "_view_module": "@jupyter-widgets/controls",
            "_view_module_version": "1.5.0",
            "_view_name": "VBoxView",
            "box_style": "",
            "children": [
              "IPY_MODEL_e4b20569fbd04aa490e1350b933689f3",
              "IPY_MODEL_88baf3e4576846a99cd99999697ab6f8"
            ],
            "layout": "IPY_MODEL_5c93512cf6014f0d84d6aae8cc0ef2b2"
          }
        },
        "e4b20569fbd04aa490e1350b933689f3": {
          "model_module": "@jupyter-widgets/controls",
          "model_name": "LabelModel",
          "model_module_version": "1.5.0",
          "state": {
            "_dom_classes": [],
            "_model_module": "@jupyter-widgets/controls",
            "_model_module_version": "1.5.0",
            "_model_name": "LabelModel",
            "_view_count": null,
            "_view_module": "@jupyter-widgets/controls",
            "_view_module_version": "1.5.0",
            "_view_name": "LabelView",
            "description": "",
            "description_tooltip": null,
            "layout": "IPY_MODEL_485ad99fd678417f98e6a4f3c33780de",
            "placeholder": "​",
            "style": "IPY_MODEL_23353e1b0d634635921e0779bfb155cf",
            "value": "0.011 MB of 0.011 MB uploaded\r"
          }
        },
        "88baf3e4576846a99cd99999697ab6f8": {
          "model_module": "@jupyter-widgets/controls",
          "model_name": "FloatProgressModel",
          "model_module_version": "1.5.0",
          "state": {
            "_dom_classes": [],
            "_model_module": "@jupyter-widgets/controls",
            "_model_module_version": "1.5.0",
            "_model_name": "FloatProgressModel",
            "_view_count": null,
            "_view_module": "@jupyter-widgets/controls",
            "_view_module_version": "1.5.0",
            "_view_name": "ProgressView",
            "bar_style": "",
            "description": "",
            "description_tooltip": null,
            "layout": "IPY_MODEL_9d52c5f12c8e491d8febcb6274f6d23b",
            "max": 1,
            "min": 0,
            "orientation": "horizontal",
            "style": "IPY_MODEL_045de1e5b3fb48b1a0712d0baa5faad1",
            "value": 1
          }
        },
        "5c93512cf6014f0d84d6aae8cc0ef2b2": {
          "model_module": "@jupyter-widgets/base",
          "model_name": "LayoutModel",
          "model_module_version": "1.2.0",
          "state": {
            "_model_module": "@jupyter-widgets/base",
            "_model_module_version": "1.2.0",
            "_model_name": "LayoutModel",
            "_view_count": null,
            "_view_module": "@jupyter-widgets/base",
            "_view_module_version": "1.2.0",
            "_view_name": "LayoutView",
            "align_content": null,
            "align_items": null,
            "align_self": null,
            "border": null,
            "bottom": null,
            "display": null,
            "flex": null,
            "flex_flow": null,
            "grid_area": null,
            "grid_auto_columns": null,
            "grid_auto_flow": null,
            "grid_auto_rows": null,
            "grid_column": null,
            "grid_gap": null,
            "grid_row": null,
            "grid_template_areas": null,
            "grid_template_columns": null,
            "grid_template_rows": null,
            "height": null,
            "justify_content": null,
            "justify_items": null,
            "left": null,
            "margin": null,
            "max_height": null,
            "max_width": null,
            "min_height": null,
            "min_width": null,
            "object_fit": null,
            "object_position": null,
            "order": null,
            "overflow": null,
            "overflow_x": null,
            "overflow_y": null,
            "padding": null,
            "right": null,
            "top": null,
            "visibility": null,
            "width": null
          }
        },
        "485ad99fd678417f98e6a4f3c33780de": {
          "model_module": "@jupyter-widgets/base",
          "model_name": "LayoutModel",
          "model_module_version": "1.2.0",
          "state": {
            "_model_module": "@jupyter-widgets/base",
            "_model_module_version": "1.2.0",
            "_model_name": "LayoutModel",
            "_view_count": null,
            "_view_module": "@jupyter-widgets/base",
            "_view_module_version": "1.2.0",
            "_view_name": "LayoutView",
            "align_content": null,
            "align_items": null,
            "align_self": null,
            "border": null,
            "bottom": null,
            "display": null,
            "flex": null,
            "flex_flow": null,
            "grid_area": null,
            "grid_auto_columns": null,
            "grid_auto_flow": null,
            "grid_auto_rows": null,
            "grid_column": null,
            "grid_gap": null,
            "grid_row": null,
            "grid_template_areas": null,
            "grid_template_columns": null,
            "grid_template_rows": null,
            "height": null,
            "justify_content": null,
            "justify_items": null,
            "left": null,
            "margin": null,
            "max_height": null,
            "max_width": null,
            "min_height": null,
            "min_width": null,
            "object_fit": null,
            "object_position": null,
            "order": null,
            "overflow": null,
            "overflow_x": null,
            "overflow_y": null,
            "padding": null,
            "right": null,
            "top": null,
            "visibility": null,
            "width": null
          }
        },
        "23353e1b0d634635921e0779bfb155cf": {
          "model_module": "@jupyter-widgets/controls",
          "model_name": "DescriptionStyleModel",
          "model_module_version": "1.5.0",
          "state": {
            "_model_module": "@jupyter-widgets/controls",
            "_model_module_version": "1.5.0",
            "_model_name": "DescriptionStyleModel",
            "_view_count": null,
            "_view_module": "@jupyter-widgets/base",
            "_view_module_version": "1.2.0",
            "_view_name": "StyleView",
            "description_width": ""
          }
        },
        "9d52c5f12c8e491d8febcb6274f6d23b": {
          "model_module": "@jupyter-widgets/base",
          "model_name": "LayoutModel",
          "model_module_version": "1.2.0",
          "state": {
            "_model_module": "@jupyter-widgets/base",
            "_model_module_version": "1.2.0",
            "_model_name": "LayoutModel",
            "_view_count": null,
            "_view_module": "@jupyter-widgets/base",
            "_view_module_version": "1.2.0",
            "_view_name": "LayoutView",
            "align_content": null,
            "align_items": null,
            "align_self": null,
            "border": null,
            "bottom": null,
            "display": null,
            "flex": null,
            "flex_flow": null,
            "grid_area": null,
            "grid_auto_columns": null,
            "grid_auto_flow": null,
            "grid_auto_rows": null,
            "grid_column": null,
            "grid_gap": null,
            "grid_row": null,
            "grid_template_areas": null,
            "grid_template_columns": null,
            "grid_template_rows": null,
            "height": null,
            "justify_content": null,
            "justify_items": null,
            "left": null,
            "margin": null,
            "max_height": null,
            "max_width": null,
            "min_height": null,
            "min_width": null,
            "object_fit": null,
            "object_position": null,
            "order": null,
            "overflow": null,
            "overflow_x": null,
            "overflow_y": null,
            "padding": null,
            "right": null,
            "top": null,
            "visibility": null,
            "width": null
          }
        },
        "045de1e5b3fb48b1a0712d0baa5faad1": {
          "model_module": "@jupyter-widgets/controls",
          "model_name": "ProgressStyleModel",
          "model_module_version": "1.5.0",
          "state": {
            "_model_module": "@jupyter-widgets/controls",
            "_model_module_version": "1.5.0",
            "_model_name": "ProgressStyleModel",
            "_view_count": null,
            "_view_module": "@jupyter-widgets/base",
            "_view_module_version": "1.2.0",
            "_view_name": "StyleView",
            "bar_color": null,
            "description_width": ""
          }
        },
        "9fa0e8dfe2614faeaad5bc7b9b0ab170": {
          "model_module": "@jupyter-widgets/controls",
          "model_name": "VBoxModel",
          "model_module_version": "1.5.0",
          "state": {
            "_dom_classes": [],
            "_model_module": "@jupyter-widgets/controls",
            "_model_module_version": "1.5.0",
            "_model_name": "VBoxModel",
            "_view_count": null,
            "_view_module": "@jupyter-widgets/controls",
            "_view_module_version": "1.5.0",
            "_view_name": "VBoxView",
            "box_style": "",
            "children": [
              "IPY_MODEL_99637c4296b14c9fa11b7677ce10dcfe",
              "IPY_MODEL_aa83b79c34844446bd7d8f99a8970eae"
            ],
            "layout": "IPY_MODEL_ca486c3aa8e14ea5907db9463a93f334"
          }
        },
        "99637c4296b14c9fa11b7677ce10dcfe": {
          "model_module": "@jupyter-widgets/controls",
          "model_name": "LabelModel",
          "model_module_version": "1.5.0",
          "state": {
            "_dom_classes": [],
            "_model_module": "@jupyter-widgets/controls",
            "_model_module_version": "1.5.0",
            "_model_name": "LabelModel",
            "_view_count": null,
            "_view_module": "@jupyter-widgets/controls",
            "_view_module_version": "1.5.0",
            "_view_name": "LabelView",
            "description": "",
            "description_tooltip": null,
            "layout": "IPY_MODEL_6984eaeca6094d0a83e7f225ef77c696",
            "placeholder": "​",
            "style": "IPY_MODEL_9e8aff62815048d1aaaca5cbc2c95404",
            "value": "0.011 MB of 0.011 MB uploaded\r"
          }
        },
        "aa83b79c34844446bd7d8f99a8970eae": {
          "model_module": "@jupyter-widgets/controls",
          "model_name": "FloatProgressModel",
          "model_module_version": "1.5.0",
          "state": {
            "_dom_classes": [],
            "_model_module": "@jupyter-widgets/controls",
            "_model_module_version": "1.5.0",
            "_model_name": "FloatProgressModel",
            "_view_count": null,
            "_view_module": "@jupyter-widgets/controls",
            "_view_module_version": "1.5.0",
            "_view_name": "ProgressView",
            "bar_style": "",
            "description": "",
            "description_tooltip": null,
            "layout": "IPY_MODEL_64fedfe9684e4c71bf2ee22576df4834",
            "max": 1,
            "min": 0,
            "orientation": "horizontal",
            "style": "IPY_MODEL_865e128c2c9a49a8a9f4d6152e27a3e6",
            "value": 1
          }
        },
        "ca486c3aa8e14ea5907db9463a93f334": {
          "model_module": "@jupyter-widgets/base",
          "model_name": "LayoutModel",
          "model_module_version": "1.2.0",
          "state": {
            "_model_module": "@jupyter-widgets/base",
            "_model_module_version": "1.2.0",
            "_model_name": "LayoutModel",
            "_view_count": null,
            "_view_module": "@jupyter-widgets/base",
            "_view_module_version": "1.2.0",
            "_view_name": "LayoutView",
            "align_content": null,
            "align_items": null,
            "align_self": null,
            "border": null,
            "bottom": null,
            "display": null,
            "flex": null,
            "flex_flow": null,
            "grid_area": null,
            "grid_auto_columns": null,
            "grid_auto_flow": null,
            "grid_auto_rows": null,
            "grid_column": null,
            "grid_gap": null,
            "grid_row": null,
            "grid_template_areas": null,
            "grid_template_columns": null,
            "grid_template_rows": null,
            "height": null,
            "justify_content": null,
            "justify_items": null,
            "left": null,
            "margin": null,
            "max_height": null,
            "max_width": null,
            "min_height": null,
            "min_width": null,
            "object_fit": null,
            "object_position": null,
            "order": null,
            "overflow": null,
            "overflow_x": null,
            "overflow_y": null,
            "padding": null,
            "right": null,
            "top": null,
            "visibility": null,
            "width": null
          }
        },
        "6984eaeca6094d0a83e7f225ef77c696": {
          "model_module": "@jupyter-widgets/base",
          "model_name": "LayoutModel",
          "model_module_version": "1.2.0",
          "state": {
            "_model_module": "@jupyter-widgets/base",
            "_model_module_version": "1.2.0",
            "_model_name": "LayoutModel",
            "_view_count": null,
            "_view_module": "@jupyter-widgets/base",
            "_view_module_version": "1.2.0",
            "_view_name": "LayoutView",
            "align_content": null,
            "align_items": null,
            "align_self": null,
            "border": null,
            "bottom": null,
            "display": null,
            "flex": null,
            "flex_flow": null,
            "grid_area": null,
            "grid_auto_columns": null,
            "grid_auto_flow": null,
            "grid_auto_rows": null,
            "grid_column": null,
            "grid_gap": null,
            "grid_row": null,
            "grid_template_areas": null,
            "grid_template_columns": null,
            "grid_template_rows": null,
            "height": null,
            "justify_content": null,
            "justify_items": null,
            "left": null,
            "margin": null,
            "max_height": null,
            "max_width": null,
            "min_height": null,
            "min_width": null,
            "object_fit": null,
            "object_position": null,
            "order": null,
            "overflow": null,
            "overflow_x": null,
            "overflow_y": null,
            "padding": null,
            "right": null,
            "top": null,
            "visibility": null,
            "width": null
          }
        },
        "9e8aff62815048d1aaaca5cbc2c95404": {
          "model_module": "@jupyter-widgets/controls",
          "model_name": "DescriptionStyleModel",
          "model_module_version": "1.5.0",
          "state": {
            "_model_module": "@jupyter-widgets/controls",
            "_model_module_version": "1.5.0",
            "_model_name": "DescriptionStyleModel",
            "_view_count": null,
            "_view_module": "@jupyter-widgets/base",
            "_view_module_version": "1.2.0",
            "_view_name": "StyleView",
            "description_width": ""
          }
        },
        "64fedfe9684e4c71bf2ee22576df4834": {
          "model_module": "@jupyter-widgets/base",
          "model_name": "LayoutModel",
          "model_module_version": "1.2.0",
          "state": {
            "_model_module": "@jupyter-widgets/base",
            "_model_module_version": "1.2.0",
            "_model_name": "LayoutModel",
            "_view_count": null,
            "_view_module": "@jupyter-widgets/base",
            "_view_module_version": "1.2.0",
            "_view_name": "LayoutView",
            "align_content": null,
            "align_items": null,
            "align_self": null,
            "border": null,
            "bottom": null,
            "display": null,
            "flex": null,
            "flex_flow": null,
            "grid_area": null,
            "grid_auto_columns": null,
            "grid_auto_flow": null,
            "grid_auto_rows": null,
            "grid_column": null,
            "grid_gap": null,
            "grid_row": null,
            "grid_template_areas": null,
            "grid_template_columns": null,
            "grid_template_rows": null,
            "height": null,
            "justify_content": null,
            "justify_items": null,
            "left": null,
            "margin": null,
            "max_height": null,
            "max_width": null,
            "min_height": null,
            "min_width": null,
            "object_fit": null,
            "object_position": null,
            "order": null,
            "overflow": null,
            "overflow_x": null,
            "overflow_y": null,
            "padding": null,
            "right": null,
            "top": null,
            "visibility": null,
            "width": null
          }
        },
        "865e128c2c9a49a8a9f4d6152e27a3e6": {
          "model_module": "@jupyter-widgets/controls",
          "model_name": "ProgressStyleModel",
          "model_module_version": "1.5.0",
          "state": {
            "_model_module": "@jupyter-widgets/controls",
            "_model_module_version": "1.5.0",
            "_model_name": "ProgressStyleModel",
            "_view_count": null,
            "_view_module": "@jupyter-widgets/base",
            "_view_module_version": "1.2.0",
            "_view_name": "StyleView",
            "bar_color": null,
            "description_width": ""
          }
        },
        "caf7116761184266ad160cbf152e09ff": {
          "model_module": "@jupyter-widgets/controls",
          "model_name": "VBoxModel",
          "model_module_version": "1.5.0",
          "state": {
            "_dom_classes": [],
            "_model_module": "@jupyter-widgets/controls",
            "_model_module_version": "1.5.0",
            "_model_name": "VBoxModel",
            "_view_count": null,
            "_view_module": "@jupyter-widgets/controls",
            "_view_module_version": "1.5.0",
            "_view_name": "VBoxView",
            "box_style": "",
            "children": [
              "IPY_MODEL_929ac41315e848899257966a94acd786",
              "IPY_MODEL_952cd29bdb90449d990aba977f4b5b99"
            ],
            "layout": "IPY_MODEL_ff86557a7d5f4412bb0dd77eff944ff8"
          }
        },
        "929ac41315e848899257966a94acd786": {
          "model_module": "@jupyter-widgets/controls",
          "model_name": "LabelModel",
          "model_module_version": "1.5.0",
          "state": {
            "_dom_classes": [],
            "_model_module": "@jupyter-widgets/controls",
            "_model_module_version": "1.5.0",
            "_model_name": "LabelModel",
            "_view_count": null,
            "_view_module": "@jupyter-widgets/controls",
            "_view_module_version": "1.5.0",
            "_view_name": "LabelView",
            "description": "",
            "description_tooltip": null,
            "layout": "IPY_MODEL_6b9b933d4ea84c7aa1bef672b6eef620",
            "placeholder": "​",
            "style": "IPY_MODEL_fb73e68bd9654118ac9105ac57618158",
            "value": "0.011 MB of 0.011 MB uploaded\r"
          }
        },
        "952cd29bdb90449d990aba977f4b5b99": {
          "model_module": "@jupyter-widgets/controls",
          "model_name": "FloatProgressModel",
          "model_module_version": "1.5.0",
          "state": {
            "_dom_classes": [],
            "_model_module": "@jupyter-widgets/controls",
            "_model_module_version": "1.5.0",
            "_model_name": "FloatProgressModel",
            "_view_count": null,
            "_view_module": "@jupyter-widgets/controls",
            "_view_module_version": "1.5.0",
            "_view_name": "ProgressView",
            "bar_style": "",
            "description": "",
            "description_tooltip": null,
            "layout": "IPY_MODEL_04f42203542242679a546af60c6de008",
            "max": 1,
            "min": 0,
            "orientation": "horizontal",
            "style": "IPY_MODEL_931153bf4d564f4996617fb29a646b4d",
            "value": 1
          }
        },
        "ff86557a7d5f4412bb0dd77eff944ff8": {
          "model_module": "@jupyter-widgets/base",
          "model_name": "LayoutModel",
          "model_module_version": "1.2.0",
          "state": {
            "_model_module": "@jupyter-widgets/base",
            "_model_module_version": "1.2.0",
            "_model_name": "LayoutModel",
            "_view_count": null,
            "_view_module": "@jupyter-widgets/base",
            "_view_module_version": "1.2.0",
            "_view_name": "LayoutView",
            "align_content": null,
            "align_items": null,
            "align_self": null,
            "border": null,
            "bottom": null,
            "display": null,
            "flex": null,
            "flex_flow": null,
            "grid_area": null,
            "grid_auto_columns": null,
            "grid_auto_flow": null,
            "grid_auto_rows": null,
            "grid_column": null,
            "grid_gap": null,
            "grid_row": null,
            "grid_template_areas": null,
            "grid_template_columns": null,
            "grid_template_rows": null,
            "height": null,
            "justify_content": null,
            "justify_items": null,
            "left": null,
            "margin": null,
            "max_height": null,
            "max_width": null,
            "min_height": null,
            "min_width": null,
            "object_fit": null,
            "object_position": null,
            "order": null,
            "overflow": null,
            "overflow_x": null,
            "overflow_y": null,
            "padding": null,
            "right": null,
            "top": null,
            "visibility": null,
            "width": null
          }
        },
        "6b9b933d4ea84c7aa1bef672b6eef620": {
          "model_module": "@jupyter-widgets/base",
          "model_name": "LayoutModel",
          "model_module_version": "1.2.0",
          "state": {
            "_model_module": "@jupyter-widgets/base",
            "_model_module_version": "1.2.0",
            "_model_name": "LayoutModel",
            "_view_count": null,
            "_view_module": "@jupyter-widgets/base",
            "_view_module_version": "1.2.0",
            "_view_name": "LayoutView",
            "align_content": null,
            "align_items": null,
            "align_self": null,
            "border": null,
            "bottom": null,
            "display": null,
            "flex": null,
            "flex_flow": null,
            "grid_area": null,
            "grid_auto_columns": null,
            "grid_auto_flow": null,
            "grid_auto_rows": null,
            "grid_column": null,
            "grid_gap": null,
            "grid_row": null,
            "grid_template_areas": null,
            "grid_template_columns": null,
            "grid_template_rows": null,
            "height": null,
            "justify_content": null,
            "justify_items": null,
            "left": null,
            "margin": null,
            "max_height": null,
            "max_width": null,
            "min_height": null,
            "min_width": null,
            "object_fit": null,
            "object_position": null,
            "order": null,
            "overflow": null,
            "overflow_x": null,
            "overflow_y": null,
            "padding": null,
            "right": null,
            "top": null,
            "visibility": null,
            "width": null
          }
        },
        "fb73e68bd9654118ac9105ac57618158": {
          "model_module": "@jupyter-widgets/controls",
          "model_name": "DescriptionStyleModel",
          "model_module_version": "1.5.0",
          "state": {
            "_model_module": "@jupyter-widgets/controls",
            "_model_module_version": "1.5.0",
            "_model_name": "DescriptionStyleModel",
            "_view_count": null,
            "_view_module": "@jupyter-widgets/base",
            "_view_module_version": "1.2.0",
            "_view_name": "StyleView",
            "description_width": ""
          }
        },
        "04f42203542242679a546af60c6de008": {
          "model_module": "@jupyter-widgets/base",
          "model_name": "LayoutModel",
          "model_module_version": "1.2.0",
          "state": {
            "_model_module": "@jupyter-widgets/base",
            "_model_module_version": "1.2.0",
            "_model_name": "LayoutModel",
            "_view_count": null,
            "_view_module": "@jupyter-widgets/base",
            "_view_module_version": "1.2.0",
            "_view_name": "LayoutView",
            "align_content": null,
            "align_items": null,
            "align_self": null,
            "border": null,
            "bottom": null,
            "display": null,
            "flex": null,
            "flex_flow": null,
            "grid_area": null,
            "grid_auto_columns": null,
            "grid_auto_flow": null,
            "grid_auto_rows": null,
            "grid_column": null,
            "grid_gap": null,
            "grid_row": null,
            "grid_template_areas": null,
            "grid_template_columns": null,
            "grid_template_rows": null,
            "height": null,
            "justify_content": null,
            "justify_items": null,
            "left": null,
            "margin": null,
            "max_height": null,
            "max_width": null,
            "min_height": null,
            "min_width": null,
            "object_fit": null,
            "object_position": null,
            "order": null,
            "overflow": null,
            "overflow_x": null,
            "overflow_y": null,
            "padding": null,
            "right": null,
            "top": null,
            "visibility": null,
            "width": null
          }
        },
        "931153bf4d564f4996617fb29a646b4d": {
          "model_module": "@jupyter-widgets/controls",
          "model_name": "ProgressStyleModel",
          "model_module_version": "1.5.0",
          "state": {
            "_model_module": "@jupyter-widgets/controls",
            "_model_module_version": "1.5.0",
            "_model_name": "ProgressStyleModel",
            "_view_count": null,
            "_view_module": "@jupyter-widgets/base",
            "_view_module_version": "1.2.0",
            "_view_name": "StyleView",
            "bar_color": null,
            "description_width": ""
          }
        },
        "66c5ccf4e0454131a58f7d5a90a5bbe3": {
          "model_module": "@jupyter-widgets/controls",
          "model_name": "VBoxModel",
          "model_module_version": "1.5.0",
          "state": {
            "_dom_classes": [],
            "_model_module": "@jupyter-widgets/controls",
            "_model_module_version": "1.5.0",
            "_model_name": "VBoxModel",
            "_view_count": null,
            "_view_module": "@jupyter-widgets/controls",
            "_view_module_version": "1.5.0",
            "_view_name": "VBoxView",
            "box_style": "",
            "children": [
              "IPY_MODEL_672e87db4d15458f9dd77aa43303ed5c",
              "IPY_MODEL_4178aec281b74b4fbbee569b03078506"
            ],
            "layout": "IPY_MODEL_baf57143488c4840815abd5f80f2502f"
          }
        },
        "672e87db4d15458f9dd77aa43303ed5c": {
          "model_module": "@jupyter-widgets/controls",
          "model_name": "LabelModel",
          "model_module_version": "1.5.0",
          "state": {
            "_dom_classes": [],
            "_model_module": "@jupyter-widgets/controls",
            "_model_module_version": "1.5.0",
            "_model_name": "LabelModel",
            "_view_count": null,
            "_view_module": "@jupyter-widgets/controls",
            "_view_module_version": "1.5.0",
            "_view_name": "LabelView",
            "description": "",
            "description_tooltip": null,
            "layout": "IPY_MODEL_486384305765461db11c2d2c0c194915",
            "placeholder": "​",
            "style": "IPY_MODEL_32f49914d8054b94b9deae5db7b6ff3a",
            "value": "0.012 MB of 0.012 MB uploaded\r"
          }
        },
        "4178aec281b74b4fbbee569b03078506": {
          "model_module": "@jupyter-widgets/controls",
          "model_name": "FloatProgressModel",
          "model_module_version": "1.5.0",
          "state": {
            "_dom_classes": [],
            "_model_module": "@jupyter-widgets/controls",
            "_model_module_version": "1.5.0",
            "_model_name": "FloatProgressModel",
            "_view_count": null,
            "_view_module": "@jupyter-widgets/controls",
            "_view_module_version": "1.5.0",
            "_view_name": "ProgressView",
            "bar_style": "",
            "description": "",
            "description_tooltip": null,
            "layout": "IPY_MODEL_02c9d0cb72924593adcf544e7ee58675",
            "max": 1,
            "min": 0,
            "orientation": "horizontal",
            "style": "IPY_MODEL_b9b0a3e0c44e4bc3906c9ac90335b237",
            "value": 1
          }
        },
        "baf57143488c4840815abd5f80f2502f": {
          "model_module": "@jupyter-widgets/base",
          "model_name": "LayoutModel",
          "model_module_version": "1.2.0",
          "state": {
            "_model_module": "@jupyter-widgets/base",
            "_model_module_version": "1.2.0",
            "_model_name": "LayoutModel",
            "_view_count": null,
            "_view_module": "@jupyter-widgets/base",
            "_view_module_version": "1.2.0",
            "_view_name": "LayoutView",
            "align_content": null,
            "align_items": null,
            "align_self": null,
            "border": null,
            "bottom": null,
            "display": null,
            "flex": null,
            "flex_flow": null,
            "grid_area": null,
            "grid_auto_columns": null,
            "grid_auto_flow": null,
            "grid_auto_rows": null,
            "grid_column": null,
            "grid_gap": null,
            "grid_row": null,
            "grid_template_areas": null,
            "grid_template_columns": null,
            "grid_template_rows": null,
            "height": null,
            "justify_content": null,
            "justify_items": null,
            "left": null,
            "margin": null,
            "max_height": null,
            "max_width": null,
            "min_height": null,
            "min_width": null,
            "object_fit": null,
            "object_position": null,
            "order": null,
            "overflow": null,
            "overflow_x": null,
            "overflow_y": null,
            "padding": null,
            "right": null,
            "top": null,
            "visibility": null,
            "width": null
          }
        },
        "486384305765461db11c2d2c0c194915": {
          "model_module": "@jupyter-widgets/base",
          "model_name": "LayoutModel",
          "model_module_version": "1.2.0",
          "state": {
            "_model_module": "@jupyter-widgets/base",
            "_model_module_version": "1.2.0",
            "_model_name": "LayoutModel",
            "_view_count": null,
            "_view_module": "@jupyter-widgets/base",
            "_view_module_version": "1.2.0",
            "_view_name": "LayoutView",
            "align_content": null,
            "align_items": null,
            "align_self": null,
            "border": null,
            "bottom": null,
            "display": null,
            "flex": null,
            "flex_flow": null,
            "grid_area": null,
            "grid_auto_columns": null,
            "grid_auto_flow": null,
            "grid_auto_rows": null,
            "grid_column": null,
            "grid_gap": null,
            "grid_row": null,
            "grid_template_areas": null,
            "grid_template_columns": null,
            "grid_template_rows": null,
            "height": null,
            "justify_content": null,
            "justify_items": null,
            "left": null,
            "margin": null,
            "max_height": null,
            "max_width": null,
            "min_height": null,
            "min_width": null,
            "object_fit": null,
            "object_position": null,
            "order": null,
            "overflow": null,
            "overflow_x": null,
            "overflow_y": null,
            "padding": null,
            "right": null,
            "top": null,
            "visibility": null,
            "width": null
          }
        },
        "32f49914d8054b94b9deae5db7b6ff3a": {
          "model_module": "@jupyter-widgets/controls",
          "model_name": "DescriptionStyleModel",
          "model_module_version": "1.5.0",
          "state": {
            "_model_module": "@jupyter-widgets/controls",
            "_model_module_version": "1.5.0",
            "_model_name": "DescriptionStyleModel",
            "_view_count": null,
            "_view_module": "@jupyter-widgets/base",
            "_view_module_version": "1.2.0",
            "_view_name": "StyleView",
            "description_width": ""
          }
        },
        "02c9d0cb72924593adcf544e7ee58675": {
          "model_module": "@jupyter-widgets/base",
          "model_name": "LayoutModel",
          "model_module_version": "1.2.0",
          "state": {
            "_model_module": "@jupyter-widgets/base",
            "_model_module_version": "1.2.0",
            "_model_name": "LayoutModel",
            "_view_count": null,
            "_view_module": "@jupyter-widgets/base",
            "_view_module_version": "1.2.0",
            "_view_name": "LayoutView",
            "align_content": null,
            "align_items": null,
            "align_self": null,
            "border": null,
            "bottom": null,
            "display": null,
            "flex": null,
            "flex_flow": null,
            "grid_area": null,
            "grid_auto_columns": null,
            "grid_auto_flow": null,
            "grid_auto_rows": null,
            "grid_column": null,
            "grid_gap": null,
            "grid_row": null,
            "grid_template_areas": null,
            "grid_template_columns": null,
            "grid_template_rows": null,
            "height": null,
            "justify_content": null,
            "justify_items": null,
            "left": null,
            "margin": null,
            "max_height": null,
            "max_width": null,
            "min_height": null,
            "min_width": null,
            "object_fit": null,
            "object_position": null,
            "order": null,
            "overflow": null,
            "overflow_x": null,
            "overflow_y": null,
            "padding": null,
            "right": null,
            "top": null,
            "visibility": null,
            "width": null
          }
        },
        "b9b0a3e0c44e4bc3906c9ac90335b237": {
          "model_module": "@jupyter-widgets/controls",
          "model_name": "ProgressStyleModel",
          "model_module_version": "1.5.0",
          "state": {
            "_model_module": "@jupyter-widgets/controls",
            "_model_module_version": "1.5.0",
            "_model_name": "ProgressStyleModel",
            "_view_count": null,
            "_view_module": "@jupyter-widgets/base",
            "_view_module_version": "1.2.0",
            "_view_name": "StyleView",
            "bar_color": null,
            "description_width": ""
          }
        },
        "ba44c70e65af43ee933f4279eefb0b3a": {
          "model_module": "@jupyter-widgets/controls",
          "model_name": "VBoxModel",
          "model_module_version": "1.5.0",
          "state": {
            "_dom_classes": [],
            "_model_module": "@jupyter-widgets/controls",
            "_model_module_version": "1.5.0",
            "_model_name": "VBoxModel",
            "_view_count": null,
            "_view_module": "@jupyter-widgets/controls",
            "_view_module_version": "1.5.0",
            "_view_name": "VBoxView",
            "box_style": "",
            "children": [
              "IPY_MODEL_1b9e0e00fbe74b1f9be4dd05c16f7935",
              "IPY_MODEL_21d43603089440628a6623cfbd0d2572"
            ],
            "layout": "IPY_MODEL_6bae32ee7602490589759ba205d0e0ff"
          }
        },
        "1b9e0e00fbe74b1f9be4dd05c16f7935": {
          "model_module": "@jupyter-widgets/controls",
          "model_name": "LabelModel",
          "model_module_version": "1.5.0",
          "state": {
            "_dom_classes": [],
            "_model_module": "@jupyter-widgets/controls",
            "_model_module_version": "1.5.0",
            "_model_name": "LabelModel",
            "_view_count": null,
            "_view_module": "@jupyter-widgets/controls",
            "_view_module_version": "1.5.0",
            "_view_name": "LabelView",
            "description": "",
            "description_tooltip": null,
            "layout": "IPY_MODEL_210e89979ea044d4a149328402b7b071",
            "placeholder": "​",
            "style": "IPY_MODEL_779503b3917947eaabf54a6e70461694",
            "value": "0.011 MB of 0.011 MB uploaded\r"
          }
        },
        "21d43603089440628a6623cfbd0d2572": {
          "model_module": "@jupyter-widgets/controls",
          "model_name": "FloatProgressModel",
          "model_module_version": "1.5.0",
          "state": {
            "_dom_classes": [],
            "_model_module": "@jupyter-widgets/controls",
            "_model_module_version": "1.5.0",
            "_model_name": "FloatProgressModel",
            "_view_count": null,
            "_view_module": "@jupyter-widgets/controls",
            "_view_module_version": "1.5.0",
            "_view_name": "ProgressView",
            "bar_style": "",
            "description": "",
            "description_tooltip": null,
            "layout": "IPY_MODEL_b175d742e86c4500b4ab3b04b247c6e6",
            "max": 1,
            "min": 0,
            "orientation": "horizontal",
            "style": "IPY_MODEL_32ff147e2aa6421c9914e7a8c11f760b",
            "value": 1
          }
        },
        "6bae32ee7602490589759ba205d0e0ff": {
          "model_module": "@jupyter-widgets/base",
          "model_name": "LayoutModel",
          "model_module_version": "1.2.0",
          "state": {
            "_model_module": "@jupyter-widgets/base",
            "_model_module_version": "1.2.0",
            "_model_name": "LayoutModel",
            "_view_count": null,
            "_view_module": "@jupyter-widgets/base",
            "_view_module_version": "1.2.0",
            "_view_name": "LayoutView",
            "align_content": null,
            "align_items": null,
            "align_self": null,
            "border": null,
            "bottom": null,
            "display": null,
            "flex": null,
            "flex_flow": null,
            "grid_area": null,
            "grid_auto_columns": null,
            "grid_auto_flow": null,
            "grid_auto_rows": null,
            "grid_column": null,
            "grid_gap": null,
            "grid_row": null,
            "grid_template_areas": null,
            "grid_template_columns": null,
            "grid_template_rows": null,
            "height": null,
            "justify_content": null,
            "justify_items": null,
            "left": null,
            "margin": null,
            "max_height": null,
            "max_width": null,
            "min_height": null,
            "min_width": null,
            "object_fit": null,
            "object_position": null,
            "order": null,
            "overflow": null,
            "overflow_x": null,
            "overflow_y": null,
            "padding": null,
            "right": null,
            "top": null,
            "visibility": null,
            "width": null
          }
        },
        "210e89979ea044d4a149328402b7b071": {
          "model_module": "@jupyter-widgets/base",
          "model_name": "LayoutModel",
          "model_module_version": "1.2.0",
          "state": {
            "_model_module": "@jupyter-widgets/base",
            "_model_module_version": "1.2.0",
            "_model_name": "LayoutModel",
            "_view_count": null,
            "_view_module": "@jupyter-widgets/base",
            "_view_module_version": "1.2.0",
            "_view_name": "LayoutView",
            "align_content": null,
            "align_items": null,
            "align_self": null,
            "border": null,
            "bottom": null,
            "display": null,
            "flex": null,
            "flex_flow": null,
            "grid_area": null,
            "grid_auto_columns": null,
            "grid_auto_flow": null,
            "grid_auto_rows": null,
            "grid_column": null,
            "grid_gap": null,
            "grid_row": null,
            "grid_template_areas": null,
            "grid_template_columns": null,
            "grid_template_rows": null,
            "height": null,
            "justify_content": null,
            "justify_items": null,
            "left": null,
            "margin": null,
            "max_height": null,
            "max_width": null,
            "min_height": null,
            "min_width": null,
            "object_fit": null,
            "object_position": null,
            "order": null,
            "overflow": null,
            "overflow_x": null,
            "overflow_y": null,
            "padding": null,
            "right": null,
            "top": null,
            "visibility": null,
            "width": null
          }
        },
        "779503b3917947eaabf54a6e70461694": {
          "model_module": "@jupyter-widgets/controls",
          "model_name": "DescriptionStyleModel",
          "model_module_version": "1.5.0",
          "state": {
            "_model_module": "@jupyter-widgets/controls",
            "_model_module_version": "1.5.0",
            "_model_name": "DescriptionStyleModel",
            "_view_count": null,
            "_view_module": "@jupyter-widgets/base",
            "_view_module_version": "1.2.0",
            "_view_name": "StyleView",
            "description_width": ""
          }
        },
        "b175d742e86c4500b4ab3b04b247c6e6": {
          "model_module": "@jupyter-widgets/base",
          "model_name": "LayoutModel",
          "model_module_version": "1.2.0",
          "state": {
            "_model_module": "@jupyter-widgets/base",
            "_model_module_version": "1.2.0",
            "_model_name": "LayoutModel",
            "_view_count": null,
            "_view_module": "@jupyter-widgets/base",
            "_view_module_version": "1.2.0",
            "_view_name": "LayoutView",
            "align_content": null,
            "align_items": null,
            "align_self": null,
            "border": null,
            "bottom": null,
            "display": null,
            "flex": null,
            "flex_flow": null,
            "grid_area": null,
            "grid_auto_columns": null,
            "grid_auto_flow": null,
            "grid_auto_rows": null,
            "grid_column": null,
            "grid_gap": null,
            "grid_row": null,
            "grid_template_areas": null,
            "grid_template_columns": null,
            "grid_template_rows": null,
            "height": null,
            "justify_content": null,
            "justify_items": null,
            "left": null,
            "margin": null,
            "max_height": null,
            "max_width": null,
            "min_height": null,
            "min_width": null,
            "object_fit": null,
            "object_position": null,
            "order": null,
            "overflow": null,
            "overflow_x": null,
            "overflow_y": null,
            "padding": null,
            "right": null,
            "top": null,
            "visibility": null,
            "width": null
          }
        },
        "32ff147e2aa6421c9914e7a8c11f760b": {
          "model_module": "@jupyter-widgets/controls",
          "model_name": "ProgressStyleModel",
          "model_module_version": "1.5.0",
          "state": {
            "_model_module": "@jupyter-widgets/controls",
            "_model_module_version": "1.5.0",
            "_model_name": "ProgressStyleModel",
            "_view_count": null,
            "_view_module": "@jupyter-widgets/base",
            "_view_module_version": "1.2.0",
            "_view_name": "StyleView",
            "bar_color": null,
            "description_width": ""
          }
        },
        "bc16826cc55d4ab9953a6be886a590b6": {
          "model_module": "@jupyter-widgets/controls",
          "model_name": "VBoxModel",
          "model_module_version": "1.5.0",
          "state": {
            "_dom_classes": [],
            "_model_module": "@jupyter-widgets/controls",
            "_model_module_version": "1.5.0",
            "_model_name": "VBoxModel",
            "_view_count": null,
            "_view_module": "@jupyter-widgets/controls",
            "_view_module_version": "1.5.0",
            "_view_name": "VBoxView",
            "box_style": "",
            "children": [
              "IPY_MODEL_44d1de0f3d2b43ceabe8ef3f6517d6ab",
              "IPY_MODEL_10c05303bf4d4226b661ff176a4d9ea7"
            ],
            "layout": "IPY_MODEL_a9855cb80d074409b4bb4e644dd90e11"
          }
        },
        "44d1de0f3d2b43ceabe8ef3f6517d6ab": {
          "model_module": "@jupyter-widgets/controls",
          "model_name": "LabelModel",
          "model_module_version": "1.5.0",
          "state": {
            "_dom_classes": [],
            "_model_module": "@jupyter-widgets/controls",
            "_model_module_version": "1.5.0",
            "_model_name": "LabelModel",
            "_view_count": null,
            "_view_module": "@jupyter-widgets/controls",
            "_view_module_version": "1.5.0",
            "_view_name": "LabelView",
            "description": "",
            "description_tooltip": null,
            "layout": "IPY_MODEL_d387bbc8461b49a59c1afe4a276c37f6",
            "placeholder": "​",
            "style": "IPY_MODEL_881322824bd54b9fba9eb8701ae746ec",
            "value": "0.011 MB of 0.011 MB uploaded\r"
          }
        },
        "10c05303bf4d4226b661ff176a4d9ea7": {
          "model_module": "@jupyter-widgets/controls",
          "model_name": "FloatProgressModel",
          "model_module_version": "1.5.0",
          "state": {
            "_dom_classes": [],
            "_model_module": "@jupyter-widgets/controls",
            "_model_module_version": "1.5.0",
            "_model_name": "FloatProgressModel",
            "_view_count": null,
            "_view_module": "@jupyter-widgets/controls",
            "_view_module_version": "1.5.0",
            "_view_name": "ProgressView",
            "bar_style": "",
            "description": "",
            "description_tooltip": null,
            "layout": "IPY_MODEL_b6dc0275a8f749aba54f8fc37d38e585",
            "max": 1,
            "min": 0,
            "orientation": "horizontal",
            "style": "IPY_MODEL_e1bcfd25937845de87dba92c482c66af",
            "value": 1
          }
        },
        "a9855cb80d074409b4bb4e644dd90e11": {
          "model_module": "@jupyter-widgets/base",
          "model_name": "LayoutModel",
          "model_module_version": "1.2.0",
          "state": {
            "_model_module": "@jupyter-widgets/base",
            "_model_module_version": "1.2.0",
            "_model_name": "LayoutModel",
            "_view_count": null,
            "_view_module": "@jupyter-widgets/base",
            "_view_module_version": "1.2.0",
            "_view_name": "LayoutView",
            "align_content": null,
            "align_items": null,
            "align_self": null,
            "border": null,
            "bottom": null,
            "display": null,
            "flex": null,
            "flex_flow": null,
            "grid_area": null,
            "grid_auto_columns": null,
            "grid_auto_flow": null,
            "grid_auto_rows": null,
            "grid_column": null,
            "grid_gap": null,
            "grid_row": null,
            "grid_template_areas": null,
            "grid_template_columns": null,
            "grid_template_rows": null,
            "height": null,
            "justify_content": null,
            "justify_items": null,
            "left": null,
            "margin": null,
            "max_height": null,
            "max_width": null,
            "min_height": null,
            "min_width": null,
            "object_fit": null,
            "object_position": null,
            "order": null,
            "overflow": null,
            "overflow_x": null,
            "overflow_y": null,
            "padding": null,
            "right": null,
            "top": null,
            "visibility": null,
            "width": null
          }
        },
        "d387bbc8461b49a59c1afe4a276c37f6": {
          "model_module": "@jupyter-widgets/base",
          "model_name": "LayoutModel",
          "model_module_version": "1.2.0",
          "state": {
            "_model_module": "@jupyter-widgets/base",
            "_model_module_version": "1.2.0",
            "_model_name": "LayoutModel",
            "_view_count": null,
            "_view_module": "@jupyter-widgets/base",
            "_view_module_version": "1.2.0",
            "_view_name": "LayoutView",
            "align_content": null,
            "align_items": null,
            "align_self": null,
            "border": null,
            "bottom": null,
            "display": null,
            "flex": null,
            "flex_flow": null,
            "grid_area": null,
            "grid_auto_columns": null,
            "grid_auto_flow": null,
            "grid_auto_rows": null,
            "grid_column": null,
            "grid_gap": null,
            "grid_row": null,
            "grid_template_areas": null,
            "grid_template_columns": null,
            "grid_template_rows": null,
            "height": null,
            "justify_content": null,
            "justify_items": null,
            "left": null,
            "margin": null,
            "max_height": null,
            "max_width": null,
            "min_height": null,
            "min_width": null,
            "object_fit": null,
            "object_position": null,
            "order": null,
            "overflow": null,
            "overflow_x": null,
            "overflow_y": null,
            "padding": null,
            "right": null,
            "top": null,
            "visibility": null,
            "width": null
          }
        },
        "881322824bd54b9fba9eb8701ae746ec": {
          "model_module": "@jupyter-widgets/controls",
          "model_name": "DescriptionStyleModel",
          "model_module_version": "1.5.0",
          "state": {
            "_model_module": "@jupyter-widgets/controls",
            "_model_module_version": "1.5.0",
            "_model_name": "DescriptionStyleModel",
            "_view_count": null,
            "_view_module": "@jupyter-widgets/base",
            "_view_module_version": "1.2.0",
            "_view_name": "StyleView",
            "description_width": ""
          }
        },
        "b6dc0275a8f749aba54f8fc37d38e585": {
          "model_module": "@jupyter-widgets/base",
          "model_name": "LayoutModel",
          "model_module_version": "1.2.0",
          "state": {
            "_model_module": "@jupyter-widgets/base",
            "_model_module_version": "1.2.0",
            "_model_name": "LayoutModel",
            "_view_count": null,
            "_view_module": "@jupyter-widgets/base",
            "_view_module_version": "1.2.0",
            "_view_name": "LayoutView",
            "align_content": null,
            "align_items": null,
            "align_self": null,
            "border": null,
            "bottom": null,
            "display": null,
            "flex": null,
            "flex_flow": null,
            "grid_area": null,
            "grid_auto_columns": null,
            "grid_auto_flow": null,
            "grid_auto_rows": null,
            "grid_column": null,
            "grid_gap": null,
            "grid_row": null,
            "grid_template_areas": null,
            "grid_template_columns": null,
            "grid_template_rows": null,
            "height": null,
            "justify_content": null,
            "justify_items": null,
            "left": null,
            "margin": null,
            "max_height": null,
            "max_width": null,
            "min_height": null,
            "min_width": null,
            "object_fit": null,
            "object_position": null,
            "order": null,
            "overflow": null,
            "overflow_x": null,
            "overflow_y": null,
            "padding": null,
            "right": null,
            "top": null,
            "visibility": null,
            "width": null
          }
        },
        "e1bcfd25937845de87dba92c482c66af": {
          "model_module": "@jupyter-widgets/controls",
          "model_name": "ProgressStyleModel",
          "model_module_version": "1.5.0",
          "state": {
            "_model_module": "@jupyter-widgets/controls",
            "_model_module_version": "1.5.0",
            "_model_name": "ProgressStyleModel",
            "_view_count": null,
            "_view_module": "@jupyter-widgets/base",
            "_view_module_version": "1.2.0",
            "_view_name": "StyleView",
            "bar_color": null,
            "description_width": ""
          }
        },
        "8804cddf86ae4c6b885329e4e382c575": {
          "model_module": "@jupyter-widgets/controls",
          "model_name": "VBoxModel",
          "model_module_version": "1.5.0",
          "state": {
            "_dom_classes": [],
            "_model_module": "@jupyter-widgets/controls",
            "_model_module_version": "1.5.0",
            "_model_name": "VBoxModel",
            "_view_count": null,
            "_view_module": "@jupyter-widgets/controls",
            "_view_module_version": "1.5.0",
            "_view_name": "VBoxView",
            "box_style": "",
            "children": [
              "IPY_MODEL_44444d399069441a9a2eece265b1e1d2",
              "IPY_MODEL_057132da077d416095749951da984377"
            ],
            "layout": "IPY_MODEL_8434c0eb6ad44f548d092699c07e129b"
          }
        },
        "44444d399069441a9a2eece265b1e1d2": {
          "model_module": "@jupyter-widgets/controls",
          "model_name": "LabelModel",
          "model_module_version": "1.5.0",
          "state": {
            "_dom_classes": [],
            "_model_module": "@jupyter-widgets/controls",
            "_model_module_version": "1.5.0",
            "_model_name": "LabelModel",
            "_view_count": null,
            "_view_module": "@jupyter-widgets/controls",
            "_view_module_version": "1.5.0",
            "_view_name": "LabelView",
            "description": "",
            "description_tooltip": null,
            "layout": "IPY_MODEL_5a68f9790d144307a00fec2ee55cd667",
            "placeholder": "​",
            "style": "IPY_MODEL_d79ece5aee9b4c94950685e16c6ab9be",
            "value": "0.011 MB of 0.011 MB uploaded\r"
          }
        },
        "057132da077d416095749951da984377": {
          "model_module": "@jupyter-widgets/controls",
          "model_name": "FloatProgressModel",
          "model_module_version": "1.5.0",
          "state": {
            "_dom_classes": [],
            "_model_module": "@jupyter-widgets/controls",
            "_model_module_version": "1.5.0",
            "_model_name": "FloatProgressModel",
            "_view_count": null,
            "_view_module": "@jupyter-widgets/controls",
            "_view_module_version": "1.5.0",
            "_view_name": "ProgressView",
            "bar_style": "",
            "description": "",
            "description_tooltip": null,
            "layout": "IPY_MODEL_3f41650520bc405eb97ed92c807db908",
            "max": 1,
            "min": 0,
            "orientation": "horizontal",
            "style": "IPY_MODEL_7f29b6c2230f41f5939cd0ed51506a27",
            "value": 1
          }
        },
        "8434c0eb6ad44f548d092699c07e129b": {
          "model_module": "@jupyter-widgets/base",
          "model_name": "LayoutModel",
          "model_module_version": "1.2.0",
          "state": {
            "_model_module": "@jupyter-widgets/base",
            "_model_module_version": "1.2.0",
            "_model_name": "LayoutModel",
            "_view_count": null,
            "_view_module": "@jupyter-widgets/base",
            "_view_module_version": "1.2.0",
            "_view_name": "LayoutView",
            "align_content": null,
            "align_items": null,
            "align_self": null,
            "border": null,
            "bottom": null,
            "display": null,
            "flex": null,
            "flex_flow": null,
            "grid_area": null,
            "grid_auto_columns": null,
            "grid_auto_flow": null,
            "grid_auto_rows": null,
            "grid_column": null,
            "grid_gap": null,
            "grid_row": null,
            "grid_template_areas": null,
            "grid_template_columns": null,
            "grid_template_rows": null,
            "height": null,
            "justify_content": null,
            "justify_items": null,
            "left": null,
            "margin": null,
            "max_height": null,
            "max_width": null,
            "min_height": null,
            "min_width": null,
            "object_fit": null,
            "object_position": null,
            "order": null,
            "overflow": null,
            "overflow_x": null,
            "overflow_y": null,
            "padding": null,
            "right": null,
            "top": null,
            "visibility": null,
            "width": null
          }
        },
        "5a68f9790d144307a00fec2ee55cd667": {
          "model_module": "@jupyter-widgets/base",
          "model_name": "LayoutModel",
          "model_module_version": "1.2.0",
          "state": {
            "_model_module": "@jupyter-widgets/base",
            "_model_module_version": "1.2.0",
            "_model_name": "LayoutModel",
            "_view_count": null,
            "_view_module": "@jupyter-widgets/base",
            "_view_module_version": "1.2.0",
            "_view_name": "LayoutView",
            "align_content": null,
            "align_items": null,
            "align_self": null,
            "border": null,
            "bottom": null,
            "display": null,
            "flex": null,
            "flex_flow": null,
            "grid_area": null,
            "grid_auto_columns": null,
            "grid_auto_flow": null,
            "grid_auto_rows": null,
            "grid_column": null,
            "grid_gap": null,
            "grid_row": null,
            "grid_template_areas": null,
            "grid_template_columns": null,
            "grid_template_rows": null,
            "height": null,
            "justify_content": null,
            "justify_items": null,
            "left": null,
            "margin": null,
            "max_height": null,
            "max_width": null,
            "min_height": null,
            "min_width": null,
            "object_fit": null,
            "object_position": null,
            "order": null,
            "overflow": null,
            "overflow_x": null,
            "overflow_y": null,
            "padding": null,
            "right": null,
            "top": null,
            "visibility": null,
            "width": null
          }
        },
        "d79ece5aee9b4c94950685e16c6ab9be": {
          "model_module": "@jupyter-widgets/controls",
          "model_name": "DescriptionStyleModel",
          "model_module_version": "1.5.0",
          "state": {
            "_model_module": "@jupyter-widgets/controls",
            "_model_module_version": "1.5.0",
            "_model_name": "DescriptionStyleModel",
            "_view_count": null,
            "_view_module": "@jupyter-widgets/base",
            "_view_module_version": "1.2.0",
            "_view_name": "StyleView",
            "description_width": ""
          }
        },
        "3f41650520bc405eb97ed92c807db908": {
          "model_module": "@jupyter-widgets/base",
          "model_name": "LayoutModel",
          "model_module_version": "1.2.0",
          "state": {
            "_model_module": "@jupyter-widgets/base",
            "_model_module_version": "1.2.0",
            "_model_name": "LayoutModel",
            "_view_count": null,
            "_view_module": "@jupyter-widgets/base",
            "_view_module_version": "1.2.0",
            "_view_name": "LayoutView",
            "align_content": null,
            "align_items": null,
            "align_self": null,
            "border": null,
            "bottom": null,
            "display": null,
            "flex": null,
            "flex_flow": null,
            "grid_area": null,
            "grid_auto_columns": null,
            "grid_auto_flow": null,
            "grid_auto_rows": null,
            "grid_column": null,
            "grid_gap": null,
            "grid_row": null,
            "grid_template_areas": null,
            "grid_template_columns": null,
            "grid_template_rows": null,
            "height": null,
            "justify_content": null,
            "justify_items": null,
            "left": null,
            "margin": null,
            "max_height": null,
            "max_width": null,
            "min_height": null,
            "min_width": null,
            "object_fit": null,
            "object_position": null,
            "order": null,
            "overflow": null,
            "overflow_x": null,
            "overflow_y": null,
            "padding": null,
            "right": null,
            "top": null,
            "visibility": null,
            "width": null
          }
        },
        "7f29b6c2230f41f5939cd0ed51506a27": {
          "model_module": "@jupyter-widgets/controls",
          "model_name": "ProgressStyleModel",
          "model_module_version": "1.5.0",
          "state": {
            "_model_module": "@jupyter-widgets/controls",
            "_model_module_version": "1.5.0",
            "_model_name": "ProgressStyleModel",
            "_view_count": null,
            "_view_module": "@jupyter-widgets/base",
            "_view_module_version": "1.2.0",
            "_view_name": "StyleView",
            "bar_color": null,
            "description_width": ""
          }
        },
        "d073ff263f9e489dad055856d82130d4": {
          "model_module": "@jupyter-widgets/controls",
          "model_name": "VBoxModel",
          "model_module_version": "1.5.0",
          "state": {
            "_dom_classes": [],
            "_model_module": "@jupyter-widgets/controls",
            "_model_module_version": "1.5.0",
            "_model_name": "VBoxModel",
            "_view_count": null,
            "_view_module": "@jupyter-widgets/controls",
            "_view_module_version": "1.5.0",
            "_view_name": "VBoxView",
            "box_style": "",
            "children": [
              "IPY_MODEL_3e64b662f1fb4e3db3cac481b1ce85bc",
              "IPY_MODEL_ca170bcfc4634171bb7b55039b65be2d"
            ],
            "layout": "IPY_MODEL_1796da56f8f1445691c074dab499ef2c"
          }
        },
        "3e64b662f1fb4e3db3cac481b1ce85bc": {
          "model_module": "@jupyter-widgets/controls",
          "model_name": "LabelModel",
          "model_module_version": "1.5.0",
          "state": {
            "_dom_classes": [],
            "_model_module": "@jupyter-widgets/controls",
            "_model_module_version": "1.5.0",
            "_model_name": "LabelModel",
            "_view_count": null,
            "_view_module": "@jupyter-widgets/controls",
            "_view_module_version": "1.5.0",
            "_view_name": "LabelView",
            "description": "",
            "description_tooltip": null,
            "layout": "IPY_MODEL_f7ead2fa28ec457189e8734bd7629ff8",
            "placeholder": "​",
            "style": "IPY_MODEL_12b223cffac0488fb287fab20620f0b6",
            "value": "0.012 MB of 0.012 MB uploaded\r"
          }
        },
        "ca170bcfc4634171bb7b55039b65be2d": {
          "model_module": "@jupyter-widgets/controls",
          "model_name": "FloatProgressModel",
          "model_module_version": "1.5.0",
          "state": {
            "_dom_classes": [],
            "_model_module": "@jupyter-widgets/controls",
            "_model_module_version": "1.5.0",
            "_model_name": "FloatProgressModel",
            "_view_count": null,
            "_view_module": "@jupyter-widgets/controls",
            "_view_module_version": "1.5.0",
            "_view_name": "ProgressView",
            "bar_style": "",
            "description": "",
            "description_tooltip": null,
            "layout": "IPY_MODEL_f2c1c2c938c141838bd19a7433fbb957",
            "max": 1,
            "min": 0,
            "orientation": "horizontal",
            "style": "IPY_MODEL_8d19f3aa723f4b14a894074968e5f466",
            "value": 1
          }
        },
        "1796da56f8f1445691c074dab499ef2c": {
          "model_module": "@jupyter-widgets/base",
          "model_name": "LayoutModel",
          "model_module_version": "1.2.0",
          "state": {
            "_model_module": "@jupyter-widgets/base",
            "_model_module_version": "1.2.0",
            "_model_name": "LayoutModel",
            "_view_count": null,
            "_view_module": "@jupyter-widgets/base",
            "_view_module_version": "1.2.0",
            "_view_name": "LayoutView",
            "align_content": null,
            "align_items": null,
            "align_self": null,
            "border": null,
            "bottom": null,
            "display": null,
            "flex": null,
            "flex_flow": null,
            "grid_area": null,
            "grid_auto_columns": null,
            "grid_auto_flow": null,
            "grid_auto_rows": null,
            "grid_column": null,
            "grid_gap": null,
            "grid_row": null,
            "grid_template_areas": null,
            "grid_template_columns": null,
            "grid_template_rows": null,
            "height": null,
            "justify_content": null,
            "justify_items": null,
            "left": null,
            "margin": null,
            "max_height": null,
            "max_width": null,
            "min_height": null,
            "min_width": null,
            "object_fit": null,
            "object_position": null,
            "order": null,
            "overflow": null,
            "overflow_x": null,
            "overflow_y": null,
            "padding": null,
            "right": null,
            "top": null,
            "visibility": null,
            "width": null
          }
        },
        "f7ead2fa28ec457189e8734bd7629ff8": {
          "model_module": "@jupyter-widgets/base",
          "model_name": "LayoutModel",
          "model_module_version": "1.2.0",
          "state": {
            "_model_module": "@jupyter-widgets/base",
            "_model_module_version": "1.2.0",
            "_model_name": "LayoutModel",
            "_view_count": null,
            "_view_module": "@jupyter-widgets/base",
            "_view_module_version": "1.2.0",
            "_view_name": "LayoutView",
            "align_content": null,
            "align_items": null,
            "align_self": null,
            "border": null,
            "bottom": null,
            "display": null,
            "flex": null,
            "flex_flow": null,
            "grid_area": null,
            "grid_auto_columns": null,
            "grid_auto_flow": null,
            "grid_auto_rows": null,
            "grid_column": null,
            "grid_gap": null,
            "grid_row": null,
            "grid_template_areas": null,
            "grid_template_columns": null,
            "grid_template_rows": null,
            "height": null,
            "justify_content": null,
            "justify_items": null,
            "left": null,
            "margin": null,
            "max_height": null,
            "max_width": null,
            "min_height": null,
            "min_width": null,
            "object_fit": null,
            "object_position": null,
            "order": null,
            "overflow": null,
            "overflow_x": null,
            "overflow_y": null,
            "padding": null,
            "right": null,
            "top": null,
            "visibility": null,
            "width": null
          }
        },
        "12b223cffac0488fb287fab20620f0b6": {
          "model_module": "@jupyter-widgets/controls",
          "model_name": "DescriptionStyleModel",
          "model_module_version": "1.5.0",
          "state": {
            "_model_module": "@jupyter-widgets/controls",
            "_model_module_version": "1.5.0",
            "_model_name": "DescriptionStyleModel",
            "_view_count": null,
            "_view_module": "@jupyter-widgets/base",
            "_view_module_version": "1.2.0",
            "_view_name": "StyleView",
            "description_width": ""
          }
        },
        "f2c1c2c938c141838bd19a7433fbb957": {
          "model_module": "@jupyter-widgets/base",
          "model_name": "LayoutModel",
          "model_module_version": "1.2.0",
          "state": {
            "_model_module": "@jupyter-widgets/base",
            "_model_module_version": "1.2.0",
            "_model_name": "LayoutModel",
            "_view_count": null,
            "_view_module": "@jupyter-widgets/base",
            "_view_module_version": "1.2.0",
            "_view_name": "LayoutView",
            "align_content": null,
            "align_items": null,
            "align_self": null,
            "border": null,
            "bottom": null,
            "display": null,
            "flex": null,
            "flex_flow": null,
            "grid_area": null,
            "grid_auto_columns": null,
            "grid_auto_flow": null,
            "grid_auto_rows": null,
            "grid_column": null,
            "grid_gap": null,
            "grid_row": null,
            "grid_template_areas": null,
            "grid_template_columns": null,
            "grid_template_rows": null,
            "height": null,
            "justify_content": null,
            "justify_items": null,
            "left": null,
            "margin": null,
            "max_height": null,
            "max_width": null,
            "min_height": null,
            "min_width": null,
            "object_fit": null,
            "object_position": null,
            "order": null,
            "overflow": null,
            "overflow_x": null,
            "overflow_y": null,
            "padding": null,
            "right": null,
            "top": null,
            "visibility": null,
            "width": null
          }
        },
        "8d19f3aa723f4b14a894074968e5f466": {
          "model_module": "@jupyter-widgets/controls",
          "model_name": "ProgressStyleModel",
          "model_module_version": "1.5.0",
          "state": {
            "_model_module": "@jupyter-widgets/controls",
            "_model_module_version": "1.5.0",
            "_model_name": "ProgressStyleModel",
            "_view_count": null,
            "_view_module": "@jupyter-widgets/base",
            "_view_module_version": "1.2.0",
            "_view_name": "StyleView",
            "bar_color": null,
            "description_width": ""
          }
        },
        "e87d66e8b2924f72bc1db10e9c762678": {
          "model_module": "@jupyter-widgets/controls",
          "model_name": "VBoxModel",
          "model_module_version": "1.5.0",
          "state": {
            "_dom_classes": [],
            "_model_module": "@jupyter-widgets/controls",
            "_model_module_version": "1.5.0",
            "_model_name": "VBoxModel",
            "_view_count": null,
            "_view_module": "@jupyter-widgets/controls",
            "_view_module_version": "1.5.0",
            "_view_name": "VBoxView",
            "box_style": "",
            "children": [
              "IPY_MODEL_02815145a5ab4a9993911eb9016bb53f",
              "IPY_MODEL_e8a9e9c60ed84541ba96edb0f837cd82"
            ],
            "layout": "IPY_MODEL_ccd861c047d7480ca870b67229ae5c52"
          }
        },
        "02815145a5ab4a9993911eb9016bb53f": {
          "model_module": "@jupyter-widgets/controls",
          "model_name": "LabelModel",
          "model_module_version": "1.5.0",
          "state": {
            "_dom_classes": [],
            "_model_module": "@jupyter-widgets/controls",
            "_model_module_version": "1.5.0",
            "_model_name": "LabelModel",
            "_view_count": null,
            "_view_module": "@jupyter-widgets/controls",
            "_view_module_version": "1.5.0",
            "_view_name": "LabelView",
            "description": "",
            "description_tooltip": null,
            "layout": "IPY_MODEL_88ba4bf0c05a43f7a4cc084278987787",
            "placeholder": "​",
            "style": "IPY_MODEL_d44d1b2ab78945b8b853f315141a954b",
            "value": "0.011 MB of 0.011 MB uploaded\r"
          }
        },
        "e8a9e9c60ed84541ba96edb0f837cd82": {
          "model_module": "@jupyter-widgets/controls",
          "model_name": "FloatProgressModel",
          "model_module_version": "1.5.0",
          "state": {
            "_dom_classes": [],
            "_model_module": "@jupyter-widgets/controls",
            "_model_module_version": "1.5.0",
            "_model_name": "FloatProgressModel",
            "_view_count": null,
            "_view_module": "@jupyter-widgets/controls",
            "_view_module_version": "1.5.0",
            "_view_name": "ProgressView",
            "bar_style": "",
            "description": "",
            "description_tooltip": null,
            "layout": "IPY_MODEL_b17928e4d23641b39188614bb546ac57",
            "max": 1,
            "min": 0,
            "orientation": "horizontal",
            "style": "IPY_MODEL_108176cf3d60411f89b3233dfa121920",
            "value": 1
          }
        },
        "ccd861c047d7480ca870b67229ae5c52": {
          "model_module": "@jupyter-widgets/base",
          "model_name": "LayoutModel",
          "model_module_version": "1.2.0",
          "state": {
            "_model_module": "@jupyter-widgets/base",
            "_model_module_version": "1.2.0",
            "_model_name": "LayoutModel",
            "_view_count": null,
            "_view_module": "@jupyter-widgets/base",
            "_view_module_version": "1.2.0",
            "_view_name": "LayoutView",
            "align_content": null,
            "align_items": null,
            "align_self": null,
            "border": null,
            "bottom": null,
            "display": null,
            "flex": null,
            "flex_flow": null,
            "grid_area": null,
            "grid_auto_columns": null,
            "grid_auto_flow": null,
            "grid_auto_rows": null,
            "grid_column": null,
            "grid_gap": null,
            "grid_row": null,
            "grid_template_areas": null,
            "grid_template_columns": null,
            "grid_template_rows": null,
            "height": null,
            "justify_content": null,
            "justify_items": null,
            "left": null,
            "margin": null,
            "max_height": null,
            "max_width": null,
            "min_height": null,
            "min_width": null,
            "object_fit": null,
            "object_position": null,
            "order": null,
            "overflow": null,
            "overflow_x": null,
            "overflow_y": null,
            "padding": null,
            "right": null,
            "top": null,
            "visibility": null,
            "width": null
          }
        },
        "88ba4bf0c05a43f7a4cc084278987787": {
          "model_module": "@jupyter-widgets/base",
          "model_name": "LayoutModel",
          "model_module_version": "1.2.0",
          "state": {
            "_model_module": "@jupyter-widgets/base",
            "_model_module_version": "1.2.0",
            "_model_name": "LayoutModel",
            "_view_count": null,
            "_view_module": "@jupyter-widgets/base",
            "_view_module_version": "1.2.0",
            "_view_name": "LayoutView",
            "align_content": null,
            "align_items": null,
            "align_self": null,
            "border": null,
            "bottom": null,
            "display": null,
            "flex": null,
            "flex_flow": null,
            "grid_area": null,
            "grid_auto_columns": null,
            "grid_auto_flow": null,
            "grid_auto_rows": null,
            "grid_column": null,
            "grid_gap": null,
            "grid_row": null,
            "grid_template_areas": null,
            "grid_template_columns": null,
            "grid_template_rows": null,
            "height": null,
            "justify_content": null,
            "justify_items": null,
            "left": null,
            "margin": null,
            "max_height": null,
            "max_width": null,
            "min_height": null,
            "min_width": null,
            "object_fit": null,
            "object_position": null,
            "order": null,
            "overflow": null,
            "overflow_x": null,
            "overflow_y": null,
            "padding": null,
            "right": null,
            "top": null,
            "visibility": null,
            "width": null
          }
        },
        "d44d1b2ab78945b8b853f315141a954b": {
          "model_module": "@jupyter-widgets/controls",
          "model_name": "DescriptionStyleModel",
          "model_module_version": "1.5.0",
          "state": {
            "_model_module": "@jupyter-widgets/controls",
            "_model_module_version": "1.5.0",
            "_model_name": "DescriptionStyleModel",
            "_view_count": null,
            "_view_module": "@jupyter-widgets/base",
            "_view_module_version": "1.2.0",
            "_view_name": "StyleView",
            "description_width": ""
          }
        },
        "b17928e4d23641b39188614bb546ac57": {
          "model_module": "@jupyter-widgets/base",
          "model_name": "LayoutModel",
          "model_module_version": "1.2.0",
          "state": {
            "_model_module": "@jupyter-widgets/base",
            "_model_module_version": "1.2.0",
            "_model_name": "LayoutModel",
            "_view_count": null,
            "_view_module": "@jupyter-widgets/base",
            "_view_module_version": "1.2.0",
            "_view_name": "LayoutView",
            "align_content": null,
            "align_items": null,
            "align_self": null,
            "border": null,
            "bottom": null,
            "display": null,
            "flex": null,
            "flex_flow": null,
            "grid_area": null,
            "grid_auto_columns": null,
            "grid_auto_flow": null,
            "grid_auto_rows": null,
            "grid_column": null,
            "grid_gap": null,
            "grid_row": null,
            "grid_template_areas": null,
            "grid_template_columns": null,
            "grid_template_rows": null,
            "height": null,
            "justify_content": null,
            "justify_items": null,
            "left": null,
            "margin": null,
            "max_height": null,
            "max_width": null,
            "min_height": null,
            "min_width": null,
            "object_fit": null,
            "object_position": null,
            "order": null,
            "overflow": null,
            "overflow_x": null,
            "overflow_y": null,
            "padding": null,
            "right": null,
            "top": null,
            "visibility": null,
            "width": null
          }
        },
        "108176cf3d60411f89b3233dfa121920": {
          "model_module": "@jupyter-widgets/controls",
          "model_name": "ProgressStyleModel",
          "model_module_version": "1.5.0",
          "state": {
            "_model_module": "@jupyter-widgets/controls",
            "_model_module_version": "1.5.0",
            "_model_name": "ProgressStyleModel",
            "_view_count": null,
            "_view_module": "@jupyter-widgets/base",
            "_view_module_version": "1.2.0",
            "_view_name": "StyleView",
            "bar_color": null,
            "description_width": ""
          }
        },
        "69d4652f9a9b463fb57aff1fc28c561b": {
          "model_module": "@jupyter-widgets/controls",
          "model_name": "VBoxModel",
          "model_module_version": "1.5.0",
          "state": {
            "_dom_classes": [],
            "_model_module": "@jupyter-widgets/controls",
            "_model_module_version": "1.5.0",
            "_model_name": "VBoxModel",
            "_view_count": null,
            "_view_module": "@jupyter-widgets/controls",
            "_view_module_version": "1.5.0",
            "_view_name": "VBoxView",
            "box_style": "",
            "children": [
              "IPY_MODEL_30477cf40f714ec6bbdd30019bfbe675",
              "IPY_MODEL_fc646f95f8234e649e107fe835976ead"
            ],
            "layout": "IPY_MODEL_a305bbbada0148918f8e85b536ac04cd"
          }
        },
        "30477cf40f714ec6bbdd30019bfbe675": {
          "model_module": "@jupyter-widgets/controls",
          "model_name": "LabelModel",
          "model_module_version": "1.5.0",
          "state": {
            "_dom_classes": [],
            "_model_module": "@jupyter-widgets/controls",
            "_model_module_version": "1.5.0",
            "_model_name": "LabelModel",
            "_view_count": null,
            "_view_module": "@jupyter-widgets/controls",
            "_view_module_version": "1.5.0",
            "_view_name": "LabelView",
            "description": "",
            "description_tooltip": null,
            "layout": "IPY_MODEL_0dee1d72293b44dbb3f786935b9f04ff",
            "placeholder": "​",
            "style": "IPY_MODEL_913e504c002c4fdea1e4f5bf38171809",
            "value": "0.011 MB of 0.011 MB uploaded\r"
          }
        },
        "fc646f95f8234e649e107fe835976ead": {
          "model_module": "@jupyter-widgets/controls",
          "model_name": "FloatProgressModel",
          "model_module_version": "1.5.0",
          "state": {
            "_dom_classes": [],
            "_model_module": "@jupyter-widgets/controls",
            "_model_module_version": "1.5.0",
            "_model_name": "FloatProgressModel",
            "_view_count": null,
            "_view_module": "@jupyter-widgets/controls",
            "_view_module_version": "1.5.0",
            "_view_name": "ProgressView",
            "bar_style": "",
            "description": "",
            "description_tooltip": null,
            "layout": "IPY_MODEL_0e8bab866f1143e897b93ce88dd8206d",
            "max": 1,
            "min": 0,
            "orientation": "horizontal",
            "style": "IPY_MODEL_a6003078dbec440bb0333cb212e8e749",
            "value": 1
          }
        },
        "a305bbbada0148918f8e85b536ac04cd": {
          "model_module": "@jupyter-widgets/base",
          "model_name": "LayoutModel",
          "model_module_version": "1.2.0",
          "state": {
            "_model_module": "@jupyter-widgets/base",
            "_model_module_version": "1.2.0",
            "_model_name": "LayoutModel",
            "_view_count": null,
            "_view_module": "@jupyter-widgets/base",
            "_view_module_version": "1.2.0",
            "_view_name": "LayoutView",
            "align_content": null,
            "align_items": null,
            "align_self": null,
            "border": null,
            "bottom": null,
            "display": null,
            "flex": null,
            "flex_flow": null,
            "grid_area": null,
            "grid_auto_columns": null,
            "grid_auto_flow": null,
            "grid_auto_rows": null,
            "grid_column": null,
            "grid_gap": null,
            "grid_row": null,
            "grid_template_areas": null,
            "grid_template_columns": null,
            "grid_template_rows": null,
            "height": null,
            "justify_content": null,
            "justify_items": null,
            "left": null,
            "margin": null,
            "max_height": null,
            "max_width": null,
            "min_height": null,
            "min_width": null,
            "object_fit": null,
            "object_position": null,
            "order": null,
            "overflow": null,
            "overflow_x": null,
            "overflow_y": null,
            "padding": null,
            "right": null,
            "top": null,
            "visibility": null,
            "width": null
          }
        },
        "0dee1d72293b44dbb3f786935b9f04ff": {
          "model_module": "@jupyter-widgets/base",
          "model_name": "LayoutModel",
          "model_module_version": "1.2.0",
          "state": {
            "_model_module": "@jupyter-widgets/base",
            "_model_module_version": "1.2.0",
            "_model_name": "LayoutModel",
            "_view_count": null,
            "_view_module": "@jupyter-widgets/base",
            "_view_module_version": "1.2.0",
            "_view_name": "LayoutView",
            "align_content": null,
            "align_items": null,
            "align_self": null,
            "border": null,
            "bottom": null,
            "display": null,
            "flex": null,
            "flex_flow": null,
            "grid_area": null,
            "grid_auto_columns": null,
            "grid_auto_flow": null,
            "grid_auto_rows": null,
            "grid_column": null,
            "grid_gap": null,
            "grid_row": null,
            "grid_template_areas": null,
            "grid_template_columns": null,
            "grid_template_rows": null,
            "height": null,
            "justify_content": null,
            "justify_items": null,
            "left": null,
            "margin": null,
            "max_height": null,
            "max_width": null,
            "min_height": null,
            "min_width": null,
            "object_fit": null,
            "object_position": null,
            "order": null,
            "overflow": null,
            "overflow_x": null,
            "overflow_y": null,
            "padding": null,
            "right": null,
            "top": null,
            "visibility": null,
            "width": null
          }
        },
        "913e504c002c4fdea1e4f5bf38171809": {
          "model_module": "@jupyter-widgets/controls",
          "model_name": "DescriptionStyleModel",
          "model_module_version": "1.5.0",
          "state": {
            "_model_module": "@jupyter-widgets/controls",
            "_model_module_version": "1.5.0",
            "_model_name": "DescriptionStyleModel",
            "_view_count": null,
            "_view_module": "@jupyter-widgets/base",
            "_view_module_version": "1.2.0",
            "_view_name": "StyleView",
            "description_width": ""
          }
        },
        "0e8bab866f1143e897b93ce88dd8206d": {
          "model_module": "@jupyter-widgets/base",
          "model_name": "LayoutModel",
          "model_module_version": "1.2.0",
          "state": {
            "_model_module": "@jupyter-widgets/base",
            "_model_module_version": "1.2.0",
            "_model_name": "LayoutModel",
            "_view_count": null,
            "_view_module": "@jupyter-widgets/base",
            "_view_module_version": "1.2.0",
            "_view_name": "LayoutView",
            "align_content": null,
            "align_items": null,
            "align_self": null,
            "border": null,
            "bottom": null,
            "display": null,
            "flex": null,
            "flex_flow": null,
            "grid_area": null,
            "grid_auto_columns": null,
            "grid_auto_flow": null,
            "grid_auto_rows": null,
            "grid_column": null,
            "grid_gap": null,
            "grid_row": null,
            "grid_template_areas": null,
            "grid_template_columns": null,
            "grid_template_rows": null,
            "height": null,
            "justify_content": null,
            "justify_items": null,
            "left": null,
            "margin": null,
            "max_height": null,
            "max_width": null,
            "min_height": null,
            "min_width": null,
            "object_fit": null,
            "object_position": null,
            "order": null,
            "overflow": null,
            "overflow_x": null,
            "overflow_y": null,
            "padding": null,
            "right": null,
            "top": null,
            "visibility": null,
            "width": null
          }
        },
        "a6003078dbec440bb0333cb212e8e749": {
          "model_module": "@jupyter-widgets/controls",
          "model_name": "ProgressStyleModel",
          "model_module_version": "1.5.0",
          "state": {
            "_model_module": "@jupyter-widgets/controls",
            "_model_module_version": "1.5.0",
            "_model_name": "ProgressStyleModel",
            "_view_count": null,
            "_view_module": "@jupyter-widgets/base",
            "_view_module_version": "1.2.0",
            "_view_name": "StyleView",
            "bar_color": null,
            "description_width": ""
          }
        }
      }
    }
  },
  "cells": [
    {
      "cell_type": "markdown",
      "metadata": {
        "id": "view-in-github",
        "colab_type": "text"
      },
      "source": [
        "<a href=\"https://colab.research.google.com/github/gugi200/final_project/blob/main/comp_diff_models_custom_data.ipynb\" target=\"_parent\"><img src=\"https://colab.research.google.com/assets/colab-badge.svg\" alt=\"Open In Colab\"/></a>"
      ]
    },
    {
      "cell_type": "markdown",
      "source": [
        "# importing libraries"
      ],
      "metadata": {
        "id": "yjfTlsw_j54-"
      }
    },
    {
      "cell_type": "code",
      "execution_count": 1,
      "metadata": {
        "colab": {
          "base_uri": "https://localhost:8080/",
          "height": 0
        },
        "id": "qFw-qaMkjwX1",
        "outputId": "40af9f13-38d7-45b3-ae0f-526d82a41078"
      },
      "outputs": [
        {
          "output_type": "stream",
          "name": "stdout",
          "text": [
            "\u001b[2K     \u001b[90m━━━━━━━━━━━━━━━━━━━━━━━━━━━━━━━━━━━━━━━━\u001b[0m \u001b[32m2.2/2.2 MB\u001b[0m \u001b[31m35.2 MB/s\u001b[0m eta \u001b[36m0:00:00\u001b[0m\n",
            "\u001b[2K     \u001b[90m━━━━━━━━━━━━━━━━━━━━━━━━━━━━━━━━━━━━━━━━\u001b[0m \u001b[32m195.4/195.4 kB\u001b[0m \u001b[31m26.2 MB/s\u001b[0m eta \u001b[36m0:00:00\u001b[0m\n",
            "\u001b[2K     \u001b[90m━━━━━━━━━━━━━━━━━━━━━━━━━━━━━━━━━━━━━━━━\u001b[0m \u001b[32m257.9/257.9 kB\u001b[0m \u001b[31m31.4 MB/s\u001b[0m eta \u001b[36m0:00:00\u001b[0m\n",
            "\u001b[2K     \u001b[90m━━━━━━━━━━━━━━━━━━━━━━━━━━━━━━━━━━━━━━━━\u001b[0m \u001b[32m62.7/62.7 kB\u001b[0m \u001b[31m8.3 MB/s\u001b[0m eta \u001b[36m0:00:00\u001b[0m\n",
            "\u001b[?25h\u001b[34m\u001b[1mwandb\u001b[0m: Appending key for api.wandb.ai to your netrc file: /root/.netrc\n",
            "Collecting torchmetrics\n",
            "  Downloading torchmetrics-1.3.1-py3-none-any.whl (840 kB)\n",
            "\u001b[2K     \u001b[90m━━━━━━━━━━━━━━━━━━━━━━━━━━━━━━━━━━━━━━━━\u001b[0m \u001b[32m840.4/840.4 kB\u001b[0m \u001b[31m11.3 MB/s\u001b[0m eta \u001b[36m0:00:00\u001b[0m\n",
            "\u001b[?25hRequirement already satisfied: numpy>1.20.0 in /usr/local/lib/python3.10/dist-packages (from torchmetrics) (1.25.2)\n",
            "Requirement already satisfied: packaging>17.1 in /usr/local/lib/python3.10/dist-packages (from torchmetrics) (23.2)\n",
            "Requirement already satisfied: torch>=1.10.0 in /usr/local/lib/python3.10/dist-packages (from torchmetrics) (2.1.0+cu121)\n",
            "Collecting lightning-utilities>=0.8.0 (from torchmetrics)\n",
            "  Downloading lightning_utilities-0.10.1-py3-none-any.whl (24 kB)\n",
            "Requirement already satisfied: setuptools in /usr/local/lib/python3.10/dist-packages (from lightning-utilities>=0.8.0->torchmetrics) (67.7.2)\n",
            "Requirement already satisfied: typing-extensions in /usr/local/lib/python3.10/dist-packages (from lightning-utilities>=0.8.0->torchmetrics) (4.9.0)\n",
            "Requirement already satisfied: filelock in /usr/local/lib/python3.10/dist-packages (from torch>=1.10.0->torchmetrics) (3.13.1)\n",
            "Requirement already satisfied: sympy in /usr/local/lib/python3.10/dist-packages (from torch>=1.10.0->torchmetrics) (1.12)\n",
            "Requirement already satisfied: networkx in /usr/local/lib/python3.10/dist-packages (from torch>=1.10.0->torchmetrics) (3.2.1)\n",
            "Requirement already satisfied: jinja2 in /usr/local/lib/python3.10/dist-packages (from torch>=1.10.0->torchmetrics) (3.1.3)\n",
            "Requirement already satisfied: fsspec in /usr/local/lib/python3.10/dist-packages (from torch>=1.10.0->torchmetrics) (2023.6.0)\n",
            "Requirement already satisfied: triton==2.1.0 in /usr/local/lib/python3.10/dist-packages (from torch>=1.10.0->torchmetrics) (2.1.0)\n",
            "Requirement already satisfied: MarkupSafe>=2.0 in /usr/local/lib/python3.10/dist-packages (from jinja2->torch>=1.10.0->torchmetrics) (2.1.5)\n",
            "Requirement already satisfied: mpmath>=0.19 in /usr/local/lib/python3.10/dist-packages (from sympy->torch>=1.10.0->torchmetrics) (1.3.0)\n",
            "Installing collected packages: lightning-utilities, torchmetrics\n",
            "Successfully installed lightning-utilities-0.10.1 torchmetrics-1.3.1\n",
            "mlxtend                          0.22.0\n",
            "2.1.0+cu121\n",
            "0.16.0+cu121\n"
          ]
        },
        {
          "output_type": "execute_result",
          "data": {
            "text/plain": [
              "'cuda'"
            ],
            "application/vnd.google.colaboratory.intrinsic+json": {
              "type": "string"
            }
          },
          "metadata": {},
          "execution_count": 1
        }
      ],
      "source": [
        "!pip install wandb -qU\n",
        "!wandb login 3014974e724f01c4d63f956fa13fd7f0463e16d4\n",
        "!pip install torchmetrics\n",
        "!pip install mlxtend>=0.19.0\n",
        "\n",
        "!pip list | grep mlx\n",
        "\n",
        "\n",
        "#\n",
        "#   Michael Gugala\n",
        "#   02/12/2023\n",
        "#   Image recognition\n",
        "#   Master 4th year project\n",
        "#   Univeristy of Bristol\n",
        "#\n",
        "\n",
        "import pandas as pd\n",
        "import numpy as np\n",
        "import matplotlib.pyplot as plt\n",
        "\n",
        "import torch\n",
        "from torch import nn\n",
        "\n",
        "import torchvision\n",
        "from torchvision import datasets#\n",
        "from torch.utils.data import DataLoader\n",
        "from torchvision import transforms\n",
        "from torchvision import datasets\n",
        "from torchvision.transforms import ToTensor\n",
        "import torchmetrics\n",
        "from torchvision.models import resnet50, ResNet50_Weights\n",
        "from torchmetrics import ConfusionMatrix\n",
        "from mlxtend.plotting import plot_confusion_matrix\n",
        "from sklearn.utils import Bunch\n",
        "\n",
        "from PIL import Image\n",
        "\n",
        "import requests\n",
        "import random\n",
        "import shutil\n",
        "import zipfile\n",
        "from pathlib import Path\n",
        "from io import BytesIO, StringIO\n",
        "import os\n",
        "\n",
        "import wandb\n",
        "import cv2\n",
        "from timeit import default_timer as timer\n",
        "from tqdm.auto import tqdm\n",
        "\n",
        "# check imports\n",
        "print(torch.__version__)\n",
        "print(torchvision.__version__)\n",
        "\n",
        "#agnostic code\n",
        "device = 'cuda' if torch.cuda.is_available() else 'cpu'\n",
        "device"
      ]
    },
    {
      "cell_type": "markdown",
      "source": [
        "# downloading data and spittiling into raw train and test subsets"
      ],
      "metadata": {
        "id": "hMLHUUjfkAZi"
      }
    },
    {
      "cell_type": "code",
      "source": [
        "! rm -R custom_dataset train_raw test_raw"
      ],
      "metadata": {
        "colab": {
          "base_uri": "https://localhost:8080/"
        },
        "id": "B2BNecdo03hm",
        "outputId": "1e7df519-142b-4c55-8019-30d5d4db8810"
      },
      "execution_count": 2,
      "outputs": [
        {
          "output_type": "stream",
          "name": "stdout",
          "text": [
            "rm: cannot remove 'custom_dataset': No such file or directory\n",
            "rm: cannot remove 'train_raw': No such file or directory\n",
            "rm: cannot remove 'test_raw': No such file or directory\n"
          ]
        }
      ]
    },
    {
      "cell_type": "code",
      "source": [
        "colabPath = Path(\"custom_dataset\")\n",
        "\n",
        "#  Create a dir\n",
        "if colabPath.is_dir():\n",
        "    print('directory already exists')\n",
        "else:\n",
        "    colabPath.mkdir(parents=True, exist_ok=True)\n",
        "\n",
        "# download zipped data\n",
        "    github_path = \"https://github.com/gugi200/final_project/raw/main/data.zip\"\n",
        "    # file = \"dataset_pressure_sensor.zip\"\n",
        "    file = 'data.zip'\n",
        "with open(colabPath / file, \"wb\") as f:\n",
        "    request = requests.get(github_path)\n",
        "    f.write(request.content)\n",
        "\n",
        "\n",
        "# unzip the data\n",
        "with zipfile.ZipFile(colabPath / file, \"r\") as f:\n",
        "    f.extractall(colabPath)\n",
        "\n",
        "\n",
        "\n",
        "\n",
        "TRAIN_RATIO = 0.75\n",
        "rawDataPath = colabPath/\"data_sensor\"\n",
        "dirs = os.listdir(colabPath/\"data_sensor\")\n",
        "\n",
        "\n",
        "#  Create a dir for train and test data\n",
        "extendedTrain = Path(\"train_raw\")\n",
        "extendedTest = Path(\"test_raw\")\n",
        "if extendedTrain.is_dir():\n",
        "    print('directory already exists')\n",
        "else:\n",
        "    extendedTrain.mkdir(parents=True, exist_ok=True)\n",
        "    extendedTest.mkdir(parents=True, exist_ok=True)\n",
        "    for dir in dirs:\n",
        "        path = extendedTrain / dir\n",
        "        path.mkdir(parents=True, exist_ok=True)\n",
        "    for dir in dirs:\n",
        "        path = extendedTest / dir\n",
        "        path.mkdir(parents=True, exist_ok=True)\n",
        "\n",
        "for dir in dirs:\n",
        "    files = os.listdir(rawDataPath / dir)\n",
        "    length = int(TRAIN_RATIO*len(files))\n",
        "    random.shuffle(files)\n",
        "\n",
        "    train_set = files[:length]\n",
        "    test_set = files[length:]\n",
        "\n",
        "    for data in train_set:\n",
        "        shutil.copy(rawDataPath / dir / data, extendedTrain / dir / data)\n",
        "\n",
        "    for data in test_set:\n",
        "        shutil.copy(rawDataPath / dir / data, extendedTest / dir / data)\n",
        "\n",
        "l = 0\n",
        "for dir in dirs:\n",
        "    l += len(os.listdir(extendedTrain/dir))\n",
        "    print(dir, len(os.listdir(extendedTrain/dir)))\n",
        "print(l)\n",
        "\n",
        "l = 0\n",
        "for dir in dirs:\n",
        "    l += len(os.listdir(extendedTest/dir))\n",
        "    print(dir, len(os.listdir(extendedTest/dir)))\n",
        "print(l)\n",
        "\n",
        "\n",
        "\n",
        "\n",
        "import os\n",
        "from PIL import Image\n",
        "from PIL import UnidentifiedImageError\n",
        "\n",
        "for folder_path in [extendedTrain, extendedTest, Path(colabPath/'data_sensor')]:\n",
        "    extensions = []\n",
        "    for fldr in os.listdir(folder_path):\n",
        "        sub_folder_path = os.path.join(folder_path, fldr)\n",
        "        for filee in os.listdir(sub_folder_path):\n",
        "            file_path = os.path.join(sub_folder_path, filee)\n",
        "            try:\n",
        "                im = Image.open(file_path)\n",
        "            except UnidentifiedImageError:\n",
        "                print(file_path)\n",
        "                os.remove(file_path)"
      ],
      "metadata": {
        "colab": {
          "base_uri": "https://localhost:8080/"
        },
        "id": "kKGExjDVkE4v",
        "outputId": "4562b93b-41b5-46a8-d9f7-ae6d77429e47"
      },
      "execution_count": 3,
      "outputs": [
        {
          "output_type": "stream",
          "name": "stdout",
          "text": [
            "big_fizzy 775\n",
            "h_bottle 786\n",
            "mug 821\n",
            "small_fizzy 722\n",
            "hand 750\n",
            "h_big_bottle 839\n",
            "nothing 229\n",
            "can 748\n",
            "5670\n",
            "big_fizzy 259\n",
            "h_bottle 263\n",
            "mug 274\n",
            "small_fizzy 241\n",
            "hand 251\n",
            "h_big_bottle 280\n",
            "nothing 77\n",
            "can 250\n",
            "1895\n",
            "train_raw/big_fizzy/sensor_6431.jpg\n",
            "train_raw/big_fizzy/sensor_6425.jpg\n",
            "train_raw/big_fizzy/sensor_6427.jpg\n",
            "train_raw/big_fizzy/sensor_6432.jpg\n",
            "train_raw/big_fizzy/sensor_6430.jpg\n",
            "train_raw/big_fizzy/sensor_6428.jpg\n",
            "train_raw/big_fizzy/sensor_6434.jpg\n",
            "train_raw/big_fizzy/sensor_6435.jpg\n",
            "train_raw/can/sensor_2781.jpg\n",
            "train_raw/can/sensor_2792.jpg\n",
            "train_raw/can/sensor_2798.jpg\n",
            "train_raw/can/sensor_2793.jpg\n",
            "train_raw/can/sensor_2787.jpg\n",
            "train_raw/can/sensor_2790.jpg\n",
            "train_raw/can/sensor_2797.jpg\n",
            "train_raw/can/sensor_2799.jpg\n",
            "train_raw/can/sensor_2785.jpg\n",
            "train_raw/can/sensor_2794.jpg\n",
            "train_raw/can/sensor_2789.jpg\n",
            "train_raw/can/sensor_2782.jpg\n",
            "train_raw/can/sensor_2786.jpg\n",
            "train_raw/can/sensor_2796.jpg\n",
            "train_raw/can/sensor_2783.jpg\n",
            "test_raw/big_fizzy/sensor_6426.jpg\n",
            "test_raw/big_fizzy/sensor_6436.jpg\n",
            "test_raw/big_fizzy/sensor_6437.jpg\n",
            "test_raw/big_fizzy/sensor_6433.jpg\n",
            "test_raw/big_fizzy/sensor_6429.jpg\n",
            "test_raw/can/sensor_2788.jpg\n",
            "test_raw/can/sensor_2791.jpg\n",
            "test_raw/can/sensor_2784.jpg\n",
            "test_raw/can/sensor_2795.jpg\n",
            "custom_dataset/data_sensor/big_fizzy/sensor_6431.jpg\n",
            "custom_dataset/data_sensor/big_fizzy/sensor_6425.jpg\n",
            "custom_dataset/data_sensor/big_fizzy/sensor_6427.jpg\n",
            "custom_dataset/data_sensor/big_fizzy/sensor_6432.jpg\n",
            "custom_dataset/data_sensor/big_fizzy/sensor_6430.jpg\n",
            "custom_dataset/data_sensor/big_fizzy/sensor_6428.jpg\n",
            "custom_dataset/data_sensor/big_fizzy/sensor_6434.jpg\n",
            "custom_dataset/data_sensor/big_fizzy/sensor_6435.jpg\n",
            "custom_dataset/data_sensor/big_fizzy/sensor_6426.jpg\n",
            "custom_dataset/data_sensor/big_fizzy/sensor_6436.jpg\n",
            "custom_dataset/data_sensor/big_fizzy/sensor_6437.jpg\n",
            "custom_dataset/data_sensor/big_fizzy/sensor_6433.jpg\n",
            "custom_dataset/data_sensor/big_fizzy/sensor_6429.jpg\n",
            "custom_dataset/data_sensor/can/sensor_2781.jpg\n",
            "custom_dataset/data_sensor/can/sensor_2792.jpg\n",
            "custom_dataset/data_sensor/can/sensor_2788.jpg\n",
            "custom_dataset/data_sensor/can/sensor_2798.jpg\n",
            "custom_dataset/data_sensor/can/sensor_2793.jpg\n",
            "custom_dataset/data_sensor/can/sensor_2787.jpg\n",
            "custom_dataset/data_sensor/can/sensor_2791.jpg\n",
            "custom_dataset/data_sensor/can/sensor_2790.jpg\n",
            "custom_dataset/data_sensor/can/sensor_2797.jpg\n",
            "custom_dataset/data_sensor/can/sensor_2784.jpg\n",
            "custom_dataset/data_sensor/can/sensor_2799.jpg\n",
            "custom_dataset/data_sensor/can/sensor_2785.jpg\n",
            "custom_dataset/data_sensor/can/sensor_2794.jpg\n",
            "custom_dataset/data_sensor/can/sensor_2789.jpg\n",
            "custom_dataset/data_sensor/can/sensor_2782.jpg\n",
            "custom_dataset/data_sensor/can/sensor_2786.jpg\n",
            "custom_dataset/data_sensor/can/sensor_2796.jpg\n",
            "custom_dataset/data_sensor/can/sensor_2795.jpg\n",
            "custom_dataset/data_sensor/can/sensor_2783.jpg\n"
          ]
        }
      ]
    },
    {
      "cell_type": "markdown",
      "source": [
        "# Library"
      ],
      "metadata": {
        "id": "BL122EEfkEh9"
      }
    },
    {
      "cell_type": "code",
      "source": [
        "\n",
        "\n",
        "# create data set from a custom data\n",
        "def create_dataset(path, batchsize, preprocess=None, mean=None, std=None):\n",
        "    '''\n",
        "    input:\n",
        "    path - path to the folder with the data\n",
        "           eg for train - \"data/FashionMNIST/train\"\n",
        "    batchsize - eg 32\n",
        "    mean (optional)- for normalization eg. [0.25, 0.25, 0.25]\n",
        "    std (optional)- for nortmalization eg [0.1, 0.1, 0.1]\n",
        "\n",
        "    returns:\n",
        "    dataloader with image size of 224\n",
        "    class_names\n",
        "    '''\n",
        "    if not preprocess:\n",
        "\n",
        "        if mean:\n",
        "            preprocess = transforms.Compose([\n",
        "\n",
        "                transforms.Resize(size=(224, 224)),\n",
        "                transforms.ToTensor(),\n",
        "                transforms.Normalize(mean=mean, std=std),\n",
        "            ])\n",
        "        else:\n",
        "            preprocess = transforms.Compose([\n",
        "\n",
        "                transforms.Resize(size=(224, 224)),\n",
        "                transforms.ToTensor()\n",
        "            ])\n",
        "\n",
        "\n",
        "    data = datasets.ImageFolder(root=Path(path),\n",
        "                                    transform=preprocess, # tranform for the data\n",
        "                                    target_transform=None) # transform for label\n",
        "    dataloader = DataLoader(dataset=data,\n",
        "                                batch_size=batchsize,\n",
        "                                shuffle=True) #  shuffling to remove order\n",
        "    class_names = data.classes\n",
        "    return dataloader, class_names, data.targets\n",
        "\n",
        "# visdualize 9 random images in a batch\n",
        "def visualise_data(dataloader, class_names, batchsize):\n",
        "    '''\n",
        "    input dataloader\n",
        "    class names\n",
        "\n",
        "    displays 9 random images in a batch and their labels\n",
        "    '''\n",
        "    train_features_batch, train_labels_batch = next(iter(dataloader))\n",
        "    print(\"length of data: \", len(train_features_batch), 'length of labels: ', len(train_labels_batch))\n",
        "    # display random datapoints\n",
        "    fig = plt.figure(figsize=(9, 9))\n",
        "    rows, cols  = 3, 3\n",
        "    for pic in range(1, 1+rows*cols):\n",
        "        rand_int = np.random.randint(0, batchsize)\n",
        "        img = train_features_batch[rand_int]\n",
        "        img_RGB = img.permute([1, 2, 0]).numpy()\n",
        "        fig.add_subplot(rows, cols, pic)\n",
        "        plt.imshow(img_RGB.squeeze())\n",
        "        plt.axis(False)\n",
        "        plt.title(class_names[train_labels_batch[rand_int]])\n",
        "\n",
        "\n",
        "# create optimizer\n",
        "def create_optiimizer(model, optimizer, lr):\n",
        "    '''\n",
        "    inputs:\n",
        "    model - CNN network\n",
        "    optimizer - \"adam\" or \"sgd\"\n",
        "    lr - learning rate eg. 0.01\n",
        "\n",
        "    '''\n",
        "    if optimizer=='adam':\n",
        "        optimizer = torch.optim.Adam(model.parameters(),\n",
        "                                     lr=lr\n",
        "                                     )\n",
        "    elif optimizer=='sgd':\n",
        "        optimizer = torch.optim.SGD(model.parameters(),\n",
        "                                     lr=lr,\n",
        "                                    momentum=0.9\n",
        "                                     )\n",
        "\n",
        "    return optimizer\n",
        "\n",
        "\n",
        "def get_lossFn():\n",
        "    '''\n",
        "        returns CrossEntropyLoss function\n",
        "    '''\n",
        "\n",
        "    return nn.CrossEntropyLoss()\n",
        "\n",
        "# create train step\n",
        "def train_step(model, metric, loss_fn, optimizer,\n",
        "               data_loader, device, debug=False, wnb=True):\n",
        "    '''\n",
        "    model - CNN network\n",
        "    metric - metric to calculate accuracy\n",
        "    loss_fn - loss function\n",
        "    optimizer - optimizer to be applied\n",
        "    data_loader - dataloader\n",
        "    device - decide for the model to train\n",
        "    debug (optional)- if True prints average loss and metric of the batch\n",
        "\n",
        "    returns\n",
        "    train_loss - average loss of the batch\n",
        "    train_acc - average metric score of the batch\n",
        "\n",
        "    The function saves the metric score and loss of each iteration in WandB\n",
        "\n",
        "    '''\n",
        "    train_loss, train_acc = 0, 0\n",
        "\n",
        "    model.train()\n",
        "    for batch, (X, y) in enumerate(data_loader):\n",
        "        # put data on the device\n",
        "        X, y = X.to(device), y.to(device)\n",
        "\n",
        "        #forward pass, return raw logits\n",
        "        y_pred = model(X)\n",
        "\n",
        "        #loss\n",
        "        loss = loss_fn(y_pred, y)\n",
        "        #accuracy\n",
        "        acc = metric(y, torch.argmax(y_pred, dim=1))\n",
        "\n",
        "        train_loss += loss # accumulate train loss\n",
        "        train_acc += acc # accumulate train accuracy\n",
        "\n",
        "        # zero grad\n",
        "        optimizer.zero_grad()\n",
        "\n",
        "        # loss bacward\n",
        "        loss.backward()\n",
        "\n",
        "        #optimizer step\n",
        "        optimizer.step()\n",
        "\n",
        "        # log in wandb\n",
        "        if wnb:\n",
        "            wandb.log({\"loss\": loss,\n",
        "                       'accuracy': acc})\n",
        "\n",
        "    # device total loss and accuracy by length of train dataloader\n",
        "    train_loss /= len(data_loader)\n",
        "    train_acc /= len(data_loader)\n",
        "    if debug:\n",
        "        print(f'Train loss: {train_loss:.4f}, Train acc: {train_acc*100:0.4f}%')\n",
        "\n",
        "    return train_loss, train_acc\n",
        "\n",
        "\n",
        "# create test step\n",
        "def test_step(model, metric, loss_fn, data_loader, device, debug=False, wnb=True):\n",
        "    '''\n",
        "    model - CNN network\n",
        "    metric - metric to calculate accuracy\n",
        "    loss_fn - loss function\n",
        "    data_loader - dataloader\n",
        "    device - decide for the model to train\n",
        "    debug (optional)- if True prints average loss and metric of the batch\n",
        "\n",
        "    returns\n",
        "    test_loss - average loss of the batch\n",
        "    test_acc - average metric score of the batch\n",
        "\n",
        "    The function saves the metric score and loss of each iteration in WandB\n",
        "\n",
        "    '''\n",
        "    test_loss, test_acc = 0, 0\n",
        "    model.eval()\n",
        "    with torch.inference_mode():\n",
        "        for X_test, y_test in data_loader:\n",
        "            X_test, y_test = X_test.to(device), y_test.to(device)\n",
        "            #1 forward pass\n",
        "            test_pred = model(X_test)\n",
        "\n",
        "            # calculate loss\n",
        "            loss = loss_fn(test_pred, y_test)\n",
        "            test_loss += loss\n",
        "\n",
        "            #accuracy\n",
        "            acc = metric(y_test, test_pred.argmax(dim=1))\n",
        "            test_acc += acc\n",
        "\n",
        "            if wnb:\n",
        "                wandb.log({\"test loss\": loss,\n",
        "                           'test accuracy': acc})\n",
        "\n",
        "        # Calculate the test loss average batch\n",
        "        test_loss /= len(data_loader)\n",
        "\n",
        "        # acc per bactch\n",
        "        test_acc /= len(data_loader)\n",
        "\n",
        "        # Print out what's happening\n",
        "        if debug:\n",
        "            print(f'Test loss: {test_loss:.4f}  |  Test acc: {test_acc*100:.4f}%')\n",
        "\n",
        "        return test_loss, test_acc\n",
        "\n",
        "# create evaluation loop\n",
        "def eval_model(model: torch.nn.Module,\n",
        "                data_loader: torch.utils.data.DataLoader,\n",
        "                loss_fn: torch.nn.Module,\n",
        "                accuracy_fn,\n",
        "               device):\n",
        "    loss, acc = 0, 0\n",
        "    model.eval()\n",
        "    with torch.inference_mode():\n",
        "        for X, y in tqdm(data_loader):\n",
        "            X, y = X.to(device), y.to(device)\n",
        "            y_pred = model(X)\n",
        "\n",
        "            #accumulate the loss and acc\n",
        "            loss += loss_fn(y_pred, y)\n",
        "            acc += accuracy_fn(y, y_pred.argmax(dim=1))\n",
        "\n",
        "        # ave loss and acc\n",
        "        loss /= len(data_loader)\n",
        "        acc /= len(data_loader)\n",
        "    return {\"model_name\": model.__class__.__name__, # only works if a model was created with a class\n",
        "            \"model_loss\": loss.item(),\n",
        "            \"model_acc\": acc.item()*100}\n",
        "\n",
        "\n",
        "\n",
        "\n",
        "def visualize_preds(model, dataloader, class_names, batchsize):\n",
        "    plt.figure(figsize=(9, 9))\n",
        "    nrows = 3\n",
        "    ncols = 3\n",
        "    model = model.cpu()\n",
        "\n",
        "    dataL_len = len(dataloader)\n",
        "    data = iter(dataloader)\n",
        "    for i in range(3):\n",
        "        model.eval()\n",
        "        with torch.inference_mode():\n",
        "\n",
        "            X, y = next(data)\n",
        "            X, y = X.cpu(), y.cpu()\n",
        "            for j in range(3):\n",
        "                randint = np.random.randint(0, batchsize)\n",
        "                X_sample, y_sample = X[randint], y[randint]\n",
        "                pred_logit = model(X_sample.unsqueeze(dim=0))\n",
        "\n",
        "                pred_prob = pred_logit.argmax(dim=1)\n",
        "\n",
        "\n",
        "                plt.subplot(nrows, ncols, (3*i)+j+1);\n",
        "                plt.imshow(X_sample.squeeze().permute([1, 2, 0]), cmap='gray');\n",
        "\n",
        "                #find pred_label in text form\n",
        "                pred_label = class_names[pred_prob];\n",
        "\n",
        "                # find truth label\n",
        "                truth_label = class_names[y_sample];\n",
        "\n",
        "                title_text = f'Pred: {pred_label}  \\n  Truth: {truth_label}'\n",
        "\n",
        "                if pred_label==truth_label:\n",
        "                    plt.title(title_text, fontsize=10, c='g');\n",
        "                else:\n",
        "                    plt.title(title_text, fontsize=10, c='r');\n",
        "                plt.axis(False)\n",
        "                plt.tight_layout()\n",
        "\n",
        "\n",
        "\n",
        "def plot_decision_matrix(class_names, y_pred_tensor, targets):\n",
        "    # setup confusion matrix\n",
        "    confmat = ConfusionMatrix(num_classes=len(class_names), task='multiclass')\n",
        "    confmat_tensor = confmat(preds=y_pred_tensor,\n",
        "                            target=targets)\n",
        "\n",
        "    # plot consufionmatrix\n",
        "    fig, ax = plot_confusion_matrix(\n",
        "        conf_mat=confmat_tensor.numpy(),\n",
        "        class_names=class_names,\n",
        "        figsize=(10, 7)\n",
        "    )\n",
        "\n",
        "\n",
        "\n",
        "def make_predictions_dataloader(model, dataloader, device, class_names):\n",
        "    preds = []\n",
        "    target = []\n",
        "    model = model.to(device)\n",
        "    model.eval()\n",
        "    test_acc = 0\n",
        "    metric = torchmetrics.classification.Accuracy(\n",
        "        task=\"multiclass\",\n",
        "        num_classes=len(class_names)\n",
        "    ).to(device)\n",
        "    with torch.inference_mode():\n",
        "\n",
        "        for X_test, y_test in tqdm(dataloader):\n",
        "            X_test, y_test = X_test.to(device), y_test.to(device)\n",
        "            batch_pred = model(X_test)\n",
        "            batch_pred = batch_pred.cpu()\n",
        "            y_test = y_test.cpu()\n",
        "            preds.append(np.array(batch_pred.argmax(dim=1)))\n",
        "            target.append(y_test)\n",
        "\n",
        "            acc = metric(y_test, batch_pred.argmax(dim=1))\n",
        "            test_acc += acc\n",
        "\n",
        "        # acc per bactch\n",
        "        test_acc /= len(dataloader)\n",
        "\n",
        "\n",
        "    return np.concatenate(preds), np.concatenate(target), test_acc\n",
        "\n",
        "\n",
        "def make_predictions(model, data, device):\n",
        "    model.eval()\n",
        "    data = data.to(device)\n",
        "    model = model.to(device)\n",
        "    with torch.inference_mode():\n",
        "        y_preds = model(data)\n",
        "    return y_preds.cpu()\n",
        "\n",
        "\n",
        "def dataloader_to_numpy(dataloader):\n",
        "    for i, (data, target) in enumerate(dataloader):\n",
        "        if i==0:\n",
        "            data_numpy = data.numpy()\n",
        "            target_numpy = target.numpy()\n",
        "        else:\n",
        "            data_numpy = np.append(data_numpy, data.numpy(), axis=0)\n",
        "            target_numpy = np.append(target_numpy, target.numpy(), axis=0)\n",
        "    return data_numpy, target_numpy\n",
        "\n",
        "\n",
        "def get_datalodaer(batchsize, train_path, test_path):\n",
        "\n",
        "    train_dataloader, class_names, _ = create_dataset(\n",
        "                                        path=train_path,\n",
        "                                        batchsize=batchsize,\n",
        "                                    mean=[0.485, 0.456, 0.406],\n",
        "                                    std=[0.229, 0.224, 0.225]\n",
        "                                    )\n",
        "    test_dataloader, _, _ = create_dataset(\n",
        "                                path=test_path,\n",
        "                                batchsize=batchsize,\n",
        "                                    mean=[0.485, 0.456, 0.406],\n",
        "                                    std=[0.229, 0.224, 0.225]\n",
        "                                    )\n",
        "    return train_dataloader, test_dataloader, class_names\n",
        "\n",
        "\n",
        "def train_test_loop(config, model, train_dataloader, test_dataloader,\n",
        "                    class_names, device):\n",
        "\n",
        "    prev_acc = 0\n",
        "    loss_fn = get_lossFn()\n",
        "    optimizer = create_optiimizer(model=model,\n",
        "                                    optimizer=config.optimizer,\n",
        "                                    lr=config.learning_rate\n",
        "    )\n",
        "    metric = torchmetrics.classification.Accuracy(\n",
        "        task=\"multiclass\",\n",
        "        num_classes=len(class_names)\n",
        "    ).to(device)\n",
        "    train_time_start = timer()\n",
        "    for epoch in range(config.epochs):\n",
        "\n",
        "        print([g['lr'] for g in optimizer.param_groups])\n",
        "\n",
        "        ave_batch_train_loss, ave_batch_train_acc = train_step(\n",
        "            model=model,\n",
        "            metric=metric,\n",
        "            loss_fn=loss_fn,\n",
        "            optimizer=optimizer,\n",
        "            data_loader=train_dataloader,\n",
        "            device=device,\n",
        "            debug=True\n",
        "        )\n",
        "        ave_batch_test_loss, ave_batch_test_acc = test_step(\n",
        "            model=model,\n",
        "            metric=metric,\n",
        "            loss_fn=loss_fn,\n",
        "            data_loader=test_dataloader,\n",
        "            device=device,\n",
        "            debug=True\n",
        "        )\n",
        "        curr_acc = ave_batch_train_acc\n",
        "\n",
        "        if ((curr_acc-prev_acc)<0.03) and (curr_acc>0.5):\n",
        "            for g in optimizer.param_groups:\n",
        "              g['lr'] = 0.001\n",
        "        prev_acc = curr_acc\n",
        "\n",
        "        wandb.log({\"average train batch loss\": ave_batch_train_loss,\n",
        "                    \"average train batch metric\": ave_batch_train_acc,\n",
        "                    \"average test batch loss\": ave_batch_test_loss,\n",
        "                    \"average test batch metric\": ave_batch_test_acc,\n",
        "                    \"epoch\": epoch\n",
        "                    })\n",
        "    train_time_end = timer()\n",
        "    wandb.log({\"train time\": train_time_end - train_time_start})\n",
        "    return\n",
        "\n",
        "\n",
        "def train_test_loop_nonpipe(model, train_dataloader, test_dataloader, optim, lr,\n",
        "                    epochs, class_names, device):\n",
        "    loss_fn = get_lossFn()\n",
        "    optimizer = create_optiimizer(model=model,\n",
        "                                    optimizer=optim,\n",
        "                                    lr=lr\n",
        "    )\n",
        "    metric = torchmetrics.classification.Accuracy(\n",
        "        task=\"multiclass\",\n",
        "        num_classes=len(class_names)\n",
        "    ).to(device)\n",
        "    train_time_start = timer()\n",
        "    for epoch in range(epochs):\n",
        "        ave_batch_loss, ave_batch_metric = train_step(\n",
        "            model=model,\n",
        "            metric=metric,\n",
        "            loss_fn=loss_fn,\n",
        "            optimizer=optimizer,\n",
        "            data_loader=train_dataloader,\n",
        "            device=device,\n",
        "            debug=True\n",
        "        )\n",
        "        ave_batch_loss, ave_batch_metric = test_step(\n",
        "            model=model,\n",
        "            metric=metric,\n",
        "            loss_fn=loss_fn,\n",
        "            data_loader=test_dataloader,\n",
        "            device=device,\n",
        "            debug=True\n",
        "        )\n",
        "        wandb.log({\"average train batch loss\": ave_batch_loss,\n",
        "                    \"average train batch metric\": ave_batch_metric,\n",
        "                    \"average test batch loss\": ave_batch_loss,\n",
        "                    \"average test batch metric\": ave_batch_metric,\n",
        "                    \"epoch\": epoch\n",
        "                    })\n",
        "    train_time_end = timer()\n",
        "    wandb.log({\"train time\": train_time_end - train_time_start})\n"
      ],
      "metadata": {
        "id": "zNOw4Ci0k6Qv"
      },
      "execution_count": 4,
      "outputs": []
    },
    {
      "cell_type": "markdown",
      "source": [
        "# models"
      ],
      "metadata": {
        "id": "hZoSZvB8k6-N"
      }
    },
    {
      "cell_type": "markdown",
      "source": [
        "## setup wandb"
      ],
      "metadata": {
        "id": "ohYFiINTldY9"
      }
    },
    {
      "cell_type": "code",
      "source": [
        "\n",
        "torch.manual_seed(42)\n",
        "torch.cuda.manual_seed(42)\n",
        "\n",
        "\n",
        "\n",
        "def softThreshold(lower, upper):\n",
        "    def func(data):\n",
        "        data = np.asarray(data)\n",
        "        th = np.where(data>upper, 255, data)\n",
        "        th = np.where(th<lower, 0, th).astype(np.uint8)\n",
        "        return Image.fromarray(th)\n",
        "    return func\n",
        "\n",
        "def expMapping(alpha):\n",
        "    def func(data):\n",
        "            data = np.asarray(data)\n",
        "            data = np.where(data==0, 1, data)\n",
        "            mapped = np.exp( -( alpha/(data) ) )*255\n",
        "            mapped = mapped.astype(np.uint8)\n",
        "            return Image.fromarray(mapped)\n",
        "    return func\n",
        "\n",
        "\n",
        "\n",
        "sweep_config = {\n",
        "    'method': 'grid'\n",
        "    }\n",
        "metric = {\n",
        "    'name': 'loss',\n",
        "    'goal': 'minimize'\n",
        "    }\n",
        "sweep_config['metric'] = metric\n",
        "\n",
        "parameters_dict = {\n",
        "    'optimizer': {\n",
        "        'values': ['adam', 'sgd']\n",
        "        },\n",
        "    'fc_layer_size': {\n",
        "        'values': [8]\n",
        "        },\n",
        "    }\n",
        "\n",
        "sweep_config['parameters'] = parameters_dict\n",
        "\n",
        "parameters_dict.update({\n",
        "    'epochs': {\n",
        "        'value': 5}\n",
        "    })\n",
        "\n",
        "# parameters_dict.update({\n",
        "#     'learning_rate': {\n",
        "#         # a flat distribution between 0 and 0.1\n",
        "#         'distribution': 'uniform',\n",
        "#         'min': 0,\n",
        "#         'max': 0.1\n",
        "#       },\n",
        "#     'batch_size': {\n",
        "#         # integers between 32 and 256\n",
        "#         # with evenly-distributed logarithms\n",
        "#         'distribution': 'q_log_uniform_values',\n",
        "#         'q': 8,\n",
        "#         'min': 8,\n",
        "#         'max': 32,\n",
        "#       }\n",
        "#     })\n",
        "\n",
        "parameters_dict.update({\n",
        "    'learning_rate': {\n",
        "        # a flat distribution between 0 and 0.1\n",
        "        'values': [0.01]\n",
        "      },\n",
        "    'batch_size': {\n",
        "        # integers between 32 and 256\n",
        "        # with evenly-distributed logarithms\n",
        "        'values': [16, 32]\n",
        "      }\n",
        "    })\n",
        "\n",
        "\n",
        "\n",
        "import pprint\n",
        "pprint.pprint(sweep_config)\n",
        "\n",
        "\n"
      ],
      "metadata": {
        "colab": {
          "base_uri": "https://localhost:8080/"
        },
        "id": "_O54qW5EldC7",
        "outputId": "985b8ba7-ebfd-47b1-fa84-26562cbb578f"
      },
      "execution_count": 5,
      "outputs": [
        {
          "output_type": "stream",
          "name": "stdout",
          "text": [
            "{'method': 'grid',\n",
            " 'metric': {'goal': 'minimize', 'name': 'loss'},\n",
            " 'parameters': {'batch_size': {'values': [16, 32]},\n",
            "                'epochs': {'value': 5},\n",
            "                'fc_layer_size': {'values': [8]},\n",
            "                'learning_rate': {'values': [0.01]},\n",
            "                'optimizer': {'values': ['adam', 'sgd']}}}\n"
          ]
        }
      ]
    },
    {
      "cell_type": "markdown",
      "source": [
        "## restnet50"
      ],
      "metadata": {
        "id": "XWSbwaaflXLp"
      }
    },
    {
      "cell_type": "code",
      "source": [
        "\n",
        "def train_model_resnet50(config=None):\n",
        "    with wandb.init(config=config):\n",
        "\n",
        "        mean=[0.485, 0.456, 0.406]\n",
        "        std=[0.229, 0.224, 0.225]\n",
        "        tranform = transforms.Compose([\n",
        "            expMapping(4),\n",
        "            softThreshold(30, 255),\n",
        "            transforms.Resize(size=(224, 224)),\n",
        "            transforms.ToTensor(),\n",
        "            transforms.Normalize(mean=mean, std=std),\n",
        "        ])\n",
        "\n",
        "        config = wandb.config\n",
        "\n",
        "        train_dataloader, class_names, _ = create_dataset(path=Path(\"train_raw\"),\n",
        "                                                          batchsize=config.batch_size,\n",
        "                                                          preprocess=tranform)\n",
        "\n",
        "        test_dataloader, _ , _ = create_dataset(path=Path(\"test_raw\"),\n",
        "                                                batchsize=config.batch_size,\n",
        "                                                preprocess=tranform)\n",
        "\n",
        "        model = resnet50(\n",
        "            weights=ResNet50_Weights.DEFAULT).to(device)\n",
        "        model.fc = nn.Linear(2048 , config.fc_layer_size).to(device)\n",
        "\n",
        "        train_test_loop(config=config,\n",
        "                        model=model,\n",
        "                        train_dataloader=train_dataloader,\n",
        "                        test_dataloader=test_dataloader,\n",
        "                        class_names=class_names,\n",
        "                        device=device\n",
        "                        )\n",
        "    return model\n",
        "\n",
        "\n",
        "# restnet pipeline\n",
        "sweep_id_restnet50 = wandb.sweep(sweep_config, project=\"restnet-customData\")\n",
        "wandb.agent(sweep_id_restnet50, train_model_resnet50)"
      ],
      "metadata": {
        "colab": {
          "base_uri": "https://localhost:8080/",
          "height": 1000,
          "referenced_widgets": [
            "dab2797483124f628cced183ac7bc39f",
            "9b02eba8d6f94b348ed82c2df6c9c761",
            "88cbfbe967ce450ba9a849c2a06a069b",
            "b5b686cd899a44f1838cf8f2523da05f",
            "da2aec3db219444b879daf8a05fac8db",
            "cdf29aa6841441899d3c6011ae881c29",
            "53ff567d0a404dbeb9405ebef23bf20a",
            "b73ce03f91b14458b9734bcf03c6397a",
            "1cab16eee93e45e3b8e0a64886e0b417",
            "6b9632c9a2014ab6a48bbaad60e42d7b",
            "15036e07c0ae4c27b33f4a8431dc07d1",
            "bb82d60b88de4c74a9cdd8ae89c77960",
            "c820aed1ed5148f896c26834c6602085",
            "f729e1e6bca24b3784631ca6e9706ffe",
            "5dc963e205ad4ced92f5721f1f82aaa8",
            "41ecef4f175144b4b62bce2dcfdecd40",
            "ae503938d8dd4fd2a567694cd3348f37",
            "5536e245ab9648d88baa545845bd16ce",
            "511da199d4e54cac9603c943faa4d261",
            "73c420bb8311437c88cb5a652fc6f87e",
            "4a13d1a2f02d4242b9e2a5a9332f93dc",
            "a4fc3dd963724406bbb977af288e2867",
            "0257a28717d6400793f2e3bcf8c5ebf0",
            "0f7025356b1742889a05e51af1cce024",
            "6a9ea9c0f21045f3b978d21f884f1d5f",
            "d281830498bd45c7871ff00dcdce632f",
            "6ca845f932da4d9eab99ccfc95105df7",
            "7bb49194b516430ebe18e11068c91749",
            "0f7463c96fcd46ccbee92715b1eb1ed0",
            "337588f8edf3484d94e7b2c397cc03f2",
            "0f9881acb40c4c2e948ed02fc3262862",
            "4de47b09b3b0415f8675541e0cdbd2fa",
            "dd0cdb63ccd040928324f03a4e3d4e43",
            "fa4d09073afb4f74b5dd636a1e6e1a4c",
            "6ac14fb73e044736aebd4d5971b3494b",
            "941fb47a6d014722a55b4def01225aab",
            "1855d1d77127447c98990a73acc8737a",
            "3e9517200e1c404da7485053f66191d9",
            "2ec03d7d97b74574881e707363953b3a",
            "09134015f92141cb8e63a2c4645b9d0d"
          ]
        },
        "id": "JU0zzCTNx8eZ",
        "outputId": "02b3a6f5-abc1-4bab-a85c-05495c6f4909"
      },
      "execution_count": null,
      "outputs": [
        {
          "output_type": "stream",
          "name": "stdout",
          "text": [
            "Create sweep with ID: kxplw9tn\n",
            "Sweep URL: https://wandb.ai/gugi200/restnet-customData/sweeps/kxplw9tn\n"
          ]
        },
        {
          "output_type": "stream",
          "name": "stderr",
          "text": [
            "\u001b[34m\u001b[1mwandb\u001b[0m: Agent Starting Run: j91fxy4n with config:\n",
            "\u001b[34m\u001b[1mwandb\u001b[0m: \tbatch_size: 16\n",
            "\u001b[34m\u001b[1mwandb\u001b[0m: \tepochs: 5\n",
            "\u001b[34m\u001b[1mwandb\u001b[0m: \tfc_layer_size: 8\n",
            "\u001b[34m\u001b[1mwandb\u001b[0m: \tlearning_rate: 0.01\n",
            "\u001b[34m\u001b[1mwandb\u001b[0m: \toptimizer: adam\n"
          ]
        },
        {
          "output_type": "display_data",
          "data": {
            "text/plain": [
              "<IPython.core.display.HTML object>"
            ],
            "text/html": [
              "Tracking run with wandb version 0.16.2"
            ]
          },
          "metadata": {}
        },
        {
          "output_type": "display_data",
          "data": {
            "text/plain": [
              "<IPython.core.display.HTML object>"
            ],
            "text/html": [
              "Run data is saved locally in <code>/content/wandb/run-20240205_155542-j91fxy4n</code>"
            ]
          },
          "metadata": {}
        },
        {
          "output_type": "display_data",
          "data": {
            "text/plain": [
              "<IPython.core.display.HTML object>"
            ],
            "text/html": [
              "Syncing run <strong><a href='https://wandb.ai/gugi200/restnet-customData/runs/j91fxy4n' target=\"_blank\">sage-sweep-1</a></strong> to <a href='https://wandb.ai/gugi200/restnet-customData' target=\"_blank\">Weights & Biases</a> (<a href='https://wandb.me/run' target=\"_blank\">docs</a>)<br/>Sweep page: <a href='https://wandb.ai/gugi200/restnet-customData/sweeps/kxplw9tn' target=\"_blank\">https://wandb.ai/gugi200/restnet-customData/sweeps/kxplw9tn</a>"
            ]
          },
          "metadata": {}
        },
        {
          "output_type": "display_data",
          "data": {
            "text/plain": [
              "<IPython.core.display.HTML object>"
            ],
            "text/html": [
              " View project at <a href='https://wandb.ai/gugi200/restnet-customData' target=\"_blank\">https://wandb.ai/gugi200/restnet-customData</a>"
            ]
          },
          "metadata": {}
        },
        {
          "output_type": "display_data",
          "data": {
            "text/plain": [
              "<IPython.core.display.HTML object>"
            ],
            "text/html": [
              " View sweep at <a href='https://wandb.ai/gugi200/restnet-customData/sweeps/kxplw9tn' target=\"_blank\">https://wandb.ai/gugi200/restnet-customData/sweeps/kxplw9tn</a>"
            ]
          },
          "metadata": {}
        },
        {
          "output_type": "display_data",
          "data": {
            "text/plain": [
              "<IPython.core.display.HTML object>"
            ],
            "text/html": [
              " View run at <a href='https://wandb.ai/gugi200/restnet-customData/runs/j91fxy4n' target=\"_blank\">https://wandb.ai/gugi200/restnet-customData/runs/j91fxy4n</a>"
            ]
          },
          "metadata": {}
        },
        {
          "output_type": "stream",
          "name": "stdout",
          "text": [
            "[0.01]\n",
            "Train loss: 1.1293, Train acc: 56.8107%\n",
            "Test loss: 0.6669  |  Test acc: 75.7037%\n",
            "[0.01]\n",
            "Train loss: 0.6342, Train acc: 77.5472%\n",
            "Test loss: 0.5126  |  Test acc: 81.5527%\n",
            "[0.01]\n",
            "Train loss: 0.4512, Train acc: 84.4511%\n",
            "Test loss: 0.5980  |  Test acc: 81.9764%\n",
            "[0.01]\n",
            "Train loss: 0.3494, Train acc: 87.9910%\n",
            "Test loss: 0.4218  |  Test acc: 86.9022%\n",
            "[0.01]\n",
            "Train loss: 0.2483, Train acc: 91.5191%\n",
            "Test loss: 0.2214  |  Test acc: 92.6831%\n"
          ]
        },
        {
          "output_type": "display_data",
          "data": {
            "text/plain": [
              "VBox(children=(Label(value='0.001 MB of 0.001 MB uploaded\\r'), FloatProgress(value=1.0, max=1.0)))"
            ],
            "application/vnd.jupyter.widget-view+json": {
              "version_major": 2,
              "version_minor": 0,
              "model_id": "dab2797483124f628cced183ac7bc39f"
            }
          },
          "metadata": {}
        },
        {
          "output_type": "display_data",
          "data": {
            "text/plain": [
              "<IPython.core.display.HTML object>"
            ],
            "text/html": [
              "<style>\n",
              "    table.wandb td:nth-child(1) { padding: 0 10px; text-align: left ; width: auto;} td:nth-child(2) {text-align: left ; width: 100%}\n",
              "    .wandb-row { display: flex; flex-direction: row; flex-wrap: wrap; justify-content: flex-start; width: 100% }\n",
              "    .wandb-col { display: flex; flex-direction: column; flex-basis: 100%; flex: 1; padding: 10px; }\n",
              "    </style>\n",
              "<div class=\"wandb-row\"><div class=\"wandb-col\"><h3>Run history:</h3><br/><table class=\"wandb\"><tr><td>accuracy</td><td>▂▂▁▅▆▄▅▅▄█▇▅▆▆▇▅▇▅▅█▅▇▆▇▇▅█▇▇▇▇█▇▇▇█▇▇▇█</td></tr><tr><td>average test batch loss</td><td>█▆▇▄▁</td></tr><tr><td>average test batch metric</td><td>▁▃▄▆█</td></tr><tr><td>average train batch loss</td><td>█▄▃▂▁</td></tr><tr><td>average train batch metric</td><td>▁▅▇▇█</td></tr><tr><td>epoch</td><td>▁▃▅▆█</td></tr><tr><td>loss</td><td>█▇█▄▃▆▅▆▄▂▃▄▃▂▂▆▂▄▄▁▄▂▃▃▂▅▁▅▂▁▂▁▂▂▂▁▄▂▂▁</td></tr><tr><td>test accuracy</td><td>▁▅▂▃▅▆▅▇▅▅▂▂▇▆▆▆▂▇█▆▂▃▆▃█▆▅▅▆▆▇▆▆▇████▇▆</td></tr><tr><td>test loss</td><td>█▃▃▄▃▃▃▂▃▅▄▅▂▃▃▂▄▂▁▂▄▄▂▃▁▂▃▄▂▂▂▃▂▁▁▁▁▁▂▂</td></tr><tr><td>train time</td><td>▁</td></tr></table><br/></div><div class=\"wandb-col\"><h3>Run summary:</h3><br/><table class=\"wandb\"><tr><td>accuracy</td><td>1.0</td></tr><tr><td>average test batch loss</td><td>0.22137</td></tr><tr><td>average test batch metric</td><td>0.92683</td></tr><tr><td>average train batch loss</td><td>0.2483</td></tr><tr><td>average train batch metric</td><td>0.91519</td></tr><tr><td>epoch</td><td>4</td></tr><tr><td>loss</td><td>0.02915</td></tr><tr><td>test accuracy</td><td>0.92857</td></tr><tr><td>test loss</td><td>0.3826</td></tr><tr><td>train time</td><td>372.08983</td></tr></table><br/></div></div>"
            ]
          },
          "metadata": {}
        },
        {
          "output_type": "display_data",
          "data": {
            "text/plain": [
              "<IPython.core.display.HTML object>"
            ],
            "text/html": [
              " View run <strong style=\"color:#cdcd00\">sage-sweep-1</strong> at: <a href='https://wandb.ai/gugi200/restnet-customData/runs/j91fxy4n' target=\"_blank\">https://wandb.ai/gugi200/restnet-customData/runs/j91fxy4n</a><br/>Synced 5 W&B file(s), 0 media file(s), 0 artifact file(s) and 0 other file(s)"
            ]
          },
          "metadata": {}
        },
        {
          "output_type": "display_data",
          "data": {
            "text/plain": [
              "<IPython.core.display.HTML object>"
            ],
            "text/html": [
              "Find logs at: <code>./wandb/run-20240205_155542-j91fxy4n/logs</code>"
            ]
          },
          "metadata": {}
        },
        {
          "output_type": "stream",
          "name": "stderr",
          "text": [
            "\u001b[34m\u001b[1mwandb\u001b[0m: Sweep Agent: Waiting for job.\n",
            "\u001b[34m\u001b[1mwandb\u001b[0m: Job received.\n",
            "\u001b[34m\u001b[1mwandb\u001b[0m: Agent Starting Run: z7qpogz2 with config:\n",
            "\u001b[34m\u001b[1mwandb\u001b[0m: \tbatch_size: 16\n",
            "\u001b[34m\u001b[1mwandb\u001b[0m: \tepochs: 5\n",
            "\u001b[34m\u001b[1mwandb\u001b[0m: \tfc_layer_size: 8\n",
            "\u001b[34m\u001b[1mwandb\u001b[0m: \tlearning_rate: 0.01\n",
            "\u001b[34m\u001b[1mwandb\u001b[0m: \toptimizer: sgd\n"
          ]
        },
        {
          "output_type": "display_data",
          "data": {
            "text/plain": [
              "<IPython.core.display.HTML object>"
            ],
            "text/html": [
              "Tracking run with wandb version 0.16.2"
            ]
          },
          "metadata": {}
        },
        {
          "output_type": "display_data",
          "data": {
            "text/plain": [
              "<IPython.core.display.HTML object>"
            ],
            "text/html": [
              "Run data is saved locally in <code>/content/wandb/run-20240205_160212-z7qpogz2</code>"
            ]
          },
          "metadata": {}
        },
        {
          "output_type": "display_data",
          "data": {
            "text/plain": [
              "<IPython.core.display.HTML object>"
            ],
            "text/html": [
              "Syncing run <strong><a href='https://wandb.ai/gugi200/restnet-customData/runs/z7qpogz2' target=\"_blank\">visionary-sweep-2</a></strong> to <a href='https://wandb.ai/gugi200/restnet-customData' target=\"_blank\">Weights & Biases</a> (<a href='https://wandb.me/run' target=\"_blank\">docs</a>)<br/>Sweep page: <a href='https://wandb.ai/gugi200/restnet-customData/sweeps/kxplw9tn' target=\"_blank\">https://wandb.ai/gugi200/restnet-customData/sweeps/kxplw9tn</a>"
            ]
          },
          "metadata": {}
        },
        {
          "output_type": "display_data",
          "data": {
            "text/plain": [
              "<IPython.core.display.HTML object>"
            ],
            "text/html": [
              " View project at <a href='https://wandb.ai/gugi200/restnet-customData' target=\"_blank\">https://wandb.ai/gugi200/restnet-customData</a>"
            ]
          },
          "metadata": {}
        },
        {
          "output_type": "display_data",
          "data": {
            "text/plain": [
              "<IPython.core.display.HTML object>"
            ],
            "text/html": [
              " View sweep at <a href='https://wandb.ai/gugi200/restnet-customData/sweeps/kxplw9tn' target=\"_blank\">https://wandb.ai/gugi200/restnet-customData/sweeps/kxplw9tn</a>"
            ]
          },
          "metadata": {}
        },
        {
          "output_type": "display_data",
          "data": {
            "text/plain": [
              "<IPython.core.display.HTML object>"
            ],
            "text/html": [
              " View run at <a href='https://wandb.ai/gugi200/restnet-customData/runs/z7qpogz2' target=\"_blank\">https://wandb.ai/gugi200/restnet-customData/runs/z7qpogz2</a>"
            ]
          },
          "metadata": {}
        },
        {
          "output_type": "stream",
          "name": "stdout",
          "text": [
            "[0.01]\n",
            "Train loss: 0.6027, Train acc: 78.5399%\n",
            "Test loss: 0.2003  |  Test acc: 92.9555%\n",
            "[0.01]\n",
            "Train loss: 0.1401, Train acc: 95.4851%\n",
            "Test loss: 0.1142  |  Test acc: 96.6102%\n",
            "[0.01]\n",
            "Train loss: 0.0654, Train acc: 97.9804%\n",
            "Test loss: 0.1055  |  Test acc: 96.6102%\n",
            "[0.001]\n",
            "Train loss: 0.0291, Train acc: 99.2918%\n",
            "Test loss: 0.0637  |  Test acc: 98.5699%\n",
            "[0.001]\n",
            "Train loss: 0.0145, Train acc: 99.7698%\n",
            "Test loss: 0.0591  |  Test acc: 98.5699%\n"
          ]
        },
        {
          "output_type": "display_data",
          "data": {
            "text/plain": [
              "VBox(children=(Label(value='0.011 MB of 0.011 MB uploaded\\r'), FloatProgress(value=1.0, max=1.0)))"
            ],
            "application/vnd.jupyter.widget-view+json": {
              "version_major": 2,
              "version_minor": 0,
              "model_id": "1cab16eee93e45e3b8e0a64886e0b417"
            }
          },
          "metadata": {}
        },
        {
          "output_type": "display_data",
          "data": {
            "text/plain": [
              "<IPython.core.display.HTML object>"
            ],
            "text/html": [
              "<style>\n",
              "    table.wandb td:nth-child(1) { padding: 0 10px; text-align: left ; width: auto;} td:nth-child(2) {text-align: left ; width: 100%}\n",
              "    .wandb-row { display: flex; flex-direction: row; flex-wrap: wrap; justify-content: flex-start; width: 100% }\n",
              "    .wandb-col { display: flex; flex-direction: column; flex-basis: 100%; flex: 1; padding: 10px; }\n",
              "    </style>\n",
              "<div class=\"wandb-row\"><div class=\"wandb-col\"><h3>Run history:</h3><br/><table class=\"wandb\"><tr><td>accuracy</td><td>▁▅▅▆▆██▇██████▇█████████████████████████</td></tr><tr><td>average test batch loss</td><td>█▄▃▁▁</td></tr><tr><td>average test batch metric</td><td>▁▆▆██</td></tr><tr><td>average train batch loss</td><td>█▂▂▁▁</td></tr><tr><td>average train batch metric</td><td>▁▇▇██</td></tr><tr><td>epoch</td><td>▁▃▅▆█</td></tr><tr><td>loss</td><td>█▄▃▃▃▂▁▂▁▁▁▂▁▁▂▂▁▁▁▁▁▁▁▁▁▁▁▂▁▁▁▁▁▁▁▁▁▁▁▁</td></tr><tr><td>test accuracy</td><td>▃▆▃▃█▁▁▆▆▆█████▃▃▆█████▆█▆▆████████████▃</td></tr><tr><td>test loss</td><td>█▃▆▆▃▅▇▃▂▄▁▂▁▂▂▅▃▂▁▁▁▁▁▃▁▄▃▁▁▂▁▁▁▁▂▂▁▁▁▄</td></tr><tr><td>train time</td><td>▁</td></tr></table><br/></div><div class=\"wandb-col\"><h3>Run summary:</h3><br/><table class=\"wandb\"><tr><td>accuracy</td><td>1.0</td></tr><tr><td>average test batch loss</td><td>0.05912</td></tr><tr><td>average test batch metric</td><td>0.9857</td></tr><tr><td>average train batch loss</td><td>0.01447</td></tr><tr><td>average train batch metric</td><td>0.9977</td></tr><tr><td>epoch</td><td>4</td></tr><tr><td>loss</td><td>0.02845</td></tr><tr><td>test accuracy</td><td>1.0</td></tr><tr><td>test loss</td><td>0.00789</td></tr><tr><td>train time</td><td>369.31034</td></tr></table><br/></div></div>"
            ]
          },
          "metadata": {}
        },
        {
          "output_type": "display_data",
          "data": {
            "text/plain": [
              "<IPython.core.display.HTML object>"
            ],
            "text/html": [
              " View run <strong style=\"color:#cdcd00\">visionary-sweep-2</strong> at: <a href='https://wandb.ai/gugi200/restnet-customData/runs/z7qpogz2' target=\"_blank\">https://wandb.ai/gugi200/restnet-customData/runs/z7qpogz2</a><br/>Synced 5 W&B file(s), 0 media file(s), 0 artifact file(s) and 0 other file(s)"
            ]
          },
          "metadata": {}
        },
        {
          "output_type": "display_data",
          "data": {
            "text/plain": [
              "<IPython.core.display.HTML object>"
            ],
            "text/html": [
              "Find logs at: <code>./wandb/run-20240205_160212-z7qpogz2/logs</code>"
            ]
          },
          "metadata": {}
        },
        {
          "output_type": "stream",
          "name": "stderr",
          "text": [
            "\u001b[34m\u001b[1mwandb\u001b[0m: Agent Starting Run: b7hs8u61 with config:\n",
            "\u001b[34m\u001b[1mwandb\u001b[0m: \tbatch_size: 32\n",
            "\u001b[34m\u001b[1mwandb\u001b[0m: \tepochs: 5\n",
            "\u001b[34m\u001b[1mwandb\u001b[0m: \tfc_layer_size: 8\n",
            "\u001b[34m\u001b[1mwandb\u001b[0m: \tlearning_rate: 0.01\n",
            "\u001b[34m\u001b[1mwandb\u001b[0m: \toptimizer: adam\n"
          ]
        },
        {
          "output_type": "display_data",
          "data": {
            "text/plain": [
              "VBox(children=(Label(value='Waiting for wandb.init()...\\r'), FloatProgress(value=0.011112734444443757, max=1.0…"
            ],
            "application/vnd.jupyter.widget-view+json": {
              "version_major": 2,
              "version_minor": 0,
              "model_id": "ae503938d8dd4fd2a567694cd3348f37"
            }
          },
          "metadata": {}
        },
        {
          "output_type": "display_data",
          "data": {
            "text/plain": [
              "<IPython.core.display.HTML object>"
            ],
            "text/html": [
              "Tracking run with wandb version 0.16.2"
            ]
          },
          "metadata": {}
        },
        {
          "output_type": "display_data",
          "data": {
            "text/plain": [
              "<IPython.core.display.HTML object>"
            ],
            "text/html": [
              "Run data is saved locally in <code>/content/wandb/run-20240205_160833-b7hs8u61</code>"
            ]
          },
          "metadata": {}
        },
        {
          "output_type": "display_data",
          "data": {
            "text/plain": [
              "<IPython.core.display.HTML object>"
            ],
            "text/html": [
              "Syncing run <strong><a href='https://wandb.ai/gugi200/restnet-customData/runs/b7hs8u61' target=\"_blank\">vivid-sweep-3</a></strong> to <a href='https://wandb.ai/gugi200/restnet-customData' target=\"_blank\">Weights & Biases</a> (<a href='https://wandb.me/run' target=\"_blank\">docs</a>)<br/>Sweep page: <a href='https://wandb.ai/gugi200/restnet-customData/sweeps/kxplw9tn' target=\"_blank\">https://wandb.ai/gugi200/restnet-customData/sweeps/kxplw9tn</a>"
            ]
          },
          "metadata": {}
        },
        {
          "output_type": "display_data",
          "data": {
            "text/plain": [
              "<IPython.core.display.HTML object>"
            ],
            "text/html": [
              " View project at <a href='https://wandb.ai/gugi200/restnet-customData' target=\"_blank\">https://wandb.ai/gugi200/restnet-customData</a>"
            ]
          },
          "metadata": {}
        },
        {
          "output_type": "display_data",
          "data": {
            "text/plain": [
              "<IPython.core.display.HTML object>"
            ],
            "text/html": [
              " View sweep at <a href='https://wandb.ai/gugi200/restnet-customData/sweeps/kxplw9tn' target=\"_blank\">https://wandb.ai/gugi200/restnet-customData/sweeps/kxplw9tn</a>"
            ]
          },
          "metadata": {}
        },
        {
          "output_type": "display_data",
          "data": {
            "text/plain": [
              "<IPython.core.display.HTML object>"
            ],
            "text/html": [
              " View run at <a href='https://wandb.ai/gugi200/restnet-customData/runs/b7hs8u61' target=\"_blank\">https://wandb.ai/gugi200/restnet-customData/runs/b7hs8u61</a>"
            ]
          },
          "metadata": {}
        },
        {
          "output_type": "stream",
          "name": "stdout",
          "text": [
            "[0.01]\n",
            "Train loss: 1.2640, Train acc: 52.5459%\n",
            "Test loss: 1.0252  |  Test acc: 65.3178%\n",
            "[0.01]\n",
            "Train loss: 0.7334, Train acc: 73.9536%\n",
            "Test loss: 1.1689  |  Test acc: 59.9258%\n",
            "[0.01]\n",
            "Train loss: 0.5184, Train acc: 81.8432%\n",
            "Test loss: 0.5071  |  Test acc: 82.0198%\n",
            "[0.01]\n",
            "Train loss: 0.3257, Train acc: 88.9807%\n",
            "Test loss: 0.2578  |  Test acc: 92.0480%\n",
            "[0.01]\n",
            "Train loss: 0.2803, Train acc: 90.5497%\n",
            "Test loss: 0.3213  |  Test acc: 89.3008%\n"
          ]
        },
        {
          "output_type": "display_data",
          "data": {
            "text/plain": [
              "VBox(children=(Label(value='0.001 MB of 0.001 MB uploaded\\r'), FloatProgress(value=1.0, max=1.0)))"
            ],
            "application/vnd.jupyter.widget-view+json": {
              "version_major": 2,
              "version_minor": 0,
              "model_id": "6a9ea9c0f21045f3b978d21f884f1d5f"
            }
          },
          "metadata": {}
        },
        {
          "output_type": "display_data",
          "data": {
            "text/plain": [
              "<IPython.core.display.HTML object>"
            ],
            "text/html": [
              "<style>\n",
              "    table.wandb td:nth-child(1) { padding: 0 10px; text-align: left ; width: auto;} td:nth-child(2) {text-align: left ; width: 100%}\n",
              "    .wandb-row { display: flex; flex-direction: row; flex-wrap: wrap; justify-content: flex-start; width: 100% }\n",
              "    .wandb-col { display: flex; flex-direction: column; flex-basis: 100%; flex: 1; padding: 10px; }\n",
              "    </style>\n",
              "<div class=\"wandb-row\"><div class=\"wandb-col\"><h3>Run history:</h3><br/><table class=\"wandb\"><tr><td>accuracy</td><td>▂▁▅▄▅▄▄▆▆▆▄▅▆▆▆▅▅▆▆▇▆▆▇▇▇▆█▇▇██▇████▆██▇</td></tr><tr><td>average test batch loss</td><td>▇█▃▁▁</td></tr><tr><td>average test batch metric</td><td>▂▁▆█▇</td></tr><tr><td>average train batch loss</td><td>█▄▃▁▁</td></tr><tr><td>average train batch metric</td><td>▁▅▆██</td></tr><tr><td>epoch</td><td>▁▃▅▆█</td></tr><tr><td>loss</td><td>█▇▅▅▅▅▅▅▄▃▄▄▄▃▃▇▅▃▃▂▃▄▂▃▂▂▁▂▂▁▁▁▂▂▁▁▃▁▂▂</td></tr><tr><td>test accuracy</td><td>▅▄▁▃▃▄▂▂▂▃▂▃▃▂▂▁▃▇▆▅▅▅▃▆▇▅▆▇▇███▆▅▆▆▆█▇▇</td></tr><tr><td>test loss</td><td>▄▅▅▅▄▄▅▅█▅▄▅▆▄▆▆▄▂▂▂▃▄▃▂▁▂▂▂▁▂▁▁▂▃▃▂▂▁▂▂</td></tr><tr><td>train time</td><td>▁</td></tr></table><br/></div><div class=\"wandb-col\"><h3>Run summary:</h3><br/><table class=\"wandb\"><tr><td>accuracy</td><td>0.86667</td></tr><tr><td>average test batch loss</td><td>0.32127</td></tr><tr><td>average test batch metric</td><td>0.89301</td></tr><tr><td>average train batch loss</td><td>0.28031</td></tr><tr><td>average train batch metric</td><td>0.9055</td></tr><tr><td>epoch</td><td>4</td></tr><tr><td>loss</td><td>0.71021</td></tr><tr><td>test accuracy</td><td>1.0</td></tr><tr><td>test loss</td><td>0.15277</td></tr><tr><td>train time</td><td>366.97089</td></tr></table><br/></div></div>"
            ]
          },
          "metadata": {}
        },
        {
          "output_type": "display_data",
          "data": {
            "text/plain": [
              "<IPython.core.display.HTML object>"
            ],
            "text/html": [
              " View run <strong style=\"color:#cdcd00\">vivid-sweep-3</strong> at: <a href='https://wandb.ai/gugi200/restnet-customData/runs/b7hs8u61' target=\"_blank\">https://wandb.ai/gugi200/restnet-customData/runs/b7hs8u61</a><br/>Synced 5 W&B file(s), 0 media file(s), 0 artifact file(s) and 0 other file(s)"
            ]
          },
          "metadata": {}
        },
        {
          "output_type": "display_data",
          "data": {
            "text/plain": [
              "<IPython.core.display.HTML object>"
            ],
            "text/html": [
              "Find logs at: <code>./wandb/run-20240205_160833-b7hs8u61/logs</code>"
            ]
          },
          "metadata": {}
        },
        {
          "output_type": "stream",
          "name": "stderr",
          "text": [
            "\u001b[34m\u001b[1mwandb\u001b[0m: Agent Starting Run: 5rcf8j90 with config:\n",
            "\u001b[34m\u001b[1mwandb\u001b[0m: \tbatch_size: 32\n",
            "\u001b[34m\u001b[1mwandb\u001b[0m: \tepochs: 5\n",
            "\u001b[34m\u001b[1mwandb\u001b[0m: \tfc_layer_size: 8\n",
            "\u001b[34m\u001b[1mwandb\u001b[0m: \tlearning_rate: 0.01\n",
            "\u001b[34m\u001b[1mwandb\u001b[0m: \toptimizer: sgd\n"
          ]
        },
        {
          "output_type": "display_data",
          "data": {
            "text/plain": [
              "<IPython.core.display.HTML object>"
            ],
            "text/html": [
              "Tracking run with wandb version 0.16.2"
            ]
          },
          "metadata": {}
        },
        {
          "output_type": "display_data",
          "data": {
            "text/plain": [
              "<IPython.core.display.HTML object>"
            ],
            "text/html": [
              "Run data is saved locally in <code>/content/wandb/run-20240205_161453-5rcf8j90</code>"
            ]
          },
          "metadata": {}
        },
        {
          "output_type": "display_data",
          "data": {
            "text/plain": [
              "<IPython.core.display.HTML object>"
            ],
            "text/html": [
              "Syncing run <strong><a href='https://wandb.ai/gugi200/restnet-customData/runs/5rcf8j90' target=\"_blank\">fanciful-sweep-4</a></strong> to <a href='https://wandb.ai/gugi200/restnet-customData' target=\"_blank\">Weights & Biases</a> (<a href='https://wandb.me/run' target=\"_blank\">docs</a>)<br/>Sweep page: <a href='https://wandb.ai/gugi200/restnet-customData/sweeps/kxplw9tn' target=\"_blank\">https://wandb.ai/gugi200/restnet-customData/sweeps/kxplw9tn</a>"
            ]
          },
          "metadata": {}
        },
        {
          "output_type": "display_data",
          "data": {
            "text/plain": [
              "<IPython.core.display.HTML object>"
            ],
            "text/html": [
              " View project at <a href='https://wandb.ai/gugi200/restnet-customData' target=\"_blank\">https://wandb.ai/gugi200/restnet-customData</a>"
            ]
          },
          "metadata": {}
        },
        {
          "output_type": "display_data",
          "data": {
            "text/plain": [
              "<IPython.core.display.HTML object>"
            ],
            "text/html": [
              " View sweep at <a href='https://wandb.ai/gugi200/restnet-customData/sweeps/kxplw9tn' target=\"_blank\">https://wandb.ai/gugi200/restnet-customData/sweeps/kxplw9tn</a>"
            ]
          },
          "metadata": {}
        },
        {
          "output_type": "display_data",
          "data": {
            "text/plain": [
              "<IPython.core.display.HTML object>"
            ],
            "text/html": [
              " View run at <a href='https://wandb.ai/gugi200/restnet-customData/runs/5rcf8j90' target=\"_blank\">https://wandb.ai/gugi200/restnet-customData/runs/5rcf8j90</a>"
            ]
          },
          "metadata": {}
        },
        {
          "output_type": "stream",
          "name": "stdout",
          "text": [
            "[0.01]\n",
            "Train loss: 0.7267, Train acc: 74.2561%\n",
            "Test loss: 0.2804  |  Test acc: 91.0840%\n",
            "[0.01]\n",
            "Train loss: 0.1318, Train acc: 95.6921%\n",
            "Test loss: 0.1374  |  Test acc: 95.9146%\n",
            "[0.01]\n",
            "Train loss: 0.0540, Train acc: 98.4110%\n",
            "Test loss: 0.0840  |  Test acc: 97.7684%\n",
            "[0.001]\n",
            "Train loss: 0.0263, Train acc: 99.3621%\n",
            "Test loss: 0.0613  |  Test acc: 98.4075%\n",
            "[0.001]\n",
            "Train loss: 0.0137, Train acc: 99.7858%\n",
            "Test loss: 0.0623  |  Test acc: 98.4110%\n"
          ]
        },
        {
          "output_type": "display_data",
          "data": {
            "text/plain": [
              "VBox(children=(Label(value='0.001 MB of 0.001 MB uploaded\\r'), FloatProgress(value=1.0, max=1.0)))"
            ],
            "application/vnd.jupyter.widget-view+json": {
              "version_major": 2,
              "version_minor": 0,
              "model_id": "dd0cdb63ccd040928324f03a4e3d4e43"
            }
          },
          "metadata": {}
        },
        {
          "output_type": "display_data",
          "data": {
            "text/plain": [
              "<IPython.core.display.HTML object>"
            ],
            "text/html": [
              "<style>\n",
              "    table.wandb td:nth-child(1) { padding: 0 10px; text-align: left ; width: auto;} td:nth-child(2) {text-align: left ; width: 100%}\n",
              "    .wandb-row { display: flex; flex-direction: row; flex-wrap: wrap; justify-content: flex-start; width: 100% }\n",
              "    .wandb-col { display: flex; flex-direction: column; flex-basis: 100%; flex: 1; padding: 10px; }\n",
              "    </style>\n",
              "<div class=\"wandb-row\"><div class=\"wandb-col\"><h3>Run history:</h3><br/><table class=\"wandb\"><tr><td>accuracy</td><td>▁▂▄▆▆▆▆▆▇█▇██▇██████████████████████████</td></tr><tr><td>average test batch loss</td><td>█▃▂▁▁</td></tr><tr><td>average test batch metric</td><td>▁▆▇██</td></tr><tr><td>average train batch loss</td><td>█▂▁▁▁</td></tr><tr><td>average train batch metric</td><td>▁▇███</td></tr><tr><td>epoch</td><td>▁▃▅▆█</td></tr><tr><td>loss</td><td>█▇▅▃▃▂▃▂▂▁▂▁▁▂▁▁▁▁▁▁▁▁▁▁▁▁▁▁▁▁▁▁▁▁▁▁▁▁▁▁</td></tr><tr><td>test accuracy</td><td>▇▅▅▇█▂▁▅▆▇▆█▆▅▇▇███▇██▇▇████▇▇█▇█▇█▆█▇▆█</td></tr><tr><td>test loss</td><td>▂▄▃▃▁▄█▄▂▁▂▁▂▄▂▂▁▁▁▁▂▂▁▂▁▁▁▁▁▁▁▃▁▁▁▂▁▂▂▁</td></tr><tr><td>train time</td><td>▁</td></tr></table><br/></div><div class=\"wandb-col\"><h3>Run summary:</h3><br/><table class=\"wandb\"><tr><td>accuracy</td><td>0.93333</td></tr><tr><td>average test batch loss</td><td>0.06231</td></tr><tr><td>average test batch metric</td><td>0.98411</td></tr><tr><td>average train batch loss</td><td>0.01372</td></tr><tr><td>average train batch metric</td><td>0.99786</td></tr><tr><td>epoch</td><td>4</td></tr><tr><td>loss</td><td>0.34137</td></tr><tr><td>test accuracy</td><td>1.0</td></tr><tr><td>test loss</td><td>0.0062</td></tr><tr><td>train time</td><td>368.62886</td></tr></table><br/></div></div>"
            ]
          },
          "metadata": {}
        },
        {
          "output_type": "display_data",
          "data": {
            "text/plain": [
              "<IPython.core.display.HTML object>"
            ],
            "text/html": [
              " View run <strong style=\"color:#cdcd00\">fanciful-sweep-4</strong> at: <a href='https://wandb.ai/gugi200/restnet-customData/runs/5rcf8j90' target=\"_blank\">https://wandb.ai/gugi200/restnet-customData/runs/5rcf8j90</a><br/>Synced 5 W&B file(s), 0 media file(s), 0 artifact file(s) and 0 other file(s)"
            ]
          },
          "metadata": {}
        },
        {
          "output_type": "display_data",
          "data": {
            "text/plain": [
              "<IPython.core.display.HTML object>"
            ],
            "text/html": [
              "Find logs at: <code>./wandb/run-20240205_161453-5rcf8j90/logs</code>"
            ]
          },
          "metadata": {}
        },
        {
          "output_type": "stream",
          "name": "stderr",
          "text": [
            "\u001b[34m\u001b[1mwandb\u001b[0m: Sweep Agent: Waiting for job.\n",
            "\u001b[34m\u001b[1mwandb\u001b[0m: Sweep Agent: Exiting.\n"
          ]
        }
      ]
    },
    {
      "cell_type": "markdown",
      "source": [
        "## alexnet"
      ],
      "metadata": {
        "id": "5JCgRBSLyAf4"
      }
    },
    {
      "cell_type": "code",
      "source": [
        "def train_model_alexnet(config=None):\n",
        "    with wandb.init(config=config):\n",
        "\n",
        "        mean=[0.485, 0.456, 0.406]\n",
        "        std=[0.229, 0.224, 0.225]\n",
        "        tranform = transforms.Compose([\n",
        "            expMapping(4),\n",
        "            softThreshold(30, 255),\n",
        "            transforms.Resize(size=(224, 224)),\n",
        "            transforms.ToTensor(),\n",
        "            transforms.Normalize(mean=mean, std=std)\n",
        "        ])\n",
        "\n",
        "        config = wandb.config\n",
        "\n",
        "        train_dataloader, class_names, _ = create_dataset(path=Path(\"train_raw\"),\n",
        "                                                          batchsize=config.batch_size,\n",
        "                                                          preprocess=tranform)\n",
        "\n",
        "        test_dataloader, _ , _ = create_dataset(path=Path(\"test_raw\"),\n",
        "                                                batchsize=config.batch_size,\n",
        "                                                preprocess=tranform)\n",
        "\n",
        "        weight = list(torchvision.models.get_model_weights('alexnet'))[-1]\n",
        "        model = torch.hub.load('pytorch/vision', 'alexnet', weight).to(device)\n",
        "        model.classifier[6] = nn.Linear(4096 , config.fc_layer_size).to(device)\n",
        "\n",
        "        train_test_loop(config=config,\n",
        "                        model=model,\n",
        "                        train_dataloader=train_dataloader,\n",
        "                        test_dataloader=test_dataloader,\n",
        "                        class_names=class_names,\n",
        "                        device=device\n",
        "                        )\n",
        "    return model\n",
        "\n",
        "\n",
        "# alexnet pipeline\n",
        "sweep_id_alexnet = wandb.sweep(sweep_config, project=\"alexnet-customData\")\n",
        "wandb.agent(sweep_id_alexnet, train_model_alexnet)"
      ],
      "metadata": {
        "colab": {
          "base_uri": "https://localhost:8080/",
          "height": 1000,
          "referenced_widgets": [
            "9227b78c9b0a4ab39909f7ebe6022968",
            "7d4644e2fc604b6c8bab32a42b461c94",
            "74437730786a487482b323f85880ef37",
            "10db90c7f7c1442a9f37378579ce5169",
            "64427a1eb4c54f8e93913c11817b9468",
            "fb9f2f2a909344d2bd69a8528b47a7e3",
            "1eb3e010e65b43dd91632117275d191b",
            "991b7e84ea7740bca6c8f4b46cc41520",
            "99378d88d9654e86bd8f2d5de35a4927",
            "9fd5445e78b94e6fa624740e516f4719",
            "b21417beaedc473c882d4079dcfdbd79",
            "80777c7753c940f2b93d0abd324d91a3",
            "b34be4d9912840eabddcd8f708727be1",
            "efb13619cac04b509378d5ff137c156f",
            "d422a1799c044feabe19c3e5a93993b6",
            "055881ab2f9e401f8b5e32bdd1580e85",
            "271a8be4d6654a40aee4d0681f00a490",
            "74898a5d3fcc49de9afe3239a1deed21",
            "947704a703514ea98ac0ec556a7b11d2",
            "0feef571d8114ea7b25a9826eb9155d9",
            "0c30ddfcf87c4602856297fcf3a47e77",
            "0eb9a5b8d2014275822f68a0ac22f9a0",
            "1147695019d746c99d9aade7f5aaca53",
            "625864cd4dc54448b71073943d229fb9",
            "905692c3d1e94495a9019a3d82f974f4",
            "a54765919b564c04ac564052ece88301",
            "73bf46508f6647c180dbc4147c0348a7",
            "f3cf02b7529d46ff95850f64f53e34ba",
            "42e5e0e64d984af6a64f0b0760c85014",
            "2f84152403da4278adaeddc27c9ead2a",
            "12ae48b9f1b2467eaf8303b444484892",
            "69271741670e476c99230f104eaf4443"
          ]
        },
        "id": "tcaCzVo4yDvo",
        "outputId": "bb7ef003-b636-4a2c-ddb5-81cded7a1f2b"
      },
      "execution_count": null,
      "outputs": [
        {
          "output_type": "stream",
          "name": "stdout",
          "text": [
            "Create sweep with ID: rs2ja1ip\n",
            "Sweep URL: https://wandb.ai/gugi200/alexnet-customData/sweeps/rs2ja1ip\n"
          ]
        },
        {
          "output_type": "stream",
          "name": "stderr",
          "text": [
            "\u001b[34m\u001b[1mwandb\u001b[0m: Agent Starting Run: m2zmxyet with config:\n",
            "\u001b[34m\u001b[1mwandb\u001b[0m: \tbatch_size: 16\n",
            "\u001b[34m\u001b[1mwandb\u001b[0m: \tepochs: 5\n",
            "\u001b[34m\u001b[1mwandb\u001b[0m: \tfc_layer_size: 8\n",
            "\u001b[34m\u001b[1mwandb\u001b[0m: \tlearning_rate: 0.01\n",
            "\u001b[34m\u001b[1mwandb\u001b[0m: \toptimizer: adam\n"
          ]
        },
        {
          "output_type": "display_data",
          "data": {
            "text/plain": [
              "<IPython.core.display.HTML object>"
            ],
            "text/html": [
              "Tracking run with wandb version 0.16.2"
            ]
          },
          "metadata": {}
        },
        {
          "output_type": "display_data",
          "data": {
            "text/plain": [
              "<IPython.core.display.HTML object>"
            ],
            "text/html": [
              "Run data is saved locally in <code>/content/wandb/run-20240205_162609-m2zmxyet</code>"
            ]
          },
          "metadata": {}
        },
        {
          "output_type": "display_data",
          "data": {
            "text/plain": [
              "<IPython.core.display.HTML object>"
            ],
            "text/html": [
              "Syncing run <strong><a href='https://wandb.ai/gugi200/alexnet-customData/runs/m2zmxyet' target=\"_blank\">winter-sweep-1</a></strong> to <a href='https://wandb.ai/gugi200/alexnet-customData' target=\"_blank\">Weights & Biases</a> (<a href='https://wandb.me/run' target=\"_blank\">docs</a>)<br/>Sweep page: <a href='https://wandb.ai/gugi200/alexnet-customData/sweeps/rs2ja1ip' target=\"_blank\">https://wandb.ai/gugi200/alexnet-customData/sweeps/rs2ja1ip</a>"
            ]
          },
          "metadata": {}
        },
        {
          "output_type": "display_data",
          "data": {
            "text/plain": [
              "<IPython.core.display.HTML object>"
            ],
            "text/html": [
              " View project at <a href='https://wandb.ai/gugi200/alexnet-customData' target=\"_blank\">https://wandb.ai/gugi200/alexnet-customData</a>"
            ]
          },
          "metadata": {}
        },
        {
          "output_type": "display_data",
          "data": {
            "text/plain": [
              "<IPython.core.display.HTML object>"
            ],
            "text/html": [
              " View sweep at <a href='https://wandb.ai/gugi200/alexnet-customData/sweeps/rs2ja1ip' target=\"_blank\">https://wandb.ai/gugi200/alexnet-customData/sweeps/rs2ja1ip</a>"
            ]
          },
          "metadata": {}
        },
        {
          "output_type": "display_data",
          "data": {
            "text/plain": [
              "<IPython.core.display.HTML object>"
            ],
            "text/html": [
              " View run at <a href='https://wandb.ai/gugi200/alexnet-customData/runs/m2zmxyet' target=\"_blank\">https://wandb.ai/gugi200/alexnet-customData/runs/m2zmxyet</a>"
            ]
          },
          "metadata": {}
        },
        {
          "output_type": "stream",
          "name": "stderr",
          "text": [
            "Downloading: \"https://github.com/pytorch/vision/zipball/main\" to /root/.cache/torch/hub/main.zip\n",
            "/usr/local/lib/python3.10/dist-packages/torchvision/models/_utils.py:135: UserWarning: Using 'weights' as positional parameter(s) is deprecated since 0.13 and may be removed in the future. Please use keyword parameter(s) instead.\n",
            "  warnings.warn(\n",
            "Downloading: \"https://download.pytorch.org/models/alexnet-owt-7be5be79.pth\" to /root/.cache/torch/hub/checkpoints/alexnet-owt-7be5be79.pth\n",
            "100%|██████████| 233M/233M [00:02<00:00, 85.7MB/s]\n"
          ]
        },
        {
          "output_type": "stream",
          "name": "stdout",
          "text": [
            "[0.01]\n",
            "Train loss: 204.4612, Train acc: 13.9542%\n",
            "Test loss: 2.0941  |  Test acc: 12.7724%\n",
            "[0.01]\n",
            "Train loss: 2.0638, Train acc: 13.6874%\n",
            "Test loss: 2.0406  |  Test acc: 14.8532%\n",
            "[0.001]\n",
            "Train loss: 2.0395, Train acc: 14.5597%\n",
            "Test loss: 2.0365  |  Test acc: 14.8381%\n",
            "[0.001]\n",
            "Train loss: 2.0374, Train acc: 14.6128%\n",
            "Test loss: 2.0369  |  Test acc: 14.8381%\n",
            "[0.001]\n",
            "Train loss: 2.0379, Train acc: 14.4688%\n",
            "Test loss: 2.0386  |  Test acc: 14.8456%\n"
          ]
        },
        {
          "output_type": "display_data",
          "data": {
            "text/plain": [
              "VBox(children=(Label(value='0.001 MB of 0.001 MB uploaded\\r'), FloatProgress(value=1.0, max=1.0)))"
            ],
            "application/vnd.jupyter.widget-view+json": {
              "version_major": 2,
              "version_minor": 0,
              "model_id": "9227b78c9b0a4ab39909f7ebe6022968"
            }
          },
          "metadata": {}
        },
        {
          "output_type": "display_data",
          "data": {
            "text/plain": [
              "<IPython.core.display.HTML object>"
            ],
            "text/html": [
              "<style>\n",
              "    table.wandb td:nth-child(1) { padding: 0 10px; text-align: left ; width: auto;} td:nth-child(2) {text-align: left ; width: 100%}\n",
              "    .wandb-row { display: flex; flex-direction: row; flex-wrap: wrap; justify-content: flex-start; width: 100% }\n",
              "    .wandb-col { display: flex; flex-direction: column; flex-basis: 100%; flex: 1; padding: 10px; }\n",
              "    </style>\n",
              "<div class=\"wandb-row\"><div class=\"wandb-col\"><h3>Run history:</h3><br/><table class=\"wandb\"><tr><td>accuracy</td><td>▂▅▂▇▂▃▃▃▂▅▃▃▃▂▅▃▅▃▂▅▂▃▃▁▃▇▃▃▃▅▅▁▆▂▂█▂▅▃▅</td></tr><tr><td>average test batch loss</td><td>█▂▁▁▁</td></tr><tr><td>average test batch metric</td><td>▁████</td></tr><tr><td>average train batch loss</td><td>█▁▁▁▁</td></tr><tr><td>average train batch metric</td><td>▃▁██▇</td></tr><tr><td>epoch</td><td>▁▃▅▆█</td></tr><tr><td>loss</td><td>█▁▁▁▁▁▁▁▁▁▁▁▁▁▁▁▁▁▁▁▁▁▁▁▁▁▁▁▁▁▁▁▁▁▁▁▁▁▁▁</td></tr><tr><td>test accuracy</td><td>▂▄▄▂▂▇▁▂▅▂▂▄▄▁▄▄▅▂▅▅▇▂▅▂█▂▁▂▂▅▂▁▅▂▅█▅▄▄▂</td></tr><tr><td>test loss</td><td>▂▄█▆▆▃▆▇▃▅▄▄▄▄▂▂▃▅▂▃▂▅▂▂▁▅▅▂▂▁▅▃▂▂▄▃▁▃▁▃</td></tr><tr><td>train time</td><td>▁</td></tr></table><br/></div><div class=\"wandb-col\"><h3>Run summary:</h3><br/><table class=\"wandb\"><tr><td>accuracy</td><td>0.2</td></tr><tr><td>average test batch loss</td><td>2.03856</td></tr><tr><td>average test batch metric</td><td>0.14846</td></tr><tr><td>average train batch loss</td><td>2.03795</td></tr><tr><td>average train batch metric</td><td>0.14469</td></tr><tr><td>epoch</td><td>4</td></tr><tr><td>loss</td><td>2.06546</td></tr><tr><td>test accuracy</td><td>0.14286</td></tr><tr><td>test loss</td><td>2.01466</td></tr><tr><td>train time</td><td>133.308</td></tr></table><br/></div></div>"
            ]
          },
          "metadata": {}
        },
        {
          "output_type": "display_data",
          "data": {
            "text/plain": [
              "<IPython.core.display.HTML object>"
            ],
            "text/html": [
              " View run <strong style=\"color:#cdcd00\">winter-sweep-1</strong> at: <a href='https://wandb.ai/gugi200/alexnet-customData/runs/m2zmxyet' target=\"_blank\">https://wandb.ai/gugi200/alexnet-customData/runs/m2zmxyet</a><br/>Synced 5 W&B file(s), 0 media file(s), 0 artifact file(s) and 0 other file(s)"
            ]
          },
          "metadata": {}
        },
        {
          "output_type": "display_data",
          "data": {
            "text/plain": [
              "<IPython.core.display.HTML object>"
            ],
            "text/html": [
              "Find logs at: <code>./wandb/run-20240205_162609-m2zmxyet/logs</code>"
            ]
          },
          "metadata": {}
        },
        {
          "output_type": "stream",
          "name": "stderr",
          "text": [
            "\u001b[34m\u001b[1mwandb\u001b[0m: Sweep Agent: Waiting for job.\n",
            "\u001b[34m\u001b[1mwandb\u001b[0m: Job received.\n",
            "\u001b[34m\u001b[1mwandb\u001b[0m: Agent Starting Run: 3gtmm6a2 with config:\n",
            "\u001b[34m\u001b[1mwandb\u001b[0m: \tbatch_size: 16\n",
            "\u001b[34m\u001b[1mwandb\u001b[0m: \tepochs: 5\n",
            "\u001b[34m\u001b[1mwandb\u001b[0m: \tfc_layer_size: 8\n",
            "\u001b[34m\u001b[1mwandb\u001b[0m: \tlearning_rate: 0.01\n",
            "\u001b[34m\u001b[1mwandb\u001b[0m: \toptimizer: sgd\n"
          ]
        },
        {
          "output_type": "display_data",
          "data": {
            "text/plain": [
              "<IPython.core.display.HTML object>"
            ],
            "text/html": [
              "Tracking run with wandb version 0.16.2"
            ]
          },
          "metadata": {}
        },
        {
          "output_type": "display_data",
          "data": {
            "text/plain": [
              "<IPython.core.display.HTML object>"
            ],
            "text/html": [
              "Run data is saved locally in <code>/content/wandb/run-20240205_162847-3gtmm6a2</code>"
            ]
          },
          "metadata": {}
        },
        {
          "output_type": "display_data",
          "data": {
            "text/plain": [
              "<IPython.core.display.HTML object>"
            ],
            "text/html": [
              "Syncing run <strong><a href='https://wandb.ai/gugi200/alexnet-customData/runs/3gtmm6a2' target=\"_blank\">sage-sweep-2</a></strong> to <a href='https://wandb.ai/gugi200/alexnet-customData' target=\"_blank\">Weights & Biases</a> (<a href='https://wandb.me/run' target=\"_blank\">docs</a>)<br/>Sweep page: <a href='https://wandb.ai/gugi200/alexnet-customData/sweeps/rs2ja1ip' target=\"_blank\">https://wandb.ai/gugi200/alexnet-customData/sweeps/rs2ja1ip</a>"
            ]
          },
          "metadata": {}
        },
        {
          "output_type": "display_data",
          "data": {
            "text/plain": [
              "<IPython.core.display.HTML object>"
            ],
            "text/html": [
              " View project at <a href='https://wandb.ai/gugi200/alexnet-customData' target=\"_blank\">https://wandb.ai/gugi200/alexnet-customData</a>"
            ]
          },
          "metadata": {}
        },
        {
          "output_type": "display_data",
          "data": {
            "text/plain": [
              "<IPython.core.display.HTML object>"
            ],
            "text/html": [
              " View sweep at <a href='https://wandb.ai/gugi200/alexnet-customData/sweeps/rs2ja1ip' target=\"_blank\">https://wandb.ai/gugi200/alexnet-customData/sweeps/rs2ja1ip</a>"
            ]
          },
          "metadata": {}
        },
        {
          "output_type": "display_data",
          "data": {
            "text/plain": [
              "<IPython.core.display.HTML object>"
            ],
            "text/html": [
              " View run at <a href='https://wandb.ai/gugi200/alexnet-customData/runs/3gtmm6a2' target=\"_blank\">https://wandb.ai/gugi200/alexnet-customData/runs/3gtmm6a2</a>"
            ]
          },
          "metadata": {}
        },
        {
          "output_type": "stream",
          "name": "stderr",
          "text": [
            "Using cache found in /root/.cache/torch/hub/pytorch_vision_main\n"
          ]
        },
        {
          "output_type": "stream",
          "name": "stdout",
          "text": [
            "[0.01]\n",
            "Train loss: 2.1516, Train acc: 13.8999%\n",
            "Test loss: 2.1253  |  Test acc: 13.4761%\n",
            "[0.01]\n",
            "Train loss: 2.0626, Train acc: 13.7949%\n",
            "Test loss: 2.0538  |  Test acc: 12.7951%\n",
            "[0.001]\n",
            "Train loss: 2.0451, Train acc: 13.5635%\n",
            "Test loss: 2.0400  |  Test acc: 14.5354%\n",
            "[0.001]\n",
            "Train loss: 2.0436, Train acc: 13.4230%\n",
            "Test loss: 2.0395  |  Test acc: 14.5127%\n",
            "[0.001]\n",
            "Train loss: 2.0419, Train acc: 14.5208%\n",
            "Test loss: 2.0402  |  Test acc: 14.8456%\n"
          ]
        },
        {
          "output_type": "display_data",
          "data": {
            "text/plain": [
              "VBox(children=(Label(value='0.001 MB of 0.001 MB uploaded\\r'), FloatProgress(value=1.0, max=1.0)))"
            ],
            "application/vnd.jupyter.widget-view+json": {
              "version_major": 2,
              "version_minor": 0,
              "model_id": "99378d88d9654e86bd8f2d5de35a4927"
            }
          },
          "metadata": {}
        },
        {
          "output_type": "display_data",
          "data": {
            "text/plain": [
              "<IPython.core.display.HTML object>"
            ],
            "text/html": [
              "<style>\n",
              "    table.wandb td:nth-child(1) { padding: 0 10px; text-align: left ; width: auto;} td:nth-child(2) {text-align: left ; width: 100%}\n",
              "    .wandb-row { display: flex; flex-direction: row; flex-wrap: wrap; justify-content: flex-start; width: 100% }\n",
              "    .wandb-col { display: flex; flex-direction: column; flex-basis: 100%; flex: 1; padding: 10px; }\n",
              "    </style>\n",
              "<div class=\"wandb-row\"><div class=\"wandb-col\"><h3>Run history:</h3><br/><table class=\"wandb\"><tr><td>accuracy</td><td>▁▄▂▄▅█▄▅▅▁▅▅▄▂▁▄▄▅▅▁▄▄▂▂▄▂▇▄▇▅▅▄▇▂▇█▂▇▂▂</td></tr><tr><td>average test batch loss</td><td>█▂▁▁▁</td></tr><tr><td>average test batch metric</td><td>▃▁▇▇█</td></tr><tr><td>average train batch loss</td><td>█▂▁▁▁</td></tr><tr><td>average train batch metric</td><td>▄▃▂▁█</td></tr><tr><td>epoch</td><td>▁▃▅▆█</td></tr><tr><td>loss</td><td>█▁▂▁▁▁▁▂▁▂▁▁▁▂▂▁▁▁▁▁▁▁▁▁▁▁▁▁▁▂▁▁▁▁▁▁▁▁▁▁</td></tr><tr><td>test accuracy</td><td>▂▂▁▇▇▁▂▅▇█▂▄▅▄▄▂█▅▂▅▄▇▂▁▅▅▄▇▅▁▂▄▂▇▇▄▅▅▂▇</td></tr><tr><td>test loss</td><td>▅▁▂▃▂█▅▂▁▁▃▂▂▂▃▃▃▃▂▃▃▁▄▂▃▂▁▄▂▂▂▂▂▅▁▂▃▂▂▄</td></tr><tr><td>train time</td><td>▁</td></tr></table><br/></div><div class=\"wandb-col\"><h3>Run summary:</h3><br/><table class=\"wandb\"><tr><td>accuracy</td><td>0.13333</td></tr><tr><td>average test batch loss</td><td>2.04018</td></tr><tr><td>average test batch metric</td><td>0.14846</td></tr><tr><td>average train batch loss</td><td>2.04186</td></tr><tr><td>average train batch metric</td><td>0.14521</td></tr><tr><td>epoch</td><td>4</td></tr><tr><td>loss</td><td>2.05251</td></tr><tr><td>test accuracy</td><td>0.14286</td></tr><tr><td>test loss</td><td>2.16888</td></tr><tr><td>train time</td><td>116.7322</td></tr></table><br/></div></div>"
            ]
          },
          "metadata": {}
        },
        {
          "output_type": "display_data",
          "data": {
            "text/plain": [
              "<IPython.core.display.HTML object>"
            ],
            "text/html": [
              " View run <strong style=\"color:#cdcd00\">sage-sweep-2</strong> at: <a href='https://wandb.ai/gugi200/alexnet-customData/runs/3gtmm6a2' target=\"_blank\">https://wandb.ai/gugi200/alexnet-customData/runs/3gtmm6a2</a><br/>Synced 5 W&B file(s), 0 media file(s), 0 artifact file(s) and 0 other file(s)"
            ]
          },
          "metadata": {}
        },
        {
          "output_type": "display_data",
          "data": {
            "text/plain": [
              "<IPython.core.display.HTML object>"
            ],
            "text/html": [
              "Find logs at: <code>./wandb/run-20240205_162847-3gtmm6a2/logs</code>"
            ]
          },
          "metadata": {}
        },
        {
          "output_type": "stream",
          "name": "stderr",
          "text": [
            "\u001b[34m\u001b[1mwandb\u001b[0m: Agent Starting Run: 3llmlo31 with config:\n",
            "\u001b[34m\u001b[1mwandb\u001b[0m: \tbatch_size: 32\n",
            "\u001b[34m\u001b[1mwandb\u001b[0m: \tepochs: 5\n",
            "\u001b[34m\u001b[1mwandb\u001b[0m: \tfc_layer_size: 8\n",
            "\u001b[34m\u001b[1mwandb\u001b[0m: \tlearning_rate: 0.01\n",
            "\u001b[34m\u001b[1mwandb\u001b[0m: \toptimizer: adam\n"
          ]
        },
        {
          "output_type": "display_data",
          "data": {
            "text/plain": [
              "<IPython.core.display.HTML object>"
            ],
            "text/html": [
              "Tracking run with wandb version 0.16.2"
            ]
          },
          "metadata": {}
        },
        {
          "output_type": "display_data",
          "data": {
            "text/plain": [
              "<IPython.core.display.HTML object>"
            ],
            "text/html": [
              "Run data is saved locally in <code>/content/wandb/run-20240205_163054-3llmlo31</code>"
            ]
          },
          "metadata": {}
        },
        {
          "output_type": "display_data",
          "data": {
            "text/plain": [
              "<IPython.core.display.HTML object>"
            ],
            "text/html": [
              "Syncing run <strong><a href='https://wandb.ai/gugi200/alexnet-customData/runs/3llmlo31' target=\"_blank\">denim-sweep-3</a></strong> to <a href='https://wandb.ai/gugi200/alexnet-customData' target=\"_blank\">Weights & Biases</a> (<a href='https://wandb.me/run' target=\"_blank\">docs</a>)<br/>Sweep page: <a href='https://wandb.ai/gugi200/alexnet-customData/sweeps/rs2ja1ip' target=\"_blank\">https://wandb.ai/gugi200/alexnet-customData/sweeps/rs2ja1ip</a>"
            ]
          },
          "metadata": {}
        },
        {
          "output_type": "display_data",
          "data": {
            "text/plain": [
              "<IPython.core.display.HTML object>"
            ],
            "text/html": [
              " View project at <a href='https://wandb.ai/gugi200/alexnet-customData' target=\"_blank\">https://wandb.ai/gugi200/alexnet-customData</a>"
            ]
          },
          "metadata": {}
        },
        {
          "output_type": "display_data",
          "data": {
            "text/plain": [
              "<IPython.core.display.HTML object>"
            ],
            "text/html": [
              " View sweep at <a href='https://wandb.ai/gugi200/alexnet-customData/sweeps/rs2ja1ip' target=\"_blank\">https://wandb.ai/gugi200/alexnet-customData/sweeps/rs2ja1ip</a>"
            ]
          },
          "metadata": {}
        },
        {
          "output_type": "display_data",
          "data": {
            "text/plain": [
              "<IPython.core.display.HTML object>"
            ],
            "text/html": [
              " View run at <a href='https://wandb.ai/gugi200/alexnet-customData/runs/3llmlo31' target=\"_blank\">https://wandb.ai/gugi200/alexnet-customData/runs/3llmlo31</a>"
            ]
          },
          "metadata": {}
        },
        {
          "output_type": "stream",
          "name": "stderr",
          "text": [
            "Using cache found in /root/.cache/torch/hub/pytorch_vision_main\n"
          ]
        },
        {
          "output_type": "stream",
          "name": "stdout",
          "text": [
            "[0.01]\n",
            "Train loss: 6919.2563, Train acc: 13.4228%\n",
            "Test loss: 2.0764  |  Test acc: 14.8446%\n",
            "[0.01]\n",
            "Train loss: 2.0528, Train acc: 13.9148%\n",
            "Test loss: 2.0408  |  Test acc: 13.9583%\n",
            "[0.001]\n",
            "Train loss: 2.0387, Train acc: 13.4958%\n",
            "Test loss: 2.0360  |  Test acc: 14.8482%\n",
            "[0.001]\n",
            "Train loss: 2.0381, Train acc: 13.9925%\n",
            "Test loss: 2.0360  |  Test acc: 14.5410%\n",
            "[0.001]\n",
            "Train loss: 2.0369, Train acc: 14.6057%\n",
            "Test loss: 2.0358  |  Test acc: 14.8552%\n"
          ]
        },
        {
          "output_type": "display_data",
          "data": {
            "text/plain": [
              "VBox(children=(Label(value='0.001 MB of 0.001 MB uploaded\\r'), FloatProgress(value=1.0, max=1.0)))"
            ],
            "application/vnd.jupyter.widget-view+json": {
              "version_major": 2,
              "version_minor": 0,
              "model_id": "271a8be4d6654a40aee4d0681f00a490"
            }
          },
          "metadata": {}
        },
        {
          "output_type": "display_data",
          "data": {
            "text/plain": [
              "<IPython.core.display.HTML object>"
            ],
            "text/html": [
              "<style>\n",
              "    table.wandb td:nth-child(1) { padding: 0 10px; text-align: left ; width: auto;} td:nth-child(2) {text-align: left ; width: 100%}\n",
              "    .wandb-row { display: flex; flex-direction: row; flex-wrap: wrap; justify-content: flex-start; width: 100% }\n",
              "    .wandb-col { display: flex; flex-direction: column; flex-basis: 100%; flex: 1; padding: 10px; }\n",
              "    </style>\n",
              "<div class=\"wandb-row\"><div class=\"wandb-col\"><h3>Run history:</h3><br/><table class=\"wandb\"><tr><td>accuracy</td><td>▅▃█▄▅▃▄▅▁▄▆▃▃▄▄▃▂▄▅▄▄▆▅▇█▅▆▂▇▇▅▆▁▇▇▅▆▆▄▄</td></tr><tr><td>average test batch loss</td><td>█▂▁▁▁</td></tr><tr><td>average test batch metric</td><td>█▁█▆█</td></tr><tr><td>average train batch loss</td><td>█▁▁▁▁</td></tr><tr><td>average train batch metric</td><td>▁▄▁▄█</td></tr><tr><td>epoch</td><td>▁▃▅▆█</td></tr><tr><td>loss</td><td>▅█▁▁▁▁▁▁▁▁▁▁▁▁▁▁▁▁▁▁▁▁▁▁▁▁▁▁▁▁▁▁▁▁▁▁▁▁▁▁</td></tr><tr><td>test accuracy</td><td>▃▃▅▄▄▄▃▃▅▂▄▅▃▃▅▆█▆▄▅▆▃▃▁▃█▅▃▇▃▄▄▆▆▆▅▇▃▆▄</td></tr><tr><td>test loss</td><td>▅▄▄▄▂▅█▁▄▄▂▃▂▄▂▂▂▂▂▂▂▃▅▂▂▂▃▂▁▄▅▃▄▂▂▃▂▃▁▃</td></tr><tr><td>train time</td><td>▁</td></tr></table><br/></div><div class=\"wandb-col\"><h3>Run summary:</h3><br/><table class=\"wandb\"><tr><td>accuracy</td><td>0.13333</td></tr><tr><td>average test batch loss</td><td>2.03583</td></tr><tr><td>average test batch metric</td><td>0.14855</td></tr><tr><td>average train batch loss</td><td>2.03689</td></tr><tr><td>average train batch metric</td><td>0.14606</td></tr><tr><td>epoch</td><td>4</td></tr><tr><td>loss</td><td>1.98548</td></tr><tr><td>test accuracy</td><td>0.23333</td></tr><tr><td>test loss</td><td>2.02428</td></tr><tr><td>train time</td><td>118.67972</td></tr></table><br/></div></div>"
            ]
          },
          "metadata": {}
        },
        {
          "output_type": "display_data",
          "data": {
            "text/plain": [
              "<IPython.core.display.HTML object>"
            ],
            "text/html": [
              " View run <strong style=\"color:#cdcd00\">denim-sweep-3</strong> at: <a href='https://wandb.ai/gugi200/alexnet-customData/runs/3llmlo31' target=\"_blank\">https://wandb.ai/gugi200/alexnet-customData/runs/3llmlo31</a><br/>Synced 5 W&B file(s), 0 media file(s), 0 artifact file(s) and 0 other file(s)"
            ]
          },
          "metadata": {}
        },
        {
          "output_type": "display_data",
          "data": {
            "text/plain": [
              "<IPython.core.display.HTML object>"
            ],
            "text/html": [
              "Find logs at: <code>./wandb/run-20240205_163054-3llmlo31/logs</code>"
            ]
          },
          "metadata": {}
        },
        {
          "output_type": "stream",
          "name": "stderr",
          "text": [
            "\u001b[34m\u001b[1mwandb\u001b[0m: Agent Starting Run: 1ei21v50 with config:\n",
            "\u001b[34m\u001b[1mwandb\u001b[0m: \tbatch_size: 32\n",
            "\u001b[34m\u001b[1mwandb\u001b[0m: \tepochs: 5\n",
            "\u001b[34m\u001b[1mwandb\u001b[0m: \tfc_layer_size: 8\n",
            "\u001b[34m\u001b[1mwandb\u001b[0m: \tlearning_rate: 0.01\n",
            "\u001b[34m\u001b[1mwandb\u001b[0m: \toptimizer: sgd\n"
          ]
        },
        {
          "output_type": "display_data",
          "data": {
            "text/plain": [
              "<IPython.core.display.HTML object>"
            ],
            "text/html": [
              "Tracking run with wandb version 0.16.2"
            ]
          },
          "metadata": {}
        },
        {
          "output_type": "display_data",
          "data": {
            "text/plain": [
              "<IPython.core.display.HTML object>"
            ],
            "text/html": [
              "Run data is saved locally in <code>/content/wandb/run-20240205_163303-1ei21v50</code>"
            ]
          },
          "metadata": {}
        },
        {
          "output_type": "display_data",
          "data": {
            "text/plain": [
              "<IPython.core.display.HTML object>"
            ],
            "text/html": [
              "Syncing run <strong><a href='https://wandb.ai/gugi200/alexnet-customData/runs/1ei21v50' target=\"_blank\">dutiful-sweep-4</a></strong> to <a href='https://wandb.ai/gugi200/alexnet-customData' target=\"_blank\">Weights & Biases</a> (<a href='https://wandb.me/run' target=\"_blank\">docs</a>)<br/>Sweep page: <a href='https://wandb.ai/gugi200/alexnet-customData/sweeps/rs2ja1ip' target=\"_blank\">https://wandb.ai/gugi200/alexnet-customData/sweeps/rs2ja1ip</a>"
            ]
          },
          "metadata": {}
        },
        {
          "output_type": "display_data",
          "data": {
            "text/plain": [
              "<IPython.core.display.HTML object>"
            ],
            "text/html": [
              " View project at <a href='https://wandb.ai/gugi200/alexnet-customData' target=\"_blank\">https://wandb.ai/gugi200/alexnet-customData</a>"
            ]
          },
          "metadata": {}
        },
        {
          "output_type": "display_data",
          "data": {
            "text/plain": [
              "<IPython.core.display.HTML object>"
            ],
            "text/html": [
              " View sweep at <a href='https://wandb.ai/gugi200/alexnet-customData/sweeps/rs2ja1ip' target=\"_blank\">https://wandb.ai/gugi200/alexnet-customData/sweeps/rs2ja1ip</a>"
            ]
          },
          "metadata": {}
        },
        {
          "output_type": "display_data",
          "data": {
            "text/plain": [
              "<IPython.core.display.HTML object>"
            ],
            "text/html": [
              " View run at <a href='https://wandb.ai/gugi200/alexnet-customData/runs/1ei21v50' target=\"_blank\">https://wandb.ai/gugi200/alexnet-customData/runs/1ei21v50</a>"
            ]
          },
          "metadata": {}
        },
        {
          "output_type": "stream",
          "name": "stderr",
          "text": [
            "Using cache found in /root/.cache/torch/hub/pytorch_vision_main\n"
          ]
        },
        {
          "output_type": "stream",
          "name": "stdout",
          "text": [
            "[0.01]\n",
            "Train loss: nan, Train acc: 13.8465%\n",
            "Test loss: nan  |  Test acc: 13.4640%\n",
            "[0.01]\n",
            "Train loss: nan, Train acc: 13.6217%\n",
            "Test loss: nan  |  Test acc: 13.4534%\n",
            "[0.001]\n",
            "Train loss: nan, Train acc: 13.5617%\n",
            "Test loss: nan  |  Test acc: 13.4675%\n",
            "[0.001]\n",
            "Train loss: nan, Train acc: 13.6017%\n",
            "Test loss: nan  |  Test acc: 13.4710%\n",
            "[0.001]\n",
            "Train loss: nan, Train acc: 13.5617%\n",
            "Test loss: nan  |  Test acc: 13.4605%\n"
          ]
        },
        {
          "output_type": "display_data",
          "data": {
            "text/plain": [
              "VBox(children=(Label(value='0.001 MB of 0.001 MB uploaded\\r'), FloatProgress(value=1.0, max=1.0)))"
            ],
            "application/vnd.jupyter.widget-view+json": {
              "version_major": 2,
              "version_minor": 0,
              "model_id": "905692c3d1e94495a9019a3d82f974f4"
            }
          },
          "metadata": {}
        },
        {
          "output_type": "display_data",
          "data": {
            "text/plain": [
              "<IPython.core.display.HTML object>"
            ],
            "text/html": [
              "<style>\n",
              "    table.wandb td:nth-child(1) { padding: 0 10px; text-align: left ; width: auto;} td:nth-child(2) {text-align: left ; width: 100%}\n",
              "    .wandb-row { display: flex; flex-direction: row; flex-wrap: wrap; justify-content: flex-start; width: 100% }\n",
              "    .wandb-col { display: flex; flex-direction: column; flex-basis: 100%; flex: 1; padding: 10px; }\n",
              "    </style>\n",
              "<div class=\"wandb-row\"><div class=\"wandb-col\"><h3>Run history:</h3><br/><table class=\"wandb\"><tr><td>accuracy</td><td>▅▁▃▁▅▃▅▁▂█▄▃▄▁▃▅▃▂▁▅▁▆▂▄▅▆▄▃▂▁▅▂▃▃▃▂▃▂▅▄</td></tr><tr><td>average test batch metric</td><td>▅▁▇█▄</td></tr><tr><td>average train batch metric</td><td>█▂▁▂▁</td></tr><tr><td>epoch</td><td>▁▃▅▆█</td></tr><tr><td>loss</td><td>▁                                       </td></tr><tr><td>test accuracy</td><td>▅▃▃▄▅▆▃▃▆▅▃▁▄▆▄▃▅▄▆▃▃▄▄▇▅▃▄▅▄█▄▄▃▆▆▃▃▇▃▆</td></tr><tr><td>train time</td><td>▁</td></tr></table><br/></div><div class=\"wandb-col\"><h3>Run summary:</h3><br/><table class=\"wandb\"><tr><td>accuracy</td><td>0.06667</td></tr><tr><td>average test batch loss</td><td>nan</td></tr><tr><td>average test batch metric</td><td>0.1346</td></tr><tr><td>average train batch loss</td><td>nan</td></tr><tr><td>average train batch metric</td><td>0.13562</td></tr><tr><td>epoch</td><td>4</td></tr><tr><td>loss</td><td>nan</td></tr><tr><td>test accuracy</td><td>0.06667</td></tr><tr><td>test loss</td><td>nan</td></tr><tr><td>train time</td><td>116.43516</td></tr></table><br/></div></div>"
            ]
          },
          "metadata": {}
        },
        {
          "output_type": "display_data",
          "data": {
            "text/plain": [
              "<IPython.core.display.HTML object>"
            ],
            "text/html": [
              " View run <strong style=\"color:#cdcd00\">dutiful-sweep-4</strong> at: <a href='https://wandb.ai/gugi200/alexnet-customData/runs/1ei21v50' target=\"_blank\">https://wandb.ai/gugi200/alexnet-customData/runs/1ei21v50</a><br/>Synced 5 W&B file(s), 0 media file(s), 0 artifact file(s) and 0 other file(s)"
            ]
          },
          "metadata": {}
        },
        {
          "output_type": "display_data",
          "data": {
            "text/plain": [
              "<IPython.core.display.HTML object>"
            ],
            "text/html": [
              "Find logs at: <code>./wandb/run-20240205_163303-1ei21v50/logs</code>"
            ]
          },
          "metadata": {}
        },
        {
          "output_type": "stream",
          "name": "stderr",
          "text": [
            "\u001b[34m\u001b[1mwandb\u001b[0m: Sweep Agent: Waiting for job.\n",
            "\u001b[34m\u001b[1mwandb\u001b[0m: Sweep Agent: Exiting.\n"
          ]
        }
      ]
    },
    {
      "cell_type": "markdown",
      "source": [
        "## convnext base"
      ],
      "metadata": {
        "id": "1SnNAiTOyEP5"
      }
    },
    {
      "cell_type": "code",
      "source": [
        "def train_model_convnext_base(config=None):\n",
        "    with wandb.init(config=config):\n",
        "        mean=[0.485, 0.456, 0.406]\n",
        "        std=[0.229, 0.224, 0.225]\n",
        "        tranform = transforms.Compose([\n",
        "            expMapping(4),\n",
        "            softThreshold(30, 255),\n",
        "            transforms.Resize(size=(224, 224)),\n",
        "            transforms.ToTensor(),\n",
        "            transforms.Normalize(mean=mean, std=std)\n",
        "        ])\n",
        "\n",
        "        config = wandb.config\n",
        "\n",
        "        train_dataloader, class_names, _ = create_dataset(path=Path(\"train_raw\"),\n",
        "                                                          batchsize=config.batch_size,\n",
        "                                                          preprocess=tranform)\n",
        "\n",
        "        test_dataloader, _ , _ = create_dataset(path=Path(\"test_raw\"),\n",
        "                                                batchsize=config.batch_size,\n",
        "                                                preprocess=tranform)\n",
        "\n",
        "        weight = list(torchvision.models.get_model_weights('convnext_base'))[-1]\n",
        "        model = torch.hub.load('pytorch/vision', 'convnext_base', weight).to(device)\n",
        "        model.classifier[2] = nn.Linear(1024 , len(class_names), bias=True).to(device)\n",
        "\n",
        "        train_test_loop(config=config,\n",
        "                        model=model,\n",
        "                        train_dataloader=train_dataloader,\n",
        "                        test_dataloader=test_dataloader,\n",
        "                        class_names=class_names,\n",
        "                        device=device\n",
        "                        )\n",
        "    return model\n",
        "\n",
        "# convnext_base pipeline\n",
        "sweep_id_convnext_base = wandb.sweep(sweep_config, project=\"convnext_base-customData\")\n",
        "wandb.agent(sweep_id_convnext_base, train_model_convnext_base)"
      ],
      "metadata": {
        "id": "Ms09RslwyJh_"
      },
      "execution_count": null,
      "outputs": []
    },
    {
      "cell_type": "markdown",
      "source": [
        "## densenet161"
      ],
      "metadata": {
        "id": "8q08OtkLyKM2"
      }
    },
    {
      "cell_type": "code",
      "source": [
        "def train_model_densenet161(config=None):\n",
        "    with wandb.init(config=config):\n",
        "        mean=[0.485, 0.456, 0.406]\n",
        "        std=[0.229, 0.224, 0.225]\n",
        "        tranform = transforms.Compose([\n",
        "            expMapping(4),\n",
        "            softThreshold(30, 255),\n",
        "            transforms.Resize(size=(224, 224)),\n",
        "            transforms.ToTensor(),\n",
        "            transforms.Normalize(mean=mean, std=std),\n",
        "        ])\n",
        "\n",
        "        config = wandb.config\n",
        "\n",
        "        train_dataloader, class_names, _ = create_dataset(path=Path(\"train_raw\"),\n",
        "                                                          batchsize=config.batch_size,\n",
        "                                                          preprocess=tranform)\n",
        "\n",
        "        test_dataloader, _ , _ = create_dataset(path=Path(\"test_raw\"),\n",
        "                                                batchsize=config.batch_size,\n",
        "                                                preprocess=tranform)\n",
        "\n",
        "\n",
        "        weight = list(torchvision.models.get_model_weights('densenet161'))[-1]\n",
        "        model = torch.hub.load('pytorch/vision', 'densenet161', weight).to(device)\n",
        "        model.classifier = nn.Linear(2208 , len(class_names), bias=True).to(device)\n",
        "\n",
        "        train_test_loop(config=config,\n",
        "                        model=model,\n",
        "                        train_dataloader=train_dataloader,\n",
        "                        test_dataloader=test_dataloader,\n",
        "                        class_names=class_names,\n",
        "                        device=device\n",
        "                        )\n",
        "    return model\n",
        "\n",
        "# densenet161 pipeline\n",
        "sweep_id_densenet161 = wandb.sweep(sweep_config, project=\"densenet161-customData\")\n",
        "wandb.agent(sweep_id_densenet161, train_model_densenet161)"
      ],
      "metadata": {
        "id": "I_xWCM2qyOkI"
      },
      "execution_count": null,
      "outputs": []
    },
    {
      "cell_type": "markdown",
      "source": [
        "## efficientnet_v2_1"
      ],
      "metadata": {
        "id": "YaxOnCoHyORe"
      }
    },
    {
      "cell_type": "code",
      "source": [
        "def train_model_efficientnet_v2_l(config=None):\n",
        "    with wandb.init(config=config):\n",
        "        mean=[0.485, 0.456, 0.406]\n",
        "        std=[0.229, 0.224, 0.225]\n",
        "        tranform = transforms.Compose([\n",
        "            expMapping(4),\n",
        "            softThreshold(30, 255),\n",
        "            transforms.Resize(size=(224, 224)),\n",
        "            transforms.ToTensor(),\n",
        "            transforms.Normalize(mean=mean, std=std),\n",
        "        ])\n",
        "\n",
        "        config = wandb.config\n",
        "\n",
        "        train_dataloader, class_names, _ = create_dataset(path=Path(\"train_raw\"),\n",
        "                                                          batchsize=config.batch_size,\n",
        "                                                          preprocess=tranform)\n",
        "\n",
        "        test_dataloader, _ , _ = create_dataset(path=Path(\"test_raw\"),\n",
        "                                                batchsize=config.batch_size,\n",
        "                                                preprocess=tranform)\n",
        "\n",
        "\n",
        "        weight = list(torchvision.models.get_model_weights('efficientnet_v2_l'))[-1]\n",
        "        model = torch.hub.load('pytorch/vision', 'efficientnet_v2_l', weight).to(device)\n",
        "        model.classifier[1] = nn.Linear(1280 , len(class_names), bias=True).to(device).to(device)\n",
        "\n",
        "        train_test_loop(config=config,\n",
        "                        model=model,\n",
        "                        train_dataloader=train_dataloader,\n",
        "                        test_dataloader=test_dataloader,\n",
        "                        class_names=class_names,\n",
        "                        device=device\n",
        "                        )\n",
        "    return model\n",
        "\n",
        "\n",
        "# efficientnet_v2_l pipeline\n",
        "sweep_id_efficientnet_v2_l = wandb.sweep(sweep_config, project=\"efficientnet_v2_l-customData\")\n",
        "wandb.agent(sweep_id_efficientnet_v2_l, train_model_efficientnet_v2_l)"
      ],
      "metadata": {
        "id": "wkzOv_gOyRcI"
      },
      "execution_count": null,
      "outputs": []
    },
    {
      "cell_type": "markdown",
      "source": [
        "## googlenet"
      ],
      "metadata": {
        "id": "VAUz5QoTyV7K"
      }
    },
    {
      "cell_type": "code",
      "source": [
        "def train_model_googlenet(config=None):\n",
        "    with wandb.init(config=config):\n",
        "\n",
        "\n",
        "        mean=[0.485, 0.456, 0.406]\n",
        "        std=[0.229, 0.224, 0.225]\n",
        "        tranform = transforms.Compose([\n",
        "            expMapping(4),\n",
        "            softThreshold(30, 255),\n",
        "            transforms.Resize(size=(224, 224)),\n",
        "            transforms.ToTensor(),\n",
        "            transforms.Normalize(mean=mean, std=std),\n",
        "        ])\n",
        "\n",
        "        config = wandb.config\n",
        "\n",
        "        train_dataloader, class_names, _ = create_dataset(path=Path(\"train_raw\"),\n",
        "                                                          batchsize=config.batch_size,\n",
        "                                                          preprocess=tranform)\n",
        "\n",
        "        test_dataloader, _ , _ = create_dataset(path=Path(\"test_raw\"),\n",
        "                                                batchsize=config.batch_size,\n",
        "                                                preprocess=tranform)\n",
        "\n",
        "\n",
        "        weight = list(torchvision.models.get_model_weights('googlenet'))[-1]\n",
        "        model = torch.hub.load('pytorch/vision', 'googlenet', weight).to(device)\n",
        "        model.fc = nn.Linear(1024 , len(class_names), bias=True).to(device)\n",
        "\n",
        "        train_test_loop(config=config,\n",
        "                        model=model,\n",
        "                        train_dataloader=train_dataloader,\n",
        "                        test_dataloader=test_dataloader,\n",
        "                        class_names=class_names,\n",
        "                        device=device\n",
        "                        )\n",
        "    return model\n",
        "\n",
        "\n",
        "# googlenet pipeline\n",
        "sweep_id_googlenet = wandb.sweep(sweep_config, project=\"googlenet-customData\")\n",
        "wandb.agent(sweep_id_googlenet, train_model_googlenet)"
      ],
      "metadata": {
        "colab": {
          "base_uri": "https://localhost:8080/",
          "height": 1000,
          "referenced_widgets": [
            "2e41df46be5441b59eafb7bfb2298159",
            "5118787cee664921993b0785ea2a949c",
            "06d49dc1709d4692b038229b5c9e3392",
            "ed8f5b606f054f9c96ae344428d8eeae",
            "c6c5f51aa0a54f648a157a92cc8768ea",
            "a88536941b4e4b1e94fa16ebd289be71",
            "ed9475894b064370ae5742e17504b042",
            "ecc3d35a54334f9ea3d910ea645835fc",
            "56b340fad9bf4087ac83d71ac39bd136",
            "5833f667503a4c9ba3bfe56b53766fee",
            "4fe0e0b1f0694bf0bf4e54e88c4cdb88",
            "aa3f518fb59e40dea5b8d58de05e8292",
            "2f655e33fb45488aad7c181440f1d55f",
            "0039cff1c9d44f9099581ce64eebc70e",
            "4f62ef9625294d5582aa728ea233e26e",
            "acec3db300334d1a8e5b22fe12cf1478",
            "13db8d09bd91467fb56a0cb0531fea7d",
            "de7cbf3100514a3985d44ac294ffdfab",
            "c0682b429b1b4d5784aafa69f2b9083f",
            "f9dc45a9cd854be4afd115f93f67f234",
            "eb6e0d97976a4f34994e690dcf3eade1",
            "280c988c6cca4b45b2f388f620af1f0e",
            "e50a625cc16e4e88a8422bf889ce8d0e",
            "8875dc37393742509f1216847243d121",
            "2a3f7988d4e84600b07f51a762d6539e",
            "4cbb66bc18ce4bbc9d6f97854af03e21",
            "c941af28ac314a0687242c21540fd628",
            "f6e52c2c78614f8a8e8c36552000a03a",
            "a4e4ee95c2ca4b3fb832573929a93325",
            "a2315b44276a4ad4ae47670195f2cfce",
            "80d106f8770f4ac59db7ad715da2725a",
            "087e912a75b744618781fb60259a177c"
          ]
        },
        "id": "Js5ErLiuyXeR",
        "outputId": "72c48694-a21c-4529-8806-781e4b0b9c88"
      },
      "execution_count": null,
      "outputs": [
        {
          "output_type": "stream",
          "name": "stdout",
          "text": [
            "Create sweep with ID: m3uz7d5c\n",
            "Sweep URL: https://wandb.ai/gugi200/googlenet-customData/sweeps/m3uz7d5c\n"
          ]
        },
        {
          "output_type": "stream",
          "name": "stderr",
          "text": [
            "\u001b[34m\u001b[1mwandb\u001b[0m: Agent Starting Run: 54ttrmsb with config:\n",
            "\u001b[34m\u001b[1mwandb\u001b[0m: \tbatch_size: 16\n",
            "\u001b[34m\u001b[1mwandb\u001b[0m: \tepochs: 5\n",
            "\u001b[34m\u001b[1mwandb\u001b[0m: \tfc_layer_size: 8\n",
            "\u001b[34m\u001b[1mwandb\u001b[0m: \tlearning_rate: 0.01\n",
            "\u001b[34m\u001b[1mwandb\u001b[0m: \toptimizer: adam\n"
          ]
        },
        {
          "output_type": "display_data",
          "data": {
            "text/plain": [
              "<IPython.core.display.HTML object>"
            ],
            "text/html": [
              "Tracking run with wandb version 0.16.2"
            ]
          },
          "metadata": {}
        },
        {
          "output_type": "display_data",
          "data": {
            "text/plain": [
              "<IPython.core.display.HTML object>"
            ],
            "text/html": [
              "Run data is saved locally in <code>/content/wandb/run-20240205_182615-54ttrmsb</code>"
            ]
          },
          "metadata": {}
        },
        {
          "output_type": "display_data",
          "data": {
            "text/plain": [
              "<IPython.core.display.HTML object>"
            ],
            "text/html": [
              "Syncing run <strong><a href='https://wandb.ai/gugi200/googlenet-customData/runs/54ttrmsb' target=\"_blank\">worldly-sweep-1</a></strong> to <a href='https://wandb.ai/gugi200/googlenet-customData' target=\"_blank\">Weights & Biases</a> (<a href='https://wandb.me/run' target=\"_blank\">docs</a>)<br/>Sweep page: <a href='https://wandb.ai/gugi200/googlenet-customData/sweeps/m3uz7d5c' target=\"_blank\">https://wandb.ai/gugi200/googlenet-customData/sweeps/m3uz7d5c</a>"
            ]
          },
          "metadata": {}
        },
        {
          "output_type": "display_data",
          "data": {
            "text/plain": [
              "<IPython.core.display.HTML object>"
            ],
            "text/html": [
              " View project at <a href='https://wandb.ai/gugi200/googlenet-customData' target=\"_blank\">https://wandb.ai/gugi200/googlenet-customData</a>"
            ]
          },
          "metadata": {}
        },
        {
          "output_type": "display_data",
          "data": {
            "text/plain": [
              "<IPython.core.display.HTML object>"
            ],
            "text/html": [
              " View sweep at <a href='https://wandb.ai/gugi200/googlenet-customData/sweeps/m3uz7d5c' target=\"_blank\">https://wandb.ai/gugi200/googlenet-customData/sweeps/m3uz7d5c</a>"
            ]
          },
          "metadata": {}
        },
        {
          "output_type": "display_data",
          "data": {
            "text/plain": [
              "<IPython.core.display.HTML object>"
            ],
            "text/html": [
              " View run at <a href='https://wandb.ai/gugi200/googlenet-customData/runs/54ttrmsb' target=\"_blank\">https://wandb.ai/gugi200/googlenet-customData/runs/54ttrmsb</a>"
            ]
          },
          "metadata": {}
        },
        {
          "output_type": "stream",
          "name": "stderr",
          "text": [
            "Using cache found in /root/.cache/torch/hub/pytorch_vision_main\n",
            "/usr/local/lib/python3.10/dist-packages/torchvision/models/_utils.py:135: UserWarning: Using 'weights' as positional parameter(s) is deprecated since 0.13 and may be removed in the future. Please use keyword parameter(s) instead.\n",
            "  warnings.warn(\n",
            "Downloading: \"https://download.pytorch.org/models/googlenet-1378be20.pth\" to /root/.cache/torch/hub/checkpoints/googlenet-1378be20.pth\n",
            "100%|██████████| 49.7M/49.7M [00:03<00:00, 16.1MB/s]\n"
          ]
        },
        {
          "output_type": "stream",
          "name": "stdout",
          "text": [
            "[0.01]\n",
            "Train loss: 1.1049, Train acc: 59.8796%\n",
            "Test loss: 0.8180  |  Test acc: 68.8375%\n",
            "[0.01]\n",
            "Train loss: 0.6792, Train acc: 74.9610%\n",
            "Test loss: 0.5050  |  Test acc: 82.9832%\n",
            "[0.01]\n",
            "Train loss: 0.4922, Train acc: 83.0205%\n",
            "Test loss: 0.3939  |  Test acc: 86.3445%\n",
            "[0.01]\n",
            "Train loss: 0.3493, Train acc: 88.4384%\n",
            "Test loss: 0.3070  |  Test acc: 89.9160%\n",
            "[0.01]\n",
            "Train loss: 0.3026, Train acc: 89.9044%\n",
            "Test loss: 0.4118  |  Test acc: 86.1345%\n"
          ]
        },
        {
          "output_type": "display_data",
          "data": {
            "text/plain": [
              "VBox(children=(Label(value='0.001 MB of 0.001 MB uploaded\\r'), FloatProgress(value=1.0, max=1.0)))"
            ],
            "application/vnd.jupyter.widget-view+json": {
              "version_major": 2,
              "version_minor": 0,
              "model_id": "2e41df46be5441b59eafb7bfb2298159"
            }
          },
          "metadata": {}
        },
        {
          "output_type": "display_data",
          "data": {
            "text/plain": [
              "<IPython.core.display.HTML object>"
            ],
            "text/html": [
              "<style>\n",
              "    table.wandb td:nth-child(1) { padding: 0 10px; text-align: left ; width: auto;} td:nth-child(2) {text-align: left ; width: 100%}\n",
              "    .wandb-row { display: flex; flex-direction: row; flex-wrap: wrap; justify-content: flex-start; width: 100% }\n",
              "    .wandb-col { display: flex; flex-direction: column; flex-basis: 100%; flex: 1; padding: 10px; }\n",
              "    </style>\n",
              "<div class=\"wandb-row\"><div class=\"wandb-col\"><h3>Run history:</h3><br/><table class=\"wandb\"><tr><td>accuracy</td><td>▁▃▂▄▄▅▁▅▅▅▆▆▆▅▅▅▁▇▆▆▅▅▆▄▇▆▅█▇▇▆█▆▇▄▇▆▆▆█</td></tr><tr><td>average test batch loss</td><td>█▄▂▁▂</td></tr><tr><td>average test batch metric</td><td>▁▆▇█▇</td></tr><tr><td>average train batch loss</td><td>█▄▃▁▁</td></tr><tr><td>average train batch metric</td><td>▁▅▆██</td></tr><tr><td>epoch</td><td>▁▃▅▆█</td></tr><tr><td>loss</td><td>█▆▇▅▄▄▇▄▄▄▃▃▃▂▅▄█▂▃▃▅▂▂▅▃▂▃▁▂▂▂▁▄▂▃▂▃▃▂▁</td></tr><tr><td>test accuracy</td><td>▅▄▂▁▁▄▁▁▅▄▇▂▄▄▄▂▄▇▇▅▅▅▅▅▅▇▇▇▇▅▅▅▁▅▂▁██▇▅</td></tr><tr><td>test loss</td><td>▄▅▄█▅▄▆▆▆▄▃▅▅▄▆█▄▂▂▂▄▃▄▅▃▂▂▂▂▂▄▂▄▂▅▅▁▁▁▃</td></tr><tr><td>train time</td><td>▁</td></tr></table><br/></div><div class=\"wandb-col\"><h3>Run summary:</h3><br/><table class=\"wandb\"><tr><td>accuracy</td><td>0.8</td></tr><tr><td>average test batch loss</td><td>0.41178</td></tr><tr><td>average test batch metric</td><td>0.86134</td></tr><tr><td>average train batch loss</td><td>0.30257</td></tr><tr><td>average train batch metric</td><td>0.89904</td></tr><tr><td>epoch</td><td>4</td></tr><tr><td>loss</td><td>0.45005</td></tr><tr><td>test accuracy</td><td>1.0</td></tr><tr><td>test loss</td><td>0.00342</td></tr><tr><td>train time</td><td>193.46129</td></tr></table><br/></div></div>"
            ]
          },
          "metadata": {}
        },
        {
          "output_type": "display_data",
          "data": {
            "text/plain": [
              "<IPython.core.display.HTML object>"
            ],
            "text/html": [
              " View run <strong style=\"color:#cdcd00\">worldly-sweep-1</strong> at: <a href='https://wandb.ai/gugi200/googlenet-customData/runs/54ttrmsb' target=\"_blank\">https://wandb.ai/gugi200/googlenet-customData/runs/54ttrmsb</a><br/>Synced 5 W&B file(s), 0 media file(s), 0 artifact file(s) and 0 other file(s)"
            ]
          },
          "metadata": {}
        },
        {
          "output_type": "display_data",
          "data": {
            "text/plain": [
              "<IPython.core.display.HTML object>"
            ],
            "text/html": [
              "Find logs at: <code>./wandb/run-20240205_182615-54ttrmsb/logs</code>"
            ]
          },
          "metadata": {}
        },
        {
          "output_type": "stream",
          "name": "stderr",
          "text": [
            "\u001b[34m\u001b[1mwandb\u001b[0m: Agent Starting Run: ajoola94 with config:\n",
            "\u001b[34m\u001b[1mwandb\u001b[0m: \tbatch_size: 16\n",
            "\u001b[34m\u001b[1mwandb\u001b[0m: \tepochs: 5\n",
            "\u001b[34m\u001b[1mwandb\u001b[0m: \tfc_layer_size: 8\n",
            "\u001b[34m\u001b[1mwandb\u001b[0m: \tlearning_rate: 0.01\n",
            "\u001b[34m\u001b[1mwandb\u001b[0m: \toptimizer: sgd\n"
          ]
        },
        {
          "output_type": "display_data",
          "data": {
            "text/plain": [
              "<IPython.core.display.HTML object>"
            ],
            "text/html": [
              "Tracking run with wandb version 0.16.2"
            ]
          },
          "metadata": {}
        },
        {
          "output_type": "display_data",
          "data": {
            "text/plain": [
              "<IPython.core.display.HTML object>"
            ],
            "text/html": [
              "Run data is saved locally in <code>/content/wandb/run-20240205_182949-ajoola94</code>"
            ]
          },
          "metadata": {}
        },
        {
          "output_type": "display_data",
          "data": {
            "text/plain": [
              "<IPython.core.display.HTML object>"
            ],
            "text/html": [
              "Syncing run <strong><a href='https://wandb.ai/gugi200/googlenet-customData/runs/ajoola94' target=\"_blank\">legendary-sweep-2</a></strong> to <a href='https://wandb.ai/gugi200/googlenet-customData' target=\"_blank\">Weights & Biases</a> (<a href='https://wandb.me/run' target=\"_blank\">docs</a>)<br/>Sweep page: <a href='https://wandb.ai/gugi200/googlenet-customData/sweeps/m3uz7d5c' target=\"_blank\">https://wandb.ai/gugi200/googlenet-customData/sweeps/m3uz7d5c</a>"
            ]
          },
          "metadata": {}
        },
        {
          "output_type": "display_data",
          "data": {
            "text/plain": [
              "<IPython.core.display.HTML object>"
            ],
            "text/html": [
              " View project at <a href='https://wandb.ai/gugi200/googlenet-customData' target=\"_blank\">https://wandb.ai/gugi200/googlenet-customData</a>"
            ]
          },
          "metadata": {}
        },
        {
          "output_type": "display_data",
          "data": {
            "text/plain": [
              "<IPython.core.display.HTML object>"
            ],
            "text/html": [
              " View sweep at <a href='https://wandb.ai/gugi200/googlenet-customData/sweeps/m3uz7d5c' target=\"_blank\">https://wandb.ai/gugi200/googlenet-customData/sweeps/m3uz7d5c</a>"
            ]
          },
          "metadata": {}
        },
        {
          "output_type": "display_data",
          "data": {
            "text/plain": [
              "<IPython.core.display.HTML object>"
            ],
            "text/html": [
              " View run at <a href='https://wandb.ai/gugi200/googlenet-customData/runs/ajoola94' target=\"_blank\">https://wandb.ai/gugi200/googlenet-customData/runs/ajoola94</a>"
            ]
          },
          "metadata": {}
        },
        {
          "output_type": "stream",
          "name": "stderr",
          "text": [
            "Using cache found in /root/.cache/torch/hub/pytorch_vision_main\n"
          ]
        },
        {
          "output_type": "stream",
          "name": "stdout",
          "text": [
            "[0.01]\n",
            "Train loss: 0.5871, Train acc: 79.0333%\n",
            "Test loss: 0.2777  |  Test acc: 91.4741%\n",
            "[0.01]\n",
            "Train loss: 0.2099, Train acc: 93.2153%\n",
            "Test loss: 0.1784  |  Test acc: 94.8530%\n",
            "[0.01]\n",
            "Train loss: 0.1143, Train acc: 96.3066%\n",
            "Test loss: 0.1094  |  Test acc: 97.1114%\n",
            "[0.01]\n",
            "Train loss: 0.0653, Train acc: 97.8754%\n",
            "Test loss: 0.1260  |  Test acc: 96.1660%\n",
            "[0.001]\n",
            "Train loss: 0.0350, Train acc: 99.0970%\n",
            "Test loss: 0.0601  |  Test acc: 98.4769%\n"
          ]
        },
        {
          "output_type": "display_data",
          "data": {
            "text/plain": [
              "VBox(children=(Label(value='0.001 MB of 0.001 MB uploaded\\r'), FloatProgress(value=1.0, max=1.0)))"
            ],
            "application/vnd.jupyter.widget-view+json": {
              "version_major": 2,
              "version_minor": 0,
              "model_id": "56b340fad9bf4087ac83d71ac39bd136"
            }
          },
          "metadata": {}
        },
        {
          "output_type": "display_data",
          "data": {
            "text/plain": [
              "<IPython.core.display.HTML object>"
            ],
            "text/html": [
              "<style>\n",
              "    table.wandb td:nth-child(1) { padding: 0 10px; text-align: left ; width: auto;} td:nth-child(2) {text-align: left ; width: 100%}\n",
              "    .wandb-row { display: flex; flex-direction: row; flex-wrap: wrap; justify-content: flex-start; width: 100% }\n",
              "    .wandb-col { display: flex; flex-direction: column; flex-basis: 100%; flex: 1; padding: 10px; }\n",
              "    </style>\n",
              "<div class=\"wandb-row\"><div class=\"wandb-col\"><h3>Run history:</h3><br/><table class=\"wandb\"><tr><td>accuracy</td><td>▁▄▇▆▆█▇▆▆███▆█▇█▆▆█▇█▇███▇█▇███▇████████</td></tr><tr><td>average test batch loss</td><td>█▅▃▃▁</td></tr><tr><td>average test batch metric</td><td>▁▄▇▆█</td></tr><tr><td>average train batch loss</td><td>█▃▂▁▁</td></tr><tr><td>average train batch metric</td><td>▁▆▇██</td></tr><tr><td>epoch</td><td>▁▃▅▆█</td></tr><tr><td>loss</td><td>█▅▃▃▂▁▂▃▂▁▁▂▂▁▁▁▂▂▁▁▁▂▁▁▁▂▁▁▁▁▁▁▁▁▁▁▁▁▁▁</td></tr><tr><td>test accuracy</td><td>▃▆▁▆▆█▆▁▆▆▆▅▃██▆██████▅▅▆▆▅██▆▆█████████</td></tr><tr><td>test loss</td><td>▅▆▅▃▂▂▃█▃▂▃▄▄▁▁▁▁▁▁▁▁▂▃▃▂▂▂▁▁▂▂▁▁▁▁▁▁▁▁▁</td></tr><tr><td>train time</td><td>▁</td></tr></table><br/></div><div class=\"wandb-col\"><h3>Run summary:</h3><br/><table class=\"wandb\"><tr><td>accuracy</td><td>1.0</td></tr><tr><td>average test batch loss</td><td>0.06011</td></tr><tr><td>average test batch metric</td><td>0.98477</td></tr><tr><td>average train batch loss</td><td>0.03498</td></tr><tr><td>average train batch metric</td><td>0.99097</td></tr><tr><td>epoch</td><td>4</td></tr><tr><td>loss</td><td>0.08357</td></tr><tr><td>test accuracy</td><td>1.0</td></tr><tr><td>test loss</td><td>0.03242</td></tr><tr><td>train time</td><td>192.04591</td></tr></table><br/></div></div>"
            ]
          },
          "metadata": {}
        },
        {
          "output_type": "display_data",
          "data": {
            "text/plain": [
              "<IPython.core.display.HTML object>"
            ],
            "text/html": [
              " View run <strong style=\"color:#cdcd00\">legendary-sweep-2</strong> at: <a href='https://wandb.ai/gugi200/googlenet-customData/runs/ajoola94' target=\"_blank\">https://wandb.ai/gugi200/googlenet-customData/runs/ajoola94</a><br/>Synced 5 W&B file(s), 0 media file(s), 0 artifact file(s) and 0 other file(s)"
            ]
          },
          "metadata": {}
        },
        {
          "output_type": "display_data",
          "data": {
            "text/plain": [
              "<IPython.core.display.HTML object>"
            ],
            "text/html": [
              "Find logs at: <code>./wandb/run-20240205_182949-ajoola94/logs</code>"
            ]
          },
          "metadata": {}
        },
        {
          "output_type": "stream",
          "name": "stderr",
          "text": [
            "\u001b[34m\u001b[1mwandb\u001b[0m: Sweep Agent: Waiting for job.\n",
            "\u001b[34m\u001b[1mwandb\u001b[0m: Job received.\n",
            "\u001b[34m\u001b[1mwandb\u001b[0m: Agent Starting Run: 1ohwaprs with config:\n",
            "\u001b[34m\u001b[1mwandb\u001b[0m: \tbatch_size: 32\n",
            "\u001b[34m\u001b[1mwandb\u001b[0m: \tepochs: 5\n",
            "\u001b[34m\u001b[1mwandb\u001b[0m: \tfc_layer_size: 8\n",
            "\u001b[34m\u001b[1mwandb\u001b[0m: \tlearning_rate: 0.01\n",
            "\u001b[34m\u001b[1mwandb\u001b[0m: \toptimizer: adam\n"
          ]
        },
        {
          "output_type": "display_data",
          "data": {
            "text/plain": [
              "<IPython.core.display.HTML object>"
            ],
            "text/html": [
              "Tracking run with wandb version 0.16.2"
            ]
          },
          "metadata": {}
        },
        {
          "output_type": "display_data",
          "data": {
            "text/plain": [
              "<IPython.core.display.HTML object>"
            ],
            "text/html": [
              "Run data is saved locally in <code>/content/wandb/run-20240205_183325-1ohwaprs</code>"
            ]
          },
          "metadata": {}
        },
        {
          "output_type": "display_data",
          "data": {
            "text/plain": [
              "<IPython.core.display.HTML object>"
            ],
            "text/html": [
              "Syncing run <strong><a href='https://wandb.ai/gugi200/googlenet-customData/runs/1ohwaprs' target=\"_blank\">rosy-sweep-3</a></strong> to <a href='https://wandb.ai/gugi200/googlenet-customData' target=\"_blank\">Weights & Biases</a> (<a href='https://wandb.me/run' target=\"_blank\">docs</a>)<br/>Sweep page: <a href='https://wandb.ai/gugi200/googlenet-customData/sweeps/m3uz7d5c' target=\"_blank\">https://wandb.ai/gugi200/googlenet-customData/sweeps/m3uz7d5c</a>"
            ]
          },
          "metadata": {}
        },
        {
          "output_type": "display_data",
          "data": {
            "text/plain": [
              "<IPython.core.display.HTML object>"
            ],
            "text/html": [
              " View project at <a href='https://wandb.ai/gugi200/googlenet-customData' target=\"_blank\">https://wandb.ai/gugi200/googlenet-customData</a>"
            ]
          },
          "metadata": {}
        },
        {
          "output_type": "display_data",
          "data": {
            "text/plain": [
              "<IPython.core.display.HTML object>"
            ],
            "text/html": [
              " View sweep at <a href='https://wandb.ai/gugi200/googlenet-customData/sweeps/m3uz7d5c' target=\"_blank\">https://wandb.ai/gugi200/googlenet-customData/sweeps/m3uz7d5c</a>"
            ]
          },
          "metadata": {}
        },
        {
          "output_type": "display_data",
          "data": {
            "text/plain": [
              "<IPython.core.display.HTML object>"
            ],
            "text/html": [
              " View run at <a href='https://wandb.ai/gugi200/googlenet-customData/runs/1ohwaprs' target=\"_blank\">https://wandb.ai/gugi200/googlenet-customData/runs/1ohwaprs</a>"
            ]
          },
          "metadata": {}
        },
        {
          "output_type": "stream",
          "name": "stderr",
          "text": [
            "Using cache found in /root/.cache/torch/hub/pytorch_vision_main\n"
          ]
        },
        {
          "output_type": "stream",
          "name": "stdout",
          "text": [
            "[0.01]\n",
            "Train loss: 0.9412, Train acc: 64.9470%\n",
            "Test loss: 1.1261  |  Test acc: 69.0104%\n",
            "[0.01]\n",
            "Train loss: 0.5325, Train acc: 80.5756%\n",
            "Test loss: 0.9329  |  Test acc: 69.6007%\n",
            "[0.01]\n",
            "Train loss: 0.4357, Train acc: 84.8764%\n",
            "Test loss: 0.9230  |  Test acc: 71.2674%\n",
            "[0.01]\n",
            "Train loss: 0.3039, Train acc: 89.3644%\n",
            "Test loss: 6.1501  |  Test acc: 32.0660%\n",
            "[0.01]\n",
            "Train loss: 0.2574, Train acc: 91.3206%\n",
            "Test loss: 0.2743  |  Test acc: 90.1042%\n"
          ]
        },
        {
          "output_type": "display_data",
          "data": {
            "text/plain": [
              "VBox(children=(Label(value='0.001 MB of 0.011 MB uploaded\\r'), FloatProgress(value=0.10426500337154417, max=1.…"
            ],
            "application/vnd.jupyter.widget-view+json": {
              "version_major": 2,
              "version_minor": 0,
              "model_id": "13db8d09bd91467fb56a0cb0531fea7d"
            }
          },
          "metadata": {}
        },
        {
          "output_type": "display_data",
          "data": {
            "text/plain": [
              "<IPython.core.display.HTML object>"
            ],
            "text/html": [
              "<style>\n",
              "    table.wandb td:nth-child(1) { padding: 0 10px; text-align: left ; width: auto;} td:nth-child(2) {text-align: left ; width: 100%}\n",
              "    .wandb-row { display: flex; flex-direction: row; flex-wrap: wrap; justify-content: flex-start; width: 100% }\n",
              "    .wandb-col { display: flex; flex-direction: column; flex-basis: 100%; flex: 1; padding: 10px; }\n",
              "    </style>\n",
              "<div class=\"wandb-row\"><div class=\"wandb-col\"><h3>Run history:</h3><br/><table class=\"wandb\"><tr><td>accuracy</td><td>▁▂▁▅▄▆▃▆▅▆▅▅▆▆▆▆▆▇█▇▅▇▆▆▅▇▆▇▆▆▆▇█▆▆▇█▇██</td></tr><tr><td>average test batch loss</td><td>▂▂▂█▁</td></tr><tr><td>average test batch metric</td><td>▅▆▆▁█</td></tr><tr><td>average train batch loss</td><td>█▄▃▁▁</td></tr><tr><td>average train batch metric</td><td>▁▅▆▇█</td></tr><tr><td>epoch</td><td>▁▃▅▆█</td></tr><tr><td>loss</td><td>▇▆█▄▅▃▅▃▄▂▄▄▂▃▂▄▂▂▁▂▃▂▂▃▂▂▃▂▃▂▂▂▁▃▃▂▁▁▁▁</td></tr><tr><td>test accuracy</td><td>▅▅▅▅▆▅▆▆▆▅▆▆▆▅▅▅▆▆▅▄▇▆▆▆▂▂▂▁▂▃▃▄▇▇▆▇▇▇▆█</td></tr><tr><td>test loss</td><td>▃▂▃▂▃▃▂▂▂▂▂▂▂▂▃▂▂▂▂▂▂▂▁▂█▆▆▇▆▇▆▅▁▁▂▁▁▁▂▁</td></tr><tr><td>train time</td><td>▁</td></tr></table><br/></div><div class=\"wandb-col\"><h3>Run summary:</h3><br/><table class=\"wandb\"><tr><td>accuracy</td><td>0.7</td></tr><tr><td>average test batch loss</td><td>0.27428</td></tr><tr><td>average test batch metric</td><td>0.90104</td></tr><tr><td>average train batch loss</td><td>0.25736</td></tr><tr><td>average train batch metric</td><td>0.91321</td></tr><tr><td>epoch</td><td>4</td></tr><tr><td>loss</td><td>0.5978</td></tr><tr><td>test accuracy</td><td>1.0</td></tr><tr><td>test loss</td><td>0.02421</td></tr><tr><td>train time</td><td>187.51221</td></tr></table><br/></div></div>"
            ]
          },
          "metadata": {}
        },
        {
          "output_type": "display_data",
          "data": {
            "text/plain": [
              "<IPython.core.display.HTML object>"
            ],
            "text/html": [
              " View run <strong style=\"color:#cdcd00\">rosy-sweep-3</strong> at: <a href='https://wandb.ai/gugi200/googlenet-customData/runs/1ohwaprs' target=\"_blank\">https://wandb.ai/gugi200/googlenet-customData/runs/1ohwaprs</a><br/>Synced 5 W&B file(s), 0 media file(s), 0 artifact file(s) and 0 other file(s)"
            ]
          },
          "metadata": {}
        },
        {
          "output_type": "display_data",
          "data": {
            "text/plain": [
              "<IPython.core.display.HTML object>"
            ],
            "text/html": [
              "Find logs at: <code>./wandb/run-20240205_183325-1ohwaprs/logs</code>"
            ]
          },
          "metadata": {}
        },
        {
          "output_type": "stream",
          "name": "stderr",
          "text": [
            "\u001b[34m\u001b[1mwandb\u001b[0m: Agent Starting Run: 3n41ytmq with config:\n",
            "\u001b[34m\u001b[1mwandb\u001b[0m: \tbatch_size: 32\n",
            "\u001b[34m\u001b[1mwandb\u001b[0m: \tepochs: 5\n",
            "\u001b[34m\u001b[1mwandb\u001b[0m: \tfc_layer_size: 8\n",
            "\u001b[34m\u001b[1mwandb\u001b[0m: \tlearning_rate: 0.01\n",
            "\u001b[34m\u001b[1mwandb\u001b[0m: \toptimizer: sgd\n"
          ]
        },
        {
          "output_type": "display_data",
          "data": {
            "text/plain": [
              "<IPython.core.display.HTML object>"
            ],
            "text/html": [
              "Tracking run with wandb version 0.16.2"
            ]
          },
          "metadata": {}
        },
        {
          "output_type": "display_data",
          "data": {
            "text/plain": [
              "<IPython.core.display.HTML object>"
            ],
            "text/html": [
              "Run data is saved locally in <code>/content/wandb/run-20240205_183646-3n41ytmq</code>"
            ]
          },
          "metadata": {}
        },
        {
          "output_type": "display_data",
          "data": {
            "text/plain": [
              "<IPython.core.display.HTML object>"
            ],
            "text/html": [
              "Syncing run <strong><a href='https://wandb.ai/gugi200/googlenet-customData/runs/3n41ytmq' target=\"_blank\">lyric-sweep-4</a></strong> to <a href='https://wandb.ai/gugi200/googlenet-customData' target=\"_blank\">Weights & Biases</a> (<a href='https://wandb.me/run' target=\"_blank\">docs</a>)<br/>Sweep page: <a href='https://wandb.ai/gugi200/googlenet-customData/sweeps/m3uz7d5c' target=\"_blank\">https://wandb.ai/gugi200/googlenet-customData/sweeps/m3uz7d5c</a>"
            ]
          },
          "metadata": {}
        },
        {
          "output_type": "display_data",
          "data": {
            "text/plain": [
              "<IPython.core.display.HTML object>"
            ],
            "text/html": [
              " View project at <a href='https://wandb.ai/gugi200/googlenet-customData' target=\"_blank\">https://wandb.ai/gugi200/googlenet-customData</a>"
            ]
          },
          "metadata": {}
        },
        {
          "output_type": "display_data",
          "data": {
            "text/plain": [
              "<IPython.core.display.HTML object>"
            ],
            "text/html": [
              " View sweep at <a href='https://wandb.ai/gugi200/googlenet-customData/sweeps/m3uz7d5c' target=\"_blank\">https://wandb.ai/gugi200/googlenet-customData/sweeps/m3uz7d5c</a>"
            ]
          },
          "metadata": {}
        },
        {
          "output_type": "display_data",
          "data": {
            "text/plain": [
              "<IPython.core.display.HTML object>"
            ],
            "text/html": [
              " View run at <a href='https://wandb.ai/gugi200/googlenet-customData/runs/3n41ytmq' target=\"_blank\">https://wandb.ai/gugi200/googlenet-customData/runs/3n41ytmq</a>"
            ]
          },
          "metadata": {}
        },
        {
          "output_type": "stream",
          "name": "stderr",
          "text": [
            "Using cache found in /root/.cache/torch/hub/pytorch_vision_main\n"
          ]
        },
        {
          "output_type": "stream",
          "name": "stdout",
          "text": [
            "[0.01]\n",
            "Train loss: 0.6146, Train acc: 78.5099%\n",
            "Test loss: 0.2777  |  Test acc: 90.9896%\n",
            "[0.01]\n",
            "Train loss: 0.1372, Train acc: 95.7168%\n",
            "Test loss: 0.1181  |  Test acc: 95.9896%\n",
            "[0.01]\n",
            "Train loss: 0.0809, Train acc: 97.4576%\n",
            "Test loss: 0.1127  |  Test acc: 96.6840%\n",
            "[0.001]\n",
            "Train loss: 0.0308, Train acc: 99.2938%\n",
            "Test loss: 0.0706  |  Test acc: 98.0208%\n",
            "[0.001]\n",
            "Train loss: 0.0188, Train acc: 99.6999%\n",
            "Test loss: 0.0677  |  Test acc: 98.2292%\n"
          ]
        },
        {
          "output_type": "display_data",
          "data": {
            "text/plain": [
              "VBox(children=(Label(value='0.001 MB of 0.001 MB uploaded\\r'), FloatProgress(value=1.0, max=1.0)))"
            ],
            "application/vnd.jupyter.widget-view+json": {
              "version_major": 2,
              "version_minor": 0,
              "model_id": "2a3f7988d4e84600b07f51a762d6539e"
            }
          },
          "metadata": {}
        },
        {
          "output_type": "display_data",
          "data": {
            "text/plain": [
              "<IPython.core.display.HTML object>"
            ],
            "text/html": [
              "<style>\n",
              "    table.wandb td:nth-child(1) { padding: 0 10px; text-align: left ; width: auto;} td:nth-child(2) {text-align: left ; width: 100%}\n",
              "    .wandb-row { display: flex; flex-direction: row; flex-wrap: wrap; justify-content: flex-start; width: 100% }\n",
              "    .wandb-col { display: flex; flex-direction: column; flex-basis: 100%; flex: 1; padding: 10px; }\n",
              "    </style>\n",
              "<div class=\"wandb-row\"><div class=\"wandb-col\"><h3>Run history:</h3><br/><table class=\"wandb\"><tr><td>accuracy</td><td>▁▅▇▇▇▇▇▇▇▇███▇▇██▇████▇█▇███████████████</td></tr><tr><td>average test batch loss</td><td>█▃▂▁▁</td></tr><tr><td>average test batch metric</td><td>▁▆▇██</td></tr><tr><td>average train batch loss</td><td>█▂▂▁▁</td></tr><tr><td>average train batch metric</td><td>▁▇▇██</td></tr><tr><td>epoch</td><td>▁▃▅▆█</td></tr><tr><td>loss</td><td>█▅▃▂▂▂▂▂▂▂▁▁▁▂▂▁▁▂▁▁▁▁▂▁▁▁▁▂▁▁▁▁▁▁▁▁▁▁▁▁</td></tr><tr><td>test accuracy</td><td>▄█▇▁▂▂▅█▇█▇▂█▇█▇█▇█▇▅▇▇█▇██▅██▇█▅▅▇█▇█▇█</td></tr><tr><td>test loss</td><td>▅▃▃█▇▆▄▃▂▂▂▅▁▂▂▂▁▃▁▂▃▂▅▂▂▁▁▃▁▁▁▁▃▃▂▂▁▁▂▁</td></tr><tr><td>train time</td><td>▁</td></tr></table><br/></div><div class=\"wandb-col\"><h3>Run summary:</h3><br/><table class=\"wandb\"><tr><td>accuracy</td><td>1.0</td></tr><tr><td>average test batch loss</td><td>0.06772</td></tr><tr><td>average test batch metric</td><td>0.98229</td></tr><tr><td>average train batch loss</td><td>0.01877</td></tr><tr><td>average train batch metric</td><td>0.997</td></tr><tr><td>epoch</td><td>4</td></tr><tr><td>loss</td><td>0.00719</td></tr><tr><td>test accuracy</td><td>1.0</td></tr><tr><td>test loss</td><td>0.00024</td></tr><tr><td>train time</td><td>185.98437</td></tr></table><br/></div></div>"
            ]
          },
          "metadata": {}
        },
        {
          "output_type": "display_data",
          "data": {
            "text/plain": [
              "<IPython.core.display.HTML object>"
            ],
            "text/html": [
              " View run <strong style=\"color:#cdcd00\">lyric-sweep-4</strong> at: <a href='https://wandb.ai/gugi200/googlenet-customData/runs/3n41ytmq' target=\"_blank\">https://wandb.ai/gugi200/googlenet-customData/runs/3n41ytmq</a><br/>Synced 5 W&B file(s), 0 media file(s), 0 artifact file(s) and 0 other file(s)"
            ]
          },
          "metadata": {}
        },
        {
          "output_type": "display_data",
          "data": {
            "text/plain": [
              "<IPython.core.display.HTML object>"
            ],
            "text/html": [
              "Find logs at: <code>./wandb/run-20240205_183646-3n41ytmq/logs</code>"
            ]
          },
          "metadata": {}
        },
        {
          "output_type": "stream",
          "name": "stderr",
          "text": [
            "\u001b[34m\u001b[1mwandb\u001b[0m: Sweep Agent: Waiting for job.\n",
            "\u001b[34m\u001b[1mwandb\u001b[0m: Sweep Agent: Exiting.\n"
          ]
        }
      ]
    },
    {
      "cell_type": "markdown",
      "source": [
        "## inception_v3\n",
        "\n"
      ],
      "metadata": {
        "id": "g-eeIInryd-s"
      }
    },
    {
      "cell_type": "code",
      "source": [
        "def train_model_inception_v3(config=None):\n",
        "    with wandb.init(config=config):\n",
        "\n",
        "\n",
        "        mean=[0.485, 0.456, 0.406]\n",
        "        std=[0.229, 0.224, 0.225]\n",
        "        tranform = transforms.Compose([\n",
        "            expMapping(4),\n",
        "            softThreshold(30, 255),\n",
        "            transforms.Resize(size=(224, 224)),\n",
        "            transforms.ToTensor(),\n",
        "            transforms.Normalize(mean=mean, std=std),\n",
        "        ])\n",
        "\n",
        "        config = wandb.config\n",
        "\n",
        "        train_dataloader, class_names, _ = create_dataset(path=Path(\"train_raw\"),\n",
        "                                                          batchsize=config.batch_size,\n",
        "                                                          preprocess=tranform)\n",
        "\n",
        "        test_dataloader, _ , _ = create_dataset(path=Path(\"test_raw\"),\n",
        "                                                batchsize=config.batch_size,\n",
        "                                                preprocess=tranform)\n",
        "\n",
        "\n",
        "        weight = list(torchvision.models.get_model_weights('inception_v3'))[-1]\n",
        "        model = torch.hub.load('pytorch/vision', 'inception_v3', weight).to(device)\n",
        "        model.fc = nn.Linear(2048 , len(class_names), bias=True).to(device)\n",
        "\n",
        "        train_test_loop(config=config,\n",
        "                        model=model,\n",
        "                        train_dataloader=train_dataloader,\n",
        "                        test_dataloader=test_dataloader,\n",
        "                        class_names=class_names,\n",
        "                        device=device\n",
        "                        )\n",
        "    return model\n",
        "\n",
        "\n",
        "# inception_v3 pipeline\n",
        "sweep_id_inception_v3 = wandb.sweep(sweep_config, project=\"inception_v3-customData\")\n",
        "wandb.agent(sweep_id_inception_v3, train_model_inception_v3)"
      ],
      "metadata": {
        "colab": {
          "base_uri": "https://localhost:8080/"
        },
        "id": "xacRIeTCyeal",
        "outputId": "8a8055db-c567-48a1-d26e-5f6cfa6e7363"
      },
      "execution_count": null,
      "outputs": [
        {
          "output_type": "stream",
          "name": "stdout",
          "text": [
            "Create sweep with ID: b51zm6oo\n",
            "Sweep URL: https://wandb.ai/gugi200/inception_v3-customData/sweeps/b51zm6oo\n"
          ]
        },
        {
          "output_type": "stream",
          "name": "stderr",
          "text": [
            "\u001b[34m\u001b[1mwandb\u001b[0m: Agent Starting Run: bjvhnsu6 with config:\n",
            "\u001b[34m\u001b[1mwandb\u001b[0m: \tbatch_size: 16\n",
            "\u001b[34m\u001b[1mwandb\u001b[0m: \tepochs: 5\n",
            "\u001b[34m\u001b[1mwandb\u001b[0m: \tfc_layer_size: 8\n",
            "\u001b[34m\u001b[1mwandb\u001b[0m: \tlearning_rate: 0.01\n",
            "\u001b[34m\u001b[1mwandb\u001b[0m: \toptimizer: adam\n",
            "\u001b[34m\u001b[1mwandb\u001b[0m: Ctrl + C detected. Stopping sweep.\n"
          ]
        }
      ]
    },
    {
      "cell_type": "markdown",
      "source": [
        "## maxvit_t"
      ],
      "metadata": {
        "id": "uUIZwyrkyjth"
      }
    },
    {
      "cell_type": "code",
      "source": [
        "def train_model_maxvit_t(config=None):\n",
        "    with wandb.init(config=config):\n",
        "\n",
        "\n",
        "        mean=[0.485, 0.456, 0.406]\n",
        "        std=[0.229, 0.224, 0.225]\n",
        "        tranform = transforms.Compose([\n",
        "            expMapping(4),\n",
        "            softThreshold(30, 255),\n",
        "            transforms.Resize(size=(224, 224)),\n",
        "            transforms.ToTensor(),\n",
        "            transforms.Normalize(mean=mean, std=std),\n",
        "        ])\n",
        "\n",
        "        config = wandb.config\n",
        "\n",
        "        train_dataloader, class_names, _ = create_dataset(path=Path(\"train_raw\"),\n",
        "                                                          batchsize=config.batch_size,\n",
        "                                                          preprocess=tranform)\n",
        "\n",
        "        test_dataloader, _ , _ = create_dataset(path=Path(\"test_raw\"),\n",
        "                                                batchsize=config.batch_size,\n",
        "                                                preprocess=tranform)\n",
        "\n",
        "\n",
        "        weight = list(torchvision.models.get_model_weights('maxvit_t'))[-1]\n",
        "        model = torch.hub.load('pytorch/vision', 'maxvit_t', weight).to(device)\n",
        "        model.classifier[5] = nn.Linear(512 , len(class_names), bias=False).to(device)\n",
        "\n",
        "        train_test_loop(config=config,\n",
        "                        model=model,\n",
        "                        train_dataloader=train_dataloader,\n",
        "                        test_dataloader=test_dataloader,\n",
        "                        class_names=class_names,\n",
        "                        device=device\n",
        "                        )\n",
        "    return model\n",
        "\n",
        "\n",
        "# maxvit_t pipeline\n",
        "sweep_id_maxvit_t = wandb.sweep(sweep_config, project=\"maxvit_t-customData\")\n",
        "wandb.agent(sweep_id_maxvit_t, train_model_maxvit_t)"
      ],
      "metadata": {
        "colab": {
          "base_uri": "https://localhost:8080/",
          "height": 1000,
          "referenced_widgets": [
            "916b153262a0484e9f1be7276ec906b6",
            "0fd87bbb89474856accbe8ba41eaec62",
            "483d16be63204f87b9259bcd812fae5c",
            "0e1e3914844347b48db2d8b76203760c",
            "f7fc7316e3714714b6c4252a0f27f367",
            "0ce0fae5100c46d5af3ae8d77d5a9c5a",
            "3e9b506c8ac645be8808e4e71c6c4c79",
            "44acf05b78ea40f6be4e64c6b4182d25"
          ]
        },
        "id": "zSSM4Otwyncy",
        "outputId": "7d730f4e-f783-44d2-e612-ecedd2041fe4"
      },
      "execution_count": null,
      "outputs": [
        {
          "output_type": "stream",
          "name": "stdout",
          "text": [
            "Create sweep with ID: hqiytoj1\n",
            "Sweep URL: https://wandb.ai/gugi200/maxvit_t-customData/sweeps/hqiytoj1\n"
          ]
        },
        {
          "output_type": "stream",
          "name": "stderr",
          "text": [
            "\u001b[34m\u001b[1mwandb\u001b[0m: Agent Starting Run: xyd6i2r4 with config:\n",
            "\u001b[34m\u001b[1mwandb\u001b[0m: \tbatch_size: 16\n",
            "\u001b[34m\u001b[1mwandb\u001b[0m: \tepochs: 5\n",
            "\u001b[34m\u001b[1mwandb\u001b[0m: \tfc_layer_size: 8\n",
            "\u001b[34m\u001b[1mwandb\u001b[0m: \tlearning_rate: 0.01\n",
            "\u001b[34m\u001b[1mwandb\u001b[0m: \toptimizer: adam\n"
          ]
        },
        {
          "output_type": "display_data",
          "data": {
            "text/plain": [
              "<IPython.core.display.HTML object>"
            ],
            "text/html": [
              "Tracking run with wandb version 0.16.3"
            ]
          },
          "metadata": {}
        },
        {
          "output_type": "display_data",
          "data": {
            "text/plain": [
              "<IPython.core.display.HTML object>"
            ],
            "text/html": [
              "Run data is saved locally in <code>/content/wandb/run-20240218_195117-xyd6i2r4</code>"
            ]
          },
          "metadata": {}
        },
        {
          "output_type": "display_data",
          "data": {
            "text/plain": [
              "<IPython.core.display.HTML object>"
            ],
            "text/html": [
              "Syncing run <strong><a href='https://wandb.ai/gugi200/maxvit_t-customData/runs/xyd6i2r4' target=\"_blank\">stellar-sweep-1</a></strong> to <a href='https://wandb.ai/gugi200/maxvit_t-customData' target=\"_blank\">Weights & Biases</a> (<a href='https://wandb.me/run' target=\"_blank\">docs</a>)<br/>Sweep page: <a href='https://wandb.ai/gugi200/maxvit_t-customData/sweeps/hqiytoj1' target=\"_blank\">https://wandb.ai/gugi200/maxvit_t-customData/sweeps/hqiytoj1</a>"
            ]
          },
          "metadata": {}
        },
        {
          "output_type": "display_data",
          "data": {
            "text/plain": [
              "<IPython.core.display.HTML object>"
            ],
            "text/html": [
              " View project at <a href='https://wandb.ai/gugi200/maxvit_t-customData' target=\"_blank\">https://wandb.ai/gugi200/maxvit_t-customData</a>"
            ]
          },
          "metadata": {}
        },
        {
          "output_type": "display_data",
          "data": {
            "text/plain": [
              "<IPython.core.display.HTML object>"
            ],
            "text/html": [
              " View sweep at <a href='https://wandb.ai/gugi200/maxvit_t-customData/sweeps/hqiytoj1' target=\"_blank\">https://wandb.ai/gugi200/maxvit_t-customData/sweeps/hqiytoj1</a>"
            ]
          },
          "metadata": {}
        },
        {
          "output_type": "display_data",
          "data": {
            "text/plain": [
              "<IPython.core.display.HTML object>"
            ],
            "text/html": [
              " View run at <a href='https://wandb.ai/gugi200/maxvit_t-customData/runs/xyd6i2r4' target=\"_blank\">https://wandb.ai/gugi200/maxvit_t-customData/runs/xyd6i2r4</a>"
            ]
          },
          "metadata": {}
        },
        {
          "output_type": "stream",
          "name": "stderr",
          "text": [
            "Using cache found in /root/.cache/torch/hub/pytorch_vision_main\n",
            "/usr/local/lib/python3.10/dist-packages/torch/functional.py:504: UserWarning: torch.meshgrid: in an upcoming release, it will be required to pass the indexing argument. (Triggered internally at ../aten/src/ATen/native/TensorShape.cpp:3526.)\n",
            "  return _VF.meshgrid(tensors, **kwargs)  # type: ignore[attr-defined]\n",
            "Downloading: \"https://download.pytorch.org/models/maxvit_t-bc5ab103.pth\" to /root/.cache/torch/hub/checkpoints/maxvit_t-bc5ab103.pth\n",
            "100%|██████████| 119M/119M [00:01<00:00, 103MB/s] \n"
          ]
        },
        {
          "output_type": "stream",
          "name": "stdout",
          "text": [
            "[0.01]\n",
            "Train loss: 1.8840, Train acc: 26.0316%\n",
            "Test loss: 1.6977  |  Test acc: 24.5082%\n",
            "[0.01]\n",
            "Train loss: 1.4697, Train acc: 35.5253%\n",
            "Test loss: 1.4759  |  Test acc: 37.9010%\n",
            "[0.01]\n",
            "Train loss: 1.4409, Train acc: 37.7207%\n",
            "Test loss: 1.4171  |  Test acc: 33.2400%\n",
            "[0.01]\n",
            "Train loss: 1.4106, Train acc: 38.5482%\n",
            "Test loss: 1.3165  |  Test acc: 40.1861%\n",
            "[0.01]\n",
            "Train loss: 1.3717, Train acc: 39.6884%\n",
            "Test loss: 1.3257  |  Test acc: 39.1873%\n"
          ]
        },
        {
          "output_type": "display_data",
          "data": {
            "text/plain": [
              "VBox(children=(Label(value='0.001 MB of 0.001 MB uploaded\\r'), FloatProgress(value=1.0, max=1.0)))"
            ],
            "application/vnd.jupyter.widget-view+json": {
              "version_major": 2,
              "version_minor": 0,
              "model_id": "916b153262a0484e9f1be7276ec906b6"
            }
          },
          "metadata": {}
        },
        {
          "output_type": "display_data",
          "data": {
            "text/plain": [
              "<IPython.core.display.HTML object>"
            ],
            "text/html": [
              "<style>\n",
              "    table.wandb td:nth-child(1) { padding: 0 10px; text-align: left ; width: auto;} td:nth-child(2) {text-align: left ; width: 100%}\n",
              "    .wandb-row { display: flex; flex-direction: row; flex-wrap: wrap; justify-content: flex-start; width: 100% }\n",
              "    .wandb-col { display: flex; flex-direction: column; flex-basis: 100%; flex: 1; padding: 10px; }\n",
              "    </style>\n",
              "<div class=\"wandb-row\"><div class=\"wandb-col\"><h3>Run history:</h3><br/><table class=\"wandb\"><tr><td>accuracy</td><td>▄▂▃▄▅▆▅▇▃▅▇▄▅▆▁▆▁▅▆█▅▅▅▇▅▅▇▇▅▂▃▆▄▅▇▄▅▆▃█</td></tr><tr><td>average test batch loss</td><td>█▄▃▁▁</td></tr><tr><td>average test batch metric</td><td>▁▇▅██</td></tr><tr><td>average train batch loss</td><td>█▂▂▂▁</td></tr><tr><td>average train batch metric</td><td>▁▆▇▇█</td></tr><tr><td>epoch</td><td>▁▃▅▆█</td></tr><tr><td>loss</td><td>█▅▅▅▄▃▃▃▃▂▄▃▂▄▆▃▄▃▂▁▅▃▃▂▅▃▁▃▃▃▃▂▃▃▂▃▃▃▄▁</td></tr><tr><td>test accuracy</td><td>▃▂▂▂▂▂▂▅▅▁▇▃▄▇▅█▆▂█▂▅▄▆▃▇▇▇▅▅▄▄▄▂▅▂█▂█▆▆</td></tr><tr><td>test loss</td><td>█▆▆▇█▇▆▄▂▆▄▅▅▃▅▃▄▄▂▆▁▅▃▅▃▃▃▃▅▂▅▃▄▂▅▂▆▁▃▃</td></tr><tr><td>train time</td><td>▁</td></tr></table><br/></div><div class=\"wandb-col\"><h3>Run summary:</h3><br/><table class=\"wandb\"><tr><td>accuracy</td><td>0.6</td></tr><tr><td>average test batch loss</td><td>1.32569</td></tr><tr><td>average test batch metric</td><td>0.39187</td></tr><tr><td>average train batch loss</td><td>1.37168</td></tr><tr><td>average train batch metric</td><td>0.39688</td></tr><tr><td>epoch</td><td>4</td></tr><tr><td>loss</td><td>1.08285</td></tr><tr><td>test accuracy</td><td>0.42857</td></tr><tr><td>test loss</td><td>1.51855</td></tr><tr><td>train time</td><td>735.07805</td></tr></table><br/></div></div>"
            ]
          },
          "metadata": {}
        },
        {
          "output_type": "display_data",
          "data": {
            "text/plain": [
              "<IPython.core.display.HTML object>"
            ],
            "text/html": [
              " View run <strong style=\"color:#cdcd00\">stellar-sweep-1</strong> at: <a href='https://wandb.ai/gugi200/maxvit_t-customData/runs/xyd6i2r4' target=\"_blank\">https://wandb.ai/gugi200/maxvit_t-customData/runs/xyd6i2r4</a><br/>Synced 5 W&B file(s), 0 media file(s), 0 artifact file(s) and 0 other file(s)"
            ]
          },
          "metadata": {}
        },
        {
          "output_type": "display_data",
          "data": {
            "text/plain": [
              "<IPython.core.display.HTML object>"
            ],
            "text/html": [
              "Find logs at: <code>./wandb/run-20240218_195117-xyd6i2r4/logs</code>"
            ]
          },
          "metadata": {}
        },
        {
          "output_type": "stream",
          "name": "stderr",
          "text": [
            "\u001b[34m\u001b[1mwandb\u001b[0m: Agent Starting Run: tpm8vbh3 with config:\n",
            "\u001b[34m\u001b[1mwandb\u001b[0m: \tbatch_size: 16\n",
            "\u001b[34m\u001b[1mwandb\u001b[0m: \tepochs: 5\n",
            "\u001b[34m\u001b[1mwandb\u001b[0m: \tfc_layer_size: 8\n",
            "\u001b[34m\u001b[1mwandb\u001b[0m: \tlearning_rate: 0.01\n",
            "\u001b[34m\u001b[1mwandb\u001b[0m: \toptimizer: sgd\n"
          ]
        },
        {
          "output_type": "display_data",
          "data": {
            "text/plain": [
              "<IPython.core.display.HTML object>"
            ],
            "text/html": [
              "Tracking run with wandb version 0.16.3"
            ]
          },
          "metadata": {}
        },
        {
          "output_type": "display_data",
          "data": {
            "text/plain": [
              "<IPython.core.display.HTML object>"
            ],
            "text/html": [
              "Run data is saved locally in <code>/content/wandb/run-20240218_200354-tpm8vbh3</code>"
            ]
          },
          "metadata": {}
        },
        {
          "output_type": "display_data",
          "data": {
            "text/plain": [
              "<IPython.core.display.HTML object>"
            ],
            "text/html": [
              "Syncing run <strong><a href='https://wandb.ai/gugi200/maxvit_t-customData/runs/tpm8vbh3' target=\"_blank\">iconic-sweep-2</a></strong> to <a href='https://wandb.ai/gugi200/maxvit_t-customData' target=\"_blank\">Weights & Biases</a> (<a href='https://wandb.me/run' target=\"_blank\">docs</a>)<br/>Sweep page: <a href='https://wandb.ai/gugi200/maxvit_t-customData/sweeps/hqiytoj1' target=\"_blank\">https://wandb.ai/gugi200/maxvit_t-customData/sweeps/hqiytoj1</a>"
            ]
          },
          "metadata": {}
        },
        {
          "output_type": "display_data",
          "data": {
            "text/plain": [
              "<IPython.core.display.HTML object>"
            ],
            "text/html": [
              " View project at <a href='https://wandb.ai/gugi200/maxvit_t-customData' target=\"_blank\">https://wandb.ai/gugi200/maxvit_t-customData</a>"
            ]
          },
          "metadata": {}
        },
        {
          "output_type": "display_data",
          "data": {
            "text/plain": [
              "<IPython.core.display.HTML object>"
            ],
            "text/html": [
              " View sweep at <a href='https://wandb.ai/gugi200/maxvit_t-customData/sweeps/hqiytoj1' target=\"_blank\">https://wandb.ai/gugi200/maxvit_t-customData/sweeps/hqiytoj1</a>"
            ]
          },
          "metadata": {}
        },
        {
          "output_type": "display_data",
          "data": {
            "text/plain": [
              "<IPython.core.display.HTML object>"
            ],
            "text/html": [
              " View run at <a href='https://wandb.ai/gugi200/maxvit_t-customData/runs/tpm8vbh3' target=\"_blank\">https://wandb.ai/gugi200/maxvit_t-customData/runs/tpm8vbh3</a>"
            ]
          },
          "metadata": {}
        },
        {
          "output_type": "stream",
          "name": "stderr",
          "text": [
            "Using cache found in /root/.cache/torch/hub/pytorch_vision_main\n"
          ]
        },
        {
          "output_type": "stream",
          "name": "stdout",
          "text": [
            "[0.01]\n"
          ]
        }
      ]
    },
    {
      "cell_type": "markdown",
      "source": [
        "## mobilenet_v3_large"
      ],
      "metadata": {
        "id": "ntNdjuPRypL5"
      }
    },
    {
      "cell_type": "code",
      "source": [
        "def train_model_mobilenet_v3_large(config=None):\n",
        "    with wandb.init(config=config):\n",
        "\n",
        "\n",
        "        mean=[0.485, 0.456, 0.406]\n",
        "        std=[0.229, 0.224, 0.225]\n",
        "        tranform = transforms.Compose([\n",
        "            expMapping(4),\n",
        "            softThreshold(30, 255),\n",
        "            transforms.Resize(size=(224, 224)),\n",
        "            transforms.ToTensor(),\n",
        "            transforms.Normalize(mean=mean, std=std),\n",
        "        ])\n",
        "\n",
        "        config = wandb.config\n",
        "\n",
        "        train_dataloader, class_names, _ = create_dataset(path=Path(\"train_raw\"),\n",
        "                                                          batchsize=config.batch_size,\n",
        "                                                          preprocess=tranform)\n",
        "\n",
        "        test_dataloader, _ , _ = create_dataset(path=Path(\"test_raw\"),\n",
        "                                                batchsize=config.batch_size,\n",
        "                                                preprocess=tranform)\n",
        "\n",
        "\n",
        "        weight = list(torchvision.models.get_model_weights('mobilenet_v3_large'))[-1]\n",
        "        model = torch.hub.load('pytorch/vision', 'mobilenet_v3_large', weight).to(device)\n",
        "        model.classifier[3] = nn.Linear(1280 , len(class_names), bias=True).to(device)\n",
        "\n",
        "        train_test_loop(config=config,\n",
        "                        model=model,\n",
        "                        train_dataloader=train_dataloader,\n",
        "                        test_dataloader=test_dataloader,\n",
        "                        class_names=class_names,\n",
        "                        device=device\n",
        "                        )\n",
        "    return model\n",
        "\n",
        "\n",
        "# mobilenet_v3_large pipeline\n",
        "sweep_id_mobilenet_v3_large = wandb.sweep(sweep_config, project=\"mobilenet_v3_large-customData\")\n",
        "wandb.agent(sweep_id_mobilenet_v3_large, train_model_mobilenet_v3_large)"
      ],
      "metadata": {
        "colab": {
          "base_uri": "https://localhost:8080/",
          "height": 1000,
          "referenced_widgets": [
            "57ba399c736646ac944f2d494ec02db1",
            "0c009c6960fd413d8597015248875c4f",
            "b9e2811cf52c45a4904c5a3123f7d572",
            "685d2fa9e2e343e5a15832b8d0923595",
            "7486b43487134d209f4b95f7c122cfa9",
            "9fe9988a59ad4702bd230e5b80f278ac",
            "2307ff5f34b04049b224349c79f329e0",
            "82037ca4afcb4b7e8f31d4445a7b01e3",
            "37c79c230bf648c59f77d8e08ad15175",
            "6d072aeba68043ccb47225fd57282865",
            "b9327bc88c194ca0a063fe9c929ec4ff",
            "8ff0f0c338174ecb9897cd72f0377ef8",
            "ef93dffb76fc41d9a6b5ae01b9353b29",
            "cbe2b685225043c38811e4ff378bc8f6",
            "06400ac5c8d544ba87cca762e6e0147f",
            "0eb3de3d94db4b3c8a0e2be8b550de4a",
            "7f5a14374c1142e0ae682fca8b39ce8d",
            "5a8aaadcedd84e3380f455e39accbfa7",
            "6a66d2ae0f7f4ebbb4207cf2a200fcca",
            "c40445d2d91a40aea5b7fe805cfbdff0",
            "2baf3835fddb49fc9d4ed34c76166d4e",
            "a49f215174be4301b86365fdd294b92d",
            "dcb7ce73321d459fb24a15973eedfa3b",
            "ad76730261d6422fab17d97f826f87f5",
            "dccb3e29e2cf4175bd5aae6fef16ba42",
            "feda0d7a73ea4c6aba94aa9b08b8e36f",
            "8151faf12964475283aefa01f4625987",
            "58d67d5687d742e49d0ad68d1ffdc064",
            "67a0591ffec8457b955a95d17a7043e9",
            "473d077eea7247aa9fb8e71ea92bd612",
            "4bb3b4ccae344f2f9e6a1760aca19fc9",
            "e6e570b115274d8ab1f93e150ba9fee3"
          ]
        },
        "id": "bnbXN1H8yuW8",
        "outputId": "c7cd502a-264a-4367-be0b-0af82ba9a300"
      },
      "execution_count": 8,
      "outputs": [
        {
          "output_type": "stream",
          "name": "stdout",
          "text": [
            "Create sweep with ID: 2lxc33c8\n",
            "Sweep URL: https://wandb.ai/gugi200/mobilenet_v3_large-customData/sweeps/2lxc33c8\n"
          ]
        },
        {
          "output_type": "stream",
          "name": "stderr",
          "text": [
            "\u001b[34m\u001b[1mwandb\u001b[0m: Agent Starting Run: e3wt8r8b with config:\n",
            "\u001b[34m\u001b[1mwandb\u001b[0m: \tbatch_size: 16\n",
            "\u001b[34m\u001b[1mwandb\u001b[0m: \tepochs: 5\n",
            "\u001b[34m\u001b[1mwandb\u001b[0m: \tfc_layer_size: 8\n",
            "\u001b[34m\u001b[1mwandb\u001b[0m: \tlearning_rate: 0.01\n",
            "\u001b[34m\u001b[1mwandb\u001b[0m: \toptimizer: adam\n"
          ]
        },
        {
          "output_type": "display_data",
          "data": {
            "text/plain": [
              "<IPython.core.display.HTML object>"
            ],
            "text/html": [
              "Tracking run with wandb version 0.16.3"
            ]
          },
          "metadata": {}
        },
        {
          "output_type": "display_data",
          "data": {
            "text/plain": [
              "<IPython.core.display.HTML object>"
            ],
            "text/html": [
              "Run data is saved locally in <code>/content/wandb/run-20240218_193807-e3wt8r8b</code>"
            ]
          },
          "metadata": {}
        },
        {
          "output_type": "display_data",
          "data": {
            "text/plain": [
              "<IPython.core.display.HTML object>"
            ],
            "text/html": [
              "Syncing run <strong><a href='https://wandb.ai/gugi200/mobilenet_v3_large-customData/runs/e3wt8r8b' target=\"_blank\">devoted-sweep-1</a></strong> to <a href='https://wandb.ai/gugi200/mobilenet_v3_large-customData' target=\"_blank\">Weights & Biases</a> (<a href='https://wandb.me/run' target=\"_blank\">docs</a>)<br/>Sweep page: <a href='https://wandb.ai/gugi200/mobilenet_v3_large-customData/sweeps/2lxc33c8' target=\"_blank\">https://wandb.ai/gugi200/mobilenet_v3_large-customData/sweeps/2lxc33c8</a>"
            ]
          },
          "metadata": {}
        },
        {
          "output_type": "display_data",
          "data": {
            "text/plain": [
              "<IPython.core.display.HTML object>"
            ],
            "text/html": [
              " View project at <a href='https://wandb.ai/gugi200/mobilenet_v3_large-customData' target=\"_blank\">https://wandb.ai/gugi200/mobilenet_v3_large-customData</a>"
            ]
          },
          "metadata": {}
        },
        {
          "output_type": "display_data",
          "data": {
            "text/plain": [
              "<IPython.core.display.HTML object>"
            ],
            "text/html": [
              " View sweep at <a href='https://wandb.ai/gugi200/mobilenet_v3_large-customData/sweeps/2lxc33c8' target=\"_blank\">https://wandb.ai/gugi200/mobilenet_v3_large-customData/sweeps/2lxc33c8</a>"
            ]
          },
          "metadata": {}
        },
        {
          "output_type": "display_data",
          "data": {
            "text/plain": [
              "<IPython.core.display.HTML object>"
            ],
            "text/html": [
              " View run at <a href='https://wandb.ai/gugi200/mobilenet_v3_large-customData/runs/e3wt8r8b' target=\"_blank\">https://wandb.ai/gugi200/mobilenet_v3_large-customData/runs/e3wt8r8b</a>"
            ]
          },
          "metadata": {}
        },
        {
          "output_type": "stream",
          "name": "stderr",
          "text": [
            "Using cache found in /root/.cache/torch/hub/pytorch_vision_main\n",
            "Downloading: \"https://download.pytorch.org/models/mobilenet_v3_large-5c1a4163.pth\" to /root/.cache/torch/hub/checkpoints/mobilenet_v3_large-5c1a4163.pth\n",
            "100%|██████████| 21.1M/21.1M [00:02<00:00, 7.51MB/s]\n"
          ]
        },
        {
          "output_type": "stream",
          "name": "stdout",
          "text": [
            "[0.01]\n",
            "Train loss: 1.3500, Train acc: 53.6225%\n",
            "Test loss: 76.3980  |  Test acc: 16.0487%\n",
            "[0.01]\n",
            "Train loss: 0.7980, Train acc: 72.2675%\n",
            "Test loss: 12.1116  |  Test acc: 21.6707%\n",
            "[0.01]\n",
            "Train loss: 0.6078, Train acc: 79.2127%\n",
            "Test loss: 1.3447  |  Test acc: 68.9846%\n",
            "[0.01]\n",
            "Train loss: 0.4778, Train acc: 83.9554%\n",
            "Test loss: 1.1019  |  Test acc: 73.0251%\n",
            "[0.01]\n",
            "Train loss: 0.4494, Train acc: 85.0519%\n",
            "Test loss: 15.2876  |  Test acc: 30.8944%\n"
          ]
        },
        {
          "output_type": "display_data",
          "data": {
            "text/plain": [
              "VBox(children=(Label(value='0.001 MB of 0.001 MB uploaded\\r'), FloatProgress(value=1.0, max=1.0)))"
            ],
            "application/vnd.jupyter.widget-view+json": {
              "version_major": 2,
              "version_minor": 0,
              "model_id": "57ba399c736646ac944f2d494ec02db1"
            }
          },
          "metadata": {}
        },
        {
          "output_type": "display_data",
          "data": {
            "text/plain": [
              "<IPython.core.display.HTML object>"
            ],
            "text/html": [
              "<style>\n",
              "    table.wandb td:nth-child(1) { padding: 0 10px; text-align: left ; width: auto;} td:nth-child(2) {text-align: left ; width: 100%}\n",
              "    .wandb-row { display: flex; flex-direction: row; flex-wrap: wrap; justify-content: flex-start; width: 100% }\n",
              "    .wandb-col { display: flex; flex-direction: column; flex-basis: 100%; flex: 1; padding: 10px; }\n",
              "    </style>\n",
              "<div class=\"wandb-row\"><div class=\"wandb-col\"><h3>Run history:</h3><br/><table class=\"wandb\"><tr><td>accuracy</td><td>▁▃▁▂▅▅▅▄▅▆▂▂▅▆▅▇▃▆▅▅▅▅▆▄▆▅▇▇██▆▇▅▅██▅▆██</td></tr><tr><td>average test batch loss</td><td>█▂▁▁▂</td></tr><tr><td>average test batch metric</td><td>▁▂██▃</td></tr><tr><td>average train batch loss</td><td>█▄▂▁▁</td></tr><tr><td>average train batch metric</td><td>▁▅▇██</td></tr><tr><td>epoch</td><td>▁▃▅▆█</td></tr><tr><td>loss</td><td>█▆▆▆▃▃▃▇▅▃▆▆▃▃▃▂▄▃▄▄▄▄▂▄▂▃▂▂▂▂▃▂▅▄▁▁▄▂▁▂</td></tr><tr><td>test accuracy</td><td>▃▃▄▂▃▃▃▃▂▂▁▄▂▂▁▃▇▇▆▇▆▆▇▇▇▆▇▇█▇▇▆▃▄▄▄▃▃▃▄</td></tr><tr><td>test loss</td><td>█▆▆▆▅▆▆▇▂▂▂▂▂▂▂▂▁▁▁▁▁▁▁▁▁▁▁▁▁▁▁▁▂▂▂▂▂▂▂▂</td></tr><tr><td>train time</td><td>▁</td></tr></table><br/></div><div class=\"wandb-col\"><h3>Run summary:</h3><br/><table class=\"wandb\"><tr><td>accuracy</td><td>0.73333</td></tr><tr><td>average test batch loss</td><td>15.28765</td></tr><tr><td>average test batch metric</td><td>0.30894</td></tr><tr><td>average train batch loss</td><td>0.44937</td></tr><tr><td>average train batch metric</td><td>0.85052</td></tr><tr><td>epoch</td><td>4</td></tr><tr><td>loss</td><td>0.68156</td></tr><tr><td>test accuracy</td><td>0.14286</td></tr><tr><td>test loss</td><td>14.38859</td></tr><tr><td>train time</td><td>161.35918</td></tr></table><br/></div></div>"
            ]
          },
          "metadata": {}
        },
        {
          "output_type": "display_data",
          "data": {
            "text/plain": [
              "<IPython.core.display.HTML object>"
            ],
            "text/html": [
              " View run <strong style=\"color:#cdcd00\">devoted-sweep-1</strong> at: <a href='https://wandb.ai/gugi200/mobilenet_v3_large-customData/runs/e3wt8r8b' target=\"_blank\">https://wandb.ai/gugi200/mobilenet_v3_large-customData/runs/e3wt8r8b</a><br/>Synced 5 W&B file(s), 0 media file(s), 0 artifact file(s) and 0 other file(s)"
            ]
          },
          "metadata": {}
        },
        {
          "output_type": "display_data",
          "data": {
            "text/plain": [
              "<IPython.core.display.HTML object>"
            ],
            "text/html": [
              "Find logs at: <code>./wandb/run-20240218_193807-e3wt8r8b/logs</code>"
            ]
          },
          "metadata": {}
        },
        {
          "output_type": "stream",
          "name": "stderr",
          "text": [
            "\u001b[34m\u001b[1mwandb\u001b[0m: Sweep Agent: Waiting for job.\n",
            "\u001b[34m\u001b[1mwandb\u001b[0m: Job received.\n",
            "\u001b[34m\u001b[1mwandb\u001b[0m: Agent Starting Run: kc934ant with config:\n",
            "\u001b[34m\u001b[1mwandb\u001b[0m: \tbatch_size: 16\n",
            "\u001b[34m\u001b[1mwandb\u001b[0m: \tepochs: 5\n",
            "\u001b[34m\u001b[1mwandb\u001b[0m: \tfc_layer_size: 8\n",
            "\u001b[34m\u001b[1mwandb\u001b[0m: \tlearning_rate: 0.01\n",
            "\u001b[34m\u001b[1mwandb\u001b[0m: \toptimizer: sgd\n"
          ]
        },
        {
          "output_type": "display_data",
          "data": {
            "text/plain": [
              "<IPython.core.display.HTML object>"
            ],
            "text/html": [
              "Tracking run with wandb version 0.16.3"
            ]
          },
          "metadata": {}
        },
        {
          "output_type": "display_data",
          "data": {
            "text/plain": [
              "<IPython.core.display.HTML object>"
            ],
            "text/html": [
              "Run data is saved locally in <code>/content/wandb/run-20240218_194122-kc934ant</code>"
            ]
          },
          "metadata": {}
        },
        {
          "output_type": "display_data",
          "data": {
            "text/plain": [
              "<IPython.core.display.HTML object>"
            ],
            "text/html": [
              "Syncing run <strong><a href='https://wandb.ai/gugi200/mobilenet_v3_large-customData/runs/kc934ant' target=\"_blank\">graceful-sweep-2</a></strong> to <a href='https://wandb.ai/gugi200/mobilenet_v3_large-customData' target=\"_blank\">Weights & Biases</a> (<a href='https://wandb.me/run' target=\"_blank\">docs</a>)<br/>Sweep page: <a href='https://wandb.ai/gugi200/mobilenet_v3_large-customData/sweeps/2lxc33c8' target=\"_blank\">https://wandb.ai/gugi200/mobilenet_v3_large-customData/sweeps/2lxc33c8</a>"
            ]
          },
          "metadata": {}
        },
        {
          "output_type": "display_data",
          "data": {
            "text/plain": [
              "<IPython.core.display.HTML object>"
            ],
            "text/html": [
              " View project at <a href='https://wandb.ai/gugi200/mobilenet_v3_large-customData' target=\"_blank\">https://wandb.ai/gugi200/mobilenet_v3_large-customData</a>"
            ]
          },
          "metadata": {}
        },
        {
          "output_type": "display_data",
          "data": {
            "text/plain": [
              "<IPython.core.display.HTML object>"
            ],
            "text/html": [
              " View sweep at <a href='https://wandb.ai/gugi200/mobilenet_v3_large-customData/sweeps/2lxc33c8' target=\"_blank\">https://wandb.ai/gugi200/mobilenet_v3_large-customData/sweeps/2lxc33c8</a>"
            ]
          },
          "metadata": {}
        },
        {
          "output_type": "display_data",
          "data": {
            "text/plain": [
              "<IPython.core.display.HTML object>"
            ],
            "text/html": [
              " View run at <a href='https://wandb.ai/gugi200/mobilenet_v3_large-customData/runs/kc934ant' target=\"_blank\">https://wandb.ai/gugi200/mobilenet_v3_large-customData/runs/kc934ant</a>"
            ]
          },
          "metadata": {}
        },
        {
          "output_type": "stream",
          "name": "stderr",
          "text": [
            "Using cache found in /root/.cache/torch/hub/pytorch_vision_main\n"
          ]
        },
        {
          "output_type": "stream",
          "name": "stdout",
          "text": [
            "[0.01]\n",
            "Train loss: 0.5728, Train acc: 80.1700%\n",
            "Test loss: 1.2810  |  Test acc: 61.5920%\n",
            "[0.01]\n",
            "Train loss: 0.1669, Train acc: 94.2103%\n",
            "Test loss: 0.6072  |  Test acc: 78.5336%\n",
            "[0.01]\n",
            "Train loss: 0.0845, Train acc: 97.1671%\n",
            "Test loss: 0.9036  |  Test acc: 70.6719%\n",
            "[0.001]\n",
            "Train loss: 0.0281, Train acc: 99.1324%\n",
            "Test loss: 0.0582  |  Test acc: 98.1462%\n",
            "[0.001]\n",
            "Train loss: 0.0189, Train acc: 99.5397%\n",
            "Test loss: 0.0513  |  Test acc: 98.5169%\n"
          ]
        },
        {
          "output_type": "display_data",
          "data": {
            "text/plain": [
              "VBox(children=(Label(value='0.002 MB of 0.011 MB uploaded\\r'), FloatProgress(value=0.21184243539349334, max=1.…"
            ],
            "application/vnd.jupyter.widget-view+json": {
              "version_major": 2,
              "version_minor": 0,
              "model_id": "37c79c230bf648c59f77d8e08ad15175"
            }
          },
          "metadata": {}
        },
        {
          "output_type": "display_data",
          "data": {
            "text/plain": [
              "<IPython.core.display.HTML object>"
            ],
            "text/html": [
              "<style>\n",
              "    table.wandb td:nth-child(1) { padding: 0 10px; text-align: left ; width: auto;} td:nth-child(2) {text-align: left ; width: 100%}\n",
              "    .wandb-row { display: flex; flex-direction: row; flex-wrap: wrap; justify-content: flex-start; width: 100% }\n",
              "    .wandb-col { display: flex; flex-direction: column; flex-basis: 100%; flex: 1; padding: 10px; }\n",
              "    </style>\n",
              "<div class=\"wandb-row\"><div class=\"wandb-col\"><h3>Run history:</h3><br/><table class=\"wandb\"><tr><td>accuracy</td><td>▁▅▅▇▅▆▇▆█▇█▇▆▇█▇████▇██▇████████████████</td></tr><tr><td>average test batch loss</td><td>█▄▆▁▁</td></tr><tr><td>average test batch metric</td><td>▁▄▃██</td></tr><tr><td>average train batch loss</td><td>█▃▂▁▁</td></tr><tr><td>average train batch metric</td><td>▁▆▇██</td></tr><tr><td>epoch</td><td>▁▃▅▆█</td></tr><tr><td>loss</td><td>█▄▃▂▃▃▂▃▁▂▁▂▄▂▁▅▁▁▁▁▂▁▁▂▁▁▁▁▁▁▁▁▁▁▁▁▁▁▁▁</td></tr><tr><td>test accuracy</td><td>▅▅▅▅▆▁▆▅▆▇▅▆▅▇▆▇▃▆▅▅▄▄▅▆█▇█▇██▇███▇█████</td></tr><tr><td>test loss</td><td>▄▄▄▃▂█▃▃▄▂▃▃▃▂▂▂▅▃▄▃▃▄▄▃▁▂▁▁▁▁▃▁▁▁▁▁▁▁▁▁</td></tr><tr><td>train time</td><td>▁</td></tr></table><br/></div><div class=\"wandb-col\"><h3>Run summary:</h3><br/><table class=\"wandb\"><tr><td>accuracy</td><td>1.0</td></tr><tr><td>average test batch loss</td><td>0.05134</td></tr><tr><td>average test batch metric</td><td>0.98517</td></tr><tr><td>average train batch loss</td><td>0.01893</td></tr><tr><td>average train batch metric</td><td>0.9954</td></tr><tr><td>epoch</td><td>4</td></tr><tr><td>loss</td><td>0.0023</td></tr><tr><td>test accuracy</td><td>1.0</td></tr><tr><td>test loss</td><td>0.00747</td></tr><tr><td>train time</td><td>159.60157</td></tr></table><br/></div></div>"
            ]
          },
          "metadata": {}
        },
        {
          "output_type": "display_data",
          "data": {
            "text/plain": [
              "<IPython.core.display.HTML object>"
            ],
            "text/html": [
              " View run <strong style=\"color:#cdcd00\">graceful-sweep-2</strong> at: <a href='https://wandb.ai/gugi200/mobilenet_v3_large-customData/runs/kc934ant' target=\"_blank\">https://wandb.ai/gugi200/mobilenet_v3_large-customData/runs/kc934ant</a><br/>Synced 5 W&B file(s), 0 media file(s), 0 artifact file(s) and 0 other file(s)"
            ]
          },
          "metadata": {}
        },
        {
          "output_type": "display_data",
          "data": {
            "text/plain": [
              "<IPython.core.display.HTML object>"
            ],
            "text/html": [
              "Find logs at: <code>./wandb/run-20240218_194122-kc934ant/logs</code>"
            ]
          },
          "metadata": {}
        },
        {
          "output_type": "stream",
          "name": "stderr",
          "text": [
            "\u001b[34m\u001b[1mwandb\u001b[0m: Agent Starting Run: 7otv5dv2 with config:\n",
            "\u001b[34m\u001b[1mwandb\u001b[0m: \tbatch_size: 32\n",
            "\u001b[34m\u001b[1mwandb\u001b[0m: \tepochs: 5\n",
            "\u001b[34m\u001b[1mwandb\u001b[0m: \tfc_layer_size: 8\n",
            "\u001b[34m\u001b[1mwandb\u001b[0m: \tlearning_rate: 0.01\n",
            "\u001b[34m\u001b[1mwandb\u001b[0m: \toptimizer: adam\n"
          ]
        },
        {
          "output_type": "display_data",
          "data": {
            "text/plain": [
              "<IPython.core.display.HTML object>"
            ],
            "text/html": [
              "Tracking run with wandb version 0.16.3"
            ]
          },
          "metadata": {}
        },
        {
          "output_type": "display_data",
          "data": {
            "text/plain": [
              "<IPython.core.display.HTML object>"
            ],
            "text/html": [
              "Run data is saved locally in <code>/content/wandb/run-20240218_194417-7otv5dv2</code>"
            ]
          },
          "metadata": {}
        },
        {
          "output_type": "display_data",
          "data": {
            "text/plain": [
              "<IPython.core.display.HTML object>"
            ],
            "text/html": [
              "Syncing run <strong><a href='https://wandb.ai/gugi200/mobilenet_v3_large-customData/runs/7otv5dv2' target=\"_blank\">golden-sweep-3</a></strong> to <a href='https://wandb.ai/gugi200/mobilenet_v3_large-customData' target=\"_blank\">Weights & Biases</a> (<a href='https://wandb.me/run' target=\"_blank\">docs</a>)<br/>Sweep page: <a href='https://wandb.ai/gugi200/mobilenet_v3_large-customData/sweeps/2lxc33c8' target=\"_blank\">https://wandb.ai/gugi200/mobilenet_v3_large-customData/sweeps/2lxc33c8</a>"
            ]
          },
          "metadata": {}
        },
        {
          "output_type": "display_data",
          "data": {
            "text/plain": [
              "<IPython.core.display.HTML object>"
            ],
            "text/html": [
              " View project at <a href='https://wandb.ai/gugi200/mobilenet_v3_large-customData' target=\"_blank\">https://wandb.ai/gugi200/mobilenet_v3_large-customData</a>"
            ]
          },
          "metadata": {}
        },
        {
          "output_type": "display_data",
          "data": {
            "text/plain": [
              "<IPython.core.display.HTML object>"
            ],
            "text/html": [
              " View sweep at <a href='https://wandb.ai/gugi200/mobilenet_v3_large-customData/sweeps/2lxc33c8' target=\"_blank\">https://wandb.ai/gugi200/mobilenet_v3_large-customData/sweeps/2lxc33c8</a>"
            ]
          },
          "metadata": {}
        },
        {
          "output_type": "display_data",
          "data": {
            "text/plain": [
              "<IPython.core.display.HTML object>"
            ],
            "text/html": [
              " View run at <a href='https://wandb.ai/gugi200/mobilenet_v3_large-customData/runs/7otv5dv2' target=\"_blank\">https://wandb.ai/gugi200/mobilenet_v3_large-customData/runs/7otv5dv2</a>"
            ]
          },
          "metadata": {}
        },
        {
          "output_type": "stream",
          "name": "stderr",
          "text": [
            "Using cache found in /root/.cache/torch/hub/pytorch_vision_main\n"
          ]
        },
        {
          "output_type": "stream",
          "name": "stdout",
          "text": [
            "[0.01]\n",
            "Train loss: 1.2619, Train acc: 59.6457%\n",
            "Test loss: 194.3248  |  Test acc: 13.3086%\n",
            "[0.01]\n",
            "Train loss: 0.6688, Train acc: 77.2152%\n",
            "Test loss: 12.1546  |  Test acc: 29.3679%\n",
            "[0.01]\n",
            "Train loss: 0.4424, Train acc: 85.3743%\n",
            "Test loss: 2.7483  |  Test acc: 53.6441%\n",
            "[0.01]\n",
            "Train loss: 0.3854, Train acc: 87.5659%\n",
            "Test loss: 23.2274  |  Test acc: 17.0127%\n",
            "[0.001]\n",
            "Train loss: 0.1703, Train acc: 94.7140%\n",
            "Test loss: 0.1550  |  Test acc: 95.0141%\n"
          ]
        },
        {
          "output_type": "display_data",
          "data": {
            "text/plain": [
              "VBox(children=(Label(value='0.001 MB of 0.002 MB uploaded\\r'), FloatProgress(value=0.5066510172143975, max=1.0…"
            ],
            "application/vnd.jupyter.widget-view+json": {
              "version_major": 2,
              "version_minor": 0,
              "model_id": "7f5a14374c1142e0ae682fca8b39ce8d"
            }
          },
          "metadata": {}
        },
        {
          "output_type": "display_data",
          "data": {
            "text/plain": [
              "<IPython.core.display.HTML object>"
            ],
            "text/html": [
              "<style>\n",
              "    table.wandb td:nth-child(1) { padding: 0 10px; text-align: left ; width: auto;} td:nth-child(2) {text-align: left ; width: 100%}\n",
              "    .wandb-row { display: flex; flex-direction: row; flex-wrap: wrap; justify-content: flex-start; width: 100% }\n",
              "    .wandb-col { display: flex; flex-direction: column; flex-basis: 100%; flex: 1; padding: 10px; }\n",
              "    </style>\n",
              "<div class=\"wandb-row\"><div class=\"wandb-col\"><h3>Run history:</h3><br/><table class=\"wandb\"><tr><td>accuracy</td><td>▁▃▅▆▇▄▅▇▄▆▄▇▇▆▇▆█▆▆▆▇▆▇▇▇▇▇▇▇▇▇▆██▇█▇██▇</td></tr><tr><td>average test batch loss</td><td>█▁▁▂▁</td></tr><tr><td>average test batch metric</td><td>▁▂▄▁█</td></tr><tr><td>average train batch loss</td><td>█▄▃▂▁</td></tr><tr><td>average train batch metric</td><td>▁▅▆▇█</td></tr><tr><td>epoch</td><td>▁▃▅▆█</td></tr><tr><td>loss</td><td>█▄▂▃▂▃▃▂▄▂▃▂▂▂▂▂▁▂▂▂▂▂▂▂▁▂▂▁▂▁▁▂▁▁▁▁▁▁▁▁</td></tr><tr><td>test accuracy</td><td>▁▁▂▁▁▁▂▁▃▃▄▄▃▁▂▄▅▅▅▅▄▅▅▆▂▃▁▁▁▂▂▂████████</td></tr><tr><td>test loss</td><td>▆█▆▇█▇█▇▁▁▁▁▁▂▁▁▁▁▁▁▁▁▁▁▂▁▂▂▂▂▂▂▁▁▁▁▁▁▁▁</td></tr><tr><td>train time</td><td>▁</td></tr></table><br/></div><div class=\"wandb-col\"><h3>Run summary:</h3><br/><table class=\"wandb\"><tr><td>accuracy</td><td>0.8</td></tr><tr><td>average test batch loss</td><td>0.15504</td></tr><tr><td>average test batch metric</td><td>0.95014</td></tr><tr><td>average train batch loss</td><td>0.17027</td></tr><tr><td>average train batch metric</td><td>0.94714</td></tr><tr><td>epoch</td><td>4</td></tr><tr><td>loss</td><td>0.57363</td></tr><tr><td>test accuracy</td><td>0.93333</td></tr><tr><td>test loss</td><td>0.08249</td></tr><tr><td>train time</td><td>155.37214</td></tr></table><br/></div></div>"
            ]
          },
          "metadata": {}
        },
        {
          "output_type": "display_data",
          "data": {
            "text/plain": [
              "<IPython.core.display.HTML object>"
            ],
            "text/html": [
              " View run <strong style=\"color:#cdcd00\">golden-sweep-3</strong> at: <a href='https://wandb.ai/gugi200/mobilenet_v3_large-customData/runs/7otv5dv2' target=\"_blank\">https://wandb.ai/gugi200/mobilenet_v3_large-customData/runs/7otv5dv2</a><br/>Synced 5 W&B file(s), 0 media file(s), 0 artifact file(s) and 0 other file(s)"
            ]
          },
          "metadata": {}
        },
        {
          "output_type": "display_data",
          "data": {
            "text/plain": [
              "<IPython.core.display.HTML object>"
            ],
            "text/html": [
              "Find logs at: <code>./wandb/run-20240218_194417-7otv5dv2/logs</code>"
            ]
          },
          "metadata": {}
        },
        {
          "output_type": "stream",
          "name": "stderr",
          "text": [
            "\u001b[34m\u001b[1mwandb\u001b[0m: Agent Starting Run: a44jlxyp with config:\n",
            "\u001b[34m\u001b[1mwandb\u001b[0m: \tbatch_size: 32\n",
            "\u001b[34m\u001b[1mwandb\u001b[0m: \tepochs: 5\n",
            "\u001b[34m\u001b[1mwandb\u001b[0m: \tfc_layer_size: 8\n",
            "\u001b[34m\u001b[1mwandb\u001b[0m: \tlearning_rate: 0.01\n",
            "\u001b[34m\u001b[1mwandb\u001b[0m: \toptimizer: sgd\n"
          ]
        },
        {
          "output_type": "display_data",
          "data": {
            "text/plain": [
              "<IPython.core.display.HTML object>"
            ],
            "text/html": [
              "Tracking run with wandb version 0.16.3"
            ]
          },
          "metadata": {}
        },
        {
          "output_type": "display_data",
          "data": {
            "text/plain": [
              "<IPython.core.display.HTML object>"
            ],
            "text/html": [
              "Run data is saved locally in <code>/content/wandb/run-20240218_194711-a44jlxyp</code>"
            ]
          },
          "metadata": {}
        },
        {
          "output_type": "display_data",
          "data": {
            "text/plain": [
              "<IPython.core.display.HTML object>"
            ],
            "text/html": [
              "Syncing run <strong><a href='https://wandb.ai/gugi200/mobilenet_v3_large-customData/runs/a44jlxyp' target=\"_blank\">bright-sweep-4</a></strong> to <a href='https://wandb.ai/gugi200/mobilenet_v3_large-customData' target=\"_blank\">Weights & Biases</a> (<a href='https://wandb.me/run' target=\"_blank\">docs</a>)<br/>Sweep page: <a href='https://wandb.ai/gugi200/mobilenet_v3_large-customData/sweeps/2lxc33c8' target=\"_blank\">https://wandb.ai/gugi200/mobilenet_v3_large-customData/sweeps/2lxc33c8</a>"
            ]
          },
          "metadata": {}
        },
        {
          "output_type": "display_data",
          "data": {
            "text/plain": [
              "<IPython.core.display.HTML object>"
            ],
            "text/html": [
              " View project at <a href='https://wandb.ai/gugi200/mobilenet_v3_large-customData' target=\"_blank\">https://wandb.ai/gugi200/mobilenet_v3_large-customData</a>"
            ]
          },
          "metadata": {}
        },
        {
          "output_type": "display_data",
          "data": {
            "text/plain": [
              "<IPython.core.display.HTML object>"
            ],
            "text/html": [
              " View sweep at <a href='https://wandb.ai/gugi200/mobilenet_v3_large-customData/sweeps/2lxc33c8' target=\"_blank\">https://wandb.ai/gugi200/mobilenet_v3_large-customData/sweeps/2lxc33c8</a>"
            ]
          },
          "metadata": {}
        },
        {
          "output_type": "display_data",
          "data": {
            "text/plain": [
              "<IPython.core.display.HTML object>"
            ],
            "text/html": [
              " View run at <a href='https://wandb.ai/gugi200/mobilenet_v3_large-customData/runs/a44jlxyp' target=\"_blank\">https://wandb.ai/gugi200/mobilenet_v3_large-customData/runs/a44jlxyp</a>"
            ]
          },
          "metadata": {}
        },
        {
          "output_type": "stream",
          "name": "stderr",
          "text": [
            "Using cache found in /root/.cache/torch/hub/pytorch_vision_main\n"
          ]
        },
        {
          "output_type": "stream",
          "name": "stdout",
          "text": [
            "[0.01]\n",
            "Train loss: 0.6441, Train acc: 76.8715%\n",
            "Test loss: 1.2034  |  Test acc: 56.5855%\n",
            "[0.01]\n",
            "Train loss: 0.1554, Train acc: 95.0388%\n",
            "Test loss: 0.6208  |  Test acc: 78.0014%\n",
            "[0.01]\n",
            "Train loss: 0.0703, Train acc: 97.6671%\n",
            "Test loss: 0.1887  |  Test acc: 94.0572%\n",
            "[0.001]\n",
            "Train loss: 0.0361, Train acc: 98.8854%\n",
            "Test loss: 0.0778  |  Test acc: 97.8743%\n",
            "[0.001]\n",
            "Train loss: 0.0191, Train acc: 99.4856%\n",
            "Test loss: 0.0735  |  Test acc: 97.5565%\n"
          ]
        },
        {
          "output_type": "display_data",
          "data": {
            "text/plain": [
              "VBox(children=(Label(value='0.001 MB of 0.001 MB uploaded\\r'), FloatProgress(value=1.0, max=1.0)))"
            ],
            "application/vnd.jupyter.widget-view+json": {
              "version_major": 2,
              "version_minor": 0,
              "model_id": "dccb3e29e2cf4175bd5aae6fef16ba42"
            }
          },
          "metadata": {}
        },
        {
          "output_type": "display_data",
          "data": {
            "text/plain": [
              "<IPython.core.display.HTML object>"
            ],
            "text/html": [
              "<style>\n",
              "    table.wandb td:nth-child(1) { padding: 0 10px; text-align: left ; width: auto;} td:nth-child(2) {text-align: left ; width: 100%}\n",
              "    .wandb-row { display: flex; flex-direction: row; flex-wrap: wrap; justify-content: flex-start; width: 100% }\n",
              "    .wandb-col { display: flex; flex-direction: column; flex-basis: 100%; flex: 1; padding: 10px; }\n",
              "    </style>\n",
              "<div class=\"wandb-row\"><div class=\"wandb-col\"><h3>Run history:</h3><br/><table class=\"wandb\"><tr><td>accuracy</td><td>▁▂▅▇▆██▇▇▇▇████▇███████████████▇████████</td></tr><tr><td>average test batch loss</td><td>█▄▂▁▁</td></tr><tr><td>average test batch metric</td><td>▁▅▇██</td></tr><tr><td>average train batch loss</td><td>█▃▂▁▁</td></tr><tr><td>average train batch metric</td><td>▁▇▇██</td></tr><tr><td>epoch</td><td>▁▃▅▆█</td></tr><tr><td>loss</td><td>█▆▄▂▃▂▂▂▁▂▁▁▁▁▁▂▁▁▁▁▁▁▁▁▁▁▁▁▁▁▁▂▁▁▁▁▁▁▁▁</td></tr><tr><td>test accuracy</td><td>▃▄▂▃▃▃▁▃▆▄▆▇▅▅▅▅▇▇▇▇▇█▇▇█████▇█▇███▇▇███</td></tr><tr><td>test loss</td><td>▆▅█▇▇▆█▆▄▄▃▃▃▄▄▃▂▂▂▂▁▁▂▃▁▁▁▂▁▂▁▂▁▁▁▂▂▁▁▁</td></tr><tr><td>train time</td><td>▁</td></tr></table><br/></div><div class=\"wandb-col\"><h3>Run summary:</h3><br/><table class=\"wandb\"><tr><td>accuracy</td><td>0.93333</td></tr><tr><td>average test batch loss</td><td>0.07348</td></tr><tr><td>average test batch metric</td><td>0.97557</td></tr><tr><td>average train batch loss</td><td>0.01908</td></tr><tr><td>average train batch metric</td><td>0.99486</td></tr><tr><td>epoch</td><td>4</td></tr><tr><td>loss</td><td>0.0941</td></tr><tr><td>test accuracy</td><td>0.93333</td></tr><tr><td>test loss</td><td>0.11346</td></tr><tr><td>train time</td><td>154.43547</td></tr></table><br/></div></div>"
            ]
          },
          "metadata": {}
        },
        {
          "output_type": "display_data",
          "data": {
            "text/plain": [
              "<IPython.core.display.HTML object>"
            ],
            "text/html": [
              " View run <strong style=\"color:#cdcd00\">bright-sweep-4</strong> at: <a href='https://wandb.ai/gugi200/mobilenet_v3_large-customData/runs/a44jlxyp' target=\"_blank\">https://wandb.ai/gugi200/mobilenet_v3_large-customData/runs/a44jlxyp</a><br/>Synced 5 W&B file(s), 0 media file(s), 0 artifact file(s) and 0 other file(s)"
            ]
          },
          "metadata": {}
        },
        {
          "output_type": "display_data",
          "data": {
            "text/plain": [
              "<IPython.core.display.HTML object>"
            ],
            "text/html": [
              "Find logs at: <code>./wandb/run-20240218_194711-a44jlxyp/logs</code>"
            ]
          },
          "metadata": {}
        },
        {
          "output_type": "stream",
          "name": "stderr",
          "text": [
            "\u001b[34m\u001b[1mwandb\u001b[0m: Sweep Agent: Waiting for job.\n",
            "\u001b[34m\u001b[1mwandb\u001b[0m: Sweep Agent: Exiting.\n"
          ]
        }
      ]
    },
    {
      "cell_type": "markdown",
      "source": [
        "## shufflenet_v2_x2_0"
      ],
      "metadata": {
        "id": "K-sfqxqOyx0s"
      }
    },
    {
      "cell_type": "code",
      "source": [
        "def train_model_shufflenet_v2_x2_0(config=None):\n",
        "    with wandb.init(config=config):\n",
        "\n",
        "\n",
        "        mean=[0.485, 0.456, 0.406]\n",
        "        std=[0.229, 0.224, 0.225]\n",
        "        tranform = transforms.Compose([\n",
        "            expMapping(4),\n",
        "            softThreshold(30, 255),\n",
        "            transforms.Resize(size=(224, 224)),\n",
        "            transforms.ToTensor(),\n",
        "            transforms.Normalize(mean=mean, std=std),\n",
        "        ])\n",
        "\n",
        "        config = wandb.config\n",
        "\n",
        "        train_dataloader, class_names, _ = create_dataset(path=Path(\"train_raw\"),\n",
        "                                                          batchsize=config.batch_size,\n",
        "                                                          preprocess=tranform)\n",
        "\n",
        "        test_dataloader, _ , _ = create_dataset(path=Path(\"test_raw\"),\n",
        "                                                batchsize=config.batch_size,\n",
        "                                                preprocess=tranform)\n",
        "\n",
        "\n",
        "        weight = list(torchvision.models.get_model_weights('shufflenet_v2_x2_0'))[-1]\n",
        "        model = torch.hub.load('pytorch/vision', 'shufflenet_v2_x2_0', weight).to(device)\n",
        "        model.fc = nn.Linear(2048 , len(class_names), bias=True).to(device)\n",
        "\n",
        "        train_test_loop(config=config,\n",
        "                        model=model,\n",
        "                        train_dataloader=train_dataloader,\n",
        "                        test_dataloader=test_dataloader,\n",
        "                        class_names=class_names,\n",
        "                        device=device\n",
        "                        )\n",
        "    return model\n",
        "\n",
        "\n",
        "# shufflenet_v2_x2_0 pipeline\n",
        "sweep_id_shufflenet_v2_x2_0 = wandb.sweep(sweep_config, project=\"shufflenet_v2_x2_0-customData\")\n",
        "wandb.agent(sweep_id_shufflenet_v2_x2_0, train_model_shufflenet_v2_x2_0)"
      ],
      "metadata": {
        "id": "elnnMbNQy05W",
        "colab": {
          "base_uri": "https://localhost:8080/",
          "height": 1000,
          "referenced_widgets": [
            "51543146c2d54deaa713a6961f53b774",
            "76a9f45799a44be08af23547d72256b4",
            "bd4ec327d0d24d459807d04b9704379e",
            "aae50c5f6f9b43c3a8ead6a993b07ee8",
            "2d28f9a8f10e4c88afbba4eca17dda48",
            "951127e5cd084162a47061506fe8a2c8",
            "429bf41491744e5bb5297805f9bf8646",
            "d6fccc40f4b44540a37667bfb9a6778a",
            "b40d6b9ec3fa40e68a66ad8277e3f600",
            "e4b20569fbd04aa490e1350b933689f3",
            "88baf3e4576846a99cd99999697ab6f8",
            "5c93512cf6014f0d84d6aae8cc0ef2b2",
            "485ad99fd678417f98e6a4f3c33780de",
            "23353e1b0d634635921e0779bfb155cf",
            "9d52c5f12c8e491d8febcb6274f6d23b",
            "045de1e5b3fb48b1a0712d0baa5faad1",
            "9fa0e8dfe2614faeaad5bc7b9b0ab170",
            "99637c4296b14c9fa11b7677ce10dcfe",
            "aa83b79c34844446bd7d8f99a8970eae",
            "ca486c3aa8e14ea5907db9463a93f334",
            "6984eaeca6094d0a83e7f225ef77c696",
            "9e8aff62815048d1aaaca5cbc2c95404",
            "64fedfe9684e4c71bf2ee22576df4834",
            "865e128c2c9a49a8a9f4d6152e27a3e6",
            "caf7116761184266ad160cbf152e09ff",
            "929ac41315e848899257966a94acd786",
            "952cd29bdb90449d990aba977f4b5b99",
            "ff86557a7d5f4412bb0dd77eff944ff8",
            "6b9b933d4ea84c7aa1bef672b6eef620",
            "fb73e68bd9654118ac9105ac57618158",
            "04f42203542242679a546af60c6de008",
            "931153bf4d564f4996617fb29a646b4d"
          ]
        },
        "outputId": "cfa8027b-e072-4b21-c9ff-46299703ce69"
      },
      "execution_count": 7,
      "outputs": [
        {
          "output_type": "stream",
          "name": "stdout",
          "text": [
            "Create sweep with ID: 05tdx6c8\n",
            "Sweep URL: https://wandb.ai/gugi200/shufflenet_v2_x2_0-customData/sweeps/05tdx6c8\n"
          ]
        },
        {
          "output_type": "stream",
          "name": "stderr",
          "text": [
            "\u001b[34m\u001b[1mwandb\u001b[0m: Agent Starting Run: ey7xjnqn with config:\n",
            "\u001b[34m\u001b[1mwandb\u001b[0m: \tbatch_size: 16\n",
            "\u001b[34m\u001b[1mwandb\u001b[0m: \tepochs: 5\n",
            "\u001b[34m\u001b[1mwandb\u001b[0m: \tfc_layer_size: 8\n",
            "\u001b[34m\u001b[1mwandb\u001b[0m: \tlearning_rate: 0.01\n",
            "\u001b[34m\u001b[1mwandb\u001b[0m: \toptimizer: adam\n"
          ]
        },
        {
          "output_type": "display_data",
          "data": {
            "text/plain": [
              "<IPython.core.display.HTML object>"
            ],
            "text/html": [
              "Tracking run with wandb version 0.16.3"
            ]
          },
          "metadata": {}
        },
        {
          "output_type": "display_data",
          "data": {
            "text/plain": [
              "<IPython.core.display.HTML object>"
            ],
            "text/html": [
              "Run data is saved locally in <code>/content/wandb/run-20240218_192401-ey7xjnqn</code>"
            ]
          },
          "metadata": {}
        },
        {
          "output_type": "display_data",
          "data": {
            "text/plain": [
              "<IPython.core.display.HTML object>"
            ],
            "text/html": [
              "Syncing run <strong><a href='https://wandb.ai/gugi200/shufflenet_v2_x2_0-customData/runs/ey7xjnqn' target=\"_blank\">absurd-sweep-1</a></strong> to <a href='https://wandb.ai/gugi200/shufflenet_v2_x2_0-customData' target=\"_blank\">Weights & Biases</a> (<a href='https://wandb.me/run' target=\"_blank\">docs</a>)<br/>Sweep page: <a href='https://wandb.ai/gugi200/shufflenet_v2_x2_0-customData/sweeps/05tdx6c8' target=\"_blank\">https://wandb.ai/gugi200/shufflenet_v2_x2_0-customData/sweeps/05tdx6c8</a>"
            ]
          },
          "metadata": {}
        },
        {
          "output_type": "display_data",
          "data": {
            "text/plain": [
              "<IPython.core.display.HTML object>"
            ],
            "text/html": [
              " View project at <a href='https://wandb.ai/gugi200/shufflenet_v2_x2_0-customData' target=\"_blank\">https://wandb.ai/gugi200/shufflenet_v2_x2_0-customData</a>"
            ]
          },
          "metadata": {}
        },
        {
          "output_type": "display_data",
          "data": {
            "text/plain": [
              "<IPython.core.display.HTML object>"
            ],
            "text/html": [
              " View sweep at <a href='https://wandb.ai/gugi200/shufflenet_v2_x2_0-customData/sweeps/05tdx6c8' target=\"_blank\">https://wandb.ai/gugi200/shufflenet_v2_x2_0-customData/sweeps/05tdx6c8</a>"
            ]
          },
          "metadata": {}
        },
        {
          "output_type": "display_data",
          "data": {
            "text/plain": [
              "<IPython.core.display.HTML object>"
            ],
            "text/html": [
              " View run at <a href='https://wandb.ai/gugi200/shufflenet_v2_x2_0-customData/runs/ey7xjnqn' target=\"_blank\">https://wandb.ai/gugi200/shufflenet_v2_x2_0-customData/runs/ey7xjnqn</a>"
            ]
          },
          "metadata": {}
        },
        {
          "output_type": "stream",
          "name": "stderr",
          "text": [
            "Using cache found in /root/.cache/torch/hub/pytorch_vision_main\n",
            "Downloading: \"https://download.pytorch.org/models/shufflenetv2_x2_0-8be3c8ee.pth\" to /root/.cache/torch/hub/checkpoints/shufflenetv2_x2_0-8be3c8ee.pth\n",
            "100%|██████████| 28.4M/28.4M [00:00<00:00, 93.4MB/s]\n"
          ]
        },
        {
          "output_type": "stream",
          "name": "stdout",
          "text": [
            "[0.01]\n",
            "Train loss: 0.9614, Train acc: 63.7748%\n",
            "Test loss: 2.7928  |  Test acc: 37.3033%\n",
            "[0.01]\n",
            "Train loss: 0.4867, Train acc: 82.9828%\n",
            "Test loss: 0.4324  |  Test acc: 85.0863%\n",
            "[0.01]\n",
            "Train loss: 0.3429, Train acc: 88.1905%\n",
            "Test loss: 0.2992  |  Test acc: 90.2542%\n",
            "[0.01]\n",
            "Train loss: 0.2471, Train acc: 91.7847%\n",
            "Test loss: 0.3218  |  Test acc: 88.9149%\n",
            "[0.01]\n",
            "Train loss: 0.2338, Train acc: 92.0326%\n",
            "Test loss: 0.4983  |  Test acc: 83.3913%\n"
          ]
        },
        {
          "output_type": "display_data",
          "data": {
            "text/plain": [
              "VBox(children=(Label(value='0.001 MB of 0.001 MB uploaded\\r'), FloatProgress(value=1.0, max=1.0)))"
            ],
            "application/vnd.jupyter.widget-view+json": {
              "version_major": 2,
              "version_minor": 0,
              "model_id": "51543146c2d54deaa713a6961f53b774"
            }
          },
          "metadata": {}
        },
        {
          "output_type": "display_data",
          "data": {
            "text/plain": [
              "<IPython.core.display.HTML object>"
            ],
            "text/html": [
              "<style>\n",
              "    table.wandb td:nth-child(1) { padding: 0 10px; text-align: left ; width: auto;} td:nth-child(2) {text-align: left ; width: 100%}\n",
              "    .wandb-row { display: flex; flex-direction: row; flex-wrap: wrap; justify-content: flex-start; width: 100% }\n",
              "    .wandb-col { display: flex; flex-direction: column; flex-basis: 100%; flex: 1; padding: 10px; }\n",
              "    </style>\n",
              "<div class=\"wandb-row\"><div class=\"wandb-col\"><h3>Run history:</h3><br/><table class=\"wandb\"><tr><td>accuracy</td><td>▁▄▃▃▅▅▇▇▇▆▇▆▇▇▆▇▆▆▇█▇▆▇▆▆▇▇▇█▇▇█▇▇▆▇▇▇▇▆</td></tr><tr><td>average test batch loss</td><td>█▁▁▁▂</td></tr><tr><td>average test batch metric</td><td>▁▇██▇</td></tr><tr><td>average train batch loss</td><td>█▃▂▁▁</td></tr><tr><td>average train batch metric</td><td>▁▆▇██</td></tr><tr><td>epoch</td><td>▁▃▅▆█</td></tr><tr><td>loss</td><td>█▆▅▅▄▄▄▂▂▃▂▃▂▂▃▂▂▃▁▁▂▃▂▂▂▂▁▂▁▁▁▁▁▂▃▂▁▁▂▂</td></tr><tr><td>test accuracy</td><td>▃▃▄▄▃▂▃▁▆▇▇▆▇▇█▇▆█▇▆▇▇▇▇▇▇▇▇█▇▇█▆▇▆▇▆▆▇▆</td></tr><tr><td>test loss</td><td>▆▆▅▄▅▅█▇▂▂▁▂▃▁▁▁▂▁▁▂▁▄▁▂▁▁▁▁▁▁▁▁▁▂▂▁▂▃▁▁</td></tr><tr><td>train time</td><td>▁</td></tr></table><br/></div><div class=\"wandb-col\"><h3>Run summary:</h3><br/><table class=\"wandb\"><tr><td>accuracy</td><td>1.0</td></tr><tr><td>average test batch loss</td><td>0.49827</td></tr><tr><td>average test batch metric</td><td>0.83391</td></tr><tr><td>average train batch loss</td><td>0.23379</td></tr><tr><td>average train batch metric</td><td>0.92033</td></tr><tr><td>epoch</td><td>4</td></tr><tr><td>loss</td><td>0.04184</td></tr><tr><td>test accuracy</td><td>0.71429</td></tr><tr><td>test loss</td><td>0.80429</td></tr><tr><td>train time</td><td>161.79417</td></tr></table><br/></div></div>"
            ]
          },
          "metadata": {}
        },
        {
          "output_type": "display_data",
          "data": {
            "text/plain": [
              "<IPython.core.display.HTML object>"
            ],
            "text/html": [
              " View run <strong style=\"color:#cdcd00\">absurd-sweep-1</strong> at: <a href='https://wandb.ai/gugi200/shufflenet_v2_x2_0-customData/runs/ey7xjnqn' target=\"_blank\">https://wandb.ai/gugi200/shufflenet_v2_x2_0-customData/runs/ey7xjnqn</a><br/>Synced 5 W&B file(s), 0 media file(s), 0 artifact file(s) and 0 other file(s)"
            ]
          },
          "metadata": {}
        },
        {
          "output_type": "display_data",
          "data": {
            "text/plain": [
              "<IPython.core.display.HTML object>"
            ],
            "text/html": [
              "Find logs at: <code>./wandb/run-20240218_192401-ey7xjnqn/logs</code>"
            ]
          },
          "metadata": {}
        },
        {
          "output_type": "stream",
          "name": "stderr",
          "text": [
            "\u001b[34m\u001b[1mwandb\u001b[0m: Agent Starting Run: i0vpw14u with config:\n",
            "\u001b[34m\u001b[1mwandb\u001b[0m: \tbatch_size: 16\n",
            "\u001b[34m\u001b[1mwandb\u001b[0m: \tepochs: 5\n",
            "\u001b[34m\u001b[1mwandb\u001b[0m: \tfc_layer_size: 8\n",
            "\u001b[34m\u001b[1mwandb\u001b[0m: \tlearning_rate: 0.01\n",
            "\u001b[34m\u001b[1mwandb\u001b[0m: \toptimizer: sgd\n"
          ]
        },
        {
          "output_type": "display_data",
          "data": {
            "text/plain": [
              "<IPython.core.display.HTML object>"
            ],
            "text/html": [
              "Tracking run with wandb version 0.16.3"
            ]
          },
          "metadata": {}
        },
        {
          "output_type": "display_data",
          "data": {
            "text/plain": [
              "<IPython.core.display.HTML object>"
            ],
            "text/html": [
              "Run data is saved locally in <code>/content/wandb/run-20240218_192701-i0vpw14u</code>"
            ]
          },
          "metadata": {}
        },
        {
          "output_type": "display_data",
          "data": {
            "text/plain": [
              "<IPython.core.display.HTML object>"
            ],
            "text/html": [
              "Syncing run <strong><a href='https://wandb.ai/gugi200/shufflenet_v2_x2_0-customData/runs/i0vpw14u' target=\"_blank\">morning-sweep-2</a></strong> to <a href='https://wandb.ai/gugi200/shufflenet_v2_x2_0-customData' target=\"_blank\">Weights & Biases</a> (<a href='https://wandb.me/run' target=\"_blank\">docs</a>)<br/>Sweep page: <a href='https://wandb.ai/gugi200/shufflenet_v2_x2_0-customData/sweeps/05tdx6c8' target=\"_blank\">https://wandb.ai/gugi200/shufflenet_v2_x2_0-customData/sweeps/05tdx6c8</a>"
            ]
          },
          "metadata": {}
        },
        {
          "output_type": "display_data",
          "data": {
            "text/plain": [
              "<IPython.core.display.HTML object>"
            ],
            "text/html": [
              " View project at <a href='https://wandb.ai/gugi200/shufflenet_v2_x2_0-customData' target=\"_blank\">https://wandb.ai/gugi200/shufflenet_v2_x2_0-customData</a>"
            ]
          },
          "metadata": {}
        },
        {
          "output_type": "display_data",
          "data": {
            "text/plain": [
              "<IPython.core.display.HTML object>"
            ],
            "text/html": [
              " View sweep at <a href='https://wandb.ai/gugi200/shufflenet_v2_x2_0-customData/sweeps/05tdx6c8' target=\"_blank\">https://wandb.ai/gugi200/shufflenet_v2_x2_0-customData/sweeps/05tdx6c8</a>"
            ]
          },
          "metadata": {}
        },
        {
          "output_type": "display_data",
          "data": {
            "text/plain": [
              "<IPython.core.display.HTML object>"
            ],
            "text/html": [
              " View run at <a href='https://wandb.ai/gugi200/shufflenet_v2_x2_0-customData/runs/i0vpw14u' target=\"_blank\">https://wandb.ai/gugi200/shufflenet_v2_x2_0-customData/runs/i0vpw14u</a>"
            ]
          },
          "metadata": {}
        },
        {
          "output_type": "stream",
          "name": "stderr",
          "text": [
            "Using cache found in /root/.cache/torch/hub/pytorch_vision_main\n"
          ]
        },
        {
          "output_type": "stream",
          "name": "stdout",
          "text": [
            "[0.01]\n",
            "Train loss: 0.6261, Train acc: 77.2816%\n",
            "Test loss: 0.1764  |  Test acc: 94.3175%\n",
            "[0.01]\n",
            "Train loss: 0.1728, Train acc: 94.4570%\n",
            "Test loss: 0.2228  |  Test acc: 95.1725%\n",
            "[0.01]\n",
            "Train loss: 0.0912, Train acc: 97.1140%\n",
            "Test loss: 0.0982  |  Test acc: 97.2987%\n",
            "[0.001]\n",
            "Train loss: 0.0420, Train acc: 98.7606%\n",
            "Test loss: 0.0701  |  Test acc: 98.0327%\n",
            "[0.001]\n",
            "Train loss: 0.0236, Train acc: 99.5042%\n",
            "Test loss: 0.0637  |  Test acc: 98.3581%\n"
          ]
        },
        {
          "output_type": "display_data",
          "data": {
            "text/plain": [
              "VBox(children=(Label(value='0.001 MB of 0.001 MB uploaded\\r'), FloatProgress(value=1.0, max=1.0)))"
            ],
            "application/vnd.jupyter.widget-view+json": {
              "version_major": 2,
              "version_minor": 0,
              "model_id": "b40d6b9ec3fa40e68a66ad8277e3f600"
            }
          },
          "metadata": {}
        },
        {
          "output_type": "display_data",
          "data": {
            "text/plain": [
              "<IPython.core.display.HTML object>"
            ],
            "text/html": [
              "<style>\n",
              "    table.wandb td:nth-child(1) { padding: 0 10px; text-align: left ; width: auto;} td:nth-child(2) {text-align: left ; width: 100%}\n",
              "    .wandb-row { display: flex; flex-direction: row; flex-wrap: wrap; justify-content: flex-start; width: 100% }\n",
              "    .wandb-col { display: flex; flex-direction: column; flex-basis: 100%; flex: 1; padding: 10px; }\n",
              "    </style>\n",
              "<div class=\"wandb-row\"><div class=\"wandb-col\"><h3>Run history:</h3><br/><table class=\"wandb\"><tr><td>accuracy</td><td>▁▄▆▇█▇▇▇█▇▇▇██▇█▇▇▇█▇█▆█▇██████▇████████</td></tr><tr><td>average test batch loss</td><td>▆█▃▁▁</td></tr><tr><td>average test batch metric</td><td>▁▂▆▇█</td></tr><tr><td>average train batch loss</td><td>█▃▂▁▁</td></tr><tr><td>average train batch metric</td><td>▁▆▇██</td></tr><tr><td>epoch</td><td>▁▃▅▆█</td></tr><tr><td>loss</td><td>█▆▃▃▂▂▁▃▁▂▂▂▁▁▂▁▁▁▁▁▂▁▃▁▂▁▁▁▁▁▁▂▁▁▁▁▁▁▁▁</td></tr><tr><td>test accuracy</td><td>▆█▃████▁█▆▆██▆█▃▆█▆▆█▃█▆██▆███▆██▆██▆█▆█</td></tr><tr><td>test loss</td><td>▂▂▃▁▁▂▂▆▁▂▂▁▂▂▁▃▂▂▄▂▁▃▁▂▁▁█▁▁▁▂▁▁▂▁▁▂▁▂▁</td></tr><tr><td>train time</td><td>▁</td></tr></table><br/></div><div class=\"wandb-col\"><h3>Run summary:</h3><br/><table class=\"wandb\"><tr><td>accuracy</td><td>1.0</td></tr><tr><td>average test batch loss</td><td>0.06369</td></tr><tr><td>average test batch metric</td><td>0.98358</td></tr><tr><td>average train batch loss</td><td>0.02361</td></tr><tr><td>average train batch metric</td><td>0.99504</td></tr><tr><td>epoch</td><td>4</td></tr><tr><td>loss</td><td>0.0012</td></tr><tr><td>test accuracy</td><td>1.0</td></tr><tr><td>test loss</td><td>0.05317</td></tr><tr><td>train time</td><td>161.09121</td></tr></table><br/></div></div>"
            ]
          },
          "metadata": {}
        },
        {
          "output_type": "display_data",
          "data": {
            "text/plain": [
              "<IPython.core.display.HTML object>"
            ],
            "text/html": [
              " View run <strong style=\"color:#cdcd00\">morning-sweep-2</strong> at: <a href='https://wandb.ai/gugi200/shufflenet_v2_x2_0-customData/runs/i0vpw14u' target=\"_blank\">https://wandb.ai/gugi200/shufflenet_v2_x2_0-customData/runs/i0vpw14u</a><br/>Synced 5 W&B file(s), 0 media file(s), 0 artifact file(s) and 0 other file(s)"
            ]
          },
          "metadata": {}
        },
        {
          "output_type": "display_data",
          "data": {
            "text/plain": [
              "<IPython.core.display.HTML object>"
            ],
            "text/html": [
              "Find logs at: <code>./wandb/run-20240218_192701-i0vpw14u/logs</code>"
            ]
          },
          "metadata": {}
        },
        {
          "output_type": "stream",
          "name": "stderr",
          "text": [
            "\u001b[34m\u001b[1mwandb\u001b[0m: Sweep Agent: Waiting for job.\n",
            "\u001b[34m\u001b[1mwandb\u001b[0m: Job received.\n",
            "\u001b[34m\u001b[1mwandb\u001b[0m: Agent Starting Run: q8cxpkk4 with config:\n",
            "\u001b[34m\u001b[1mwandb\u001b[0m: \tbatch_size: 32\n",
            "\u001b[34m\u001b[1mwandb\u001b[0m: \tepochs: 5\n",
            "\u001b[34m\u001b[1mwandb\u001b[0m: \tfc_layer_size: 8\n",
            "\u001b[34m\u001b[1mwandb\u001b[0m: \tlearning_rate: 0.01\n",
            "\u001b[34m\u001b[1mwandb\u001b[0m: \toptimizer: adam\n"
          ]
        },
        {
          "output_type": "display_data",
          "data": {
            "text/plain": [
              "<IPython.core.display.HTML object>"
            ],
            "text/html": [
              "Tracking run with wandb version 0.16.3"
            ]
          },
          "metadata": {}
        },
        {
          "output_type": "display_data",
          "data": {
            "text/plain": [
              "<IPython.core.display.HTML object>"
            ],
            "text/html": [
              "Run data is saved locally in <code>/content/wandb/run-20240218_193008-q8cxpkk4</code>"
            ]
          },
          "metadata": {}
        },
        {
          "output_type": "display_data",
          "data": {
            "text/plain": [
              "<IPython.core.display.HTML object>"
            ],
            "text/html": [
              "Syncing run <strong><a href='https://wandb.ai/gugi200/shufflenet_v2_x2_0-customData/runs/q8cxpkk4' target=\"_blank\">driven-sweep-3</a></strong> to <a href='https://wandb.ai/gugi200/shufflenet_v2_x2_0-customData' target=\"_blank\">Weights & Biases</a> (<a href='https://wandb.me/run' target=\"_blank\">docs</a>)<br/>Sweep page: <a href='https://wandb.ai/gugi200/shufflenet_v2_x2_0-customData/sweeps/05tdx6c8' target=\"_blank\">https://wandb.ai/gugi200/shufflenet_v2_x2_0-customData/sweeps/05tdx6c8</a>"
            ]
          },
          "metadata": {}
        },
        {
          "output_type": "display_data",
          "data": {
            "text/plain": [
              "<IPython.core.display.HTML object>"
            ],
            "text/html": [
              " View project at <a href='https://wandb.ai/gugi200/shufflenet_v2_x2_0-customData' target=\"_blank\">https://wandb.ai/gugi200/shufflenet_v2_x2_0-customData</a>"
            ]
          },
          "metadata": {}
        },
        {
          "output_type": "display_data",
          "data": {
            "text/plain": [
              "<IPython.core.display.HTML object>"
            ],
            "text/html": [
              " View sweep at <a href='https://wandb.ai/gugi200/shufflenet_v2_x2_0-customData/sweeps/05tdx6c8' target=\"_blank\">https://wandb.ai/gugi200/shufflenet_v2_x2_0-customData/sweeps/05tdx6c8</a>"
            ]
          },
          "metadata": {}
        },
        {
          "output_type": "display_data",
          "data": {
            "text/plain": [
              "<IPython.core.display.HTML object>"
            ],
            "text/html": [
              " View run at <a href='https://wandb.ai/gugi200/shufflenet_v2_x2_0-customData/runs/q8cxpkk4' target=\"_blank\">https://wandb.ai/gugi200/shufflenet_v2_x2_0-customData/runs/q8cxpkk4</a>"
            ]
          },
          "metadata": {}
        },
        {
          "output_type": "stream",
          "name": "stderr",
          "text": [
            "Using cache found in /root/.cache/torch/hub/pytorch_vision_main\n"
          ]
        },
        {
          "output_type": "stream",
          "name": "stdout",
          "text": [
            "[0.01]\n",
            "Train loss: 0.7549, Train acc: 72.4506%\n",
            "Test loss: 0.9050  |  Test acc: 73.2768%\n",
            "[0.01]\n",
            "Train loss: 0.3865, Train acc: 86.9527%\n",
            "Test loss: 0.5759  |  Test acc: 79.8482%\n",
            "[0.01]\n",
            "Train loss: 0.2760, Train acc: 90.8875%\n",
            "Test loss: 0.2493  |  Test acc: 90.9393%\n",
            "[0.01]\n",
            "Train loss: 0.1903, Train acc: 94.0431%\n",
            "Test loss: 0.1834  |  Test acc: 94.3185%\n",
            "[0.01]\n",
            "Train loss: 0.1763, Train acc: 94.4539%\n",
            "Test loss: 0.1971  |  Test acc: 94.5374%\n"
          ]
        },
        {
          "output_type": "display_data",
          "data": {
            "text/plain": [
              "VBox(children=(Label(value='0.001 MB of 0.001 MB uploaded\\r'), FloatProgress(value=1.0, max=1.0)))"
            ],
            "application/vnd.jupyter.widget-view+json": {
              "version_major": 2,
              "version_minor": 0,
              "model_id": "9fa0e8dfe2614faeaad5bc7b9b0ab170"
            }
          },
          "metadata": {}
        },
        {
          "output_type": "display_data",
          "data": {
            "text/plain": [
              "<IPython.core.display.HTML object>"
            ],
            "text/html": [
              "<style>\n",
              "    table.wandb td:nth-child(1) { padding: 0 10px; text-align: left ; width: auto;} td:nth-child(2) {text-align: left ; width: 100%}\n",
              "    .wandb-row { display: flex; flex-direction: row; flex-wrap: wrap; justify-content: flex-start; width: 100% }\n",
              "    .wandb-col { display: flex; flex-direction: column; flex-basis: 100%; flex: 1; padding: 10px; }\n",
              "    </style>\n",
              "<div class=\"wandb-row\"><div class=\"wandb-col\"><h3>Run history:</h3><br/><table class=\"wandb\"><tr><td>accuracy</td><td>▁▅▄▅▇▇▆▇▆▇▆▇▇██▆▇▇▇▇▇█▇▇█▇▇▇█▇█▇██▇▇██▇█</td></tr><tr><td>average test batch loss</td><td>█▅▂▁▁</td></tr><tr><td>average test batch metric</td><td>▁▃▇██</td></tr><tr><td>average train batch loss</td><td>█▄▂▁▁</td></tr><tr><td>average train batch metric</td><td>▁▆▇██</td></tr><tr><td>epoch</td><td>▁▃▅▆█</td></tr><tr><td>loss</td><td>█▅▆▃▃▂▅▃▃▂▃▂▃▁▂▂▁▂▂▂▂▁▂▂▁▂▂▂▁▁▁▁▁▁▂▁▁▁▁▁</td></tr><tr><td>test accuracy</td><td>▂▂▆▁▂▅▃▁▄▃▃▅▃▄▅▄▆▆▆▇▆▅█▅█▆▆▇▇▆█▇█▇▇▇▇▇█▅</td></tr><tr><td>test loss</td><td>▆▅▃▇▆▄▄█▅▃▅▃▄▄▃▅▂▂▂▂▂▂▁▂▁▂▂▂▁▂▁▁▁▂▁▁▁▂▁▃</td></tr><tr><td>train time</td><td>▁</td></tr></table><br/></div><div class=\"wandb-col\"><h3>Run summary:</h3><br/><table class=\"wandb\"><tr><td>accuracy</td><td>0.93333</td></tr><tr><td>average test batch loss</td><td>0.19713</td></tr><tr><td>average test batch metric</td><td>0.94537</td></tr><tr><td>average train batch loss</td><td>0.17626</td></tr><tr><td>average train batch metric</td><td>0.94454</td></tr><tr><td>epoch</td><td>4</td></tr><tr><td>loss</td><td>0.07936</td></tr><tr><td>test accuracy</td><td>0.93333</td></tr><tr><td>test loss</td><td>0.25845</td></tr><tr><td>train time</td><td>158.79223</td></tr></table><br/></div></div>"
            ]
          },
          "metadata": {}
        },
        {
          "output_type": "display_data",
          "data": {
            "text/plain": [
              "<IPython.core.display.HTML object>"
            ],
            "text/html": [
              " View run <strong style=\"color:#cdcd00\">driven-sweep-3</strong> at: <a href='https://wandb.ai/gugi200/shufflenet_v2_x2_0-customData/runs/q8cxpkk4' target=\"_blank\">https://wandb.ai/gugi200/shufflenet_v2_x2_0-customData/runs/q8cxpkk4</a><br/>Synced 5 W&B file(s), 0 media file(s), 0 artifact file(s) and 0 other file(s)"
            ]
          },
          "metadata": {}
        },
        {
          "output_type": "display_data",
          "data": {
            "text/plain": [
              "<IPython.core.display.HTML object>"
            ],
            "text/html": [
              "Find logs at: <code>./wandb/run-20240218_193008-q8cxpkk4/logs</code>"
            ]
          },
          "metadata": {}
        },
        {
          "output_type": "stream",
          "name": "stderr",
          "text": [
            "\u001b[34m\u001b[1mwandb\u001b[0m: Sweep Agent: Waiting for job.\n",
            "\u001b[34m\u001b[1mwandb\u001b[0m: Job received.\n",
            "\u001b[34m\u001b[1mwandb\u001b[0m: Agent Starting Run: b014oenh with config:\n",
            "\u001b[34m\u001b[1mwandb\u001b[0m: \tbatch_size: 32\n",
            "\u001b[34m\u001b[1mwandb\u001b[0m: \tepochs: 5\n",
            "\u001b[34m\u001b[1mwandb\u001b[0m: \tfc_layer_size: 8\n",
            "\u001b[34m\u001b[1mwandb\u001b[0m: \tlearning_rate: 0.01\n",
            "\u001b[34m\u001b[1mwandb\u001b[0m: \toptimizer: sgd\n"
          ]
        },
        {
          "output_type": "display_data",
          "data": {
            "text/plain": [
              "<IPython.core.display.HTML object>"
            ],
            "text/html": [
              "Tracking run with wandb version 0.16.3"
            ]
          },
          "metadata": {}
        },
        {
          "output_type": "display_data",
          "data": {
            "text/plain": [
              "<IPython.core.display.HTML object>"
            ],
            "text/html": [
              "Run data is saved locally in <code>/content/wandb/run-20240218_193313-b014oenh</code>"
            ]
          },
          "metadata": {}
        },
        {
          "output_type": "display_data",
          "data": {
            "text/plain": [
              "<IPython.core.display.HTML object>"
            ],
            "text/html": [
              "Syncing run <strong><a href='https://wandb.ai/gugi200/shufflenet_v2_x2_0-customData/runs/b014oenh' target=\"_blank\">resilient-sweep-4</a></strong> to <a href='https://wandb.ai/gugi200/shufflenet_v2_x2_0-customData' target=\"_blank\">Weights & Biases</a> (<a href='https://wandb.me/run' target=\"_blank\">docs</a>)<br/>Sweep page: <a href='https://wandb.ai/gugi200/shufflenet_v2_x2_0-customData/sweeps/05tdx6c8' target=\"_blank\">https://wandb.ai/gugi200/shufflenet_v2_x2_0-customData/sweeps/05tdx6c8</a>"
            ]
          },
          "metadata": {}
        },
        {
          "output_type": "display_data",
          "data": {
            "text/plain": [
              "<IPython.core.display.HTML object>"
            ],
            "text/html": [
              " View project at <a href='https://wandb.ai/gugi200/shufflenet_v2_x2_0-customData' target=\"_blank\">https://wandb.ai/gugi200/shufflenet_v2_x2_0-customData</a>"
            ]
          },
          "metadata": {}
        },
        {
          "output_type": "display_data",
          "data": {
            "text/plain": [
              "<IPython.core.display.HTML object>"
            ],
            "text/html": [
              " View sweep at <a href='https://wandb.ai/gugi200/shufflenet_v2_x2_0-customData/sweeps/05tdx6c8' target=\"_blank\">https://wandb.ai/gugi200/shufflenet_v2_x2_0-customData/sweeps/05tdx6c8</a>"
            ]
          },
          "metadata": {}
        },
        {
          "output_type": "display_data",
          "data": {
            "text/plain": [
              "<IPython.core.display.HTML object>"
            ],
            "text/html": [
              " View run at <a href='https://wandb.ai/gugi200/shufflenet_v2_x2_0-customData/runs/b014oenh' target=\"_blank\">https://wandb.ai/gugi200/shufflenet_v2_x2_0-customData/runs/b014oenh</a>"
            ]
          },
          "metadata": {}
        },
        {
          "output_type": "stream",
          "name": "stderr",
          "text": [
            "Using cache found in /root/.cache/torch/hub/pytorch_vision_main\n"
          ]
        },
        {
          "output_type": "stream",
          "name": "stdout",
          "text": [
            "[0.01]\n",
            "Train loss: 0.6890, Train acc: 76.1782%\n",
            "Test loss: 0.7649  |  Test acc: 86.9633%\n",
            "[0.01]\n",
            "Train loss: 0.1369, Train acc: 95.9922%\n",
            "Test loss: 0.5793  |  Test acc: 85.5191%\n",
            "[0.01]\n",
            "Train loss: 0.0542, Train acc: 98.3581%\n",
            "Test loss: 3.3261  |  Test acc: 95.2260%\n",
            "[0.001]\n",
            "Train loss: 0.0210, Train acc: 99.4174%\n",
            "Test loss: 0.9799  |  Test acc: 97.0304%\n",
            "[0.001]\n",
            "Train loss: 0.0138, Train acc: 99.8058%\n",
            "Test loss: 2.1766  |  Test acc: 96.9209%\n"
          ]
        },
        {
          "output_type": "display_data",
          "data": {
            "text/plain": [
              "VBox(children=(Label(value='0.001 MB of 0.001 MB uploaded\\r'), FloatProgress(value=1.0, max=1.0)))"
            ],
            "application/vnd.jupyter.widget-view+json": {
              "version_major": 2,
              "version_minor": 0,
              "model_id": "caf7116761184266ad160cbf152e09ff"
            }
          },
          "metadata": {}
        },
        {
          "output_type": "display_data",
          "data": {
            "text/plain": [
              "<IPython.core.display.HTML object>"
            ],
            "text/html": [
              "<style>\n",
              "    table.wandb td:nth-child(1) { padding: 0 10px; text-align: left ; width: auto;} td:nth-child(2) {text-align: left ; width: 100%}\n",
              "    .wandb-row { display: flex; flex-direction: row; flex-wrap: wrap; justify-content: flex-start; width: 100% }\n",
              "    .wandb-col { display: flex; flex-direction: column; flex-basis: 100%; flex: 1; padding: 10px; }\n",
              "    </style>\n",
              "<div class=\"wandb-row\"><div class=\"wandb-col\"><h3>Run history:</h3><br/><table class=\"wandb\"><tr><td>accuracy</td><td>▁▂▆▆▇▆████▇█▇▇▇▇████████████████████████</td></tr><tr><td>average test batch loss</td><td>▁▁█▂▅</td></tr><tr><td>average test batch metric</td><td>▂▁▇██</td></tr><tr><td>average train batch loss</td><td>█▂▁▁▁</td></tr><tr><td>average train batch metric</td><td>▁▇███</td></tr><tr><td>epoch</td><td>▁▃▅▆█</td></tr><tr><td>loss</td><td>█▇▄▄▂▃▂▂▂▂▂▁▂▂▁▂▁▁▁▁▁▁▁▁▁▁▁▁▁▁▁▁▁▁▁▁▁▁▁▁</td></tr><tr><td>test accuracy</td><td>▅▂▅▇▃▂▁▃▆▅▁▅▆▄▄▄▇▇█▇▄▆█▅████▇▆██▇▇▆▇█▆▇▇</td></tr><tr><td>test loss</td><td>▁▁▁▁▁▁▃▁▁▁▁▁▁▁▁▁▁▂▁▁▁█▁▄▁▁▁▁▁▁▁▁▁▁▁▁▁▆▁▁</td></tr><tr><td>train time</td><td>▁</td></tr></table><br/></div><div class=\"wandb-col\"><h3>Run summary:</h3><br/><table class=\"wandb\"><tr><td>accuracy</td><td>1.0</td></tr><tr><td>average test batch loss</td><td>2.1766</td></tr><tr><td>average test batch metric</td><td>0.96921</td></tr><tr><td>average train batch loss</td><td>0.01376</td></tr><tr><td>average train batch metric</td><td>0.99806</td></tr><tr><td>epoch</td><td>4</td></tr><tr><td>loss</td><td>0.00222</td></tr><tr><td>test accuracy</td><td>0.93333</td></tr><tr><td>test loss</td><td>0.06364</td></tr><tr><td>train time</td><td>157.80069</td></tr></table><br/></div></div>"
            ]
          },
          "metadata": {}
        },
        {
          "output_type": "display_data",
          "data": {
            "text/plain": [
              "<IPython.core.display.HTML object>"
            ],
            "text/html": [
              " View run <strong style=\"color:#cdcd00\">resilient-sweep-4</strong> at: <a href='https://wandb.ai/gugi200/shufflenet_v2_x2_0-customData/runs/b014oenh' target=\"_blank\">https://wandb.ai/gugi200/shufflenet_v2_x2_0-customData/runs/b014oenh</a><br/>Synced 5 W&B file(s), 0 media file(s), 0 artifact file(s) and 0 other file(s)"
            ]
          },
          "metadata": {}
        },
        {
          "output_type": "display_data",
          "data": {
            "text/plain": [
              "<IPython.core.display.HTML object>"
            ],
            "text/html": [
              "Find logs at: <code>./wandb/run-20240218_193313-b014oenh/logs</code>"
            ]
          },
          "metadata": {}
        },
        {
          "output_type": "stream",
          "name": "stderr",
          "text": [
            "\u001b[34m\u001b[1mwandb\u001b[0m: Sweep Agent: Waiting for job.\n",
            "\u001b[34m\u001b[1mwandb\u001b[0m: Sweep Agent: Exiting.\n"
          ]
        }
      ]
    },
    {
      "cell_type": "markdown",
      "source": [
        "## swin_v2_t"
      ],
      "metadata": {
        "id": "0HUA-cMKy22s"
      }
    },
    {
      "cell_type": "code",
      "source": [
        "def train_model_swin_v2_t(config=None):\n",
        "    with wandb.init(config=config):\n",
        "\n",
        "\n",
        "        mean=[0.485, 0.456, 0.406]\n",
        "        std=[0.229, 0.224, 0.225]\n",
        "        tranform = transforms.Compose([\n",
        "            expMapping(4),\n",
        "            softThreshold(30, 255),\n",
        "            transforms.Resize(size=(224, 224)),\n",
        "            transforms.ToTensor(),\n",
        "            transforms.Normalize(mean=mean, std=std),\n",
        "        ])\n",
        "\n",
        "        config = wandb.config\n",
        "\n",
        "        train_dataloader, class_names, _ = create_dataset(path=Path(\"train_raw\"),\n",
        "                                                          batchsize=config.batch_size,\n",
        "                                                          preprocess=tranform)\n",
        "\n",
        "        test_dataloader, _ , _ = create_dataset(path=Path(\"test_raw\"),\n",
        "                                                batchsize=config.batch_size,\n",
        "                                                preprocess=tranform)\n",
        "\n",
        "\n",
        "        weight = list(torchvision.models.get_model_weights('swin_v2_t'))[-1]\n",
        "        model = torch.hub.load('pytorch/vision', 'swin_v2_t', weight).to(device)\n",
        "        model.head = nn.Linear(768 , len(class_names), bias=True).to(device)\n",
        "\n",
        "        train_test_loop(config=config,\n",
        "                        model=model,\n",
        "                        train_dataloader=train_dataloader,\n",
        "                        test_dataloader=test_dataloader,\n",
        "                        class_names=class_names,\n",
        "                        device=device\n",
        "                        )\n",
        "    return model\n",
        "\n",
        "\n",
        "# swin_v2_t pipeline\n",
        "sweep_id_swin_v2_t = wandb.sweep(sweep_config, project=\"swin_v2_t-customData\")\n",
        "wandb.agent(sweep_id_swin_v2_t, train_model_swin_v2_t)"
      ],
      "metadata": {
        "id": "VQK1BMiDy3Fe",
        "colab": {
          "base_uri": "https://localhost:8080/",
          "height": 367
        },
        "outputId": "b861ab68-01ab-43e6-9b7b-57ddfd301737"
      },
      "execution_count": 7,
      "outputs": [
        {
          "output_type": "stream",
          "name": "stdout",
          "text": [
            "Create sweep with ID: iuip7fci\n",
            "Sweep URL: https://wandb.ai/gugi200/swin_v2_t-customData/sweeps/iuip7fci\n"
          ]
        },
        {
          "output_type": "stream",
          "name": "stderr",
          "text": [
            "\u001b[34m\u001b[1mwandb\u001b[0m: Agent Starting Run: z08d9ljc with config:\n",
            "\u001b[34m\u001b[1mwandb\u001b[0m: \tbatch_size: 16\n",
            "\u001b[34m\u001b[1mwandb\u001b[0m: \tepochs: 5\n",
            "\u001b[34m\u001b[1mwandb\u001b[0m: \tfc_layer_size: 8\n",
            "\u001b[34m\u001b[1mwandb\u001b[0m: \tlearning_rate: 0.01\n",
            "\u001b[34m\u001b[1mwandb\u001b[0m: \toptimizer: adam\n"
          ]
        },
        {
          "output_type": "display_data",
          "data": {
            "text/plain": [
              "<IPython.core.display.HTML object>"
            ],
            "text/html": [
              "Tracking run with wandb version 0.16.3"
            ]
          },
          "metadata": {}
        },
        {
          "output_type": "display_data",
          "data": {
            "text/plain": [
              "<IPython.core.display.HTML object>"
            ],
            "text/html": [
              "Run data is saved locally in <code>/content/wandb/run-20240218_174736-z08d9ljc</code>"
            ]
          },
          "metadata": {}
        },
        {
          "output_type": "display_data",
          "data": {
            "text/plain": [
              "<IPython.core.display.HTML object>"
            ],
            "text/html": [
              "Syncing run <strong><a href='https://wandb.ai/gugi200/swin_v2_t-customData/runs/z08d9ljc' target=\"_blank\">soft-sweep-1</a></strong> to <a href='https://wandb.ai/gugi200/swin_v2_t-customData' target=\"_blank\">Weights & Biases</a> (<a href='https://wandb.me/run' target=\"_blank\">docs</a>)<br/>Sweep page: <a href='https://wandb.ai/gugi200/swin_v2_t-customData/sweeps/iuip7fci' target=\"_blank\">https://wandb.ai/gugi200/swin_v2_t-customData/sweeps/iuip7fci</a>"
            ]
          },
          "metadata": {}
        },
        {
          "output_type": "display_data",
          "data": {
            "text/plain": [
              "<IPython.core.display.HTML object>"
            ],
            "text/html": [
              " View project at <a href='https://wandb.ai/gugi200/swin_v2_t-customData' target=\"_blank\">https://wandb.ai/gugi200/swin_v2_t-customData</a>"
            ]
          },
          "metadata": {}
        },
        {
          "output_type": "display_data",
          "data": {
            "text/plain": [
              "<IPython.core.display.HTML object>"
            ],
            "text/html": [
              " View sweep at <a href='https://wandb.ai/gugi200/swin_v2_t-customData/sweeps/iuip7fci' target=\"_blank\">https://wandb.ai/gugi200/swin_v2_t-customData/sweeps/iuip7fci</a>"
            ]
          },
          "metadata": {}
        },
        {
          "output_type": "display_data",
          "data": {
            "text/plain": [
              "<IPython.core.display.HTML object>"
            ],
            "text/html": [
              " View run at <a href='https://wandb.ai/gugi200/swin_v2_t-customData/runs/z08d9ljc' target=\"_blank\">https://wandb.ai/gugi200/swin_v2_t-customData/runs/z08d9ljc</a>"
            ]
          },
          "metadata": {}
        },
        {
          "output_type": "stream",
          "name": "stderr",
          "text": [
            "Using cache found in /root/.cache/torch/hub/pytorch_vision_main\n",
            "Downloading: \"https://download.pytorch.org/models/swin_v2_t-b137f0e2.pth\" to /root/.cache/torch/hub/checkpoints/swin_v2_t-b137f0e2.pth\n",
            " 11%|█         | 11.6M/109M [00:00<00:01, 66.3MB/s]\u001b[34m\u001b[1mwandb\u001b[0m: Ctrl + C detected. Stopping sweep.\n",
            " 22%|██▏       | 23.8M/109M [00:00<00:01, 54.3MB/s]"
          ]
        }
      ]
    },
    {
      "cell_type": "markdown",
      "source": [
        "## vgg19_bn"
      ],
      "metadata": {
        "id": "b6oRTJm8y8DM"
      }
    },
    {
      "cell_type": "code",
      "source": [
        "def train_model_vgg19_bn(config=None):\n",
        "    with wandb.init(config=config):\n",
        "\n",
        "\n",
        "        mean=[0.485, 0.456, 0.406]\n",
        "        std=[0.229, 0.224, 0.225]\n",
        "        tranform = transforms.Compose([\n",
        "            expMapping(4),\n",
        "            softThreshold(30, 255),\n",
        "            transforms.Resize(size=(224, 224)),\n",
        "            transforms.ToTensor(),\n",
        "            transforms.Normalize(mean=mean, std=std),\n",
        "        ])\n",
        "\n",
        "        config = wandb.config\n",
        "\n",
        "        train_dataloader, class_names, _ = create_dataset(path=Path(\"train_raw\"),\n",
        "                                                          batchsize=config.batch_size,\n",
        "                                                          preprocess=tranform)\n",
        "\n",
        "        test_dataloader, _ , _ = create_dataset(path=Path(\"test_raw\"),\n",
        "                                                batchsize=config.batch_size,\n",
        "                                                preprocess=tranform)\n",
        "\n",
        "\n",
        "        weight = list(torchvision.models.get_model_weights('vgg19_bn'))[-1]\n",
        "        model = torch.hub.load('pytorch/vision', 'vgg19_bn', weight).to(device)\n",
        "        model.classifier[6] = nn.Linear(4096 , len(class_names), bias=True).to(device)\n",
        "\n",
        "        train_test_loop(config=config,\n",
        "                        model=model,\n",
        "                        train_dataloader=train_dataloader,\n",
        "                        test_dataloader=test_dataloader,\n",
        "                        class_names=class_names,\n",
        "                        device=device\n",
        "                        )\n",
        "    return model\n",
        "\n",
        "\n",
        "# vgg19_bnvgg19_bn pipeline\n",
        "sweep_id_vgg19_bn = wandb.sweep(sweep_config, project=\"vgg19_bn-customData\")\n",
        "wandb.agent(sweep_id_vgg19_bn, train_model_vgg19_bn)"
      ],
      "metadata": {
        "id": "op-bG3sCy8Xz",
        "colab": {
          "base_uri": "https://localhost:8080/",
          "height": 1000,
          "referenced_widgets": [
            "66c5ccf4e0454131a58f7d5a90a5bbe3",
            "672e87db4d15458f9dd77aa43303ed5c",
            "4178aec281b74b4fbbee569b03078506",
            "baf57143488c4840815abd5f80f2502f",
            "486384305765461db11c2d2c0c194915",
            "32f49914d8054b94b9deae5db7b6ff3a",
            "02c9d0cb72924593adcf544e7ee58675",
            "b9b0a3e0c44e4bc3906c9ac90335b237",
            "ba44c70e65af43ee933f4279eefb0b3a",
            "1b9e0e00fbe74b1f9be4dd05c16f7935",
            "21d43603089440628a6623cfbd0d2572",
            "6bae32ee7602490589759ba205d0e0ff",
            "210e89979ea044d4a149328402b7b071",
            "779503b3917947eaabf54a6e70461694",
            "b175d742e86c4500b4ab3b04b247c6e6",
            "32ff147e2aa6421c9914e7a8c11f760b",
            "bc16826cc55d4ab9953a6be886a590b6",
            "44d1de0f3d2b43ceabe8ef3f6517d6ab",
            "10c05303bf4d4226b661ff176a4d9ea7",
            "a9855cb80d074409b4bb4e644dd90e11",
            "d387bbc8461b49a59c1afe4a276c37f6",
            "881322824bd54b9fba9eb8701ae746ec",
            "b6dc0275a8f749aba54f8fc37d38e585",
            "e1bcfd25937845de87dba92c482c66af",
            "8804cddf86ae4c6b885329e4e382c575",
            "44444d399069441a9a2eece265b1e1d2",
            "057132da077d416095749951da984377",
            "8434c0eb6ad44f548d092699c07e129b",
            "5a68f9790d144307a00fec2ee55cd667",
            "d79ece5aee9b4c94950685e16c6ab9be",
            "3f41650520bc405eb97ed92c807db908",
            "7f29b6c2230f41f5939cd0ed51506a27"
          ]
        },
        "outputId": "2952f8bc-266c-4804-82d4-73af6408ed73"
      },
      "execution_count": 6,
      "outputs": [
        {
          "output_type": "stream",
          "name": "stdout",
          "text": [
            "Create sweep with ID: 64dxa04w\n",
            "Sweep URL: https://wandb.ai/gugi200/vgg19_bn-customData/sweeps/64dxa04w\n"
          ]
        },
        {
          "output_type": "stream",
          "name": "stderr",
          "text": [
            "\u001b[34m\u001b[1mwandb\u001b[0m: Agent Starting Run: ljq0vl37 with config:\n",
            "\u001b[34m\u001b[1mwandb\u001b[0m: \tbatch_size: 16\n",
            "\u001b[34m\u001b[1mwandb\u001b[0m: \tepochs: 5\n",
            "\u001b[34m\u001b[1mwandb\u001b[0m: \tfc_layer_size: 8\n",
            "\u001b[34m\u001b[1mwandb\u001b[0m: \tlearning_rate: 0.01\n",
            "\u001b[34m\u001b[1mwandb\u001b[0m: \toptimizer: adam\n",
            "\u001b[34m\u001b[1mwandb\u001b[0m: Currently logged in as: \u001b[33mad20781\u001b[0m (\u001b[33mgugi200\u001b[0m). Use \u001b[1m`wandb login --relogin`\u001b[0m to force relogin\n"
          ]
        },
        {
          "output_type": "display_data",
          "data": {
            "text/plain": [
              "<IPython.core.display.HTML object>"
            ],
            "text/html": [
              "Tracking run with wandb version 0.16.3"
            ]
          },
          "metadata": {}
        },
        {
          "output_type": "display_data",
          "data": {
            "text/plain": [
              "<IPython.core.display.HTML object>"
            ],
            "text/html": [
              "Run data is saved locally in <code>/content/wandb/run-20240218_183618-ljq0vl37</code>"
            ]
          },
          "metadata": {}
        },
        {
          "output_type": "display_data",
          "data": {
            "text/plain": [
              "<IPython.core.display.HTML object>"
            ],
            "text/html": [
              "Syncing run <strong><a href='https://wandb.ai/gugi200/vgg19_bn-customData/runs/ljq0vl37' target=\"_blank\">charmed-sweep-1</a></strong> to <a href='https://wandb.ai/gugi200/vgg19_bn-customData' target=\"_blank\">Weights & Biases</a> (<a href='https://wandb.me/run' target=\"_blank\">docs</a>)<br/>Sweep page: <a href='https://wandb.ai/gugi200/vgg19_bn-customData/sweeps/64dxa04w' target=\"_blank\">https://wandb.ai/gugi200/vgg19_bn-customData/sweeps/64dxa04w</a>"
            ]
          },
          "metadata": {}
        },
        {
          "output_type": "display_data",
          "data": {
            "text/plain": [
              "<IPython.core.display.HTML object>"
            ],
            "text/html": [
              " View project at <a href='https://wandb.ai/gugi200/vgg19_bn-customData' target=\"_blank\">https://wandb.ai/gugi200/vgg19_bn-customData</a>"
            ]
          },
          "metadata": {}
        },
        {
          "output_type": "display_data",
          "data": {
            "text/plain": [
              "<IPython.core.display.HTML object>"
            ],
            "text/html": [
              " View sweep at <a href='https://wandb.ai/gugi200/vgg19_bn-customData/sweeps/64dxa04w' target=\"_blank\">https://wandb.ai/gugi200/vgg19_bn-customData/sweeps/64dxa04w</a>"
            ]
          },
          "metadata": {}
        },
        {
          "output_type": "display_data",
          "data": {
            "text/plain": [
              "<IPython.core.display.HTML object>"
            ],
            "text/html": [
              " View run at <a href='https://wandb.ai/gugi200/vgg19_bn-customData/runs/ljq0vl37' target=\"_blank\">https://wandb.ai/gugi200/vgg19_bn-customData/runs/ljq0vl37</a>"
            ]
          },
          "metadata": {}
        },
        {
          "output_type": "stream",
          "name": "stderr",
          "text": [
            "Downloading: \"https://github.com/pytorch/vision/zipball/main\" to /root/.cache/torch/hub/main.zip\n",
            "/usr/local/lib/python3.10/dist-packages/torchvision/models/_utils.py:135: UserWarning: Using 'weights' as positional parameter(s) is deprecated since 0.13 and may be removed in the future. Please use keyword parameter(s) instead.\n",
            "  warnings.warn(\n",
            "Downloading: \"https://download.pytorch.org/models/vgg19_bn-c79401a0.pth\" to /root/.cache/torch/hub/checkpoints/vgg19_bn-c79401a0.pth\n",
            "100%|██████████| 548M/548M [00:10<00:00, 56.6MB/s]\n"
          ]
        },
        {
          "output_type": "stream",
          "name": "stdout",
          "text": [
            "[0.01]\n",
            "Train loss: 4.4189, Train acc: 17.0904%\n",
            "Test loss: 2.0095  |  Test acc: 18.5154%\n",
            "[0.01]\n",
            "Train loss: 2.7558, Train acc: 17.5661%\n",
            "Test loss: 2.0220  |  Test acc: 17.5015%\n",
            "[0.01]\n",
            "Train loss: 2.0114, Train acc: 18.7347%\n",
            "Test loss: 1.9553  |  Test acc: 22.9570%\n",
            "[0.01]\n",
            "Train loss: 1.9730, Train acc: 19.3532%\n",
            "Test loss: 1.9238  |  Test acc: 23.3883%\n",
            "[0.01]\n",
            "Train loss: 1.9502, Train acc: 20.2609%\n",
            "Test loss: 1.8040  |  Test acc: 24.9697%\n"
          ]
        },
        {
          "output_type": "display_data",
          "data": {
            "text/plain": [
              "VBox(children=(Label(value='0.001 MB of 0.001 MB uploaded\\r'), FloatProgress(value=1.0, max=1.0)))"
            ],
            "application/vnd.jupyter.widget-view+json": {
              "version_major": 2,
              "version_minor": 0,
              "model_id": "66c5ccf4e0454131a58f7d5a90a5bbe3"
            }
          },
          "metadata": {}
        },
        {
          "output_type": "display_data",
          "data": {
            "text/plain": [
              "<IPython.core.display.HTML object>"
            ],
            "text/html": [
              "<style>\n",
              "    table.wandb td:nth-child(1) { padding: 0 10px; text-align: left ; width: auto;} td:nth-child(2) {text-align: left ; width: 100%}\n",
              "    .wandb-row { display: flex; flex-direction: row; flex-wrap: wrap; justify-content: flex-start; width: 100% }\n",
              "    .wandb-col { display: flex; flex-direction: column; flex-basis: 100%; flex: 1; padding: 10px; }\n",
              "    </style>\n",
              "<div class=\"wandb-row\"><div class=\"wandb-col\"><h3>Run history:</h3><br/><table class=\"wandb\"><tr><td>accuracy</td><td>▃▇▁▆▃▅▂▇▂▂▆▃▅▆▂▅▇█▅▇▇▂▆▅▃▇▃▃▇▇▃▅▆▆▆▃▃▆▅▇</td></tr><tr><td>average test batch loss</td><td>██▆▅▁</td></tr><tr><td>average test batch metric</td><td>▂▁▆▇█</td></tr><tr><td>average train batch loss</td><td>█▃▁▁▁</td></tr><tr><td>average train batch metric</td><td>▁▂▅▆█</td></tr><tr><td>epoch</td><td>▁▃▅▆█</td></tr><tr><td>loss</td><td>▃▃▃▂▂▂▂▁▂▁▂▂▁▁█▂▁▁▂▂▁▂▁▁▂▂▂▂▁▂▂▂▁▂▂▂▃▂▂▁</td></tr><tr><td>test accuracy</td><td>▁▅▂▃▆▃▄▄▃▃▄▅▃▄▄▃▅▅▇▄▁▅▄▄█▆▇▄█▅▃▃▃▃▅▆▇█▇▆</td></tr><tr><td>test loss</td><td>▇▆▇▄▆▇▆▄▆▇█▄▇▅▄▆▇▄▃▅▅▆▅█▃▅▅▄▃▄▇▆▄▄▃▁▄▁▄▂</td></tr><tr><td>train time</td><td>▁</td></tr></table><br/></div><div class=\"wandb-col\"><h3>Run summary:</h3><br/><table class=\"wandb\"><tr><td>accuracy</td><td>0.33333</td></tr><tr><td>average test batch loss</td><td>1.80397</td></tr><tr><td>average test batch metric</td><td>0.2497</td></tr><tr><td>average train batch loss</td><td>1.95023</td></tr><tr><td>average train batch metric</td><td>0.20261</td></tr><tr><td>epoch</td><td>4</td></tr><tr><td>loss</td><td>1.87703</td></tr><tr><td>test accuracy</td><td>0.21429</td></tr><tr><td>test loss</td><td>1.74861</td></tr><tr><td>train time</td><td>703.72528</td></tr></table><br/></div></div>"
            ]
          },
          "metadata": {}
        },
        {
          "output_type": "display_data",
          "data": {
            "text/plain": [
              "<IPython.core.display.HTML object>"
            ],
            "text/html": [
              " View run <strong style=\"color:#cdcd00\">charmed-sweep-1</strong> at: <a href='https://wandb.ai/gugi200/vgg19_bn-customData/runs/ljq0vl37' target=\"_blank\">https://wandb.ai/gugi200/vgg19_bn-customData/runs/ljq0vl37</a><br/>Synced 5 W&B file(s), 0 media file(s), 0 artifact file(s) and 0 other file(s)"
            ]
          },
          "metadata": {}
        },
        {
          "output_type": "display_data",
          "data": {
            "text/plain": [
              "<IPython.core.display.HTML object>"
            ],
            "text/html": [
              "Find logs at: <code>./wandb/run-20240218_183618-ljq0vl37/logs</code>"
            ]
          },
          "metadata": {}
        },
        {
          "output_type": "stream",
          "name": "stderr",
          "text": [
            "\u001b[34m\u001b[1mwandb\u001b[0m: Agent Starting Run: 69732v39 with config:\n",
            "\u001b[34m\u001b[1mwandb\u001b[0m: \tbatch_size: 16\n",
            "\u001b[34m\u001b[1mwandb\u001b[0m: \tepochs: 5\n",
            "\u001b[34m\u001b[1mwandb\u001b[0m: \tfc_layer_size: 8\n",
            "\u001b[34m\u001b[1mwandb\u001b[0m: \tlearning_rate: 0.01\n",
            "\u001b[34m\u001b[1mwandb\u001b[0m: \toptimizer: sgd\n"
          ]
        },
        {
          "output_type": "display_data",
          "data": {
            "text/plain": [
              "<IPython.core.display.HTML object>"
            ],
            "text/html": [
              "Tracking run with wandb version 0.16.3"
            ]
          },
          "metadata": {}
        },
        {
          "output_type": "display_data",
          "data": {
            "text/plain": [
              "<IPython.core.display.HTML object>"
            ],
            "text/html": [
              "Run data is saved locally in <code>/content/wandb/run-20240218_184842-69732v39</code>"
            ]
          },
          "metadata": {}
        },
        {
          "output_type": "display_data",
          "data": {
            "text/plain": [
              "<IPython.core.display.HTML object>"
            ],
            "text/html": [
              "Syncing run <strong><a href='https://wandb.ai/gugi200/vgg19_bn-customData/runs/69732v39' target=\"_blank\">olive-sweep-2</a></strong> to <a href='https://wandb.ai/gugi200/vgg19_bn-customData' target=\"_blank\">Weights & Biases</a> (<a href='https://wandb.me/run' target=\"_blank\">docs</a>)<br/>Sweep page: <a href='https://wandb.ai/gugi200/vgg19_bn-customData/sweeps/64dxa04w' target=\"_blank\">https://wandb.ai/gugi200/vgg19_bn-customData/sweeps/64dxa04w</a>"
            ]
          },
          "metadata": {}
        },
        {
          "output_type": "display_data",
          "data": {
            "text/plain": [
              "<IPython.core.display.HTML object>"
            ],
            "text/html": [
              " View project at <a href='https://wandb.ai/gugi200/vgg19_bn-customData' target=\"_blank\">https://wandb.ai/gugi200/vgg19_bn-customData</a>"
            ]
          },
          "metadata": {}
        },
        {
          "output_type": "display_data",
          "data": {
            "text/plain": [
              "<IPython.core.display.HTML object>"
            ],
            "text/html": [
              " View sweep at <a href='https://wandb.ai/gugi200/vgg19_bn-customData/sweeps/64dxa04w' target=\"_blank\">https://wandb.ai/gugi200/vgg19_bn-customData/sweeps/64dxa04w</a>"
            ]
          },
          "metadata": {}
        },
        {
          "output_type": "display_data",
          "data": {
            "text/plain": [
              "<IPython.core.display.HTML object>"
            ],
            "text/html": [
              " View run at <a href='https://wandb.ai/gugi200/vgg19_bn-customData/runs/69732v39' target=\"_blank\">https://wandb.ai/gugi200/vgg19_bn-customData/runs/69732v39</a>"
            ]
          },
          "metadata": {}
        },
        {
          "output_type": "stream",
          "name": "stderr",
          "text": [
            "Using cache found in /root/.cache/torch/hub/pytorch_vision_main\n"
          ]
        },
        {
          "output_type": "stream",
          "name": "stdout",
          "text": [
            "[0.01]\n",
            "Train loss: 0.7507, Train acc: 74.3602%\n",
            "Test loss: 0.2828  |  Test acc: 90.1861%\n",
            "[0.01]\n",
            "Train loss: 0.2541, Train acc: 91.8897%\n",
            "Test loss: 0.1296  |  Test acc: 95.5508%\n",
            "[0.01]\n",
            "Train loss: 0.1613, Train acc: 94.6518%\n",
            "Test loss: 0.1633  |  Test acc: 95.3390%\n",
            "[0.001]\n",
            "Train loss: 0.0481, Train acc: 98.4762%\n",
            "Test loss: 0.0652  |  Test acc: 98.0781%\n",
            "[0.001]\n",
            "Train loss: 0.0289, Train acc: 99.2564%\n",
            "Test loss: 0.0579  |  Test acc: 98.5169%\n"
          ]
        },
        {
          "output_type": "display_data",
          "data": {
            "text/plain": [
              "VBox(children=(Label(value='0.001 MB of 0.001 MB uploaded\\r'), FloatProgress(value=1.0, max=1.0)))"
            ],
            "application/vnd.jupyter.widget-view+json": {
              "version_major": 2,
              "version_minor": 0,
              "model_id": "ba44c70e65af43ee933f4279eefb0b3a"
            }
          },
          "metadata": {}
        },
        {
          "output_type": "display_data",
          "data": {
            "text/plain": [
              "<IPython.core.display.HTML object>"
            ],
            "text/html": [
              "<style>\n",
              "    table.wandb td:nth-child(1) { padding: 0 10px; text-align: left ; width: auto;} td:nth-child(2) {text-align: left ; width: 100%}\n",
              "    .wandb-row { display: flex; flex-direction: row; flex-wrap: wrap; justify-content: flex-start; width: 100% }\n",
              "    .wandb-col { display: flex; flex-direction: column; flex-basis: 100%; flex: 1; padding: 10px; }\n",
              "    </style>\n",
              "<div class=\"wandb-row\"><div class=\"wandb-col\"><h3>Run history:</h3><br/><table class=\"wandb\"><tr><td>accuracy</td><td>▆▁▆▇▅▆█▅▇█▇▇▇▇█▇▇█▇█▇▇▇█▇████▇████▇█████</td></tr><tr><td>average test batch loss</td><td>█▃▄▁▁</td></tr><tr><td>average test batch metric</td><td>▁▆▅██</td></tr><tr><td>average train batch loss</td><td>█▃▂▁▁</td></tr><tr><td>average train batch metric</td><td>▁▆▇██</td></tr><tr><td>epoch</td><td>▁▃▅▆█</td></tr><tr><td>loss</td><td>▄█▃▃▃▃▂▃▂▁▂▁▂▁▁▁▁▁▂▁▂▂▂▁▁▁▁▁▁▁▁▁▁▁▂▁▁▁▁▁</td></tr><tr><td>test accuracy</td><td>██▆▆▇▄▇▁█▇▇█▆█▇▇▆▇██▇▇▇█▇███████▇███████</td></tr><tr><td>test loss</td><td>▂▂▄▃▂▆▃█▁▂▂▁▆▁▃▂▃▂▂▂▃▃▄▂▂▁▁▁▁▁▁▁▂▁▁▁▁▁▁▁</td></tr><tr><td>train time</td><td>▁</td></tr></table><br/></div><div class=\"wandb-col\"><h3>Run summary:</h3><br/><table class=\"wandb\"><tr><td>accuracy</td><td>1.0</td></tr><tr><td>average test batch loss</td><td>0.05787</td></tr><tr><td>average test batch metric</td><td>0.98517</td></tr><tr><td>average train batch loss</td><td>0.02888</td></tr><tr><td>average train batch metric</td><td>0.99256</td></tr><tr><td>epoch</td><td>4</td></tr><tr><td>loss</td><td>0.00502</td></tr><tr><td>test accuracy</td><td>1.0</td></tr><tr><td>test loss</td><td>0.00014</td></tr><tr><td>train time</td><td>665.68266</td></tr></table><br/></div></div>"
            ]
          },
          "metadata": {}
        },
        {
          "output_type": "display_data",
          "data": {
            "text/plain": [
              "<IPython.core.display.HTML object>"
            ],
            "text/html": [
              " View run <strong style=\"color:#cdcd00\">olive-sweep-2</strong> at: <a href='https://wandb.ai/gugi200/vgg19_bn-customData/runs/69732v39' target=\"_blank\">https://wandb.ai/gugi200/vgg19_bn-customData/runs/69732v39</a><br/>Synced 5 W&B file(s), 0 media file(s), 0 artifact file(s) and 0 other file(s)"
            ]
          },
          "metadata": {}
        },
        {
          "output_type": "display_data",
          "data": {
            "text/plain": [
              "<IPython.core.display.HTML object>"
            ],
            "text/html": [
              "Find logs at: <code>./wandb/run-20240218_184842-69732v39/logs</code>"
            ]
          },
          "metadata": {}
        },
        {
          "output_type": "stream",
          "name": "stderr",
          "text": [
            "\u001b[34m\u001b[1mwandb\u001b[0m: Sweep Agent: Waiting for job.\n",
            "\u001b[34m\u001b[1mwandb\u001b[0m: Job received.\n",
            "\u001b[34m\u001b[1mwandb\u001b[0m: Agent Starting Run: 3f8ddpos with config:\n",
            "\u001b[34m\u001b[1mwandb\u001b[0m: \tbatch_size: 32\n",
            "\u001b[34m\u001b[1mwandb\u001b[0m: \tepochs: 5\n",
            "\u001b[34m\u001b[1mwandb\u001b[0m: \tfc_layer_size: 8\n",
            "\u001b[34m\u001b[1mwandb\u001b[0m: \tlearning_rate: 0.01\n",
            "\u001b[34m\u001b[1mwandb\u001b[0m: \toptimizer: adam\n"
          ]
        },
        {
          "output_type": "display_data",
          "data": {
            "text/plain": [
              "<IPython.core.display.HTML object>"
            ],
            "text/html": [
              "Tracking run with wandb version 0.16.3"
            ]
          },
          "metadata": {}
        },
        {
          "output_type": "display_data",
          "data": {
            "text/plain": [
              "<IPython.core.display.HTML object>"
            ],
            "text/html": [
              "Run data is saved locally in <code>/content/wandb/run-20240218_190018-3f8ddpos</code>"
            ]
          },
          "metadata": {}
        },
        {
          "output_type": "display_data",
          "data": {
            "text/plain": [
              "<IPython.core.display.HTML object>"
            ],
            "text/html": [
              "Syncing run <strong><a href='https://wandb.ai/gugi200/vgg19_bn-customData/runs/3f8ddpos' target=\"_blank\">dainty-sweep-3</a></strong> to <a href='https://wandb.ai/gugi200/vgg19_bn-customData' target=\"_blank\">Weights & Biases</a> (<a href='https://wandb.me/run' target=\"_blank\">docs</a>)<br/>Sweep page: <a href='https://wandb.ai/gugi200/vgg19_bn-customData/sweeps/64dxa04w' target=\"_blank\">https://wandb.ai/gugi200/vgg19_bn-customData/sweeps/64dxa04w</a>"
            ]
          },
          "metadata": {}
        },
        {
          "output_type": "display_data",
          "data": {
            "text/plain": [
              "<IPython.core.display.HTML object>"
            ],
            "text/html": [
              " View project at <a href='https://wandb.ai/gugi200/vgg19_bn-customData' target=\"_blank\">https://wandb.ai/gugi200/vgg19_bn-customData</a>"
            ]
          },
          "metadata": {}
        },
        {
          "output_type": "display_data",
          "data": {
            "text/plain": [
              "<IPython.core.display.HTML object>"
            ],
            "text/html": [
              " View sweep at <a href='https://wandb.ai/gugi200/vgg19_bn-customData/sweeps/64dxa04w' target=\"_blank\">https://wandb.ai/gugi200/vgg19_bn-customData/sweeps/64dxa04w</a>"
            ]
          },
          "metadata": {}
        },
        {
          "output_type": "display_data",
          "data": {
            "text/plain": [
              "<IPython.core.display.HTML object>"
            ],
            "text/html": [
              " View run at <a href='https://wandb.ai/gugi200/vgg19_bn-customData/runs/3f8ddpos' target=\"_blank\">https://wandb.ai/gugi200/vgg19_bn-customData/runs/3f8ddpos</a>"
            ]
          },
          "metadata": {}
        },
        {
          "output_type": "stream",
          "name": "stderr",
          "text": [
            "Using cache found in /root/.cache/torch/hub/pytorch_vision_main\n"
          ]
        },
        {
          "output_type": "stream",
          "name": "stdout",
          "text": [
            "[0.01]\n",
            "Train loss: 4.8203, Train acc: 23.1909%\n",
            "Test loss: 2.1105  |  Test acc: 17.0798%\n",
            "[0.01]\n",
            "Train loss: 2.0157, Train acc: 23.4004%\n",
            "Test loss: 1.7555  |  Test acc: 31.0169%\n",
            "[0.01]\n",
            "Train loss: 1.8082, Train acc: 25.6073%\n",
            "Test loss: 1.7315  |  Test acc: 26.7232%\n",
            "[0.01]\n",
            "Train loss: 1.7160, Train acc: 28.8430%\n",
            "Test loss: 1.5322  |  Test acc: 34.3609%\n",
            "[0.01]\n",
            "Train loss: 5.0949, Train acc: 27.7107%\n",
            "Test loss: 2.2896  |  Test acc: 18.2380%\n"
          ]
        },
        {
          "output_type": "display_data",
          "data": {
            "text/plain": [
              "VBox(children=(Label(value='0.001 MB of 0.001 MB uploaded\\r'), FloatProgress(value=1.0, max=1.0)))"
            ],
            "application/vnd.jupyter.widget-view+json": {
              "version_major": 2,
              "version_minor": 0,
              "model_id": "bc16826cc55d4ab9953a6be886a590b6"
            }
          },
          "metadata": {}
        },
        {
          "output_type": "display_data",
          "data": {
            "text/plain": [
              "<IPython.core.display.HTML object>"
            ],
            "text/html": [
              "<style>\n",
              "    table.wandb td:nth-child(1) { padding: 0 10px; text-align: left ; width: auto;} td:nth-child(2) {text-align: left ; width: 100%}\n",
              "    .wandb-row { display: flex; flex-direction: row; flex-wrap: wrap; justify-content: flex-start; width: 100% }\n",
              "    .wandb-col { display: flex; flex-direction: column; flex-basis: 100%; flex: 1; padding: 10px; }\n",
              "    </style>\n",
              "<div class=\"wandb-row\"><div class=\"wandb-col\"><h3>Run history:</h3><br/><table class=\"wandb\"><tr><td>accuracy</td><td>▄▁▄▆▂▃▃▃▃▃▅▅▅▂▂▅▂▃▅▃▄▇▃▁▁▅▂▅█▁▅▄▅▅▆▅▃▂▂▄</td></tr><tr><td>average test batch loss</td><td>▆▃▃▁█</td></tr><tr><td>average test batch metric</td><td>▁▇▅█▁</td></tr><tr><td>average train batch loss</td><td>▇▂▁▁█</td></tr><tr><td>average train batch metric</td><td>▁▁▄█▇</td></tr><tr><td>epoch</td><td>▁▃▅▆█</td></tr><tr><td>loss</td><td>▂▂▁▁▁▁▁▂▂▁▁▁▁▁▁▁▂▁▁▁▁▁▁▁▁▁▁▁▁▁▁▁▁▁▁▁▇█▆▁</td></tr><tr><td>test accuracy</td><td>▄▁▁▃▁▁▃▃▆▇▇▃▆▅▂█▃▅▁▃▅▃▃▅▅▇▆▃▃▇▃▇▃▃▃▃▂▂▃▅</td></tr><tr><td>test loss</td><td>▄█▄▅▅▄▄▄▂▂▃▃▃▄▅▂▂▃▃▃▂▃▃▃▂▁▁▃▂▂▃▁▄▅▄▅▄▆▄▄</td></tr><tr><td>train time</td><td>▁</td></tr></table><br/></div><div class=\"wandb-col\"><h3>Run summary:</h3><br/><table class=\"wandb\"><tr><td>accuracy</td><td>0.26667</td></tr><tr><td>average test batch loss</td><td>2.28958</td></tr><tr><td>average test batch metric</td><td>0.18238</td></tr><tr><td>average train batch loss</td><td>5.09493</td></tr><tr><td>average train batch metric</td><td>0.27711</td></tr><tr><td>epoch</td><td>4</td></tr><tr><td>loss</td><td>1.8238</td></tr><tr><td>test accuracy</td><td>0.16667</td></tr><tr><td>test loss</td><td>2.18445</td></tr><tr><td>train time</td><td>644.33191</td></tr></table><br/></div></div>"
            ]
          },
          "metadata": {}
        },
        {
          "output_type": "display_data",
          "data": {
            "text/plain": [
              "<IPython.core.display.HTML object>"
            ],
            "text/html": [
              " View run <strong style=\"color:#cdcd00\">dainty-sweep-3</strong> at: <a href='https://wandb.ai/gugi200/vgg19_bn-customData/runs/3f8ddpos' target=\"_blank\">https://wandb.ai/gugi200/vgg19_bn-customData/runs/3f8ddpos</a><br/>Synced 5 W&B file(s), 0 media file(s), 0 artifact file(s) and 0 other file(s)"
            ]
          },
          "metadata": {}
        },
        {
          "output_type": "display_data",
          "data": {
            "text/plain": [
              "<IPython.core.display.HTML object>"
            ],
            "text/html": [
              "Find logs at: <code>./wandb/run-20240218_190018-3f8ddpos/logs</code>"
            ]
          },
          "metadata": {}
        },
        {
          "output_type": "stream",
          "name": "stderr",
          "text": [
            "\u001b[34m\u001b[1mwandb\u001b[0m: Agent Starting Run: z0uafm3i with config:\n",
            "\u001b[34m\u001b[1mwandb\u001b[0m: \tbatch_size: 32\n",
            "\u001b[34m\u001b[1mwandb\u001b[0m: \tepochs: 5\n",
            "\u001b[34m\u001b[1mwandb\u001b[0m: \tfc_layer_size: 8\n",
            "\u001b[34m\u001b[1mwandb\u001b[0m: \tlearning_rate: 0.01\n",
            "\u001b[34m\u001b[1mwandb\u001b[0m: \toptimizer: sgd\n"
          ]
        },
        {
          "output_type": "display_data",
          "data": {
            "text/plain": [
              "<IPython.core.display.HTML object>"
            ],
            "text/html": [
              "Tracking run with wandb version 0.16.3"
            ]
          },
          "metadata": {}
        },
        {
          "output_type": "display_data",
          "data": {
            "text/plain": [
              "<IPython.core.display.HTML object>"
            ],
            "text/html": [
              "Run data is saved locally in <code>/content/wandb/run-20240218_191122-z0uafm3i</code>"
            ]
          },
          "metadata": {}
        },
        {
          "output_type": "display_data",
          "data": {
            "text/plain": [
              "<IPython.core.display.HTML object>"
            ],
            "text/html": [
              "Syncing run <strong><a href='https://wandb.ai/gugi200/vgg19_bn-customData/runs/z0uafm3i' target=\"_blank\">ruby-sweep-4</a></strong> to <a href='https://wandb.ai/gugi200/vgg19_bn-customData' target=\"_blank\">Weights & Biases</a> (<a href='https://wandb.me/run' target=\"_blank\">docs</a>)<br/>Sweep page: <a href='https://wandb.ai/gugi200/vgg19_bn-customData/sweeps/64dxa04w' target=\"_blank\">https://wandb.ai/gugi200/vgg19_bn-customData/sweeps/64dxa04w</a>"
            ]
          },
          "metadata": {}
        },
        {
          "output_type": "display_data",
          "data": {
            "text/plain": [
              "<IPython.core.display.HTML object>"
            ],
            "text/html": [
              " View project at <a href='https://wandb.ai/gugi200/vgg19_bn-customData' target=\"_blank\">https://wandb.ai/gugi200/vgg19_bn-customData</a>"
            ]
          },
          "metadata": {}
        },
        {
          "output_type": "display_data",
          "data": {
            "text/plain": [
              "<IPython.core.display.HTML object>"
            ],
            "text/html": [
              " View sweep at <a href='https://wandb.ai/gugi200/vgg19_bn-customData/sweeps/64dxa04w' target=\"_blank\">https://wandb.ai/gugi200/vgg19_bn-customData/sweeps/64dxa04w</a>"
            ]
          },
          "metadata": {}
        },
        {
          "output_type": "display_data",
          "data": {
            "text/plain": [
              "<IPython.core.display.HTML object>"
            ],
            "text/html": [
              " View run at <a href='https://wandb.ai/gugi200/vgg19_bn-customData/runs/z0uafm3i' target=\"_blank\">https://wandb.ai/gugi200/vgg19_bn-customData/runs/z0uafm3i</a>"
            ]
          },
          "metadata": {}
        },
        {
          "output_type": "stream",
          "name": "stderr",
          "text": [
            "Using cache found in /root/.cache/torch/hub/pytorch_vision_main\n"
          ]
        },
        {
          "output_type": "stream",
          "name": "stdout",
          "text": [
            "[0.01]\n",
            "Train loss: 0.6219, Train acc: 78.8089%\n",
            "Test loss: 0.2084  |  Test acc: 93.1568%\n",
            "[0.01]\n",
            "Train loss: 0.2436, Train acc: 92.6201%\n",
            "Test loss: 0.1253  |  Test acc: 95.9075%\n",
            "[0.01]\n",
            "Train loss: 0.1039, Train acc: 96.7691%\n",
            "Test loss: 0.1858  |  Test acc: 94.3291%\n",
            "[0.01]\n",
            "Train loss: 0.0658, Train acc: 98.0226%\n",
            "Test loss: 0.0752  |  Test acc: 97.8284%\n",
            "[0.001]\n",
            "Train loss: 0.0227, Train acc: 99.2938%\n",
            "Test loss: 0.0499  |  Test acc: 98.7253%\n"
          ]
        },
        {
          "output_type": "display_data",
          "data": {
            "text/plain": [
              "VBox(children=(Label(value='0.001 MB of 0.001 MB uploaded\\r'), FloatProgress(value=1.0, max=1.0)))"
            ],
            "application/vnd.jupyter.widget-view+json": {
              "version_major": 2,
              "version_minor": 0,
              "model_id": "8804cddf86ae4c6b885329e4e382c575"
            }
          },
          "metadata": {}
        },
        {
          "output_type": "display_data",
          "data": {
            "text/plain": [
              "<IPython.core.display.HTML object>"
            ],
            "text/html": [
              "<style>\n",
              "    table.wandb td:nth-child(1) { padding: 0 10px; text-align: left ; width: auto;} td:nth-child(2) {text-align: left ; width: 100%}\n",
              "    .wandb-row { display: flex; flex-direction: row; flex-wrap: wrap; justify-content: flex-start; width: 100% }\n",
              "    .wandb-col { display: flex; flex-direction: column; flex-basis: 100%; flex: 1; padding: 10px; }\n",
              "    </style>\n",
              "<div class=\"wandb-row\"><div class=\"wandb-col\"><h3>Run history:</h3><br/><table class=\"wandb\"><tr><td>accuracy</td><td>▁▅▅▆▆▆▆▇█▇▇▇▇████▇██████▇█▇███▇█████████</td></tr><tr><td>average test batch loss</td><td>█▄▇▂▁</td></tr><tr><td>average test batch metric</td><td>▁▄▂▇█</td></tr><tr><td>average train batch loss</td><td>█▄▂▂▁</td></tr><tr><td>average train batch metric</td><td>▁▆▇██</td></tr><tr><td>epoch</td><td>▁▃▅▆█</td></tr><tr><td>loss</td><td>█▇▅▃▃▄▃▂▂▂▃▂▂▁▁▁▁▂▁▁▁▁▁▁▃▁▁▁▁▂▂▁▁▁▁▁▁▂▁▁</td></tr><tr><td>test accuracy</td><td>▅▄▅▇▇▁▇▄█▇████▆▅▆▆█▆▆█▅▆█▆▆█▇▆▇██▆██▇██▇</td></tr><tr><td>test loss</td><td>▄▆▃▃▂█▃▄▁▁▁▂▁▁▃▃▅▃▁▅▂▁▅▂▁▂▃▁▂▄▂▁▁▆▁▁▂▁▁▂</td></tr><tr><td>train time</td><td>▁</td></tr></table><br/></div><div class=\"wandb-col\"><h3>Run summary:</h3><br/><table class=\"wandb\"><tr><td>accuracy</td><td>1.0</td></tr><tr><td>average test batch loss</td><td>0.04989</td></tr><tr><td>average test batch metric</td><td>0.98725</td></tr><tr><td>average train batch loss</td><td>0.02267</td></tr><tr><td>average train batch metric</td><td>0.99294</td></tr><tr><td>epoch</td><td>4</td></tr><tr><td>loss</td><td>0.00177</td></tr><tr><td>test accuracy</td><td>0.96667</td></tr><tr><td>test loss</td><td>0.12675</td></tr><tr><td>train time</td><td>633.17212</td></tr></table><br/></div></div>"
            ]
          },
          "metadata": {}
        },
        {
          "output_type": "display_data",
          "data": {
            "text/plain": [
              "<IPython.core.display.HTML object>"
            ],
            "text/html": [
              " View run <strong style=\"color:#cdcd00\">ruby-sweep-4</strong> at: <a href='https://wandb.ai/gugi200/vgg19_bn-customData/runs/z0uafm3i' target=\"_blank\">https://wandb.ai/gugi200/vgg19_bn-customData/runs/z0uafm3i</a><br/>Synced 5 W&B file(s), 0 media file(s), 0 artifact file(s) and 0 other file(s)"
            ]
          },
          "metadata": {}
        },
        {
          "output_type": "display_data",
          "data": {
            "text/plain": [
              "<IPython.core.display.HTML object>"
            ],
            "text/html": [
              "Find logs at: <code>./wandb/run-20240218_191122-z0uafm3i/logs</code>"
            ]
          },
          "metadata": {}
        },
        {
          "output_type": "stream",
          "name": "stderr",
          "text": [
            "\u001b[34m\u001b[1mwandb\u001b[0m: Sweep Agent: Waiting for job.\n",
            "\u001b[34m\u001b[1mwandb\u001b[0m: Sweep Agent: Exiting.\n"
          ]
        }
      ]
    },
    {
      "cell_type": "markdown",
      "source": [
        "## wide_resnet50_2"
      ],
      "metadata": {
        "id": "omAINKmrzArf"
      }
    },
    {
      "cell_type": "code",
      "source": [
        "def train_model_wide_resnet50_2(config=None):\n",
        "    with wandb.init(config=config):\n",
        "        config = wandb.config\n",
        "\n",
        "        mean=[0.485, 0.456, 0.406]\n",
        "        std=[0.229, 0.224, 0.225]\n",
        "        tranform = transforms.Compose([\n",
        "            expMapping(4),\n",
        "            softThreshold(30, 255),\n",
        "            transforms.Resize(size=(224, 224)),\n",
        "            transforms.ToTensor(),\n",
        "            transforms.Normalize(mean=mean, std=std),\n",
        "        ])\n",
        "\n",
        "\n",
        "        train_dataloader, class_names, _ = create_dataset(path=Path(\"train_raw\"),\n",
        "                                                          batchsize=config.batch_size,\n",
        "                                                          preprocess=tranform)\n",
        "\n",
        "        test_dataloader, _ , _ = create_dataset(path=Path(\"test_raw\"),\n",
        "                                                batchsize=config.batch_size,\n",
        "                                                preprocess=tranform)\n",
        "\n",
        "\n",
        "        weight = list(torchvision.models.get_model_weights('wide_resnet50_2'))[-1]\n",
        "        model = torch.hub.load('pytorch/vision', 'wide_resnet50_2', weight).to(device)\n",
        "        model.fc = nn.Linear(2048 , len(class_names), bias=True).to(device)\n",
        "\n",
        "        train_test_loop(config=config,\n",
        "                        model=model,\n",
        "                        train_dataloader=train_dataloader,\n",
        "                        test_dataloader=test_dataloader,\n",
        "                        class_names=class_names,\n",
        "                        device=device\n",
        "                        )\n",
        "    return model\n",
        "\n",
        "\n",
        "# wide_resnet50_2 pipeline\n",
        "sweep_id_wide_resnet50_2 = wandb.sweep(sweep_config, project=\"wide_resnet50_2-customData\")\n",
        "wandb.agent(sweep_id_wide_resnet50_2, train_model_wide_resnet50_2)"
      ],
      "metadata": {
        "id": "5vRgWdyyk8Um",
        "colab": {
          "base_uri": "https://localhost:8080/",
          "height": 0,
          "referenced_widgets": [
            "d073ff263f9e489dad055856d82130d4",
            "3e64b662f1fb4e3db3cac481b1ce85bc",
            "ca170bcfc4634171bb7b55039b65be2d",
            "1796da56f8f1445691c074dab499ef2c",
            "f7ead2fa28ec457189e8734bd7629ff8",
            "12b223cffac0488fb287fab20620f0b6",
            "f2c1c2c938c141838bd19a7433fbb957",
            "8d19f3aa723f4b14a894074968e5f466",
            "e87d66e8b2924f72bc1db10e9c762678",
            "02815145a5ab4a9993911eb9016bb53f",
            "e8a9e9c60ed84541ba96edb0f837cd82",
            "ccd861c047d7480ca870b67229ae5c52",
            "88ba4bf0c05a43f7a4cc084278987787",
            "d44d1b2ab78945b8b853f315141a954b",
            "b17928e4d23641b39188614bb546ac57",
            "108176cf3d60411f89b3233dfa121920",
            "69d4652f9a9b463fb57aff1fc28c561b",
            "30477cf40f714ec6bbdd30019bfbe675",
            "fc646f95f8234e649e107fe835976ead",
            "a305bbbada0148918f8e85b536ac04cd",
            "0dee1d72293b44dbb3f786935b9f04ff",
            "913e504c002c4fdea1e4f5bf38171809",
            "0e8bab866f1143e897b93ce88dd8206d",
            "a6003078dbec440bb0333cb212e8e749"
          ]
        },
        "outputId": "e57f0614-46aa-4868-ae86-a77a7d30fb2a"
      },
      "execution_count": 6,
      "outputs": [
        {
          "metadata": {
            "tags": null
          },
          "name": "stdout",
          "output_type": "stream",
          "text": [
            "Create sweep with ID: pogqeb71\n",
            "Sweep URL: https://wandb.ai/gugi200/wide_resnet50_2-customData/sweeps/pogqeb71\n"
          ]
        },
        {
          "metadata": {
            "tags": null
          },
          "name": "stderr",
          "output_type": "stream",
          "text": [
            "\u001b[34m\u001b[1mwandb\u001b[0m: Agent Starting Run: iljgg8ud with config:\n",
            "\u001b[34m\u001b[1mwandb\u001b[0m: \tbatch_size: 16\n",
            "\u001b[34m\u001b[1mwandb\u001b[0m: \tepochs: 5\n",
            "\u001b[34m\u001b[1mwandb\u001b[0m: \tfc_layer_size: 8\n",
            "\u001b[34m\u001b[1mwandb\u001b[0m: \tlearning_rate: 0.01\n",
            "\u001b[34m\u001b[1mwandb\u001b[0m: \toptimizer: adam\n",
            "\u001b[34m\u001b[1mwandb\u001b[0m: Currently logged in as: \u001b[33mad20781\u001b[0m (\u001b[33mgugi200\u001b[0m). Use \u001b[1m`wandb login --relogin`\u001b[0m to force relogin\n"
          ]
        },
        {
          "data": {
            "text/html": [
              "Tracking run with wandb version 0.16.3"
            ],
            "text/plain": [
              "<IPython.core.display.HTML object>"
            ]
          },
          "metadata": {},
          "output_type": "display_data"
        },
        {
          "data": {
            "text/html": [
              "Run data is saved locally in <code>/content/wandb/run-20240218_175307-iljgg8ud</code>"
            ],
            "text/plain": [
              "<IPython.core.display.HTML object>"
            ]
          },
          "metadata": {},
          "output_type": "display_data"
        },
        {
          "data": {
            "text/html": [
              "Syncing run <strong><a href='https://wandb.ai/gugi200/wide_resnet50_2-customData/runs/iljgg8ud' target=\"_blank\">smart-sweep-1</a></strong> to <a href='https://wandb.ai/gugi200/wide_resnet50_2-customData' target=\"_blank\">Weights & Biases</a> (<a href='https://wandb.me/run' target=\"_blank\">docs</a>)<br/>Sweep page: <a href='https://wandb.ai/gugi200/wide_resnet50_2-customData/sweeps/pogqeb71' target=\"_blank\">https://wandb.ai/gugi200/wide_resnet50_2-customData/sweeps/pogqeb71</a>"
            ],
            "text/plain": [
              "<IPython.core.display.HTML object>"
            ]
          },
          "metadata": {},
          "output_type": "display_data"
        },
        {
          "data": {
            "text/html": [
              " View project at <a href='https://wandb.ai/gugi200/wide_resnet50_2-customData' target=\"_blank\">https://wandb.ai/gugi200/wide_resnet50_2-customData</a>"
            ],
            "text/plain": [
              "<IPython.core.display.HTML object>"
            ]
          },
          "metadata": {},
          "output_type": "display_data"
        },
        {
          "data": {
            "text/html": [
              " View sweep at <a href='https://wandb.ai/gugi200/wide_resnet50_2-customData/sweeps/pogqeb71' target=\"_blank\">https://wandb.ai/gugi200/wide_resnet50_2-customData/sweeps/pogqeb71</a>"
            ],
            "text/plain": [
              "<IPython.core.display.HTML object>"
            ]
          },
          "metadata": {},
          "output_type": "display_data"
        },
        {
          "data": {
            "text/html": [
              " View run at <a href='https://wandb.ai/gugi200/wide_resnet50_2-customData/runs/iljgg8ud' target=\"_blank\">https://wandb.ai/gugi200/wide_resnet50_2-customData/runs/iljgg8ud</a>"
            ],
            "text/plain": [
              "<IPython.core.display.HTML object>"
            ]
          },
          "metadata": {},
          "output_type": "display_data"
        },
        {
          "metadata": {
            "tags": null
          },
          "name": "stderr",
          "output_type": "stream",
          "text": [
            "Downloading: \"https://github.com/pytorch/vision/zipball/main\" to /root/.cache/torch/hub/main.zip\n",
            "/usr/local/lib/python3.10/dist-packages/torchvision/models/_utils.py:135: UserWarning: Using 'weights' as positional parameter(s) is deprecated since 0.13 and may be removed in the future. Please use keyword parameter(s) instead.\n",
            "  warnings.warn(\n",
            "Downloading: \"https://download.pytorch.org/models/wide_resnet50_2-9ba9bcbe.pth\" to /root/.cache/torch/hub/checkpoints/wide_resnet50_2-9ba9bcbe.pth\n",
            "100%|██████████| 263M/263M [00:21<00:00, 12.6MB/s]\n"
          ]
        },
        {
          "metadata": {
            "tags": null
          },
          "name": "stdout",
          "output_type": "stream",
          "text": [
            "[0.01]\n",
            "Train loss: 1.2501, Train acc: 52.9391%\n",
            "Test loss: 0.7589  |  Test acc: 68.2773%\n",
            "[0.01]\n",
            "Train loss: 0.6143, Train acc: 78.2519%\n",
            "Test loss: 0.6066  |  Test acc: 77.3109%\n",
            "[0.01]\n",
            "Train loss: 0.4430, Train acc: 84.3957%\n",
            "Test loss: 0.3532  |  Test acc: 88.4454%\n",
            "[0.01]\n",
            "Train loss: 0.3176, Train acc: 89.3177%\n",
            "Test loss: 0.3254  |  Test acc: 89.5483%\n",
            "[0.01]\n",
            "Train loss: 0.2567, Train acc: 91.3598%\n",
            "Test loss: 0.4014  |  Test acc: 87.3424%\n"
          ]
        },
        {
          "data": {
            "application/vnd.jupyter.widget-view+json": {
              "model_id": "d073ff263f9e489dad055856d82130d4",
              "version_major": 2,
              "version_minor": 0
            },
            "text/plain": [
              "VBox(children=(Label(value='0.001 MB of 0.001 MB uploaded\\r'), FloatProgress(value=1.0, max=1.0)))"
            ]
          },
          "metadata": {},
          "output_type": "display_data"
        },
        {
          "data": {
            "text/html": [
              "<style>\n",
              "    table.wandb td:nth-child(1) { padding: 0 10px; text-align: left ; width: auto;} td:nth-child(2) {text-align: left ; width: 100%}\n",
              "    .wandb-row { display: flex; flex-direction: row; flex-wrap: wrap; justify-content: flex-start; width: 100% }\n",
              "    .wandb-col { display: flex; flex-direction: column; flex-basis: 100%; flex: 1; padding: 10px; }\n",
              "    </style>\n",
              "<div class=\"wandb-row\"><div class=\"wandb-col\"><h3>Run history:</h3><br/><table class=\"wandb\"><tr><td>accuracy</td><td>▁▄▂▂▅▅▅▆▄▅▆▆▇▆▅▇▇▇▇▆▇▇▇█▆▇▆▇▆▆▇▇▇█▇▇▇▆██</td></tr><tr><td>average test batch loss</td><td>█▆▁▁▂</td></tr><tr><td>average test batch metric</td><td>▁▄██▇</td></tr><tr><td>average train batch loss</td><td>█▄▂▁▁</td></tr><tr><td>average train batch metric</td><td>▁▆▇██</td></tr><tr><td>epoch</td><td>▁▃▅▆█</td></tr><tr><td>loss</td><td>█▇▇▇▅▄▅▃▅▃▃▄▂▃▃▃▃▂▂▂▂▂▂▁▃▁▃▂▃▃▃▂▂▁▂▂▂▂▁▁</td></tr><tr><td>test accuracy</td><td>▂▂▂▅▂▅▃▆▅▁▆▆▅▆▆▄█▇▅▇▆▅▄▅█▅▄█▅▅▇▇▄▇▇▅▆█▅▆</td></tr><tr><td>test loss</td><td>▄▄▅▅▅▄▃▃▂▅▂▂▃▂▂▃▁▂▂▂█▄▄▂▁▄▃▁▂▃▂▂▄▃▂▂▂▁▅▃</td></tr><tr><td>train time</td><td>▁</td></tr></table><br/></div><div class=\"wandb-col\"><h3>Run summary:</h3><br/><table class=\"wandb\"><tr><td>accuracy</td><td>1.0</td></tr><tr><td>average test batch loss</td><td>0.40142</td></tr><tr><td>average test batch metric</td><td>0.87342</td></tr><tr><td>average train batch loss</td><td>0.25667</td></tr><tr><td>average train batch metric</td><td>0.9136</td></tr><tr><td>epoch</td><td>4</td></tr><tr><td>loss</td><td>0.13668</td></tr><tr><td>test accuracy</td><td>1.0</td></tr><tr><td>test loss</td><td>0.0037</td></tr><tr><td>train time</td><td>672.80477</td></tr></table><br/></div></div>"
            ],
            "text/plain": [
              "<IPython.core.display.HTML object>"
            ]
          },
          "metadata": {},
          "output_type": "display_data"
        },
        {
          "data": {
            "text/html": [
              " View run <strong style=\"color:#cdcd00\">smart-sweep-1</strong> at: <a href='https://wandb.ai/gugi200/wide_resnet50_2-customData/runs/iljgg8ud' target=\"_blank\">https://wandb.ai/gugi200/wide_resnet50_2-customData/runs/iljgg8ud</a><br/>Synced 5 W&B file(s), 0 media file(s), 0 artifact file(s) and 0 other file(s)"
            ],
            "text/plain": [
              "<IPython.core.display.HTML object>"
            ]
          },
          "metadata": {},
          "output_type": "display_data"
        },
        {
          "data": {
            "text/html": [
              "Find logs at: <code>./wandb/run-20240218_175307-iljgg8ud/logs</code>"
            ],
            "text/plain": [
              "<IPython.core.display.HTML object>"
            ]
          },
          "metadata": {},
          "output_type": "display_data"
        },
        {
          "metadata": {
            "tags": null
          },
          "name": "stderr",
          "output_type": "stream",
          "text": [
            "\u001b[34m\u001b[1mwandb\u001b[0m: Sweep Agent: Waiting for job.\n",
            "\u001b[34m\u001b[1mwandb\u001b[0m: Job received.\n",
            "\u001b[34m\u001b[1mwandb\u001b[0m: Agent Starting Run: wc6xod9s with config:\n",
            "\u001b[34m\u001b[1mwandb\u001b[0m: \tbatch_size: 16\n",
            "\u001b[34m\u001b[1mwandb\u001b[0m: \tepochs: 5\n",
            "\u001b[34m\u001b[1mwandb\u001b[0m: \tfc_layer_size: 8\n",
            "\u001b[34m\u001b[1mwandb\u001b[0m: \tlearning_rate: 0.01\n",
            "\u001b[34m\u001b[1mwandb\u001b[0m: \toptimizer: sgd\n"
          ]
        },
        {
          "data": {
            "text/html": [
              "Tracking run with wandb version 0.16.3"
            ],
            "text/plain": [
              "<IPython.core.display.HTML object>"
            ]
          },
          "metadata": {},
          "output_type": "display_data"
        },
        {
          "data": {
            "text/html": [
              "Run data is saved locally in <code>/content/wandb/run-20240218_180515-wc6xod9s</code>"
            ],
            "text/plain": [
              "<IPython.core.display.HTML object>"
            ]
          },
          "metadata": {},
          "output_type": "display_data"
        },
        {
          "data": {
            "text/html": [
              "Syncing run <strong><a href='https://wandb.ai/gugi200/wide_resnet50_2-customData/runs/wc6xod9s' target=\"_blank\">northern-sweep-2</a></strong> to <a href='https://wandb.ai/gugi200/wide_resnet50_2-customData' target=\"_blank\">Weights & Biases</a> (<a href='https://wandb.me/run' target=\"_blank\">docs</a>)<br/>Sweep page: <a href='https://wandb.ai/gugi200/wide_resnet50_2-customData/sweeps/pogqeb71' target=\"_blank\">https://wandb.ai/gugi200/wide_resnet50_2-customData/sweeps/pogqeb71</a>"
            ],
            "text/plain": [
              "<IPython.core.display.HTML object>"
            ]
          },
          "metadata": {},
          "output_type": "display_data"
        },
        {
          "data": {
            "text/html": [
              " View project at <a href='https://wandb.ai/gugi200/wide_resnet50_2-customData' target=\"_blank\">https://wandb.ai/gugi200/wide_resnet50_2-customData</a>"
            ],
            "text/plain": [
              "<IPython.core.display.HTML object>"
            ]
          },
          "metadata": {},
          "output_type": "display_data"
        },
        {
          "data": {
            "text/html": [
              " View sweep at <a href='https://wandb.ai/gugi200/wide_resnet50_2-customData/sweeps/pogqeb71' target=\"_blank\">https://wandb.ai/gugi200/wide_resnet50_2-customData/sweeps/pogqeb71</a>"
            ],
            "text/plain": [
              "<IPython.core.display.HTML object>"
            ]
          },
          "metadata": {},
          "output_type": "display_data"
        },
        {
          "data": {
            "text/html": [
              " View run at <a href='https://wandb.ai/gugi200/wide_resnet50_2-customData/runs/wc6xod9s' target=\"_blank\">https://wandb.ai/gugi200/wide_resnet50_2-customData/runs/wc6xod9s</a>"
            ],
            "text/plain": [
              "<IPython.core.display.HTML object>"
            ]
          },
          "metadata": {},
          "output_type": "display_data"
        },
        {
          "metadata": {
            "tags": null
          },
          "name": "stderr",
          "output_type": "stream",
          "text": [
            "Using cache found in /root/.cache/torch/hub/pytorch_vision_main\n"
          ]
        },
        {
          "metadata": {
            "tags": null
          },
          "name": "stdout",
          "output_type": "stream",
          "text": [
            "[0.01]\n",
            "Train loss: 0.5475, Train acc: 80.4355%\n",
            "Test loss: 0.3749  |  Test acc: 87.0273%\n",
            "[0.01]\n",
            "Train loss: 0.1164, Train acc: 96.4058%\n",
            "Test loss: 0.1152  |  Test acc: 96.1660%\n",
            "[0.01]\n",
            "Train loss: 0.0456, Train acc: 98.6013%\n",
            "Test loss: 0.0787  |  Test acc: 97.6366%\n",
            "[0.001]\n",
            "Train loss: 0.0152, Train acc: 99.7167%\n",
            "Test loss: 0.0654  |  Test acc: 98.2668%\n",
            "[0.001]\n",
            "Train loss: 0.0103, Train acc: 99.7521%\n",
            "Test loss: 0.0626  |  Test acc: 98.3193%\n"
          ]
        },
        {
          "data": {
            "application/vnd.jupyter.widget-view+json": {
              "model_id": "e87d66e8b2924f72bc1db10e9c762678",
              "version_major": 2,
              "version_minor": 0
            },
            "text/plain": [
              "VBox(children=(Label(value='0.001 MB of 0.001 MB uploaded\\r'), FloatProgress(value=1.0, max=1.0)))"
            ]
          },
          "metadata": {},
          "output_type": "display_data"
        },
        {
          "data": {
            "text/html": [
              "<style>\n",
              "    table.wandb td:nth-child(1) { padding: 0 10px; text-align: left ; width: auto;} td:nth-child(2) {text-align: left ; width: 100%}\n",
              "    .wandb-row { display: flex; flex-direction: row; flex-wrap: wrap; justify-content: flex-start; width: 100% }\n",
              "    .wandb-col { display: flex; flex-direction: column; flex-basis: 100%; flex: 1; padding: 10px; }\n",
              "    </style>\n",
              "<div class=\"wandb-row\"><div class=\"wandb-col\"><h3>Run history:</h3><br/><table class=\"wandb\"><tr><td>accuracy</td><td>▁▅▇▇█▇█▇█▇█▇█▇██████████████████████████</td></tr><tr><td>average test batch loss</td><td>█▂▁▁▁</td></tr><tr><td>average test batch metric</td><td>▁▇███</td></tr><tr><td>average train batch loss</td><td>█▂▁▁▁</td></tr><tr><td>average train batch metric</td><td>▁▇███</td></tr><tr><td>epoch</td><td>▁▃▅▆█</td></tr><tr><td>loss</td><td>█▅▃▃▁▁▂▂▁▁▁▂▁▃▁▁▁▁▁▁▁▁▁▁▁▁▁▁▁▁▁▁▁▁▁▁▁▁▁▁</td></tr><tr><td>test accuracy</td><td>▇▁▅▅▄▂▇▅██▇▅▅██▇█▇████▇▇▇███▇█████▇████▄</td></tr><tr><td>test loss</td><td>▂▇▄▄█▅▃▃▁▁▂▂▄▁▁▁▁▂▁▁▁▁▂▂▃▁▁▁▂▁▁▁▁▁▃▁▁▁▁▆</td></tr><tr><td>train time</td><td>▁</td></tr></table><br/></div><div class=\"wandb-col\"><h3>Run summary:</h3><br/><table class=\"wandb\"><tr><td>accuracy</td><td>1.0</td></tr><tr><td>average test batch loss</td><td>0.06263</td></tr><tr><td>average test batch metric</td><td>0.98319</td></tr><tr><td>average train batch loss</td><td>0.01031</td></tr><tr><td>average train batch metric</td><td>0.99752</td></tr><tr><td>epoch</td><td>4</td></tr><tr><td>loss</td><td>0.00609</td></tr><tr><td>test accuracy</td><td>1.0</td></tr><tr><td>test loss</td><td>0.00073</td></tr><tr><td>train time</td><td>667.19986</td></tr></table><br/></div></div>"
            ],
            "text/plain": [
              "<IPython.core.display.HTML object>"
            ]
          },
          "metadata": {},
          "output_type": "display_data"
        },
        {
          "data": {
            "text/html": [
              " View run <strong style=\"color:#cdcd00\">northern-sweep-2</strong> at: <a href='https://wandb.ai/gugi200/wide_resnet50_2-customData/runs/wc6xod9s' target=\"_blank\">https://wandb.ai/gugi200/wide_resnet50_2-customData/runs/wc6xod9s</a><br/>Synced 5 W&B file(s), 0 media file(s), 0 artifact file(s) and 0 other file(s)"
            ],
            "text/plain": [
              "<IPython.core.display.HTML object>"
            ]
          },
          "metadata": {},
          "output_type": "display_data"
        },
        {
          "data": {
            "text/html": [
              "Find logs at: <code>./wandb/run-20240218_180515-wc6xod9s/logs</code>"
            ],
            "text/plain": [
              "<IPython.core.display.HTML object>"
            ]
          },
          "metadata": {},
          "output_type": "display_data"
        },
        {
          "metadata": {
            "tags": null
          },
          "name": "stderr",
          "output_type": "stream",
          "text": [
            "\u001b[34m\u001b[1mwandb\u001b[0m: Sweep Agent: Waiting for job.\n",
            "\u001b[34m\u001b[1mwandb\u001b[0m: Job received.\n",
            "\u001b[34m\u001b[1mwandb\u001b[0m: Agent Starting Run: tww9zhnf with config:\n",
            "\u001b[34m\u001b[1mwandb\u001b[0m: \tbatch_size: 32\n",
            "\u001b[34m\u001b[1mwandb\u001b[0m: \tepochs: 5\n",
            "\u001b[34m\u001b[1mwandb\u001b[0m: \tfc_layer_size: 8\n",
            "\u001b[34m\u001b[1mwandb\u001b[0m: \tlearning_rate: 0.01\n",
            "\u001b[34m\u001b[1mwandb\u001b[0m: \toptimizer: adam\n"
          ]
        },
        {
          "data": {
            "text/html": [
              "Tracking run with wandb version 0.16.3"
            ],
            "text/plain": [
              "<IPython.core.display.HTML object>"
            ]
          },
          "metadata": {},
          "output_type": "display_data"
        },
        {
          "data": {
            "text/html": [
              "Run data is saved locally in <code>/content/wandb/run-20240218_181651-tww9zhnf</code>"
            ],
            "text/plain": [
              "<IPython.core.display.HTML object>"
            ]
          },
          "metadata": {},
          "output_type": "display_data"
        },
        {
          "data": {
            "text/html": [
              "Syncing run <strong><a href='https://wandb.ai/gugi200/wide_resnet50_2-customData/runs/tww9zhnf' target=\"_blank\">mild-sweep-3</a></strong> to <a href='https://wandb.ai/gugi200/wide_resnet50_2-customData' target=\"_blank\">Weights & Biases</a> (<a href='https://wandb.me/run' target=\"_blank\">docs</a>)<br/>Sweep page: <a href='https://wandb.ai/gugi200/wide_resnet50_2-customData/sweeps/pogqeb71' target=\"_blank\">https://wandb.ai/gugi200/wide_resnet50_2-customData/sweeps/pogqeb71</a>"
            ],
            "text/plain": [
              "<IPython.core.display.HTML object>"
            ]
          },
          "metadata": {},
          "output_type": "display_data"
        },
        {
          "data": {
            "text/html": [
              " View project at <a href='https://wandb.ai/gugi200/wide_resnet50_2-customData' target=\"_blank\">https://wandb.ai/gugi200/wide_resnet50_2-customData</a>"
            ],
            "text/plain": [
              "<IPython.core.display.HTML object>"
            ]
          },
          "metadata": {},
          "output_type": "display_data"
        },
        {
          "data": {
            "text/html": [
              " View sweep at <a href='https://wandb.ai/gugi200/wide_resnet50_2-customData/sweeps/pogqeb71' target=\"_blank\">https://wandb.ai/gugi200/wide_resnet50_2-customData/sweeps/pogqeb71</a>"
            ],
            "text/plain": [
              "<IPython.core.display.HTML object>"
            ]
          },
          "metadata": {},
          "output_type": "display_data"
        },
        {
          "data": {
            "text/html": [
              " View run at <a href='https://wandb.ai/gugi200/wide_resnet50_2-customData/runs/tww9zhnf' target=\"_blank\">https://wandb.ai/gugi200/wide_resnet50_2-customData/runs/tww9zhnf</a>"
            ],
            "text/plain": [
              "<IPython.core.display.HTML object>"
            ]
          },
          "metadata": {},
          "output_type": "display_data"
        },
        {
          "metadata": {
            "tags": null
          },
          "name": "stderr",
          "output_type": "stream",
          "text": [
            "Using cache found in /root/.cache/torch/hub/pytorch_vision_main\n"
          ]
        },
        {
          "metadata": {
            "tags": null
          },
          "name": "stdout",
          "output_type": "stream",
          "text": [
            "[0.01]\n",
            "Train loss: 1.3671, Train acc: 48.2521%\n",
            "Test loss: 1.6190  |  Test acc: 49.5312%\n",
            "[0.01]\n",
            "Train loss: 0.7242, Train acc: 73.1756%\n",
            "Test loss: 123.5028  |  Test acc: 14.6875%\n",
            "[0.01]\n",
            "Train loss: 0.5196, Train acc: 81.1735%\n",
            "Test loss: 0.7336  |  Test acc: 72.0833%\n",
            "[0.01]\n",
            "Train loss: 0.3376, Train acc: 88.4887%\n",
            "Test loss: 0.7850  |  Test acc: 75.7813%\n",
            "[0.01]\n",
            "Train loss: 0.2659, Train acc: 91.2665%\n",
            "Test loss: 0.5059  |  Test acc: 83.9583%\n"
          ]
        },
        {
          "data": {
            "application/vnd.jupyter.widget-view+json": {
              "model_id": "69d4652f9a9b463fb57aff1fc28c561b",
              "version_major": 2,
              "version_minor": 0
            },
            "text/plain": [
              "VBox(children=(Label(value='0.001 MB of 0.001 MB uploaded\\r'), FloatProgress(value=1.0, max=1.0)))"
            ]
          },
          "metadata": {},
          "output_type": "display_data"
        },
        {
          "data": {
            "text/html": [
              "<style>\n",
              "    table.wandb td:nth-child(1) { padding: 0 10px; text-align: left ; width: auto;} td:nth-child(2) {text-align: left ; width: 100%}\n",
              "    .wandb-row { display: flex; flex-direction: row; flex-wrap: wrap; justify-content: flex-start; width: 100% }\n",
              "    .wandb-col { display: flex; flex-direction: column; flex-basis: 100%; flex: 1; padding: 10px; }\n",
              "    </style>\n",
              "<div class=\"wandb-row\"><div class=\"wandb-col\"><h3>Run history:</h3><br/><table class=\"wandb\"><tr><td>accuracy</td><td>▁▂▃▃▃▃▄▅▃▄▅▇▅▆▅▆▄▆▆▆▅▅▇▅▆▇▇▆█▇█▆█▇▆▆██▇▇</td></tr><tr><td>average test batch loss</td><td>▁█▁▁▁</td></tr><tr><td>average test batch metric</td><td>▅▁▇▇█</td></tr><tr><td>average train batch loss</td><td>█▄▃▁▁</td></tr><tr><td>average train batch metric</td><td>▁▅▆██</td></tr><tr><td>epoch</td><td>▁▃▅▆█</td></tr><tr><td>loss</td><td>█▆▆▆▅▅▄▅▄▄▃▂▄▃▄▃▆▂▂▃▃▃▂▅▃▂▂▃▁▂▁▂▁▂▃▃▁▁▁▂</td></tr><tr><td>test accuracy</td><td>▄▅▃▅▄▅▆▄▂▂▂▁▁▂▁▂▆▇▆▅▆▇▆▆▆▇▆▆▆▆▆▆█▇▆▇▆▇▇█</td></tr><tr><td>test loss</td><td>▁▁▁▁▁▁▁▁▇▇▇█▇▆█▆▁▁▁▁▁▁▁▁▁▁▁▁▁▁▁▁▁▁▁▁▁▁▁▁</td></tr><tr><td>train time</td><td>▁</td></tr></table><br/></div><div class=\"wandb-col\"><h3>Run summary:</h3><br/><table class=\"wandb\"><tr><td>accuracy</td><td>0.66667</td></tr><tr><td>average test batch loss</td><td>0.50594</td></tr><tr><td>average test batch metric</td><td>0.83958</td></tr><tr><td>average train batch loss</td><td>0.26588</td></tr><tr><td>average train batch metric</td><td>0.91266</td></tr><tr><td>epoch</td><td>4</td></tr><tr><td>loss</td><td>0.47898</td></tr><tr><td>test accuracy</td><td>1.0</td></tr><tr><td>test loss</td><td>0.0</td></tr><tr><td>train time</td><td>633.4871</td></tr></table><br/></div></div>"
            ],
            "text/plain": [
              "<IPython.core.display.HTML object>"
            ]
          },
          "metadata": {},
          "output_type": "display_data"
        },
        {
          "data": {
            "text/html": [
              " View run <strong style=\"color:#cdcd00\">mild-sweep-3</strong> at: <a href='https://wandb.ai/gugi200/wide_resnet50_2-customData/runs/tww9zhnf' target=\"_blank\">https://wandb.ai/gugi200/wide_resnet50_2-customData/runs/tww9zhnf</a><br/>Synced 5 W&B file(s), 0 media file(s), 0 artifact file(s) and 0 other file(s)"
            ],
            "text/plain": [
              "<IPython.core.display.HTML object>"
            ]
          },
          "metadata": {},
          "output_type": "display_data"
        },
        {
          "data": {
            "text/html": [
              "Find logs at: <code>./wandb/run-20240218_181651-tww9zhnf/logs</code>"
            ],
            "text/plain": [
              "<IPython.core.display.HTML object>"
            ]
          },
          "metadata": {},
          "output_type": "display_data"
        },
        {
          "metadata": {
            "tags": null
          },
          "name": "stderr",
          "output_type": "stream",
          "text": [
            "\u001b[34m\u001b[1mwandb\u001b[0m: Agent Starting Run: xnvyj0g0 with config:\n",
            "\u001b[34m\u001b[1mwandb\u001b[0m: \tbatch_size: 32\n",
            "\u001b[34m\u001b[1mwandb\u001b[0m: \tepochs: 5\n",
            "\u001b[34m\u001b[1mwandb\u001b[0m: \tfc_layer_size: 8\n",
            "\u001b[34m\u001b[1mwandb\u001b[0m: \tlearning_rate: 0.01\n",
            "\u001b[34m\u001b[1mwandb\u001b[0m: \toptimizer: sgd\n"
          ]
        },
        {
          "data": {
            "text/html": [
              "Tracking run with wandb version 0.16.3"
            ],
            "text/plain": [
              "<IPython.core.display.HTML object>"
            ]
          },
          "metadata": {},
          "output_type": "display_data"
        },
        {
          "data": {
            "text/html": [
              "Run data is saved locally in <code>/content/wandb/run-20240218_182748-xnvyj0g0</code>"
            ],
            "text/plain": [
              "<IPython.core.display.HTML object>"
            ]
          },
          "metadata": {},
          "output_type": "display_data"
        },
        {
          "data": {
            "text/html": [
              "Syncing run <strong><a href='https://wandb.ai/gugi200/wide_resnet50_2-customData/runs/xnvyj0g0' target=\"_blank\">gentle-sweep-4</a></strong> to <a href='https://wandb.ai/gugi200/wide_resnet50_2-customData' target=\"_blank\">Weights & Biases</a> (<a href='https://wandb.me/run' target=\"_blank\">docs</a>)<br/>Sweep page: <a href='https://wandb.ai/gugi200/wide_resnet50_2-customData/sweeps/pogqeb71' target=\"_blank\">https://wandb.ai/gugi200/wide_resnet50_2-customData/sweeps/pogqeb71</a>"
            ],
            "text/plain": [
              "<IPython.core.display.HTML object>"
            ]
          },
          "metadata": {},
          "output_type": "display_data"
        },
        {
          "data": {
            "text/html": [
              " View project at <a href='https://wandb.ai/gugi200/wide_resnet50_2-customData' target=\"_blank\">https://wandb.ai/gugi200/wide_resnet50_2-customData</a>"
            ],
            "text/plain": [
              "<IPython.core.display.HTML object>"
            ]
          },
          "metadata": {},
          "output_type": "display_data"
        },
        {
          "data": {
            "text/html": [
              " View sweep at <a href='https://wandb.ai/gugi200/wide_resnet50_2-customData/sweeps/pogqeb71' target=\"_blank\">https://wandb.ai/gugi200/wide_resnet50_2-customData/sweeps/pogqeb71</a>"
            ],
            "text/plain": [
              "<IPython.core.display.HTML object>"
            ]
          },
          "metadata": {},
          "output_type": "display_data"
        },
        {
          "data": {
            "text/html": [
              " View run at <a href='https://wandb.ai/gugi200/wide_resnet50_2-customData/runs/xnvyj0g0' target=\"_blank\">https://wandb.ai/gugi200/wide_resnet50_2-customData/runs/xnvyj0g0</a>"
            ],
            "text/plain": [
              "<IPython.core.display.HTML object>"
            ]
          },
          "metadata": {},
          "output_type": "display_data"
        },
        {
          "metadata": {
            "tags": null
          },
          "name": "stderr",
          "output_type": "stream",
          "text": [
            "Using cache found in /root/.cache/torch/hub/pytorch_vision_main\n"
          ]
        },
        {
          "output_type": "stream",
          "name": "stdout",
          "text": [
            "[0.01]\n",
            "Train loss: 0.6627, Train acc: 76.6066%\n",
            "Test loss: 0.2387  |  Test acc: 92.6042%\n",
            "[0.01]\n",
            "Train loss: 0.1131, Train acc: 96.3100%\n",
            "Test loss: 0.1159  |  Test acc: 96.0417%\n",
            "[0.01]\n",
            "Train loss: 0.0417, Train acc: 98.7818%\n"
          ]
        },
        {
          "output_type": "stream",
          "name": "stderr",
          "text": [
            "\u001b[34m\u001b[1mwandb\u001b[0m: Ctrl + C detected. Stopping sweep.\n"
          ]
        }
      ]
    }
  ]
}