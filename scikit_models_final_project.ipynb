{
  "nbformat": 4,
  "nbformat_minor": 0,
  "metadata": {
    "colab": {
      "provenance": [],
      "authorship_tag": "ABX9TyMhDGbkLJmNu8g3SInBqOLb",
      "include_colab_link": true
    },
    "kernelspec": {
      "name": "python3",
      "display_name": "Python 3"
    },
    "language_info": {
      "name": "python"
    }
  },
  "cells": [
    {
      "cell_type": "markdown",
      "metadata": {
        "id": "view-in-github",
        "colab_type": "text"
      },
      "source": [
        "<a href=\"https://colab.research.google.com/github/gugi200/final_project/blob/main/scikit_models_final_project.ipynb\" target=\"_parent\"><img src=\"https://colab.research.google.com/assets/colab-badge.svg\" alt=\"Open In Colab\"/></a>"
      ]
    },
    {
      "cell_type": "code",
      "source": [
        "!pip install wandb -qU\n",
        "!wandb login 3014974e724f01c4d63f956fa13fd7f0463e16d4\n",
        "!pip install torchmetrics"
      ],
      "metadata": {
        "id": "DvyDY8s_wTtF",
        "colab": {
          "base_uri": "https://localhost:8080/"
        },
        "outputId": "ab4d1fbf-9f80-4423-b822-2031bda888b6"
      },
      "execution_count": 4,
      "outputs": [
        {
          "output_type": "stream",
          "name": "stdout",
          "text": [
            "\u001b[2K     \u001b[90m━━━━━━━━━━━━━━━━━━━━━━━━━━━━━━━━━━━━━━━━\u001b[0m \u001b[32m2.1/2.1 MB\u001b[0m \u001b[31m22.9 MB/s\u001b[0m eta \u001b[36m0:00:00\u001b[0m\n",
            "\u001b[2K     \u001b[90m━━━━━━━━━━━━━━━━━━━━━━━━━━━━━━━━━━━━━━━━\u001b[0m \u001b[32m190.6/190.6 kB\u001b[0m \u001b[31m20.2 MB/s\u001b[0m eta \u001b[36m0:00:00\u001b[0m\n",
            "\u001b[2K     \u001b[90m━━━━━━━━━━━━━━━━━━━━━━━━━━━━━━━━━━━━━━━━\u001b[0m \u001b[32m252.8/252.8 kB\u001b[0m \u001b[31m19.9 MB/s\u001b[0m eta \u001b[36m0:00:00\u001b[0m\n",
            "\u001b[2K     \u001b[90m━━━━━━━━━━━━━━━━━━━━━━━━━━━━━━━━━━━━━━━━\u001b[0m \u001b[32m62.7/62.7 kB\u001b[0m \u001b[31m7.3 MB/s\u001b[0m eta \u001b[36m0:00:00\u001b[0m\n",
            "\u001b[?25h\u001b[34m\u001b[1mwandb\u001b[0m: Appending key for api.wandb.ai to your netrc file: /root/.netrc\n",
            "Collecting torchmetrics\n",
            "  Downloading torchmetrics-1.2.1-py3-none-any.whl (806 kB)\n",
            "\u001b[2K     \u001b[90m━━━━━━━━━━━━━━━━━━━━━━━━━━━━━━━━━━━━━━━━\u001b[0m \u001b[32m806.1/806.1 kB\u001b[0m \u001b[31m11.9 MB/s\u001b[0m eta \u001b[36m0:00:00\u001b[0m\n",
            "\u001b[?25hRequirement already satisfied: numpy>1.20.0 in /usr/local/lib/python3.10/dist-packages (from torchmetrics) (1.23.5)\n",
            "Requirement already satisfied: packaging>17.1 in /usr/local/lib/python3.10/dist-packages (from torchmetrics) (23.2)\n",
            "Requirement already satisfied: torch>=1.8.1 in /usr/local/lib/python3.10/dist-packages (from torchmetrics) (2.1.0+cu118)\n",
            "Collecting lightning-utilities>=0.8.0 (from torchmetrics)\n",
            "  Downloading lightning_utilities-0.10.0-py3-none-any.whl (24 kB)\n",
            "Requirement already satisfied: setuptools in /usr/local/lib/python3.10/dist-packages (from lightning-utilities>=0.8.0->torchmetrics) (67.7.2)\n",
            "Requirement already satisfied: typing-extensions in /usr/local/lib/python3.10/dist-packages (from lightning-utilities>=0.8.0->torchmetrics) (4.5.0)\n",
            "Requirement already satisfied: filelock in /usr/local/lib/python3.10/dist-packages (from torch>=1.8.1->torchmetrics) (3.13.1)\n",
            "Requirement already satisfied: sympy in /usr/local/lib/python3.10/dist-packages (from torch>=1.8.1->torchmetrics) (1.12)\n",
            "Requirement already satisfied: networkx in /usr/local/lib/python3.10/dist-packages (from torch>=1.8.1->torchmetrics) (3.2.1)\n",
            "Requirement already satisfied: jinja2 in /usr/local/lib/python3.10/dist-packages (from torch>=1.8.1->torchmetrics) (3.1.2)\n",
            "Requirement already satisfied: fsspec in /usr/local/lib/python3.10/dist-packages (from torch>=1.8.1->torchmetrics) (2023.6.0)\n",
            "Requirement already satisfied: triton==2.1.0 in /usr/local/lib/python3.10/dist-packages (from torch>=1.8.1->torchmetrics) (2.1.0)\n",
            "Requirement already satisfied: MarkupSafe>=2.0 in /usr/local/lib/python3.10/dist-packages (from jinja2->torch>=1.8.1->torchmetrics) (2.1.3)\n",
            "Requirement already satisfied: mpmath>=0.19 in /usr/local/lib/python3.10/dist-packages (from sympy->torch>=1.8.1->torchmetrics) (1.3.0)\n",
            "Installing collected packages: lightning-utilities, torchmetrics\n",
            "Successfully installed lightning-utilities-0.10.0 torchmetrics-1.2.1\n"
          ]
        }
      ]
    },
    {
      "cell_type": "code",
      "execution_count": 30,
      "metadata": {
        "id": "ttQqYpU3rktH"
      },
      "outputs": [],
      "source": [
        "# processing\n",
        "import pandas as pd\n",
        "import numpy as np\n",
        "import matplotlib.pyplot as plt\n",
        "\n",
        "# ML libraries\n",
        "import sklearn\n",
        "from sklearn.tree import DecisionTreeClassifier\n",
        "from sklearn.ensemble import GradientBoostingClassifier\n",
        "from sklearn.ensemble import RandomForestClassifier\n",
        "from sklearn.svm import SVC\n",
        "\n",
        "\n",
        "from sklearn.model_selection import train_test_split\n",
        "from sklearn.model_selection import cross_val_score\n",
        "from sklearn.model_selection import GridSearchCV\n",
        "\n",
        "from sklearn.preprocessing import PolynomialFeatures\n",
        "from sklearn.preprocessing import MinMaxScaler\n",
        "from sklearn.preprocessing import StandardScaler\n",
        "\n",
        "\n",
        "from sklearn.decomposition import PCA\n",
        "\n",
        "from sklearn.pipeline import make_pipeline\n",
        "\n",
        "from sklearn.metrics import accuracy_score\n",
        "from sklearn.metrics import precision_recall_curve\n",
        "from sklearn.metrics import roc_curve\n",
        "from sklearn.metrics import roc_auc_score\n",
        "\n",
        "# torch functionality functions\n",
        "import torch\n",
        "\n",
        "# for downloading the data\n",
        "from pathlib import Path\n",
        "from torchvision.datasets import FashionMNIST\n",
        "from torchvision import transforms\n",
        "from torchvision import datasets\n",
        "from sklearn.utils import Bunch\n",
        "\n",
        "# helper functions\n",
        "import wandb\n",
        "from timeit import default_timer as timer\n",
        "from tqdm.auto import tqdm"
      ]
    },
    {
      "cell_type": "markdown",
      "source": [
        "# download data for testing"
      ],
      "metadata": {
        "id": "9dzghromTImN"
      }
    },
    {
      "cell_type": "code",
      "source": [
        "# download the test data\n",
        "\n",
        "from torchvision.datasets import FashionMNIST\n",
        "from torchvision import transforms\n",
        "train_data = FashionMNIST(\n",
        "    root='~/.pytorch/F_MNIST_data',\n",
        "    download=True,\n",
        "    train=True,\n",
        "    target_transform=None)\n",
        "\n",
        "test_data = FashionMNIST(\n",
        "    root='~/.pytorch/F_MNIST_data',\n",
        "    download=True,\n",
        "    train=False,\n",
        "    target_transform=None)\n",
        "\n",
        "class_names = [x.replace('/', '_').replace('-', '') for x in train_data.classes]\n",
        "\n",
        "transform = transforms.ToPILImage()\n",
        "\n",
        "\n",
        "\n",
        "from pathlib import Path\n",
        "\n",
        "data_path = Path(\"data/\")\n",
        "image_path1 = data_path / \"FashionMNIST\" / \"train\"\n",
        "\n",
        "if image_path1.is_dir():\n",
        "    print('directory already exists')\n",
        "else:\n",
        "    print('creating folder')\n",
        "    for class_name in class_names:\n",
        "        image_class_path = image_path1 / class_name\n",
        "        image_class_path.mkdir(parents=True, exist_ok=True)\n",
        "\n",
        "    for idx, (train_img, target) in enumerate(zip(train_data.data[:3000], train_data.targets[:3000])):\n",
        "        train_data_PIL = transform(train_img)\n",
        "        file = \"data_\" + str(idx) + '.jpg'\n",
        "        # print(target)\n",
        "        # print(data_path / \"FashionMNIST\"/\"train\" / class_names[target] /file)\n",
        "        train_data_PIL.save(data_path / \"FashionMNIST\"/\"train\" / class_names[target] /file)\n",
        "\n",
        "\n",
        "data_path = Path(\"data/\")\n",
        "image_path2 = data_path / \"FashionMNIST\" / \"test\"\n",
        "if image_path2.is_dir():\n",
        "    print('directory already exists')\n",
        "else:\n",
        "    print('creating folder')\n",
        "    for class_name in class_names:\n",
        "        image_class_path = image_path2 / class_name\n",
        "        image_class_path.mkdir(parents=True, exist_ok=True)\n",
        "        image_class_path.mkdir(parents=True, exist_ok=True)\n",
        "\n",
        "    for idx, (test_img, target) in enumerate(zip(test_data.data[:250], test_data.targets[:250])):\n",
        "        test_data_PIL = transform(test_img)\n",
        "        file = \"data_\" + str(idx) + '.jpg'\n",
        "        test_data_PIL.save(data_path / \"FashionMNIST\"/\"test\" / class_names[target] /file)\n",
        "\n",
        "\n",
        "\n",
        "\n",
        "\n",
        "dataset = datasets.ImageFolder(root=Path(\"data/FashionMNIST/train\"),\n",
        "                                  transform=np.array,\n",
        "                                  target_transform=None) # transform for label\n",
        "\n",
        "\n",
        "\n",
        "class_names = dataset.classes\n",
        "\n",
        "def torch_dataset_to_numpy(dataset, target_names):\n",
        "    for i, (data, target) in enumerate(dataset):\n",
        "\n",
        "        if i==0:\n",
        "            data_numpy = data\n",
        "            data_numpy = np.expand_dims(data_numpy, axis=0)\n",
        "            target_numpy = np.array([target])\n",
        "            target_numpy = np.expand_dims(target_numpy, axis=0)\n",
        "        else:\n",
        "            data = np.expand_dims(data, axis=0)\n",
        "            target = np.expand_dims(np.array([target]), axis=0)\n",
        "            data_numpy = np.append(data_numpy, data, axis=0)\n",
        "            target_numpy = np.append(target_numpy, target, axis=0)\n",
        "\n",
        "    return Bunch(data=data_numpy, target=target_numpy, target_names=target_names)\n",
        "\n",
        "\n",
        "custom_dataset = torch_dataset_to_numpy(dataset, class_names)\n",
        "\n"
      ],
      "metadata": {
        "id": "UFmXD_LjwY9q",
        "colab": {
          "base_uri": "https://localhost:8080/"
        },
        "outputId": "00e72ee1-c0ba-4ae4-d25c-55a41e7ad860"
      },
      "execution_count": 6,
      "outputs": [
        {
          "output_type": "stream",
          "name": "stdout",
          "text": [
            "Downloading http://fashion-mnist.s3-website.eu-central-1.amazonaws.com/train-images-idx3-ubyte.gz\n",
            "Downloading http://fashion-mnist.s3-website.eu-central-1.amazonaws.com/train-images-idx3-ubyte.gz to /root/.pytorch/F_MNIST_data/FashionMNIST/raw/train-images-idx3-ubyte.gz\n"
          ]
        },
        {
          "output_type": "stream",
          "name": "stderr",
          "text": [
            "100%|██████████| 26421880/26421880 [00:01<00:00, 17607036.14it/s]\n"
          ]
        },
        {
          "output_type": "stream",
          "name": "stdout",
          "text": [
            "Extracting /root/.pytorch/F_MNIST_data/FashionMNIST/raw/train-images-idx3-ubyte.gz to /root/.pytorch/F_MNIST_data/FashionMNIST/raw\n",
            "\n",
            "Downloading http://fashion-mnist.s3-website.eu-central-1.amazonaws.com/train-labels-idx1-ubyte.gz\n",
            "Downloading http://fashion-mnist.s3-website.eu-central-1.amazonaws.com/train-labels-idx1-ubyte.gz to /root/.pytorch/F_MNIST_data/FashionMNIST/raw/train-labels-idx1-ubyte.gz\n"
          ]
        },
        {
          "output_type": "stream",
          "name": "stderr",
          "text": [
            "100%|██████████| 29515/29515 [00:00<00:00, 298688.14it/s]\n"
          ]
        },
        {
          "output_type": "stream",
          "name": "stdout",
          "text": [
            "Extracting /root/.pytorch/F_MNIST_data/FashionMNIST/raw/train-labels-idx1-ubyte.gz to /root/.pytorch/F_MNIST_data/FashionMNIST/raw\n",
            "\n",
            "Downloading http://fashion-mnist.s3-website.eu-central-1.amazonaws.com/t10k-images-idx3-ubyte.gz\n",
            "Downloading http://fashion-mnist.s3-website.eu-central-1.amazonaws.com/t10k-images-idx3-ubyte.gz to /root/.pytorch/F_MNIST_data/FashionMNIST/raw/t10k-images-idx3-ubyte.gz\n"
          ]
        },
        {
          "output_type": "stream",
          "name": "stderr",
          "text": [
            "100%|██████████| 4422102/4422102 [00:00<00:00, 5328602.61it/s]\n"
          ]
        },
        {
          "output_type": "stream",
          "name": "stdout",
          "text": [
            "Extracting /root/.pytorch/F_MNIST_data/FashionMNIST/raw/t10k-images-idx3-ubyte.gz to /root/.pytorch/F_MNIST_data/FashionMNIST/raw\n",
            "\n",
            "Downloading http://fashion-mnist.s3-website.eu-central-1.amazonaws.com/t10k-labels-idx1-ubyte.gz\n",
            "Downloading http://fashion-mnist.s3-website.eu-central-1.amazonaws.com/t10k-labels-idx1-ubyte.gz to /root/.pytorch/F_MNIST_data/FashionMNIST/raw/t10k-labels-idx1-ubyte.gz\n"
          ]
        },
        {
          "output_type": "stream",
          "name": "stderr",
          "text": [
            "100%|██████████| 5148/5148 [00:00<00:00, 10641831.93it/s]\n"
          ]
        },
        {
          "output_type": "stream",
          "name": "stdout",
          "text": [
            "Extracting /root/.pytorch/F_MNIST_data/FashionMNIST/raw/t10k-labels-idx1-ubyte.gz to /root/.pytorch/F_MNIST_data/FashionMNIST/raw\n",
            "\n",
            "creating folder\n",
            "creating folder\n"
          ]
        }
      ]
    },
    {
      "cell_type": "code",
      "source": [
        "from sklearn.datasets import load_iris\n",
        "iris = load_iris()\n",
        "iris.data.shape, iris.target.shape"
      ],
      "metadata": {
        "colab": {
          "base_uri": "https://localhost:8080/"
        },
        "id": "ZxXRHxkaZGTq",
        "outputId": "ad4e4793-c5e0-4059-e286-0a196430a7c8"
      },
      "execution_count": 33,
      "outputs": [
        {
          "output_type": "execute_result",
          "data": {
            "text/plain": [
              "((150, 4), (150,))"
            ]
          },
          "metadata": {},
          "execution_count": 33
        }
      ]
    },
    {
      "cell_type": "markdown",
      "source": [
        "# Data preprocessing"
      ],
      "metadata": {
        "id": "iy2W14y1hGms"
      }
    },
    {
      "cell_type": "code",
      "source": [
        "# normalize the data\n",
        "def normalize(data, mode):\n",
        "    ''''''\n",
        "\n",
        "\n",
        "def visualizeData(data):\n",
        "\n",
        "\n"
      ],
      "metadata": {
        "id": "WUttu9PGiXtr"
      },
      "execution_count": null,
      "outputs": []
    },
    {
      "cell_type": "code",
      "source": [
        "# split the data\n",
        "X_train, X_test, y_train, y_test = train_test_split(custom_dataset.data,\n",
        "                                                    custom_dataset.target,\n",
        "                                                    test_size=0.25,\n",
        "                                                    random_state=42,\n",
        "                                                    shuffle=True)\n",
        "\n",
        "\n",
        "X_train, X_test = X_train[:, :, :, 0].reshape((2250, 784)), X_test[:, :, :, 0].reshape((750, 784))\n",
        "\n",
        "\n",
        "\n",
        "\n",
        "X_train.shape, y_train.shape\n",
        "\n",
        "\n",
        "\n",
        "\n"
      ],
      "metadata": {
        "colab": {
          "base_uri": "https://localhost:8080/"
        },
        "id": "kDhqEJnVfxpl",
        "outputId": "57063b81-3bf7-40ca-9413-f649ee5f6d22"
      },
      "execution_count": 41,
      "outputs": [
        {
          "output_type": "execute_result",
          "data": {
            "text/plain": [
              "((2250, 784), (2250, 1))"
            ]
          },
          "metadata": {},
          "execution_count": 41
        }
      ]
    },
    {
      "cell_type": "markdown",
      "source": [
        "# create pipelines"
      ],
      "metadata": {
        "id": "F0hCENXzPvT9"
      }
    },
    {
      "cell_type": "code",
      "source": [
        "\n",
        "param_RF = {\n",
        "'max_depth': [2, 3, 4, 5, 6, 7, 8],\n",
        "'n_estimators': [50, 75, 100, 125, 150]\n",
        "}\n",
        "\n",
        "grid_rf = GridSearchCV(RandomForestClassifier(random_state=42), param_RF, cv=5, n_jobs=-1)\n",
        "grid_rf.fit(X_train, y_train)\n",
        "print('random forest')\n",
        "print('results: ', grid_rf.cv_results_)\n",
        "print('Best estimator: ', grid_rf.best_estimator_)\n",
        "print('Best params: ', grid_rf.best_params_)\n",
        "print('Best score: ', grid_rf.best_score_)\n"
      ],
      "metadata": {
        "id": "moSXFAIjjZGH"
      },
      "execution_count": null,
      "outputs": []
    },
    {
      "cell_type": "code",
      "source": [
        "param_RF = {\n",
        "'max_depth': [2, 3, 4, 5, 6, 7, 8],\n",
        "'n_estimators': [50, 75, 100, 125, 150]\n",
        "}\n",
        "\n",
        "grid_rf = GridSearchCV(RandomForestClassifier(random_state=42), param_RF, cv=5, n_jobs=-1)\n",
        "grid_rf.fit(X_train, y_train)\n",
        "print('random forest')\n",
        "print('results: ', grid_rf.cv_results_)\n",
        "print('Best estimator: ', grid_rf.best_estimator_)\n",
        "print('Best params: ', grid_rf.best_params_)\n",
        "print('Best score: ', grid_rf.best_score_)\n",
        "\n",
        "\n",
        "\n",
        "param_DT = {\n",
        "'max_depth': [2, 3, 4, 5, 6, 7, 8]\n",
        "}\n",
        "\n",
        "grid_DT = GridSearchCV(DecisionTreeClassifier(random_state=42), param_DT, cv=5, n_jobs=-1)\n",
        "grid_DT.fit(X_train, y_train)\n",
        "print('decisionb forest')\n",
        "print('results: ', grid_DT.cv_results_)\n",
        "print('Best estimator: ', grid_DT.best_estimator_)\n",
        "print('Best params: ', grid_DT.best_params_)\n",
        "print('Best score: ', grid_DT.best_score_)\n",
        "\n",
        "\n",
        "\n",
        "\n",
        "param_svc = {\n",
        "'max_depth': [2, 3, 4, 5, 6, 7, 8],\n",
        "'n_estimators': [50, 75, 100, 125, 150]\n",
        "}\n",
        "\n",
        "grid_svc_std = GridSearchCV(RandomForestClassifier(random_state=42), param_svc, cv=5, n_jobs=-1)\n",
        "stdScaled = StandardScaler()\n",
        "scaled_X_train = stdScaled.fit(X_train)\n",
        "scaled_X_test = stdScaled.fit(X_test)\n",
        "grid_svc_std.fit(scaled_X_train, y_train)\n",
        "print('random forest')\n",
        "print('results: ', grid_svc_std.cv_results_)\n",
        "print('Best estimator: ', grid_svc_std.best_estimator_)\n",
        "print('Best params: ', grid_svc_std.best_params_)\n",
        "print('Best score: ', grid_svc_std.best_score_)\n",
        "\n",
        "\n",
        "\n",
        "param_grid_svc = {\n",
        "    'gamma': [0.001, 0.01, 0.1, 1, 10, 100],\n",
        "    'C': [0.001, 0.01, 0.1, 1, 10, 100]\n",
        "    }\n",
        "\n",
        "\n",
        "grid_svc_mm = GridSearchCV(SVC(), param_grid_svc, cv=5, n_jobs=-1)\n",
        "mmScaled = MinMaxScaler()\n",
        "scaled_X_train = mmScaled.fit(X_train)\n",
        "grid_svc_mm.fit(X_train, y_train)\n",
        "print('svc minmax')\n",
        "print('results: ', grid_svc_mm.cv_results_)\n",
        "print('Best estimator: ', grid_svc_mm.best_estimator_)\n",
        "print('Best params: ', grid_svc_mm.best_params_)\n",
        "print('Best score: ', grid_svc_mm.best_score_)\n",
        "\n",
        "\n",
        "\n",
        "\n"
      ],
      "metadata": {
        "colab": {
          "base_uri": "https://localhost:8080/",
          "height": 1000
        },
        "id": "ZfSLpU4mPvAC",
        "outputId": "74db701d-e421-437c-8ed6-838db0ce6f2f"
      },
      "execution_count": 44,
      "outputs": [
        {
          "output_type": "stream",
          "name": "stderr",
          "text": [
            "/usr/local/lib/python3.10/dist-packages/sklearn/model_selection/_search.py:909: DataConversionWarning: A column-vector y was passed when a 1d array was expected. Please change the shape of y to (n_samples,), for example using ravel().\n",
            "  self.best_estimator_.fit(X, y, **fit_params)\n"
          ]
        },
        {
          "output_type": "stream",
          "name": "stdout",
          "text": [
            "random forest\n",
            "results:  {'mean_fit_time': array([1.02981625, 0.69544811, 0.93445668, 1.1324718 , 1.34784713,\n",
            "       1.08775377, 1.29632831, 1.22485542, 1.49163642, 2.45816541,\n",
            "       1.11098719, 1.18292022, 1.52057009, 2.6504724 , 2.60322495,\n",
            "       0.92594523, 1.68441567, 2.56732011, 2.35032148, 4.08330398,\n",
            "       1.0748188 , 1.58677959, 3.08319945, 2.59273248, 4.09134698,\n",
            "       1.17374802, 1.90963349, 3.15515871, 3.20076413, 4.36513448,\n",
            "       1.32240148, 2.87189927, 2.62748241, 4.192308  , 4.18823419]), 'std_fit_time': array([0.47641719, 0.06371576, 0.01325129, 0.04078968, 0.11474857,\n",
            "       0.11461023, 0.28901035, 0.02535643, 0.05016825, 0.57695385,\n",
            "       0.20725074, 0.01431653, 0.01337977, 0.66014715, 0.43666023,\n",
            "       0.01894117, 0.38506402, 0.63521165, 0.03546187, 0.86280688,\n",
            "       0.01545269, 0.02315913, 0.55686731, 0.02814028, 0.94936584,\n",
            "       0.00790228, 0.29148317, 0.71906346, 0.40116181, 0.90718303,\n",
            "       0.03349304, 0.43427577, 0.08491052, 0.87220251, 0.36607447]), 'mean_score_time': array([0.01231227, 0.01443214, 0.02052088, 0.02387533, 0.03553705,\n",
            "       0.01552553, 0.01851449, 0.02104025, 0.02383938, 0.03288612,\n",
            "       0.01469007, 0.01694818, 0.0213757 , 0.04514761, 0.03079834,\n",
            "       0.01366234, 0.02284613, 0.03189211, 0.02928023, 0.04667697,\n",
            "       0.01340003, 0.01794033, 0.03650436, 0.02830868, 0.03686209,\n",
            "       0.01694059, 0.02335458, 0.0300652 , 0.03292098, 0.0366859 ,\n",
            "       0.01719432, 0.03312826, 0.02602243, 0.03768086, 0.04283094]), 'std_score_time': array([0.0037207 , 0.00037924, 0.00160079, 0.00207753, 0.00833599,\n",
            "       0.00678794, 0.00439563, 0.0017147 , 0.00066446, 0.01171142,\n",
            "       0.00525345, 0.00136904, 0.00078408, 0.01294388, 0.00103775,\n",
            "       0.0022484 , 0.01030501, 0.0118093 , 0.00373382, 0.01488111,\n",
            "       0.00073762, 0.00047305, 0.01761778, 0.0010298 , 0.00642715,\n",
            "       0.00757668, 0.00681853, 0.00894265, 0.0071241 , 0.0021303 ,\n",
            "       0.00591501, 0.0115131 , 0.00054666, 0.01011509, 0.01323256]), 'param_max_depth': masked_array(data=[2, 2, 2, 2, 2, 3, 3, 3, 3, 3, 4, 4, 4, 4, 4, 5, 5, 5,\n",
            "                   5, 5, 6, 6, 6, 6, 6, 7, 7, 7, 7, 7, 8, 8, 8, 8, 8],\n",
            "             mask=[False, False, False, False, False, False, False, False,\n",
            "                   False, False, False, False, False, False, False, False,\n",
            "                   False, False, False, False, False, False, False, False,\n",
            "                   False, False, False, False, False, False, False, False,\n",
            "                   False, False, False],\n",
            "       fill_value='?',\n",
            "            dtype=object), 'param_n_estimators': masked_array(data=[50, 75, 100, 125, 150, 50, 75, 100, 125, 150, 50, 75,\n",
            "                   100, 125, 150, 50, 75, 100, 125, 150, 50, 75, 100, 125,\n",
            "                   150, 50, 75, 100, 125, 150, 50, 75, 100, 125, 150],\n",
            "             mask=[False, False, False, False, False, False, False, False,\n",
            "                   False, False, False, False, False, False, False, False,\n",
            "                   False, False, False, False, False, False, False, False,\n",
            "                   False, False, False, False, False, False, False, False,\n",
            "                   False, False, False],\n",
            "       fill_value='?',\n",
            "            dtype=object), 'params': [{'max_depth': 2, 'n_estimators': 50}, {'max_depth': 2, 'n_estimators': 75}, {'max_depth': 2, 'n_estimators': 100}, {'max_depth': 2, 'n_estimators': 125}, {'max_depth': 2, 'n_estimators': 150}, {'max_depth': 3, 'n_estimators': 50}, {'max_depth': 3, 'n_estimators': 75}, {'max_depth': 3, 'n_estimators': 100}, {'max_depth': 3, 'n_estimators': 125}, {'max_depth': 3, 'n_estimators': 150}, {'max_depth': 4, 'n_estimators': 50}, {'max_depth': 4, 'n_estimators': 75}, {'max_depth': 4, 'n_estimators': 100}, {'max_depth': 4, 'n_estimators': 125}, {'max_depth': 4, 'n_estimators': 150}, {'max_depth': 5, 'n_estimators': 50}, {'max_depth': 5, 'n_estimators': 75}, {'max_depth': 5, 'n_estimators': 100}, {'max_depth': 5, 'n_estimators': 125}, {'max_depth': 5, 'n_estimators': 150}, {'max_depth': 6, 'n_estimators': 50}, {'max_depth': 6, 'n_estimators': 75}, {'max_depth': 6, 'n_estimators': 100}, {'max_depth': 6, 'n_estimators': 125}, {'max_depth': 6, 'n_estimators': 150}, {'max_depth': 7, 'n_estimators': 50}, {'max_depth': 7, 'n_estimators': 75}, {'max_depth': 7, 'n_estimators': 100}, {'max_depth': 7, 'n_estimators': 125}, {'max_depth': 7, 'n_estimators': 150}, {'max_depth': 8, 'n_estimators': 50}, {'max_depth': 8, 'n_estimators': 75}, {'max_depth': 8, 'n_estimators': 100}, {'max_depth': 8, 'n_estimators': 125}, {'max_depth': 8, 'n_estimators': 150}], 'split0_test_score': array([0.59555556, 0.56666667, 0.55111111, 0.55555556, 0.56      ,\n",
            "       0.72222222, 0.71777778, 0.72888889, 0.73111111, 0.72444444,\n",
            "       0.74444444, 0.75111111, 0.75111111, 0.75555556, 0.75111111,\n",
            "       0.78222222, 0.77555556, 0.77111111, 0.77333333, 0.77777778,\n",
            "       0.80444444, 0.79777778, 0.78888889, 0.78666667, 0.78888889,\n",
            "       0.79555556, 0.80666667, 0.81333333, 0.80444444, 0.79777778,\n",
            "       0.78888889, 0.79111111, 0.79777778, 0.79333333, 0.79777778]), 'split1_test_score': array([0.56      , 0.54444444, 0.56      , 0.55333333, 0.56      ,\n",
            "       0.72222222, 0.73111111, 0.73555556, 0.73777778, 0.74      ,\n",
            "       0.74666667, 0.75111111, 0.75777778, 0.76      , 0.75777778,\n",
            "       0.77555556, 0.77777778, 0.77555556, 0.77555556, 0.77111111,\n",
            "       0.78888889, 0.79555556, 0.79555556, 0.79111111, 0.8       ,\n",
            "       0.79333333, 0.79333333, 0.79555556, 0.79555556, 0.8       ,\n",
            "       0.81111111, 0.81555556, 0.80666667, 0.81111111, 0.81555556]), 'split2_test_score': array([0.57777778, 0.56666667, 0.53333333, 0.56      , 0.54888889,\n",
            "       0.72444444, 0.71111111, 0.71777778, 0.72      , 0.72      ,\n",
            "       0.75555556, 0.74444444, 0.75111111, 0.74666667, 0.74444444,\n",
            "       0.77111111, 0.78      , 0.77333333, 0.77333333, 0.78      ,\n",
            "       0.78666667, 0.80222222, 0.80888889, 0.80444444, 0.80888889,\n",
            "       0.79777778, 0.78444444, 0.79555556, 0.80222222, 0.80444444,\n",
            "       0.79555556, 0.81111111, 0.81333333, 0.80888889, 0.81555556]), 'split3_test_score': array([0.58222222, 0.58      , 0.57111111, 0.56222222, 0.56666667,\n",
            "       0.72222222, 0.73111111, 0.73555556, 0.73555556, 0.73555556,\n",
            "       0.74      , 0.74222222, 0.75111111, 0.75111111, 0.75111111,\n",
            "       0.76888889, 0.76666667, 0.77111111, 0.77111111, 0.77333333,\n",
            "       0.78666667, 0.78      , 0.78      , 0.78222222, 0.78666667,\n",
            "       0.80444444, 0.81333333, 0.80888889, 0.80444444, 0.80666667,\n",
            "       0.80666667, 0.80888889, 0.81333333, 0.81111111, 0.80222222]), 'split4_test_score': array([0.60666667, 0.57333333, 0.58666667, 0.57777778, 0.58222222,\n",
            "       0.68222222, 0.68666667, 0.68888889, 0.68888889, 0.68888889,\n",
            "       0.70222222, 0.71111111, 0.70666667, 0.71111111, 0.70444444,\n",
            "       0.74222222, 0.73555556, 0.73555556, 0.72888889, 0.73333333,\n",
            "       0.76444444, 0.74666667, 0.76      , 0.75111111, 0.76      ,\n",
            "       0.76666667, 0.78      , 0.76888889, 0.76888889, 0.76666667,\n",
            "       0.78888889, 0.78444444, 0.79111111, 0.78222222, 0.79111111]), 'mean_test_score': array([0.58444444, 0.56622222, 0.56044444, 0.56177778, 0.56355556,\n",
            "       0.71466667, 0.71555556, 0.72133333, 0.72266667, 0.72177778,\n",
            "       0.73777778, 0.74      , 0.74355556, 0.74488889, 0.74177778,\n",
            "       0.768     , 0.76711111, 0.76533333, 0.76444444, 0.76711111,\n",
            "       0.78622222, 0.78444444, 0.78666667, 0.78311111, 0.78888889,\n",
            "       0.79155556, 0.79555556, 0.79644444, 0.79511111, 0.79511111,\n",
            "       0.79822222, 0.80222222, 0.80444444, 0.80133333, 0.80444444]), 'std_test_score': array([0.01590093, 0.01195878, 0.01802056, 0.00859515, 0.01094092,\n",
            "       0.01624504, 0.0163903 , 0.0174752 , 0.01796567, 0.01796567,\n",
            "       0.0184859 , 0.01487396, 0.01862429, 0.0174639 , 0.01913693,\n",
            "       0.01366983, 0.01641439, 0.01497982, 0.01783325, 0.0171788 ,\n",
            "       0.01275796, 0.02031845, 0.01632993, 0.01764394, 0.01651038,\n",
            "       0.01298812, 0.01272695, 0.01549831, 0.01350994, 0.01456531,\n",
            "       0.00915167, 0.01217161, 0.00877707, 0.01164071, 0.00973729]), 'rank_test_score': array([31, 32, 35, 34, 33, 30, 29, 28, 26, 27, 25, 24, 22, 21, 23, 16, 17,\n",
            "       19, 20, 17, 13, 14, 12, 15, 11, 10,  7,  6,  8,  8,  5,  3,  1,  4,\n",
            "        1], dtype=int32)}\n",
            "Best estimator:  RandomForestClassifier(max_depth=8, random_state=42)\n",
            "Best params:  {'max_depth': 8, 'n_estimators': 100}\n",
            "Best score:  0.8044444444444444\n",
            "decisionb forest\n",
            "results:  {'mean_fit_time': array([0.23737493, 0.35211082, 0.47043023, 0.56768241, 0.68773041,\n",
            "       0.77986126, 0.96832995]), 'std_fit_time': array([0.0146781 , 0.0118386 , 0.00793958, 0.00578711, 0.00468598,\n",
            "       0.01573971, 0.12235817]), 'mean_score_time': array([0.00181346, 0.00207086, 0.00219755, 0.00215564, 0.00222278,\n",
            "       0.00223031, 0.00299182]), 'std_score_time': array([7.55920609e-05, 1.47263218e-04, 4.01638441e-05, 1.02589007e-04,\n",
            "       1.47940986e-04, 1.49056397e-04, 2.01414947e-03]), 'param_max_depth': masked_array(data=[2, 3, 4, 5, 6, 7, 8],\n",
            "             mask=[False, False, False, False, False, False, False],\n",
            "       fill_value='?',\n",
            "            dtype=object), 'params': [{'max_depth': 2}, {'max_depth': 3}, {'max_depth': 4}, {'max_depth': 5}, {'max_depth': 6}, {'max_depth': 7}, {'max_depth': 8}], 'split0_test_score': array([0.34666667, 0.48      , 0.62444444, 0.67111111, 0.68444444,\n",
            "       0.68222222, 0.71555556]), 'split1_test_score': array([0.36444444, 0.49777778, 0.60888889, 0.66444444, 0.68888889,\n",
            "       0.67333333, 0.70444444]), 'split2_test_score': array([0.36444444, 0.49777778, 0.62666667, 0.67333333, 0.68      ,\n",
            "       0.7       , 0.72666667]), 'split3_test_score': array([0.36888889, 0.48      , 0.6       , 0.66666667, 0.68222222,\n",
            "       0.73111111, 0.7       ]), 'split4_test_score': array([0.36666667, 0.50666667, 0.60222222, 0.66888889, 0.65111111,\n",
            "       0.67555556, 0.66444444]), 'mean_test_score': array([0.36222222, 0.49244444, 0.61244444, 0.66888889, 0.67733333,\n",
            "       0.69244444, 0.70222222]), 'std_test_score': array([0.00795046, 0.01066667, 0.01112   , 0.0031427 , 0.01343664,\n",
            "       0.02148097, 0.02103495]), 'rank_test_score': array([7, 6, 5, 4, 3, 2, 1], dtype=int32)}\n",
            "Best estimator:  DecisionTreeClassifier(max_depth=8, random_state=42)\n",
            "Best params:  {'max_depth': 8}\n",
            "Best score:  0.7022222222222222\n"
          ]
        },
        {
          "output_type": "error",
          "ename": "TypeError",
          "evalue": "ignored",
          "traceback": [
            "\u001b[0;31m---------------------------------------------------------------------------\u001b[0m",
            "\u001b[0;31mTypeError\u001b[0m                                 Traceback (most recent call last)",
            "\u001b[0;32m<ipython-input-44-8dbc17989ffc>\u001b[0m in \u001b[0;36m<cell line: 40>\u001b[0;34m()\u001b[0m\n\u001b[1;32m     38\u001b[0m \u001b[0mscaled_X_train\u001b[0m \u001b[0;34m=\u001b[0m \u001b[0mstdScaled\u001b[0m\u001b[0;34m.\u001b[0m\u001b[0mfit\u001b[0m\u001b[0;34m(\u001b[0m\u001b[0mX_train\u001b[0m\u001b[0;34m)\u001b[0m\u001b[0;34m\u001b[0m\u001b[0;34m\u001b[0m\u001b[0m\n\u001b[1;32m     39\u001b[0m \u001b[0mscaled_X_test\u001b[0m \u001b[0;34m=\u001b[0m \u001b[0mstdScaled\u001b[0m\u001b[0;34m.\u001b[0m\u001b[0mfit\u001b[0m\u001b[0;34m(\u001b[0m\u001b[0mX_test\u001b[0m\u001b[0;34m)\u001b[0m\u001b[0;34m\u001b[0m\u001b[0;34m\u001b[0m\u001b[0m\n\u001b[0;32m---> 40\u001b[0;31m \u001b[0mgrid_svc_std\u001b[0m\u001b[0;34m.\u001b[0m\u001b[0mfit\u001b[0m\u001b[0;34m(\u001b[0m\u001b[0mscaled_X_train\u001b[0m\u001b[0;34m,\u001b[0m \u001b[0my_train\u001b[0m\u001b[0;34m)\u001b[0m\u001b[0;34m\u001b[0m\u001b[0;34m\u001b[0m\u001b[0m\n\u001b[0m\u001b[1;32m     41\u001b[0m \u001b[0mprint\u001b[0m\u001b[0;34m(\u001b[0m\u001b[0;34m'random forest'\u001b[0m\u001b[0;34m)\u001b[0m\u001b[0;34m\u001b[0m\u001b[0;34m\u001b[0m\u001b[0m\n\u001b[1;32m     42\u001b[0m \u001b[0mprint\u001b[0m\u001b[0;34m(\u001b[0m\u001b[0;34m'results: '\u001b[0m\u001b[0;34m,\u001b[0m \u001b[0mgrid_svc_std\u001b[0m\u001b[0;34m.\u001b[0m\u001b[0mcv_results_\u001b[0m\u001b[0;34m)\u001b[0m\u001b[0;34m\u001b[0m\u001b[0;34m\u001b[0m\u001b[0m\n",
            "\u001b[0;32m/usr/local/lib/python3.10/dist-packages/sklearn/model_selection/_search.py\u001b[0m in \u001b[0;36mfit\u001b[0;34m(self, X, y, groups, **fit_params)\u001b[0m\n\u001b[1;32m    780\u001b[0m             \u001b[0mrefit_metric\u001b[0m \u001b[0;34m=\u001b[0m \u001b[0mself\u001b[0m\u001b[0;34m.\u001b[0m\u001b[0mrefit\u001b[0m\u001b[0;34m\u001b[0m\u001b[0;34m\u001b[0m\u001b[0m\n\u001b[1;32m    781\u001b[0m \u001b[0;34m\u001b[0m\u001b[0m\n\u001b[0;32m--> 782\u001b[0;31m         \u001b[0mX\u001b[0m\u001b[0;34m,\u001b[0m \u001b[0my\u001b[0m\u001b[0;34m,\u001b[0m \u001b[0mgroups\u001b[0m \u001b[0;34m=\u001b[0m \u001b[0mindexable\u001b[0m\u001b[0;34m(\u001b[0m\u001b[0mX\u001b[0m\u001b[0;34m,\u001b[0m \u001b[0my\u001b[0m\u001b[0;34m,\u001b[0m \u001b[0mgroups\u001b[0m\u001b[0;34m)\u001b[0m\u001b[0;34m\u001b[0m\u001b[0;34m\u001b[0m\u001b[0m\n\u001b[0m\u001b[1;32m    783\u001b[0m         \u001b[0mfit_params\u001b[0m \u001b[0;34m=\u001b[0m \u001b[0m_check_fit_params\u001b[0m\u001b[0;34m(\u001b[0m\u001b[0mX\u001b[0m\u001b[0;34m,\u001b[0m \u001b[0mfit_params\u001b[0m\u001b[0;34m)\u001b[0m\u001b[0;34m\u001b[0m\u001b[0;34m\u001b[0m\u001b[0m\n\u001b[1;32m    784\u001b[0m \u001b[0;34m\u001b[0m\u001b[0m\n",
            "\u001b[0;32m/usr/local/lib/python3.10/dist-packages/sklearn/utils/validation.py\u001b[0m in \u001b[0;36mindexable\u001b[0;34m(*iterables)\u001b[0m\n\u001b[1;32m    441\u001b[0m \u001b[0;34m\u001b[0m\u001b[0m\n\u001b[1;32m    442\u001b[0m     \u001b[0mresult\u001b[0m \u001b[0;34m=\u001b[0m \u001b[0;34m[\u001b[0m\u001b[0m_make_indexable\u001b[0m\u001b[0;34m(\u001b[0m\u001b[0mX\u001b[0m\u001b[0;34m)\u001b[0m \u001b[0;32mfor\u001b[0m \u001b[0mX\u001b[0m \u001b[0;32min\u001b[0m \u001b[0miterables\u001b[0m\u001b[0;34m]\u001b[0m\u001b[0;34m\u001b[0m\u001b[0;34m\u001b[0m\u001b[0m\n\u001b[0;32m--> 443\u001b[0;31m     \u001b[0mcheck_consistent_length\u001b[0m\u001b[0;34m(\u001b[0m\u001b[0;34m*\u001b[0m\u001b[0mresult\u001b[0m\u001b[0;34m)\u001b[0m\u001b[0;34m\u001b[0m\u001b[0;34m\u001b[0m\u001b[0m\n\u001b[0m\u001b[1;32m    444\u001b[0m     \u001b[0;32mreturn\u001b[0m \u001b[0mresult\u001b[0m\u001b[0;34m\u001b[0m\u001b[0;34m\u001b[0m\u001b[0m\n\u001b[1;32m    445\u001b[0m \u001b[0;34m\u001b[0m\u001b[0m\n",
            "\u001b[0;32m/usr/local/lib/python3.10/dist-packages/sklearn/utils/validation.py\u001b[0m in \u001b[0;36mcheck_consistent_length\u001b[0;34m(*arrays)\u001b[0m\n\u001b[1;32m    392\u001b[0m     \"\"\"\n\u001b[1;32m    393\u001b[0m \u001b[0;34m\u001b[0m\u001b[0m\n\u001b[0;32m--> 394\u001b[0;31m     \u001b[0mlengths\u001b[0m \u001b[0;34m=\u001b[0m \u001b[0;34m[\u001b[0m\u001b[0m_num_samples\u001b[0m\u001b[0;34m(\u001b[0m\u001b[0mX\u001b[0m\u001b[0;34m)\u001b[0m \u001b[0;32mfor\u001b[0m \u001b[0mX\u001b[0m \u001b[0;32min\u001b[0m \u001b[0marrays\u001b[0m \u001b[0;32mif\u001b[0m \u001b[0mX\u001b[0m \u001b[0;32mis\u001b[0m \u001b[0;32mnot\u001b[0m \u001b[0;32mNone\u001b[0m\u001b[0;34m]\u001b[0m\u001b[0;34m\u001b[0m\u001b[0;34m\u001b[0m\u001b[0m\n\u001b[0m\u001b[1;32m    395\u001b[0m     \u001b[0muniques\u001b[0m \u001b[0;34m=\u001b[0m \u001b[0mnp\u001b[0m\u001b[0;34m.\u001b[0m\u001b[0munique\u001b[0m\u001b[0;34m(\u001b[0m\u001b[0mlengths\u001b[0m\u001b[0;34m)\u001b[0m\u001b[0;34m\u001b[0m\u001b[0;34m\u001b[0m\u001b[0m\n\u001b[1;32m    396\u001b[0m     \u001b[0;32mif\u001b[0m \u001b[0mlen\u001b[0m\u001b[0;34m(\u001b[0m\u001b[0muniques\u001b[0m\u001b[0;34m)\u001b[0m \u001b[0;34m>\u001b[0m \u001b[0;36m1\u001b[0m\u001b[0;34m:\u001b[0m\u001b[0;34m\u001b[0m\u001b[0;34m\u001b[0m\u001b[0m\n",
            "\u001b[0;32m/usr/local/lib/python3.10/dist-packages/sklearn/utils/validation.py\u001b[0m in \u001b[0;36m<listcomp>\u001b[0;34m(.0)\u001b[0m\n\u001b[1;32m    392\u001b[0m     \"\"\"\n\u001b[1;32m    393\u001b[0m \u001b[0;34m\u001b[0m\u001b[0m\n\u001b[0;32m--> 394\u001b[0;31m     \u001b[0mlengths\u001b[0m \u001b[0;34m=\u001b[0m \u001b[0;34m[\u001b[0m\u001b[0m_num_samples\u001b[0m\u001b[0;34m(\u001b[0m\u001b[0mX\u001b[0m\u001b[0;34m)\u001b[0m \u001b[0;32mfor\u001b[0m \u001b[0mX\u001b[0m \u001b[0;32min\u001b[0m \u001b[0marrays\u001b[0m \u001b[0;32mif\u001b[0m \u001b[0mX\u001b[0m \u001b[0;32mis\u001b[0m \u001b[0;32mnot\u001b[0m \u001b[0;32mNone\u001b[0m\u001b[0;34m]\u001b[0m\u001b[0;34m\u001b[0m\u001b[0;34m\u001b[0m\u001b[0m\n\u001b[0m\u001b[1;32m    395\u001b[0m     \u001b[0muniques\u001b[0m \u001b[0;34m=\u001b[0m \u001b[0mnp\u001b[0m\u001b[0;34m.\u001b[0m\u001b[0munique\u001b[0m\u001b[0;34m(\u001b[0m\u001b[0mlengths\u001b[0m\u001b[0;34m)\u001b[0m\u001b[0;34m\u001b[0m\u001b[0;34m\u001b[0m\u001b[0m\n\u001b[1;32m    396\u001b[0m     \u001b[0;32mif\u001b[0m \u001b[0mlen\u001b[0m\u001b[0;34m(\u001b[0m\u001b[0muniques\u001b[0m\u001b[0;34m)\u001b[0m \u001b[0;34m>\u001b[0m \u001b[0;36m1\u001b[0m\u001b[0;34m:\u001b[0m\u001b[0;34m\u001b[0m\u001b[0;34m\u001b[0m\u001b[0m\n",
            "\u001b[0;32m/usr/local/lib/python3.10/dist-packages/sklearn/utils/validation.py\u001b[0m in \u001b[0;36m_num_samples\u001b[0;34m(x)\u001b[0m\n\u001b[1;32m    333\u001b[0m     \u001b[0;32mif\u001b[0m \u001b[0mhasattr\u001b[0m\u001b[0;34m(\u001b[0m\u001b[0mx\u001b[0m\u001b[0;34m,\u001b[0m \u001b[0;34m\"shape\"\u001b[0m\u001b[0;34m)\u001b[0m \u001b[0;32mand\u001b[0m \u001b[0mx\u001b[0m\u001b[0;34m.\u001b[0m\u001b[0mshape\u001b[0m \u001b[0;32mis\u001b[0m \u001b[0;32mnot\u001b[0m \u001b[0;32mNone\u001b[0m\u001b[0;34m:\u001b[0m\u001b[0;34m\u001b[0m\u001b[0;34m\u001b[0m\u001b[0m\n\u001b[1;32m    334\u001b[0m         \u001b[0;32mif\u001b[0m \u001b[0mlen\u001b[0m\u001b[0;34m(\u001b[0m\u001b[0mx\u001b[0m\u001b[0;34m.\u001b[0m\u001b[0mshape\u001b[0m\u001b[0;34m)\u001b[0m \u001b[0;34m==\u001b[0m \u001b[0;36m0\u001b[0m\u001b[0;34m:\u001b[0m\u001b[0;34m\u001b[0m\u001b[0;34m\u001b[0m\u001b[0m\n\u001b[0;32m--> 335\u001b[0;31m             raise TypeError(\n\u001b[0m\u001b[1;32m    336\u001b[0m                 \u001b[0;34m\"Singleton array %r cannot be considered a valid collection.\"\u001b[0m \u001b[0;34m%\u001b[0m \u001b[0mx\u001b[0m\u001b[0;34m\u001b[0m\u001b[0;34m\u001b[0m\u001b[0m\n\u001b[1;32m    337\u001b[0m             )\n",
            "\u001b[0;31mTypeError\u001b[0m: Singleton array array(StandardScaler(), dtype=object) cannot be considered a valid collection."
          ]
        }
      ]
    },
    {
      "cell_type": "code",
      "source": [],
      "metadata": {
        "id": "yo1ukVVBZj7d"
      },
      "execution_count": null,
      "outputs": []
    }
  ]
}