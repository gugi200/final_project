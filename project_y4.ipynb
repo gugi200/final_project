{
  "nbformat": 4,
  "nbformat_minor": 0,
  "metadata": {
    "colab": {
      "provenance": [],
      "gpuType": "T4",
      "authorship_tag": "ABX9TyMVK8Udpf1Jp9rCFh89oZbn",
      "include_colab_link": true
    },
    "kernelspec": {
      "name": "python3",
      "display_name": "Python 3"
    },
    "language_info": {
      "name": "python"
    },
    "accelerator": "GPU",
    "widgets": {
      "application/vnd.jupyter.widget-state+json": {
        "57e12ce40d8743c8b5d50abe57ea1d97": {
          "model_module": "@jupyter-widgets/controls",
          "model_name": "VBoxModel",
          "model_module_version": "1.5.0",
          "state": {
            "_dom_classes": [],
            "_model_module": "@jupyter-widgets/controls",
            "_model_module_version": "1.5.0",
            "_model_name": "VBoxModel",
            "_view_count": null,
            "_view_module": "@jupyter-widgets/controls",
            "_view_module_version": "1.5.0",
            "_view_name": "VBoxView",
            "box_style": "",
            "children": [
              "IPY_MODEL_af22c7167d4f4333a23a74fe0099ca33",
              "IPY_MODEL_e25d5da627ff42c5911994dd6bf5d821"
            ],
            "layout": "IPY_MODEL_ee2130aee1714944846bfcc4f47b56ed"
          }
        },
        "af22c7167d4f4333a23a74fe0099ca33": {
          "model_module": "@jupyter-widgets/controls",
          "model_name": "LabelModel",
          "model_module_version": "1.5.0",
          "state": {
            "_dom_classes": [],
            "_model_module": "@jupyter-widgets/controls",
            "_model_module_version": "1.5.0",
            "_model_name": "LabelModel",
            "_view_count": null,
            "_view_module": "@jupyter-widgets/controls",
            "_view_module_version": "1.5.0",
            "_view_name": "LabelView",
            "description": "",
            "description_tooltip": null,
            "layout": "IPY_MODEL_b631e554865b48faa2f456acd1520be2",
            "placeholder": "​",
            "style": "IPY_MODEL_e0f1ba6d5b4e4b409cea5c3b068b9299",
            "value": "0.012 MB of 0.012 MB uploaded\r"
          }
        },
        "e25d5da627ff42c5911994dd6bf5d821": {
          "model_module": "@jupyter-widgets/controls",
          "model_name": "FloatProgressModel",
          "model_module_version": "1.5.0",
          "state": {
            "_dom_classes": [],
            "_model_module": "@jupyter-widgets/controls",
            "_model_module_version": "1.5.0",
            "_model_name": "FloatProgressModel",
            "_view_count": null,
            "_view_module": "@jupyter-widgets/controls",
            "_view_module_version": "1.5.0",
            "_view_name": "ProgressView",
            "bar_style": "",
            "description": "",
            "description_tooltip": null,
            "layout": "IPY_MODEL_3f3b0894f62c45c2a68b9a628263425b",
            "max": 1,
            "min": 0,
            "orientation": "horizontal",
            "style": "IPY_MODEL_b63d5e6e317a43c2a101b88de12ba9b1",
            "value": 1
          }
        },
        "ee2130aee1714944846bfcc4f47b56ed": {
          "model_module": "@jupyter-widgets/base",
          "model_name": "LayoutModel",
          "model_module_version": "1.2.0",
          "state": {
            "_model_module": "@jupyter-widgets/base",
            "_model_module_version": "1.2.0",
            "_model_name": "LayoutModel",
            "_view_count": null,
            "_view_module": "@jupyter-widgets/base",
            "_view_module_version": "1.2.0",
            "_view_name": "LayoutView",
            "align_content": null,
            "align_items": null,
            "align_self": null,
            "border": null,
            "bottom": null,
            "display": null,
            "flex": null,
            "flex_flow": null,
            "grid_area": null,
            "grid_auto_columns": null,
            "grid_auto_flow": null,
            "grid_auto_rows": null,
            "grid_column": null,
            "grid_gap": null,
            "grid_row": null,
            "grid_template_areas": null,
            "grid_template_columns": null,
            "grid_template_rows": null,
            "height": null,
            "justify_content": null,
            "justify_items": null,
            "left": null,
            "margin": null,
            "max_height": null,
            "max_width": null,
            "min_height": null,
            "min_width": null,
            "object_fit": null,
            "object_position": null,
            "order": null,
            "overflow": null,
            "overflow_x": null,
            "overflow_y": null,
            "padding": null,
            "right": null,
            "top": null,
            "visibility": null,
            "width": null
          }
        },
        "b631e554865b48faa2f456acd1520be2": {
          "model_module": "@jupyter-widgets/base",
          "model_name": "LayoutModel",
          "model_module_version": "1.2.0",
          "state": {
            "_model_module": "@jupyter-widgets/base",
            "_model_module_version": "1.2.0",
            "_model_name": "LayoutModel",
            "_view_count": null,
            "_view_module": "@jupyter-widgets/base",
            "_view_module_version": "1.2.0",
            "_view_name": "LayoutView",
            "align_content": null,
            "align_items": null,
            "align_self": null,
            "border": null,
            "bottom": null,
            "display": null,
            "flex": null,
            "flex_flow": null,
            "grid_area": null,
            "grid_auto_columns": null,
            "grid_auto_flow": null,
            "grid_auto_rows": null,
            "grid_column": null,
            "grid_gap": null,
            "grid_row": null,
            "grid_template_areas": null,
            "grid_template_columns": null,
            "grid_template_rows": null,
            "height": null,
            "justify_content": null,
            "justify_items": null,
            "left": null,
            "margin": null,
            "max_height": null,
            "max_width": null,
            "min_height": null,
            "min_width": null,
            "object_fit": null,
            "object_position": null,
            "order": null,
            "overflow": null,
            "overflow_x": null,
            "overflow_y": null,
            "padding": null,
            "right": null,
            "top": null,
            "visibility": null,
            "width": null
          }
        },
        "e0f1ba6d5b4e4b409cea5c3b068b9299": {
          "model_module": "@jupyter-widgets/controls",
          "model_name": "DescriptionStyleModel",
          "model_module_version": "1.5.0",
          "state": {
            "_model_module": "@jupyter-widgets/controls",
            "_model_module_version": "1.5.0",
            "_model_name": "DescriptionStyleModel",
            "_view_count": null,
            "_view_module": "@jupyter-widgets/base",
            "_view_module_version": "1.2.0",
            "_view_name": "StyleView",
            "description_width": ""
          }
        },
        "3f3b0894f62c45c2a68b9a628263425b": {
          "model_module": "@jupyter-widgets/base",
          "model_name": "LayoutModel",
          "model_module_version": "1.2.0",
          "state": {
            "_model_module": "@jupyter-widgets/base",
            "_model_module_version": "1.2.0",
            "_model_name": "LayoutModel",
            "_view_count": null,
            "_view_module": "@jupyter-widgets/base",
            "_view_module_version": "1.2.0",
            "_view_name": "LayoutView",
            "align_content": null,
            "align_items": null,
            "align_self": null,
            "border": null,
            "bottom": null,
            "display": null,
            "flex": null,
            "flex_flow": null,
            "grid_area": null,
            "grid_auto_columns": null,
            "grid_auto_flow": null,
            "grid_auto_rows": null,
            "grid_column": null,
            "grid_gap": null,
            "grid_row": null,
            "grid_template_areas": null,
            "grid_template_columns": null,
            "grid_template_rows": null,
            "height": null,
            "justify_content": null,
            "justify_items": null,
            "left": null,
            "margin": null,
            "max_height": null,
            "max_width": null,
            "min_height": null,
            "min_width": null,
            "object_fit": null,
            "object_position": null,
            "order": null,
            "overflow": null,
            "overflow_x": null,
            "overflow_y": null,
            "padding": null,
            "right": null,
            "top": null,
            "visibility": null,
            "width": null
          }
        },
        "b63d5e6e317a43c2a101b88de12ba9b1": {
          "model_module": "@jupyter-widgets/controls",
          "model_name": "ProgressStyleModel",
          "model_module_version": "1.5.0",
          "state": {
            "_model_module": "@jupyter-widgets/controls",
            "_model_module_version": "1.5.0",
            "_model_name": "ProgressStyleModel",
            "_view_count": null,
            "_view_module": "@jupyter-widgets/base",
            "_view_module_version": "1.2.0",
            "_view_name": "StyleView",
            "bar_color": null,
            "description_width": ""
          }
        },
        "24599d58a3ca465ba25eb13c0f0aef6b": {
          "model_module": "@jupyter-widgets/controls",
          "model_name": "VBoxModel",
          "model_module_version": "1.5.0",
          "state": {
            "_dom_classes": [],
            "_model_module": "@jupyter-widgets/controls",
            "_model_module_version": "1.5.0",
            "_model_name": "VBoxModel",
            "_view_count": null,
            "_view_module": "@jupyter-widgets/controls",
            "_view_module_version": "1.5.0",
            "_view_name": "VBoxView",
            "box_style": "",
            "children": [
              "IPY_MODEL_38ff4554482c4796bd49981f5f28b129",
              "IPY_MODEL_804d633fe23642ca9a70afcf53dd93e4"
            ],
            "layout": "IPY_MODEL_8044886676aa43ba9ec14f8eee38efe3"
          }
        },
        "38ff4554482c4796bd49981f5f28b129": {
          "model_module": "@jupyter-widgets/controls",
          "model_name": "LabelModel",
          "model_module_version": "1.5.0",
          "state": {
            "_dom_classes": [],
            "_model_module": "@jupyter-widgets/controls",
            "_model_module_version": "1.5.0",
            "_model_name": "LabelModel",
            "_view_count": null,
            "_view_module": "@jupyter-widgets/controls",
            "_view_module_version": "1.5.0",
            "_view_name": "LabelView",
            "description": "",
            "description_tooltip": null,
            "layout": "IPY_MODEL_e1c2c4ebaeb748448329ce6eaa89ce8c",
            "placeholder": "​",
            "style": "IPY_MODEL_748d4c7bb00849a1927302d4cb7ed93f",
            "value": "0.012 MB of 0.012 MB uploaded\r"
          }
        },
        "804d633fe23642ca9a70afcf53dd93e4": {
          "model_module": "@jupyter-widgets/controls",
          "model_name": "FloatProgressModel",
          "model_module_version": "1.5.0",
          "state": {
            "_dom_classes": [],
            "_model_module": "@jupyter-widgets/controls",
            "_model_module_version": "1.5.0",
            "_model_name": "FloatProgressModel",
            "_view_count": null,
            "_view_module": "@jupyter-widgets/controls",
            "_view_module_version": "1.5.0",
            "_view_name": "ProgressView",
            "bar_style": "",
            "description": "",
            "description_tooltip": null,
            "layout": "IPY_MODEL_85ca0d796eca46749faf39c41500907d",
            "max": 1,
            "min": 0,
            "orientation": "horizontal",
            "style": "IPY_MODEL_cdf853d892e649bab908ae254cf6604c",
            "value": 1
          }
        },
        "8044886676aa43ba9ec14f8eee38efe3": {
          "model_module": "@jupyter-widgets/base",
          "model_name": "LayoutModel",
          "model_module_version": "1.2.0",
          "state": {
            "_model_module": "@jupyter-widgets/base",
            "_model_module_version": "1.2.0",
            "_model_name": "LayoutModel",
            "_view_count": null,
            "_view_module": "@jupyter-widgets/base",
            "_view_module_version": "1.2.0",
            "_view_name": "LayoutView",
            "align_content": null,
            "align_items": null,
            "align_self": null,
            "border": null,
            "bottom": null,
            "display": null,
            "flex": null,
            "flex_flow": null,
            "grid_area": null,
            "grid_auto_columns": null,
            "grid_auto_flow": null,
            "grid_auto_rows": null,
            "grid_column": null,
            "grid_gap": null,
            "grid_row": null,
            "grid_template_areas": null,
            "grid_template_columns": null,
            "grid_template_rows": null,
            "height": null,
            "justify_content": null,
            "justify_items": null,
            "left": null,
            "margin": null,
            "max_height": null,
            "max_width": null,
            "min_height": null,
            "min_width": null,
            "object_fit": null,
            "object_position": null,
            "order": null,
            "overflow": null,
            "overflow_x": null,
            "overflow_y": null,
            "padding": null,
            "right": null,
            "top": null,
            "visibility": null,
            "width": null
          }
        },
        "e1c2c4ebaeb748448329ce6eaa89ce8c": {
          "model_module": "@jupyter-widgets/base",
          "model_name": "LayoutModel",
          "model_module_version": "1.2.0",
          "state": {
            "_model_module": "@jupyter-widgets/base",
            "_model_module_version": "1.2.0",
            "_model_name": "LayoutModel",
            "_view_count": null,
            "_view_module": "@jupyter-widgets/base",
            "_view_module_version": "1.2.0",
            "_view_name": "LayoutView",
            "align_content": null,
            "align_items": null,
            "align_self": null,
            "border": null,
            "bottom": null,
            "display": null,
            "flex": null,
            "flex_flow": null,
            "grid_area": null,
            "grid_auto_columns": null,
            "grid_auto_flow": null,
            "grid_auto_rows": null,
            "grid_column": null,
            "grid_gap": null,
            "grid_row": null,
            "grid_template_areas": null,
            "grid_template_columns": null,
            "grid_template_rows": null,
            "height": null,
            "justify_content": null,
            "justify_items": null,
            "left": null,
            "margin": null,
            "max_height": null,
            "max_width": null,
            "min_height": null,
            "min_width": null,
            "object_fit": null,
            "object_position": null,
            "order": null,
            "overflow": null,
            "overflow_x": null,
            "overflow_y": null,
            "padding": null,
            "right": null,
            "top": null,
            "visibility": null,
            "width": null
          }
        },
        "748d4c7bb00849a1927302d4cb7ed93f": {
          "model_module": "@jupyter-widgets/controls",
          "model_name": "DescriptionStyleModel",
          "model_module_version": "1.5.0",
          "state": {
            "_model_module": "@jupyter-widgets/controls",
            "_model_module_version": "1.5.0",
            "_model_name": "DescriptionStyleModel",
            "_view_count": null,
            "_view_module": "@jupyter-widgets/base",
            "_view_module_version": "1.2.0",
            "_view_name": "StyleView",
            "description_width": ""
          }
        },
        "85ca0d796eca46749faf39c41500907d": {
          "model_module": "@jupyter-widgets/base",
          "model_name": "LayoutModel",
          "model_module_version": "1.2.0",
          "state": {
            "_model_module": "@jupyter-widgets/base",
            "_model_module_version": "1.2.0",
            "_model_name": "LayoutModel",
            "_view_count": null,
            "_view_module": "@jupyter-widgets/base",
            "_view_module_version": "1.2.0",
            "_view_name": "LayoutView",
            "align_content": null,
            "align_items": null,
            "align_self": null,
            "border": null,
            "bottom": null,
            "display": null,
            "flex": null,
            "flex_flow": null,
            "grid_area": null,
            "grid_auto_columns": null,
            "grid_auto_flow": null,
            "grid_auto_rows": null,
            "grid_column": null,
            "grid_gap": null,
            "grid_row": null,
            "grid_template_areas": null,
            "grid_template_columns": null,
            "grid_template_rows": null,
            "height": null,
            "justify_content": null,
            "justify_items": null,
            "left": null,
            "margin": null,
            "max_height": null,
            "max_width": null,
            "min_height": null,
            "min_width": null,
            "object_fit": null,
            "object_position": null,
            "order": null,
            "overflow": null,
            "overflow_x": null,
            "overflow_y": null,
            "padding": null,
            "right": null,
            "top": null,
            "visibility": null,
            "width": null
          }
        },
        "cdf853d892e649bab908ae254cf6604c": {
          "model_module": "@jupyter-widgets/controls",
          "model_name": "ProgressStyleModel",
          "model_module_version": "1.5.0",
          "state": {
            "_model_module": "@jupyter-widgets/controls",
            "_model_module_version": "1.5.0",
            "_model_name": "ProgressStyleModel",
            "_view_count": null,
            "_view_module": "@jupyter-widgets/base",
            "_view_module_version": "1.2.0",
            "_view_name": "StyleView",
            "bar_color": null,
            "description_width": ""
          }
        },
        "1038533733f2427394c8cf03dd05e93e": {
          "model_module": "@jupyter-widgets/controls",
          "model_name": "VBoxModel",
          "model_module_version": "1.5.0",
          "state": {
            "_dom_classes": [],
            "_model_module": "@jupyter-widgets/controls",
            "_model_module_version": "1.5.0",
            "_model_name": "VBoxModel",
            "_view_count": null,
            "_view_module": "@jupyter-widgets/controls",
            "_view_module_version": "1.5.0",
            "_view_name": "VBoxView",
            "box_style": "",
            "children": [
              "IPY_MODEL_0287faae74344d33b764e24b14fcfe9d",
              "IPY_MODEL_faf4422f7f6e43a493da267266a4073e"
            ],
            "layout": "IPY_MODEL_afecf55c78e74936b48b16dbfd68dd6a"
          }
        },
        "0287faae74344d33b764e24b14fcfe9d": {
          "model_module": "@jupyter-widgets/controls",
          "model_name": "LabelModel",
          "model_module_version": "1.5.0",
          "state": {
            "_dom_classes": [],
            "_model_module": "@jupyter-widgets/controls",
            "_model_module_version": "1.5.0",
            "_model_name": "LabelModel",
            "_view_count": null,
            "_view_module": "@jupyter-widgets/controls",
            "_view_module_version": "1.5.0",
            "_view_name": "LabelView",
            "description": "",
            "description_tooltip": null,
            "layout": "IPY_MODEL_5a75a424cc0a47afb1df9e7050963a63",
            "placeholder": "​",
            "style": "IPY_MODEL_1874b254e83c4dabbb45f26b2fa48622",
            "value": "0.012 MB of 0.012 MB uploaded\r"
          }
        },
        "faf4422f7f6e43a493da267266a4073e": {
          "model_module": "@jupyter-widgets/controls",
          "model_name": "FloatProgressModel",
          "model_module_version": "1.5.0",
          "state": {
            "_dom_classes": [],
            "_model_module": "@jupyter-widgets/controls",
            "_model_module_version": "1.5.0",
            "_model_name": "FloatProgressModel",
            "_view_count": null,
            "_view_module": "@jupyter-widgets/controls",
            "_view_module_version": "1.5.0",
            "_view_name": "ProgressView",
            "bar_style": "",
            "description": "",
            "description_tooltip": null,
            "layout": "IPY_MODEL_f70c3ba91da74f5296a63a8326658fce",
            "max": 1,
            "min": 0,
            "orientation": "horizontal",
            "style": "IPY_MODEL_5878defc4da84c239533b1ab754c85c7",
            "value": 1
          }
        },
        "afecf55c78e74936b48b16dbfd68dd6a": {
          "model_module": "@jupyter-widgets/base",
          "model_name": "LayoutModel",
          "model_module_version": "1.2.0",
          "state": {
            "_model_module": "@jupyter-widgets/base",
            "_model_module_version": "1.2.0",
            "_model_name": "LayoutModel",
            "_view_count": null,
            "_view_module": "@jupyter-widgets/base",
            "_view_module_version": "1.2.0",
            "_view_name": "LayoutView",
            "align_content": null,
            "align_items": null,
            "align_self": null,
            "border": null,
            "bottom": null,
            "display": null,
            "flex": null,
            "flex_flow": null,
            "grid_area": null,
            "grid_auto_columns": null,
            "grid_auto_flow": null,
            "grid_auto_rows": null,
            "grid_column": null,
            "grid_gap": null,
            "grid_row": null,
            "grid_template_areas": null,
            "grid_template_columns": null,
            "grid_template_rows": null,
            "height": null,
            "justify_content": null,
            "justify_items": null,
            "left": null,
            "margin": null,
            "max_height": null,
            "max_width": null,
            "min_height": null,
            "min_width": null,
            "object_fit": null,
            "object_position": null,
            "order": null,
            "overflow": null,
            "overflow_x": null,
            "overflow_y": null,
            "padding": null,
            "right": null,
            "top": null,
            "visibility": null,
            "width": null
          }
        },
        "5a75a424cc0a47afb1df9e7050963a63": {
          "model_module": "@jupyter-widgets/base",
          "model_name": "LayoutModel",
          "model_module_version": "1.2.0",
          "state": {
            "_model_module": "@jupyter-widgets/base",
            "_model_module_version": "1.2.0",
            "_model_name": "LayoutModel",
            "_view_count": null,
            "_view_module": "@jupyter-widgets/base",
            "_view_module_version": "1.2.0",
            "_view_name": "LayoutView",
            "align_content": null,
            "align_items": null,
            "align_self": null,
            "border": null,
            "bottom": null,
            "display": null,
            "flex": null,
            "flex_flow": null,
            "grid_area": null,
            "grid_auto_columns": null,
            "grid_auto_flow": null,
            "grid_auto_rows": null,
            "grid_column": null,
            "grid_gap": null,
            "grid_row": null,
            "grid_template_areas": null,
            "grid_template_columns": null,
            "grid_template_rows": null,
            "height": null,
            "justify_content": null,
            "justify_items": null,
            "left": null,
            "margin": null,
            "max_height": null,
            "max_width": null,
            "min_height": null,
            "min_width": null,
            "object_fit": null,
            "object_position": null,
            "order": null,
            "overflow": null,
            "overflow_x": null,
            "overflow_y": null,
            "padding": null,
            "right": null,
            "top": null,
            "visibility": null,
            "width": null
          }
        },
        "1874b254e83c4dabbb45f26b2fa48622": {
          "model_module": "@jupyter-widgets/controls",
          "model_name": "DescriptionStyleModel",
          "model_module_version": "1.5.0",
          "state": {
            "_model_module": "@jupyter-widgets/controls",
            "_model_module_version": "1.5.0",
            "_model_name": "DescriptionStyleModel",
            "_view_count": null,
            "_view_module": "@jupyter-widgets/base",
            "_view_module_version": "1.2.0",
            "_view_name": "StyleView",
            "description_width": ""
          }
        },
        "f70c3ba91da74f5296a63a8326658fce": {
          "model_module": "@jupyter-widgets/base",
          "model_name": "LayoutModel",
          "model_module_version": "1.2.0",
          "state": {
            "_model_module": "@jupyter-widgets/base",
            "_model_module_version": "1.2.0",
            "_model_name": "LayoutModel",
            "_view_count": null,
            "_view_module": "@jupyter-widgets/base",
            "_view_module_version": "1.2.0",
            "_view_name": "LayoutView",
            "align_content": null,
            "align_items": null,
            "align_self": null,
            "border": null,
            "bottom": null,
            "display": null,
            "flex": null,
            "flex_flow": null,
            "grid_area": null,
            "grid_auto_columns": null,
            "grid_auto_flow": null,
            "grid_auto_rows": null,
            "grid_column": null,
            "grid_gap": null,
            "grid_row": null,
            "grid_template_areas": null,
            "grid_template_columns": null,
            "grid_template_rows": null,
            "height": null,
            "justify_content": null,
            "justify_items": null,
            "left": null,
            "margin": null,
            "max_height": null,
            "max_width": null,
            "min_height": null,
            "min_width": null,
            "object_fit": null,
            "object_position": null,
            "order": null,
            "overflow": null,
            "overflow_x": null,
            "overflow_y": null,
            "padding": null,
            "right": null,
            "top": null,
            "visibility": null,
            "width": null
          }
        },
        "5878defc4da84c239533b1ab754c85c7": {
          "model_module": "@jupyter-widgets/controls",
          "model_name": "ProgressStyleModel",
          "model_module_version": "1.5.0",
          "state": {
            "_model_module": "@jupyter-widgets/controls",
            "_model_module_version": "1.5.0",
            "_model_name": "ProgressStyleModel",
            "_view_count": null,
            "_view_module": "@jupyter-widgets/base",
            "_view_module_version": "1.2.0",
            "_view_name": "StyleView",
            "bar_color": null,
            "description_width": ""
          }
        },
        "ff98d8c6b03f48efad0d804817083984": {
          "model_module": "@jupyter-widgets/controls",
          "model_name": "VBoxModel",
          "model_module_version": "1.5.0",
          "state": {
            "_dom_classes": [],
            "_model_module": "@jupyter-widgets/controls",
            "_model_module_version": "1.5.0",
            "_model_name": "VBoxModel",
            "_view_count": null,
            "_view_module": "@jupyter-widgets/controls",
            "_view_module_version": "1.5.0",
            "_view_name": "VBoxView",
            "box_style": "",
            "children": [
              "IPY_MODEL_340b48c9efeb432e8a3d180b27bc7866",
              "IPY_MODEL_007c15789436400c8fa085fdf341a589"
            ],
            "layout": "IPY_MODEL_b773e920c3e940c7b78dc46c13cc7831"
          }
        },
        "340b48c9efeb432e8a3d180b27bc7866": {
          "model_module": "@jupyter-widgets/controls",
          "model_name": "LabelModel",
          "model_module_version": "1.5.0",
          "state": {
            "_dom_classes": [],
            "_model_module": "@jupyter-widgets/controls",
            "_model_module_version": "1.5.0",
            "_model_name": "LabelModel",
            "_view_count": null,
            "_view_module": "@jupyter-widgets/controls",
            "_view_module_version": "1.5.0",
            "_view_name": "LabelView",
            "description": "",
            "description_tooltip": null,
            "layout": "IPY_MODEL_b3a50938dacf4f9b975985b2accad560",
            "placeholder": "​",
            "style": "IPY_MODEL_04368736801346eb9602abfa3fe4161b",
            "value": "0.012 MB of 0.012 MB uploaded\r"
          }
        },
        "007c15789436400c8fa085fdf341a589": {
          "model_module": "@jupyter-widgets/controls",
          "model_name": "FloatProgressModel",
          "model_module_version": "1.5.0",
          "state": {
            "_dom_classes": [],
            "_model_module": "@jupyter-widgets/controls",
            "_model_module_version": "1.5.0",
            "_model_name": "FloatProgressModel",
            "_view_count": null,
            "_view_module": "@jupyter-widgets/controls",
            "_view_module_version": "1.5.0",
            "_view_name": "ProgressView",
            "bar_style": "",
            "description": "",
            "description_tooltip": null,
            "layout": "IPY_MODEL_f9c996f006124163981ca3ab6e7af3e2",
            "max": 1,
            "min": 0,
            "orientation": "horizontal",
            "style": "IPY_MODEL_036a131743b44f74a0b2e78f289de339",
            "value": 1
          }
        },
        "b773e920c3e940c7b78dc46c13cc7831": {
          "model_module": "@jupyter-widgets/base",
          "model_name": "LayoutModel",
          "model_module_version": "1.2.0",
          "state": {
            "_model_module": "@jupyter-widgets/base",
            "_model_module_version": "1.2.0",
            "_model_name": "LayoutModel",
            "_view_count": null,
            "_view_module": "@jupyter-widgets/base",
            "_view_module_version": "1.2.0",
            "_view_name": "LayoutView",
            "align_content": null,
            "align_items": null,
            "align_self": null,
            "border": null,
            "bottom": null,
            "display": null,
            "flex": null,
            "flex_flow": null,
            "grid_area": null,
            "grid_auto_columns": null,
            "grid_auto_flow": null,
            "grid_auto_rows": null,
            "grid_column": null,
            "grid_gap": null,
            "grid_row": null,
            "grid_template_areas": null,
            "grid_template_columns": null,
            "grid_template_rows": null,
            "height": null,
            "justify_content": null,
            "justify_items": null,
            "left": null,
            "margin": null,
            "max_height": null,
            "max_width": null,
            "min_height": null,
            "min_width": null,
            "object_fit": null,
            "object_position": null,
            "order": null,
            "overflow": null,
            "overflow_x": null,
            "overflow_y": null,
            "padding": null,
            "right": null,
            "top": null,
            "visibility": null,
            "width": null
          }
        },
        "b3a50938dacf4f9b975985b2accad560": {
          "model_module": "@jupyter-widgets/base",
          "model_name": "LayoutModel",
          "model_module_version": "1.2.0",
          "state": {
            "_model_module": "@jupyter-widgets/base",
            "_model_module_version": "1.2.0",
            "_model_name": "LayoutModel",
            "_view_count": null,
            "_view_module": "@jupyter-widgets/base",
            "_view_module_version": "1.2.0",
            "_view_name": "LayoutView",
            "align_content": null,
            "align_items": null,
            "align_self": null,
            "border": null,
            "bottom": null,
            "display": null,
            "flex": null,
            "flex_flow": null,
            "grid_area": null,
            "grid_auto_columns": null,
            "grid_auto_flow": null,
            "grid_auto_rows": null,
            "grid_column": null,
            "grid_gap": null,
            "grid_row": null,
            "grid_template_areas": null,
            "grid_template_columns": null,
            "grid_template_rows": null,
            "height": null,
            "justify_content": null,
            "justify_items": null,
            "left": null,
            "margin": null,
            "max_height": null,
            "max_width": null,
            "min_height": null,
            "min_width": null,
            "object_fit": null,
            "object_position": null,
            "order": null,
            "overflow": null,
            "overflow_x": null,
            "overflow_y": null,
            "padding": null,
            "right": null,
            "top": null,
            "visibility": null,
            "width": null
          }
        },
        "04368736801346eb9602abfa3fe4161b": {
          "model_module": "@jupyter-widgets/controls",
          "model_name": "DescriptionStyleModel",
          "model_module_version": "1.5.0",
          "state": {
            "_model_module": "@jupyter-widgets/controls",
            "_model_module_version": "1.5.0",
            "_model_name": "DescriptionStyleModel",
            "_view_count": null,
            "_view_module": "@jupyter-widgets/base",
            "_view_module_version": "1.2.0",
            "_view_name": "StyleView",
            "description_width": ""
          }
        },
        "f9c996f006124163981ca3ab6e7af3e2": {
          "model_module": "@jupyter-widgets/base",
          "model_name": "LayoutModel",
          "model_module_version": "1.2.0",
          "state": {
            "_model_module": "@jupyter-widgets/base",
            "_model_module_version": "1.2.0",
            "_model_name": "LayoutModel",
            "_view_count": null,
            "_view_module": "@jupyter-widgets/base",
            "_view_module_version": "1.2.0",
            "_view_name": "LayoutView",
            "align_content": null,
            "align_items": null,
            "align_self": null,
            "border": null,
            "bottom": null,
            "display": null,
            "flex": null,
            "flex_flow": null,
            "grid_area": null,
            "grid_auto_columns": null,
            "grid_auto_flow": null,
            "grid_auto_rows": null,
            "grid_column": null,
            "grid_gap": null,
            "grid_row": null,
            "grid_template_areas": null,
            "grid_template_columns": null,
            "grid_template_rows": null,
            "height": null,
            "justify_content": null,
            "justify_items": null,
            "left": null,
            "margin": null,
            "max_height": null,
            "max_width": null,
            "min_height": null,
            "min_width": null,
            "object_fit": null,
            "object_position": null,
            "order": null,
            "overflow": null,
            "overflow_x": null,
            "overflow_y": null,
            "padding": null,
            "right": null,
            "top": null,
            "visibility": null,
            "width": null
          }
        },
        "036a131743b44f74a0b2e78f289de339": {
          "model_module": "@jupyter-widgets/controls",
          "model_name": "ProgressStyleModel",
          "model_module_version": "1.5.0",
          "state": {
            "_model_module": "@jupyter-widgets/controls",
            "_model_module_version": "1.5.0",
            "_model_name": "ProgressStyleModel",
            "_view_count": null,
            "_view_module": "@jupyter-widgets/base",
            "_view_module_version": "1.2.0",
            "_view_name": "StyleView",
            "bar_color": null,
            "description_width": ""
          }
        },
        "384759cb2def47ac8d6e718d108552f3": {
          "model_module": "@jupyter-widgets/controls",
          "model_name": "VBoxModel",
          "model_module_version": "1.5.0",
          "state": {
            "_dom_classes": [],
            "_model_module": "@jupyter-widgets/controls",
            "_model_module_version": "1.5.0",
            "_model_name": "VBoxModel",
            "_view_count": null,
            "_view_module": "@jupyter-widgets/controls",
            "_view_module_version": "1.5.0",
            "_view_name": "VBoxView",
            "box_style": "",
            "children": [
              "IPY_MODEL_fc6ba17d2b4d4c0d99a621d0df4b38a9",
              "IPY_MODEL_09daef4c1c344d6a86afebe6176ef246"
            ],
            "layout": "IPY_MODEL_6c043e96a9414140a7b1752194791434"
          }
        },
        "fc6ba17d2b4d4c0d99a621d0df4b38a9": {
          "model_module": "@jupyter-widgets/controls",
          "model_name": "LabelModel",
          "model_module_version": "1.5.0",
          "state": {
            "_dom_classes": [],
            "_model_module": "@jupyter-widgets/controls",
            "_model_module_version": "1.5.0",
            "_model_name": "LabelModel",
            "_view_count": null,
            "_view_module": "@jupyter-widgets/controls",
            "_view_module_version": "1.5.0",
            "_view_name": "LabelView",
            "description": "",
            "description_tooltip": null,
            "layout": "IPY_MODEL_29f0a8da895643f29f6b7a7e2685e556",
            "placeholder": "​",
            "style": "IPY_MODEL_8f6478e5a004473c8fae4536691621a9",
            "value": "0.012 MB of 0.012 MB uploaded\r"
          }
        },
        "09daef4c1c344d6a86afebe6176ef246": {
          "model_module": "@jupyter-widgets/controls",
          "model_name": "FloatProgressModel",
          "model_module_version": "1.5.0",
          "state": {
            "_dom_classes": [],
            "_model_module": "@jupyter-widgets/controls",
            "_model_module_version": "1.5.0",
            "_model_name": "FloatProgressModel",
            "_view_count": null,
            "_view_module": "@jupyter-widgets/controls",
            "_view_module_version": "1.5.0",
            "_view_name": "ProgressView",
            "bar_style": "",
            "description": "",
            "description_tooltip": null,
            "layout": "IPY_MODEL_2ef9e0362c174d4f909c16d3e7cd2663",
            "max": 1,
            "min": 0,
            "orientation": "horizontal",
            "style": "IPY_MODEL_de8068cf1dab438da65d7d29db399a6a",
            "value": 1
          }
        },
        "6c043e96a9414140a7b1752194791434": {
          "model_module": "@jupyter-widgets/base",
          "model_name": "LayoutModel",
          "model_module_version": "1.2.0",
          "state": {
            "_model_module": "@jupyter-widgets/base",
            "_model_module_version": "1.2.0",
            "_model_name": "LayoutModel",
            "_view_count": null,
            "_view_module": "@jupyter-widgets/base",
            "_view_module_version": "1.2.0",
            "_view_name": "LayoutView",
            "align_content": null,
            "align_items": null,
            "align_self": null,
            "border": null,
            "bottom": null,
            "display": null,
            "flex": null,
            "flex_flow": null,
            "grid_area": null,
            "grid_auto_columns": null,
            "grid_auto_flow": null,
            "grid_auto_rows": null,
            "grid_column": null,
            "grid_gap": null,
            "grid_row": null,
            "grid_template_areas": null,
            "grid_template_columns": null,
            "grid_template_rows": null,
            "height": null,
            "justify_content": null,
            "justify_items": null,
            "left": null,
            "margin": null,
            "max_height": null,
            "max_width": null,
            "min_height": null,
            "min_width": null,
            "object_fit": null,
            "object_position": null,
            "order": null,
            "overflow": null,
            "overflow_x": null,
            "overflow_y": null,
            "padding": null,
            "right": null,
            "top": null,
            "visibility": null,
            "width": null
          }
        },
        "29f0a8da895643f29f6b7a7e2685e556": {
          "model_module": "@jupyter-widgets/base",
          "model_name": "LayoutModel",
          "model_module_version": "1.2.0",
          "state": {
            "_model_module": "@jupyter-widgets/base",
            "_model_module_version": "1.2.0",
            "_model_name": "LayoutModel",
            "_view_count": null,
            "_view_module": "@jupyter-widgets/base",
            "_view_module_version": "1.2.0",
            "_view_name": "LayoutView",
            "align_content": null,
            "align_items": null,
            "align_self": null,
            "border": null,
            "bottom": null,
            "display": null,
            "flex": null,
            "flex_flow": null,
            "grid_area": null,
            "grid_auto_columns": null,
            "grid_auto_flow": null,
            "grid_auto_rows": null,
            "grid_column": null,
            "grid_gap": null,
            "grid_row": null,
            "grid_template_areas": null,
            "grid_template_columns": null,
            "grid_template_rows": null,
            "height": null,
            "justify_content": null,
            "justify_items": null,
            "left": null,
            "margin": null,
            "max_height": null,
            "max_width": null,
            "min_height": null,
            "min_width": null,
            "object_fit": null,
            "object_position": null,
            "order": null,
            "overflow": null,
            "overflow_x": null,
            "overflow_y": null,
            "padding": null,
            "right": null,
            "top": null,
            "visibility": null,
            "width": null
          }
        },
        "8f6478e5a004473c8fae4536691621a9": {
          "model_module": "@jupyter-widgets/controls",
          "model_name": "DescriptionStyleModel",
          "model_module_version": "1.5.0",
          "state": {
            "_model_module": "@jupyter-widgets/controls",
            "_model_module_version": "1.5.0",
            "_model_name": "DescriptionStyleModel",
            "_view_count": null,
            "_view_module": "@jupyter-widgets/base",
            "_view_module_version": "1.2.0",
            "_view_name": "StyleView",
            "description_width": ""
          }
        },
        "2ef9e0362c174d4f909c16d3e7cd2663": {
          "model_module": "@jupyter-widgets/base",
          "model_name": "LayoutModel",
          "model_module_version": "1.2.0",
          "state": {
            "_model_module": "@jupyter-widgets/base",
            "_model_module_version": "1.2.0",
            "_model_name": "LayoutModel",
            "_view_count": null,
            "_view_module": "@jupyter-widgets/base",
            "_view_module_version": "1.2.0",
            "_view_name": "LayoutView",
            "align_content": null,
            "align_items": null,
            "align_self": null,
            "border": null,
            "bottom": null,
            "display": null,
            "flex": null,
            "flex_flow": null,
            "grid_area": null,
            "grid_auto_columns": null,
            "grid_auto_flow": null,
            "grid_auto_rows": null,
            "grid_column": null,
            "grid_gap": null,
            "grid_row": null,
            "grid_template_areas": null,
            "grid_template_columns": null,
            "grid_template_rows": null,
            "height": null,
            "justify_content": null,
            "justify_items": null,
            "left": null,
            "margin": null,
            "max_height": null,
            "max_width": null,
            "min_height": null,
            "min_width": null,
            "object_fit": null,
            "object_position": null,
            "order": null,
            "overflow": null,
            "overflow_x": null,
            "overflow_y": null,
            "padding": null,
            "right": null,
            "top": null,
            "visibility": null,
            "width": null
          }
        },
        "de8068cf1dab438da65d7d29db399a6a": {
          "model_module": "@jupyter-widgets/controls",
          "model_name": "ProgressStyleModel",
          "model_module_version": "1.5.0",
          "state": {
            "_model_module": "@jupyter-widgets/controls",
            "_model_module_version": "1.5.0",
            "_model_name": "ProgressStyleModel",
            "_view_count": null,
            "_view_module": "@jupyter-widgets/base",
            "_view_module_version": "1.2.0",
            "_view_name": "StyleView",
            "bar_color": null,
            "description_width": ""
          }
        }
      }
    }
  },
  "cells": [
    {
      "cell_type": "markdown",
      "metadata": {
        "id": "view-in-github",
        "colab_type": "text"
      },
      "source": [
        "<a href=\"https://colab.research.google.com/github/gugi200/final_project/blob/main/project_y4.ipynb\" target=\"_parent\"><img src=\"https://colab.research.google.com/assets/colab-badge.svg\" alt=\"Open In Colab\"/></a>"
      ]
    },
    {
      "cell_type": "code",
      "source": [
        "!pip install wandb -qU\n",
        "!wandb login 3014974e724f01c4d63f956fa13fd7f0463e16d4"
      ],
      "metadata": {
        "colab": {
          "base_uri": "https://localhost:8080/"
        },
        "id": "9fPEEWR_bLQM",
        "outputId": "5f02634b-f737-4041-8a5f-117055157fa7"
      },
      "execution_count": 1,
      "outputs": [
        {
          "output_type": "stream",
          "name": "stdout",
          "text": [
            "\u001b[2K     \u001b[90m━━━━━━━━━━━━━━━━━━━━━━━━━━━━━━━━━━━━━━━━\u001b[0m \u001b[32m2.1/2.1 MB\u001b[0m \u001b[31m8.4 MB/s\u001b[0m eta \u001b[36m0:00:00\u001b[0m\n",
            "\u001b[2K     \u001b[90m━━━━━━━━━━━━━━━━━━━━━━━━━━━━━━━━━━━━━━━━\u001b[0m \u001b[32m190.6/190.6 kB\u001b[0m \u001b[31m16.5 MB/s\u001b[0m eta \u001b[36m0:00:00\u001b[0m\n",
            "\u001b[2K     \u001b[90m━━━━━━━━━━━━━━━━━━━━━━━━━━━━━━━━━━━━━━━━\u001b[0m \u001b[32m252.8/252.8 kB\u001b[0m \u001b[31m25.7 MB/s\u001b[0m eta \u001b[36m0:00:00\u001b[0m\n",
            "\u001b[2K     \u001b[90m━━━━━━━━━━━━━━━━━━━━━━━━━━━━━━━━━━━━━━━━\u001b[0m \u001b[32m62.7/62.7 kB\u001b[0m \u001b[31m6.5 MB/s\u001b[0m eta \u001b[36m0:00:00\u001b[0m\n",
            "\u001b[?25h\u001b[34m\u001b[1mwandb\u001b[0m: Appending key for api.wandb.ai to your netrc file: /root/.netrc\n"
          ]
        }
      ]
    },
    {
      "cell_type": "code",
      "source": [
        "!pip install torchmetrics"
      ],
      "metadata": {
        "colab": {
          "base_uri": "https://localhost:8080/"
        },
        "id": "6e6hoTgn0dab",
        "outputId": "6e949563-7b63-47e9-fdbd-e4821be827e4"
      },
      "execution_count": 2,
      "outputs": [
        {
          "output_type": "stream",
          "name": "stdout",
          "text": [
            "Collecting torchmetrics\n",
            "  Downloading torchmetrics-1.2.1-py3-none-any.whl (806 kB)\n",
            "\u001b[2K     \u001b[90m━━━━━━━━━━━━━━━━━━━━━━━━━━━━━━━━━━━━━━━━\u001b[0m \u001b[32m806.1/806.1 kB\u001b[0m \u001b[31m6.3 MB/s\u001b[0m eta \u001b[36m0:00:00\u001b[0m\n",
            "\u001b[?25hRequirement already satisfied: numpy>1.20.0 in /usr/local/lib/python3.10/dist-packages (from torchmetrics) (1.23.5)\n",
            "Requirement already satisfied: packaging>17.1 in /usr/local/lib/python3.10/dist-packages (from torchmetrics) (23.2)\n",
            "Requirement already satisfied: torch>=1.8.1 in /usr/local/lib/python3.10/dist-packages (from torchmetrics) (2.1.0+cu118)\n",
            "Collecting lightning-utilities>=0.8.0 (from torchmetrics)\n",
            "  Downloading lightning_utilities-0.10.0-py3-none-any.whl (24 kB)\n",
            "Requirement already satisfied: setuptools in /usr/local/lib/python3.10/dist-packages (from lightning-utilities>=0.8.0->torchmetrics) (67.7.2)\n",
            "Requirement already satisfied: typing-extensions in /usr/local/lib/python3.10/dist-packages (from lightning-utilities>=0.8.0->torchmetrics) (4.5.0)\n",
            "Requirement already satisfied: filelock in /usr/local/lib/python3.10/dist-packages (from torch>=1.8.1->torchmetrics) (3.13.1)\n",
            "Requirement already satisfied: sympy in /usr/local/lib/python3.10/dist-packages (from torch>=1.8.1->torchmetrics) (1.12)\n",
            "Requirement already satisfied: networkx in /usr/local/lib/python3.10/dist-packages (from torch>=1.8.1->torchmetrics) (3.2.1)\n",
            "Requirement already satisfied: jinja2 in /usr/local/lib/python3.10/dist-packages (from torch>=1.8.1->torchmetrics) (3.1.2)\n",
            "Requirement already satisfied: fsspec in /usr/local/lib/python3.10/dist-packages (from torch>=1.8.1->torchmetrics) (2023.6.0)\n",
            "Requirement already satisfied: triton==2.1.0 in /usr/local/lib/python3.10/dist-packages (from torch>=1.8.1->torchmetrics) (2.1.0)\n",
            "Requirement already satisfied: MarkupSafe>=2.0 in /usr/local/lib/python3.10/dist-packages (from jinja2->torch>=1.8.1->torchmetrics) (2.1.3)\n",
            "Requirement already satisfied: mpmath>=0.19 in /usr/local/lib/python3.10/dist-packages (from sympy->torch>=1.8.1->torchmetrics) (1.3.0)\n",
            "Installing collected packages: lightning-utilities, torchmetrics\n",
            "Successfully installed lightning-utilities-0.10.0 torchmetrics-1.2.1\n"
          ]
        }
      ]
    },
    {
      "cell_type": "code",
      "execution_count": 3,
      "metadata": {
        "colab": {
          "base_uri": "https://localhost:8080/",
          "height": 70
        },
        "id": "BcHKsWKH6e5u",
        "outputId": "cfbebd49-7dd2-477e-802a-eb8e48b13e46"
      },
      "outputs": [
        {
          "output_type": "stream",
          "name": "stdout",
          "text": [
            "2.1.0+cu118\n",
            "0.16.0+cu118\n"
          ]
        },
        {
          "output_type": "execute_result",
          "data": {
            "text/plain": [
              "'cuda'"
            ],
            "application/vnd.google.colaboratory.intrinsic+json": {
              "type": "string"
            }
          },
          "metadata": {},
          "execution_count": 3
        }
      ],
      "source": [
        "#\n",
        "#   Michael Gugala\n",
        "#   02/12/2023\n",
        "#   Image recognition\n",
        "#   Master 4th year project\n",
        "#   Univeristy of Bristol\n",
        "#\n",
        "\n",
        "import pandas as pd\n",
        "import numpy as np\n",
        "import matplotlib.pyplot as plt\n",
        "\n",
        "import torch\n",
        "from torch import nn\n",
        "\n",
        "import torchvision\n",
        "from torchvision import datasets#\n",
        "from torch.utils.data import DataLoader\n",
        "from torchvision import transforms\n",
        "from torchvision import datasets\n",
        "from torchvision.transforms import ToTensor\n",
        "from PIL import Image\n",
        "\n",
        "from pathlib import Path\n",
        "\n",
        "import cv2\n",
        "from timeit import default_timer as timer\n",
        "from tqdm.auto import tqdm\n",
        "\n",
        "# check imports\n",
        "print(torch.__version__)\n",
        "print(torchvision.__version__)\n",
        "\n",
        "#agnostic code\n",
        "device = 'cuda' if torch.cuda.is_available() else 'cpu'\n",
        "device"
      ]
    },
    {
      "cell_type": "code",
      "source": [
        "# downloiad test data\n",
        "from torchvision.datasets import FashionMNIST\n",
        "from torchvision import transforms\n",
        "\n",
        "train_data = FashionMNIST(\n",
        "    root='~/.pytorch/F_MNIST_data',\n",
        "    download=True,\n",
        "    train=True,\n",
        "    target_transform=None)\n",
        "\n",
        "test_data = FashionMNIST(\n",
        "    root='~/.pytorch/F_MNIST_data',\n",
        "    download=True,\n",
        "    train=False,\n",
        "    target_transform=None)\n",
        "\n",
        "class_names = [x.replace('/', '_').replace('-', '') for x in train_data.classes]\n",
        "\n",
        "transform = transforms.ToPILImage()\n",
        "\n",
        "\n",
        "\n",
        "from pathlib import Path\n",
        "\n",
        "data_path = Path(\"data/\")\n",
        "image_path1 = data_path / \"FashionMNIST\" / \"train\"\n",
        "\n",
        "if image_path1.is_dir():\n",
        "    print('directory already exists')\n",
        "else:\n",
        "    print('creating folder')\n",
        "    for class_name in class_names:\n",
        "        image_class_path = image_path1 / class_name\n",
        "        image_class_path.mkdir(parents=True, exist_ok=True)\n",
        "\n",
        "    for idx, (train_img, target) in enumerate(zip(train_data.data[:1000], train_data.targets[:1000])):\n",
        "        train_data_PIL = transform(train_img)\n",
        "        file = \"data_\" + str(idx) + '.jpg'\n",
        "        # print(target)\n",
        "        # print(data_path / \"FashionMNIST\"/\"train\" / class_names[target] /file)\n",
        "        train_data_PIL.save(data_path / \"FashionMNIST\"/\"train\" / class_names[target] /file)\n",
        "\n",
        "\n",
        "data_path = Path(\"data/\")\n",
        "image_path2 = data_path / \"FashionMNIST\" / \"test\"\n",
        "if image_path2.is_dir():\n",
        "    print('directory already exists')\n",
        "else:\n",
        "    print('creating folder')\n",
        "    for class_name in class_names:\n",
        "        image_class_path = image_path2 / class_name\n",
        "        image_class_path.mkdir(parents=True, exist_ok=True)\n",
        "        image_class_path.mkdir(parents=True, exist_ok=True)\n",
        "\n",
        "    for idx, (test_img, target) in enumerate(zip(test_data.data[:250], test_data.targets[:250])):\n",
        "        test_data_PIL = transform(test_img)\n",
        "        file = \"data_\" + str(idx) + '.jpg'\n",
        "        test_data_PIL.save(data_path / \"FashionMNIST\"/\"test\" / class_names[target] /file)\n",
        "\n",
        "\n",
        "\n"
      ],
      "metadata": {
        "id": "PHMRZ7zWOhJ9",
        "colab": {
          "base_uri": "https://localhost:8080/"
        },
        "outputId": "0ba08006-a41d-4705-9174-62b126e9edc7"
      },
      "execution_count": 4,
      "outputs": [
        {
          "output_type": "stream",
          "name": "stdout",
          "text": [
            "Downloading http://fashion-mnist.s3-website.eu-central-1.amazonaws.com/train-images-idx3-ubyte.gz\n",
            "Downloading http://fashion-mnist.s3-website.eu-central-1.amazonaws.com/train-images-idx3-ubyte.gz to /root/.pytorch/F_MNIST_data/FashionMNIST/raw/train-images-idx3-ubyte.gz\n"
          ]
        },
        {
          "output_type": "stream",
          "name": "stderr",
          "text": [
            "100%|██████████| 26421880/26421880 [00:01<00:00, 16672292.78it/s]\n"
          ]
        },
        {
          "output_type": "stream",
          "name": "stdout",
          "text": [
            "Extracting /root/.pytorch/F_MNIST_data/FashionMNIST/raw/train-images-idx3-ubyte.gz to /root/.pytorch/F_MNIST_data/FashionMNIST/raw\n",
            "\n",
            "Downloading http://fashion-mnist.s3-website.eu-central-1.amazonaws.com/train-labels-idx1-ubyte.gz\n",
            "Downloading http://fashion-mnist.s3-website.eu-central-1.amazonaws.com/train-labels-idx1-ubyte.gz to /root/.pytorch/F_MNIST_data/FashionMNIST/raw/train-labels-idx1-ubyte.gz\n"
          ]
        },
        {
          "output_type": "stream",
          "name": "stderr",
          "text": [
            "100%|██████████| 29515/29515 [00:00<00:00, 273069.32it/s]\n"
          ]
        },
        {
          "output_type": "stream",
          "name": "stdout",
          "text": [
            "Extracting /root/.pytorch/F_MNIST_data/FashionMNIST/raw/train-labels-idx1-ubyte.gz to /root/.pytorch/F_MNIST_data/FashionMNIST/raw\n",
            "\n",
            "Downloading http://fashion-mnist.s3-website.eu-central-1.amazonaws.com/t10k-images-idx3-ubyte.gz\n",
            "Downloading http://fashion-mnist.s3-website.eu-central-1.amazonaws.com/t10k-images-idx3-ubyte.gz to /root/.pytorch/F_MNIST_data/FashionMNIST/raw/t10k-images-idx3-ubyte.gz\n"
          ]
        },
        {
          "output_type": "stream",
          "name": "stderr",
          "text": [
            "100%|██████████| 4422102/4422102 [00:00<00:00, 5069114.10it/s]\n"
          ]
        },
        {
          "output_type": "stream",
          "name": "stdout",
          "text": [
            "Extracting /root/.pytorch/F_MNIST_data/FashionMNIST/raw/t10k-images-idx3-ubyte.gz to /root/.pytorch/F_MNIST_data/FashionMNIST/raw\n",
            "\n",
            "Downloading http://fashion-mnist.s3-website.eu-central-1.amazonaws.com/t10k-labels-idx1-ubyte.gz\n",
            "Downloading http://fashion-mnist.s3-website.eu-central-1.amazonaws.com/t10k-labels-idx1-ubyte.gz to /root/.pytorch/F_MNIST_data/FashionMNIST/raw/t10k-labels-idx1-ubyte.gz\n"
          ]
        },
        {
          "output_type": "stream",
          "name": "stderr",
          "text": [
            "100%|██████████| 5148/5148 [00:00<00:00, 20524978.13it/s]\n"
          ]
        },
        {
          "output_type": "stream",
          "name": "stdout",
          "text": [
            "Extracting /root/.pytorch/F_MNIST_data/FashionMNIST/raw/t10k-labels-idx1-ubyte.gz to /root/.pytorch/F_MNIST_data/FashionMNIST/raw\n",
            "\n",
            "creating folder\n",
            "creating folder\n"
          ]
        }
      ]
    },
    {
      "cell_type": "markdown",
      "source": [
        "# Plan of action\n",
        "A.\n",
        "1. Create different CNN models\n",
        "    * a few of my own making\n",
        "    * restnet\n",
        "    * maybe something else\n",
        "2. Train them on MNIST fashion data scaled to 24x24\n",
        "3. a Loop to find the best hyperparameters\n",
        "\n",
        "B. Create SVM models in scikit learn\n",
        "1. Create a pipeline with different hyper parameters\n"
      ],
      "metadata": {
        "id": "pR11TVyxGLFk"
      }
    },
    {
      "cell_type": "markdown",
      "source": [
        "# Prepare data\n",
        "* trasnform to tensors\n",
        "* upscale to 256 (restnet size)\n",
        "* normalize (apply different normalization)"
      ],
      "metadata": {
        "id": "sOJ5z2klj9s3"
      }
    },
    {
      "cell_type": "code",
      "source": [
        "preprocess = transforms.Compose([\n",
        "\n",
        "    transforms.Resize(size=(224, 224)),\n",
        "    transforms.ToTensor(),\n",
        "    transforms.Normalize(mean=[0.25, 0.25, 0.25], std=[0.1, 0.1, 0.1]),\n",
        "])\n",
        "\n",
        "train_data = datasets.ImageFolder(root=Path(\"data/FashionMNIST/train\"),\n",
        "                                 transform=preprocess, # tranform for the data\n",
        "                                  target_transform=None) # transform for label\n",
        "\n",
        "\n",
        "test_data = datasets.ImageFolder(root=Path(\"data/FashionMNIST/test\"),\n",
        "                                 transform=preprocess, # tranform for the data\n",
        "                                  target_transform=None) # transform for label\n",
        "class_names = train_data.classes"
      ],
      "metadata": {
        "id": "vFgI2hoFkP-6"
      },
      "execution_count": null,
      "outputs": []
    },
    {
      "cell_type": "code",
      "source": [
        "# split data into batches\n",
        "from torch.utils.data import DataLoader\n",
        "BATCH_SIZE = 32\n",
        "\n",
        "# turn datasets into iterables (batches)\n",
        "train_dataloader = DataLoader(dataset=train_data,\n",
        "                              batch_size=BATCH_SIZE,\n",
        "                              shuffle=True) #  shuffling to remove order\n",
        "\n",
        "test_dataloader = DataLoader(dataset=test_data,\n",
        "                              batch_size=BATCH_SIZE,\n",
        "                              shuffle=False) # here it doesn't matter, no point to waste resources\n",
        "\n",
        "\n",
        "# iter tranforms it into iterable, next accesses the next batch\n",
        "train_features_batch, train_labels_batch = next(iter(train_dataloader))\n",
        "print(train_features_batch.shape, train_labels_batch.shape)\n",
        "\n",
        "# display random datapoints\n",
        "fig = plt.figure(figsize=(9, 9))\n",
        "rows, cols  = 3, 3\n",
        "for pic in range(1, 1+rows*cols):\n",
        "    rand_int = np.random.randint(0, BATCH_SIZE)\n",
        "    img = train_features_batch[rand_int]\n",
        "    img_RGB = img.permute([1, 2, 0]).numpy()\n",
        "    fig.add_subplot(rows, cols, pic)\n",
        "    plt.imshow(img_RGB.squeeze())\n",
        "    plt.axis(False)\n",
        "    plt.title(class_names[train_labels_batch[rand_int]])\n",
        "\n",
        "\n",
        "\n"
      ],
      "metadata": {
        "colab": {
          "base_uri": "https://localhost:8080/",
          "height": 926
        },
        "id": "Et_TlAgkFifd",
        "outputId": "f9e2d7db-77c9-46dc-c94e-8f149c435a40"
      },
      "execution_count": null,
      "outputs": [
        {
          "output_type": "stream",
          "name": "stderr",
          "text": [
            "WARNING:matplotlib.image:Clipping input data to the valid range for imshow with RGB data ([0..1] for floats or [0..255] for integers).\n",
            "WARNING:matplotlib.image:Clipping input data to the valid range for imshow with RGB data ([0..1] for floats or [0..255] for integers).\n",
            "WARNING:matplotlib.image:Clipping input data to the valid range for imshow with RGB data ([0..1] for floats or [0..255] for integers).\n",
            "WARNING:matplotlib.image:Clipping input data to the valid range for imshow with RGB data ([0..1] for floats or [0..255] for integers).\n",
            "WARNING:matplotlib.image:Clipping input data to the valid range for imshow with RGB data ([0..1] for floats or [0..255] for integers).\n",
            "WARNING:matplotlib.image:Clipping input data to the valid range for imshow with RGB data ([0..1] for floats or [0..255] for integers).\n",
            "WARNING:matplotlib.image:Clipping input data to the valid range for imshow with RGB data ([0..1] for floats or [0..255] for integers).\n",
            "WARNING:matplotlib.image:Clipping input data to the valid range for imshow with RGB data ([0..1] for floats or [0..255] for integers).\n"
          ]
        },
        {
          "output_type": "stream",
          "name": "stdout",
          "text": [
            "torch.Size([32, 3, 224, 224]) torch.Size([32])\n"
          ]
        },
        {
          "output_type": "stream",
          "name": "stderr",
          "text": [
            "WARNING:matplotlib.image:Clipping input data to the valid range for imshow with RGB data ([0..1] for floats or [0..255] for integers).\n"
          ]
        },
        {
          "output_type": "display_data",
          "data": {
            "text/plain": [
              "<Figure size 900x900 with 9 Axes>"
            ],
            "image/png": "[encoded data removed]"
          },
          "metadata": {}
        }
      ]
    },
    {
      "cell_type": "markdown",
      "source": [
        "# Create models\n",
        "\n"
      ],
      "metadata": {
        "id": "oy2v2CkGo8bL"
      }
    },
    {
      "cell_type": "markdown",
      "source": [
        "## RestNet"
      ],
      "metadata": {
        "id": "E5X-DP1dpdTg"
      }
    },
    {
      "cell_type": "code",
      "source": [
        "import torch\n",
        "restnet18_model = torch.hub.load('pytorch/vision:v0.10.0', 'resnet18', pretrained=True)\n",
        "restnet18_model"
      ],
      "metadata": {
        "colab": {
          "base_uri": "https://localhost:8080/"
        },
        "id": "xQPm75GJpaiv",
        "outputId": "e6093408-0aed-4cdc-eb01-ad2f54e0b5a6"
      },
      "execution_count": 5,
      "outputs": [
        {
          "output_type": "stream",
          "name": "stderr",
          "text": [
            "Downloading: \"https://github.com/pytorch/vision/zipball/v0.10.0\" to /root/.cache/torch/hub/v0.10.0.zip\n",
            "/usr/local/lib/python3.10/dist-packages/torchvision/models/_utils.py:208: UserWarning: The parameter 'pretrained' is deprecated since 0.13 and may be removed in the future, please use 'weights' instead.\n",
            "  warnings.warn(\n",
            "/usr/local/lib/python3.10/dist-packages/torchvision/models/_utils.py:223: UserWarning: Arguments other than a weight enum or `None` for 'weights' are deprecated since 0.13 and may be removed in the future. The current behavior is equivalent to passing `weights=ResNet18_Weights.IMAGENET1K_V1`. You can also use `weights=ResNet18_Weights.DEFAULT` to get the most up-to-date weights.\n",
            "  warnings.warn(msg)\n",
            "Downloading: \"https://download.pytorch.org/models/resnet18-f37072fd.pth\" to /root/.cache/torch/hub/checkpoints/resnet18-f37072fd.pth\n",
            "100%|██████████| 44.7M/44.7M [00:00<00:00, 122MB/s]\n"
          ]
        },
        {
          "output_type": "execute_result",
          "data": {
            "text/plain": [
              "ResNet(\n",
              "  (conv1): Conv2d(3, 64, kernel_size=(7, 7), stride=(2, 2), padding=(3, 3), bias=False)\n",
              "  (bn1): BatchNorm2d(64, eps=1e-05, momentum=0.1, affine=True, track_running_stats=True)\n",
              "  (relu): ReLU(inplace=True)\n",
              "  (maxpool): MaxPool2d(kernel_size=3, stride=2, padding=1, dilation=1, ceil_mode=False)\n",
              "  (layer1): Sequential(\n",
              "    (0): BasicBlock(\n",
              "      (conv1): Conv2d(64, 64, kernel_size=(3, 3), stride=(1, 1), padding=(1, 1), bias=False)\n",
              "      (bn1): BatchNorm2d(64, eps=1e-05, momentum=0.1, affine=True, track_running_stats=True)\n",
              "      (relu): ReLU(inplace=True)\n",
              "      (conv2): Conv2d(64, 64, kernel_size=(3, 3), stride=(1, 1), padding=(1, 1), bias=False)\n",
              "      (bn2): BatchNorm2d(64, eps=1e-05, momentum=0.1, affine=True, track_running_stats=True)\n",
              "    )\n",
              "    (1): BasicBlock(\n",
              "      (conv1): Conv2d(64, 64, kernel_size=(3, 3), stride=(1, 1), padding=(1, 1), bias=False)\n",
              "      (bn1): BatchNorm2d(64, eps=1e-05, momentum=0.1, affine=True, track_running_stats=True)\n",
              "      (relu): ReLU(inplace=True)\n",
              "      (conv2): Conv2d(64, 64, kernel_size=(3, 3), stride=(1, 1), padding=(1, 1), bias=False)\n",
              "      (bn2): BatchNorm2d(64, eps=1e-05, momentum=0.1, affine=True, track_running_stats=True)\n",
              "    )\n",
              "  )\n",
              "  (layer2): Sequential(\n",
              "    (0): BasicBlock(\n",
              "      (conv1): Conv2d(64, 128, kernel_size=(3, 3), stride=(2, 2), padding=(1, 1), bias=False)\n",
              "      (bn1): BatchNorm2d(128, eps=1e-05, momentum=0.1, affine=True, track_running_stats=True)\n",
              "      (relu): ReLU(inplace=True)\n",
              "      (conv2): Conv2d(128, 128, kernel_size=(3, 3), stride=(1, 1), padding=(1, 1), bias=False)\n",
              "      (bn2): BatchNorm2d(128, eps=1e-05, momentum=0.1, affine=True, track_running_stats=True)\n",
              "      (downsample): Sequential(\n",
              "        (0): Conv2d(64, 128, kernel_size=(1, 1), stride=(2, 2), bias=False)\n",
              "        (1): BatchNorm2d(128, eps=1e-05, momentum=0.1, affine=True, track_running_stats=True)\n",
              "      )\n",
              "    )\n",
              "    (1): BasicBlock(\n",
              "      (conv1): Conv2d(128, 128, kernel_size=(3, 3), stride=(1, 1), padding=(1, 1), bias=False)\n",
              "      (bn1): BatchNorm2d(128, eps=1e-05, momentum=0.1, affine=True, track_running_stats=True)\n",
              "      (relu): ReLU(inplace=True)\n",
              "      (conv2): Conv2d(128, 128, kernel_size=(3, 3), stride=(1, 1), padding=(1, 1), bias=False)\n",
              "      (bn2): BatchNorm2d(128, eps=1e-05, momentum=0.1, affine=True, track_running_stats=True)\n",
              "    )\n",
              "  )\n",
              "  (layer3): Sequential(\n",
              "    (0): BasicBlock(\n",
              "      (conv1): Conv2d(128, 256, kernel_size=(3, 3), stride=(2, 2), padding=(1, 1), bias=False)\n",
              "      (bn1): BatchNorm2d(256, eps=1e-05, momentum=0.1, affine=True, track_running_stats=True)\n",
              "      (relu): ReLU(inplace=True)\n",
              "      (conv2): Conv2d(256, 256, kernel_size=(3, 3), stride=(1, 1), padding=(1, 1), bias=False)\n",
              "      (bn2): BatchNorm2d(256, eps=1e-05, momentum=0.1, affine=True, track_running_stats=True)\n",
              "      (downsample): Sequential(\n",
              "        (0): Conv2d(128, 256, kernel_size=(1, 1), stride=(2, 2), bias=False)\n",
              "        (1): BatchNorm2d(256, eps=1e-05, momentum=0.1, affine=True, track_running_stats=True)\n",
              "      )\n",
              "    )\n",
              "    (1): BasicBlock(\n",
              "      (conv1): Conv2d(256, 256, kernel_size=(3, 3), stride=(1, 1), padding=(1, 1), bias=False)\n",
              "      (bn1): BatchNorm2d(256, eps=1e-05, momentum=0.1, affine=True, track_running_stats=True)\n",
              "      (relu): ReLU(inplace=True)\n",
              "      (conv2): Conv2d(256, 256, kernel_size=(3, 3), stride=(1, 1), padding=(1, 1), bias=False)\n",
              "      (bn2): BatchNorm2d(256, eps=1e-05, momentum=0.1, affine=True, track_running_stats=True)\n",
              "    )\n",
              "  )\n",
              "  (layer4): Sequential(\n",
              "    (0): BasicBlock(\n",
              "      (conv1): Conv2d(256, 512, kernel_size=(3, 3), stride=(2, 2), padding=(1, 1), bias=False)\n",
              "      (bn1): BatchNorm2d(512, eps=1e-05, momentum=0.1, affine=True, track_running_stats=True)\n",
              "      (relu): ReLU(inplace=True)\n",
              "      (conv2): Conv2d(512, 512, kernel_size=(3, 3), stride=(1, 1), padding=(1, 1), bias=False)\n",
              "      (bn2): BatchNorm2d(512, eps=1e-05, momentum=0.1, affine=True, track_running_stats=True)\n",
              "      (downsample): Sequential(\n",
              "        (0): Conv2d(256, 512, kernel_size=(1, 1), stride=(2, 2), bias=False)\n",
              "        (1): BatchNorm2d(512, eps=1e-05, momentum=0.1, affine=True, track_running_stats=True)\n",
              "      )\n",
              "    )\n",
              "    (1): BasicBlock(\n",
              "      (conv1): Conv2d(512, 512, kernel_size=(3, 3), stride=(1, 1), padding=(1, 1), bias=False)\n",
              "      (bn1): BatchNorm2d(512, eps=1e-05, momentum=0.1, affine=True, track_running_stats=True)\n",
              "      (relu): ReLU(inplace=True)\n",
              "      (conv2): Conv2d(512, 512, kernel_size=(3, 3), stride=(1, 1), padding=(1, 1), bias=False)\n",
              "      (bn2): BatchNorm2d(512, eps=1e-05, momentum=0.1, affine=True, track_running_stats=True)\n",
              "    )\n",
              "  )\n",
              "  (avgpool): AdaptiveAvgPool2d(output_size=(1, 1))\n",
              "  (fc): Linear(in_features=512, out_features=1000, bias=True)\n",
              ")"
            ]
          },
          "metadata": {},
          "execution_count": 5
        }
      ]
    },
    {
      "cell_type": "markdown",
      "source": [
        "### Create training loop"
      ],
      "metadata": {
        "id": "rkpS4Z5Y1E1R"
      }
    },
    {
      "cell_type": "markdown",
      "source": [
        "create dataset"
      ],
      "metadata": {
        "id": "yzn63U13l-sK"
      }
    },
    {
      "cell_type": "code",
      "source": [
        "from pickle import NONE\n",
        "# create data set from a custom data\n",
        "def create_dataset(path, batchsize, mean=None, std=None):\n",
        "    '''\n",
        "    input:\n",
        "    path - path to the folder with the data\n",
        "           eg for train - \"data/FashionMNIST/train\"\n",
        "    batchsize - eg 32\n",
        "    mean (optional)- for normalization eg. [0.25, 0.25, 0.25]\n",
        "    std (optional)- for nortmalization eg [0.1, 0.1, 0.1]\n",
        "\n",
        "    returns:\n",
        "    dataloader with image size of 224\n",
        "    class_names\n",
        "    '''\n",
        "    if mean:\n",
        "        preprocess = transforms.Compose([\n",
        "\n",
        "            transforms.Resize(size=(224, 224)),\n",
        "            transforms.ToTensor(),\n",
        "            transforms.Normalize(mean=mean, std=std),\n",
        "        ])\n",
        "    else:\n",
        "        preprocess = transforms.Compose([\n",
        "\n",
        "            transforms.Resize(size=(224, 224)),\n",
        "            transforms.ToTensor()\n",
        "        ])\n",
        "\n",
        "\n",
        "    data = datasets.ImageFolder(root=Path(path),\n",
        "                                    transform=preprocess, # tranform for the data\n",
        "                                    target_transform=None) # transform for label\n",
        "    dataloader = DataLoader(dataset=data,\n",
        "                                batch_size=batchsize,\n",
        "                                shuffle=True) #  shuffling to remove order\n",
        "    class_names = data.classes\n",
        "    return dataloader, class_names\n",
        "\n",
        "# visdualize 9 random images in a batch\n",
        "def visualise_data(dataloader, class_names):\n",
        "    '''\n",
        "    input dataloader\n",
        "    class names\n",
        "\n",
        "    displays 9 random images in a batch and their labels\n",
        "    '''\n",
        "    train_features_batch, train_labels_batch = next(iter(dataloader))\n",
        "    # display random datapoints\n",
        "    fig = plt.figure(figsize=(9, 9))\n",
        "    rows, cols  = 3, 3\n",
        "    for pic in range(1, 1+rows*cols):\n",
        "        rand_int = np.random.randint(0, BATCH_SIZE)\n",
        "        img = train_features_batch[rand_int]\n",
        "        img_RGB = img.permute([1, 2, 0]).numpy()\n",
        "        fig.add_subplot(rows, cols, pic)\n",
        "        plt.imshow(img_RGB.squeeze())\n",
        "        plt.axis(False)\n",
        "        plt.title(class_names[train_labels_batch[rand_int]])\n",
        "\n",
        "\n",
        "# create optimizer\n",
        "def create_optiimizer(model, optimizer, lr):\n",
        "    '''\n",
        "    inputs:\n",
        "    model - CNN network\n",
        "    optimizer - \"adam\" or \"sgd\"\n",
        "    lr - learning rate eg. 0.01\n",
        "\n",
        "    '''\n",
        "    if optimizer=='adam':\n",
        "        optimizer = torch.optim.Adam(model.parameters(),\n",
        "                                     lr=lr\n",
        "                                     )\n",
        "    elif optimizer=='sgd':\n",
        "        optimizer = torch.optim.SGD(model.parameters(),\n",
        "                                     lr=lr,\n",
        "                                    momentum=0.9\n",
        "                                     )\n",
        "\n",
        "    return optimizer\n",
        "\n",
        "\n",
        "def get_lossFn():\n",
        "    '''\n",
        "        returns CrossEntropyLoss function\n",
        "    '''\n",
        "\n",
        "    return nn.CrossEntropyLoss()\n",
        "\n",
        "# create train step\n",
        "def train_step(model, metric, loss_fn, optimizer,\n",
        "               data_loader, device, debug=False):\n",
        "    '''\n",
        "    model - CNN network\n",
        "    metric - metric to calculate accuracy\n",
        "    loss_fn - loss function\n",
        "    optimizer - optimizer to be applied\n",
        "    data_loader - dataloader\n",
        "    device - decide for the model to train\n",
        "    debug (optional)- if True prints average loss and metric of the batch\n",
        "\n",
        "    returns\n",
        "    train_loss - average loss of the batch\n",
        "    train_acc - average metric score of the batch\n",
        "\n",
        "    The function saves the metric score and loss of each iteration in WandB\n",
        "\n",
        "    '''\n",
        "    train_loss, train_acc = 0, 0\n",
        "\n",
        "    model.train()\n",
        "    for batch, (X, y) in enumerate(data_loader):\n",
        "        # put data on the device\n",
        "        X, y = X.to(device), y.to(device)\n",
        "\n",
        "        #forward pass, return raw logits\n",
        "        y_pred = model(X)\n",
        "\n",
        "        #loss\n",
        "        loss = loss_fn(y_pred, y)\n",
        "        #accuracy\n",
        "        acc = metric(y, torch.argmax(y_pred, dim=1))\n",
        "\n",
        "        train_loss += loss # accumulate train loss\n",
        "        train_acc += acc # accumulate train accuracy\n",
        "\n",
        "        # zero grad\n",
        "        optimizer.zero_grad()\n",
        "\n",
        "        # loss bacward\n",
        "        loss.backward()\n",
        "\n",
        "        #optimizer step\n",
        "        optimizer.step()\n",
        "\n",
        "        # log in wandb\n",
        "        wandb.log({\"loss\": loss,\n",
        "                   'accuracy': acc})\n",
        "\n",
        "    # device total loss and accuracy by length of train dataloader\n",
        "    train_loss /= len(data_loader)\n",
        "    train_acc /= len(data_loader)\n",
        "    if debug:\n",
        "        print(f'Train loss: {train_loss}, Train acc: {train_acc*100:0.4f}%')\n",
        "\n",
        "    return train_loss, train_acc\n",
        "\n",
        "\n",
        "# create test step\n",
        "def test_step(model, metric, loss_fn, data_loader, device, debug=False):\n",
        "    '''\n",
        "    model - CNN network\n",
        "    metric - metric to calculate accuracy\n",
        "    loss_fn - loss function\n",
        "    data_loader - dataloader\n",
        "    device - decide for the model to train\n",
        "    debug (optional)- if True prints average loss and metric of the batch\n",
        "\n",
        "    returns\n",
        "    test_loss - average loss of the batch\n",
        "    test_acc - average metric score of the batch\n",
        "\n",
        "    The function saves the metric score and loss of each iteration in WandB\n",
        "\n",
        "    '''\n",
        "    test_loss, test_acc = 0, 0\n",
        "    model.eval()\n",
        "    with torch.inference_mode():\n",
        "        for X_test, y_test in data_loader:\n",
        "            X_test, y_test = X_test.to(device), y_test.to(device)\n",
        "            #1 forward pass\n",
        "            test_pred = model(X_test)\n",
        "\n",
        "            # calculate loss\n",
        "            loss = loss_fn(test_pred, y_test)\n",
        "            test_loss += loss\n",
        "\n",
        "            #accuracy\n",
        "            acc = metric(y_test, test_pred.argmax(dim=1))\n",
        "            test_acc += acc\n",
        "\n",
        "            wandb.log({\"test loss\": loss,\n",
        "                       'test accuracy': acc})\n",
        "\n",
        "        # Calculate the test loss average batch\n",
        "        test_loss /= len(data_loader)\n",
        "\n",
        "        # acc per bactch\n",
        "        test_acc /= len(data_loader)\n",
        "\n",
        "        # Print out what's happening\n",
        "        if debug:\n",
        "            print(f'Test loss: {test_loss:.4f}  |  Test acc: {test_acc*100:.4f}%')\n",
        "\n",
        "        return test_loss, test_acc\n",
        "\n",
        "# create evaluation loop\n",
        "def eval_model(model: torch.nn.Module,\n",
        "                data_loader: torch.utils.data.DataLoader,\n",
        "                loss_fn: torch.nn.Module,\n",
        "                accuracy_fn,\n",
        "               device):\n",
        "    loss, acc = 0, 0\n",
        "    model.eval()\n",
        "    with torch.inference_mode():\n",
        "        for X, y in tqdm(data_loader):\n",
        "            X, y = X.to(device), y.to(device)\n",
        "            y_pred = model(X)\n",
        "\n",
        "            #accumulate the loss and acc\n",
        "            loss += loss_fn(y_pred, y)\n",
        "            acc += accuracy_fn(y, y_pred.argmax(dim=1))\n",
        "\n",
        "        # ave loss and acc\n",
        "        loss /= len(data_loader)\n",
        "        acc /= len(data_loader)\n",
        "    return {\"model_name\": model.__class__.__name__, # only works if a model was created with a class\n",
        "            \"model_loss\": loss.item(),\n",
        "            \"model_acc\": acc.item()*100}"
      ],
      "metadata": {
        "id": "xk_56EnjmAg_"
      },
      "execution_count": 6,
      "outputs": []
    },
    {
      "cell_type": "markdown",
      "source": [
        "optimizer"
      ],
      "metadata": {
        "id": "ygf2Py4yinEp"
      }
    },
    {
      "cell_type": "code",
      "source": [
        "\n",
        "\n",
        "\n"
      ],
      "metadata": {
        "id": "rKg3gaXbiq0G"
      },
      "execution_count": null,
      "outputs": []
    },
    {
      "cell_type": "markdown",
      "source": [
        "metric function, optimizer, loss function"
      ],
      "metadata": {
        "id": "4Vvk9PYrYNnL"
      }
    },
    {
      "cell_type": "markdown",
      "source": [
        "## First test loop\n",
        "test on FashionMNIST with a loop of different hyper parammeters and wandb experiment result collection"
      ],
      "metadata": {
        "id": "5ALnqHS1bRcv"
      }
    },
    {
      "cell_type": "code",
      "source": [
        "import wandb\n",
        "import torchmetrics\n",
        "\n",
        "torch.manual_seed(42)\n",
        "torch.cuda.manual_seed(42)\n",
        "\n",
        "\n",
        "sweep_config = {\n",
        "    'method': 'random'\n",
        "    }\n",
        "metric = {\n",
        "    'name': 'loss',\n",
        "    'goal': 'minimize'\n",
        "    }\n",
        "sweep_config['metric'] = metric\n",
        "\n",
        "parameters_dict = {\n",
        "    'optimizer': {\n",
        "        'values': ['adam', 'sgd']\n",
        "        }\n",
        "    }\n",
        "\n",
        "sweep_config['parameters'] = parameters_dict\n",
        "\n",
        "parameters_dict.update({\n",
        "    'epochs': {\n",
        "        'value': 10}\n",
        "    })\n",
        "\n",
        "parameters_dict.update({\n",
        "    'learning_rate': {\n",
        "        # a flat distribution between 0 and 0.1\n",
        "        'distribution': 'uniform',\n",
        "        'min': 0,\n",
        "        'max': 0.1\n",
        "      },\n",
        "    'batch_size': {\n",
        "        # integers between 32 and 256\n",
        "        # with evenly-distributed logarithms\n",
        "        'distribution': 'q_log_uniform_values',\n",
        "        'q': 8,\n",
        "        'min': 8,\n",
        "        'max': 32,\n",
        "      }\n",
        "    })\n",
        "\n",
        "import pprint\n",
        "pprint.pprint(sweep_config)\n",
        "\n",
        "\n",
        "sweep_id = wandb.sweep(sweep_config, project=\"test-wandb-sweep\")\n",
        "\n",
        "\n",
        "\n",
        "def train_model(config=None):\n",
        "    with wandb.init(config=config):\n",
        "        config = wandb.config\n",
        "\n",
        "        train_dataloader, class_names = create_dataset(\n",
        "                                            path=\"data/FashionMNIST/train\",\n",
        "                                            batchsize=config.batch_size\n",
        "                                            )\n",
        "        test_dataloader, _ = create_dataset(\n",
        "                                    path=\"data/FashionMNIST/test\",\n",
        "                                    batchsize=config.batch_size\n",
        "                                    )\n",
        "        model = restnet18_model.to(device)\n",
        "        loss_fn = get_lossFn()\n",
        "        optimizer = create_optiimizer(model=model,\n",
        "                                      optimizer=config.optimizer,\n",
        "                                      lr=config.learning_rate\n",
        "        )\n",
        "        metric = torchmetrics.classification.Accuracy(\n",
        "            task=\"multiclass\",\n",
        "            num_classes=len(class_names)\n",
        "        ).to(device)\n",
        "        train_time_start = timer()\n",
        "        for epoch in range(config.epochs):\n",
        "            ave_batch_loss, ave_batch_metric = train_step(\n",
        "                model=model,\n",
        "                metric=metric,\n",
        "                loss_fn=loss_fn,\n",
        "                optimizer=optimizer,\n",
        "                data_loader=train_dataloader,\n",
        "                device=device,\n",
        "                debug=True\n",
        "            )\n",
        "            ve_batch_loss, ave_batch_metric = test_step(\n",
        "                model=model,\n",
        "                metric=metric,\n",
        "                loss_fn=loss_fn,\n",
        "                data_loader=test_dataloader,\n",
        "                device=device,\n",
        "                debug=True\n",
        "            )\n",
        "            wandb.log({\"average train batch loss\": ave_batch_loss,\n",
        "                       \"average train batch metric\": ave_batch_metric,\n",
        "                       \"average test batch loss\": ave_batch_loss,\n",
        "                       \"average test batch metric\": ave_batch_metric,\n",
        "                       \"epoch\": epoch\n",
        "                       })\n",
        "        train_time_end = timer()\n",
        "        wandb.log({\"train time\": train_time_end - train_time_start})\n",
        "\n",
        "    return model\n",
        "\n",
        "\n",
        "wandb.agent(sweep_id, train_model, count=5)\n",
        "\n",
        "\n"
      ],
      "metadata": {
        "colab": {
          "base_uri": "https://localhost:8080/",
          "height": 1000,
          "referenced_widgets": [
            "57e12ce40d8743c8b5d50abe57ea1d97",
            "af22c7167d4f4333a23a74fe0099ca33",
            "e25d5da627ff42c5911994dd6bf5d821",
            "ee2130aee1714944846bfcc4f47b56ed",
            "b631e554865b48faa2f456acd1520be2",
            "e0f1ba6d5b4e4b409cea5c3b068b9299",
            "3f3b0894f62c45c2a68b9a628263425b",
            "b63d5e6e317a43c2a101b88de12ba9b1",
            "24599d58a3ca465ba25eb13c0f0aef6b",
            "38ff4554482c4796bd49981f5f28b129",
            "804d633fe23642ca9a70afcf53dd93e4",
            "8044886676aa43ba9ec14f8eee38efe3",
            "e1c2c4ebaeb748448329ce6eaa89ce8c",
            "748d4c7bb00849a1927302d4cb7ed93f",
            "85ca0d796eca46749faf39c41500907d",
            "cdf853d892e649bab908ae254cf6604c",
            "1038533733f2427394c8cf03dd05e93e",
            "0287faae74344d33b764e24b14fcfe9d",
            "faf4422f7f6e43a493da267266a4073e",
            "afecf55c78e74936b48b16dbfd68dd6a",
            "5a75a424cc0a47afb1df9e7050963a63",
            "1874b254e83c4dabbb45f26b2fa48622",
            "f70c3ba91da74f5296a63a8326658fce",
            "5878defc4da84c239533b1ab754c85c7",
            "ff98d8c6b03f48efad0d804817083984",
            "340b48c9efeb432e8a3d180b27bc7866",
            "007c15789436400c8fa085fdf341a589",
            "b773e920c3e940c7b78dc46c13cc7831",
            "b3a50938dacf4f9b975985b2accad560",
            "04368736801346eb9602abfa3fe4161b",
            "f9c996f006124163981ca3ab6e7af3e2",
            "036a131743b44f74a0b2e78f289de339",
            "384759cb2def47ac8d6e718d108552f3",
            "fc6ba17d2b4d4c0d99a621d0df4b38a9",
            "09daef4c1c344d6a86afebe6176ef246",
            "6c043e96a9414140a7b1752194791434",
            "29f0a8da895643f29f6b7a7e2685e556",
            "8f6478e5a004473c8fae4536691621a9",
            "2ef9e0362c174d4f909c16d3e7cd2663",
            "de8068cf1dab438da65d7d29db399a6a"
          ]
        },
        "id": "GCb37Wx4W3ga",
        "outputId": "343be5fb-8d35-4289-f842-763cb54112a8"
      },
      "execution_count": 7,
      "outputs": [
        {
          "output_type": "stream",
          "name": "stdout",
          "text": [
            "{'method': 'random',\n",
            " 'metric': {'goal': 'minimize', 'name': 'loss'},\n",
            " 'parameters': {'batch_size': {'distribution': 'q_log_uniform_values',\n",
            "                               'max': 32,\n",
            "                               'min': 8,\n",
            "                               'q': 8},\n",
            "                'epochs': {'value': 10},\n",
            "                'learning_rate': {'distribution': 'uniform',\n",
            "                                  'max': 0.1,\n",
            "                                  'min': 0},\n",
            "                'optimizer': {'values': ['adam', 'sgd']}}}\n",
            "Create sweep with ID: nj6s323g\n",
            "Sweep URL: https://wandb.ai/gugi200/test-wandb-sweep/sweeps/nj6s323g\n"
          ]
        },
        {
          "output_type": "stream",
          "name": "stderr",
          "text": [
            "\u001b[34m\u001b[1mwandb\u001b[0m: Agent Starting Run: 5p3il61y with config:\n",
            "\u001b[34m\u001b[1mwandb\u001b[0m: \tbatch_size: 16\n",
            "\u001b[34m\u001b[1mwandb\u001b[0m: \tepochs: 10\n",
            "\u001b[34m\u001b[1mwandb\u001b[0m: \tlearning_rate: 0.09132701486992258\n",
            "\u001b[34m\u001b[1mwandb\u001b[0m: \toptimizer: sgd\n",
            "\u001b[34m\u001b[1mwandb\u001b[0m: Currently logged in as: \u001b[33mad20781\u001b[0m (\u001b[33mgugi200\u001b[0m). Use \u001b[1m`wandb login --relogin`\u001b[0m to force relogin\n"
          ]
        },
        {
          "output_type": "display_data",
          "data": {
            "text/plain": [
              "<IPython.core.display.HTML object>"
            ],
            "text/html": [
              "Tracking run with wandb version 0.16.0"
            ]
          },
          "metadata": {}
        },
        {
          "output_type": "display_data",
          "data": {
            "text/plain": [
              "<IPython.core.display.HTML object>"
            ],
            "text/html": [
              "Run data is saved locally in <code>/content/wandb/run-20231203_181524-5p3il61y</code>"
            ]
          },
          "metadata": {}
        },
        {
          "output_type": "display_data",
          "data": {
            "text/plain": [
              "<IPython.core.display.HTML object>"
            ],
            "text/html": [
              "Syncing run <strong><a href='https://wandb.ai/gugi200/test-wandb-sweep/runs/5p3il61y' target=\"_blank\">clear-sweep-1</a></strong> to <a href='https://wandb.ai/gugi200/test-wandb-sweep' target=\"_blank\">Weights & Biases</a> (<a href='https://wandb.me/run' target=\"_blank\">docs</a>)<br/>Sweep page: <a href='https://wandb.ai/gugi200/test-wandb-sweep/sweeps/nj6s323g' target=\"_blank\">https://wandb.ai/gugi200/test-wandb-sweep/sweeps/nj6s323g</a>"
            ]
          },
          "metadata": {}
        },
        {
          "output_type": "display_data",
          "data": {
            "text/plain": [
              "<IPython.core.display.HTML object>"
            ],
            "text/html": [
              " View project at <a href='https://wandb.ai/gugi200/test-wandb-sweep' target=\"_blank\">https://wandb.ai/gugi200/test-wandb-sweep</a>"
            ]
          },
          "metadata": {}
        },
        {
          "output_type": "display_data",
          "data": {
            "text/plain": [
              "<IPython.core.display.HTML object>"
            ],
            "text/html": [
              " View sweep at <a href='https://wandb.ai/gugi200/test-wandb-sweep/sweeps/nj6s323g' target=\"_blank\">https://wandb.ai/gugi200/test-wandb-sweep/sweeps/nj6s323g</a>"
            ]
          },
          "metadata": {}
        },
        {
          "output_type": "display_data",
          "data": {
            "text/plain": [
              "<IPython.core.display.HTML object>"
            ],
            "text/html": [
              " View run at <a href='https://wandb.ai/gugi200/test-wandb-sweep/runs/5p3il61y' target=\"_blank\">https://wandb.ai/gugi200/test-wandb-sweep/runs/5p3il61y</a>"
            ]
          },
          "metadata": {}
        },
        {
          "output_type": "stream",
          "name": "stderr",
          "text": [
            "Traceback (most recent call last):\n",
            "  File \"<ipython-input-7-0a95c8aeb3df>\", line 79, in train_model\n",
            "    ave_batch_loss, ave_batch_metric = train_step(\n",
            "  File \"<ipython-input-6-58a79fe044e3>\", line 123, in train_step\n",
            "    acc = metric(y, torch.argmax(y_pred, dim=1))\n",
            "  File \"/usr/local/lib/python3.10/dist-packages/torch/nn/modules/module.py\", line 1518, in _wrapped_call_impl\n",
            "    return self._call_impl(*args, **kwargs)\n",
            "  File \"/usr/local/lib/python3.10/dist-packages/torch/nn/modules/module.py\", line 1527, in _call_impl\n",
            "    return forward_call(*args, **kwargs)\n",
            "  File \"/usr/local/lib/python3.10/dist-packages/torchmetrics/metric.py\", line 298, in forward\n",
            "    self._forward_cache = self._forward_reduce_state_update(*args, **kwargs)\n",
            "  File \"/usr/local/lib/python3.10/dist-packages/torchmetrics/metric.py\", line 367, in _forward_reduce_state_update\n",
            "    self.update(*args, **kwargs)\n",
            "  File \"/usr/local/lib/python3.10/dist-packages/torchmetrics/metric.py\", line 470, in wrapped_func\n",
            "    raise err\n",
            "  File \"/usr/local/lib/python3.10/dist-packages/torchmetrics/metric.py\", line 460, in wrapped_func\n",
            "    update(*args, **kwargs)\n",
            "  File \"/usr/local/lib/python3.10/dist-packages/torchmetrics/classification/stat_scores.py\", line 331, in update\n",
            "    _multiclass_stat_scores_tensor_validation(\n",
            "  File \"/usr/local/lib/python3.10/dist-packages/torchmetrics/functional/classification/stat_scores.py\", line 310, in _multiclass_stat_scores_tensor_validation\n",
            "    raise RuntimeError(\n",
            "RuntimeError: Detected more unique values in `target` than `num_classes`. Expected only 10 but found 16 in `target`.\n"
          ]
        },
        {
          "output_type": "display_data",
          "data": {
            "text/plain": [
              "VBox(children=(Label(value='0.001 MB of 0.001 MB uploaded\\r'), FloatProgress(value=1.0, max=1.0)))"
            ],
            "application/vnd.jupyter.widget-view+json": {
              "version_major": 2,
              "version_minor": 0,
              "model_id": "57e12ce40d8743c8b5d50abe57ea1d97"
            }
          },
          "metadata": {}
        },
        {
          "output_type": "display_data",
          "data": {
            "text/plain": [
              "<IPython.core.display.HTML object>"
            ],
            "text/html": [
              " View run <strong style=\"color:#cdcd00\">clear-sweep-1</strong> at: <a href='https://wandb.ai/gugi200/test-wandb-sweep/runs/5p3il61y' target=\"_blank\">https://wandb.ai/gugi200/test-wandb-sweep/runs/5p3il61y</a><br/>Synced 5 W&B file(s), 0 media file(s), 0 artifact file(s) and 0 other file(s)"
            ]
          },
          "metadata": {}
        },
        {
          "output_type": "display_data",
          "data": {
            "text/plain": [
              "<IPython.core.display.HTML object>"
            ],
            "text/html": [
              "Find logs at: <code>./wandb/run-20231203_181524-5p3il61y/logs</code>"
            ]
          },
          "metadata": {}
        },
        {
          "output_type": "stream",
          "name": "stderr",
          "text": [
            "Run 5p3il61y errored: RuntimeError('Detected more unique values in `target` than `num_classes`. Expected only 10 but found 16 in `target`.')\n",
            "\u001b[34m\u001b[1mwandb\u001b[0m: \u001b[32m\u001b[41mERROR\u001b[0m Run 5p3il61y errored: RuntimeError('Detected more unique values in `target` than `num_classes`. Expected only 10 but found 16 in `target`.')\n",
            "\u001b[34m\u001b[1mwandb\u001b[0m: Agent Starting Run: 4e83m997 with config:\n",
            "\u001b[34m\u001b[1mwandb\u001b[0m: \tbatch_size: 8\n",
            "\u001b[34m\u001b[1mwandb\u001b[0m: \tepochs: 10\n",
            "\u001b[34m\u001b[1mwandb\u001b[0m: \tlearning_rate: 0.02799561820701151\n",
            "\u001b[34m\u001b[1mwandb\u001b[0m: \toptimizer: adam\n"
          ]
        },
        {
          "output_type": "display_data",
          "data": {
            "text/plain": [
              "<IPython.core.display.HTML object>"
            ],
            "text/html": [
              "Tracking run with wandb version 0.16.0"
            ]
          },
          "metadata": {}
        },
        {
          "output_type": "display_data",
          "data": {
            "text/plain": [
              "<IPython.core.display.HTML object>"
            ],
            "text/html": [
              "Run data is saved locally in <code>/content/wandb/run-20231203_181550-4e83m997</code>"
            ]
          },
          "metadata": {}
        },
        {
          "output_type": "display_data",
          "data": {
            "text/plain": [
              "<IPython.core.display.HTML object>"
            ],
            "text/html": [
              "Syncing run <strong><a href='https://wandb.ai/gugi200/test-wandb-sweep/runs/4e83m997' target=\"_blank\">young-sweep-2</a></strong> to <a href='https://wandb.ai/gugi200/test-wandb-sweep' target=\"_blank\">Weights & Biases</a> (<a href='https://wandb.me/run' target=\"_blank\">docs</a>)<br/>Sweep page: <a href='https://wandb.ai/gugi200/test-wandb-sweep/sweeps/nj6s323g' target=\"_blank\">https://wandb.ai/gugi200/test-wandb-sweep/sweeps/nj6s323g</a>"
            ]
          },
          "metadata": {}
        },
        {
          "output_type": "display_data",
          "data": {
            "text/plain": [
              "<IPython.core.display.HTML object>"
            ],
            "text/html": [
              " View project at <a href='https://wandb.ai/gugi200/test-wandb-sweep' target=\"_blank\">https://wandb.ai/gugi200/test-wandb-sweep</a>"
            ]
          },
          "metadata": {}
        },
        {
          "output_type": "display_data",
          "data": {
            "text/plain": [
              "<IPython.core.display.HTML object>"
            ],
            "text/html": [
              " View sweep at <a href='https://wandb.ai/gugi200/test-wandb-sweep/sweeps/nj6s323g' target=\"_blank\">https://wandb.ai/gugi200/test-wandb-sweep/sweeps/nj6s323g</a>"
            ]
          },
          "metadata": {}
        },
        {
          "output_type": "display_data",
          "data": {
            "text/plain": [
              "<IPython.core.display.HTML object>"
            ],
            "text/html": [
              " View run at <a href='https://wandb.ai/gugi200/test-wandb-sweep/runs/4e83m997' target=\"_blank\">https://wandb.ai/gugi200/test-wandb-sweep/runs/4e83m997</a>"
            ]
          },
          "metadata": {}
        },
        {
          "output_type": "stream",
          "name": "stdout",
          "text": [
            "Train loss: 3.483701467514038, Train acc: 20.4000%\n",
            "Test loss: 2.1970  |  Test acc: 44.5312%\n",
            "Train loss: 1.4973076581954956, Train acc: 40.7000%\n",
            "Test loss: 1.9966  |  Test acc: 29.2969%\n",
            "Train loss: 1.2448763847351074, Train acc: 52.0000%\n",
            "Test loss: 1.7426  |  Test acc: 31.6406%\n",
            "Train loss: 1.132880687713623, Train acc: 58.1000%\n",
            "Test loss: 2.2165  |  Test acc: 19.1406%\n",
            "Train loss: 1.0182936191558838, Train acc: 63.5000%\n",
            "Test loss: 0.8665  |  Test acc: 72.2656%\n",
            "Train loss: 0.8834972977638245, Train acc: 69.2000%\n",
            "Test loss: 1.0499  |  Test acc: 63.6719%\n",
            "Train loss: 0.8796041011810303, Train acc: 68.1000%\n",
            "Test loss: 0.7003  |  Test acc: 73.8281%\n",
            "Train loss: 0.7763322591781616, Train acc: 72.0000%\n",
            "Test loss: 0.8856  |  Test acc: 64.8438%\n",
            "Train loss: 0.7498733997344971, Train acc: 72.6000%\n",
            "Test loss: 0.6780  |  Test acc: 77.3438%\n",
            "Train loss: 0.6542317867279053, Train acc: 75.9000%\n",
            "Test loss: 1.0148  |  Test acc: 67.5781%\n"
          ]
        },
        {
          "output_type": "display_data",
          "data": {
            "text/plain": [
              "VBox(children=(Label(value='0.001 MB of 0.001 MB uploaded\\r'), FloatProgress(value=1.0, max=1.0)))"
            ],
            "application/vnd.jupyter.widget-view+json": {
              "version_major": 2,
              "version_minor": 0,
              "model_id": "24599d58a3ca465ba25eb13c0f0aef6b"
            }
          },
          "metadata": {}
        },
        {
          "output_type": "display_data",
          "data": {
            "text/plain": [
              "<IPython.core.display.HTML object>"
            ],
            "text/html": [
              "<style>\n",
              "    table.wandb td:nth-child(1) { padding: 0 10px; text-align: left ; width: auto;} td:nth-child(2) {text-align: left ; width: 100%}\n",
              "    .wandb-row { display: flex; flex-direction: row; flex-wrap: wrap; justify-content: flex-start; width: 100% }\n",
              "    .wandb-col { display: flex; flex-direction: column; flex-basis: 100%; flex: 1; padding: 10px; }\n",
              "    </style>\n",
              "<div class=\"wandb-row\"><div class=\"wandb-col\"><h3>Run history:</h3><br/><table class=\"wandb\"><tr><td>accuracy</td><td>▁▁▃▁▁▂▃▂▂▅▅▅▅▄▂▃▅▇▇▃▇▅▅▄▅▆▂▃▅▆▆▄▆▅█▆▄▆▇▄</td></tr><tr><td>average test batch loss</td><td>█▃▂▂▂▂▂▁▁▁</td></tr><tr><td>average test batch metric</td><td>▄▂▃▁▇▆█▆█▇</td></tr><tr><td>average train batch loss</td><td>█▃▂▂▂▂▂▁▁▁</td></tr><tr><td>average train batch metric</td><td>▄▂▃▁▇▆█▆█▇</td></tr><tr><td>epoch</td><td>▁▂▃▃▄▅▆▆▇█</td></tr><tr><td>loss</td><td>█▄▃▄▃▂▂▃▃▂▂▂▂▂▂▂▂▁▁▂▁▂▂▂▂▁▃▂▂▁▁▂▁▁▁▁▂▁▁▂</td></tr><tr><td>test accuracy</td><td>▆▃▅▃▃▁▄▃▂▄▅▃▃▁▄▃██▇██▆▇▅▆▇▅▆▆▅▆▅▇▇██▇▇▇▅</td></tr><tr><td>test loss</td><td>▂█▃▃▅▄▃▃▄▃▃▃▃▃▃▄▂▂▂▂▁▂▂▂▂▁▃▂▂▂▁▂▁▂▁▁▂▁▂▃</td></tr><tr><td>train time</td><td>▁</td></tr></table><br/></div><div class=\"wandb-col\"><h3>Run summary:</h3><br/><table class=\"wandb\"><tr><td>accuracy</td><td>0.75</td></tr><tr><td>average test batch loss</td><td>0.65423</td></tr><tr><td>average test batch metric</td><td>0.67578</td></tr><tr><td>average train batch loss</td><td>0.65423</td></tr><tr><td>average train batch metric</td><td>0.67578</td></tr><tr><td>epoch</td><td>9</td></tr><tr><td>loss</td><td>0.58295</td></tr><tr><td>test accuracy</td><td>0.5</td></tr><tr><td>test loss</td><td>1.84476</td></tr><tr><td>train time</td><td>65.11256</td></tr></table><br/></div></div>"
            ]
          },
          "metadata": {}
        },
        {
          "output_type": "display_data",
          "data": {
            "text/plain": [
              "<IPython.core.display.HTML object>"
            ],
            "text/html": [
              " View run <strong style=\"color:#cdcd00\">young-sweep-2</strong> at: <a href='https://wandb.ai/gugi200/test-wandb-sweep/runs/4e83m997' target=\"_blank\">https://wandb.ai/gugi200/test-wandb-sweep/runs/4e83m997</a><br/>Synced 5 W&B file(s), 0 media file(s), 0 artifact file(s) and 0 other file(s)"
            ]
          },
          "metadata": {}
        },
        {
          "output_type": "display_data",
          "data": {
            "text/plain": [
              "<IPython.core.display.HTML object>"
            ],
            "text/html": [
              "Find logs at: <code>./wandb/run-20231203_181550-4e83m997/logs</code>"
            ]
          },
          "metadata": {}
        },
        {
          "output_type": "stream",
          "name": "stderr",
          "text": [
            "\u001b[34m\u001b[1mwandb\u001b[0m: Agent Starting Run: ooatqioc with config:\n",
            "\u001b[34m\u001b[1mwandb\u001b[0m: \tbatch_size: 8\n",
            "\u001b[34m\u001b[1mwandb\u001b[0m: \tepochs: 10\n",
            "\u001b[34m\u001b[1mwandb\u001b[0m: \tlearning_rate: 0.09372094306962296\n",
            "\u001b[34m\u001b[1mwandb\u001b[0m: \toptimizer: adam\n"
          ]
        },
        {
          "output_type": "display_data",
          "data": {
            "text/plain": [
              "<IPython.core.display.HTML object>"
            ],
            "text/html": [
              "Tracking run with wandb version 0.16.0"
            ]
          },
          "metadata": {}
        },
        {
          "output_type": "display_data",
          "data": {
            "text/plain": [
              "<IPython.core.display.HTML object>"
            ],
            "text/html": [
              "Run data is saved locally in <code>/content/wandb/run-20231203_181705-ooatqioc</code>"
            ]
          },
          "metadata": {}
        },
        {
          "output_type": "display_data",
          "data": {
            "text/plain": [
              "<IPython.core.display.HTML object>"
            ],
            "text/html": [
              "Syncing run <strong><a href='https://wandb.ai/gugi200/test-wandb-sweep/runs/ooatqioc' target=\"_blank\">copper-sweep-3</a></strong> to <a href='https://wandb.ai/gugi200/test-wandb-sweep' target=\"_blank\">Weights & Biases</a> (<a href='https://wandb.me/run' target=\"_blank\">docs</a>)<br/>Sweep page: <a href='https://wandb.ai/gugi200/test-wandb-sweep/sweeps/nj6s323g' target=\"_blank\">https://wandb.ai/gugi200/test-wandb-sweep/sweeps/nj6s323g</a>"
            ]
          },
          "metadata": {}
        },
        {
          "output_type": "display_data",
          "data": {
            "text/plain": [
              "<IPython.core.display.HTML object>"
            ],
            "text/html": [
              " View project at <a href='https://wandb.ai/gugi200/test-wandb-sweep' target=\"_blank\">https://wandb.ai/gugi200/test-wandb-sweep</a>"
            ]
          },
          "metadata": {}
        },
        {
          "output_type": "display_data",
          "data": {
            "text/plain": [
              "<IPython.core.display.HTML object>"
            ],
            "text/html": [
              " View sweep at <a href='https://wandb.ai/gugi200/test-wandb-sweep/sweeps/nj6s323g' target=\"_blank\">https://wandb.ai/gugi200/test-wandb-sweep/sweeps/nj6s323g</a>"
            ]
          },
          "metadata": {}
        },
        {
          "output_type": "display_data",
          "data": {
            "text/plain": [
              "<IPython.core.display.HTML object>"
            ],
            "text/html": [
              " View run at <a href='https://wandb.ai/gugi200/test-wandb-sweep/runs/ooatqioc' target=\"_blank\">https://wandb.ai/gugi200/test-wandb-sweep/runs/ooatqioc</a>"
            ]
          },
          "metadata": {}
        },
        {
          "output_type": "stream",
          "name": "stdout",
          "text": [
            "Train loss: 1.3963255882263184, Train acc: 52.9000%\n",
            "Test loss: 1.2870  |  Test acc: 54.2969%\n",
            "Train loss: 1.001254677772522, Train acc: 65.4000%\n",
            "Test loss: 1.1479  |  Test acc: 51.5625%\n",
            "Train loss: 0.9579986929893494, Train acc: 65.2000%\n",
            "Test loss: 1.5766  |  Test acc: 65.6250%\n",
            "Train loss: 0.7915781140327454, Train acc: 69.4000%\n",
            "Test loss: 0.9266  |  Test acc: 66.0156%\n",
            "Train loss: 0.763116717338562, Train acc: 73.7000%\n",
            "Test loss: 0.9922  |  Test acc: 64.8438%\n",
            "Train loss: 0.7809710502624512, Train acc: 72.9000%\n",
            "Test loss: 0.6763  |  Test acc: 68.7500%\n",
            "Train loss: 0.7237460017204285, Train acc: 73.6000%\n",
            "Test loss: 0.7810  |  Test acc: 74.6094%\n",
            "Train loss: 0.6156534552574158, Train acc: 77.8000%\n",
            "Test loss: 0.7760  |  Test acc: 74.2188%\n",
            "Train loss: 0.6199691891670227, Train acc: 77.0000%\n",
            "Test loss: 0.7663  |  Test acc: 74.6094%\n",
            "Train loss: 0.5744861960411072, Train acc: 78.0000%\n",
            "Test loss: 0.8385  |  Test acc: 71.4844%\n"
          ]
        },
        {
          "output_type": "display_data",
          "data": {
            "text/plain": [
              "VBox(children=(Label(value='0.001 MB of 0.001 MB uploaded\\r'), FloatProgress(value=1.0, max=1.0)))"
            ],
            "application/vnd.jupyter.widget-view+json": {
              "version_major": 2,
              "version_minor": 0,
              "model_id": "1038533733f2427394c8cf03dd05e93e"
            }
          },
          "metadata": {}
        },
        {
          "output_type": "display_data",
          "data": {
            "text/plain": [
              "<IPython.core.display.HTML object>"
            ],
            "text/html": [
              "<style>\n",
              "    table.wandb td:nth-child(1) { padding: 0 10px; text-align: left ; width: auto;} td:nth-child(2) {text-align: left ; width: 100%}\n",
              "    .wandb-row { display: flex; flex-direction: row; flex-wrap: wrap; justify-content: flex-start; width: 100% }\n",
              "    .wandb-col { display: flex; flex-direction: column; flex-basis: 100%; flex: 1; padding: 10px; }\n",
              "    </style>\n",
              "<div class=\"wandb-row\"><div class=\"wandb-col\"><h3>Run history:</h3><br/><table class=\"wandb\"><tr><td>accuracy</td><td>▂▂▁▃▆▆▅▅▃▂▇▆▆▅▆▇▇█▅▅▇▇▆▆▅▆▅█▅▆▅▃▅▇▇▆▆▆▇▆</td></tr><tr><td>average test batch loss</td><td>█▅▄▃▃▃▂▁▁▁</td></tr><tr><td>average test batch metric</td><td>▂▁▅▅▅▆███▇</td></tr><tr><td>average train batch loss</td><td>█▅▄▃▃▃▂▁▁▁</td></tr><tr><td>average train batch metric</td><td>▂▁▅▅▅▆███▇</td></tr><tr><td>epoch</td><td>▁▂▃▃▄▅▆▆▇█</td></tr><tr><td>loss</td><td>▄▅▆█▃▄▂▂▄▃▂▄▂▃▁▃▁▁▂▄▁▁▄▂▄▃▂▁▃▃▂▄▂▁▁▂▁▁▁▁</td></tr><tr><td>test accuracy</td><td>▂▄▄▁▂▄▅▂▅▁▁▅▅▂▅▄▄▁▁▄▄█▄▄▅▅▅▇█▇▅▅▇█▄▅▇█▅█</td></tr><tr><td>test loss</td><td>▃▃▄▃▄▃▃▃▃█▅▃▂▃▂▃▂▃▄▂▂▂▂▃▃▂▃▃▁▂▂▂▂▁▃▂▂▁▂▁</td></tr><tr><td>train time</td><td>▁</td></tr></table><br/></div><div class=\"wandb-col\"><h3>Run summary:</h3><br/><table class=\"wandb\"><tr><td>accuracy</td><td>0.5</td></tr><tr><td>average test batch loss</td><td>0.57449</td></tr><tr><td>average test batch metric</td><td>0.71484</td></tr><tr><td>average train batch loss</td><td>0.57449</td></tr><tr><td>average train batch metric</td><td>0.71484</td></tr><tr><td>epoch</td><td>9</td></tr><tr><td>loss</td><td>1.20721</td></tr><tr><td>test accuracy</td><td>1.0</td></tr><tr><td>test loss</td><td>0.01221</td></tr><tr><td>train time</td><td>64.71716</td></tr></table><br/></div></div>"
            ]
          },
          "metadata": {}
        },
        {
          "output_type": "display_data",
          "data": {
            "text/plain": [
              "<IPython.core.display.HTML object>"
            ],
            "text/html": [
              " View run <strong style=\"color:#cdcd00\">copper-sweep-3</strong> at: <a href='https://wandb.ai/gugi200/test-wandb-sweep/runs/ooatqioc' target=\"_blank\">https://wandb.ai/gugi200/test-wandb-sweep/runs/ooatqioc</a><br/>Synced 5 W&B file(s), 0 media file(s), 0 artifact file(s) and 0 other file(s)"
            ]
          },
          "metadata": {}
        },
        {
          "output_type": "display_data",
          "data": {
            "text/plain": [
              "<IPython.core.display.HTML object>"
            ],
            "text/html": [
              "Find logs at: <code>./wandb/run-20231203_181705-ooatqioc/logs</code>"
            ]
          },
          "metadata": {}
        },
        {
          "output_type": "stream",
          "name": "stderr",
          "text": [
            "\u001b[34m\u001b[1mwandb\u001b[0m: Agent Starting Run: pr7u0mkh with config:\n",
            "\u001b[34m\u001b[1mwandb\u001b[0m: \tbatch_size: 24\n",
            "\u001b[34m\u001b[1mwandb\u001b[0m: \tepochs: 10\n",
            "\u001b[34m\u001b[1mwandb\u001b[0m: \tlearning_rate: 0.05155582879889984\n",
            "\u001b[34m\u001b[1mwandb\u001b[0m: \toptimizer: adam\n"
          ]
        },
        {
          "output_type": "display_data",
          "data": {
            "text/plain": [
              "<IPython.core.display.HTML object>"
            ],
            "text/html": [
              "Tracking run with wandb version 0.16.0"
            ]
          },
          "metadata": {}
        },
        {
          "output_type": "display_data",
          "data": {
            "text/plain": [
              "<IPython.core.display.HTML object>"
            ],
            "text/html": [
              "Run data is saved locally in <code>/content/wandb/run-20231203_181822-pr7u0mkh</code>"
            ]
          },
          "metadata": {}
        },
        {
          "output_type": "display_data",
          "data": {
            "text/plain": [
              "<IPython.core.display.HTML object>"
            ],
            "text/html": [
              "Syncing run <strong><a href='https://wandb.ai/gugi200/test-wandb-sweep/runs/pr7u0mkh' target=\"_blank\">deep-sweep-4</a></strong> to <a href='https://wandb.ai/gugi200/test-wandb-sweep' target=\"_blank\">Weights & Biases</a> (<a href='https://wandb.me/run' target=\"_blank\">docs</a>)<br/>Sweep page: <a href='https://wandb.ai/gugi200/test-wandb-sweep/sweeps/nj6s323g' target=\"_blank\">https://wandb.ai/gugi200/test-wandb-sweep/sweeps/nj6s323g</a>"
            ]
          },
          "metadata": {}
        },
        {
          "output_type": "display_data",
          "data": {
            "text/plain": [
              "<IPython.core.display.HTML object>"
            ],
            "text/html": [
              " View project at <a href='https://wandb.ai/gugi200/test-wandb-sweep' target=\"_blank\">https://wandb.ai/gugi200/test-wandb-sweep</a>"
            ]
          },
          "metadata": {}
        },
        {
          "output_type": "display_data",
          "data": {
            "text/plain": [
              "<IPython.core.display.HTML object>"
            ],
            "text/html": [
              " View sweep at <a href='https://wandb.ai/gugi200/test-wandb-sweep/sweeps/nj6s323g' target=\"_blank\">https://wandb.ai/gugi200/test-wandb-sweep/sweeps/nj6s323g</a>"
            ]
          },
          "metadata": {}
        },
        {
          "output_type": "display_data",
          "data": {
            "text/plain": [
              "<IPython.core.display.HTML object>"
            ],
            "text/html": [
              " View run at <a href='https://wandb.ai/gugi200/test-wandb-sweep/runs/pr7u0mkh' target=\"_blank\">https://wandb.ai/gugi200/test-wandb-sweep/runs/pr7u0mkh</a>"
            ]
          },
          "metadata": {}
        },
        {
          "output_type": "stream",
          "name": "stdout",
          "text": [
            "Train loss: 0.4895830750465393, Train acc: 80.8036%\n",
            "Test loss: 0.5842  |  Test acc: 81.0606%\n",
            "Train loss: 0.38838091492652893, Train acc: 85.8135%\n",
            "Test loss: 0.8085  |  Test acc: 76.5909%\n",
            "Train loss: 0.3844195306301117, Train acc: 86.1111%\n",
            "Test loss: 0.6971  |  Test acc: 78.1818%\n",
            "Train loss: 0.3500750958919525, Train acc: 86.4087%\n",
            "Test loss: 0.6986  |  Test acc: 78.2576%\n",
            "Train loss: 0.34397390484809875, Train acc: 86.4087%\n",
            "Test loss: 0.7259  |  Test acc: 78.3334%\n",
            "Train loss: 0.3370615541934967, Train acc: 86.5575%\n",
            "Test loss: 0.6451  |  Test acc: 78.7121%\n",
            "Train loss: 0.3622564971446991, Train acc: 86.3591%\n",
            "Test loss: 0.7068  |  Test acc: 80.3030%\n",
            "Train loss: 0.26588305830955505, Train acc: 89.7817%\n",
            "Test loss: 0.6477  |  Test acc: 80.3788%\n",
            "Train loss: 0.2794995903968811, Train acc: 90.1786%\n",
            "Test loss: 0.7107  |  Test acc: 79.4697%\n",
            "Train loss: 0.24229305982589722, Train acc: 90.1786%\n",
            "Test loss: 0.7336  |  Test acc: 80.7576%\n"
          ]
        },
        {
          "output_type": "display_data",
          "data": {
            "text/plain": [
              "VBox(children=(Label(value='0.001 MB of 0.001 MB uploaded\\r'), FloatProgress(value=1.0, max=1.0)))"
            ],
            "application/vnd.jupyter.widget-view+json": {
              "version_major": 2,
              "version_minor": 0,
              "model_id": "ff98d8c6b03f48efad0d804817083984"
            }
          },
          "metadata": {}
        },
        {
          "output_type": "display_data",
          "data": {
            "text/plain": [
              "<IPython.core.display.HTML object>"
            ],
            "text/html": [
              "<style>\n",
              "    table.wandb td:nth-child(1) { padding: 0 10px; text-align: left ; width: auto;} td:nth-child(2) {text-align: left ; width: 100%}\n",
              "    .wandb-row { display: flex; flex-direction: row; flex-wrap: wrap; justify-content: flex-start; width: 100% }\n",
              "    .wandb-col { display: flex; flex-direction: column; flex-basis: 100%; flex: 1; padding: 10px; }\n",
              "    </style>\n",
              "<div class=\"wandb-row\"><div class=\"wandb-col\"><h3>Run history:</h3><br/><table class=\"wandb\"><tr><td>accuracy</td><td>▅▁▄▅▆▆▆▄▃▅▆▆▅▆▄▆▆▃▇▆▆▆▄▃▆▄▅▇▇▅▃▆▆█▆▆▆▅█▃</td></tr><tr><td>average test batch loss</td><td>█▅▅▄▄▄▄▂▂▁</td></tr><tr><td>average test batch metric</td><td>█▁▃▄▄▄▇▇▆█</td></tr><tr><td>average train batch loss</td><td>█▅▅▄▄▄▄▂▂▁</td></tr><tr><td>average train batch metric</td><td>█▁▃▄▄▄▇▇▆█</td></tr><tr><td>epoch</td><td>▁▂▃▃▄▅▆▆▇█</td></tr><tr><td>loss</td><td>▃█▄▄▃▅▃▄▅▅▄▂▃▃▅▃▃█▂▃▃▂▅▄▂▅▄▂▁▄▄▃▃▁▃▃▂▄▁▃</td></tr><tr><td>test accuracy</td><td>▆▃▃▆▅▂▅▄▆▆▂▅▁▃▃▃▄▄▅▅▆▆▂▅▃▃▆▆█▄█▄▆▃▆▂▅▇▄▄</td></tr><tr><td>test loss</td><td>▂▅▅▅▃▇▄▃▂▃▃▃▆▄▇▄▅▅█▃▃▆▆▄▆▇▂▃▂▇▁▃▇▄▆▄▃▂█▇</td></tr><tr><td>train time</td><td>▁</td></tr></table><br/></div><div class=\"wandb-col\"><h3>Run summary:</h3><br/><table class=\"wandb\"><tr><td>accuracy</td><td>0.75</td></tr><tr><td>average test batch loss</td><td>0.24229</td></tr><tr><td>average test batch metric</td><td>0.80758</td></tr><tr><td>average train batch loss</td><td>0.24229</td></tr><tr><td>average train batch metric</td><td>0.80758</td></tr><tr><td>epoch</td><td>9</td></tr><tr><td>loss</td><td>0.28169</td></tr><tr><td>test accuracy</td><td>0.8</td></tr><tr><td>test loss</td><td>0.97968</td></tr><tr><td>train time</td><td>51.65768</td></tr></table><br/></div></div>"
            ]
          },
          "metadata": {}
        },
        {
          "output_type": "display_data",
          "data": {
            "text/plain": [
              "<IPython.core.display.HTML object>"
            ],
            "text/html": [
              " View run <strong style=\"color:#cdcd00\">deep-sweep-4</strong> at: <a href='https://wandb.ai/gugi200/test-wandb-sweep/runs/pr7u0mkh' target=\"_blank\">https://wandb.ai/gugi200/test-wandb-sweep/runs/pr7u0mkh</a><br/>Synced 5 W&B file(s), 0 media file(s), 0 artifact file(s) and 0 other file(s)"
            ]
          },
          "metadata": {}
        },
        {
          "output_type": "display_data",
          "data": {
            "text/plain": [
              "<IPython.core.display.HTML object>"
            ],
            "text/html": [
              "Find logs at: <code>./wandb/run-20231203_181822-pr7u0mkh/logs</code>"
            ]
          },
          "metadata": {}
        },
        {
          "output_type": "stream",
          "name": "stderr",
          "text": [
            "\u001b[34m\u001b[1mwandb\u001b[0m: Agent Starting Run: an3hnvga with config:\n",
            "\u001b[34m\u001b[1mwandb\u001b[0m: \tbatch_size: 24\n",
            "\u001b[34m\u001b[1mwandb\u001b[0m: \tepochs: 10\n",
            "\u001b[34m\u001b[1mwandb\u001b[0m: \tlearning_rate: 0.0056541902994795895\n",
            "\u001b[34m\u001b[1mwandb\u001b[0m: \toptimizer: adam\n"
          ]
        },
        {
          "output_type": "display_data",
          "data": {
            "text/plain": [
              "<IPython.core.display.HTML object>"
            ],
            "text/html": [
              "Tracking run with wandb version 0.16.0"
            ]
          },
          "metadata": {}
        },
        {
          "output_type": "display_data",
          "data": {
            "text/plain": [
              "<IPython.core.display.HTML object>"
            ],
            "text/html": [
              "Run data is saved locally in <code>/content/wandb/run-20231203_181923-an3hnvga</code>"
            ]
          },
          "metadata": {}
        },
        {
          "output_type": "display_data",
          "data": {
            "text/plain": [
              "<IPython.core.display.HTML object>"
            ],
            "text/html": [
              "Syncing run <strong><a href='https://wandb.ai/gugi200/test-wandb-sweep/runs/an3hnvga' target=\"_blank\">lilac-sweep-5</a></strong> to <a href='https://wandb.ai/gugi200/test-wandb-sweep' target=\"_blank\">Weights & Biases</a> (<a href='https://wandb.me/run' target=\"_blank\">docs</a>)<br/>Sweep page: <a href='https://wandb.ai/gugi200/test-wandb-sweep/sweeps/nj6s323g' target=\"_blank\">https://wandb.ai/gugi200/test-wandb-sweep/sweeps/nj6s323g</a>"
            ]
          },
          "metadata": {}
        },
        {
          "output_type": "display_data",
          "data": {
            "text/plain": [
              "<IPython.core.display.HTML object>"
            ],
            "text/html": [
              " View project at <a href='https://wandb.ai/gugi200/test-wandb-sweep' target=\"_blank\">https://wandb.ai/gugi200/test-wandb-sweep</a>"
            ]
          },
          "metadata": {}
        },
        {
          "output_type": "display_data",
          "data": {
            "text/plain": [
              "<IPython.core.display.HTML object>"
            ],
            "text/html": [
              " View sweep at <a href='https://wandb.ai/gugi200/test-wandb-sweep/sweeps/nj6s323g' target=\"_blank\">https://wandb.ai/gugi200/test-wandb-sweep/sweeps/nj6s323g</a>"
            ]
          },
          "metadata": {}
        },
        {
          "output_type": "display_data",
          "data": {
            "text/plain": [
              "<IPython.core.display.HTML object>"
            ],
            "text/html": [
              " View run at <a href='https://wandb.ai/gugi200/test-wandb-sweep/runs/an3hnvga' target=\"_blank\">https://wandb.ai/gugi200/test-wandb-sweep/runs/an3hnvga</a>"
            ]
          },
          "metadata": {}
        },
        {
          "output_type": "stream",
          "name": "stdout",
          "text": [
            "Train loss: 0.1915268748998642, Train acc: 93.2540%\n",
            "Test loss: 0.6527  |  Test acc: 83.0303%\n",
            "Train loss: 0.14303115010261536, Train acc: 94.9405%\n",
            "Test loss: 0.6791  |  Test acc: 81.5152%\n",
            "Train loss: 0.14292024075984955, Train acc: 94.5437%\n",
            "Test loss: 0.6731  |  Test acc: 80.6818%\n",
            "Train loss: 0.1311219334602356, Train acc: 95.8829%\n",
            "Test loss: 0.6931  |  Test acc: 82.9546%\n",
            "Train loss: 0.1267806440591812, Train acc: 95.7341%\n",
            "Test loss: 0.7457  |  Test acc: 82.6515%\n",
            "Train loss: 0.11960505694150925, Train acc: 96.1805%\n",
            "Test loss: 0.7100  |  Test acc: 82.9546%\n",
            "Train loss: 0.10811977088451385, Train acc: 96.9246%\n",
            "Test loss: 0.7440  |  Test acc: 80.8333%\n",
            "Train loss: 0.09895532578229904, Train acc: 97.2222%\n",
            "Test loss: 0.7486  |  Test acc: 82.4242%\n",
            "Train loss: 0.09453745931386948, Train acc: 97.4702%\n",
            "Test loss: 0.7391  |  Test acc: 82.0455%\n",
            "Train loss: 0.09670515358448029, Train acc: 96.9742%\n",
            "Test loss: 0.8249  |  Test acc: 80.4546%\n"
          ]
        },
        {
          "output_type": "display_data",
          "data": {
            "text/plain": [
              "VBox(children=(Label(value='0.001 MB of 0.001 MB uploaded\\r'), FloatProgress(value=1.0, max=1.0)))"
            ],
            "application/vnd.jupyter.widget-view+json": {
              "version_major": 2,
              "version_minor": 0,
              "model_id": "384759cb2def47ac8d6e718d108552f3"
            }
          },
          "metadata": {}
        },
        {
          "output_type": "display_data",
          "data": {
            "text/plain": [
              "<IPython.core.display.HTML object>"
            ],
            "text/html": [
              "<style>\n",
              "    table.wandb td:nth-child(1) { padding: 0 10px; text-align: left ; width: auto;} td:nth-child(2) {text-align: left ; width: 100%}\n",
              "    .wandb-row { display: flex; flex-direction: row; flex-wrap: wrap; justify-content: flex-start; width: 100% }\n",
              "    .wandb-col { display: flex; flex-direction: column; flex-basis: 100%; flex: 1; padding: 10px; }\n",
              "    </style>\n",
              "<div class=\"wandb-row\"><div class=\"wandb-col\"><h3>Run history:</h3><br/><table class=\"wandb\"><tr><td>accuracy</td><td>▅▇▇▇█▇▇█▁▇▇▅████▇▅▇▇▇▅▅▇█▇▇███▇▇███████▆</td></tr><tr><td>average test batch loss</td><td>█▄▄▄▃▃▂▁▁▁</td></tr><tr><td>average test batch metric</td><td>█▄▂█▇█▂▆▅▁</td></tr><tr><td>average train batch loss</td><td>█▄▄▄▃▃▂▁▁▁</td></tr><tr><td>average train batch metric</td><td>█▄▂█▇█▂▆▅▁</td></tr><tr><td>epoch</td><td>▁▂▃▃▄▅▆▆▇█</td></tr><tr><td>loss</td><td>▇▆▄▅▂▅▆▁█▃▃▆▂▃▂▁▃▄▅▃▃▄▆▇▃▃▃▁▃▂▃▃▁▁▂▂▂▂▃▄</td></tr><tr><td>test accuracy</td><td>▆▇▅▇▃▅▅▆▂▅▆▆▇▆▆▄▃▆▄▆▁▄▇█▅▃▇▆▇▇▃▆▆▃▆▆▇▆█▁</td></tr><tr><td>test loss</td><td>▃▃▃▁▃▃▅▁▄▂▄▂▂▃▃▄▄▂▅▃█▃▂▁▂▆▁▃▂▃▄▂▃▄▃▄▄▄▁▄</td></tr><tr><td>train time</td><td>▁</td></tr></table><br/></div><div class=\"wandb-col\"><h3>Run summary:</h3><br/><table class=\"wandb\"><tr><td>accuracy</td><td>0.9375</td></tr><tr><td>average test batch loss</td><td>0.09671</td></tr><tr><td>average test batch metric</td><td>0.80455</td></tr><tr><td>average train batch loss</td><td>0.09671</td></tr><tr><td>average train batch metric</td><td>0.80455</td></tr><tr><td>epoch</td><td>9</td></tr><tr><td>loss</td><td>0.12621</td></tr><tr><td>test accuracy</td><td>0.6</td></tr><tr><td>test loss</td><td>1.10185</td></tr><tr><td>train time</td><td>51.54548</td></tr></table><br/></div></div>"
            ]
          },
          "metadata": {}
        },
        {
          "output_type": "display_data",
          "data": {
            "text/plain": [
              "<IPython.core.display.HTML object>"
            ],
            "text/html": [
              " View run <strong style=\"color:#cdcd00\">lilac-sweep-5</strong> at: <a href='https://wandb.ai/gugi200/test-wandb-sweep/runs/an3hnvga' target=\"_blank\">https://wandb.ai/gugi200/test-wandb-sweep/runs/an3hnvga</a><br/>Synced 5 W&B file(s), 0 media file(s), 0 artifact file(s) and 0 other file(s)"
            ]
          },
          "metadata": {}
        },
        {
          "output_type": "display_data",
          "data": {
            "text/plain": [
              "<IPython.core.display.HTML object>"
            ],
            "text/html": [
              "Find logs at: <code>./wandb/run-20231203_181923-an3hnvga/logs</code>"
            ]
          },
          "metadata": {}
        }
      ]
    }
  ]
}