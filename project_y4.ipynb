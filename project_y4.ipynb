{
  "cells": [
    {
      "cell_type": "markdown",
      "metadata": {
        "id": "view-in-github",
        "colab_type": "text"
      },
      "source": [
        "<a href=\"https://colab.research.google.com/github/gugi200/final_project/blob/main/project_y4.ipynb\" target=\"_parent\"><img src=\"https://colab.research.google.com/assets/colab-badge.svg\" alt=\"Open In Colab\"/></a>"
      ]
    },
    {
      "cell_type": "code",
      "execution_count": 1,
      "metadata": {
        "colab": {
          "base_uri": "https://localhost:8080/"
        },
        "id": "9fPEEWR_bLQM",
        "outputId": "4faf3630-0d38-46ae-ebcf-8fe04fabd581"
      },
      "outputs": [
        {
          "output_type": "stream",
          "name": "stdout",
          "text": [
            "\u001b[2K     \u001b[90m━━━━━━━━━━━━━━━━━━━━━━━━━━━━━━━━━━━━━━━━\u001b[0m \u001b[32m2.2/2.2 MB\u001b[0m \u001b[31m8.7 MB/s\u001b[0m eta \u001b[36m0:00:00\u001b[0m\n",
            "\u001b[2K     \u001b[90m━━━━━━━━━━━━━━━━━━━━━━━━━━━━━━━━━━━━━━━━\u001b[0m \u001b[32m196.4/196.4 kB\u001b[0m \u001b[31m6.7 MB/s\u001b[0m eta \u001b[36m0:00:00\u001b[0m\n",
            "\u001b[2K     \u001b[90m━━━━━━━━━━━━━━━━━━━━━━━━━━━━━━━━━━━━━━━━\u001b[0m \u001b[32m254.1/254.1 kB\u001b[0m \u001b[31m5.5 MB/s\u001b[0m eta \u001b[36m0:00:00\u001b[0m\n",
            "\u001b[2K     \u001b[90m━━━━━━━━━━━━━━━━━━━━━━━━━━━━━━━━━━━━━━━━\u001b[0m \u001b[32m62.7/62.7 kB\u001b[0m \u001b[31m2.3 MB/s\u001b[0m eta \u001b[36m0:00:00\u001b[0m\n",
            "\u001b[?25h\u001b[34m\u001b[1mwandb\u001b[0m: Appending key for api.wandb.ai to your netrc file: /root/.netrc\n"
          ]
        }
      ],
      "source": [
        "!pip install wandb -qU\n",
        "!wandb login 3014974e724f01c4d63f956fa13fd7f0463e16d4"
      ]
    },
    {
      "cell_type": "code",
      "execution_count": 2,
      "metadata": {
        "colab": {
          "base_uri": "https://localhost:8080/"
        },
        "id": "6e6hoTgn0dab",
        "outputId": "5280b647-7595-4447-b9ba-06dda905e010"
      },
      "outputs": [
        {
          "output_type": "stream",
          "name": "stdout",
          "text": [
            "Collecting torchmetrics\n",
            "  Downloading torchmetrics-1.3.0.post0-py3-none-any.whl (840 kB)\n",
            "\u001b[2K     \u001b[90m━━━━━━━━━━━━━━━━━━━━━━━━━━━━━━━━━━━━━━━━\u001b[0m \u001b[32m840.2/840.2 kB\u001b[0m \u001b[31m4.1 MB/s\u001b[0m eta \u001b[36m0:00:00\u001b[0m\n",
            "\u001b[?25hRequirement already satisfied: numpy>1.20.0 in /usr/local/lib/python3.10/dist-packages (from torchmetrics) (1.23.5)\n",
            "Requirement already satisfied: packaging>17.1 in /usr/local/lib/python3.10/dist-packages (from torchmetrics) (23.2)\n",
            "Requirement already satisfied: torch>=1.10.0 in /usr/local/lib/python3.10/dist-packages (from torchmetrics) (2.1.0+cu121)\n",
            "Collecting lightning-utilities>=0.8.0 (from torchmetrics)\n",
            "  Downloading lightning_utilities-0.10.1-py3-none-any.whl (24 kB)\n",
            "Requirement already satisfied: setuptools in /usr/local/lib/python3.10/dist-packages (from lightning-utilities>=0.8.0->torchmetrics) (67.7.2)\n",
            "Requirement already satisfied: typing-extensions in /usr/local/lib/python3.10/dist-packages (from lightning-utilities>=0.8.0->torchmetrics) (4.5.0)\n",
            "Requirement already satisfied: filelock in /usr/local/lib/python3.10/dist-packages (from torch>=1.10.0->torchmetrics) (3.13.1)\n",
            "Requirement already satisfied: sympy in /usr/local/lib/python3.10/dist-packages (from torch>=1.10.0->torchmetrics) (1.12)\n",
            "Requirement already satisfied: networkx in /usr/local/lib/python3.10/dist-packages (from torch>=1.10.0->torchmetrics) (3.2.1)\n",
            "Requirement already satisfied: jinja2 in /usr/local/lib/python3.10/dist-packages (from torch>=1.10.0->torchmetrics) (3.1.3)\n",
            "Requirement already satisfied: fsspec in /usr/local/lib/python3.10/dist-packages (from torch>=1.10.0->torchmetrics) (2023.6.0)\n",
            "Requirement already satisfied: triton==2.1.0 in /usr/local/lib/python3.10/dist-packages (from torch>=1.10.0->torchmetrics) (2.1.0)\n",
            "Requirement already satisfied: MarkupSafe>=2.0 in /usr/local/lib/python3.10/dist-packages (from jinja2->torch>=1.10.0->torchmetrics) (2.1.3)\n",
            "Requirement already satisfied: mpmath>=0.19 in /usr/local/lib/python3.10/dist-packages (from sympy->torch>=1.10.0->torchmetrics) (1.3.0)\n",
            "Installing collected packages: lightning-utilities, torchmetrics\n",
            "Successfully installed lightning-utilities-0.10.1 torchmetrics-1.3.0.post0\n",
            "mlxtend                          0.22.0\n"
          ]
        }
      ],
      "source": [
        "!pip install torchmetrics\n",
        "!pip install mlxtend>=0.19.0\n",
        "\n",
        "!pip list | grep mlx"
      ]
    },
    {
      "cell_type": "code",
      "execution_count": 3,
      "metadata": {
        "colab": {
          "base_uri": "https://localhost:8080/",
          "height": 70
        },
        "id": "BcHKsWKH6e5u",
        "outputId": "70f4dbee-8375-4c06-cd9f-b9f39c184403"
      },
      "outputs": [
        {
          "output_type": "stream",
          "name": "stdout",
          "text": [
            "2.1.0+cu121\n",
            "0.16.0+cu121\n"
          ]
        },
        {
          "output_type": "execute_result",
          "data": {
            "text/plain": [
              "'cpu'"
            ],
            "application/vnd.google.colaboratory.intrinsic+json": {
              "type": "string"
            }
          },
          "metadata": {},
          "execution_count": 3
        }
      ],
      "source": [
        "#\n",
        "#   Michael Gugala\n",
        "#   02/12/2023\n",
        "#   Image recognition\n",
        "#   Master 4th year project\n",
        "#   Univeristy of Bristol\n",
        "#\n",
        "\n",
        "import pandas as pd\n",
        "import numpy as np\n",
        "import matplotlib.pyplot as plt\n",
        "\n",
        "import torch\n",
        "from torch import nn\n",
        "\n",
        "import torchvision\n",
        "from torchvision import datasets#\n",
        "from torch.utils.data import DataLoader\n",
        "from torchvision import transforms\n",
        "from torchvision import datasets\n",
        "from torchvision.transforms import ToTensor\n",
        "import torchmetrics\n",
        "from torchvision.models import resnet50, ResNet50_Weights\n",
        "from torchmetrics import ConfusionMatrix\n",
        "from mlxtend.plotting import plot_confusion_matrix\n",
        "from sklearn.utils import Bunch\n",
        "\n",
        "from PIL import Image\n",
        "\n",
        "import requests\n",
        "import random\n",
        "import shutil\n",
        "import zipfile\n",
        "from pathlib import Path\n",
        "from io import BytesIO, StringIO\n",
        "import os\n",
        "\n",
        "import wandb\n",
        "import cv2\n",
        "from timeit import default_timer as timer\n",
        "from tqdm.auto import tqdm\n",
        "\n",
        "# check imports\n",
        "print(torch.__version__)\n",
        "print(torchvision.__version__)\n",
        "\n",
        "#agnostic code\n",
        "device = 'cuda' if torch.cuda.is_available() else 'cpu'\n",
        "device"
      ]
    },
    {
      "cell_type": "markdown",
      "metadata": {
        "id": "TXJp_45OUSmZ"
      },
      "source": [
        "# Download test data"
      ]
    },
    {
      "cell_type": "code",
      "execution_count": null,
      "metadata": {
        "id": "sqwRi8QwUUts"
      },
      "outputs": [],
      "source": [
        "# downloiad test data\n",
        "from torchvision.datasets import FashionMNIST\n",
        "from torchvision import transforms\n",
        "\n",
        "train_data = FashionMNIST(\n",
        "    root='~/.pytorch/F_MNIST_data',\n",
        "    download=True,\n",
        "    train=True,\n",
        "    target_transform=None)\n",
        "\n",
        "test_data = FashionMNIST(\n",
        "    root='~/.pytorch/F_MNIST_data',\n",
        "    download=True,\n",
        "    train=False,\n",
        "    target_transform=None)\n",
        "\n",
        "class_names = [x.replace('/', '_').replace('-', '') for x in train_data.classes]\n",
        "\n",
        "transform = transforms.ToPILImage()"
      ]
    },
    {
      "cell_type": "markdown",
      "metadata": {
        "id": "PeB1BhOfUVfX"
      },
      "source": [
        "# download costom data"
      ]
    },
    {
      "cell_type": "code",
      "execution_count": 4,
      "metadata": {
        "id": "7JlCa1MUUYvw"
      },
      "outputs": [],
      "source": [
        "colabPath = Path(\"custom_dataset\")\n",
        "\n",
        "#  Create a dir\n",
        "if colabPath.is_dir():\n",
        "    print('directory already exists')\n",
        "else:\n",
        "    colabPath.mkdir(parents=True, exist_ok=True)\n",
        "\n",
        "# download zipped data\n",
        "with open(colabPath / \"dataset_pressure_sensor.zip\", \"wb\") as f:\n",
        "    request = requests.get(\"https://github.com/gugi200/final_project/raw/main/dataset_pressure_sensor.zip\")\n",
        "    f.write(request.content)\n",
        "\n",
        "\n",
        "# unzip the data\n",
        "with zipfile.ZipFile(colabPath / \"dataset_pressure_sensor.zip\", \"r\") as f:\n",
        "    f.extractall(colabPath)\n",
        "\n"
      ]
    },
    {
      "cell_type": "markdown",
      "metadata": {
        "id": "4GYRtyMdxAw_"
      },
      "source": [
        "## process the data - rotation, transpose & rotation - VISUALISATION"
      ]
    },
    {
      "cell_type": "code",
      "execution_count": 5,
      "metadata": {
        "id": "jWje5sM_9b_y",
        "colab": {
          "base_uri": "https://localhost:8080/",
          "height": 492
        },
        "outputId": "804f5016-d361-497b-8a26-6a41b79190e9"
      },
      "outputs": [
        {
          "output_type": "display_data",
          "data": {
            "text/plain": [
              "<Figure size 640x480 with 8 Axes>"
            ],
            "image/png": "[encoded data removed]"
          },
          "metadata": {}
        }
      ],
      "source": [
        "customDirPath = Path(\"custom_dataset/dataCollection1_sensor\")\n",
        "dirs = os.listdir(customDirPath)\n",
        "files = os.listdir(customDirPath / dirs[0])\n",
        "\n",
        "\n",
        "img = Image.open(customDirPath / dirs[0] / files[0])\n",
        "imgNp1 = np.asarray(img)\n",
        "imgNp1_T = np.transpose(imgNp1)\n",
        "\n",
        "imgNp2 = np.rot90(imgNp1)\n",
        "imgNp3 = np.rot90(imgNp2)\n",
        "imgNp4 = np.rot90(imgNp3)\n",
        "\n",
        "\n",
        "imgNp2_T = np.rot90(imgNp1_T)\n",
        "imgNp3_T = np.rot90(imgNp2_T)\n",
        "imgNp4_T = np.rot90(imgNp3_T)\n",
        "\n",
        "fig, ((ax1, ax2, ax3, ax4), (ax5, ax6, ax7, ax8)) = plt.subplots(2, 4, constrained_layout = True)\n",
        "\n",
        "ax1.imshow(imgNp1)\n",
        "ax2.imshow(imgNp2)\n",
        "ax3.imshow(imgNp3)\n",
        "ax4.imshow(imgNp4)\n",
        "ax6.imshow(imgNp1_T)\n",
        "ax5.imshow(imgNp2_T)\n",
        "ax8.imshow(imgNp3_T)\n",
        "ax7.imshow(imgNp4_T)\n",
        "ax1.axis('off')\n",
        "ax2.axis('off')\n",
        "ax3.axis('off')\n",
        "ax4.axis('off')\n",
        "ax6.axis('off')\n",
        "ax5.axis('off')\n",
        "ax8.axis('off')\n",
        "ax7.axis('off')\n",
        "ax1.set_title(\"Original data\\n\")\n",
        "ax2.set_title(\"Original data \\nrotated \\nby 270 deg\")\n",
        "ax3.set_title(\"Original data \\nrotated \\nby 180 deg\")\n",
        "ax4.set_title(\"Original data \\nrotated \\nby 90 deg\")\n",
        "ax6.set_title(\"Transposed \\ndata\\n\")\n",
        "ax5.set_title(\"Transposed \\ndata rotated \\nby 270 deg\")\n",
        "ax8.set_title(\"Transposed \\ndata rotated \\nby 180 deg\")\n",
        "ax7.set_title(\"Transposed \\ndata rotated \\nby 90 deg\")\n",
        "\n",
        "plt.show()"
      ]
    },
    {
      "cell_type": "code",
      "execution_count": null,
      "metadata": {
        "id": "d5cB4ZvSAjMH"
      },
      "outputs": [],
      "source": [
        "dirs"
      ]
    },
    {
      "cell_type": "markdown",
      "source": [
        "# Data multiplication"
      ],
      "metadata": {
        "id": "nqj8W9V1FdpY"
      }
    },
    {
      "cell_type": "code",
      "execution_count": 5,
      "metadata": {
        "colab": {
          "base_uri": "https://localhost:8080/"
        },
        "id": "Twbz1hWyxTk3",
        "outputId": "07bce20f-e234-4496-c937-e92c215b6935"
      },
      "outputs": [
        {
          "output_type": "stream",
          "name": "stdout",
          "text": [
            "mug 8520 1065 8520\n",
            "h_bottle 8136 1017 8136\n",
            "h_big_bottle 7824 978 7824\n",
            "small_fizzy 8320 1040 8320\n",
            "hand 8032 1004 8032\n",
            "big_fizzy 8032 1004 8032\n",
            "48864\n"
          ]
        }
      ],
      "source": [
        "\n",
        "customDirPath = Path(\"custom_dataset/dataCollection1_sensor\")\n",
        "dirs = os.listdir(customDirPath)\n",
        "\n",
        "\n",
        "#  Create a dir with processed data\n",
        "extendedDataPath = Path(\"extended_custom_dataset\")\n",
        "if extendedDataPath.is_dir():\n",
        "    print('directory already exists')\n",
        "else:\n",
        "    extendedDataPath.mkdir(parents=True, exist_ok=True)\n",
        "    for dir in dirs:\n",
        "        path = extendedDataPath / dir\n",
        "        path.mkdir(parents=True, exist_ok=True)\n",
        "\n",
        "\n",
        "\n",
        "index = 0\n",
        "for dir in dirs:\n",
        "    files = os.listdir(customDirPath / dir)\n",
        "\n",
        "    for file in files:\n",
        "        img = Image.open(customDirPath / dir / file)\n",
        "        imgNp = np.asarray(img)\n",
        "        imgNp_T = np.transpose(imgNp)\n",
        "\n",
        "        im = Image.fromarray(imgNp)\n",
        "        im.save(f\"{extendedDataPath}/{dir}/{dir}_{index}.jpg\")\n",
        "\n",
        "        im = Image.fromarray(imgNp_T)\n",
        "        im.save(f\"{extendedDataPath}/{dir}/{dir}_{index+1}.jpg\")\n",
        "        for i in range(3):\n",
        "            imgNp = np.rot90(imgNp)\n",
        "            imgNp_T = np.rot90(imgNp_T)\n",
        "\n",
        "            im = Image.fromarray(imgNp)\n",
        "            im.save(f\"{extendedDataPath}/{dir}/{dir}_{(index) + (2*(i+1))}.jpg\")\n",
        "\n",
        "            im = Image.fromarray(imgNp_T)\n",
        "            im.save(f\"{extendedDataPath}/{dir}/{dir}_{(index) + (2*(i+1)) + 1}.jpg\")\n",
        "\n",
        "        index += 8\n",
        "l = 0\n",
        "for dir in dirs:\n",
        "    l += len(os.listdir(extendedDataPath/dir))\n",
        "    print(dir, len(os.listdir(extendedDataPath/dir)), len(os.listdir(customDirPath/dir)), len(os.listdir(customDirPath/dir))*8)\n",
        "print(l)"
      ]
    },
    {
      "cell_type": "markdown",
      "metadata": {
        "id": "76viOTtKChYJ"
      },
      "source": [
        "## split the data into traina and test"
      ]
    },
    {
      "cell_type": "code",
      "execution_count": 6,
      "metadata": {
        "colab": {
          "base_uri": "https://localhost:8080/"
        },
        "id": "7rTAL_xuCldM",
        "outputId": "1a5c3fdd-437b-4c1b-fb1e-1b39f6b73f33"
      },
      "outputs": [
        {
          "output_type": "stream",
          "name": "stdout",
          "text": [
            "mug 6390\n",
            "h_bottle 6102\n",
            "h_big_bottle 5868\n",
            "small_fizzy 6240\n",
            "hand 6024\n",
            "big_fizzy 6024\n",
            "36648\n",
            "mug 2130\n",
            "h_bottle 2034\n",
            "h_big_bottle 1956\n",
            "small_fizzy 2080\n",
            "hand 2008\n",
            "big_fizzy 2008\n",
            "12216\n"
          ]
        }
      ],
      "source": [
        "TRAIN_RATIO = 0.75\n",
        "dirs = os.listdir(extendedDataPath)\n",
        "\n",
        "\n",
        "#  Create a dir for train and test data\n",
        "extendedTrain = Path(\"extended_train\")\n",
        "extendedTest = Path(\"extended_test\")\n",
        "if extendedTrain.is_dir():\n",
        "    print('directory already exists')\n",
        "else:\n",
        "    extendedTrain.mkdir(parents=True, exist_ok=True)\n",
        "    extendedTest.mkdir(parents=True, exist_ok=True)\n",
        "    for dir in dirs:\n",
        "        path = extendedTrain / dir\n",
        "        path.mkdir(parents=True, exist_ok=True)\n",
        "    for dir in dirs:\n",
        "        path = extendedTest / dir\n",
        "        path.mkdir(parents=True, exist_ok=True)\n",
        "\n",
        "for dir in dirs:\n",
        "    files = os.listdir(extendedDataPath / dir)\n",
        "    length = int(TRAIN_RATIO*len(files))\n",
        "    random.shuffle(files)\n",
        "\n",
        "    train_set = files[:length]\n",
        "    test_set = files[length:]\n",
        "\n",
        "    for data in train_set:\n",
        "        shutil.copy(extendedDataPath / dir / data, extendedTrain / dir / data)\n",
        "\n",
        "    for data in test_set:\n",
        "        shutil.copy(extendedDataPath / dir / data, extendedTest / dir / data)\n",
        "\n",
        "l = 0\n",
        "for dir in dirs:\n",
        "    l += len(os.listdir(extendedTrain/dir))\n",
        "    print(dir, len(os.listdir(extendedTrain/dir)))\n",
        "print(l)\n",
        "\n",
        "l = 0\n",
        "for dir in dirs:\n",
        "    l += len(os.listdir(extendedTest/dir))\n",
        "    print(dir, len(os.listdir(extendedTest/dir)))\n",
        "print(l)\n"
      ]
    },
    {
      "cell_type": "markdown",
      "source": [
        "# Create a small data subset for testing\n"
      ],
      "metadata": {
        "id": "XrfTEbLfEWlS"
      }
    },
    {
      "cell_type": "code",
      "source": [
        "!rm -R short_test short_train"
      ],
      "metadata": {
        "colab": {
          "base_uri": "https://localhost:8080/"
        },
        "id": "ryVZ8ZXrQkvf",
        "outputId": "762565ca-49ed-4ca0-cb80-3da1a54a4a76"
      },
      "execution_count": null,
      "outputs": [
        {
          "output_type": "stream",
          "name": "stdout",
          "text": [
            "rm: cannot remove 'short_test': No such file or directory\n",
            "rm: cannot remove 'short_train': No such file or directory\n"
          ]
        }
      ]
    },
    {
      "cell_type": "code",
      "source": [
        "\n",
        "TRAIN_LENGTH_PER_CLASS = 100\n",
        "TEST_LENGTH_PER_CLASS = 25\n",
        "dirs = os.listdir(extendedDataPath)\n",
        "\n",
        "\n",
        "#  Create a dir for train and test data\n",
        "shortTrain = Path(\"short_train\")\n",
        "shortTest = Path(\"short_test\")\n",
        "if shortTrain.is_dir():\n",
        "    print('directory already exists')\n",
        "else:\n",
        "    shortTrain.mkdir(parents=True, exist_ok=True)\n",
        "    shortTest.mkdir(parents=True, exist_ok=True)\n",
        "    for dir in dirs:\n",
        "        path = shortTrain / dir\n",
        "        path.mkdir(parents=True, exist_ok=True)\n",
        "    for dir in dirs:\n",
        "        path = shortTest / dir\n",
        "        path.mkdir(parents=True, exist_ok=True)\n",
        "\n",
        "for dir in dirs:\n",
        "    files = os.listdir(extendedDataPath / dir)\n",
        "    random.shuffle(files)\n",
        "\n",
        "    train_set = files[:TRAIN_LENGTH_PER_CLASS]\n",
        "    test_set = files[TRAIN_LENGTH_PER_CLASS:TRAIN_LENGTH_PER_CLASS+TEST_LENGTH_PER_CLASS]\n",
        "\n",
        "    for data in train_set:\n",
        "        shutil.copy(extendedDataPath / dir / data, shortTrain / dir / data)\n",
        "\n",
        "    for data in test_set:\n",
        "        shutil.copy(extendedDataPath / dir / data, shortTest / dir / data)\n",
        "\n",
        "l = 0\n",
        "for dir in dirs:\n",
        "    l += len(os.listdir(shortTrain/dir))\n",
        "    print(dir, len(os.listdir(shortTrain/dir)))\n",
        "print(l)\n",
        "\n",
        "l = 0\n",
        "for dir in dirs:\n",
        "    l += len(os.listdir(shortTest/dir))\n",
        "    print(dir, len(os.listdir(shortTest/dir)))\n",
        "print(l)\n"
      ],
      "metadata": {
        "colab": {
          "base_uri": "https://localhost:8080/"
        },
        "id": "eYEf5QFTEcj6",
        "outputId": "2de4c03a-ae8c-4525-d0b5-54612479dae5"
      },
      "execution_count": 8,
      "outputs": [
        {
          "output_type": "stream",
          "name": "stdout",
          "text": [
            "big_fizzy 100\n",
            "mug 100\n",
            "h_bottle 100\n",
            "small_fizzy 100\n",
            "h_big_bottle 100\n",
            "hand 100\n",
            "600\n",
            "big_fizzy 25\n",
            "mug 25\n",
            "h_bottle 25\n",
            "small_fizzy 25\n",
            "h_big_bottle 25\n",
            "hand 25\n",
            "150\n"
          ]
        }
      ]
    },
    {
      "cell_type": "markdown",
      "source": [
        "# split test dataset into dirs by class"
      ],
      "metadata": {
        "id": "ba8xX6ZxN5r1"
      }
    },
    {
      "cell_type": "code",
      "execution_count": 14,
      "metadata": {
        "id": "PHMRZ7zWOhJ9",
        "colab": {
          "base_uri": "https://localhost:8080/",
          "height": 262
        },
        "outputId": "dd12743a-a2cb-48c5-81ad-4f12e5c2ef3e"
      },
      "outputs": [
        {
          "output_type": "stream",
          "name": "stdout",
          "text": [
            "creating folder\n"
          ]
        },
        {
          "output_type": "error",
          "ename": "AttributeError",
          "evalue": "'ImageFolder' object has no attribute 'data'",
          "traceback": [
            "\u001b[0;31m---------------------------------------------------------------------------\u001b[0m",
            "\u001b[0;31mAttributeError\u001b[0m                            Traceback (most recent call last)",
            "\u001b[0;32m<ipython-input-14-4db8748e28e0>\u001b[0m in \u001b[0;36m<cell line: 6>\u001b[0;34m()\u001b[0m\n\u001b[1;32m     12\u001b[0m         \u001b[0mimage_class_path\u001b[0m\u001b[0;34m.\u001b[0m\u001b[0mmkdir\u001b[0m\u001b[0;34m(\u001b[0m\u001b[0mparents\u001b[0m\u001b[0;34m=\u001b[0m\u001b[0;32mTrue\u001b[0m\u001b[0;34m,\u001b[0m \u001b[0mexist_ok\u001b[0m\u001b[0;34m=\u001b[0m\u001b[0;32mTrue\u001b[0m\u001b[0;34m)\u001b[0m\u001b[0;34m\u001b[0m\u001b[0;34m\u001b[0m\u001b[0m\n\u001b[1;32m     13\u001b[0m \u001b[0;34m\u001b[0m\u001b[0m\n\u001b[0;32m---> 14\u001b[0;31m     \u001b[0;32mfor\u001b[0m \u001b[0midx\u001b[0m\u001b[0;34m,\u001b[0m \u001b[0;34m(\u001b[0m\u001b[0mtrain_img\u001b[0m\u001b[0;34m,\u001b[0m \u001b[0mtarget\u001b[0m\u001b[0;34m)\u001b[0m \u001b[0;32min\u001b[0m \u001b[0menumerate\u001b[0m\u001b[0;34m(\u001b[0m\u001b[0mzip\u001b[0m\u001b[0;34m(\u001b[0m\u001b[0mtrain_data\u001b[0m\u001b[0;34m.\u001b[0m\u001b[0mdata\u001b[0m\u001b[0;34m[\u001b[0m\u001b[0;34m:\u001b[0m\u001b[0;36m1000\u001b[0m\u001b[0;34m]\u001b[0m\u001b[0;34m,\u001b[0m \u001b[0mtrain_data\u001b[0m\u001b[0;34m.\u001b[0m\u001b[0mtargets\u001b[0m\u001b[0;34m[\u001b[0m\u001b[0;34m:\u001b[0m\u001b[0;36m1000\u001b[0m\u001b[0;34m]\u001b[0m\u001b[0;34m)\u001b[0m\u001b[0;34m)\u001b[0m\u001b[0;34m:\u001b[0m\u001b[0;34m\u001b[0m\u001b[0;34m\u001b[0m\u001b[0m\n\u001b[0m\u001b[1;32m     15\u001b[0m         \u001b[0mtrain_data_PIL\u001b[0m \u001b[0;34m=\u001b[0m \u001b[0mtransform\u001b[0m\u001b[0;34m(\u001b[0m\u001b[0mtrain_img\u001b[0m\u001b[0;34m)\u001b[0m\u001b[0;34m\u001b[0m\u001b[0;34m\u001b[0m\u001b[0m\n\u001b[1;32m     16\u001b[0m         \u001b[0mfile\u001b[0m \u001b[0;34m=\u001b[0m \u001b[0;34m\"data_\"\u001b[0m \u001b[0;34m+\u001b[0m \u001b[0mstr\u001b[0m\u001b[0;34m(\u001b[0m\u001b[0midx\u001b[0m\u001b[0;34m)\u001b[0m \u001b[0;34m+\u001b[0m \u001b[0;34m'.jpg'\u001b[0m\u001b[0;34m\u001b[0m\u001b[0;34m\u001b[0m\u001b[0m\n",
            "\u001b[0;31mAttributeError\u001b[0m: 'ImageFolder' object has no attribute 'data'"
          ]
        }
      ],
      "source": [
        "\n",
        "from pathlib import Path\n",
        "\n",
        "data_path = Path(\"data/\")\n",
        "image_path1 = data_path / \"FashionMNIST\" / \"train\"\n",
        "\n",
        "if image_path1.is_dir():\n",
        "    print('directory already exists')\n",
        "else:\n",
        "    print('creating folder')\n",
        "    for class_name in class_names:\n",
        "        image_class_path = image_path1 / class_name\n",
        "        image_class_path.mkdir(parents=True, exist_ok=True)\n",
        "\n",
        "    for idx, (train_img, target) in enumerate(zip(train_data.data[:1000], train_data.targets[:1000])):\n",
        "        train_data_PIL = transform(train_img)\n",
        "        file = \"data_\" + str(idx) + '.jpg'\n",
        "        train_data_PIL.save(data_path / \"FashionMNIST\"/\"train\" / class_names[target] /file)\n",
        "\n",
        "\n",
        "data_path = Path(\"data/\")\n",
        "image_path2 = data_path / \"FashionMNIST\" / \"test\"\n",
        "if image_path2.is_dir():\n",
        "    print('directory already exists')\n",
        "else:\n",
        "    print('creating folder')\n",
        "    for class_name in class_names:\n",
        "        image_class_path = image_path2 / class_name\n",
        "        image_class_path.mkdir(parents=True, exist_ok=True)\n",
        "        image_class_path.mkdir(parents=True, exist_ok=True)\n",
        "\n",
        "    for idx, (test_img, target) in enumerate(zip(test_data.data[:250], test_data.targets[:250])):\n",
        "        test_data_PIL = transform(test_img)\n",
        "        file = \"data_\" + str(idx) + '.jpg'\n",
        "        test_data_PIL.save(data_path / \"FashionMNIST\"/\"test\" / class_names[target] /file)\n",
        "\n",
        "\n",
        "\n"
      ]
    },
    {
      "cell_type": "markdown",
      "metadata": {
        "id": "pR11TVyxGLFk"
      },
      "source": [
        "# Plan of action\n",
        "A.\n",
        "1. Create different CNN models\n",
        "    * a few of my own making\n",
        "    * restnet\n",
        "    * maybe something else\n",
        "2. Train them on MNIST fashion data scaled to 24x24\n",
        "3. a Loop to find the best hyperparameters\n",
        "\n",
        "B. Create SVM models in scikit learn\n",
        "1. Create a pipeline with different hyper parameters\n"
      ]
    },
    {
      "cell_type": "markdown",
      "metadata": {
        "id": "sOJ5z2klj9s3"
      },
      "source": [
        "# Prepare data\n",
        "* trasnform to tensors\n",
        "* upscale to 224 (restnet size)\n",
        "* normalize (apply different normalization)"
      ]
    },
    {
      "cell_type": "code",
      "execution_count": 10,
      "metadata": {
        "id": "vFgI2hoFkP-6"
      },
      "outputs": [],
      "source": [
        "preprocess = transforms.Compose([\n",
        "\n",
        "    transforms.Resize(size=(224, 224)),\n",
        "    transforms.ToTensor(),\n",
        "    transforms.Normalize(mean=[0.25, 0.25, 0.25], std=[0.1, 0.1, 0.1]),\n",
        "])\n",
        "# path = colabPath / \"dataCollection1_sensor\"\n",
        "# path_train = \"data/FashionMNIST/train\"\n",
        "# path_test = \"data/FashionMNIST/test\"\n",
        "path_train = \"extended_train\"\n",
        "path_test = \"extended_test\"\n",
        "train_data = datasets.ImageFolder(root=path_train,\n",
        "                                 transform=preprocess, # tranform for the data\n",
        "                                  target_transform=None) # transform for label\n",
        "\n",
        "\n",
        "test_data = datasets.ImageFolder(root=path_test,\n",
        "                                 transform=preprocess, # tranform for the data\n",
        "                                  target_transform=None) # transform for label\n",
        "class_names = train_data.classes"
      ]
    },
    {
      "cell_type": "markdown",
      "source": [
        "# Visualise"
      ],
      "metadata": {
        "id": "othH6E2NlJH5"
      }
    },
    {
      "cell_type": "code",
      "execution_count": null,
      "metadata": {
        "id": "Et_TlAgkFifd"
      },
      "outputs": [],
      "source": [
        "# split data into batches\n",
        "from torch.utils.data import DataLoader\n",
        "BATCH_SIZE = 32\n",
        "\n",
        "# turn datasets into iterables (batches)\n",
        "train_dataloader = DataLoader(dataset=train_data,\n",
        "                              batch_size=BATCH_SIZE,\n",
        "                              shuffle=True) #  shuffling to remove order\n",
        "\n",
        "test_dataloader = DataLoader(dataset=test_data,\n",
        "                              batch_size=BATCH_SIZE,\n",
        "                              shuffle=False) # here it doesn't matter, no point to waste resources\n",
        "\n",
        "\n",
        "# iter tranforms it into iterable, next accesses the next batch\n",
        "train_features_batch, train_labels_batch = next(iter(train_dataloader))\n",
        "print(train_features_batch.shape, train_labels_batch.shape)\n",
        "\n",
        "# display random datapoints\n",
        "fig = plt.figure(figsize=(9, 9))\n",
        "rows, cols  = 3, 3\n",
        "for pic in range(1, 1+rows*cols):\n",
        "    rand_int = np.random.randint(0, BATCH_SIZE)\n",
        "    img = train_features_batch[rand_int]\n",
        "    img_RGB = img.permute([1, 2, 0]).numpy()\n",
        "    fig.add_subplot(rows, cols, pic)\n",
        "    plt.imshow(img_RGB.squeeze())\n",
        "    plt.axis(False)\n",
        "    plt.title(class_names[train_labels_batch[rand_int]])\n",
        "\n",
        "\n",
        "\n"
      ]
    },
    {
      "cell_type": "markdown",
      "metadata": {
        "id": "oy2v2CkGo8bL"
      },
      "source": [
        "# Create models\n",
        "\n"
      ]
    },
    {
      "cell_type": "markdown",
      "metadata": {
        "id": "rkpS4Z5Y1E1R"
      },
      "source": [
        "### Create training loop"
      ]
    },
    {
      "cell_type": "markdown",
      "metadata": {
        "id": "yzn63U13l-sK"
      },
      "source": [
        "create dataset"
      ]
    },
    {
      "cell_type": "code",
      "execution_count": 7,
      "metadata": {
        "id": "xk_56EnjmAg_"
      },
      "outputs": [],
      "source": [
        "from pickle import NONE\n",
        "# create data set from a custom data\n",
        "def create_dataset(path, batchsize, mean=None, std=None):\n",
        "    '''\n",
        "    input:\n",
        "    path - path to the folder with the data\n",
        "           eg for train - \"data/FashionMNIST/train\"\n",
        "    batchsize - eg 32\n",
        "    mean (optional)- for normalization eg. [0.25, 0.25, 0.25]\n",
        "    std (optional)- for nortmalization eg [0.1, 0.1, 0.1]\n",
        "\n",
        "    returns:\n",
        "    dataloader with image size of 224\n",
        "    class_names\n",
        "    '''\n",
        "    if mean:\n",
        "        preprocess = transforms.Compose([\n",
        "\n",
        "            transforms.Resize(size=(224, 224)),\n",
        "            transforms.ToTensor(),\n",
        "            transforms.Normalize(mean=mean, std=std),\n",
        "        ])\n",
        "    else:\n",
        "        preprocess = transforms.Compose([\n",
        "\n",
        "            transforms.Resize(size=(224, 224)),\n",
        "            transforms.ToTensor()\n",
        "        ])\n",
        "\n",
        "\n",
        "    data = datasets.ImageFolder(root=Path(path),\n",
        "                                    transform=preprocess, # tranform for the data\n",
        "                                    target_transform=None) # transform for label\n",
        "    dataloader = DataLoader(dataset=data,\n",
        "                                batch_size=batchsize,\n",
        "                                shuffle=True) #  shuffling to remove order\n",
        "    class_names = data.classes\n",
        "    return dataloader, class_names, data.targets\n",
        "\n",
        "# visdualize 9 random images in a batch\n",
        "def visualise_data(dataloader, class_names, batchsize):\n",
        "    '''\n",
        "    input dataloader\n",
        "    class names\n",
        "\n",
        "    displays 9 random images in a batch and their labels\n",
        "    '''\n",
        "    train_features_batch, train_labels_batch = next(iter(dataloader))\n",
        "    print(\"length of data: \", len(train_features_batch), 'length of labels: ', len(train_labels_batch))\n",
        "    # display random datapoints\n",
        "    fig = plt.figure(figsize=(9, 9))\n",
        "    rows, cols  = 3, 3\n",
        "    for pic in range(1, 1+rows*cols):\n",
        "        rand_int = np.random.randint(0, batchsize)\n",
        "        img = train_features_batch[rand_int]\n",
        "        img_RGB = img.permute([1, 2, 0]).numpy()\n",
        "        fig.add_subplot(rows, cols, pic)\n",
        "        plt.imshow(img_RGB.squeeze())\n",
        "        plt.axis(False)\n",
        "        plt.title(class_names[train_labels_batch[rand_int]])\n",
        "\n",
        "\n",
        "# create optimizer\n",
        "def create_optiimizer(model, optimizer, lr):\n",
        "    '''\n",
        "    inputs:\n",
        "    model - CNN network\n",
        "    optimizer - \"adam\" or \"sgd\"\n",
        "    lr - learning rate eg. 0.01\n",
        "\n",
        "    '''\n",
        "    if optimizer=='adam':\n",
        "        optimizer = torch.optim.Adam(model.parameters(),\n",
        "                                     lr=lr\n",
        "                                     )\n",
        "    elif optimizer=='sgd':\n",
        "        optimizer = torch.optim.SGD(model.parameters(),\n",
        "                                     lr=lr,\n",
        "                                    momentum=0.9\n",
        "                                     )\n",
        "\n",
        "    return optimizer\n",
        "\n",
        "\n",
        "def get_lossFn():\n",
        "    '''\n",
        "        returns CrossEntropyLoss function\n",
        "    '''\n",
        "\n",
        "    return nn.CrossEntropyLoss()\n",
        "\n",
        "# create train step\n",
        "def train_step(model, metric, loss_fn, optimizer,\n",
        "               data_loader, device, debug=False, wnb=True):\n",
        "    '''\n",
        "    model - CNN network\n",
        "    metric - metric to calculate accuracy\n",
        "    loss_fn - loss function\n",
        "    optimizer - optimizer to be applied\n",
        "    data_loader - dataloader\n",
        "    device - decide for the model to train\n",
        "    debug (optional)- if True prints average loss and metric of the batch\n",
        "\n",
        "    returns\n",
        "    train_loss - average loss of the batch\n",
        "    train_acc - average metric score of the batch\n",
        "\n",
        "    The function saves the metric score and loss of each iteration in WandB\n",
        "\n",
        "    '''\n",
        "    train_loss, train_acc = 0, 0\n",
        "\n",
        "    model.train()\n",
        "    for batch, (X, y) in enumerate(data_loader):\n",
        "        # put data on the device\n",
        "        X, y = X.to(device), y.to(device)\n",
        "\n",
        "        #forward pass, return raw logits\n",
        "        y_pred = model(X)\n",
        "\n",
        "        #loss\n",
        "        loss = loss_fn(y_pred, y)\n",
        "        #accuracy\n",
        "        acc = metric(y, torch.argmax(y_pred, dim=1))\n",
        "\n",
        "        train_loss += loss # accumulate train loss\n",
        "        train_acc += acc # accumulate train accuracy\n",
        "\n",
        "        # zero grad\n",
        "        optimizer.zero_grad()\n",
        "\n",
        "        # loss bacward\n",
        "        loss.backward()\n",
        "\n",
        "        #optimizer step\n",
        "        optimizer.step()\n",
        "\n",
        "        # log in wandb\n",
        "        if wnb:\n",
        "            wandb.log({\"loss\": loss,\n",
        "                       'accuracy': acc})\n",
        "\n",
        "    # device total loss and accuracy by length of train dataloader\n",
        "    train_loss /= len(data_loader)\n",
        "    train_acc /= len(data_loader)\n",
        "    if debug:\n",
        "        print(f'Train loss: {train_loss:.4f}, Train acc: {train_acc*100:0.4f}%')\n",
        "\n",
        "    return train_loss, train_acc\n",
        "\n",
        "\n",
        "# create test step\n",
        "def test_step(model, metric, loss_fn, data_loader, device, debug=False, wnb=True):\n",
        "    '''\n",
        "    model - CNN network\n",
        "    metric - metric to calculate accuracy\n",
        "    loss_fn - loss function\n",
        "    data_loader - dataloader\n",
        "    device - decide for the model to train\n",
        "    debug (optional)- if True prints average loss and metric of the batch\n",
        "\n",
        "    returns\n",
        "    test_loss - average loss of the batch\n",
        "    test_acc - average metric score of the batch\n",
        "\n",
        "    The function saves the metric score and loss of each iteration in WandB\n",
        "\n",
        "    '''\n",
        "    test_loss, test_acc = 0, 0\n",
        "    model.eval()\n",
        "    with torch.inference_mode():\n",
        "        for X_test, y_test in data_loader:\n",
        "            X_test, y_test = X_test.to(device), y_test.to(device)\n",
        "            #1 forward pass\n",
        "            test_pred = model(X_test)\n",
        "\n",
        "            # calculate loss\n",
        "            loss = loss_fn(test_pred, y_test)\n",
        "            test_loss += loss\n",
        "\n",
        "            #accuracy\n",
        "            acc = metric(y_test, test_pred.argmax(dim=1))\n",
        "            test_acc += acc\n",
        "\n",
        "            if wnb:\n",
        "                wandb.log({\"test loss\": loss,\n",
        "                           'test accuracy': acc})\n",
        "\n",
        "        # Calculate the test loss average batch\n",
        "        test_loss /= len(data_loader)\n",
        "\n",
        "        # acc per bactch\n",
        "        test_acc /= len(data_loader)\n",
        "\n",
        "        # Print out what's happening\n",
        "        if debug:\n",
        "            print(f'Test loss: {test_loss:.4f}  |  Test acc: {test_acc*100:.4f}%')\n",
        "\n",
        "        return test_loss, test_acc\n",
        "\n",
        "# create evaluation loop\n",
        "def eval_model(model: torch.nn.Module,\n",
        "                data_loader: torch.utils.data.DataLoader,\n",
        "                loss_fn: torch.nn.Module,\n",
        "                accuracy_fn,\n",
        "               device):\n",
        "    loss, acc = 0, 0\n",
        "    model.eval()\n",
        "    with torch.inference_mode():\n",
        "        for X, y in tqdm(data_loader):\n",
        "            X, y = X.to(device), y.to(device)\n",
        "            y_pred = model(X)\n",
        "\n",
        "            #accumulate the loss and acc\n",
        "            loss += loss_fn(y_pred, y)\n",
        "            acc += accuracy_fn(y, y_pred.argmax(dim=1))\n",
        "\n",
        "        # ave loss and acc\n",
        "        loss /= len(data_loader)\n",
        "        acc /= len(data_loader)\n",
        "    return {\"model_name\": model.__class__.__name__, # only works if a model was created with a class\n",
        "            \"model_loss\": loss.item(),\n",
        "            \"model_acc\": acc.item()*100}\n",
        "\n",
        "\n",
        "\n",
        "\n",
        "def visualize_preds(model, dataloader, class_names, batchsize):\n",
        "    plt.figure(figsize=(9, 9))\n",
        "    nrows = 3\n",
        "    ncols = 3\n",
        "    model = model.cpu()\n",
        "\n",
        "    dataL_len = len(dataloader)\n",
        "    data = iter(dataloader)\n",
        "    for i in range(3):\n",
        "        model.eval()\n",
        "        with torch.inference_mode():\n",
        "\n",
        "            X, y = next(data)\n",
        "            X, y = X.cpu(), y.cpu()\n",
        "            for j in range(3):\n",
        "                randint = np.random.randint(0, batchsize)\n",
        "                X_sample, y_sample = X[randint], y[randint]\n",
        "                pred_logit = model(X_sample.unsqueeze(dim=0))\n",
        "\n",
        "                pred_prob = pred_logit.argmax(dim=1)\n",
        "\n",
        "\n",
        "                plt.subplot(nrows, ncols, (3*i)+j+1);\n",
        "                plt.imshow(X_sample.squeeze().permute([1, 2, 0]), cmap='gray');\n",
        "\n",
        "                #find pred_label in text form\n",
        "                pred_label = class_names[pred_prob];\n",
        "\n",
        "                # find truth label\n",
        "                truth_label = class_names[y_sample];\n",
        "\n",
        "                title_text = f'Pred: {pred_label}  \\n  Truth: {truth_label}'\n",
        "\n",
        "                if pred_label==truth_label:\n",
        "                    plt.title(title_text, fontsize=10, c='g');\n",
        "                else:\n",
        "                    plt.title(title_text, fontsize=10, c='r');\n",
        "                plt.axis(False)\n",
        "                plt.tight_layout()\n",
        "\n",
        "\n",
        "\n",
        "def plot_decision_matrix(class_names, y_pred_tensor, targets):\n",
        "    # setup confusion matrix\n",
        "    confmat = ConfusionMatrix(num_classes=len(class_names), task='multiclass')\n",
        "\n",
        "    confmat_tensor = confmat(preds=y_pred_tensor,\n",
        "                            target=targets)\n",
        "\n",
        "    # plot consufionmatrix\n",
        "    fig, ax = plot_confusion_matrix(\n",
        "        conf_mat=confmat_tensor.numpy(),\n",
        "        class_names=class_names,\n",
        "        figsize=(10, 7)\n",
        "    )\n",
        "\n",
        "def make_predictions(model, data, device):\n",
        "    model.eval()\n",
        "    data = data.to(device)\n",
        "    model = model.to(device)\n",
        "    with torch.inference_mode():\n",
        "        y_preds = model(data)\n",
        "    return y_preds.cpu()\n",
        "\n",
        "def make_predictions_dataloader(model, dataloader, device):\n",
        "    preds = []\n",
        "    target = []\n",
        "    model.eval()\n",
        "    with torch.inference_mode():\n",
        "        for X_test, y_test in dataloader:\n",
        "            X_test, y_test = X_test.to(device), y_test.to(device)\n",
        "            batch_pred = model(X_test)\n",
        "            batch_pred = batch_pred.cpu()\n",
        "            y_test = y_test.cpu()\n",
        "            preds.append(np.array(batch_pred.argmax(dim=1)))\n",
        "            target.append(y_test)\n",
        "    pred = np.array(preds)\n",
        "    target = np.array(target)\n",
        "    return np.concatenate(pred), np.concatenate(target)\n",
        "\n",
        "\n",
        "\n",
        "\n",
        "def dataloader_to_numpy(dataloader):\n",
        "    for i, (data, target) in enumerate(dataloader):\n",
        "        if i==0:\n",
        "            data_numpy = data.numpy()\n",
        "            target_numpy = target.numpy()\n",
        "        else:\n",
        "            data_numpy = np.append(data_numpy, data.numpy(), axis=0)\n",
        "            target_numpy = np.append(target_numpy, target.numpy(), axis=0)\n",
        "    return data_numpy, target_numpy\n",
        "\n",
        "\n",
        "def get_datalodaer(train_data_path, test_data_path, batchsize):\n",
        "\n",
        "    train_dataloader, class_names, _ = create_dataset(\n",
        "                                        path=train_data_path,\n",
        "                                        batchsize=batchsize,\n",
        "                                    mean=[0.485, 0.456, 0.406],\n",
        "                                    std=[0.229, 0.224, 0.225]\n",
        "                                    )\n",
        "    test_dataloader, _, _ = create_dataset(\n",
        "                                path=test_data_path,\n",
        "                                batchsize=batchsize,\n",
        "                                    mean=[0.485, 0.456, 0.406],\n",
        "                                    std=[0.229, 0.224, 0.225]\n",
        "                                    )\n",
        "    return train_dataloader, test_dataloader, class_names\n",
        "\n",
        "\n",
        "def train_test_loop(config, model, train_dataloader, test_dataloader,\n",
        "                    class_names):\n",
        "    loss_fn = get_lossFn()\n",
        "    optimizer = create_optiimizer(model=model,\n",
        "                                    optimizer=config.optimizer,\n",
        "                                    lr=config.learning_rate\n",
        "    )\n",
        "    metric = torchmetrics.classification.Accuracy(\n",
        "        task=\"multiclass\",\n",
        "        num_classes=len(class_names)\n",
        "    ).to(device)\n",
        "    train_time_start = timer()\n",
        "    for epoch in range(config.epochs):\n",
        "        ave_batch_loss, ave_batch_metric = train_step(\n",
        "            model=model,\n",
        "            metric=metric,\n",
        "            loss_fn=loss_fn,\n",
        "            optimizer=optimizer,\n",
        "            data_loader=train_dataloader,\n",
        "            device=device,\n",
        "            debug=True\n",
        "        )\n",
        "        ve_batch_loss, ave_batch_metric = test_step(\n",
        "            model=model,\n",
        "            metric=metric,\n",
        "            loss_fn=loss_fn,\n",
        "            data_loader=test_dataloader,\n",
        "            device=device,\n",
        "            debug=True\n",
        "        )\n",
        "        wandb.log({\"average train batch loss\": ave_batch_loss,\n",
        "                    \"average train batch metric\": ave_batch_metric,\n",
        "                    \"average test batch loss\": ave_batch_loss,\n",
        "                    \"average test batch metric\": ave_batch_metric,\n",
        "                    \"epoch\": epoch\n",
        "                    })\n",
        "    train_time_end = timer()\n",
        "    wandb.log({\"train time\": train_time_end - train_time_start})\n",
        "\n"
      ]
    },
    {
      "cell_type": "markdown",
      "metadata": {
        "id": "5ALnqHS1bRcv"
      },
      "source": [
        "## First test loop\n",
        "test on FashionMNIST with a loop of different hyper parammeters and wandb experiment result collection"
      ]
    },
    {
      "cell_type": "code",
      "execution_count": null,
      "metadata": {
        "id": "Fq_Bfp_yaE2U"
      },
      "outputs": [],
      "source": [
        "\n",
        "train_dataloader, class_names, targets = create_dataset(\n",
        "                                     path=path_train,\n",
        "                                     batchsize=BATCH_SIZE\n",
        "                                     )\n",
        "test_dataloader, _, _ = create_dataset(\n",
        "                             path=path_test,\n",
        "                             batchsize=BATCH_SIZE\n",
        "                             )\n",
        "\n",
        "visualise_data(dataloader=train_dataloader, class_names=class_names, batchsize=BATCH_SIZE)"
      ]
    },
    {
      "cell_type": "code",
      "execution_count": null,
      "metadata": {
        "id": "RbTDmu_xXC0g"
      },
      "outputs": [],
      "source": [
        "class_names, len(targets), np.unique(np.array(targets)), max(targets)"
      ]
    },
    {
      "cell_type": "markdown",
      "source": [
        "# Run the testing resnet model with test data"
      ],
      "metadata": {
        "id": "piXaa3b6Mgmo"
      }
    },
    {
      "cell_type": "code",
      "execution_count": null,
      "metadata": {
        "colab": {
          "base_uri": "https://localhost:8080/",
          "height": 1000,
          "referenced_widgets": [
            "eaa4b727ac7a4b4e96d25491ad2dd5ab",
            "1d6a2ccdc8664cab8c61469ca4491e58",
            "75274f1f889940fbaac2c47b40478f71",
            "117587d25b42427ca15d7fc53a54e9f4",
            "e876c0a1a7e64edfb81369bbe06e53be",
            "e90dbfb6882845218099b0751b165fcc",
            "d2c32adaa35f4449b48d5e9b8b82cc9f",
            "8911b98be3df4a2c9588be2670c15448",
            "1340534435264f33a528ca9b675dc188",
            "4c43fff8e2604d99bb52190aa0b1e414",
            "814d3dc3aa6844d38181af414a867305"
          ]
        },
        "id": "JwV-0X6pbvW6",
        "outputId": "979ceafb-654e-4174-c510-dd21b0dd50b6"
      },
      "outputs": [
        {
          "output_type": "stream",
          "name": "stderr",
          "text": [
            "Downloading: \"https://download.pytorch.org/models/resnet50-11ad3fa6.pth\" to /root/.cache/torch/hub/checkpoints/resnet50-11ad3fa6.pth\n",
            "100%|██████████| 97.8M/97.8M [00:00<00:00, 139MB/s]\n"
          ]
        },
        {
          "output_type": "stream",
          "name": "stdout",
          "text": [
            "cuda\n"
          ]
        },
        {
          "output_type": "display_data",
          "data": {
            "text/plain": [
              "  0%|          | 0/5 [00:00<?, ?it/s]"
            ],
            "application/vnd.jupyter.widget-view+json": {
              "version_major": 2,
              "version_minor": 0,
              "model_id": "eaa4b727ac7a4b4e96d25491ad2dd5ab"
            }
          },
          "metadata": {}
        },
        {
          "output_type": "stream",
          "name": "stdout",
          "text": [
            "Train loss: 1.2274, Train acc: 57.4405%\n",
            "Test loss: 0.8151  |  Test acc: 67.5000%\n",
            "Train loss: 0.6254, Train acc: 77.6786%\n",
            "Test loss: 1.4661  |  Test acc: 65.4688%\n",
            "Train loss: 0.5123, Train acc: 81.2500%\n",
            "Test loss: 0.6663  |  Test acc: 75.1562%\n",
            "Train loss: 0.3752, Train acc: 87.1032%\n",
            "Test loss: 0.5385  |  Test acc: 81.4844%\n",
            "Train loss: 0.3304, Train acc: 88.2937%\n",
            "Test loss: 0.5085  |  Test acc: 81.2500%\n"
          ]
        },
        {
          "output_type": "stream",
          "name": "stderr",
          "text": [
            "WARNING:matplotlib.image:Clipping input data to the valid range for imshow with RGB data ([0..1] for floats or [0..255] for integers).\n",
            "WARNING:matplotlib.image:Clipping input data to the valid range for imshow with RGB data ([0..1] for floats or [0..255] for integers).\n",
            "WARNING:matplotlib.image:Clipping input data to the valid range for imshow with RGB data ([0..1] for floats or [0..255] for integers).\n",
            "WARNING:matplotlib.image:Clipping input data to the valid range for imshow with RGB data ([0..1] for floats or [0..255] for integers).\n",
            "WARNING:matplotlib.image:Clipping input data to the valid range for imshow with RGB data ([0..1] for floats or [0..255] for integers).\n",
            "WARNING:matplotlib.image:Clipping input data to the valid range for imshow with RGB data ([0..1] for floats or [0..255] for integers).\n",
            "WARNING:matplotlib.image:Clipping input data to the valid range for imshow with RGB data ([0..1] for floats or [0..255] for integers).\n",
            "WARNING:matplotlib.image:Clipping input data to the valid range for imshow with RGB data ([0..1] for floats or [0..255] for integers).\n",
            "<ipython-input-10-b39045ed7062>:250: MatplotlibDeprecationWarning: Auto-removal of overlapping axes is deprecated since 3.6 and will be removed two minor releases later; explicitly call ax.remove() as needed.\n",
            "  plt.subplot(nrows, ncols, (3*i)+j+1);\n",
            "WARNING:matplotlib.image:Clipping input data to the valid range for imshow with RGB data ([0..1] for floats or [0..255] for integers).\n"
          ]
        },
        {
          "output_type": "display_data",
          "data": {
            "text/plain": [
              "<Figure size 900x900 with 8 Axes>"
            ],
            "image/png": "[encoded data removed]"
          },
          "metadata": {}
        },
        {
          "output_type": "display_data",
          "data": {
            "text/plain": [
              "<Figure size 1000x700 with 1 Axes>"
            ],
            "image/png": "[encoded data removed]"
          },
          "metadata": {}
        },
        {
          "output_type": "display_data",
          "data": {
            "text/plain": [
              "<Figure size 1000x700 with 1 Axes>"
            ],
            "image/png": "[encoded data removed]"
          },
          "metadata": {}
        }
      ],
      "source": [
        "# test with no hyperparameter sweeping\n",
        "torch.manual_seed(42)\n",
        "torch.cuda.manual_seed(42)\n",
        "from torchvision.models import resnet50, ResNet50_Weights\n",
        "BATCH_SIZE = 16\n",
        "# get data\n",
        "train_dataloader, class_names, targets = create_dataset(\n",
        "                                    path=\"data/FashionMNIST/train\",\n",
        "                                    batchsize=BATCH_SIZE,\n",
        "                                mean=[0.485, 0.456, 0.406],\n",
        "                                std=[0.229, 0.224, 0.225]\n",
        "                                )\n",
        "test_dataloader, _, _ = create_dataset(\n",
        "                            path=\"data/FashionMNIST/test\",\n",
        "                            batchsize=BATCH_SIZE,\n",
        "                                mean=[0.485, 0.456, 0.406],\n",
        "                                std=[0.229, 0.224, 0.225]\n",
        "                                )\n",
        "\n",
        "# get model\n",
        "model = resnet50(weights=ResNet50_Weights.DEFAULT)\n",
        "model.fc = nn.Linear(2048, len(class_names))\n",
        "\n",
        "\n",
        "def train_model_restent50(train_dataloader, test_dataloader, lr, optimizer, batchsize, epochs, class_names, model):\n",
        "    print(device)\n",
        "\n",
        "    model = model.to(device)\n",
        "    loss_fn = get_lossFn()\n",
        "    optimizer = create_optiimizer(model=model,\n",
        "                                    optimizer=optimizer,\n",
        "                                    lr=lr\n",
        "    )\n",
        "\n",
        "\n",
        "    metric = torchmetrics.classification.Accuracy(\n",
        "        task=\"multiclass\",\n",
        "        num_classes=len(class_names)\n",
        "    ).to(device)\n",
        "    train_time_start = timer()\n",
        "    for epoch in tqdm(range(epochs)):\n",
        "        ave_batch_loss, ave_batch_metric = train_step(\n",
        "            model=model,\n",
        "            metric=metric,\n",
        "            loss_fn=loss_fn,\n",
        "            optimizer=optimizer,\n",
        "            data_loader=train_dataloader,\n",
        "            device=device,\n",
        "            wnb=False,\n",
        "            debug=True\n",
        "        )\n",
        "        ve_batch_loss, ave_batch_metric = test_step(\n",
        "            model=model,\n",
        "            metric=metric,\n",
        "            loss_fn=loss_fn,\n",
        "            data_loader=test_dataloader,\n",
        "            device=device,\n",
        "            wnb=False,\n",
        "            debug=True\n",
        "        )\n",
        "\n",
        "    train_time_end = timer()\n",
        "\n",
        "    return model\n",
        "\n",
        "newModel = train_model_restent50(train_dataloader=train_dataloader,\n",
        "                                 test_dataloader=test_dataloader,\n",
        "                                 lr=0.001,\n",
        "                                 optimizer='adam',\n",
        "                                 batchsize=BATCH_SIZE,\n",
        "                                 epochs=5,\n",
        "                                 class_names=class_names,\n",
        "                                 model=model).cpu()\n",
        "\n",
        "visualize_preds(model=newModel,\n",
        "                dataloader=test_dataloader,\n",
        "                class_names=class_names,\n",
        "                batchsize=BATCH_SIZE)\n",
        "\n",
        "data_test_numpy, target_test_numpy = dataloader_to_numpy(test_dataloader)\n",
        "\n",
        "y_test_preds_tensor = make_predictions(model=newModel,\n",
        "                           data=torch.tensor(data_test_numpy),\n",
        "                           device=device\n",
        "                        )\n",
        "\n",
        "plot_decision_matrix(class_names=class_names,\n",
        "                     y_pred_tensor=y_test_preds_tensor,\n",
        "                     targets=torch.tensor(target_test_numpy))\n",
        "\n",
        "\n",
        "data_train_numpy, target_train_numpy = dataloader_to_numpy(train_dataloader)\n",
        "\n",
        "y_train_preds_tensor = make_predictions(model=newModel,\n",
        "                           data=torch.tensor(data_train_numpy),\n",
        "                           device=device\n",
        "                        )\n",
        "\n",
        "plot_decision_matrix(class_names=class_names,\n",
        "                     y_pred_tensor=y_train_preds_tensor,\n",
        "                     targets=torch.tensor(target_train_numpy))\n",
        "\n"
      ]
    },
    {
      "cell_type": "code",
      "source": [],
      "metadata": {
        "id": "AVsSecjgIbq_"
      },
      "execution_count": null,
      "outputs": []
    },
    {
      "cell_type": "markdown",
      "source": [
        "# tests"
      ],
      "metadata": {
        "id": "wwGcloUuIfve"
      }
    },
    {
      "cell_type": "markdown",
      "source": [
        "# Run the test model with subset of custom data"
      ],
      "metadata": {
        "id": "JpmZWoGoMln-"
      }
    },
    {
      "cell_type": "code",
      "source": [
        "# test with no hyperparameter sweeping\n",
        "torch.manual_seed(42)\n",
        "torch.cuda.manual_seed(42)\n",
        "from torchvision.models import resnet50, ResNet50_Weights\n",
        "BATCH_SIZE = 16\n",
        "# get data\n",
        "train_dataloader, class_names, targets = create_dataset(\n",
        "                                    path=extendedTrain,\n",
        "                                    batchsize=BATCH_SIZE,\n",
        "                                mean=[0.485, 0.456, 0.406],\n",
        "                                std=[0.229, 0.224, 0.225]\n",
        "                                )\n",
        "test_dataloader, _, _ = create_dataset(\n",
        "                            path=extendedTest,\n",
        "                            batchsize=BATCH_SIZE,\n",
        "                                mean=[0.485, 0.456, 0.406],\n",
        "                                std=[0.229, 0.224, 0.225]\n",
        "                                )\n",
        "\n",
        "# get model\n",
        "model = resnet50(weights=ResNet50_Weights.DEFAULT)\n",
        "model.fc = nn.Linear(2048, len(class_names))\n",
        "\n",
        "\n",
        "def train_model_restent50(train_dataloader, test_dataloader, lr, optimizer, batchsize, epochs, class_names, model):\n",
        "    print(device)\n",
        "\n",
        "    model = model.to(device)\n",
        "    loss_fn = get_lossFn()\n",
        "    optimizer = create_optiimizer(model=model,\n",
        "                                    optimizer=optimizer,\n",
        "                                    lr=lr\n",
        "    )\n",
        "\n",
        "\n",
        "    metric = torchmetrics.classification.Accuracy(\n",
        "        task=\"multiclass\",\n",
        "        num_classes=len(class_names)\n",
        "    ).to(device)\n",
        "    train_time_start = timer()\n",
        "    for epoch in tqdm(range(epochs)):\n",
        "        ave_batch_loss, ave_batch_metric = train_step(\n",
        "            model=model,\n",
        "            metric=metric,\n",
        "            loss_fn=loss_fn,\n",
        "            optimizer=optimizer,\n",
        "            data_loader=train_dataloader,\n",
        "            device=device,\n",
        "            wnb=False,\n",
        "            debug=True\n",
        "        )\n",
        "        ve_batch_loss, ave_batch_metric = test_step(\n",
        "            model=model,\n",
        "            metric=metric,\n",
        "            loss_fn=loss_fn,\n",
        "            data_loader=test_dataloader,\n",
        "            device=device,\n",
        "            wnb=False,\n",
        "            debug=True\n",
        "        )\n",
        "\n",
        "    train_time_end = timer()\n",
        "\n",
        "    return model\n",
        "\n",
        "newModel = train_model_restent50(train_dataloader=train_dataloader,\n",
        "                                 test_dataloader=test_dataloader,\n",
        "                                 lr=0.001,\n",
        "                                 optimizer='adam',\n",
        "                                 batchsize=BATCH_SIZE,\n",
        "                                 epochs=5,\n",
        "                                 class_names=class_names,\n",
        "                                 model=model).cpu()\n",
        "\n",
        "visualize_preds(model=newModel,\n",
        "                dataloader=test_dataloader,\n",
        "                class_names=class_names,\n",
        "                batchsize=BATCH_SIZE)\n",
        "\n",
        "\n",
        "preds, targets = make_predictions_dataloader(newModel, train_dataloader, device)\n",
        "\n",
        "plot_decision_matrix(class_names=class_names,\n",
        "                     y_pred_tensor=torch.tensor(preds),\n",
        "                     targets=torch.tensor(targets))\n",
        "\n",
        "\n",
        "preds, targets = make_predictions_dataloader(newModel, test_dataloader, device)\n",
        "\n",
        "plot_decision_matrix(class_names=class_names,\n",
        "                     y_pred_tensor=torch.tensor(preds),\n",
        "                     targets=torch.tensor(targets))\n",
        "\n",
        "\n"
      ],
      "metadata": {
        "colab": {
          "base_uri": "https://localhost:8080/",
          "height": 121,
          "referenced_widgets": [
            "6e01ef0d6c0d496a95960368cc09a208",
            "ea0621561d4849ad85786470f739c0c8",
            "0dc1b1b5144b484db779e26d127ee46a",
            "274c3446316a4d32bb6b3494c3117177",
            "fec348c0be9f4860ab9d0599f9609e7f",
            "8750fe43cebc4020b081d57239fae9f5",
            "0daebd3021ef4a3eab5768326f664bf3",
            "f418a2cdcf0944b3b757b04ee821cc02",
            "c26c950c8d814292a254dd910ba8384e",
            "abeecf4d89df48c18ead8db5d1e4e191",
            "8fcaae15de1a4943870146921be33c78"
          ]
        },
        "id": "Td9aYvLuMpKD",
        "outputId": "dc8905da-2536-4990-a1ae-04da3c37c288"
      },
      "execution_count": null,
      "outputs": [
        {
          "output_type": "stream",
          "name": "stderr",
          "text": [
            "Downloading: \"https://download.pytorch.org/models/resnet50-11ad3fa6.pth\" to /root/.cache/torch/hub/checkpoints/resnet50-11ad3fa6.pth\n",
            "100%|██████████| 97.8M/97.8M [00:01<00:00, 67.4MB/s]\n"
          ]
        },
        {
          "output_type": "stream",
          "name": "stdout",
          "text": [
            "cpu\n"
          ]
        },
        {
          "output_type": "display_data",
          "data": {
            "text/plain": [
              "  0%|          | 0/5 [00:00<?, ?it/s]"
            ],
            "application/vnd.jupyter.widget-view+json": {
              "version_major": 2,
              "version_minor": 0,
              "model_id": "6e01ef0d6c0d496a95960368cc09a208"
            }
          },
          "metadata": {}
        }
      ]
    },
    {
      "cell_type": "markdown",
      "source": [
        "# The main loop\n",
        "\n",
        "set up for the pipelines"
      ],
      "metadata": {
        "id": "hR-cb9GDPqRe"
      }
    },
    {
      "cell_type": "code",
      "execution_count": 13,
      "metadata": {
        "id": "GCb37Wx4W3ga",
        "colab": {
          "base_uri": "https://localhost:8080/"
        },
        "outputId": "2c8fbc28-3253-4a65-ee97-3a91fe504dfa"
      },
      "outputs": [
        {
          "output_type": "stream",
          "name": "stdout",
          "text": [
            "{'method': 'grid',\n",
            " 'metric': {'goal': 'minimize', 'name': 'loss'},\n",
            " 'parameters': {'batch_size': {'values': [16, 32]},\n",
            "                'epochs': {'value': 5},\n",
            "                'fc_layer_size': {'values': [6]},\n",
            "                'learning_rate': {'values': [0.001, 0.01, 0.1]},\n",
            "                'optimizer': {'values': ['adam', 'sgd']}}}\n"
          ]
        }
      ],
      "source": [
        "\n",
        "\n",
        "\n",
        "\n",
        "\n",
        "torch.manual_seed(42)\n",
        "torch.cuda.manual_seed(42)\n",
        "\n",
        "\n",
        "sweep_config = {\n",
        "    'method': 'grid'\n",
        "    }\n",
        "metric = {\n",
        "    'name': 'loss',\n",
        "    'goal': 'minimize'\n",
        "    }\n",
        "sweep_config['metric'] = metric\n",
        "\n",
        "parameters_dict = {\n",
        "    'optimizer': {\n",
        "        'values': ['adam', 'sgd']\n",
        "        },\n",
        "    'fc_layer_size': {\n",
        "        'values': [6]\n",
        "        },\n",
        "    }\n",
        "\n",
        "sweep_config['parameters'] = parameters_dict\n",
        "\n",
        "parameters_dict.update({\n",
        "    'epochs': {\n",
        "        'value': 5}\n",
        "    })\n",
        "\n",
        "# parameters_dict.update({\n",
        "#     'learning_rate': {\n",
        "#         # a flat distribution between 0 and 0.1\n",
        "#         'distribution': 'uniform',\n",
        "#         'min': 0,\n",
        "#         'max': 0.1\n",
        "#       },\n",
        "#     'batch_size': {\n",
        "#         # integers between 32 and 256\n",
        "#         # with evenly-distributed logarithms\n",
        "#         'distribution': 'q_log_uniform_values',\n",
        "#         'q': 8,\n",
        "#         'min': 8,\n",
        "#         'max': 32,\n",
        "#       }\n",
        "#     })\n",
        "\n",
        "parameters_dict.update({\n",
        "    'learning_rate': {\n",
        "        # a flat distribution between 0 and 0.1\n",
        "        'values': [0.001, 0.01, 0.1]\n",
        "      },\n",
        "    'batch_size': {\n",
        "        # integers between 32 and 256\n",
        "        # with evenly-distributed logarithms\n",
        "        'values': [16, 32]\n",
        "      }\n",
        "    })\n",
        "\n",
        "\n",
        "\n",
        "import pprint\n",
        "pprint.pprint(sweep_config)\n",
        "\n",
        "\n",
        "def train_model_resnet50(config=None):\n",
        "    with wandb.init(config=config):\n",
        "        config = wandb.config\n",
        "\n",
        "        train_dataloader, test_dataloader, class_names = get_datalodaer(\n",
        "            train_data_path = shortTrain,\n",
        "            test_data_path = shortTest,\n",
        "            batchsize=config.batch_size)\n",
        "\n",
        "        model = resnet50(\n",
        "            weights=ResNet50_Weights.DEFAULT).to(device)\n",
        "        model.fc = nn.Linear(2048 , config.fc_layer_size).to(device)\n",
        "\n",
        "        train_test_loop(config=config,\n",
        "                        model=model,\n",
        "                        train_dataloader=train_dataloader,\n",
        "                        test_dataloader=test_dataloader,\n",
        "                        class_names=class_names\n",
        "                        )\n",
        "    return model\n",
        "\n",
        "def train_model_alexnet(config=None):\n",
        "    with wandb.init(config=config):\n",
        "        config = wandb.config\n",
        "\n",
        "        train_dataloader, test_dataloader, class_names = get_datalodaer(\n",
        "            train_data_path = shortTrain,\n",
        "            test_data_path = shortTest,\n",
        "            batchsize=config.batch_size)\n",
        "\n",
        "        weight = list(torchvision.models.get_model_weights('alexnet'))[-1]\n",
        "        model = torch.hub.load('pytorch/vision', 'alexnet', weight).to(device)\n",
        "        model.classifier[6] = nn.Linear(4096 , 10).to(device)\n",
        "\n",
        "        train_test_loop(config=config,\n",
        "                        model=model,\n",
        "                        train_dataloader=train_dataloader,\n",
        "                        test_dataloader=test_dataloader,\n",
        "                        class_names=class_names\n",
        "                        )\n",
        "    return model\n",
        "\n",
        "def train_model_convnext_base(config=None):\n",
        "    with wandb.init(config=config):\n",
        "        config = wandb.config\n",
        "\n",
        "        train_dataloader, test_dataloader, class_names = get_datalodaer(\n",
        "            train_data_path = shortTrain,\n",
        "            test_data_path = shortTest,\n",
        "            batchsize=config.batch_size)\n",
        "\n",
        "        weight = list(torchvision.models.get_model_weights('convnext_base'))[-1]\n",
        "        model = torch.hub.load('pytorch/vision', 'convnext_base', weight).to(device)\n",
        "        model.classifier[2] = nn.Linear(1024 , 10, bias=True).to(device)\n",
        "\n",
        "        train_test_loop(config=config,\n",
        "                        model=model,\n",
        "                        train_dataloader=train_dataloader,\n",
        "                        test_dataloader=test_dataloader,\n",
        "                        class_names=class_names\n",
        "                        )\n",
        "    return model\n",
        "\n",
        "def train_model_densenet161(config=None):\n",
        "    with wandb.init(config=config):\n",
        "        config = wandb.config\n",
        "\n",
        "        train_dataloader, test_dataloader, class_names = get_datalodaer(\n",
        "            train_data_path = shortTrain,\n",
        "            test_data_path = shortTest,\n",
        "            batchsize=config.batch_size)\n",
        "\n",
        "        weight = list(torchvision.models.get_model_weights('densenet161'))[-1]\n",
        "        model = torch.hub.load('pytorch/vision', 'densenet161', weight).to(device)\n",
        "        model.classifier = nn.Linear(2208 , 10, bias=True).to(device)\n",
        "\n",
        "        train_test_loop(config=config,\n",
        "                        model=model,\n",
        "                        train_dataloader=train_dataloader,\n",
        "                        test_dataloader=test_dataloader,\n",
        "                        class_names=class_names\n",
        "                        )\n",
        "    return model\n",
        "\n",
        "def train_model_efficientnet_v2_l(config=None):\n",
        "    with wandb.init(config=config):\n",
        "        config = wandb.config\n",
        "\n",
        "        train_dataloader, test_dataloader, class_names = get_datalodaer(\n",
        "            train_data_path = shortTrain,\n",
        "            test_data_path = shortTest,\n",
        "            batchsize=config.batch_size)\n",
        "\n",
        "        weight = list(torchvision.models.get_model_weights('efficientnet_v2_l'))[-1]\n",
        "        model = torch.hub.load('pytorch/vision', 'efficientnet_v2_l', weight).to(device)\n",
        "        model.classifier[1] = nn.Linear(1280 , 10, bias=True).to(device).to(device)\n",
        "\n",
        "        train_test_loop(config=config,\n",
        "                        model=model,\n",
        "                        train_dataloader=train_dataloader,\n",
        "                        test_dataloader=test_dataloader,\n",
        "                        class_names=class_names\n",
        "                        )\n",
        "    return model\n",
        "\n",
        "def train_model_googlenet(config=None):\n",
        "    with wandb.init(config=config):\n",
        "        config = wandb.config\n",
        "\n",
        "        train_dataloader, test_dataloader, class_names = get_datalodaer(\n",
        "            train_data_path = shortTrain,\n",
        "            test_data_path = shortTest,\n",
        "            batchsize=config.batch_size)\n",
        "\n",
        "        weight = list(torchvision.models.get_model_weights('googlenet'))[-1]\n",
        "        model = torch.hub.load('pytorch/vision', 'googlenet', weight).to(device)\n",
        "        model.fc = nn.Linear(1024 , 10, bias=True).to(device)\n",
        "        train_test_loop(config=config,\n",
        "                        model=model,\n",
        "                        train_dataloader=train_dataloader,\n",
        "                        test_dataloader=test_dataloader,\n",
        "                        class_names=class_names\n",
        "                        )\n",
        "    return model\n",
        "\n",
        "def train_model_inception_v3(config=None):\n",
        "    with wandb.init(config=config):\n",
        "        config = wandb.config\n",
        "\n",
        "        train_dataloader, test_dataloader, class_names = get_datalodaer(\n",
        "            train_data_path = shortTrain,\n",
        "            test_data_path = shortTest,\n",
        "            batchsize=config.batch_size)\n",
        "\n",
        "        weight = list(torchvision.models.get_model_weights('inception_v3'))[-1]\n",
        "        model = torch.hub.load('pytorch/vision', 'inception_v3', weight).to(device)\n",
        "        model.fc = nn.Linear(2048 , 10, bias=True).to(device)\n",
        "\n",
        "        train_test_loop(config=config,\n",
        "                        model=model,\n",
        "                        train_dataloader=train_dataloader,\n",
        "                        test_dataloader=test_dataloader,\n",
        "                        class_names=class_names\n",
        "                        )\n",
        "    return model\n",
        "\n",
        "def train_model_maxvit_t(config=None):\n",
        "    with wandb.init(config=config):\n",
        "        config = wandb.config\n",
        "\n",
        "        train_dataloader, test_dataloader, class_names = get_datalodaer(\n",
        "            train_data_path = shortTrain,\n",
        "            test_data_path = shortTest,\n",
        "            batchsize=config.batch_size)\n",
        "\n",
        "        weight = list(torchvision.models.get_model_weights('maxvit_t'))[-1]\n",
        "        model = torch.hub.load('pytorch/vision', 'maxvit_t', weight).to(device)\n",
        "        model.classifier[5] = nn.Linear(512 , 10, bias=False).to(device)\n",
        "\n",
        "        train_test_loop(config=config,\n",
        "                        model=model,\n",
        "                        train_dataloader=train_dataloader,\n",
        "                        test_dataloader=test_dataloader,\n",
        "                        class_names=class_names\n",
        "                        )\n",
        "    return model\n",
        "\n",
        "def train_model_mobilenet_v3_large(config=None):\n",
        "    with wandb.init(config=config):\n",
        "        config = wandb.config\n",
        "\n",
        "        train_dataloader, test_dataloader, class_names = get_datalodaer(\n",
        "            train_data_path = shortTrain,\n",
        "            test_data_path = shortTest,\n",
        "            batchsize=config.batch_size)\n",
        "\n",
        "        weight = list(torchvision.models.get_model_weights('mobilenet_v3_large'))[-1]\n",
        "        model = torch.hub.load('pytorch/vision', 'mobilenet_v3_large', weight).to(device)\n",
        "        model.classifier[3] = nn.Linear(1280 , 10, bias=True).to(device)\n",
        "\n",
        "        train_test_loop(config=config,\n",
        "                        model=model,\n",
        "                        train_dataloader=train_dataloader,\n",
        "                        test_dataloader=test_dataloader,\n",
        "                        class_names=class_names\n",
        "                        )\n",
        "    return model\n",
        "\n",
        "\n",
        "def train_model_shufflenet_v2_x2_0(config=None):\n",
        "    with wandb.init(config=config):\n",
        "        config = wandb.config\n",
        "\n",
        "        train_dataloader, test_dataloader, class_names = get_datalodaer(\n",
        "            train_data_path = shortTrain,\n",
        "            test_data_path = shortTest,\n",
        "            batchsize=config.batch_size)\n",
        "\n",
        "        weight = list(torchvision.models.get_model_weights('shufflenet_v2_x2_0'))[-1]\n",
        "        model = torch.hub.load('pytorch/vision', 'shufflenet_v2_x2_0', weight).to(device)\n",
        "        model.fc = nn.Linear(2048 , 10, bias=True).to(device)\n",
        "\n",
        "        train_test_loop(config=config,\n",
        "                        model=model,\n",
        "                        train_dataloader=train_dataloader,\n",
        "                        test_dataloader=test_dataloader,\n",
        "                        class_names=class_names\n",
        "                        )\n",
        "    return model\n",
        "\n",
        "def train_model_swin_v2_t(config=None):\n",
        "    with wandb.init(config=config):\n",
        "        config = wandb.config\n",
        "\n",
        "        train_dataloader, test_dataloader, class_names = get_datalodaer(\n",
        "            train_data_path = shortTrain,\n",
        "            test_data_path = shortTest,\n",
        "            batchsize=config.batch_size)\n",
        "\n",
        "        weight = list(torchvision.models.get_model_weights('swin_v2_t'))[-1]\n",
        "        model = torch.hub.load('pytorch/vision', 'swin_v2_t', weight).to(device)\n",
        "        model.head = nn.Linear(768 , 10, bias=True).to(device)\n",
        "\n",
        "        train_test_loop(config=config,\n",
        "                        model=model,\n",
        "                        train_dataloader=train_dataloader,\n",
        "                        test_dataloader=test_dataloader,\n",
        "                        class_names=class_names\n",
        "                        )\n",
        "    return model\n",
        "\n",
        "def train_model_vgg19_bn(config=None):\n",
        "    with wandb.init(config=config):\n",
        "        config = wandb.config\n",
        "\n",
        "        train_dataloader, test_dataloader, class_names = get_datalodaer(\n",
        "            train_data_path = shortTrain,\n",
        "            test_data_path = shortTest,\n",
        "            batchsize=config.batch_size)\n",
        "\n",
        "        weight = list(torchvision.models.get_model_weights('vgg19_bn'))[-1]\n",
        "        model = torch.hub.load('pytorch/vision', 'vgg19_bn', weight).to(device)\n",
        "        model.classifier[6] = nn.Linear(4096 , 10, bias=True).to(device)\n",
        "\n",
        "        train_test_loop(config=config,\n",
        "                        model=model,\n",
        "                        train_dataloader=train_dataloader,\n",
        "                        test_dataloader=test_dataloader,\n",
        "                        class_names=class_names\n",
        "                        )\n",
        "    return model\n",
        "\n",
        "def train_model_wide_resnet50_2(config=None):\n",
        "    with wandb.init(config=config):\n",
        "        config = wandb.config\n",
        "\n",
        "        train_dataloader, test_dataloader, class_names = get_datalodaer(\n",
        "            train_data_path = shortTrain,\n",
        "            test_data_path = shortTest,\n",
        "            batchsize=config.batch_size)\n",
        "\n",
        "        weight = list(torchvision.models.get_model_weights('wide_resnet50_2'))[-1]\n",
        "        model = torch.hub.load('pytorch/vision', 'wide_resnet50_2', weight).to(device)\n",
        "        model.fc = nn.Linear(2048 , 10, bias=True).to(device)\n",
        "\n",
        "        train_test_loop(config=config,\n",
        "                        model=model,\n",
        "                        train_dataloader=train_dataloader,\n",
        "                        test_dataloader=test_dataloader,\n",
        "                        class_names=class_names\n",
        "                        )\n",
        "    return model\n",
        "\n",
        "\n",
        "count=10\n"
      ]
    },
    {
      "cell_type": "markdown",
      "source": [
        "# Run individual pipelines seperatelly to avoid system crashing"
      ],
      "metadata": {
        "id": "IE5CPHhYVMGV"
      }
    },
    {
      "cell_type": "code",
      "source": [
        "# restnet pipeline\n",
        "sweep_id_restnet50 = wandb.sweep(sweep_config, project=\"restnet-test\")\n",
        "wandb.agent(sweep_id_restnet50, train_model_resnet50, count=count)"
      ],
      "metadata": {
        "id": "tEPiE8rjUDDt"
      },
      "execution_count": null,
      "outputs": []
    },
    {
      "cell_type": "code",
      "source": [
        "# alexnet pipeline\n",
        "sweep_id_alexnet = wandb.sweep(sweep_config, project=\"alexnet-test\")\n",
        "wandb.agent(sweep_id_alexnet, train_model_alexnet, count=count)"
      ],
      "metadata": {
        "id": "EHnX7P8TUDBY"
      },
      "execution_count": null,
      "outputs": []
    },
    {
      "cell_type": "code",
      "source": [
        "# convnext_base pipeline\n",
        "sweep_id_convnext_base = wandb.sweep(sweep_config, project=\"convnext_base-test\")\n",
        "wandb.agent(sweep_id_convnext_base, train_model_convnext_base, count=count)"
      ],
      "metadata": {
        "id": "F1xSJAwGUC_K"
      },
      "execution_count": null,
      "outputs": []
    },
    {
      "cell_type": "code",
      "source": [
        "# densenet161 pipeline\n",
        "sweep_id_densenet161 = wandb.sweep(sweep_config, project=\"densenet161-test\")\n",
        "wandb.agent(sweep_id_densenet161, train_model_densenet161, count=count)"
      ],
      "metadata": {
        "id": "k49DONn1UC87"
      },
      "execution_count": null,
      "outputs": []
    },
    {
      "cell_type": "code",
      "source": [
        "# efficientnet_v2_l pipeline\n",
        "sweep_id_efficientnet_v2_l = wandb.sweep(sweep_config, project=\"efficientnet_v2_l-test\")\n",
        "wandb.agent(sweep_id_efficientnet_v2_l, train_model_efficientnet_v2_l, count=count)"
      ],
      "metadata": {
        "colab": {
          "base_uri": "https://localhost:8080/",
          "height": 1000,
          "referenced_widgets": [
            "7ab24b4078fa45eca2390bdd375ed3d2",
            "a2a0b7300ff8483aad57865cd7104359",
            "93ee221c23a149e1986951b62d65fff5",
            "d22a36ff726a4ba29ddb8ee66045148a",
            "d9476dd903114349b2c24ea7c3db8505",
            "1e3e41c1b82a497fbd15aae0e8d196a3",
            "f4bf98ba87d14ffeb5b219d82e411a7e",
            "456df452bf8a455abf3743c59532511d",
            "5c11f51295824517ad3ab9f02ad39da7",
            "ebd26b02686e4d758bc19c5b4e588ed5",
            "c5c8fc21649e436c8b5df8e5df662bab",
            "bb8c0427eb2f4fe4b6d7780d5fd0d3cc",
            "3a6c982938d0444680f8f361a277ab4b",
            "74a0e4d192a34d55812e2ecb45f49d7f",
            "8357096eb42548baa8d4eb6e4b4f6f87",
            "2f56d776fa0e413c9a0bd4e09498e2b1",
            "f561586ef55847368d38373e2768b8c2",
            "47917c874860403ea0e4ebfb6406f70d",
            "eb037f74876e4c3e94124c15587770d5",
            "a513e9dcfb7446ae830624f4fc9378e6",
            "f8651fbc209a421bad4d21c0c2268d01",
            "32a299e6cda14610b88eb05b55ca0e8d",
            "d2d61131e5924f26a005bc152d28d670",
            "b1c2a2308cdb4591b60428e50be29e0d",
            "2d34127a051c46d1beed33895ff9bf7b",
            "0b759c9c654a4f2b938dde06d740ec1e",
            "34f21e415d8f4ca8baea70a9ab42fe39",
            "e22afcd9bac54aa0a0f7592e3f543d2f",
            "ed6a3ce742154f4e8370d109ba5fedd9",
            "d385ed4b9c654cc4bd0a7f3100e82dcc",
            "34f5f04f93e44bdda3fec738fa7204cc",
            "d2d7812d5db146219cd478aaa73a9680",
            "fc34f44a5a544919abaa927dd7abf681",
            "47a2c901ac98422e9428f7cb04b8869f",
            "895bb5eb1cfe497c8f099462806d1b56",
            "904a7be1610141429b0315907accec4a",
            "e42805db61cb44c19b2cc18e5fc6caa4",
            "ab81601bc6624a8087122e44cb59b345",
            "45b8d9bad49e48448e20274745175492",
            "e761e3dd37614e009a1cc01cf100d7be",
            "96adfb1d2d814e288f83d636af5e0b6c",
            "867e638005da41ba8bf8220bbcffd7af",
            "53178b243a77482d9bf2c032f6de2798",
            "c3099a56fc024f3ab8ad190bde2a7b2b",
            "f7d0e0fa8d6a4861a21666bc93d25c78",
            "6be2c134686449799e346db8a68bc7ad",
            "894554cfe1a34663a6e05d6126e055c4",
            "4e7870298489458f93ffba7cff6e69d7",
            "4526f97309a040eba6d2950710e742be",
            "cb2c7ce22d394f88bcc51b07f428a75d",
            "0c6a5a2105134e1b8f6c12075df83998",
            "d555db47cd2f40549f71f9b966e4729b",
            "0836a0ef2ced449d8553bd6a6600e157",
            "a60c4807d7424ce4b9deb938859748cf",
            "c843107760424b17b68348911ecdef47",
            "3f88769a65c94f078e0650429047b8d0"
          ]
        },
        "id": "zWkaz-UvUC6a",
        "outputId": "ad88da45-b966-4760-bfc8-a9b467878d73"
      },
      "execution_count": 14,
      "outputs": [
        {
          "output_type": "stream",
          "name": "stdout",
          "text": [
            "Create sweep with ID: ou1xtqal\n",
            "Sweep URL: https://wandb.ai/gugi200/efficientnet_v2_l-test/sweeps/ou1xtqal\n"
          ]
        },
        {
          "output_type": "stream",
          "name": "stderr",
          "text": [
            "\u001b[34m\u001b[1mwandb\u001b[0m: Agent Starting Run: kzpcipne with config:\n",
            "\u001b[34m\u001b[1mwandb\u001b[0m: \tbatch_size: 16\n",
            "\u001b[34m\u001b[1mwandb\u001b[0m: \tepochs: 5\n",
            "\u001b[34m\u001b[1mwandb\u001b[0m: \tfc_layer_size: 6\n",
            "\u001b[34m\u001b[1mwandb\u001b[0m: \tlearning_rate: 0.001\n",
            "\u001b[34m\u001b[1mwandb\u001b[0m: \toptimizer: adam\n",
            "\u001b[34m\u001b[1mwandb\u001b[0m: Currently logged in as: \u001b[33mad20781\u001b[0m (\u001b[33mgugi200\u001b[0m). Use \u001b[1m`wandb login --relogin`\u001b[0m to force relogin\n"
          ]
        },
        {
          "output_type": "display_data",
          "data": {
            "text/plain": [
              "<IPython.core.display.HTML object>"
            ],
            "text/html": [
              "Tracking run with wandb version 0.16.2"
            ]
          },
          "metadata": {}
        },
        {
          "output_type": "display_data",
          "data": {
            "text/plain": [
              "<IPython.core.display.HTML object>"
            ],
            "text/html": [
              "Run data is saved locally in <code>/content/wandb/run-20240118_171922-kzpcipne</code>"
            ]
          },
          "metadata": {}
        },
        {
          "output_type": "display_data",
          "data": {
            "text/plain": [
              "<IPython.core.display.HTML object>"
            ],
            "text/html": [
              "Syncing run <strong><a href='https://wandb.ai/gugi200/efficientnet_v2_l-test/runs/kzpcipne' target=\"_blank\">zesty-sweep-1</a></strong> to <a href='https://wandb.ai/gugi200/efficientnet_v2_l-test' target=\"_blank\">Weights & Biases</a> (<a href='https://wandb.me/run' target=\"_blank\">docs</a>)<br/>Sweep page: <a href='https://wandb.ai/gugi200/efficientnet_v2_l-test/sweeps/ou1xtqal' target=\"_blank\">https://wandb.ai/gugi200/efficientnet_v2_l-test/sweeps/ou1xtqal</a>"
            ]
          },
          "metadata": {}
        },
        {
          "output_type": "display_data",
          "data": {
            "text/plain": [
              "<IPython.core.display.HTML object>"
            ],
            "text/html": [
              " View project at <a href='https://wandb.ai/gugi200/efficientnet_v2_l-test' target=\"_blank\">https://wandb.ai/gugi200/efficientnet_v2_l-test</a>"
            ]
          },
          "metadata": {}
        },
        {
          "output_type": "display_data",
          "data": {
            "text/plain": [
              "<IPython.core.display.HTML object>"
            ],
            "text/html": [
              " View sweep at <a href='https://wandb.ai/gugi200/efficientnet_v2_l-test/sweeps/ou1xtqal' target=\"_blank\">https://wandb.ai/gugi200/efficientnet_v2_l-test/sweeps/ou1xtqal</a>"
            ]
          },
          "metadata": {}
        },
        {
          "output_type": "display_data",
          "data": {
            "text/plain": [
              "<IPython.core.display.HTML object>"
            ],
            "text/html": [
              " View run at <a href='https://wandb.ai/gugi200/efficientnet_v2_l-test/runs/kzpcipne' target=\"_blank\">https://wandb.ai/gugi200/efficientnet_v2_l-test/runs/kzpcipne</a>"
            ]
          },
          "metadata": {}
        },
        {
          "output_type": "stream",
          "name": "stderr",
          "text": [
            "Downloading: \"https://github.com/pytorch/vision/zipball/main\" to /root/.cache/torch/hub/main.zip\n",
            "/usr/local/lib/python3.10/dist-packages/torchvision/models/_utils.py:135: UserWarning: Using 'weights' as positional parameter(s) is deprecated since 0.13 and may be removed in the future. Please use keyword parameter(s) instead.\n",
            "  warnings.warn(\n",
            "Downloading: \"https://download.pytorch.org/models/efficientnet_v2_l-59c71312.pth\" to /root/.cache/torch/hub/checkpoints/efficientnet_v2_l-59c71312.pth\n",
            "100%|██████████| 455M/455M [00:03<00:00, 121MB/s]\n"
          ]
        },
        {
          "output_type": "stream",
          "name": "stdout",
          "text": [
            "Train loss: 1.2728, Train acc: 56.7434%\n",
            "Test loss: 1.9605  |  Test acc: 40.0000%\n",
            "Train loss: 0.7757, Train acc: 73.8487%\n",
            "Test loss: 0.6253  |  Test acc: 74.7917%\n",
            "Train loss: 0.6502, Train acc: 78.4539%\n",
            "Test loss: 0.6499  |  Test acc: 79.5833%\n",
            "Train loss: 0.5423, Train acc: 85.3618%\n",
            "Test loss: 0.6344  |  Test acc: 78.7500%\n"
          ]
        },
        {
          "output_type": "stream",
          "name": "stderr",
          "text": [
            "Traceback (most recent call last):\n",
            "  File \"<ipython-input-13-38f261dcf365>\", line 162, in train_model_efficientnet_v2_l\n",
            "    train_test_loop(config=config,\n",
            "  File \"<ipython-input-12-9478190983b9>\", line 333, in train_test_loop\n",
            "    ave_batch_loss, ave_batch_metric = train_step(\n",
            "  File \"<ipython-input-12-9478190983b9>\", line 124, in train_step\n",
            "    acc = metric(y, torch.argmax(y_pred, dim=1))\n",
            "  File \"/usr/local/lib/python3.10/dist-packages/torch/nn/modules/module.py\", line 1518, in _wrapped_call_impl\n",
            "    return self._call_impl(*args, **kwargs)\n",
            "  File \"/usr/local/lib/python3.10/dist-packages/torch/nn/modules/module.py\", line 1527, in _call_impl\n",
            "    return forward_call(*args, **kwargs)\n",
            "  File \"/usr/local/lib/python3.10/dist-packages/torchmetrics/metric.py\", line 303, in forward\n",
            "    self._forward_cache = self._forward_reduce_state_update(*args, **kwargs)\n",
            "  File \"/usr/local/lib/python3.10/dist-packages/torchmetrics/metric.py\", line 372, in _forward_reduce_state_update\n",
            "    self.update(*args, **kwargs)\n",
            "  File \"/usr/local/lib/python3.10/dist-packages/torchmetrics/metric.py\", line 475, in wrapped_func\n",
            "    raise err\n",
            "  File \"/usr/local/lib/python3.10/dist-packages/torchmetrics/metric.py\", line 465, in wrapped_func\n",
            "    update(*args, **kwargs)\n",
            "  File \"/usr/local/lib/python3.10/dist-packages/torchmetrics/classification/stat_scores.py\", line 331, in update\n",
            "    _multiclass_stat_scores_tensor_validation(\n",
            "  File \"/usr/local/lib/python3.10/dist-packages/torchmetrics/functional/classification/stat_scores.py\", line 310, in _multiclass_stat_scores_tensor_validation\n",
            "    raise RuntimeError(\n",
            "RuntimeError: Detected more unique values in `target` than `num_classes`. Expected only 6 but found 7 in `target`.\n"
          ]
        },
        {
          "output_type": "display_data",
          "data": {
            "text/plain": [
              "VBox(children=(Label(value='0.001 MB of 0.001 MB uploaded\\r'), FloatProgress(value=1.0, max=1.0)))"
            ],
            "application/vnd.jupyter.widget-view+json": {
              "version_major": 2,
              "version_minor": 0,
              "model_id": "7ab24b4078fa45eca2390bdd375ed3d2"
            }
          },
          "metadata": {}
        },
        {
          "output_type": "display_data",
          "data": {
            "text/plain": [
              "<IPython.core.display.HTML object>"
            ],
            "text/html": [
              "<style>\n",
              "    table.wandb td:nth-child(1) { padding: 0 10px; text-align: left ; width: auto;} td:nth-child(2) {text-align: left ; width: 100%}\n",
              "    .wandb-row { display: flex; flex-direction: row; flex-wrap: wrap; justify-content: flex-start; width: 100% }\n",
              "    .wandb-col { display: flex; flex-direction: column; flex-basis: 100%; flex: 1; padding: 10px; }\n",
              "    </style>\n",
              "<div class=\"wandb-row\"><div class=\"wandb-col\"><h3>Run history:</h3><br/><table class=\"wandb\"><tr><td>accuracy</td><td>▁▃▄▆▃▅▅▅▂▃▇▆▅▆▇▃▅▆▄▆▅▆▆▆▇▇▇▇█▇▇▆▆█▆▆▆▆▆▇</td></tr><tr><td>average test batch loss</td><td>█▃▂▁</td></tr><tr><td>average test batch metric</td><td>▁▇██</td></tr><tr><td>average train batch loss</td><td>█▃▂▁</td></tr><tr><td>average train batch metric</td><td>▁▇██</td></tr><tr><td>epoch</td><td>▁▃▆█</td></tr><tr><td>loss</td><td>█▆▅▄▆▄▃▄▇▄▂▂▆▃▂▄▄▃▅▂▃▄▃▄▂▃▂▂▁▃▃▂▂▁▃▂▃▃▃▁</td></tr><tr><td>test accuracy</td><td>▂▁▄▃▄▂▃▄▃▄▇▄▅▆▆▆▆▆▆▅▆▆▆▅▇▅▅█▆▇▆▆▅█▇▅▆▆▇▄</td></tr><tr><td>test loss</td><td>██▅▅▆▇▆▅▇▅▁▄▃▂▂▂▃▂▃▂▃▂▂▃▃▄▃▁▂▂▄▃▂▁▂▂▃▂▂▄</td></tr></table><br/></div><div class=\"wandb-col\"><h3>Run summary:</h3><br/><table class=\"wandb\"><tr><td>accuracy</td><td>0.9375</td></tr><tr><td>average test batch loss</td><td>0.54227</td></tr><tr><td>average test batch metric</td><td>0.7875</td></tr><tr><td>average train batch loss</td><td>0.54227</td></tr><tr><td>average train batch metric</td><td>0.7875</td></tr><tr><td>epoch</td><td>3</td></tr><tr><td>loss</td><td>0.09067</td></tr><tr><td>test accuracy</td><td>0.5</td></tr><tr><td>test loss</td><td>1.08857</td></tr></table><br/></div></div>"
            ]
          },
          "metadata": {}
        },
        {
          "output_type": "display_data",
          "data": {
            "text/plain": [
              "<IPython.core.display.HTML object>"
            ],
            "text/html": [
              " View run <strong style=\"color:#cdcd00\">zesty-sweep-1</strong> at: <a href='https://wandb.ai/gugi200/efficientnet_v2_l-test/runs/kzpcipne' target=\"_blank\">https://wandb.ai/gugi200/efficientnet_v2_l-test/runs/kzpcipne</a><br/>Synced 5 W&B file(s), 0 media file(s), 0 artifact file(s) and 0 other file(s)"
            ]
          },
          "metadata": {}
        },
        {
          "output_type": "display_data",
          "data": {
            "text/plain": [
              "<IPython.core.display.HTML object>"
            ],
            "text/html": [
              "Find logs at: <code>./wandb/run-20240118_171922-kzpcipne/logs</code>"
            ]
          },
          "metadata": {}
        },
        {
          "output_type": "stream",
          "name": "stderr",
          "text": [
            "Run kzpcipne errored: RuntimeError('Detected more unique values in `target` than `num_classes`. Expected only 6 but found 7 in `target`.')\n",
            "\u001b[34m\u001b[1mwandb\u001b[0m: \u001b[32m\u001b[41mERROR\u001b[0m Run kzpcipne errored: RuntimeError('Detected more unique values in `target` than `num_classes`. Expected only 6 but found 7 in `target`.')\n",
            "\u001b[34m\u001b[1mwandb\u001b[0m: Agent Starting Run: gm12qeg1 with config:\n",
            "\u001b[34m\u001b[1mwandb\u001b[0m: \tbatch_size: 16\n",
            "\u001b[34m\u001b[1mwandb\u001b[0m: \tepochs: 5\n",
            "\u001b[34m\u001b[1mwandb\u001b[0m: \tfc_layer_size: 6\n",
            "\u001b[34m\u001b[1mwandb\u001b[0m: \tlearning_rate: 0.001\n",
            "\u001b[34m\u001b[1mwandb\u001b[0m: \toptimizer: sgd\n"
          ]
        },
        {
          "output_type": "display_data",
          "data": {
            "text/plain": [
              "<IPython.core.display.HTML object>"
            ],
            "text/html": [
              "Tracking run with wandb version 0.16.2"
            ]
          },
          "metadata": {}
        },
        {
          "output_type": "display_data",
          "data": {
            "text/plain": [
              "<IPython.core.display.HTML object>"
            ],
            "text/html": [
              "Run data is saved locally in <code>/content/wandb/run-20240118_172156-gm12qeg1</code>"
            ]
          },
          "metadata": {}
        },
        {
          "output_type": "display_data",
          "data": {
            "text/plain": [
              "<IPython.core.display.HTML object>"
            ],
            "text/html": [
              "Syncing run <strong><a href='https://wandb.ai/gugi200/efficientnet_v2_l-test/runs/gm12qeg1' target=\"_blank\">decent-sweep-2</a></strong> to <a href='https://wandb.ai/gugi200/efficientnet_v2_l-test' target=\"_blank\">Weights & Biases</a> (<a href='https://wandb.me/run' target=\"_blank\">docs</a>)<br/>Sweep page: <a href='https://wandb.ai/gugi200/efficientnet_v2_l-test/sweeps/ou1xtqal' target=\"_blank\">https://wandb.ai/gugi200/efficientnet_v2_l-test/sweeps/ou1xtqal</a>"
            ]
          },
          "metadata": {}
        },
        {
          "output_type": "display_data",
          "data": {
            "text/plain": [
              "<IPython.core.display.HTML object>"
            ],
            "text/html": [
              " View project at <a href='https://wandb.ai/gugi200/efficientnet_v2_l-test' target=\"_blank\">https://wandb.ai/gugi200/efficientnet_v2_l-test</a>"
            ]
          },
          "metadata": {}
        },
        {
          "output_type": "display_data",
          "data": {
            "text/plain": [
              "<IPython.core.display.HTML object>"
            ],
            "text/html": [
              " View sweep at <a href='https://wandb.ai/gugi200/efficientnet_v2_l-test/sweeps/ou1xtqal' target=\"_blank\">https://wandb.ai/gugi200/efficientnet_v2_l-test/sweeps/ou1xtqal</a>"
            ]
          },
          "metadata": {}
        },
        {
          "output_type": "display_data",
          "data": {
            "text/plain": [
              "<IPython.core.display.HTML object>"
            ],
            "text/html": [
              " View run at <a href='https://wandb.ai/gugi200/efficientnet_v2_l-test/runs/gm12qeg1' target=\"_blank\">https://wandb.ai/gugi200/efficientnet_v2_l-test/runs/gm12qeg1</a>"
            ]
          },
          "metadata": {}
        },
        {
          "output_type": "stream",
          "name": "stderr",
          "text": [
            "Using cache found in /root/.cache/torch/hub/pytorch_vision_main\n",
            "Traceback (most recent call last):\n",
            "  File \"<ipython-input-13-38f261dcf365>\", line 162, in train_model_efficientnet_v2_l\n",
            "    train_test_loop(config=config,\n",
            "  File \"<ipython-input-12-9478190983b9>\", line 333, in train_test_loop\n",
            "    ave_batch_loss, ave_batch_metric = train_step(\n",
            "  File \"<ipython-input-12-9478190983b9>\", line 119, in train_step\n",
            "    y_pred = model(X)\n",
            "  File \"/usr/local/lib/python3.10/dist-packages/torch/nn/modules/module.py\", line 1518, in _wrapped_call_impl\n",
            "    return self._call_impl(*args, **kwargs)\n",
            "  File \"/usr/local/lib/python3.10/dist-packages/torch/nn/modules/module.py\", line 1527, in _call_impl\n",
            "    return forward_call(*args, **kwargs)\n",
            "  File \"/usr/local/lib/python3.10/dist-packages/torchvision/models/efficientnet.py\", line 343, in forward\n",
            "    return self._forward_impl(x)\n",
            "  File \"/usr/local/lib/python3.10/dist-packages/torchvision/models/efficientnet.py\", line 333, in _forward_impl\n",
            "    x = self.features(x)\n",
            "  File \"/usr/local/lib/python3.10/dist-packages/torch/nn/modules/module.py\", line 1518, in _wrapped_call_impl\n",
            "    return self._call_impl(*args, **kwargs)\n",
            "  File \"/usr/local/lib/python3.10/dist-packages/torch/nn/modules/module.py\", line 1527, in _call_impl\n",
            "    return forward_call(*args, **kwargs)\n",
            "  File \"/usr/local/lib/python3.10/dist-packages/torch/nn/modules/container.py\", line 215, in forward\n",
            "    input = module(input)\n",
            "  File \"/usr/local/lib/python3.10/dist-packages/torch/nn/modules/module.py\", line 1518, in _wrapped_call_impl\n",
            "    return self._call_impl(*args, **kwargs)\n",
            "  File \"/usr/local/lib/python3.10/dist-packages/torch/nn/modules/module.py\", line 1527, in _call_impl\n",
            "    return forward_call(*args, **kwargs)\n",
            "  File \"/usr/local/lib/python3.10/dist-packages/torch/nn/modules/container.py\", line 215, in forward\n",
            "    input = module(input)\n",
            "  File \"/usr/local/lib/python3.10/dist-packages/torch/nn/modules/module.py\", line 1518, in _wrapped_call_impl\n",
            "    return self._call_impl(*args, **kwargs)\n",
            "  File \"/usr/local/lib/python3.10/dist-packages/torch/nn/modules/module.py\", line 1527, in _call_impl\n",
            "    return forward_call(*args, **kwargs)\n",
            "  File \"/usr/local/lib/python3.10/dist-packages/torchvision/models/efficientnet.py\", line 164, in forward\n",
            "    result = self.block(input)\n",
            "  File \"/usr/local/lib/python3.10/dist-packages/torch/nn/modules/module.py\", line 1518, in _wrapped_call_impl\n",
            "    return self._call_impl(*args, **kwargs)\n",
            "  File \"/usr/local/lib/python3.10/dist-packages/torch/nn/modules/module.py\", line 1527, in _call_impl\n",
            "    return forward_call(*args, **kwargs)\n",
            "  File \"/usr/local/lib/python3.10/dist-packages/torch/nn/modules/container.py\", line 215, in forward\n",
            "    input = module(input)\n",
            "  File \"/usr/local/lib/python3.10/dist-packages/torch/nn/modules/module.py\", line 1518, in _wrapped_call_impl\n",
            "    return self._call_impl(*args, **kwargs)\n",
            "  File \"/usr/local/lib/python3.10/dist-packages/torch/nn/modules/module.py\", line 1527, in _call_impl\n",
            "    return forward_call(*args, **kwargs)\n",
            "  File \"/usr/local/lib/python3.10/dist-packages/torchvision/ops/misc.py\", line 260, in forward\n",
            "    return scale * input\n",
            "torch.cuda.OutOfMemoryError: CUDA out of memory. Tried to allocate 20.00 MiB. GPU 0 has a total capacty of 14.75 GiB of which 5.06 MiB is free. Process 16945 has 14.74 GiB memory in use. Of the allocated memory 14.52 GiB is allocated by PyTorch, and 68.13 MiB is reserved by PyTorch but unallocated. If reserved but unallocated memory is large try setting max_split_size_mb to avoid fragmentation.  See documentation for Memory Management and PYTORCH_CUDA_ALLOC_CONF\n"
          ]
        },
        {
          "output_type": "display_data",
          "data": {
            "text/plain": [
              "VBox(children=(Label(value='0.001 MB of 0.014 MB uploaded\\r'), FloatProgress(value=0.08699557766721946, max=1.…"
            ],
            "application/vnd.jupyter.widget-view+json": {
              "version_major": 2,
              "version_minor": 0,
              "model_id": "5c11f51295824517ad3ab9f02ad39da7"
            }
          },
          "metadata": {}
        },
        {
          "output_type": "display_data",
          "data": {
            "text/plain": [
              "<IPython.core.display.HTML object>"
            ],
            "text/html": [
              " View run <strong style=\"color:#cdcd00\">decent-sweep-2</strong> at: <a href='https://wandb.ai/gugi200/efficientnet_v2_l-test/runs/gm12qeg1' target=\"_blank\">https://wandb.ai/gugi200/efficientnet_v2_l-test/runs/gm12qeg1</a><br/>Synced 5 W&B file(s), 0 media file(s), 0 artifact file(s) and 0 other file(s)"
            ]
          },
          "metadata": {}
        },
        {
          "output_type": "display_data",
          "data": {
            "text/plain": [
              "<IPython.core.display.HTML object>"
            ],
            "text/html": [
              "Find logs at: <code>./wandb/run-20240118_172156-gm12qeg1/logs</code>"
            ]
          },
          "metadata": {}
        },
        {
          "output_type": "stream",
          "name": "stderr",
          "text": [
            "Run gm12qeg1 errored: OutOfMemoryError('CUDA out of memory. Tried to allocate 20.00 MiB. GPU 0 has a total capacty of 14.75 GiB of which 5.06 MiB is free. Process 16945 has 14.74 GiB memory in use. Of the allocated memory 14.52 GiB is allocated by PyTorch, and 68.13 MiB is reserved by PyTorch but unallocated. If reserved but unallocated memory is large try setting max_split_size_mb to avoid fragmentation.  See documentation for Memory Management and PYTORCH_CUDA_ALLOC_CONF')\n",
            "\u001b[34m\u001b[1mwandb\u001b[0m: \u001b[32m\u001b[41mERROR\u001b[0m Run gm12qeg1 errored: OutOfMemoryError('CUDA out of memory. Tried to allocate 20.00 MiB. GPU 0 has a total capacty of 14.75 GiB of which 5.06 MiB is free. Process 16945 has 14.74 GiB memory in use. Of the allocated memory 14.52 GiB is allocated by PyTorch, and 68.13 MiB is reserved by PyTorch but unallocated. If reserved but unallocated memory is large try setting max_split_size_mb to avoid fragmentation.  See documentation for Memory Management and PYTORCH_CUDA_ALLOC_CONF')\n",
            "\u001b[34m\u001b[1mwandb\u001b[0m: Agent Starting Run: ef3zuzly with config:\n",
            "\u001b[34m\u001b[1mwandb\u001b[0m: \tbatch_size: 16\n",
            "\u001b[34m\u001b[1mwandb\u001b[0m: \tepochs: 5\n",
            "\u001b[34m\u001b[1mwandb\u001b[0m: \tfc_layer_size: 6\n",
            "\u001b[34m\u001b[1mwandb\u001b[0m: \tlearning_rate: 0.01\n",
            "\u001b[34m\u001b[1mwandb\u001b[0m: \toptimizer: adam\n"
          ]
        },
        {
          "output_type": "display_data",
          "data": {
            "text/plain": [
              "<IPython.core.display.HTML object>"
            ],
            "text/html": [
              "Tracking run with wandb version 0.16.2"
            ]
          },
          "metadata": {}
        },
        {
          "output_type": "display_data",
          "data": {
            "text/plain": [
              "<IPython.core.display.HTML object>"
            ],
            "text/html": [
              "Run data is saved locally in <code>/content/wandb/run-20240118_172217-ef3zuzly</code>"
            ]
          },
          "metadata": {}
        },
        {
          "output_type": "display_data",
          "data": {
            "text/plain": [
              "<IPython.core.display.HTML object>"
            ],
            "text/html": [
              "Syncing run <strong><a href='https://wandb.ai/gugi200/efficientnet_v2_l-test/runs/ef3zuzly' target=\"_blank\">upbeat-sweep-3</a></strong> to <a href='https://wandb.ai/gugi200/efficientnet_v2_l-test' target=\"_blank\">Weights & Biases</a> (<a href='https://wandb.me/run' target=\"_blank\">docs</a>)<br/>Sweep page: <a href='https://wandb.ai/gugi200/efficientnet_v2_l-test/sweeps/ou1xtqal' target=\"_blank\">https://wandb.ai/gugi200/efficientnet_v2_l-test/sweeps/ou1xtqal</a>"
            ]
          },
          "metadata": {}
        },
        {
          "output_type": "display_data",
          "data": {
            "text/plain": [
              "<IPython.core.display.HTML object>"
            ],
            "text/html": [
              " View project at <a href='https://wandb.ai/gugi200/efficientnet_v2_l-test' target=\"_blank\">https://wandb.ai/gugi200/efficientnet_v2_l-test</a>"
            ]
          },
          "metadata": {}
        },
        {
          "output_type": "display_data",
          "data": {
            "text/plain": [
              "<IPython.core.display.HTML object>"
            ],
            "text/html": [
              " View sweep at <a href='https://wandb.ai/gugi200/efficientnet_v2_l-test/sweeps/ou1xtqal' target=\"_blank\">https://wandb.ai/gugi200/efficientnet_v2_l-test/sweeps/ou1xtqal</a>"
            ]
          },
          "metadata": {}
        },
        {
          "output_type": "display_data",
          "data": {
            "text/plain": [
              "<IPython.core.display.HTML object>"
            ],
            "text/html": [
              " View run at <a href='https://wandb.ai/gugi200/efficientnet_v2_l-test/runs/ef3zuzly' target=\"_blank\">https://wandb.ai/gugi200/efficientnet_v2_l-test/runs/ef3zuzly</a>"
            ]
          },
          "metadata": {}
        },
        {
          "output_type": "stream",
          "name": "stderr",
          "text": [
            "Using cache found in /root/.cache/torch/hub/pytorch_vision_main\n",
            "Traceback (most recent call last):\n",
            "  File \"<ipython-input-13-38f261dcf365>\", line 159, in train_model_efficientnet_v2_l\n",
            "    model = torch.hub.load('pytorch/vision', 'efficientnet_v2_l', weight).to(device)\n",
            "  File \"/usr/local/lib/python3.10/dist-packages/torch/nn/modules/module.py\", line 1160, in to\n",
            "    return self._apply(convert)\n",
            "  File \"/usr/local/lib/python3.10/dist-packages/torch/nn/modules/module.py\", line 810, in _apply\n",
            "    module._apply(fn)\n",
            "  File \"/usr/local/lib/python3.10/dist-packages/torch/nn/modules/module.py\", line 810, in _apply\n",
            "    module._apply(fn)\n",
            "  File \"/usr/local/lib/python3.10/dist-packages/torch/nn/modules/module.py\", line 810, in _apply\n",
            "    module._apply(fn)\n",
            "  [Previous line repeated 3 more times]\n",
            "  File \"/usr/local/lib/python3.10/dist-packages/torch/nn/modules/module.py\", line 833, in _apply\n",
            "    param_applied = fn(param)\n",
            "  File \"/usr/local/lib/python3.10/dist-packages/torch/nn/modules/module.py\", line 1158, in convert\n",
            "    return t.to(device, dtype if t.is_floating_point() or t.is_complex() else None, non_blocking)\n",
            "torch.cuda.OutOfMemoryError: CUDA out of memory. Tried to allocate 2.00 MiB. GPU 0 has a total capacty of 14.75 GiB of which 1.06 MiB is free. Process 16945 has 14.74 GiB memory in use. Of the allocated memory 14.54 GiB is allocated by PyTorch, and 54.43 MiB is reserved by PyTorch but unallocated. If reserved but unallocated memory is large try setting max_split_size_mb to avoid fragmentation.  See documentation for Memory Management and PYTORCH_CUDA_ALLOC_CONF\n"
          ]
        },
        {
          "output_type": "display_data",
          "data": {
            "text/plain": [
              "VBox(children=(Label(value='0.001 MB of 0.001 MB uploaded\\r'), FloatProgress(value=1.0, max=1.0)))"
            ],
            "application/vnd.jupyter.widget-view+json": {
              "version_major": 2,
              "version_minor": 0,
              "model_id": "f561586ef55847368d38373e2768b8c2"
            }
          },
          "metadata": {}
        },
        {
          "output_type": "display_data",
          "data": {
            "text/plain": [
              "<IPython.core.display.HTML object>"
            ],
            "text/html": [
              " View run <strong style=\"color:#cdcd00\">upbeat-sweep-3</strong> at: <a href='https://wandb.ai/gugi200/efficientnet_v2_l-test/runs/ef3zuzly' target=\"_blank\">https://wandb.ai/gugi200/efficientnet_v2_l-test/runs/ef3zuzly</a><br/>Synced 5 W&B file(s), 0 media file(s), 0 artifact file(s) and 0 other file(s)"
            ]
          },
          "metadata": {}
        },
        {
          "output_type": "display_data",
          "data": {
            "text/plain": [
              "<IPython.core.display.HTML object>"
            ],
            "text/html": [
              "Find logs at: <code>./wandb/run-20240118_172217-ef3zuzly/logs</code>"
            ]
          },
          "metadata": {}
        },
        {
          "output_type": "stream",
          "name": "stderr",
          "text": [
            "Run ef3zuzly errored: OutOfMemoryError('CUDA out of memory. Tried to allocate 2.00 MiB. GPU 0 has a total capacty of 14.75 GiB of which 1.06 MiB is free. Process 16945 has 14.74 GiB memory in use. Of the allocated memory 14.54 GiB is allocated by PyTorch, and 54.43 MiB is reserved by PyTorch but unallocated. If reserved but unallocated memory is large try setting max_split_size_mb to avoid fragmentation.  See documentation for Memory Management and PYTORCH_CUDA_ALLOC_CONF')\n",
            "\u001b[34m\u001b[1mwandb\u001b[0m: \u001b[32m\u001b[41mERROR\u001b[0m Run ef3zuzly errored: OutOfMemoryError('CUDA out of memory. Tried to allocate 2.00 MiB. GPU 0 has a total capacty of 14.75 GiB of which 1.06 MiB is free. Process 16945 has 14.74 GiB memory in use. Of the allocated memory 14.54 GiB is allocated by PyTorch, and 54.43 MiB is reserved by PyTorch but unallocated. If reserved but unallocated memory is large try setting max_split_size_mb to avoid fragmentation.  See documentation for Memory Management and PYTORCH_CUDA_ALLOC_CONF')\n",
            "\u001b[34m\u001b[1mwandb\u001b[0m: Agent Starting Run: p2cjfbev with config:\n",
            "\u001b[34m\u001b[1mwandb\u001b[0m: \tbatch_size: 16\n",
            "\u001b[34m\u001b[1mwandb\u001b[0m: \tepochs: 5\n",
            "\u001b[34m\u001b[1mwandb\u001b[0m: \tfc_layer_size: 6\n",
            "\u001b[34m\u001b[1mwandb\u001b[0m: \tlearning_rate: 0.01\n",
            "\u001b[34m\u001b[1mwandb\u001b[0m: \toptimizer: sgd\n"
          ]
        },
        {
          "output_type": "display_data",
          "data": {
            "text/plain": [
              "VBox(children=(Label(value='Waiting for wandb.init()...\\r'), FloatProgress(value=0.011112594255555703, max=1.0…"
            ],
            "application/vnd.jupyter.widget-view+json": {
              "version_major": 2,
              "version_minor": 0,
              "model_id": "2d34127a051c46d1beed33895ff9bf7b"
            }
          },
          "metadata": {}
        },
        {
          "output_type": "display_data",
          "data": {
            "text/plain": [
              "<IPython.core.display.HTML object>"
            ],
            "text/html": [
              "Tracking run with wandb version 0.16.2"
            ]
          },
          "metadata": {}
        },
        {
          "output_type": "display_data",
          "data": {
            "text/plain": [
              "<IPython.core.display.HTML object>"
            ],
            "text/html": [
              "Run data is saved locally in <code>/content/wandb/run-20240118_172238-p2cjfbev</code>"
            ]
          },
          "metadata": {}
        },
        {
          "output_type": "display_data",
          "data": {
            "text/plain": [
              "<IPython.core.display.HTML object>"
            ],
            "text/html": [
              "Syncing run <strong><a href='https://wandb.ai/gugi200/efficientnet_v2_l-test/runs/p2cjfbev' target=\"_blank\">treasured-sweep-4</a></strong> to <a href='https://wandb.ai/gugi200/efficientnet_v2_l-test' target=\"_blank\">Weights & Biases</a> (<a href='https://wandb.me/run' target=\"_blank\">docs</a>)<br/>Sweep page: <a href='https://wandb.ai/gugi200/efficientnet_v2_l-test/sweeps/ou1xtqal' target=\"_blank\">https://wandb.ai/gugi200/efficientnet_v2_l-test/sweeps/ou1xtqal</a>"
            ]
          },
          "metadata": {}
        },
        {
          "output_type": "display_data",
          "data": {
            "text/plain": [
              "<IPython.core.display.HTML object>"
            ],
            "text/html": [
              " View project at <a href='https://wandb.ai/gugi200/efficientnet_v2_l-test' target=\"_blank\">https://wandb.ai/gugi200/efficientnet_v2_l-test</a>"
            ]
          },
          "metadata": {}
        },
        {
          "output_type": "display_data",
          "data": {
            "text/plain": [
              "<IPython.core.display.HTML object>"
            ],
            "text/html": [
              " View sweep at <a href='https://wandb.ai/gugi200/efficientnet_v2_l-test/sweeps/ou1xtqal' target=\"_blank\">https://wandb.ai/gugi200/efficientnet_v2_l-test/sweeps/ou1xtqal</a>"
            ]
          },
          "metadata": {}
        },
        {
          "output_type": "display_data",
          "data": {
            "text/plain": [
              "<IPython.core.display.HTML object>"
            ],
            "text/html": [
              " View run at <a href='https://wandb.ai/gugi200/efficientnet_v2_l-test/runs/p2cjfbev' target=\"_blank\">https://wandb.ai/gugi200/efficientnet_v2_l-test/runs/p2cjfbev</a>"
            ]
          },
          "metadata": {}
        },
        {
          "output_type": "stream",
          "name": "stderr",
          "text": [
            "Using cache found in /root/.cache/torch/hub/pytorch_vision_main\n",
            "Traceback (most recent call last):\n",
            "  File \"<ipython-input-13-38f261dcf365>\", line 159, in train_model_efficientnet_v2_l\n",
            "    model = torch.hub.load('pytorch/vision', 'efficientnet_v2_l', weight).to(device)\n",
            "  File \"/usr/local/lib/python3.10/dist-packages/torch/nn/modules/module.py\", line 1160, in to\n",
            "    return self._apply(convert)\n",
            "  File \"/usr/local/lib/python3.10/dist-packages/torch/nn/modules/module.py\", line 810, in _apply\n",
            "    module._apply(fn)\n",
            "  File \"/usr/local/lib/python3.10/dist-packages/torch/nn/modules/module.py\", line 810, in _apply\n",
            "    module._apply(fn)\n",
            "  File \"/usr/local/lib/python3.10/dist-packages/torch/nn/modules/module.py\", line 810, in _apply\n",
            "    module._apply(fn)\n",
            "  [Previous line repeated 3 more times]\n",
            "  File \"/usr/local/lib/python3.10/dist-packages/torch/nn/modules/module.py\", line 833, in _apply\n",
            "    param_applied = fn(param)\n",
            "  File \"/usr/local/lib/python3.10/dist-packages/torch/nn/modules/module.py\", line 1158, in convert\n",
            "    return t.to(device, dtype if t.is_floating_point() or t.is_complex() else None, non_blocking)\n",
            "torch.cuda.OutOfMemoryError: CUDA out of memory. Tried to allocate 2.00 MiB. GPU 0 has a total capacty of 14.75 GiB of which 1.06 MiB is free. Process 16945 has 14.74 GiB memory in use. Of the allocated memory 14.54 GiB is allocated by PyTorch, and 54.38 MiB is reserved by PyTorch but unallocated. If reserved but unallocated memory is large try setting max_split_size_mb to avoid fragmentation.  See documentation for Memory Management and PYTORCH_CUDA_ALLOC_CONF\n"
          ]
        },
        {
          "output_type": "display_data",
          "data": {
            "text/plain": [
              "VBox(children=(Label(value='0.001 MB of 0.001 MB uploaded\\r'), FloatProgress(value=1.0, max=1.0)))"
            ],
            "application/vnd.jupyter.widget-view+json": {
              "version_major": 2,
              "version_minor": 0,
              "model_id": "fc34f44a5a544919abaa927dd7abf681"
            }
          },
          "metadata": {}
        },
        {
          "output_type": "display_data",
          "data": {
            "text/plain": [
              "<IPython.core.display.HTML object>"
            ],
            "text/html": [
              " View run <strong style=\"color:#cdcd00\">treasured-sweep-4</strong> at: <a href='https://wandb.ai/gugi200/efficientnet_v2_l-test/runs/p2cjfbev' target=\"_blank\">https://wandb.ai/gugi200/efficientnet_v2_l-test/runs/p2cjfbev</a><br/>Synced 5 W&B file(s), 0 media file(s), 0 artifact file(s) and 0 other file(s)"
            ]
          },
          "metadata": {}
        },
        {
          "output_type": "display_data",
          "data": {
            "text/plain": [
              "<IPython.core.display.HTML object>"
            ],
            "text/html": [
              "Find logs at: <code>./wandb/run-20240118_172238-p2cjfbev/logs</code>"
            ]
          },
          "metadata": {}
        },
        {
          "output_type": "stream",
          "name": "stderr",
          "text": [
            "Run p2cjfbev errored: OutOfMemoryError('CUDA out of memory. Tried to allocate 2.00 MiB. GPU 0 has a total capacty of 14.75 GiB of which 1.06 MiB is free. Process 16945 has 14.74 GiB memory in use. Of the allocated memory 14.54 GiB is allocated by PyTorch, and 54.38 MiB is reserved by PyTorch but unallocated. If reserved but unallocated memory is large try setting max_split_size_mb to avoid fragmentation.  See documentation for Memory Management and PYTORCH_CUDA_ALLOC_CONF')\n",
            "\u001b[34m\u001b[1mwandb\u001b[0m: \u001b[32m\u001b[41mERROR\u001b[0m Run p2cjfbev errored: OutOfMemoryError('CUDA out of memory. Tried to allocate 2.00 MiB. GPU 0 has a total capacty of 14.75 GiB of which 1.06 MiB is free. Process 16945 has 14.74 GiB memory in use. Of the allocated memory 14.54 GiB is allocated by PyTorch, and 54.38 MiB is reserved by PyTorch but unallocated. If reserved but unallocated memory is large try setting max_split_size_mb to avoid fragmentation.  See documentation for Memory Management and PYTORCH_CUDA_ALLOC_CONF')\n",
            "\u001b[34m\u001b[1mwandb\u001b[0m: Agent Starting Run: sl3pdtuw with config:\n",
            "\u001b[34m\u001b[1mwandb\u001b[0m: \tbatch_size: 16\n",
            "\u001b[34m\u001b[1mwandb\u001b[0m: \tepochs: 5\n",
            "\u001b[34m\u001b[1mwandb\u001b[0m: \tfc_layer_size: 6\n",
            "\u001b[34m\u001b[1mwandb\u001b[0m: \tlearning_rate: 0.1\n",
            "\u001b[34m\u001b[1mwandb\u001b[0m: \toptimizer: adam\n"
          ]
        },
        {
          "output_type": "display_data",
          "data": {
            "text/plain": [
              "<IPython.core.display.HTML object>"
            ],
            "text/html": [
              "Tracking run with wandb version 0.16.2"
            ]
          },
          "metadata": {}
        },
        {
          "output_type": "display_data",
          "data": {
            "text/plain": [
              "<IPython.core.display.HTML object>"
            ],
            "text/html": [
              "Run data is saved locally in <code>/content/wandb/run-20240118_172305-sl3pdtuw</code>"
            ]
          },
          "metadata": {}
        },
        {
          "output_type": "display_data",
          "data": {
            "text/plain": [
              "<IPython.core.display.HTML object>"
            ],
            "text/html": [
              "Syncing run <strong><a href='https://wandb.ai/gugi200/efficientnet_v2_l-test/runs/sl3pdtuw' target=\"_blank\">amber-sweep-5</a></strong> to <a href='https://wandb.ai/gugi200/efficientnet_v2_l-test' target=\"_blank\">Weights & Biases</a> (<a href='https://wandb.me/run' target=\"_blank\">docs</a>)<br/>Sweep page: <a href='https://wandb.ai/gugi200/efficientnet_v2_l-test/sweeps/ou1xtqal' target=\"_blank\">https://wandb.ai/gugi200/efficientnet_v2_l-test/sweeps/ou1xtqal</a>"
            ]
          },
          "metadata": {}
        },
        {
          "output_type": "display_data",
          "data": {
            "text/plain": [
              "<IPython.core.display.HTML object>"
            ],
            "text/html": [
              " View project at <a href='https://wandb.ai/gugi200/efficientnet_v2_l-test' target=\"_blank\">https://wandb.ai/gugi200/efficientnet_v2_l-test</a>"
            ]
          },
          "metadata": {}
        },
        {
          "output_type": "display_data",
          "data": {
            "text/plain": [
              "<IPython.core.display.HTML object>"
            ],
            "text/html": [
              " View sweep at <a href='https://wandb.ai/gugi200/efficientnet_v2_l-test/sweeps/ou1xtqal' target=\"_blank\">https://wandb.ai/gugi200/efficientnet_v2_l-test/sweeps/ou1xtqal</a>"
            ]
          },
          "metadata": {}
        },
        {
          "output_type": "display_data",
          "data": {
            "text/plain": [
              "<IPython.core.display.HTML object>"
            ],
            "text/html": [
              " View run at <a href='https://wandb.ai/gugi200/efficientnet_v2_l-test/runs/sl3pdtuw' target=\"_blank\">https://wandb.ai/gugi200/efficientnet_v2_l-test/runs/sl3pdtuw</a>"
            ]
          },
          "metadata": {}
        },
        {
          "output_type": "stream",
          "name": "stderr",
          "text": [
            "Using cache found in /root/.cache/torch/hub/pytorch_vision_main\n",
            "Traceback (most recent call last):\n",
            "  File \"<ipython-input-13-38f261dcf365>\", line 159, in train_model_efficientnet_v2_l\n",
            "    model = torch.hub.load('pytorch/vision', 'efficientnet_v2_l', weight).to(device)\n",
            "  File \"/usr/local/lib/python3.10/dist-packages/torch/nn/modules/module.py\", line 1160, in to\n",
            "    return self._apply(convert)\n",
            "  File \"/usr/local/lib/python3.10/dist-packages/torch/nn/modules/module.py\", line 810, in _apply\n",
            "    module._apply(fn)\n",
            "  File \"/usr/local/lib/python3.10/dist-packages/torch/nn/modules/module.py\", line 810, in _apply\n",
            "    module._apply(fn)\n",
            "  File \"/usr/local/lib/python3.10/dist-packages/torch/nn/modules/module.py\", line 810, in _apply\n",
            "    module._apply(fn)\n",
            "  [Previous line repeated 3 more times]\n",
            "  File \"/usr/local/lib/python3.10/dist-packages/torch/nn/modules/module.py\", line 833, in _apply\n",
            "    param_applied = fn(param)\n",
            "  File \"/usr/local/lib/python3.10/dist-packages/torch/nn/modules/module.py\", line 1158, in convert\n",
            "    return t.to(device, dtype if t.is_floating_point() or t.is_complex() else None, non_blocking)\n",
            "torch.cuda.OutOfMemoryError: CUDA out of memory. Tried to allocate 2.00 MiB. GPU 0 has a total capacty of 14.75 GiB of which 1.06 MiB is free. Process 16945 has 14.74 GiB memory in use. Of the allocated memory 14.54 GiB is allocated by PyTorch, and 54.38 MiB is reserved by PyTorch but unallocated. If reserved but unallocated memory is large try setting max_split_size_mb to avoid fragmentation.  See documentation for Memory Management and PYTORCH_CUDA_ALLOC_CONF\n"
          ]
        },
        {
          "output_type": "display_data",
          "data": {
            "text/plain": [
              "VBox(children=(Label(value='0.001 MB of 0.001 MB uploaded\\r'), FloatProgress(value=1.0, max=1.0)))"
            ],
            "application/vnd.jupyter.widget-view+json": {
              "version_major": 2,
              "version_minor": 0,
              "model_id": "96adfb1d2d814e288f83d636af5e0b6c"
            }
          },
          "metadata": {}
        },
        {
          "output_type": "display_data",
          "data": {
            "text/plain": [
              "<IPython.core.display.HTML object>"
            ],
            "text/html": [
              " View run <strong style=\"color:#cdcd00\">amber-sweep-5</strong> at: <a href='https://wandb.ai/gugi200/efficientnet_v2_l-test/runs/sl3pdtuw' target=\"_blank\">https://wandb.ai/gugi200/efficientnet_v2_l-test/runs/sl3pdtuw</a><br/>Synced 5 W&B file(s), 0 media file(s), 0 artifact file(s) and 0 other file(s)"
            ]
          },
          "metadata": {}
        },
        {
          "output_type": "display_data",
          "data": {
            "text/plain": [
              "<IPython.core.display.HTML object>"
            ],
            "text/html": [
              "Find logs at: <code>./wandb/run-20240118_172305-sl3pdtuw/logs</code>"
            ]
          },
          "metadata": {}
        },
        {
          "output_type": "stream",
          "name": "stderr",
          "text": [
            "Run sl3pdtuw errored: OutOfMemoryError('CUDA out of memory. Tried to allocate 2.00 MiB. GPU 0 has a total capacty of 14.75 GiB of which 1.06 MiB is free. Process 16945 has 14.74 GiB memory in use. Of the allocated memory 14.54 GiB is allocated by PyTorch, and 54.38 MiB is reserved by PyTorch but unallocated. If reserved but unallocated memory is large try setting max_split_size_mb to avoid fragmentation.  See documentation for Memory Management and PYTORCH_CUDA_ALLOC_CONF')\n",
            "\u001b[34m\u001b[1mwandb\u001b[0m: \u001b[32m\u001b[41mERROR\u001b[0m Run sl3pdtuw errored: OutOfMemoryError('CUDA out of memory. Tried to allocate 2.00 MiB. GPU 0 has a total capacty of 14.75 GiB of which 1.06 MiB is free. Process 16945 has 14.74 GiB memory in use. Of the allocated memory 14.54 GiB is allocated by PyTorch, and 54.38 MiB is reserved by PyTorch but unallocated. If reserved but unallocated memory is large try setting max_split_size_mb to avoid fragmentation.  See documentation for Memory Management and PYTORCH_CUDA_ALLOC_CONF')\n",
            "\u001b[34m\u001b[1mwandb\u001b[0m: Agent Starting Run: jq4uohch with config:\n",
            "\u001b[34m\u001b[1mwandb\u001b[0m: \tbatch_size: 16\n",
            "\u001b[34m\u001b[1mwandb\u001b[0m: \tepochs: 5\n",
            "\u001b[34m\u001b[1mwandb\u001b[0m: \tfc_layer_size: 6\n",
            "\u001b[34m\u001b[1mwandb\u001b[0m: \tlearning_rate: 0.1\n",
            "\u001b[34m\u001b[1mwandb\u001b[0m: \toptimizer: sgd\n"
          ]
        },
        {
          "output_type": "display_data",
          "data": {
            "text/plain": [
              "<IPython.core.display.HTML object>"
            ],
            "text/html": [
              "Tracking run with wandb version 0.16.2"
            ]
          },
          "metadata": {}
        },
        {
          "output_type": "display_data",
          "data": {
            "text/plain": [
              "<IPython.core.display.HTML object>"
            ],
            "text/html": [
              "Run data is saved locally in <code>/content/wandb/run-20240118_172326-jq4uohch</code>"
            ]
          },
          "metadata": {}
        },
        {
          "output_type": "display_data",
          "data": {
            "text/plain": [
              "<IPython.core.display.HTML object>"
            ],
            "text/html": [
              "Syncing run <strong><a href='https://wandb.ai/gugi200/efficientnet_v2_l-test/runs/jq4uohch' target=\"_blank\">polar-sweep-6</a></strong> to <a href='https://wandb.ai/gugi200/efficientnet_v2_l-test' target=\"_blank\">Weights & Biases</a> (<a href='https://wandb.me/run' target=\"_blank\">docs</a>)<br/>Sweep page: <a href='https://wandb.ai/gugi200/efficientnet_v2_l-test/sweeps/ou1xtqal' target=\"_blank\">https://wandb.ai/gugi200/efficientnet_v2_l-test/sweeps/ou1xtqal</a>"
            ]
          },
          "metadata": {}
        },
        {
          "output_type": "display_data",
          "data": {
            "text/plain": [
              "<IPython.core.display.HTML object>"
            ],
            "text/html": [
              " View project at <a href='https://wandb.ai/gugi200/efficientnet_v2_l-test' target=\"_blank\">https://wandb.ai/gugi200/efficientnet_v2_l-test</a>"
            ]
          },
          "metadata": {}
        },
        {
          "output_type": "display_data",
          "data": {
            "text/plain": [
              "<IPython.core.display.HTML object>"
            ],
            "text/html": [
              " View sweep at <a href='https://wandb.ai/gugi200/efficientnet_v2_l-test/sweeps/ou1xtqal' target=\"_blank\">https://wandb.ai/gugi200/efficientnet_v2_l-test/sweeps/ou1xtqal</a>"
            ]
          },
          "metadata": {}
        },
        {
          "output_type": "display_data",
          "data": {
            "text/plain": [
              "<IPython.core.display.HTML object>"
            ],
            "text/html": [
              " View run at <a href='https://wandb.ai/gugi200/efficientnet_v2_l-test/runs/jq4uohch' target=\"_blank\">https://wandb.ai/gugi200/efficientnet_v2_l-test/runs/jq4uohch</a>"
            ]
          },
          "metadata": {}
        },
        {
          "output_type": "stream",
          "name": "stderr",
          "text": [
            "Using cache found in /root/.cache/torch/hub/pytorch_vision_main\n",
            "Traceback (most recent call last):\n",
            "  File \"<ipython-input-13-38f261dcf365>\", line 159, in train_model_efficientnet_v2_l\n",
            "    model = torch.hub.load('pytorch/vision', 'efficientnet_v2_l', weight).to(device)\n",
            "  File \"/usr/local/lib/python3.10/dist-packages/torch/nn/modules/module.py\", line 1160, in to\n",
            "    return self._apply(convert)\n",
            "  File \"/usr/local/lib/python3.10/dist-packages/torch/nn/modules/module.py\", line 810, in _apply\n",
            "    module._apply(fn)\n",
            "  File \"/usr/local/lib/python3.10/dist-packages/torch/nn/modules/module.py\", line 810, in _apply\n",
            "    module._apply(fn)\n",
            "  File \"/usr/local/lib/python3.10/dist-packages/torch/nn/modules/module.py\", line 810, in _apply\n",
            "    module._apply(fn)\n",
            "  [Previous line repeated 3 more times]\n",
            "  File \"/usr/local/lib/python3.10/dist-packages/torch/nn/modules/module.py\", line 833, in _apply\n",
            "    param_applied = fn(param)\n",
            "  File \"/usr/local/lib/python3.10/dist-packages/torch/nn/modules/module.py\", line 1158, in convert\n",
            "    return t.to(device, dtype if t.is_floating_point() or t.is_complex() else None, non_blocking)\n",
            "torch.cuda.OutOfMemoryError: CUDA out of memory. Tried to allocate 2.00 MiB. GPU 0 has a total capacty of 14.75 GiB of which 1.06 MiB is free. Process 16945 has 14.74 GiB memory in use. Of the allocated memory 14.54 GiB is allocated by PyTorch, and 54.37 MiB is reserved by PyTorch but unallocated. If reserved but unallocated memory is large try setting max_split_size_mb to avoid fragmentation.  See documentation for Memory Management and PYTORCH_CUDA_ALLOC_CONF\n"
          ]
        },
        {
          "output_type": "display_data",
          "data": {
            "text/plain": [
              "VBox(children=(Label(value='0.001 MB of 0.001 MB uploaded\\r'), FloatProgress(value=1.0, max=1.0)))"
            ],
            "application/vnd.jupyter.widget-view+json": {
              "version_major": 2,
              "version_minor": 0,
              "model_id": "4526f97309a040eba6d2950710e742be"
            }
          },
          "metadata": {}
        },
        {
          "output_type": "display_data",
          "data": {
            "text/plain": [
              "<IPython.core.display.HTML object>"
            ],
            "text/html": [
              " View run <strong style=\"color:#cdcd00\">polar-sweep-6</strong> at: <a href='https://wandb.ai/gugi200/efficientnet_v2_l-test/runs/jq4uohch' target=\"_blank\">https://wandb.ai/gugi200/efficientnet_v2_l-test/runs/jq4uohch</a><br/>Synced 5 W&B file(s), 0 media file(s), 0 artifact file(s) and 0 other file(s)"
            ]
          },
          "metadata": {}
        },
        {
          "output_type": "display_data",
          "data": {
            "text/plain": [
              "<IPython.core.display.HTML object>"
            ],
            "text/html": [
              "Find logs at: <code>./wandb/run-20240118_172326-jq4uohch/logs</code>"
            ]
          },
          "metadata": {}
        },
        {
          "output_type": "stream",
          "name": "stderr",
          "text": [
            "Run jq4uohch errored: OutOfMemoryError('CUDA out of memory. Tried to allocate 2.00 MiB. GPU 0 has a total capacty of 14.75 GiB of which 1.06 MiB is free. Process 16945 has 14.74 GiB memory in use. Of the allocated memory 14.54 GiB is allocated by PyTorch, and 54.37 MiB is reserved by PyTorch but unallocated. If reserved but unallocated memory is large try setting max_split_size_mb to avoid fragmentation.  See documentation for Memory Management and PYTORCH_CUDA_ALLOC_CONF')\n",
            "\u001b[34m\u001b[1mwandb\u001b[0m: \u001b[32m\u001b[41mERROR\u001b[0m Run jq4uohch errored: OutOfMemoryError('CUDA out of memory. Tried to allocate 2.00 MiB. GPU 0 has a total capacty of 14.75 GiB of which 1.06 MiB is free. Process 16945 has 14.74 GiB memory in use. Of the allocated memory 14.54 GiB is allocated by PyTorch, and 54.37 MiB is reserved by PyTorch but unallocated. If reserved but unallocated memory is large try setting max_split_size_mb to avoid fragmentation.  See documentation for Memory Management and PYTORCH_CUDA_ALLOC_CONF')\n",
            "Detected 5 failed runs in a row at start, killing sweep.\n",
            "\u001b[34m\u001b[1mwandb\u001b[0m: \u001b[32m\u001b[41mERROR\u001b[0m Detected 5 failed runs in a row at start, killing sweep.\n",
            "\u001b[34m\u001b[1mwandb\u001b[0m: To change this value set WANDB_AGENT_MAX_INITIAL_FAILURES=val\n"
          ]
        }
      ]
    },
    {
      "cell_type": "code",
      "source": [
        "# googlenet pipeline\n",
        "sweep_id_googlenet = wandb.sweep(sweep_config, project=\"googlenet-test\")\n",
        "wandb.agent(sweep_id_googlenet, train_model_googlenet, count=count)"
      ],
      "metadata": {
        "id": "r2ICc39lUC4L"
      },
      "execution_count": null,
      "outputs": []
    },
    {
      "cell_type": "code",
      "source": [
        "\n",
        "# inception_v3 pipeline\n",
        "sweep_id_inception_v3 = wandb.sweep(sweep_config, project=\"inception_v3-test\")\n",
        "wandb.agent(sweep_id_inception_v3, train_model_inception_v3, count=count)"
      ],
      "metadata": {
        "id": "KqMP1eZbUC13"
      },
      "execution_count": null,
      "outputs": []
    },
    {
      "cell_type": "code",
      "source": [
        "# maxvit_t pipeline\n",
        "sweep_id_maxvit_t = wandb.sweep(sweep_config, project=\"maxvit_t-test\")\n",
        "wandb.agent(sweep_id_maxvit_t, train_model_maxvit_t, count=count)"
      ],
      "metadata": {
        "id": "wg9-nOl2UCvo"
      },
      "execution_count": null,
      "outputs": []
    },
    {
      "cell_type": "code",
      "source": [
        "# mobilenet_v3_large pipeline\n",
        "sweep_id_mobilenet_v3_large = wandb.sweep(sweep_config, project=\"mobilenet_v3_large-test\")\n",
        "wandb.agent(sweep_id_mobilenet_v3_large, train_model_mobilenet_v3_large, count=count)"
      ],
      "metadata": {
        "id": "khKphHK_UCs8"
      },
      "execution_count": null,
      "outputs": []
    },
    {
      "cell_type": "code",
      "source": [
        "# shufflenet_v2_x2_0 pipeline\n",
        "sweep_id_shufflenet_v2_x2_0 = wandb.sweep(sweep_config, project=\"shufflenet_v2_x2_0-test\")\n",
        "wandb.agent(sweep_id_shufflenet_v2_x2_0, train_model_shufflenet_v2_x2_0, count=count)"
      ],
      "metadata": {
        "id": "5Jc9hluAUCqo"
      },
      "execution_count": null,
      "outputs": []
    },
    {
      "cell_type": "code",
      "source": [
        "# swin_v2_t pipeline\n",
        "sweep_id_swin_v2_t = wandb.sweep(sweep_config, project=\"swin_v2_t-test\")\n",
        "wandb.agent(sweep_id_swin_v2_t, train_model_swin_v2_t, count=count)"
      ],
      "metadata": {
        "id": "I4ThRqzvUCmq"
      },
      "execution_count": null,
      "outputs": []
    },
    {
      "cell_type": "code",
      "source": [
        "# vgg19_bnvgg19_bn pipeline\n",
        "sweep_id_vgg19_bn = wandb.sweep(sweep_config, project=\"vgg19_bn-test\")\n",
        "wandb.agent(sweep_id_vgg19_bn, train_model_vgg19_bn, count=count)\n"
      ],
      "metadata": {
        "id": "a9YuT4nHUCeD"
      },
      "execution_count": null,
      "outputs": []
    },
    {
      "cell_type": "code",
      "source": [
        "# wide_resnet50_2 pipeline\n",
        "sweep_id_wide_resnet50_2 = wandb.sweep(sweep_config, project=\"wide_resnet50_2-test\")\n",
        "wandb.agent(sweep_id_wide_resnet50_2, train_model_wide_resnet50_2, count=count)"
      ],
      "metadata": {
        "id": "7K254b6tUWff"
      },
      "execution_count": null,
      "outputs": []
    },
    {
      "cell_type": "markdown",
      "source": [
        "# I dont remember what it is\n",
        "\n",
        "probably testing"
      ],
      "metadata": {
        "id": "IiSBv1yVVE9s"
      }
    },
    {
      "cell_type": "code",
      "execution_count": null,
      "metadata": {
        "id": "cFDEhOEATyRW"
      },
      "outputs": [],
      "source": [
        "weight = list(torchvision.models.get_model_weights('inception_v3'))[-1]\n",
        "model = torch.hub.load('pytorch/vision', 'inception_v3', weight).to(device)\n",
        "model"
      ]
    },
    {
      "cell_type": "code",
      "execution_count": null,
      "metadata": {
        "id": "tJbuyaKGgKqu"
      },
      "outputs": [],
      "source": [
        "weight = list(torchvision.models.get_model_weights('regnet_y_400mf'))[-1]\n",
        "model = torch.hub.load('pytorch/vision', 'regnet_y_400mf', weight).to(device)\n",
        "print(model)\n",
        "model.fc = nn.Linear(440 , 10, bias=True).to(device)"
      ]
    },
    {
      "cell_type": "markdown",
      "metadata": {
        "id": "PnwoKJ1NApL0"
      },
      "source": [
        "# Testing different CNN models\n",
        "* RestNet\n",
        "* AlexNet\n",
        "* VGGNet\n",
        "* GoogLeNet/Inception\n",
        "* DenseNet"
      ]
    },
    {
      "cell_type": "code",
      "execution_count": null,
      "metadata": {
        "id": "Ml6gPdspCle8"
      },
      "outputs": [],
      "source": [
        "model_list = [\n",
        "    'alexnet',\n",
        "    'restnet50',\n",
        "    'convnext_base',\n",
        "    'densenet121', 'densenet161', 'densenet169', 'densenet201',\n",
        "    'efficientnet_b4', 'efficientnet_v2_l',\n",
        "    'googlenet',\n",
        "    'inception_v3',\n",
        "    'maxvit_t',\n",
        "    'mobilenet_v3_large',\n",
        "    'regnet_y_400mf',\n",
        "    'shufflenet_v2_x2_0',\n",
        "    'swin_v2_t',\n",
        "    'vgg19', 'vgg19_bn','vgg13',\n",
        "    'wide_resnet50_2']"
      ]
    }
  ],
  "metadata": {
    "accelerator": "GPU",
    "colab": {
      "provenance": [],
      "gpuType": "T4",
      "collapsed_sections": [
        "4GYRtyMdxAw_",
        "sOJ5z2klj9s3",
        "5ALnqHS1bRcv",
        "piXaa3b6Mgmo",
        "JpmZWoGoMln-"
      ],
      "authorship_tag": "ABX9TyOYQKMGPCkjQRoTxPiILvjS",
      "include_colab_link": true
    },
    "kernelspec": {
      "display_name": "Python 3",
      "name": "python3"
    },
    "language_info": {
      "name": "python"
    },
    "widgets": {
      "application/vnd.jupyter.widget-state+json": {
        "eaa4b727ac7a4b4e96d25491ad2dd5ab": {
          "model_module": "@jupyter-widgets/controls",
          "model_name": "HBoxModel",
          "model_module_version": "1.5.0",
          "state": {
            "_dom_classes": [],
            "_model_module": "@jupyter-widgets/controls",
            "_model_module_version": "1.5.0",
            "_model_name": "HBoxModel",
            "_view_count": null,
            "_view_module": "@jupyter-widgets/controls",
            "_view_module_version": "1.5.0",
            "_view_name": "HBoxView",
            "box_style": "",
            "children": [
              "IPY_MODEL_1d6a2ccdc8664cab8c61469ca4491e58",
              "IPY_MODEL_75274f1f889940fbaac2c47b40478f71",
              "IPY_MODEL_117587d25b42427ca15d7fc53a54e9f4"
            ],
            "layout": "IPY_MODEL_e876c0a1a7e64edfb81369bbe06e53be"
          }
        },
        "1d6a2ccdc8664cab8c61469ca4491e58": {
          "model_module": "@jupyter-widgets/controls",
          "model_name": "HTMLModel",
          "model_module_version": "1.5.0",
          "state": {
            "_dom_classes": [],
            "_model_module": "@jupyter-widgets/controls",
            "_model_module_version": "1.5.0",
            "_model_name": "HTMLModel",
            "_view_count": null,
            "_view_module": "@jupyter-widgets/controls",
            "_view_module_version": "1.5.0",
            "_view_name": "HTMLView",
            "description": "",
            "description_tooltip": null,
            "layout": "IPY_MODEL_e90dbfb6882845218099b0751b165fcc",
            "placeholder": "​",
            "style": "IPY_MODEL_d2c32adaa35f4449b48d5e9b8b82cc9f",
            "value": "100%"
          }
        },
        "75274f1f889940fbaac2c47b40478f71": {
          "model_module": "@jupyter-widgets/controls",
          "model_name": "FloatProgressModel",
          "model_module_version": "1.5.0",
          "state": {
            "_dom_classes": [],
            "_model_module": "@jupyter-widgets/controls",
            "_model_module_version": "1.5.0",
            "_model_name": "FloatProgressModel",
            "_view_count": null,
            "_view_module": "@jupyter-widgets/controls",
            "_view_module_version": "1.5.0",
            "_view_name": "ProgressView",
            "bar_style": "success",
            "description": "",
            "description_tooltip": null,
            "layout": "IPY_MODEL_8911b98be3df4a2c9588be2670c15448",
            "max": 5,
            "min": 0,
            "orientation": "horizontal",
            "style": "IPY_MODEL_1340534435264f33a528ca9b675dc188",
            "value": 5
          }
        },
        "117587d25b42427ca15d7fc53a54e9f4": {
          "model_module": "@jupyter-widgets/controls",
          "model_name": "HTMLModel",
          "model_module_version": "1.5.0",
          "state": {
            "_dom_classes": [],
            "_model_module": "@jupyter-widgets/controls",
            "_model_module_version": "1.5.0",
            "_model_name": "HTMLModel",
            "_view_count": null,
            "_view_module": "@jupyter-widgets/controls",
            "_view_module_version": "1.5.0",
            "_view_name": "HTMLView",
            "description": "",
            "description_tooltip": null,
            "layout": "IPY_MODEL_4c43fff8e2604d99bb52190aa0b1e414",
            "placeholder": "​",
            "style": "IPY_MODEL_814d3dc3aa6844d38181af414a867305",
            "value": " 5/5 [00:55&lt;00:00, 11.09s/it]"
          }
        },
        "e876c0a1a7e64edfb81369bbe06e53be": {
          "model_module": "@jupyter-widgets/base",
          "model_name": "LayoutModel",
          "model_module_version": "1.2.0",
          "state": {
            "_model_module": "@jupyter-widgets/base",
            "_model_module_version": "1.2.0",
            "_model_name": "LayoutModel",
            "_view_count": null,
            "_view_module": "@jupyter-widgets/base",
            "_view_module_version": "1.2.0",
            "_view_name": "LayoutView",
            "align_content": null,
            "align_items": null,
            "align_self": null,
            "border": null,
            "bottom": null,
            "display": null,
            "flex": null,
            "flex_flow": null,
            "grid_area": null,
            "grid_auto_columns": null,
            "grid_auto_flow": null,
            "grid_auto_rows": null,
            "grid_column": null,
            "grid_gap": null,
            "grid_row": null,
            "grid_template_areas": null,
            "grid_template_columns": null,
            "grid_template_rows": null,
            "height": null,
            "justify_content": null,
            "justify_items": null,
            "left": null,
            "margin": null,
            "max_height": null,
            "max_width": null,
            "min_height": null,
            "min_width": null,
            "object_fit": null,
            "object_position": null,
            "order": null,
            "overflow": null,
            "overflow_x": null,
            "overflow_y": null,
            "padding": null,
            "right": null,
            "top": null,
            "visibility": null,
            "width": null
          }
        },
        "e90dbfb6882845218099b0751b165fcc": {
          "model_module": "@jupyter-widgets/base",
          "model_name": "LayoutModel",
          "model_module_version": "1.2.0",
          "state": {
            "_model_module": "@jupyter-widgets/base",
            "_model_module_version": "1.2.0",
            "_model_name": "LayoutModel",
            "_view_count": null,
            "_view_module": "@jupyter-widgets/base",
            "_view_module_version": "1.2.0",
            "_view_name": "LayoutView",
            "align_content": null,
            "align_items": null,
            "align_self": null,
            "border": null,
            "bottom": null,
            "display": null,
            "flex": null,
            "flex_flow": null,
            "grid_area": null,
            "grid_auto_columns": null,
            "grid_auto_flow": null,
            "grid_auto_rows": null,
            "grid_column": null,
            "grid_gap": null,
            "grid_row": null,
            "grid_template_areas": null,
            "grid_template_columns": null,
            "grid_template_rows": null,
            "height": null,
            "justify_content": null,
            "justify_items": null,
            "left": null,
            "margin": null,
            "max_height": null,
            "max_width": null,
            "min_height": null,
            "min_width": null,
            "object_fit": null,
            "object_position": null,
            "order": null,
            "overflow": null,
            "overflow_x": null,
            "overflow_y": null,
            "padding": null,
            "right": null,
            "top": null,
            "visibility": null,
            "width": null
          }
        },
        "d2c32adaa35f4449b48d5e9b8b82cc9f": {
          "model_module": "@jupyter-widgets/controls",
          "model_name": "DescriptionStyleModel",
          "model_module_version": "1.5.0",
          "state": {
            "_model_module": "@jupyter-widgets/controls",
            "_model_module_version": "1.5.0",
            "_model_name": "DescriptionStyleModel",
            "_view_count": null,
            "_view_module": "@jupyter-widgets/base",
            "_view_module_version": "1.2.0",
            "_view_name": "StyleView",
            "description_width": ""
          }
        },
        "8911b98be3df4a2c9588be2670c15448": {
          "model_module": "@jupyter-widgets/base",
          "model_name": "LayoutModel",
          "model_module_version": "1.2.0",
          "state": {
            "_model_module": "@jupyter-widgets/base",
            "_model_module_version": "1.2.0",
            "_model_name": "LayoutModel",
            "_view_count": null,
            "_view_module": "@jupyter-widgets/base",
            "_view_module_version": "1.2.0",
            "_view_name": "LayoutView",
            "align_content": null,
            "align_items": null,
            "align_self": null,
            "border": null,
            "bottom": null,
            "display": null,
            "flex": null,
            "flex_flow": null,
            "grid_area": null,
            "grid_auto_columns": null,
            "grid_auto_flow": null,
            "grid_auto_rows": null,
            "grid_column": null,
            "grid_gap": null,
            "grid_row": null,
            "grid_template_areas": null,
            "grid_template_columns": null,
            "grid_template_rows": null,
            "height": null,
            "justify_content": null,
            "justify_items": null,
            "left": null,
            "margin": null,
            "max_height": null,
            "max_width": null,
            "min_height": null,
            "min_width": null,
            "object_fit": null,
            "object_position": null,
            "order": null,
            "overflow": null,
            "overflow_x": null,
            "overflow_y": null,
            "padding": null,
            "right": null,
            "top": null,
            "visibility": null,
            "width": null
          }
        },
        "1340534435264f33a528ca9b675dc188": {
          "model_module": "@jupyter-widgets/controls",
          "model_name": "ProgressStyleModel",
          "model_module_version": "1.5.0",
          "state": {
            "_model_module": "@jupyter-widgets/controls",
            "_model_module_version": "1.5.0",
            "_model_name": "ProgressStyleModel",
            "_view_count": null,
            "_view_module": "@jupyter-widgets/base",
            "_view_module_version": "1.2.0",
            "_view_name": "StyleView",
            "bar_color": null,
            "description_width": ""
          }
        },
        "4c43fff8e2604d99bb52190aa0b1e414": {
          "model_module": "@jupyter-widgets/base",
          "model_name": "LayoutModel",
          "model_module_version": "1.2.0",
          "state": {
            "_model_module": "@jupyter-widgets/base",
            "_model_module_version": "1.2.0",
            "_model_name": "LayoutModel",
            "_view_count": null,
            "_view_module": "@jupyter-widgets/base",
            "_view_module_version": "1.2.0",
            "_view_name": "LayoutView",
            "align_content": null,
            "align_items": null,
            "align_self": null,
            "border": null,
            "bottom": null,
            "display": null,
            "flex": null,
            "flex_flow": null,
            "grid_area": null,
            "grid_auto_columns": null,
            "grid_auto_flow": null,
            "grid_auto_rows": null,
            "grid_column": null,
            "grid_gap": null,
            "grid_row": null,
            "grid_template_areas": null,
            "grid_template_columns": null,
            "grid_template_rows": null,
            "height": null,
            "justify_content": null,
            "justify_items": null,
            "left": null,
            "margin": null,
            "max_height": null,
            "max_width": null,
            "min_height": null,
            "min_width": null,
            "object_fit": null,
            "object_position": null,
            "order": null,
            "overflow": null,
            "overflow_x": null,
            "overflow_y": null,
            "padding": null,
            "right": null,
            "top": null,
            "visibility": null,
            "width": null
          }
        },
        "814d3dc3aa6844d38181af414a867305": {
          "model_module": "@jupyter-widgets/controls",
          "model_name": "DescriptionStyleModel",
          "model_module_version": "1.5.0",
          "state": {
            "_model_module": "@jupyter-widgets/controls",
            "_model_module_version": "1.5.0",
            "_model_name": "DescriptionStyleModel",
            "_view_count": null,
            "_view_module": "@jupyter-widgets/base",
            "_view_module_version": "1.2.0",
            "_view_name": "StyleView",
            "description_width": ""
          }
        },
        "6e01ef0d6c0d496a95960368cc09a208": {
          "model_module": "@jupyter-widgets/controls",
          "model_name": "HBoxModel",
          "model_module_version": "1.5.0",
          "state": {
            "_dom_classes": [],
            "_model_module": "@jupyter-widgets/controls",
            "_model_module_version": "1.5.0",
            "_model_name": "HBoxModel",
            "_view_count": null,
            "_view_module": "@jupyter-widgets/controls",
            "_view_module_version": "1.5.0",
            "_view_name": "HBoxView",
            "box_style": "",
            "children": [
              "IPY_MODEL_ea0621561d4849ad85786470f739c0c8",
              "IPY_MODEL_0dc1b1b5144b484db779e26d127ee46a",
              "IPY_MODEL_274c3446316a4d32bb6b3494c3117177"
            ],
            "layout": "IPY_MODEL_fec348c0be9f4860ab9d0599f9609e7f"
          }
        },
        "ea0621561d4849ad85786470f739c0c8": {
          "model_module": "@jupyter-widgets/controls",
          "model_name": "HTMLModel",
          "model_module_version": "1.5.0",
          "state": {
            "_dom_classes": [],
            "_model_module": "@jupyter-widgets/controls",
            "_model_module_version": "1.5.0",
            "_model_name": "HTMLModel",
            "_view_count": null,
            "_view_module": "@jupyter-widgets/controls",
            "_view_module_version": "1.5.0",
            "_view_name": "HTMLView",
            "description": "",
            "description_tooltip": null,
            "layout": "IPY_MODEL_8750fe43cebc4020b081d57239fae9f5",
            "placeholder": "​",
            "style": "IPY_MODEL_0daebd3021ef4a3eab5768326f664bf3",
            "value": "  0%"
          }
        },
        "0dc1b1b5144b484db779e26d127ee46a": {
          "model_module": "@jupyter-widgets/controls",
          "model_name": "FloatProgressModel",
          "model_module_version": "1.5.0",
          "state": {
            "_dom_classes": [],
            "_model_module": "@jupyter-widgets/controls",
            "_model_module_version": "1.5.0",
            "_model_name": "FloatProgressModel",
            "_view_count": null,
            "_view_module": "@jupyter-widgets/controls",
            "_view_module_version": "1.5.0",
            "_view_name": "ProgressView",
            "bar_style": "",
            "description": "",
            "description_tooltip": null,
            "layout": "IPY_MODEL_f418a2cdcf0944b3b757b04ee821cc02",
            "max": 5,
            "min": 0,
            "orientation": "horizontal",
            "style": "IPY_MODEL_c26c950c8d814292a254dd910ba8384e",
            "value": 0
          }
        },
        "274c3446316a4d32bb6b3494c3117177": {
          "model_module": "@jupyter-widgets/controls",
          "model_name": "HTMLModel",
          "model_module_version": "1.5.0",
          "state": {
            "_dom_classes": [],
            "_model_module": "@jupyter-widgets/controls",
            "_model_module_version": "1.5.0",
            "_model_name": "HTMLModel",
            "_view_count": null,
            "_view_module": "@jupyter-widgets/controls",
            "_view_module_version": "1.5.0",
            "_view_name": "HTMLView",
            "description": "",
            "description_tooltip": null,
            "layout": "IPY_MODEL_abeecf4d89df48c18ead8db5d1e4e191",
            "placeholder": "​",
            "style": "IPY_MODEL_8fcaae15de1a4943870146921be33c78",
            "value": " 0/5 [00:00&lt;?, ?it/s]"
          }
        },
        "fec348c0be9f4860ab9d0599f9609e7f": {
          "model_module": "@jupyter-widgets/base",
          "model_name": "LayoutModel",
          "model_module_version": "1.2.0",
          "state": {
            "_model_module": "@jupyter-widgets/base",
            "_model_module_version": "1.2.0",
            "_model_name": "LayoutModel",
            "_view_count": null,
            "_view_module": "@jupyter-widgets/base",
            "_view_module_version": "1.2.0",
            "_view_name": "LayoutView",
            "align_content": null,
            "align_items": null,
            "align_self": null,
            "border": null,
            "bottom": null,
            "display": null,
            "flex": null,
            "flex_flow": null,
            "grid_area": null,
            "grid_auto_columns": null,
            "grid_auto_flow": null,
            "grid_auto_rows": null,
            "grid_column": null,
            "grid_gap": null,
            "grid_row": null,
            "grid_template_areas": null,
            "grid_template_columns": null,
            "grid_template_rows": null,
            "height": null,
            "justify_content": null,
            "justify_items": null,
            "left": null,
            "margin": null,
            "max_height": null,
            "max_width": null,
            "min_height": null,
            "min_width": null,
            "object_fit": null,
            "object_position": null,
            "order": null,
            "overflow": null,
            "overflow_x": null,
            "overflow_y": null,
            "padding": null,
            "right": null,
            "top": null,
            "visibility": null,
            "width": null
          }
        },
        "8750fe43cebc4020b081d57239fae9f5": {
          "model_module": "@jupyter-widgets/base",
          "model_name": "LayoutModel",
          "model_module_version": "1.2.0",
          "state": {
            "_model_module": "@jupyter-widgets/base",
            "_model_module_version": "1.2.0",
            "_model_name": "LayoutModel",
            "_view_count": null,
            "_view_module": "@jupyter-widgets/base",
            "_view_module_version": "1.2.0",
            "_view_name": "LayoutView",
            "align_content": null,
            "align_items": null,
            "align_self": null,
            "border": null,
            "bottom": null,
            "display": null,
            "flex": null,
            "flex_flow": null,
            "grid_area": null,
            "grid_auto_columns": null,
            "grid_auto_flow": null,
            "grid_auto_rows": null,
            "grid_column": null,
            "grid_gap": null,
            "grid_row": null,
            "grid_template_areas": null,
            "grid_template_columns": null,
            "grid_template_rows": null,
            "height": null,
            "justify_content": null,
            "justify_items": null,
            "left": null,
            "margin": null,
            "max_height": null,
            "max_width": null,
            "min_height": null,
            "min_width": null,
            "object_fit": null,
            "object_position": null,
            "order": null,
            "overflow": null,
            "overflow_x": null,
            "overflow_y": null,
            "padding": null,
            "right": null,
            "top": null,
            "visibility": null,
            "width": null
          }
        },
        "0daebd3021ef4a3eab5768326f664bf3": {
          "model_module": "@jupyter-widgets/controls",
          "model_name": "DescriptionStyleModel",
          "model_module_version": "1.5.0",
          "state": {
            "_model_module": "@jupyter-widgets/controls",
            "_model_module_version": "1.5.0",
            "_model_name": "DescriptionStyleModel",
            "_view_count": null,
            "_view_module": "@jupyter-widgets/base",
            "_view_module_version": "1.2.0",
            "_view_name": "StyleView",
            "description_width": ""
          }
        },
        "f418a2cdcf0944b3b757b04ee821cc02": {
          "model_module": "@jupyter-widgets/base",
          "model_name": "LayoutModel",
          "model_module_version": "1.2.0",
          "state": {
            "_model_module": "@jupyter-widgets/base",
            "_model_module_version": "1.2.0",
            "_model_name": "LayoutModel",
            "_view_count": null,
            "_view_module": "@jupyter-widgets/base",
            "_view_module_version": "1.2.0",
            "_view_name": "LayoutView",
            "align_content": null,
            "align_items": null,
            "align_self": null,
            "border": null,
            "bottom": null,
            "display": null,
            "flex": null,
            "flex_flow": null,
            "grid_area": null,
            "grid_auto_columns": null,
            "grid_auto_flow": null,
            "grid_auto_rows": null,
            "grid_column": null,
            "grid_gap": null,
            "grid_row": null,
            "grid_template_areas": null,
            "grid_template_columns": null,
            "grid_template_rows": null,
            "height": null,
            "justify_content": null,
            "justify_items": null,
            "left": null,
            "margin": null,
            "max_height": null,
            "max_width": null,
            "min_height": null,
            "min_width": null,
            "object_fit": null,
            "object_position": null,
            "order": null,
            "overflow": null,
            "overflow_x": null,
            "overflow_y": null,
            "padding": null,
            "right": null,
            "top": null,
            "visibility": null,
            "width": null
          }
        },
        "c26c950c8d814292a254dd910ba8384e": {
          "model_module": "@jupyter-widgets/controls",
          "model_name": "ProgressStyleModel",
          "model_module_version": "1.5.0",
          "state": {
            "_model_module": "@jupyter-widgets/controls",
            "_model_module_version": "1.5.0",
            "_model_name": "ProgressStyleModel",
            "_view_count": null,
            "_view_module": "@jupyter-widgets/base",
            "_view_module_version": "1.2.0",
            "_view_name": "StyleView",
            "bar_color": null,
            "description_width": ""
          }
        },
        "abeecf4d89df48c18ead8db5d1e4e191": {
          "model_module": "@jupyter-widgets/base",
          "model_name": "LayoutModel",
          "model_module_version": "1.2.0",
          "state": {
            "_model_module": "@jupyter-widgets/base",
            "_model_module_version": "1.2.0",
            "_model_name": "LayoutModel",
            "_view_count": null,
            "_view_module": "@jupyter-widgets/base",
            "_view_module_version": "1.2.0",
            "_view_name": "LayoutView",
            "align_content": null,
            "align_items": null,
            "align_self": null,
            "border": null,
            "bottom": null,
            "display": null,
            "flex": null,
            "flex_flow": null,
            "grid_area": null,
            "grid_auto_columns": null,
            "grid_auto_flow": null,
            "grid_auto_rows": null,
            "grid_column": null,
            "grid_gap": null,
            "grid_row": null,
            "grid_template_areas": null,
            "grid_template_columns": null,
            "grid_template_rows": null,
            "height": null,
            "justify_content": null,
            "justify_items": null,
            "left": null,
            "margin": null,
            "max_height": null,
            "max_width": null,
            "min_height": null,
            "min_width": null,
            "object_fit": null,
            "object_position": null,
            "order": null,
            "overflow": null,
            "overflow_x": null,
            "overflow_y": null,
            "padding": null,
            "right": null,
            "top": null,
            "visibility": null,
            "width": null
          }
        },
        "8fcaae15de1a4943870146921be33c78": {
          "model_module": "@jupyter-widgets/controls",
          "model_name": "DescriptionStyleModel",
          "model_module_version": "1.5.0",
          "state": {
            "_model_module": "@jupyter-widgets/controls",
            "_model_module_version": "1.5.0",
            "_model_name": "DescriptionStyleModel",
            "_view_count": null,
            "_view_module": "@jupyter-widgets/base",
            "_view_module_version": "1.2.0",
            "_view_name": "StyleView",
            "description_width": ""
          }
        },
        "7ab24b4078fa45eca2390bdd375ed3d2": {
          "model_module": "@jupyter-widgets/controls",
          "model_name": "VBoxModel",
          "model_module_version": "1.5.0",
          "state": {
            "_dom_classes": [],
            "_model_module": "@jupyter-widgets/controls",
            "_model_module_version": "1.5.0",
            "_model_name": "VBoxModel",
            "_view_count": null,
            "_view_module": "@jupyter-widgets/controls",
            "_view_module_version": "1.5.0",
            "_view_name": "VBoxView",
            "box_style": "",
            "children": [
              "IPY_MODEL_a2a0b7300ff8483aad57865cd7104359",
              "IPY_MODEL_93ee221c23a149e1986951b62d65fff5"
            ],
            "layout": "IPY_MODEL_d22a36ff726a4ba29ddb8ee66045148a"
          }
        },
        "a2a0b7300ff8483aad57865cd7104359": {
          "model_module": "@jupyter-widgets/controls",
          "model_name": "LabelModel",
          "model_module_version": "1.5.0",
          "state": {
            "_dom_classes": [],
            "_model_module": "@jupyter-widgets/controls",
            "_model_module_version": "1.5.0",
            "_model_name": "LabelModel",
            "_view_count": null,
            "_view_module": "@jupyter-widgets/controls",
            "_view_module_version": "1.5.0",
            "_view_name": "LabelView",
            "description": "",
            "description_tooltip": null,
            "layout": "IPY_MODEL_d9476dd903114349b2c24ea7c3db8505",
            "placeholder": "​",
            "style": "IPY_MODEL_1e3e41c1b82a497fbd15aae0e8d196a3",
            "value": "0.013 MB of 0.013 MB uploaded\r"
          }
        },
        "93ee221c23a149e1986951b62d65fff5": {
          "model_module": "@jupyter-widgets/controls",
          "model_name": "FloatProgressModel",
          "model_module_version": "1.5.0",
          "state": {
            "_dom_classes": [],
            "_model_module": "@jupyter-widgets/controls",
            "_model_module_version": "1.5.0",
            "_model_name": "FloatProgressModel",
            "_view_count": null,
            "_view_module": "@jupyter-widgets/controls",
            "_view_module_version": "1.5.0",
            "_view_name": "ProgressView",
            "bar_style": "",
            "description": "",
            "description_tooltip": null,
            "layout": "IPY_MODEL_f4bf98ba87d14ffeb5b219d82e411a7e",
            "max": 1,
            "min": 0,
            "orientation": "horizontal",
            "style": "IPY_MODEL_456df452bf8a455abf3743c59532511d",
            "value": 1
          }
        },
        "d22a36ff726a4ba29ddb8ee66045148a": {
          "model_module": "@jupyter-widgets/base",
          "model_name": "LayoutModel",
          "model_module_version": "1.2.0",
          "state": {
            "_model_module": "@jupyter-widgets/base",
            "_model_module_version": "1.2.0",
            "_model_name": "LayoutModel",
            "_view_count": null,
            "_view_module": "@jupyter-widgets/base",
            "_view_module_version": "1.2.0",
            "_view_name": "LayoutView",
            "align_content": null,
            "align_items": null,
            "align_self": null,
            "border": null,
            "bottom": null,
            "display": null,
            "flex": null,
            "flex_flow": null,
            "grid_area": null,
            "grid_auto_columns": null,
            "grid_auto_flow": null,
            "grid_auto_rows": null,
            "grid_column": null,
            "grid_gap": null,
            "grid_row": null,
            "grid_template_areas": null,
            "grid_template_columns": null,
            "grid_template_rows": null,
            "height": null,
            "justify_content": null,
            "justify_items": null,
            "left": null,
            "margin": null,
            "max_height": null,
            "max_width": null,
            "min_height": null,
            "min_width": null,
            "object_fit": null,
            "object_position": null,
            "order": null,
            "overflow": null,
            "overflow_x": null,
            "overflow_y": null,
            "padding": null,
            "right": null,
            "top": null,
            "visibility": null,
            "width": null
          }
        },
        "d9476dd903114349b2c24ea7c3db8505": {
          "model_module": "@jupyter-widgets/base",
          "model_name": "LayoutModel",
          "model_module_version": "1.2.0",
          "state": {
            "_model_module": "@jupyter-widgets/base",
            "_model_module_version": "1.2.0",
            "_model_name": "LayoutModel",
            "_view_count": null,
            "_view_module": "@jupyter-widgets/base",
            "_view_module_version": "1.2.0",
            "_view_name": "LayoutView",
            "align_content": null,
            "align_items": null,
            "align_self": null,
            "border": null,
            "bottom": null,
            "display": null,
            "flex": null,
            "flex_flow": null,
            "grid_area": null,
            "grid_auto_columns": null,
            "grid_auto_flow": null,
            "grid_auto_rows": null,
            "grid_column": null,
            "grid_gap": null,
            "grid_row": null,
            "grid_template_areas": null,
            "grid_template_columns": null,
            "grid_template_rows": null,
            "height": null,
            "justify_content": null,
            "justify_items": null,
            "left": null,
            "margin": null,
            "max_height": null,
            "max_width": null,
            "min_height": null,
            "min_width": null,
            "object_fit": null,
            "object_position": null,
            "order": null,
            "overflow": null,
            "overflow_x": null,
            "overflow_y": null,
            "padding": null,
            "right": null,
            "top": null,
            "visibility": null,
            "width": null
          }
        },
        "1e3e41c1b82a497fbd15aae0e8d196a3": {
          "model_module": "@jupyter-widgets/controls",
          "model_name": "DescriptionStyleModel",
          "model_module_version": "1.5.0",
          "state": {
            "_model_module": "@jupyter-widgets/controls",
            "_model_module_version": "1.5.0",
            "_model_name": "DescriptionStyleModel",
            "_view_count": null,
            "_view_module": "@jupyter-widgets/base",
            "_view_module_version": "1.2.0",
            "_view_name": "StyleView",
            "description_width": ""
          }
        },
        "f4bf98ba87d14ffeb5b219d82e411a7e": {
          "model_module": "@jupyter-widgets/base",
          "model_name": "LayoutModel",
          "model_module_version": "1.2.0",
          "state": {
            "_model_module": "@jupyter-widgets/base",
            "_model_module_version": "1.2.0",
            "_model_name": "LayoutModel",
            "_view_count": null,
            "_view_module": "@jupyter-widgets/base",
            "_view_module_version": "1.2.0",
            "_view_name": "LayoutView",
            "align_content": null,
            "align_items": null,
            "align_self": null,
            "border": null,
            "bottom": null,
            "display": null,
            "flex": null,
            "flex_flow": null,
            "grid_area": null,
            "grid_auto_columns": null,
            "grid_auto_flow": null,
            "grid_auto_rows": null,
            "grid_column": null,
            "grid_gap": null,
            "grid_row": null,
            "grid_template_areas": null,
            "grid_template_columns": null,
            "grid_template_rows": null,
            "height": null,
            "justify_content": null,
            "justify_items": null,
            "left": null,
            "margin": null,
            "max_height": null,
            "max_width": null,
            "min_height": null,
            "min_width": null,
            "object_fit": null,
            "object_position": null,
            "order": null,
            "overflow": null,
            "overflow_x": null,
            "overflow_y": null,
            "padding": null,
            "right": null,
            "top": null,
            "visibility": null,
            "width": null
          }
        },
        "456df452bf8a455abf3743c59532511d": {
          "model_module": "@jupyter-widgets/controls",
          "model_name": "ProgressStyleModel",
          "model_module_version": "1.5.0",
          "state": {
            "_model_module": "@jupyter-widgets/controls",
            "_model_module_version": "1.5.0",
            "_model_name": "ProgressStyleModel",
            "_view_count": null,
            "_view_module": "@jupyter-widgets/base",
            "_view_module_version": "1.2.0",
            "_view_name": "StyleView",
            "bar_color": null,
            "description_width": ""
          }
        },
        "5c11f51295824517ad3ab9f02ad39da7": {
          "model_module": "@jupyter-widgets/controls",
          "model_name": "VBoxModel",
          "model_module_version": "1.5.0",
          "state": {
            "_dom_classes": [],
            "_model_module": "@jupyter-widgets/controls",
            "_model_module_version": "1.5.0",
            "_model_name": "VBoxModel",
            "_view_count": null,
            "_view_module": "@jupyter-widgets/controls",
            "_view_module_version": "1.5.0",
            "_view_name": "VBoxView",
            "box_style": "",
            "children": [
              "IPY_MODEL_ebd26b02686e4d758bc19c5b4e588ed5",
              "IPY_MODEL_c5c8fc21649e436c8b5df8e5df662bab"
            ],
            "layout": "IPY_MODEL_bb8c0427eb2f4fe4b6d7780d5fd0d3cc"
          }
        },
        "ebd26b02686e4d758bc19c5b4e588ed5": {
          "model_module": "@jupyter-widgets/controls",
          "model_name": "LabelModel",
          "model_module_version": "1.5.0",
          "state": {
            "_dom_classes": [],
            "_model_module": "@jupyter-widgets/controls",
            "_model_module_version": "1.5.0",
            "_model_name": "LabelModel",
            "_view_count": null,
            "_view_module": "@jupyter-widgets/controls",
            "_view_module_version": "1.5.0",
            "_view_name": "LabelView",
            "description": "",
            "description_tooltip": null,
            "layout": "IPY_MODEL_3a6c982938d0444680f8f361a277ab4b",
            "placeholder": "​",
            "style": "IPY_MODEL_74a0e4d192a34d55812e2ecb45f49d7f",
            "value": "0.014 MB of 0.014 MB uploaded\r"
          }
        },
        "c5c8fc21649e436c8b5df8e5df662bab": {
          "model_module": "@jupyter-widgets/controls",
          "model_name": "FloatProgressModel",
          "model_module_version": "1.5.0",
          "state": {
            "_dom_classes": [],
            "_model_module": "@jupyter-widgets/controls",
            "_model_module_version": "1.5.0",
            "_model_name": "FloatProgressModel",
            "_view_count": null,
            "_view_module": "@jupyter-widgets/controls",
            "_view_module_version": "1.5.0",
            "_view_name": "ProgressView",
            "bar_style": "",
            "description": "",
            "description_tooltip": null,
            "layout": "IPY_MODEL_8357096eb42548baa8d4eb6e4b4f6f87",
            "max": 1,
            "min": 0,
            "orientation": "horizontal",
            "style": "IPY_MODEL_2f56d776fa0e413c9a0bd4e09498e2b1",
            "value": 1
          }
        },
        "bb8c0427eb2f4fe4b6d7780d5fd0d3cc": {
          "model_module": "@jupyter-widgets/base",
          "model_name": "LayoutModel",
          "model_module_version": "1.2.0",
          "state": {
            "_model_module": "@jupyter-widgets/base",
            "_model_module_version": "1.2.0",
            "_model_name": "LayoutModel",
            "_view_count": null,
            "_view_module": "@jupyter-widgets/base",
            "_view_module_version": "1.2.0",
            "_view_name": "LayoutView",
            "align_content": null,
            "align_items": null,
            "align_self": null,
            "border": null,
            "bottom": null,
            "display": null,
            "flex": null,
            "flex_flow": null,
            "grid_area": null,
            "grid_auto_columns": null,
            "grid_auto_flow": null,
            "grid_auto_rows": null,
            "grid_column": null,
            "grid_gap": null,
            "grid_row": null,
            "grid_template_areas": null,
            "grid_template_columns": null,
            "grid_template_rows": null,
            "height": null,
            "justify_content": null,
            "justify_items": null,
            "left": null,
            "margin": null,
            "max_height": null,
            "max_width": null,
            "min_height": null,
            "min_width": null,
            "object_fit": null,
            "object_position": null,
            "order": null,
            "overflow": null,
            "overflow_x": null,
            "overflow_y": null,
            "padding": null,
            "right": null,
            "top": null,
            "visibility": null,
            "width": null
          }
        },
        "3a6c982938d0444680f8f361a277ab4b": {
          "model_module": "@jupyter-widgets/base",
          "model_name": "LayoutModel",
          "model_module_version": "1.2.0",
          "state": {
            "_model_module": "@jupyter-widgets/base",
            "_model_module_version": "1.2.0",
            "_model_name": "LayoutModel",
            "_view_count": null,
            "_view_module": "@jupyter-widgets/base",
            "_view_module_version": "1.2.0",
            "_view_name": "LayoutView",
            "align_content": null,
            "align_items": null,
            "align_self": null,
            "border": null,
            "bottom": null,
            "display": null,
            "flex": null,
            "flex_flow": null,
            "grid_area": null,
            "grid_auto_columns": null,
            "grid_auto_flow": null,
            "grid_auto_rows": null,
            "grid_column": null,
            "grid_gap": null,
            "grid_row": null,
            "grid_template_areas": null,
            "grid_template_columns": null,
            "grid_template_rows": null,
            "height": null,
            "justify_content": null,
            "justify_items": null,
            "left": null,
            "margin": null,
            "max_height": null,
            "max_width": null,
            "min_height": null,
            "min_width": null,
            "object_fit": null,
            "object_position": null,
            "order": null,
            "overflow": null,
            "overflow_x": null,
            "overflow_y": null,
            "padding": null,
            "right": null,
            "top": null,
            "visibility": null,
            "width": null
          }
        },
        "74a0e4d192a34d55812e2ecb45f49d7f": {
          "model_module": "@jupyter-widgets/controls",
          "model_name": "DescriptionStyleModel",
          "model_module_version": "1.5.0",
          "state": {
            "_model_module": "@jupyter-widgets/controls",
            "_model_module_version": "1.5.0",
            "_model_name": "DescriptionStyleModel",
            "_view_count": null,
            "_view_module": "@jupyter-widgets/base",
            "_view_module_version": "1.2.0",
            "_view_name": "StyleView",
            "description_width": ""
          }
        },
        "8357096eb42548baa8d4eb6e4b4f6f87": {
          "model_module": "@jupyter-widgets/base",
          "model_name": "LayoutModel",
          "model_module_version": "1.2.0",
          "state": {
            "_model_module": "@jupyter-widgets/base",
            "_model_module_version": "1.2.0",
            "_model_name": "LayoutModel",
            "_view_count": null,
            "_view_module": "@jupyter-widgets/base",
            "_view_module_version": "1.2.0",
            "_view_name": "LayoutView",
            "align_content": null,
            "align_items": null,
            "align_self": null,
            "border": null,
            "bottom": null,
            "display": null,
            "flex": null,
            "flex_flow": null,
            "grid_area": null,
            "grid_auto_columns": null,
            "grid_auto_flow": null,
            "grid_auto_rows": null,
            "grid_column": null,
            "grid_gap": null,
            "grid_row": null,
            "grid_template_areas": null,
            "grid_template_columns": null,
            "grid_template_rows": null,
            "height": null,
            "justify_content": null,
            "justify_items": null,
            "left": null,
            "margin": null,
            "max_height": null,
            "max_width": null,
            "min_height": null,
            "min_width": null,
            "object_fit": null,
            "object_position": null,
            "order": null,
            "overflow": null,
            "overflow_x": null,
            "overflow_y": null,
            "padding": null,
            "right": null,
            "top": null,
            "visibility": null,
            "width": null
          }
        },
        "2f56d776fa0e413c9a0bd4e09498e2b1": {
          "model_module": "@jupyter-widgets/controls",
          "model_name": "ProgressStyleModel",
          "model_module_version": "1.5.0",
          "state": {
            "_model_module": "@jupyter-widgets/controls",
            "_model_module_version": "1.5.0",
            "_model_name": "ProgressStyleModel",
            "_view_count": null,
            "_view_module": "@jupyter-widgets/base",
            "_view_module_version": "1.2.0",
            "_view_name": "StyleView",
            "bar_color": null,
            "description_width": ""
          }
        },
        "f561586ef55847368d38373e2768b8c2": {
          "model_module": "@jupyter-widgets/controls",
          "model_name": "VBoxModel",
          "model_module_version": "1.5.0",
          "state": {
            "_dom_classes": [],
            "_model_module": "@jupyter-widgets/controls",
            "_model_module_version": "1.5.0",
            "_model_name": "VBoxModel",
            "_view_count": null,
            "_view_module": "@jupyter-widgets/controls",
            "_view_module_version": "1.5.0",
            "_view_name": "VBoxView",
            "box_style": "",
            "children": [
              "IPY_MODEL_47917c874860403ea0e4ebfb6406f70d",
              "IPY_MODEL_eb037f74876e4c3e94124c15587770d5"
            ],
            "layout": "IPY_MODEL_a513e9dcfb7446ae830624f4fc9378e6"
          }
        },
        "47917c874860403ea0e4ebfb6406f70d": {
          "model_module": "@jupyter-widgets/controls",
          "model_name": "LabelModel",
          "model_module_version": "1.5.0",
          "state": {
            "_dom_classes": [],
            "_model_module": "@jupyter-widgets/controls",
            "_model_module_version": "1.5.0",
            "_model_name": "LabelModel",
            "_view_count": null,
            "_view_module": "@jupyter-widgets/controls",
            "_view_module_version": "1.5.0",
            "_view_name": "LabelView",
            "description": "",
            "description_tooltip": null,
            "layout": "IPY_MODEL_f8651fbc209a421bad4d21c0c2268d01",
            "placeholder": "​",
            "style": "IPY_MODEL_32a299e6cda14610b88eb05b55ca0e8d",
            "value": "0.012 MB of 0.012 MB uploaded\r"
          }
        },
        "eb037f74876e4c3e94124c15587770d5": {
          "model_module": "@jupyter-widgets/controls",
          "model_name": "FloatProgressModel",
          "model_module_version": "1.5.0",
          "state": {
            "_dom_classes": [],
            "_model_module": "@jupyter-widgets/controls",
            "_model_module_version": "1.5.0",
            "_model_name": "FloatProgressModel",
            "_view_count": null,
            "_view_module": "@jupyter-widgets/controls",
            "_view_module_version": "1.5.0",
            "_view_name": "ProgressView",
            "bar_style": "",
            "description": "",
            "description_tooltip": null,
            "layout": "IPY_MODEL_d2d61131e5924f26a005bc152d28d670",
            "max": 1,
            "min": 0,
            "orientation": "horizontal",
            "style": "IPY_MODEL_b1c2a2308cdb4591b60428e50be29e0d",
            "value": 1
          }
        },
        "a513e9dcfb7446ae830624f4fc9378e6": {
          "model_module": "@jupyter-widgets/base",
          "model_name": "LayoutModel",
          "model_module_version": "1.2.0",
          "state": {
            "_model_module": "@jupyter-widgets/base",
            "_model_module_version": "1.2.0",
            "_model_name": "LayoutModel",
            "_view_count": null,
            "_view_module": "@jupyter-widgets/base",
            "_view_module_version": "1.2.0",
            "_view_name": "LayoutView",
            "align_content": null,
            "align_items": null,
            "align_self": null,
            "border": null,
            "bottom": null,
            "display": null,
            "flex": null,
            "flex_flow": null,
            "grid_area": null,
            "grid_auto_columns": null,
            "grid_auto_flow": null,
            "grid_auto_rows": null,
            "grid_column": null,
            "grid_gap": null,
            "grid_row": null,
            "grid_template_areas": null,
            "grid_template_columns": null,
            "grid_template_rows": null,
            "height": null,
            "justify_content": null,
            "justify_items": null,
            "left": null,
            "margin": null,
            "max_height": null,
            "max_width": null,
            "min_height": null,
            "min_width": null,
            "object_fit": null,
            "object_position": null,
            "order": null,
            "overflow": null,
            "overflow_x": null,
            "overflow_y": null,
            "padding": null,
            "right": null,
            "top": null,
            "visibility": null,
            "width": null
          }
        },
        "f8651fbc209a421bad4d21c0c2268d01": {
          "model_module": "@jupyter-widgets/base",
          "model_name": "LayoutModel",
          "model_module_version": "1.2.0",
          "state": {
            "_model_module": "@jupyter-widgets/base",
            "_model_module_version": "1.2.0",
            "_model_name": "LayoutModel",
            "_view_count": null,
            "_view_module": "@jupyter-widgets/base",
            "_view_module_version": "1.2.0",
            "_view_name": "LayoutView",
            "align_content": null,
            "align_items": null,
            "align_self": null,
            "border": null,
            "bottom": null,
            "display": null,
            "flex": null,
            "flex_flow": null,
            "grid_area": null,
            "grid_auto_columns": null,
            "grid_auto_flow": null,
            "grid_auto_rows": null,
            "grid_column": null,
            "grid_gap": null,
            "grid_row": null,
            "grid_template_areas": null,
            "grid_template_columns": null,
            "grid_template_rows": null,
            "height": null,
            "justify_content": null,
            "justify_items": null,
            "left": null,
            "margin": null,
            "max_height": null,
            "max_width": null,
            "min_height": null,
            "min_width": null,
            "object_fit": null,
            "object_position": null,
            "order": null,
            "overflow": null,
            "overflow_x": null,
            "overflow_y": null,
            "padding": null,
            "right": null,
            "top": null,
            "visibility": null,
            "width": null
          }
        },
        "32a299e6cda14610b88eb05b55ca0e8d": {
          "model_module": "@jupyter-widgets/controls",
          "model_name": "DescriptionStyleModel",
          "model_module_version": "1.5.0",
          "state": {
            "_model_module": "@jupyter-widgets/controls",
            "_model_module_version": "1.5.0",
            "_model_name": "DescriptionStyleModel",
            "_view_count": null,
            "_view_module": "@jupyter-widgets/base",
            "_view_module_version": "1.2.0",
            "_view_name": "StyleView",
            "description_width": ""
          }
        },
        "d2d61131e5924f26a005bc152d28d670": {
          "model_module": "@jupyter-widgets/base",
          "model_name": "LayoutModel",
          "model_module_version": "1.2.0",
          "state": {
            "_model_module": "@jupyter-widgets/base",
            "_model_module_version": "1.2.0",
            "_model_name": "LayoutModel",
            "_view_count": null,
            "_view_module": "@jupyter-widgets/base",
            "_view_module_version": "1.2.0",
            "_view_name": "LayoutView",
            "align_content": null,
            "align_items": null,
            "align_self": null,
            "border": null,
            "bottom": null,
            "display": null,
            "flex": null,
            "flex_flow": null,
            "grid_area": null,
            "grid_auto_columns": null,
            "grid_auto_flow": null,
            "grid_auto_rows": null,
            "grid_column": null,
            "grid_gap": null,
            "grid_row": null,
            "grid_template_areas": null,
            "grid_template_columns": null,
            "grid_template_rows": null,
            "height": null,
            "justify_content": null,
            "justify_items": null,
            "left": null,
            "margin": null,
            "max_height": null,
            "max_width": null,
            "min_height": null,
            "min_width": null,
            "object_fit": null,
            "object_position": null,
            "order": null,
            "overflow": null,
            "overflow_x": null,
            "overflow_y": null,
            "padding": null,
            "right": null,
            "top": null,
            "visibility": null,
            "width": null
          }
        },
        "b1c2a2308cdb4591b60428e50be29e0d": {
          "model_module": "@jupyter-widgets/controls",
          "model_name": "ProgressStyleModel",
          "model_module_version": "1.5.0",
          "state": {
            "_model_module": "@jupyter-widgets/controls",
            "_model_module_version": "1.5.0",
            "_model_name": "ProgressStyleModel",
            "_view_count": null,
            "_view_module": "@jupyter-widgets/base",
            "_view_module_version": "1.2.0",
            "_view_name": "StyleView",
            "bar_color": null,
            "description_width": ""
          }
        },
        "2d34127a051c46d1beed33895ff9bf7b": {
          "model_module": "@jupyter-widgets/controls",
          "model_name": "VBoxModel",
          "model_module_version": "1.5.0",
          "state": {
            "_dom_classes": [],
            "_model_module": "@jupyter-widgets/controls",
            "_model_module_version": "1.5.0",
            "_model_name": "VBoxModel",
            "_view_count": null,
            "_view_module": "@jupyter-widgets/controls",
            "_view_module_version": "1.5.0",
            "_view_name": "VBoxView",
            "box_style": "",
            "children": [
              "IPY_MODEL_0b759c9c654a4f2b938dde06d740ec1e",
              "IPY_MODEL_34f21e415d8f4ca8baea70a9ab42fe39"
            ],
            "layout": "IPY_MODEL_e22afcd9bac54aa0a0f7592e3f543d2f"
          }
        },
        "0b759c9c654a4f2b938dde06d740ec1e": {
          "model_module": "@jupyter-widgets/controls",
          "model_name": "LabelModel",
          "model_module_version": "1.5.0",
          "state": {
            "_dom_classes": [],
            "_model_module": "@jupyter-widgets/controls",
            "_model_module_version": "1.5.0",
            "_model_name": "LabelModel",
            "_view_count": null,
            "_view_module": "@jupyter-widgets/controls",
            "_view_module_version": "1.5.0",
            "_view_name": "LabelView",
            "description": "",
            "description_tooltip": null,
            "layout": "IPY_MODEL_ed6a3ce742154f4e8370d109ba5fedd9",
            "placeholder": "​",
            "style": "IPY_MODEL_d385ed4b9c654cc4bd0a7f3100e82dcc",
            "value": "Waiting for wandb.init()...\r"
          }
        },
        "34f21e415d8f4ca8baea70a9ab42fe39": {
          "model_module": "@jupyter-widgets/controls",
          "model_name": "FloatProgressModel",
          "model_module_version": "1.5.0",
          "state": {
            "_dom_classes": [],
            "_model_module": "@jupyter-widgets/controls",
            "_model_module_version": "1.5.0",
            "_model_name": "FloatProgressModel",
            "_view_count": null,
            "_view_module": "@jupyter-widgets/controls",
            "_view_module_version": "1.5.0",
            "_view_name": "ProgressView",
            "bar_style": "",
            "description": "",
            "description_tooltip": null,
            "layout": "IPY_MODEL_34f5f04f93e44bdda3fec738fa7204cc",
            "max": 1,
            "min": 0,
            "orientation": "horizontal",
            "style": "IPY_MODEL_d2d7812d5db146219cd478aaa73a9680",
            "value": 1
          }
        },
        "e22afcd9bac54aa0a0f7592e3f543d2f": {
          "model_module": "@jupyter-widgets/base",
          "model_name": "LayoutModel",
          "model_module_version": "1.2.0",
          "state": {
            "_model_module": "@jupyter-widgets/base",
            "_model_module_version": "1.2.0",
            "_model_name": "LayoutModel",
            "_view_count": null,
            "_view_module": "@jupyter-widgets/base",
            "_view_module_version": "1.2.0",
            "_view_name": "LayoutView",
            "align_content": null,
            "align_items": null,
            "align_self": null,
            "border": null,
            "bottom": null,
            "display": null,
            "flex": null,
            "flex_flow": null,
            "grid_area": null,
            "grid_auto_columns": null,
            "grid_auto_flow": null,
            "grid_auto_rows": null,
            "grid_column": null,
            "grid_gap": null,
            "grid_row": null,
            "grid_template_areas": null,
            "grid_template_columns": null,
            "grid_template_rows": null,
            "height": null,
            "justify_content": null,
            "justify_items": null,
            "left": null,
            "margin": null,
            "max_height": null,
            "max_width": null,
            "min_height": null,
            "min_width": null,
            "object_fit": null,
            "object_position": null,
            "order": null,
            "overflow": null,
            "overflow_x": null,
            "overflow_y": null,
            "padding": null,
            "right": null,
            "top": null,
            "visibility": null,
            "width": null
          }
        },
        "ed6a3ce742154f4e8370d109ba5fedd9": {
          "model_module": "@jupyter-widgets/base",
          "model_name": "LayoutModel",
          "model_module_version": "1.2.0",
          "state": {
            "_model_module": "@jupyter-widgets/base",
            "_model_module_version": "1.2.0",
            "_model_name": "LayoutModel",
            "_view_count": null,
            "_view_module": "@jupyter-widgets/base",
            "_view_module_version": "1.2.0",
            "_view_name": "LayoutView",
            "align_content": null,
            "align_items": null,
            "align_self": null,
            "border": null,
            "bottom": null,
            "display": null,
            "flex": null,
            "flex_flow": null,
            "grid_area": null,
            "grid_auto_columns": null,
            "grid_auto_flow": null,
            "grid_auto_rows": null,
            "grid_column": null,
            "grid_gap": null,
            "grid_row": null,
            "grid_template_areas": null,
            "grid_template_columns": null,
            "grid_template_rows": null,
            "height": null,
            "justify_content": null,
            "justify_items": null,
            "left": null,
            "margin": null,
            "max_height": null,
            "max_width": null,
            "min_height": null,
            "min_width": null,
            "object_fit": null,
            "object_position": null,
            "order": null,
            "overflow": null,
            "overflow_x": null,
            "overflow_y": null,
            "padding": null,
            "right": null,
            "top": null,
            "visibility": null,
            "width": null
          }
        },
        "d385ed4b9c654cc4bd0a7f3100e82dcc": {
          "model_module": "@jupyter-widgets/controls",
          "model_name": "DescriptionStyleModel",
          "model_module_version": "1.5.0",
          "state": {
            "_model_module": "@jupyter-widgets/controls",
            "_model_module_version": "1.5.0",
            "_model_name": "DescriptionStyleModel",
            "_view_count": null,
            "_view_module": "@jupyter-widgets/base",
            "_view_module_version": "1.2.0",
            "_view_name": "StyleView",
            "description_width": ""
          }
        },
        "d2d7812d5db146219cd478aaa73a9680": {
          "model_module": "@jupyter-widgets/controls",
          "model_name": "ProgressStyleModel",
          "model_module_version": "1.5.0",
          "state": {
            "_model_module": "@jupyter-widgets/controls",
            "_model_module_version": "1.5.0",
            "_model_name": "ProgressStyleModel",
            "_view_count": null,
            "_view_module": "@jupyter-widgets/base",
            "_view_module_version": "1.2.0",
            "_view_name": "StyleView",
            "bar_color": null,
            "description_width": ""
          }
        },
        "fc34f44a5a544919abaa927dd7abf681": {
          "model_module": "@jupyter-widgets/controls",
          "model_name": "VBoxModel",
          "model_module_version": "1.5.0",
          "state": {
            "_dom_classes": [],
            "_model_module": "@jupyter-widgets/controls",
            "_model_module_version": "1.5.0",
            "_model_name": "VBoxModel",
            "_view_count": null,
            "_view_module": "@jupyter-widgets/controls",
            "_view_module_version": "1.5.0",
            "_view_name": "VBoxView",
            "box_style": "",
            "children": [
              "IPY_MODEL_47a2c901ac98422e9428f7cb04b8869f",
              "IPY_MODEL_895bb5eb1cfe497c8f099462806d1b56"
            ],
            "layout": "IPY_MODEL_904a7be1610141429b0315907accec4a"
          }
        },
        "47a2c901ac98422e9428f7cb04b8869f": {
          "model_module": "@jupyter-widgets/controls",
          "model_name": "LabelModel",
          "model_module_version": "1.5.0",
          "state": {
            "_dom_classes": [],
            "_model_module": "@jupyter-widgets/controls",
            "_model_module_version": "1.5.0",
            "_model_name": "LabelModel",
            "_view_count": null,
            "_view_module": "@jupyter-widgets/controls",
            "_view_module_version": "1.5.0",
            "_view_name": "LabelView",
            "description": "",
            "description_tooltip": null,
            "layout": "IPY_MODEL_e42805db61cb44c19b2cc18e5fc6caa4",
            "placeholder": "​",
            "style": "IPY_MODEL_ab81601bc6624a8087122e44cb59b345",
            "value": "0.012 MB of 0.012 MB uploaded\r"
          }
        },
        "895bb5eb1cfe497c8f099462806d1b56": {
          "model_module": "@jupyter-widgets/controls",
          "model_name": "FloatProgressModel",
          "model_module_version": "1.5.0",
          "state": {
            "_dom_classes": [],
            "_model_module": "@jupyter-widgets/controls",
            "_model_module_version": "1.5.0",
            "_model_name": "FloatProgressModel",
            "_view_count": null,
            "_view_module": "@jupyter-widgets/controls",
            "_view_module_version": "1.5.0",
            "_view_name": "ProgressView",
            "bar_style": "",
            "description": "",
            "description_tooltip": null,
            "layout": "IPY_MODEL_45b8d9bad49e48448e20274745175492",
            "max": 1,
            "min": 0,
            "orientation": "horizontal",
            "style": "IPY_MODEL_e761e3dd37614e009a1cc01cf100d7be",
            "value": 1
          }
        },
        "904a7be1610141429b0315907accec4a": {
          "model_module": "@jupyter-widgets/base",
          "model_name": "LayoutModel",
          "model_module_version": "1.2.0",
          "state": {
            "_model_module": "@jupyter-widgets/base",
            "_model_module_version": "1.2.0",
            "_model_name": "LayoutModel",
            "_view_count": null,
            "_view_module": "@jupyter-widgets/base",
            "_view_module_version": "1.2.0",
            "_view_name": "LayoutView",
            "align_content": null,
            "align_items": null,
            "align_self": null,
            "border": null,
            "bottom": null,
            "display": null,
            "flex": null,
            "flex_flow": null,
            "grid_area": null,
            "grid_auto_columns": null,
            "grid_auto_flow": null,
            "grid_auto_rows": null,
            "grid_column": null,
            "grid_gap": null,
            "grid_row": null,
            "grid_template_areas": null,
            "grid_template_columns": null,
            "grid_template_rows": null,
            "height": null,
            "justify_content": null,
            "justify_items": null,
            "left": null,
            "margin": null,
            "max_height": null,
            "max_width": null,
            "min_height": null,
            "min_width": null,
            "object_fit": null,
            "object_position": null,
            "order": null,
            "overflow": null,
            "overflow_x": null,
            "overflow_y": null,
            "padding": null,
            "right": null,
            "top": null,
            "visibility": null,
            "width": null
          }
        },
        "e42805db61cb44c19b2cc18e5fc6caa4": {
          "model_module": "@jupyter-widgets/base",
          "model_name": "LayoutModel",
          "model_module_version": "1.2.0",
          "state": {
            "_model_module": "@jupyter-widgets/base",
            "_model_module_version": "1.2.0",
            "_model_name": "LayoutModel",
            "_view_count": null,
            "_view_module": "@jupyter-widgets/base",
            "_view_module_version": "1.2.0",
            "_view_name": "LayoutView",
            "align_content": null,
            "align_items": null,
            "align_self": null,
            "border": null,
            "bottom": null,
            "display": null,
            "flex": null,
            "flex_flow": null,
            "grid_area": null,
            "grid_auto_columns": null,
            "grid_auto_flow": null,
            "grid_auto_rows": null,
            "grid_column": null,
            "grid_gap": null,
            "grid_row": null,
            "grid_template_areas": null,
            "grid_template_columns": null,
            "grid_template_rows": null,
            "height": null,
            "justify_content": null,
            "justify_items": null,
            "left": null,
            "margin": null,
            "max_height": null,
            "max_width": null,
            "min_height": null,
            "min_width": null,
            "object_fit": null,
            "object_position": null,
            "order": null,
            "overflow": null,
            "overflow_x": null,
            "overflow_y": null,
            "padding": null,
            "right": null,
            "top": null,
            "visibility": null,
            "width": null
          }
        },
        "ab81601bc6624a8087122e44cb59b345": {
          "model_module": "@jupyter-widgets/controls",
          "model_name": "DescriptionStyleModel",
          "model_module_version": "1.5.0",
          "state": {
            "_model_module": "@jupyter-widgets/controls",
            "_model_module_version": "1.5.0",
            "_model_name": "DescriptionStyleModel",
            "_view_count": null,
            "_view_module": "@jupyter-widgets/base",
            "_view_module_version": "1.2.0",
            "_view_name": "StyleView",
            "description_width": ""
          }
        },
        "45b8d9bad49e48448e20274745175492": {
          "model_module": "@jupyter-widgets/base",
          "model_name": "LayoutModel",
          "model_module_version": "1.2.0",
          "state": {
            "_model_module": "@jupyter-widgets/base",
            "_model_module_version": "1.2.0",
            "_model_name": "LayoutModel",
            "_view_count": null,
            "_view_module": "@jupyter-widgets/base",
            "_view_module_version": "1.2.0",
            "_view_name": "LayoutView",
            "align_content": null,
            "align_items": null,
            "align_self": null,
            "border": null,
            "bottom": null,
            "display": null,
            "flex": null,
            "flex_flow": null,
            "grid_area": null,
            "grid_auto_columns": null,
            "grid_auto_flow": null,
            "grid_auto_rows": null,
            "grid_column": null,
            "grid_gap": null,
            "grid_row": null,
            "grid_template_areas": null,
            "grid_template_columns": null,
            "grid_template_rows": null,
            "height": null,
            "justify_content": null,
            "justify_items": null,
            "left": null,
            "margin": null,
            "max_height": null,
            "max_width": null,
            "min_height": null,
            "min_width": null,
            "object_fit": null,
            "object_position": null,
            "order": null,
            "overflow": null,
            "overflow_x": null,
            "overflow_y": null,
            "padding": null,
            "right": null,
            "top": null,
            "visibility": null,
            "width": null
          }
        },
        "e761e3dd37614e009a1cc01cf100d7be": {
          "model_module": "@jupyter-widgets/controls",
          "model_name": "ProgressStyleModel",
          "model_module_version": "1.5.0",
          "state": {
            "_model_module": "@jupyter-widgets/controls",
            "_model_module_version": "1.5.0",
            "_model_name": "ProgressStyleModel",
            "_view_count": null,
            "_view_module": "@jupyter-widgets/base",
            "_view_module_version": "1.2.0",
            "_view_name": "StyleView",
            "bar_color": null,
            "description_width": ""
          }
        },
        "96adfb1d2d814e288f83d636af5e0b6c": {
          "model_module": "@jupyter-widgets/controls",
          "model_name": "VBoxModel",
          "model_module_version": "1.5.0",
          "state": {
            "_dom_classes": [],
            "_model_module": "@jupyter-widgets/controls",
            "_model_module_version": "1.5.0",
            "_model_name": "VBoxModel",
            "_view_count": null,
            "_view_module": "@jupyter-widgets/controls",
            "_view_module_version": "1.5.0",
            "_view_name": "VBoxView",
            "box_style": "",
            "children": [
              "IPY_MODEL_867e638005da41ba8bf8220bbcffd7af",
              "IPY_MODEL_53178b243a77482d9bf2c032f6de2798"
            ],
            "layout": "IPY_MODEL_c3099a56fc024f3ab8ad190bde2a7b2b"
          }
        },
        "867e638005da41ba8bf8220bbcffd7af": {
          "model_module": "@jupyter-widgets/controls",
          "model_name": "LabelModel",
          "model_module_version": "1.5.0",
          "state": {
            "_dom_classes": [],
            "_model_module": "@jupyter-widgets/controls",
            "_model_module_version": "1.5.0",
            "_model_name": "LabelModel",
            "_view_count": null,
            "_view_module": "@jupyter-widgets/controls",
            "_view_module_version": "1.5.0",
            "_view_name": "LabelView",
            "description": "",
            "description_tooltip": null,
            "layout": "IPY_MODEL_f7d0e0fa8d6a4861a21666bc93d25c78",
            "placeholder": "​",
            "style": "IPY_MODEL_6be2c134686449799e346db8a68bc7ad",
            "value": "0.012 MB of 0.012 MB uploaded\r"
          }
        },
        "53178b243a77482d9bf2c032f6de2798": {
          "model_module": "@jupyter-widgets/controls",
          "model_name": "FloatProgressModel",
          "model_module_version": "1.5.0",
          "state": {
            "_dom_classes": [],
            "_model_module": "@jupyter-widgets/controls",
            "_model_module_version": "1.5.0",
            "_model_name": "FloatProgressModel",
            "_view_count": null,
            "_view_module": "@jupyter-widgets/controls",
            "_view_module_version": "1.5.0",
            "_view_name": "ProgressView",
            "bar_style": "",
            "description": "",
            "description_tooltip": null,
            "layout": "IPY_MODEL_894554cfe1a34663a6e05d6126e055c4",
            "max": 1,
            "min": 0,
            "orientation": "horizontal",
            "style": "IPY_MODEL_4e7870298489458f93ffba7cff6e69d7",
            "value": 1
          }
        },
        "c3099a56fc024f3ab8ad190bde2a7b2b": {
          "model_module": "@jupyter-widgets/base",
          "model_name": "LayoutModel",
          "model_module_version": "1.2.0",
          "state": {
            "_model_module": "@jupyter-widgets/base",
            "_model_module_version": "1.2.0",
            "_model_name": "LayoutModel",
            "_view_count": null,
            "_view_module": "@jupyter-widgets/base",
            "_view_module_version": "1.2.0",
            "_view_name": "LayoutView",
            "align_content": null,
            "align_items": null,
            "align_self": null,
            "border": null,
            "bottom": null,
            "display": null,
            "flex": null,
            "flex_flow": null,
            "grid_area": null,
            "grid_auto_columns": null,
            "grid_auto_flow": null,
            "grid_auto_rows": null,
            "grid_column": null,
            "grid_gap": null,
            "grid_row": null,
            "grid_template_areas": null,
            "grid_template_columns": null,
            "grid_template_rows": null,
            "height": null,
            "justify_content": null,
            "justify_items": null,
            "left": null,
            "margin": null,
            "max_height": null,
            "max_width": null,
            "min_height": null,
            "min_width": null,
            "object_fit": null,
            "object_position": null,
            "order": null,
            "overflow": null,
            "overflow_x": null,
            "overflow_y": null,
            "padding": null,
            "right": null,
            "top": null,
            "visibility": null,
            "width": null
          }
        },
        "f7d0e0fa8d6a4861a21666bc93d25c78": {
          "model_module": "@jupyter-widgets/base",
          "model_name": "LayoutModel",
          "model_module_version": "1.2.0",
          "state": {
            "_model_module": "@jupyter-widgets/base",
            "_model_module_version": "1.2.0",
            "_model_name": "LayoutModel",
            "_view_count": null,
            "_view_module": "@jupyter-widgets/base",
            "_view_module_version": "1.2.0",
            "_view_name": "LayoutView",
            "align_content": null,
            "align_items": null,
            "align_self": null,
            "border": null,
            "bottom": null,
            "display": null,
            "flex": null,
            "flex_flow": null,
            "grid_area": null,
            "grid_auto_columns": null,
            "grid_auto_flow": null,
            "grid_auto_rows": null,
            "grid_column": null,
            "grid_gap": null,
            "grid_row": null,
            "grid_template_areas": null,
            "grid_template_columns": null,
            "grid_template_rows": null,
            "height": null,
            "justify_content": null,
            "justify_items": null,
            "left": null,
            "margin": null,
            "max_height": null,
            "max_width": null,
            "min_height": null,
            "min_width": null,
            "object_fit": null,
            "object_position": null,
            "order": null,
            "overflow": null,
            "overflow_x": null,
            "overflow_y": null,
            "padding": null,
            "right": null,
            "top": null,
            "visibility": null,
            "width": null
          }
        },
        "6be2c134686449799e346db8a68bc7ad": {
          "model_module": "@jupyter-widgets/controls",
          "model_name": "DescriptionStyleModel",
          "model_module_version": "1.5.0",
          "state": {
            "_model_module": "@jupyter-widgets/controls",
            "_model_module_version": "1.5.0",
            "_model_name": "DescriptionStyleModel",
            "_view_count": null,
            "_view_module": "@jupyter-widgets/base",
            "_view_module_version": "1.2.0",
            "_view_name": "StyleView",
            "description_width": ""
          }
        },
        "894554cfe1a34663a6e05d6126e055c4": {
          "model_module": "@jupyter-widgets/base",
          "model_name": "LayoutModel",
          "model_module_version": "1.2.0",
          "state": {
            "_model_module": "@jupyter-widgets/base",
            "_model_module_version": "1.2.0",
            "_model_name": "LayoutModel",
            "_view_count": null,
            "_view_module": "@jupyter-widgets/base",
            "_view_module_version": "1.2.0",
            "_view_name": "LayoutView",
            "align_content": null,
            "align_items": null,
            "align_self": null,
            "border": null,
            "bottom": null,
            "display": null,
            "flex": null,
            "flex_flow": null,
            "grid_area": null,
            "grid_auto_columns": null,
            "grid_auto_flow": null,
            "grid_auto_rows": null,
            "grid_column": null,
            "grid_gap": null,
            "grid_row": null,
            "grid_template_areas": null,
            "grid_template_columns": null,
            "grid_template_rows": null,
            "height": null,
            "justify_content": null,
            "justify_items": null,
            "left": null,
            "margin": null,
            "max_height": null,
            "max_width": null,
            "min_height": null,
            "min_width": null,
            "object_fit": null,
            "object_position": null,
            "order": null,
            "overflow": null,
            "overflow_x": null,
            "overflow_y": null,
            "padding": null,
            "right": null,
            "top": null,
            "visibility": null,
            "width": null
          }
        },
        "4e7870298489458f93ffba7cff6e69d7": {
          "model_module": "@jupyter-widgets/controls",
          "model_name": "ProgressStyleModel",
          "model_module_version": "1.5.0",
          "state": {
            "_model_module": "@jupyter-widgets/controls",
            "_model_module_version": "1.5.0",
            "_model_name": "ProgressStyleModel",
            "_view_count": null,
            "_view_module": "@jupyter-widgets/base",
            "_view_module_version": "1.2.0",
            "_view_name": "StyleView",
            "bar_color": null,
            "description_width": ""
          }
        },
        "4526f97309a040eba6d2950710e742be": {
          "model_module": "@jupyter-widgets/controls",
          "model_name": "VBoxModel",
          "model_module_version": "1.5.0",
          "state": {
            "_dom_classes": [],
            "_model_module": "@jupyter-widgets/controls",
            "_model_module_version": "1.5.0",
            "_model_name": "VBoxModel",
            "_view_count": null,
            "_view_module": "@jupyter-widgets/controls",
            "_view_module_version": "1.5.0",
            "_view_name": "VBoxView",
            "box_style": "",
            "children": [
              "IPY_MODEL_cb2c7ce22d394f88bcc51b07f428a75d",
              "IPY_MODEL_0c6a5a2105134e1b8f6c12075df83998"
            ],
            "layout": "IPY_MODEL_d555db47cd2f40549f71f9b966e4729b"
          }
        },
        "cb2c7ce22d394f88bcc51b07f428a75d": {
          "model_module": "@jupyter-widgets/controls",
          "model_name": "LabelModel",
          "model_module_version": "1.5.0",
          "state": {
            "_dom_classes": [],
            "_model_module": "@jupyter-widgets/controls",
            "_model_module_version": "1.5.0",
            "_model_name": "LabelModel",
            "_view_count": null,
            "_view_module": "@jupyter-widgets/controls",
            "_view_module_version": "1.5.0",
            "_view_name": "LabelView",
            "description": "",
            "description_tooltip": null,
            "layout": "IPY_MODEL_0836a0ef2ced449d8553bd6a6600e157",
            "placeholder": "​",
            "style": "IPY_MODEL_a60c4807d7424ce4b9deb938859748cf",
            "value": "0.012 MB of 0.012 MB uploaded\r"
          }
        },
        "0c6a5a2105134e1b8f6c12075df83998": {
          "model_module": "@jupyter-widgets/controls",
          "model_name": "FloatProgressModel",
          "model_module_version": "1.5.0",
          "state": {
            "_dom_classes": [],
            "_model_module": "@jupyter-widgets/controls",
            "_model_module_version": "1.5.0",
            "_model_name": "FloatProgressModel",
            "_view_count": null,
            "_view_module": "@jupyter-widgets/controls",
            "_view_module_version": "1.5.0",
            "_view_name": "ProgressView",
            "bar_style": "",
            "description": "",
            "description_tooltip": null,
            "layout": "IPY_MODEL_c843107760424b17b68348911ecdef47",
            "max": 1,
            "min": 0,
            "orientation": "horizontal",
            "style": "IPY_MODEL_3f88769a65c94f078e0650429047b8d0",
            "value": 1
          }
        },
        "d555db47cd2f40549f71f9b966e4729b": {
          "model_module": "@jupyter-widgets/base",
          "model_name": "LayoutModel",
          "model_module_version": "1.2.0",
          "state": {
            "_model_module": "@jupyter-widgets/base",
            "_model_module_version": "1.2.0",
            "_model_name": "LayoutModel",
            "_view_count": null,
            "_view_module": "@jupyter-widgets/base",
            "_view_module_version": "1.2.0",
            "_view_name": "LayoutView",
            "align_content": null,
            "align_items": null,
            "align_self": null,
            "border": null,
            "bottom": null,
            "display": null,
            "flex": null,
            "flex_flow": null,
            "grid_area": null,
            "grid_auto_columns": null,
            "grid_auto_flow": null,
            "grid_auto_rows": null,
            "grid_column": null,
            "grid_gap": null,
            "grid_row": null,
            "grid_template_areas": null,
            "grid_template_columns": null,
            "grid_template_rows": null,
            "height": null,
            "justify_content": null,
            "justify_items": null,
            "left": null,
            "margin": null,
            "max_height": null,
            "max_width": null,
            "min_height": null,
            "min_width": null,
            "object_fit": null,
            "object_position": null,
            "order": null,
            "overflow": null,
            "overflow_x": null,
            "overflow_y": null,
            "padding": null,
            "right": null,
            "top": null,
            "visibility": null,
            "width": null
          }
        },
        "0836a0ef2ced449d8553bd6a6600e157": {
          "model_module": "@jupyter-widgets/base",
          "model_name": "LayoutModel",
          "model_module_version": "1.2.0",
          "state": {
            "_model_module": "@jupyter-widgets/base",
            "_model_module_version": "1.2.0",
            "_model_name": "LayoutModel",
            "_view_count": null,
            "_view_module": "@jupyter-widgets/base",
            "_view_module_version": "1.2.0",
            "_view_name": "LayoutView",
            "align_content": null,
            "align_items": null,
            "align_self": null,
            "border": null,
            "bottom": null,
            "display": null,
            "flex": null,
            "flex_flow": null,
            "grid_area": null,
            "grid_auto_columns": null,
            "grid_auto_flow": null,
            "grid_auto_rows": null,
            "grid_column": null,
            "grid_gap": null,
            "grid_row": null,
            "grid_template_areas": null,
            "grid_template_columns": null,
            "grid_template_rows": null,
            "height": null,
            "justify_content": null,
            "justify_items": null,
            "left": null,
            "margin": null,
            "max_height": null,
            "max_width": null,
            "min_height": null,
            "min_width": null,
            "object_fit": null,
            "object_position": null,
            "order": null,
            "overflow": null,
            "overflow_x": null,
            "overflow_y": null,
            "padding": null,
            "right": null,
            "top": null,
            "visibility": null,
            "width": null
          }
        },
        "a60c4807d7424ce4b9deb938859748cf": {
          "model_module": "@jupyter-widgets/controls",
          "model_name": "DescriptionStyleModel",
          "model_module_version": "1.5.0",
          "state": {
            "_model_module": "@jupyter-widgets/controls",
            "_model_module_version": "1.5.0",
            "_model_name": "DescriptionStyleModel",
            "_view_count": null,
            "_view_module": "@jupyter-widgets/base",
            "_view_module_version": "1.2.0",
            "_view_name": "StyleView",
            "description_width": ""
          }
        },
        "c843107760424b17b68348911ecdef47": {
          "model_module": "@jupyter-widgets/base",
          "model_name": "LayoutModel",
          "model_module_version": "1.2.0",
          "state": {
            "_model_module": "@jupyter-widgets/base",
            "_model_module_version": "1.2.0",
            "_model_name": "LayoutModel",
            "_view_count": null,
            "_view_module": "@jupyter-widgets/base",
            "_view_module_version": "1.2.0",
            "_view_name": "LayoutView",
            "align_content": null,
            "align_items": null,
            "align_self": null,
            "border": null,
            "bottom": null,
            "display": null,
            "flex": null,
            "flex_flow": null,
            "grid_area": null,
            "grid_auto_columns": null,
            "grid_auto_flow": null,
            "grid_auto_rows": null,
            "grid_column": null,
            "grid_gap": null,
            "grid_row": null,
            "grid_template_areas": null,
            "grid_template_columns": null,
            "grid_template_rows": null,
            "height": null,
            "justify_content": null,
            "justify_items": null,
            "left": null,
            "margin": null,
            "max_height": null,
            "max_width": null,
            "min_height": null,
            "min_width": null,
            "object_fit": null,
            "object_position": null,
            "order": null,
            "overflow": null,
            "overflow_x": null,
            "overflow_y": null,
            "padding": null,
            "right": null,
            "top": null,
            "visibility": null,
            "width": null
          }
        },
        "3f88769a65c94f078e0650429047b8d0": {
          "model_module": "@jupyter-widgets/controls",
          "model_name": "ProgressStyleModel",
          "model_module_version": "1.5.0",
          "state": {
            "_model_module": "@jupyter-widgets/controls",
            "_model_module_version": "1.5.0",
            "_model_name": "ProgressStyleModel",
            "_view_count": null,
            "_view_module": "@jupyter-widgets/base",
            "_view_module_version": "1.2.0",
            "_view_name": "StyleView",
            "bar_color": null,
            "description_width": ""
          }
        }
      }
    }
  },
  "nbformat": 4,
  "nbformat_minor": 0
}